{
  "nbformat": 4,
  "nbformat_minor": 0,
  "metadata": {
    "colab": {
      "provenance": [],
      "authorship_tag": "ABX9TyP1TfTGnPjn/u9o+Yb6sMVp",
      "include_colab_link": true
    },
    "kernelspec": {
      "name": "python3",
      "display_name": "Python 3"
    },
    "language_info": {
      "name": "python"
    }
  },
  "cells": [
    {
      "cell_type": "markdown",
      "metadata": {
        "id": "view-in-github",
        "colab_type": "text"
      },
      "source": [
        "<a href=\"https://colab.research.google.com/github/alibekk93/soccer_players_clusters/blob/main/DataCollection.ipynb\" target=\"_parent\"><img src=\"https://colab.research.google.com/assets/colab-badge.svg\" alt=\"Open In Colab\"/></a>"
      ]
    },
    {
      "cell_type": "code",
      "source": [
        "!git clone https://github.com/alibekk93/soccer_players_clusters\n",
        "!cd soccer_players_clusters"
      ],
      "metadata": {
        "id": "VvI-fNWh5GPp"
      },
      "execution_count": null,
      "outputs": []
    },
    {
      "cell_type": "code",
      "source": [
        "# install soccerdata\n",
        "!pip install soccerdata"
      ],
      "metadata": {
        "colab": {
          "base_uri": "https://localhost:8080/"
        },
        "id": "5gSdxXHg5GKc",
        "outputId": "02d5d43a-0df6-4ba8-bb5c-cc69739d852a"
      },
      "execution_count": 20,
      "outputs": [
        {
          "output_type": "stream",
          "name": "stdout",
          "text": [
            "Requirement already satisfied: soccerdata in /usr/local/lib/python3.11/dist-packages (1.8.6)\n",
            "Requirement already satisfied: PySocks<2.0.0,>=1.7.1 in /usr/local/lib/python3.11/dist-packages (from soccerdata) (1.7.1)\n",
            "Requirement already satisfied: Unidecode<2.0.0,>=1.2.0 in /usr/local/lib/python3.11/dist-packages (from soccerdata) (1.3.8)\n",
            "Requirement already satisfied: cloudscraper<2.0.0,>=1.2.71 in /usr/local/lib/python3.11/dist-packages (from soccerdata) (1.2.71)\n",
            "Requirement already satisfied: html5lib<2.0,>=1.1 in /usr/local/lib/python3.11/dist-packages (from soccerdata) (1.1)\n",
            "Requirement already satisfied: lxml<5.0.0,>=4.9.3 in /usr/local/lib/python3.11/dist-packages (from soccerdata) (4.9.4)\n",
            "Requirement already satisfied: packaging<25.0,>=24.1 in /usr/local/lib/python3.11/dist-packages (from soccerdata) (24.2)\n",
            "Requirement already satisfied: pandas!=2.1.0,<3.0.0,>=2.0.0 in /usr/local/lib/python3.11/dist-packages (from soccerdata) (2.2.2)\n",
            "Requirement already satisfied: requests<3.0,>=2.23 in /usr/local/lib/python3.11/dist-packages (from soccerdata) (2.32.3)\n",
            "Requirement already satisfied: rich<14.0.0,>=13.0.0 in /usr/local/lib/python3.11/dist-packages (from soccerdata) (13.9.4)\n",
            "Requirement already satisfied: undetected-chromedriver<4.0.0,>=3.5.0 in /usr/local/lib/python3.11/dist-packages (from soccerdata) (3.5.5)\n",
            "Requirement already satisfied: unicode<3.0,>=2.7 in /usr/local/lib/python3.11/dist-packages (from soccerdata) (2.9)\n",
            "Requirement already satisfied: pyparsing>=2.4.7 in /usr/local/lib/python3.11/dist-packages (from cloudscraper<2.0.0,>=1.2.71->soccerdata) (3.2.1)\n",
            "Requirement already satisfied: requests-toolbelt>=0.9.1 in /usr/local/lib/python3.11/dist-packages (from cloudscraper<2.0.0,>=1.2.71->soccerdata) (1.0.0)\n",
            "Requirement already satisfied: six>=1.9 in /usr/local/lib/python3.11/dist-packages (from html5lib<2.0,>=1.1->soccerdata) (1.17.0)\n",
            "Requirement already satisfied: webencodings in /usr/local/lib/python3.11/dist-packages (from html5lib<2.0,>=1.1->soccerdata) (0.5.1)\n",
            "Requirement already satisfied: numpy>=1.23.2 in /usr/local/lib/python3.11/dist-packages (from pandas!=2.1.0,<3.0.0,>=2.0.0->soccerdata) (1.26.4)\n",
            "Requirement already satisfied: python-dateutil>=2.8.2 in /usr/local/lib/python3.11/dist-packages (from pandas!=2.1.0,<3.0.0,>=2.0.0->soccerdata) (2.8.2)\n",
            "Requirement already satisfied: pytz>=2020.1 in /usr/local/lib/python3.11/dist-packages (from pandas!=2.1.0,<3.0.0,>=2.0.0->soccerdata) (2024.2)\n",
            "Requirement already satisfied: tzdata>=2022.7 in /usr/local/lib/python3.11/dist-packages (from pandas!=2.1.0,<3.0.0,>=2.0.0->soccerdata) (2025.1)\n",
            "Requirement already satisfied: charset-normalizer<4,>=2 in /usr/local/lib/python3.11/dist-packages (from requests<3.0,>=2.23->soccerdata) (3.4.1)\n",
            "Requirement already satisfied: idna<4,>=2.5 in /usr/local/lib/python3.11/dist-packages (from requests<3.0,>=2.23->soccerdata) (3.10)\n",
            "Requirement already satisfied: urllib3<3,>=1.21.1 in /usr/local/lib/python3.11/dist-packages (from requests<3.0,>=2.23->soccerdata) (2.3.0)\n",
            "Requirement already satisfied: certifi>=2017.4.17 in /usr/local/lib/python3.11/dist-packages (from requests<3.0,>=2.23->soccerdata) (2024.12.14)\n",
            "Requirement already satisfied: markdown-it-py>=2.2.0 in /usr/local/lib/python3.11/dist-packages (from rich<14.0.0,>=13.0.0->soccerdata) (3.0.0)\n",
            "Requirement already satisfied: pygments<3.0.0,>=2.13.0 in /usr/local/lib/python3.11/dist-packages (from rich<14.0.0,>=13.0.0->soccerdata) (2.18.0)\n",
            "Requirement already satisfied: selenium>=4.9.0 in /usr/local/lib/python3.11/dist-packages (from undetected-chromedriver<4.0.0,>=3.5.0->soccerdata) (4.28.1)\n",
            "Requirement already satisfied: websockets in /usr/local/lib/python3.11/dist-packages (from undetected-chromedriver<4.0.0,>=3.5.0->soccerdata) (14.2)\n",
            "Requirement already satisfied: mdurl~=0.1 in /usr/local/lib/python3.11/dist-packages (from markdown-it-py>=2.2.0->rich<14.0.0,>=13.0.0->soccerdata) (0.1.2)\n",
            "Requirement already satisfied: trio~=0.17 in /usr/local/lib/python3.11/dist-packages (from selenium>=4.9.0->undetected-chromedriver<4.0.0,>=3.5.0->soccerdata) (0.28.0)\n",
            "Requirement already satisfied: trio-websocket~=0.9 in /usr/local/lib/python3.11/dist-packages (from selenium>=4.9.0->undetected-chromedriver<4.0.0,>=3.5.0->soccerdata) (0.11.1)\n",
            "Requirement already satisfied: typing_extensions~=4.9 in /usr/local/lib/python3.11/dist-packages (from selenium>=4.9.0->undetected-chromedriver<4.0.0,>=3.5.0->soccerdata) (4.12.2)\n",
            "Requirement already satisfied: websocket-client~=1.8 in /usr/local/lib/python3.11/dist-packages (from selenium>=4.9.0->undetected-chromedriver<4.0.0,>=3.5.0->soccerdata) (1.8.0)\n",
            "Requirement already satisfied: attrs>=23.2.0 in /usr/local/lib/python3.11/dist-packages (from trio~=0.17->selenium>=4.9.0->undetected-chromedriver<4.0.0,>=3.5.0->soccerdata) (24.3.0)\n",
            "Requirement already satisfied: sortedcontainers in /usr/local/lib/python3.11/dist-packages (from trio~=0.17->selenium>=4.9.0->undetected-chromedriver<4.0.0,>=3.5.0->soccerdata) (2.4.0)\n",
            "Requirement already satisfied: outcome in /usr/local/lib/python3.11/dist-packages (from trio~=0.17->selenium>=4.9.0->undetected-chromedriver<4.0.0,>=3.5.0->soccerdata) (1.3.0.post0)\n",
            "Requirement already satisfied: sniffio>=1.3.0 in /usr/local/lib/python3.11/dist-packages (from trio~=0.17->selenium>=4.9.0->undetected-chromedriver<4.0.0,>=3.5.0->soccerdata) (1.3.1)\n",
            "Requirement already satisfied: wsproto>=0.14 in /usr/local/lib/python3.11/dist-packages (from trio-websocket~=0.9->selenium>=4.9.0->undetected-chromedriver<4.0.0,>=3.5.0->soccerdata) (1.2.0)\n",
            "Requirement already satisfied: h11<1,>=0.9.0 in /usr/local/lib/python3.11/dist-packages (from wsproto>=0.14->trio-websocket~=0.9->selenium>=4.9.0->undetected-chromedriver<4.0.0,>=3.5.0->soccerdata) (0.14.0)\n"
          ]
        }
      ]
    },
    {
      "cell_type": "code",
      "source": [
        "from soccerdata import FBref\n",
        "fbref = FBref(leagues='ENG-Premier League',\n",
        "              seasons=[23])"
      ],
      "metadata": {
        "colab": {
          "base_uri": "https://localhost:8080/",
          "height": 52
        },
        "id": "iIxriYpn5Fxw",
        "outputId": "20de46e1-f8b2-462e-d226-35ba146eef60"
      },
      "execution_count": 36,
      "outputs": [
        {
          "output_type": "display_data",
          "data": {
            "text/plain": [
              "\u001b[2;36m[01/27/25 22:46:25]\u001b[0m\u001b[2;36m \u001b[0m\u001b[34mINFO    \u001b[0m Saving cached data to \u001b[35m/root/soccerdata/data/\u001b[0m\u001b[95mFBref\u001b[0m                       \u001b]8;id=262121;file:///usr/local/lib/python3.11/dist-packages/soccerdata/_common.py\u001b\\\u001b[2m_common.py\u001b[0m\u001b]8;;\u001b\\\u001b[2m:\u001b[0m\u001b]8;id=17817;file:///usr/local/lib/python3.11/dist-packages/soccerdata/_common.py#263\u001b\\\u001b[2m263\u001b[0m\u001b]8;;\u001b\\\n"
            ],
            "text/html": [
              "<pre style=\"white-space:pre;overflow-x:auto;line-height:normal;font-family:Menlo,'DejaVu Sans Mono',consolas,'Courier New',monospace\"><span style=\"color: #7fbfbf; text-decoration-color: #7fbfbf\">[01/27/25 22:46:25] </span><span style=\"color: #000080; text-decoration-color: #000080\">INFO    </span> Saving cached data to <span style=\"color: #800080; text-decoration-color: #800080\">/root/soccerdata/data/</span><span style=\"color: #ff00ff; text-decoration-color: #ff00ff\">FBref</span>                       <a href=\"file:///usr/local/lib/python3.11/dist-packages/soccerdata/_common.py\" target=\"_blank\"><span style=\"color: #7f7f7f; text-decoration-color: #7f7f7f\">_common.py</span></a><span style=\"color: #7f7f7f; text-decoration-color: #7f7f7f\">:</span><a href=\"file:///usr/local/lib/python3.11/dist-packages/soccerdata/_common.py#263\" target=\"_blank\"><span style=\"color: #7f7f7f; text-decoration-color: #7f7f7f\">263</span></a>\n",
              "</pre>\n"
            ]
          },
          "metadata": {}
        }
      ]
    },
    {
      "cell_type": "code",
      "source": [
        "ManCity23 = fbref.read_team_match_stats(team='Manchester City')"
      ],
      "metadata": {
        "colab": {
          "base_uri": "https://localhost:8080/",
          "height": 163
        },
        "id": "pY6UtgOY6zUF",
        "outputId": "c42e30b9-15b5-40ea-d6c8-54625eb94637"
      },
      "execution_count": 38,
      "outputs": [
        {
          "output_type": "display_data",
          "data": {
            "text/plain": [
              "\u001b[2;36m[01/27/25 22:47:10]\u001b[0m\u001b[2;36m \u001b[0m\u001b[33mWARNING \u001b[0m \u001b[35m/usr/local/lib/python3.11/dist-packages/soccerdata/\u001b[0m\u001b[95mfbref.py\u001b[0m:\u001b[1;36m165\u001b[0m:       \u001b]8;id=75984;file:///usr/lib/python3.11/warnings.py\u001b\\\u001b[2mwarnings.py\u001b[0m\u001b]8;;\u001b\\\u001b[2m:\u001b[0m\u001b]8;id=625554;file:///usr/lib/python3.11/warnings.py#110\u001b\\\u001b[2m110\u001b[0m\u001b]8;;\u001b\\\n",
              "\u001b[2;36m                    \u001b[0m         FutureWarning: The behavior of DataFrame concatenation with empty or   \u001b[2m               \u001b[0m\n",
              "\u001b[2;36m                    \u001b[0m         all-NA entries is deprecated. In a future version, this will no longer \u001b[2m               \u001b[0m\n",
              "\u001b[2;36m                    \u001b[0m         exclude empty or all-NA columns when determining the result dtypes. To \u001b[2m               \u001b[0m\n",
              "\u001b[2;36m                    \u001b[0m         retain the old behavior, exclude the relevant entries before the       \u001b[2m               \u001b[0m\n",
              "\u001b[2;36m                    \u001b[0m         concat operation.                                                      \u001b[2m               \u001b[0m\n",
              "\u001b[2;36m                    \u001b[0m           \u001b[1;35mpd.concat\u001b[0m\u001b[1m(\u001b[0mdfs\u001b[1m)\u001b[0m                                                       \u001b[2m               \u001b[0m\n",
              "\u001b[2;36m                    \u001b[0m                                                                                \u001b[2m               \u001b[0m\n"
            ],
            "text/html": [
              "<pre style=\"white-space:pre;overflow-x:auto;line-height:normal;font-family:Menlo,'DejaVu Sans Mono',consolas,'Courier New',monospace\"><span style=\"color: #7fbfbf; text-decoration-color: #7fbfbf\">[01/27/25 22:47:10] </span><span style=\"color: #808000; text-decoration-color: #808000\">WARNING </span> <span style=\"color: #800080; text-decoration-color: #800080\">/usr/local/lib/python3.11/dist-packages/soccerdata/</span><span style=\"color: #ff00ff; text-decoration-color: #ff00ff\">fbref.py</span>:<span style=\"color: #008080; text-decoration-color: #008080; font-weight: bold\">165</span>:       <a href=\"file:///usr/lib/python3.11/warnings.py\" target=\"_blank\"><span style=\"color: #7f7f7f; text-decoration-color: #7f7f7f\">warnings.py</span></a><span style=\"color: #7f7f7f; text-decoration-color: #7f7f7f\">:</span><a href=\"file:///usr/lib/python3.11/warnings.py#110\" target=\"_blank\"><span style=\"color: #7f7f7f; text-decoration-color: #7f7f7f\">110</span></a>\n",
              "<span style=\"color: #7fbfbf; text-decoration-color: #7fbfbf\">                    </span>         FutureWarning: The behavior of DataFrame concatenation with empty or   <span style=\"color: #7f7f7f; text-decoration-color: #7f7f7f\">               </span>\n",
              "<span style=\"color: #7fbfbf; text-decoration-color: #7fbfbf\">                    </span>         all-NA entries is deprecated. In a future version, this will no longer <span style=\"color: #7f7f7f; text-decoration-color: #7f7f7f\">               </span>\n",
              "<span style=\"color: #7fbfbf; text-decoration-color: #7fbfbf\">                    </span>         exclude empty or all-NA columns when determining the result dtypes. To <span style=\"color: #7f7f7f; text-decoration-color: #7f7f7f\">               </span>\n",
              "<span style=\"color: #7fbfbf; text-decoration-color: #7fbfbf\">                    </span>         retain the old behavior, exclude the relevant entries before the       <span style=\"color: #7f7f7f; text-decoration-color: #7f7f7f\">               </span>\n",
              "<span style=\"color: #7fbfbf; text-decoration-color: #7fbfbf\">                    </span>         concat operation.                                                      <span style=\"color: #7f7f7f; text-decoration-color: #7f7f7f\">               </span>\n",
              "<span style=\"color: #7fbfbf; text-decoration-color: #7fbfbf\">                    </span>           <span style=\"color: #800080; text-decoration-color: #800080; font-weight: bold\">pd.concat</span><span style=\"font-weight: bold\">(</span>dfs<span style=\"font-weight: bold\">)</span>                                                       <span style=\"color: #7f7f7f; text-decoration-color: #7f7f7f\">               </span>\n",
              "<span style=\"color: #7fbfbf; text-decoration-color: #7fbfbf\">                    </span>                                                                                <span style=\"color: #7f7f7f; text-decoration-color: #7f7f7f\">               </span>\n",
              "</pre>\n"
            ]
          },
          "metadata": {}
        }
      ]
    },
    {
      "cell_type": "code",
      "source": [
        "ManCity23_players_summary = fbref.read_player_match_stats()"
      ],
      "metadata": {
        "colab": {
          "base_uri": "https://localhost:8080/",
          "height": 1000
        },
        "id": "Q-OXy6U58pMW",
        "outputId": "f05408ce-20b5-4a8b-9532-cf9f67040aa3"
      },
      "execution_count": 43,
      "outputs": [
        {
          "output_type": "display_data",
          "data": {
            "text/plain": [
              "\u001b[2;36m[01/27/25 22:49:03]\u001b[0m\u001b[2;36m \u001b[0m\u001b[33mWARNING \u001b[0m \u001b[35m/usr/local/lib/python3.11/dist-packages/soccerdata/\u001b[0m\u001b[95mfbref.py\u001b[0m:\u001b[1;36m165\u001b[0m:       \u001b]8;id=556083;file:///usr/lib/python3.11/warnings.py\u001b\\\u001b[2mwarnings.py\u001b[0m\u001b]8;;\u001b\\\u001b[2m:\u001b[0m\u001b]8;id=502431;file:///usr/lib/python3.11/warnings.py#110\u001b\\\u001b[2m110\u001b[0m\u001b]8;;\u001b\\\n",
              "\u001b[2;36m                    \u001b[0m         FutureWarning: The behavior of DataFrame concatenation with empty or   \u001b[2m               \u001b[0m\n",
              "\u001b[2;36m                    \u001b[0m         all-NA entries is deprecated. In a future version, this will no longer \u001b[2m               \u001b[0m\n",
              "\u001b[2;36m                    \u001b[0m         exclude empty or all-NA columns when determining the result dtypes. To \u001b[2m               \u001b[0m\n",
              "\u001b[2;36m                    \u001b[0m         retain the old behavior, exclude the relevant entries before the       \u001b[2m               \u001b[0m\n",
              "\u001b[2;36m                    \u001b[0m         concat operation.                                                      \u001b[2m               \u001b[0m\n",
              "\u001b[2;36m                    \u001b[0m           \u001b[1;35mpd.concat\u001b[0m\u001b[1m(\u001b[0mdfs\u001b[1m)\u001b[0m                                                       \u001b[2m               \u001b[0m\n",
              "\u001b[2;36m                    \u001b[0m                                                                                \u001b[2m               \u001b[0m\n"
            ],
            "text/html": [
              "<pre style=\"white-space:pre;overflow-x:auto;line-height:normal;font-family:Menlo,'DejaVu Sans Mono',consolas,'Courier New',monospace\"><span style=\"color: #7fbfbf; text-decoration-color: #7fbfbf\">[01/27/25 22:49:03] </span><span style=\"color: #808000; text-decoration-color: #808000\">WARNING </span> <span style=\"color: #800080; text-decoration-color: #800080\">/usr/local/lib/python3.11/dist-packages/soccerdata/</span><span style=\"color: #ff00ff; text-decoration-color: #ff00ff\">fbref.py</span>:<span style=\"color: #008080; text-decoration-color: #008080; font-weight: bold\">165</span>:       <a href=\"file:///usr/lib/python3.11/warnings.py\" target=\"_blank\"><span style=\"color: #7f7f7f; text-decoration-color: #7f7f7f\">warnings.py</span></a><span style=\"color: #7f7f7f; text-decoration-color: #7f7f7f\">:</span><a href=\"file:///usr/lib/python3.11/warnings.py#110\" target=\"_blank\"><span style=\"color: #7f7f7f; text-decoration-color: #7f7f7f\">110</span></a>\n",
              "<span style=\"color: #7fbfbf; text-decoration-color: #7fbfbf\">                    </span>         FutureWarning: The behavior of DataFrame concatenation with empty or   <span style=\"color: #7f7f7f; text-decoration-color: #7f7f7f\">               </span>\n",
              "<span style=\"color: #7fbfbf; text-decoration-color: #7fbfbf\">                    </span>         all-NA entries is deprecated. In a future version, this will no longer <span style=\"color: #7f7f7f; text-decoration-color: #7f7f7f\">               </span>\n",
              "<span style=\"color: #7fbfbf; text-decoration-color: #7fbfbf\">                    </span>         exclude empty or all-NA columns when determining the result dtypes. To <span style=\"color: #7f7f7f; text-decoration-color: #7f7f7f\">               </span>\n",
              "<span style=\"color: #7fbfbf; text-decoration-color: #7fbfbf\">                    </span>         retain the old behavior, exclude the relevant entries before the       <span style=\"color: #7f7f7f; text-decoration-color: #7f7f7f\">               </span>\n",
              "<span style=\"color: #7fbfbf; text-decoration-color: #7fbfbf\">                    </span>         concat operation.                                                      <span style=\"color: #7f7f7f; text-decoration-color: #7f7f7f\">               </span>\n",
              "<span style=\"color: #7fbfbf; text-decoration-color: #7fbfbf\">                    </span>           <span style=\"color: #800080; text-decoration-color: #800080; font-weight: bold\">pd.concat</span><span style=\"font-weight: bold\">(</span>dfs<span style=\"font-weight: bold\">)</span>                                                       <span style=\"color: #7f7f7f; text-decoration-color: #7f7f7f\">               </span>\n",
              "<span style=\"color: #7fbfbf; text-decoration-color: #7fbfbf\">                    </span>                                                                                <span style=\"color: #7f7f7f; text-decoration-color: #7f7f7f\">               </span>\n",
              "</pre>\n"
            ]
          },
          "metadata": {}
        },
        {
          "output_type": "display_data",
          "data": {
            "text/plain": [
              "\u001b[2;36m[01/27/25 22:49:10]\u001b[0m\u001b[2;36m \u001b[0m\u001b[34mINFO    \u001b[0m \u001b[1m[\u001b[0m\u001b[1;36m1\u001b[0m/\u001b[1;36m380\u001b[0m\u001b[1m]\u001b[0m Retrieving game with \u001b[33mid\u001b[0m=\u001b[35m3a6836b4\u001b[0m                                  \u001b]8;id=905145;file:///usr/local/lib/python3.11/dist-packages/soccerdata/fbref.py\u001b\\\u001b[2mfbref.py\u001b[0m\u001b]8;;\u001b\\\u001b[2m:\u001b[0m\u001b]8;id=613673;file:///usr/local/lib/python3.11/dist-packages/soccerdata/fbref.py#815\u001b\\\u001b[2m815\u001b[0m\u001b]8;;\u001b\\\n"
            ],
            "text/html": [
              "<pre style=\"white-space:pre;overflow-x:auto;line-height:normal;font-family:Menlo,'DejaVu Sans Mono',consolas,'Courier New',monospace\"><span style=\"color: #7fbfbf; text-decoration-color: #7fbfbf\">[01/27/25 22:49:10] </span><span style=\"color: #000080; text-decoration-color: #000080\">INFO    </span> <span style=\"font-weight: bold\">[</span><span style=\"color: #008080; text-decoration-color: #008080; font-weight: bold\">1</span>/<span style=\"color: #008080; text-decoration-color: #008080; font-weight: bold\">380</span><span style=\"font-weight: bold\">]</span> Retrieving game with <span style=\"color: #808000; text-decoration-color: #808000\">id</span>=<span style=\"color: #800080; text-decoration-color: #800080\">3a6836b4</span>                                  <a href=\"file:///usr/local/lib/python3.11/dist-packages/soccerdata/fbref.py\" target=\"_blank\"><span style=\"color: #7f7f7f; text-decoration-color: #7f7f7f\">fbref.py</span></a><span style=\"color: #7f7f7f; text-decoration-color: #7f7f7f\">:</span><a href=\"file:///usr/local/lib/python3.11/dist-packages/soccerdata/fbref.py#815\" target=\"_blank\"><span style=\"color: #7f7f7f; text-decoration-color: #7f7f7f\">815</span></a>\n",
              "</pre>\n"
            ]
          },
          "metadata": {}
        },
        {
          "output_type": "display_data",
          "data": {
            "text/plain": [
              "\u001b[2;36m[01/27/25 22:49:16]\u001b[0m\u001b[2;36m \u001b[0m\u001b[34mINFO    \u001b[0m \u001b[1m[\u001b[0m\u001b[1;36m2\u001b[0m/\u001b[1;36m380\u001b[0m\u001b[1m]\u001b[0m Retrieving game with \u001b[33mid\u001b[0m=\u001b[35m26a7f90c\u001b[0m                                  \u001b]8;id=210538;file:///usr/local/lib/python3.11/dist-packages/soccerdata/fbref.py\u001b\\\u001b[2mfbref.py\u001b[0m\u001b]8;;\u001b\\\u001b[2m:\u001b[0m\u001b]8;id=929176;file:///usr/local/lib/python3.11/dist-packages/soccerdata/fbref.py#815\u001b\\\u001b[2m815\u001b[0m\u001b]8;;\u001b\\\n"
            ],
            "text/html": [
              "<pre style=\"white-space:pre;overflow-x:auto;line-height:normal;font-family:Menlo,'DejaVu Sans Mono',consolas,'Courier New',monospace\"><span style=\"color: #7fbfbf; text-decoration-color: #7fbfbf\">[01/27/25 22:49:16] </span><span style=\"color: #000080; text-decoration-color: #000080\">INFO    </span> <span style=\"font-weight: bold\">[</span><span style=\"color: #008080; text-decoration-color: #008080; font-weight: bold\">2</span>/<span style=\"color: #008080; text-decoration-color: #008080; font-weight: bold\">380</span><span style=\"font-weight: bold\">]</span> Retrieving game with <span style=\"color: #808000; text-decoration-color: #808000\">id</span>=<span style=\"color: #800080; text-decoration-color: #800080\">26a7f90c</span>                                  <a href=\"file:///usr/local/lib/python3.11/dist-packages/soccerdata/fbref.py\" target=\"_blank\"><span style=\"color: #7f7f7f; text-decoration-color: #7f7f7f\">fbref.py</span></a><span style=\"color: #7f7f7f; text-decoration-color: #7f7f7f\">:</span><a href=\"file:///usr/local/lib/python3.11/dist-packages/soccerdata/fbref.py#815\" target=\"_blank\"><span style=\"color: #7f7f7f; text-decoration-color: #7f7f7f\">815</span></a>\n",
              "</pre>\n"
            ]
          },
          "metadata": {}
        },
        {
          "output_type": "display_data",
          "data": {
            "text/plain": [
              "\u001b[2;36m[01/27/25 22:49:22]\u001b[0m\u001b[2;36m \u001b[0m\u001b[34mINFO    \u001b[0m \u001b[1m[\u001b[0m\u001b[1;36m3\u001b[0m/\u001b[1;36m380\u001b[0m\u001b[1m]\u001b[0m Retrieving game with \u001b[33mid\u001b[0m=\u001b[35md6bbf293\u001b[0m                                  \u001b]8;id=92285;file:///usr/local/lib/python3.11/dist-packages/soccerdata/fbref.py\u001b\\\u001b[2mfbref.py\u001b[0m\u001b]8;;\u001b\\\u001b[2m:\u001b[0m\u001b]8;id=681899;file:///usr/local/lib/python3.11/dist-packages/soccerdata/fbref.py#815\u001b\\\u001b[2m815\u001b[0m\u001b]8;;\u001b\\\n"
            ],
            "text/html": [
              "<pre style=\"white-space:pre;overflow-x:auto;line-height:normal;font-family:Menlo,'DejaVu Sans Mono',consolas,'Courier New',monospace\"><span style=\"color: #7fbfbf; text-decoration-color: #7fbfbf\">[01/27/25 22:49:22] </span><span style=\"color: #000080; text-decoration-color: #000080\">INFO    </span> <span style=\"font-weight: bold\">[</span><span style=\"color: #008080; text-decoration-color: #008080; font-weight: bold\">3</span>/<span style=\"color: #008080; text-decoration-color: #008080; font-weight: bold\">380</span><span style=\"font-weight: bold\">]</span> Retrieving game with <span style=\"color: #808000; text-decoration-color: #808000\">id</span>=<span style=\"color: #800080; text-decoration-color: #800080\">d6bbf293</span>                                  <a href=\"file:///usr/local/lib/python3.11/dist-packages/soccerdata/fbref.py\" target=\"_blank\"><span style=\"color: #7f7f7f; text-decoration-color: #7f7f7f\">fbref.py</span></a><span style=\"color: #7f7f7f; text-decoration-color: #7f7f7f\">:</span><a href=\"file:///usr/local/lib/python3.11/dist-packages/soccerdata/fbref.py#815\" target=\"_blank\"><span style=\"color: #7f7f7f; text-decoration-color: #7f7f7f\">815</span></a>\n",
              "</pre>\n"
            ]
          },
          "metadata": {}
        },
        {
          "output_type": "display_data",
          "data": {
            "text/plain": [
              "\u001b[2;36m[01/27/25 22:49:28]\u001b[0m\u001b[2;36m \u001b[0m\u001b[34mINFO    \u001b[0m \u001b[1m[\u001b[0m\u001b[1;36m4\u001b[0m/\u001b[1;36m380\u001b[0m\u001b[1m]\u001b[0m Retrieving game with \u001b[33mid\u001b[0m=\u001b[35m56a137f7\u001b[0m                                  \u001b]8;id=783284;file:///usr/local/lib/python3.11/dist-packages/soccerdata/fbref.py\u001b\\\u001b[2mfbref.py\u001b[0m\u001b]8;;\u001b\\\u001b[2m:\u001b[0m\u001b]8;id=128116;file:///usr/local/lib/python3.11/dist-packages/soccerdata/fbref.py#815\u001b\\\u001b[2m815\u001b[0m\u001b]8;;\u001b\\\n"
            ],
            "text/html": [
              "<pre style=\"white-space:pre;overflow-x:auto;line-height:normal;font-family:Menlo,'DejaVu Sans Mono',consolas,'Courier New',monospace\"><span style=\"color: #7fbfbf; text-decoration-color: #7fbfbf\">[01/27/25 22:49:28] </span><span style=\"color: #000080; text-decoration-color: #000080\">INFO    </span> <span style=\"font-weight: bold\">[</span><span style=\"color: #008080; text-decoration-color: #008080; font-weight: bold\">4</span>/<span style=\"color: #008080; text-decoration-color: #008080; font-weight: bold\">380</span><span style=\"font-weight: bold\">]</span> Retrieving game with <span style=\"color: #808000; text-decoration-color: #808000\">id</span>=<span style=\"color: #800080; text-decoration-color: #800080\">56a137f7</span>                                  <a href=\"file:///usr/local/lib/python3.11/dist-packages/soccerdata/fbref.py\" target=\"_blank\"><span style=\"color: #7f7f7f; text-decoration-color: #7f7f7f\">fbref.py</span></a><span style=\"color: #7f7f7f; text-decoration-color: #7f7f7f\">:</span><a href=\"file:///usr/local/lib/python3.11/dist-packages/soccerdata/fbref.py#815\" target=\"_blank\"><span style=\"color: #7f7f7f; text-decoration-color: #7f7f7f\">815</span></a>\n",
              "</pre>\n"
            ]
          },
          "metadata": {}
        },
        {
          "output_type": "display_data",
          "data": {
            "text/plain": [
              "\u001b[2;36m[01/27/25 22:49:35]\u001b[0m\u001b[2;36m \u001b[0m\u001b[34mINFO    \u001b[0m \u001b[1m[\u001b[0m\u001b[1;36m5\u001b[0m/\u001b[1;36m380\u001b[0m\u001b[1m]\u001b[0m Retrieving game with \u001b[33mid\u001b[0m=\u001b[35m15addfc7\u001b[0m                                  \u001b]8;id=745303;file:///usr/local/lib/python3.11/dist-packages/soccerdata/fbref.py\u001b\\\u001b[2mfbref.py\u001b[0m\u001b]8;;\u001b\\\u001b[2m:\u001b[0m\u001b]8;id=694848;file:///usr/local/lib/python3.11/dist-packages/soccerdata/fbref.py#815\u001b\\\u001b[2m815\u001b[0m\u001b]8;;\u001b\\\n"
            ],
            "text/html": [
              "<pre style=\"white-space:pre;overflow-x:auto;line-height:normal;font-family:Menlo,'DejaVu Sans Mono',consolas,'Courier New',monospace\"><span style=\"color: #7fbfbf; text-decoration-color: #7fbfbf\">[01/27/25 22:49:35] </span><span style=\"color: #000080; text-decoration-color: #000080\">INFO    </span> <span style=\"font-weight: bold\">[</span><span style=\"color: #008080; text-decoration-color: #008080; font-weight: bold\">5</span>/<span style=\"color: #008080; text-decoration-color: #008080; font-weight: bold\">380</span><span style=\"font-weight: bold\">]</span> Retrieving game with <span style=\"color: #808000; text-decoration-color: #808000\">id</span>=<span style=\"color: #800080; text-decoration-color: #800080\">15addfc7</span>                                  <a href=\"file:///usr/local/lib/python3.11/dist-packages/soccerdata/fbref.py\" target=\"_blank\"><span style=\"color: #7f7f7f; text-decoration-color: #7f7f7f\">fbref.py</span></a><span style=\"color: #7f7f7f; text-decoration-color: #7f7f7f\">:</span><a href=\"file:///usr/local/lib/python3.11/dist-packages/soccerdata/fbref.py#815\" target=\"_blank\"><span style=\"color: #7f7f7f; text-decoration-color: #7f7f7f\">815</span></a>\n",
              "</pre>\n"
            ]
          },
          "metadata": {}
        },
        {
          "output_type": "display_data",
          "data": {
            "text/plain": [
              "\u001b[2;36m[01/27/25 22:49:41]\u001b[0m\u001b[2;36m \u001b[0m\u001b[34mINFO    \u001b[0m \u001b[1m[\u001b[0m\u001b[1;36m6\u001b[0m/\u001b[1;36m380\u001b[0m\u001b[1m]\u001b[0m Retrieving game with \u001b[33mid\u001b[0m=\u001b[35m8ff2f8fe\u001b[0m                                  \u001b]8;id=48078;file:///usr/local/lib/python3.11/dist-packages/soccerdata/fbref.py\u001b\\\u001b[2mfbref.py\u001b[0m\u001b]8;;\u001b\\\u001b[2m:\u001b[0m\u001b]8;id=642740;file:///usr/local/lib/python3.11/dist-packages/soccerdata/fbref.py#815\u001b\\\u001b[2m815\u001b[0m\u001b]8;;\u001b\\\n"
            ],
            "text/html": [
              "<pre style=\"white-space:pre;overflow-x:auto;line-height:normal;font-family:Menlo,'DejaVu Sans Mono',consolas,'Courier New',monospace\"><span style=\"color: #7fbfbf; text-decoration-color: #7fbfbf\">[01/27/25 22:49:41] </span><span style=\"color: #000080; text-decoration-color: #000080\">INFO    </span> <span style=\"font-weight: bold\">[</span><span style=\"color: #008080; text-decoration-color: #008080; font-weight: bold\">6</span>/<span style=\"color: #008080; text-decoration-color: #008080; font-weight: bold\">380</span><span style=\"font-weight: bold\">]</span> Retrieving game with <span style=\"color: #808000; text-decoration-color: #808000\">id</span>=<span style=\"color: #800080; text-decoration-color: #800080\">8ff2f8fe</span>                                  <a href=\"file:///usr/local/lib/python3.11/dist-packages/soccerdata/fbref.py\" target=\"_blank\"><span style=\"color: #7f7f7f; text-decoration-color: #7f7f7f\">fbref.py</span></a><span style=\"color: #7f7f7f; text-decoration-color: #7f7f7f\">:</span><a href=\"file:///usr/local/lib/python3.11/dist-packages/soccerdata/fbref.py#815\" target=\"_blank\"><span style=\"color: #7f7f7f; text-decoration-color: #7f7f7f\">815</span></a>\n",
              "</pre>\n"
            ]
          },
          "metadata": {}
        },
        {
          "output_type": "display_data",
          "data": {
            "text/plain": [
              "\u001b[2;36m[01/27/25 22:49:47]\u001b[0m\u001b[2;36m \u001b[0m\u001b[34mINFO    \u001b[0m \u001b[1m[\u001b[0m\u001b[1;36m7\u001b[0m/\u001b[1;36m380\u001b[0m\u001b[1m]\u001b[0m Retrieving game with \u001b[33mid\u001b[0m=\u001b[35m55fd92c7\u001b[0m                                  \u001b]8;id=591719;file:///usr/local/lib/python3.11/dist-packages/soccerdata/fbref.py\u001b\\\u001b[2mfbref.py\u001b[0m\u001b]8;;\u001b\\\u001b[2m:\u001b[0m\u001b]8;id=926820;file:///usr/local/lib/python3.11/dist-packages/soccerdata/fbref.py#815\u001b\\\u001b[2m815\u001b[0m\u001b]8;;\u001b\\\n"
            ],
            "text/html": [
              "<pre style=\"white-space:pre;overflow-x:auto;line-height:normal;font-family:Menlo,'DejaVu Sans Mono',consolas,'Courier New',monospace\"><span style=\"color: #7fbfbf; text-decoration-color: #7fbfbf\">[01/27/25 22:49:47] </span><span style=\"color: #000080; text-decoration-color: #000080\">INFO    </span> <span style=\"font-weight: bold\">[</span><span style=\"color: #008080; text-decoration-color: #008080; font-weight: bold\">7</span>/<span style=\"color: #008080; text-decoration-color: #008080; font-weight: bold\">380</span><span style=\"font-weight: bold\">]</span> Retrieving game with <span style=\"color: #808000; text-decoration-color: #808000\">id</span>=<span style=\"color: #800080; text-decoration-color: #800080\">55fd92c7</span>                                  <a href=\"file:///usr/local/lib/python3.11/dist-packages/soccerdata/fbref.py\" target=\"_blank\"><span style=\"color: #7f7f7f; text-decoration-color: #7f7f7f\">fbref.py</span></a><span style=\"color: #7f7f7f; text-decoration-color: #7f7f7f\">:</span><a href=\"file:///usr/local/lib/python3.11/dist-packages/soccerdata/fbref.py#815\" target=\"_blank\"><span style=\"color: #7f7f7f; text-decoration-color: #7f7f7f\">815</span></a>\n",
              "</pre>\n"
            ]
          },
          "metadata": {}
        },
        {
          "output_type": "display_data",
          "data": {
            "text/plain": [
              "\u001b[2;36m[01/27/25 22:49:54]\u001b[0m\u001b[2;36m \u001b[0m\u001b[34mINFO    \u001b[0m \u001b[1m[\u001b[0m\u001b[1;36m8\u001b[0m/\u001b[1;36m380\u001b[0m\u001b[1m]\u001b[0m Retrieving game with \u001b[33mid\u001b[0m=\u001b[35m67ed3ba2\u001b[0m                                  \u001b]8;id=736312;file:///usr/local/lib/python3.11/dist-packages/soccerdata/fbref.py\u001b\\\u001b[2mfbref.py\u001b[0m\u001b]8;;\u001b\\\u001b[2m:\u001b[0m\u001b]8;id=766084;file:///usr/local/lib/python3.11/dist-packages/soccerdata/fbref.py#815\u001b\\\u001b[2m815\u001b[0m\u001b]8;;\u001b\\\n"
            ],
            "text/html": [
              "<pre style=\"white-space:pre;overflow-x:auto;line-height:normal;font-family:Menlo,'DejaVu Sans Mono',consolas,'Courier New',monospace\"><span style=\"color: #7fbfbf; text-decoration-color: #7fbfbf\">[01/27/25 22:49:54] </span><span style=\"color: #000080; text-decoration-color: #000080\">INFO    </span> <span style=\"font-weight: bold\">[</span><span style=\"color: #008080; text-decoration-color: #008080; font-weight: bold\">8</span>/<span style=\"color: #008080; text-decoration-color: #008080; font-weight: bold\">380</span><span style=\"font-weight: bold\">]</span> Retrieving game with <span style=\"color: #808000; text-decoration-color: #808000\">id</span>=<span style=\"color: #800080; text-decoration-color: #800080\">67ed3ba2</span>                                  <a href=\"file:///usr/local/lib/python3.11/dist-packages/soccerdata/fbref.py\" target=\"_blank\"><span style=\"color: #7f7f7f; text-decoration-color: #7f7f7f\">fbref.py</span></a><span style=\"color: #7f7f7f; text-decoration-color: #7f7f7f\">:</span><a href=\"file:///usr/local/lib/python3.11/dist-packages/soccerdata/fbref.py#815\" target=\"_blank\"><span style=\"color: #7f7f7f; text-decoration-color: #7f7f7f\">815</span></a>\n",
              "</pre>\n"
            ]
          },
          "metadata": {}
        },
        {
          "output_type": "display_data",
          "data": {
            "text/plain": [
              "\u001b[2;36m[01/27/25 22:50:00]\u001b[0m\u001b[2;36m \u001b[0m\u001b[34mINFO    \u001b[0m \u001b[1m[\u001b[0m\u001b[1;36m9\u001b[0m/\u001b[1;36m380\u001b[0m\u001b[1m]\u001b[0m Retrieving game with \u001b[33mid\u001b[0m=\u001b[35mc18d3207\u001b[0m                                  \u001b]8;id=815033;file:///usr/local/lib/python3.11/dist-packages/soccerdata/fbref.py\u001b\\\u001b[2mfbref.py\u001b[0m\u001b]8;;\u001b\\\u001b[2m:\u001b[0m\u001b]8;id=853856;file:///usr/local/lib/python3.11/dist-packages/soccerdata/fbref.py#815\u001b\\\u001b[2m815\u001b[0m\u001b]8;;\u001b\\\n"
            ],
            "text/html": [
              "<pre style=\"white-space:pre;overflow-x:auto;line-height:normal;font-family:Menlo,'DejaVu Sans Mono',consolas,'Courier New',monospace\"><span style=\"color: #7fbfbf; text-decoration-color: #7fbfbf\">[01/27/25 22:50:00] </span><span style=\"color: #000080; text-decoration-color: #000080\">INFO    </span> <span style=\"font-weight: bold\">[</span><span style=\"color: #008080; text-decoration-color: #008080; font-weight: bold\">9</span>/<span style=\"color: #008080; text-decoration-color: #008080; font-weight: bold\">380</span><span style=\"font-weight: bold\">]</span> Retrieving game with <span style=\"color: #808000; text-decoration-color: #808000\">id</span>=<span style=\"color: #800080; text-decoration-color: #800080\">c18d3207</span>                                  <a href=\"file:///usr/local/lib/python3.11/dist-packages/soccerdata/fbref.py\" target=\"_blank\"><span style=\"color: #7f7f7f; text-decoration-color: #7f7f7f\">fbref.py</span></a><span style=\"color: #7f7f7f; text-decoration-color: #7f7f7f\">:</span><a href=\"file:///usr/local/lib/python3.11/dist-packages/soccerdata/fbref.py#815\" target=\"_blank\"><span style=\"color: #7f7f7f; text-decoration-color: #7f7f7f\">815</span></a>\n",
              "</pre>\n"
            ]
          },
          "metadata": {}
        },
        {
          "output_type": "display_data",
          "data": {
            "text/plain": [
              "\u001b[2;36m[01/27/25 22:50:06]\u001b[0m\u001b[2;36m \u001b[0m\u001b[34mINFO    \u001b[0m \u001b[1m[\u001b[0m\u001b[1;36m10\u001b[0m/\u001b[1;36m380\u001b[0m\u001b[1m]\u001b[0m Retrieving game with \u001b[33mid\u001b[0m=\u001b[35mf1ecda2c\u001b[0m                                 \u001b]8;id=35119;file:///usr/local/lib/python3.11/dist-packages/soccerdata/fbref.py\u001b\\\u001b[2mfbref.py\u001b[0m\u001b]8;;\u001b\\\u001b[2m:\u001b[0m\u001b]8;id=116171;file:///usr/local/lib/python3.11/dist-packages/soccerdata/fbref.py#815\u001b\\\u001b[2m815\u001b[0m\u001b]8;;\u001b\\\n"
            ],
            "text/html": [
              "<pre style=\"white-space:pre;overflow-x:auto;line-height:normal;font-family:Menlo,'DejaVu Sans Mono',consolas,'Courier New',monospace\"><span style=\"color: #7fbfbf; text-decoration-color: #7fbfbf\">[01/27/25 22:50:06] </span><span style=\"color: #000080; text-decoration-color: #000080\">INFO    </span> <span style=\"font-weight: bold\">[</span><span style=\"color: #008080; text-decoration-color: #008080; font-weight: bold\">10</span>/<span style=\"color: #008080; text-decoration-color: #008080; font-weight: bold\">380</span><span style=\"font-weight: bold\">]</span> Retrieving game with <span style=\"color: #808000; text-decoration-color: #808000\">id</span>=<span style=\"color: #800080; text-decoration-color: #800080\">f1ecda2c</span>                                 <a href=\"file:///usr/local/lib/python3.11/dist-packages/soccerdata/fbref.py\" target=\"_blank\"><span style=\"color: #7f7f7f; text-decoration-color: #7f7f7f\">fbref.py</span></a><span style=\"color: #7f7f7f; text-decoration-color: #7f7f7f\">:</span><a href=\"file:///usr/local/lib/python3.11/dist-packages/soccerdata/fbref.py#815\" target=\"_blank\"><span style=\"color: #7f7f7f; text-decoration-color: #7f7f7f\">815</span></a>\n",
              "</pre>\n"
            ]
          },
          "metadata": {}
        },
        {
          "output_type": "display_data",
          "data": {
            "text/plain": [
              "\u001b[2;36m[01/27/25 22:50:12]\u001b[0m\u001b[2;36m \u001b[0m\u001b[34mINFO    \u001b[0m \u001b[1m[\u001b[0m\u001b[1;36m11\u001b[0m/\u001b[1;36m380\u001b[0m\u001b[1m]\u001b[0m Retrieving game with \u001b[33mid\u001b[0m=\u001b[35ma0a93f71\u001b[0m                                 \u001b]8;id=988469;file:///usr/local/lib/python3.11/dist-packages/soccerdata/fbref.py\u001b\\\u001b[2mfbref.py\u001b[0m\u001b]8;;\u001b\\\u001b[2m:\u001b[0m\u001b]8;id=999268;file:///usr/local/lib/python3.11/dist-packages/soccerdata/fbref.py#815\u001b\\\u001b[2m815\u001b[0m\u001b]8;;\u001b\\\n"
            ],
            "text/html": [
              "<pre style=\"white-space:pre;overflow-x:auto;line-height:normal;font-family:Menlo,'DejaVu Sans Mono',consolas,'Courier New',monospace\"><span style=\"color: #7fbfbf; text-decoration-color: #7fbfbf\">[01/27/25 22:50:12] </span><span style=\"color: #000080; text-decoration-color: #000080\">INFO    </span> <span style=\"font-weight: bold\">[</span><span style=\"color: #008080; text-decoration-color: #008080; font-weight: bold\">11</span>/<span style=\"color: #008080; text-decoration-color: #008080; font-weight: bold\">380</span><span style=\"font-weight: bold\">]</span> Retrieving game with <span style=\"color: #808000; text-decoration-color: #808000\">id</span>=<span style=\"color: #800080; text-decoration-color: #800080\">a0a93f71</span>                                 <a href=\"file:///usr/local/lib/python3.11/dist-packages/soccerdata/fbref.py\" target=\"_blank\"><span style=\"color: #7f7f7f; text-decoration-color: #7f7f7f\">fbref.py</span></a><span style=\"color: #7f7f7f; text-decoration-color: #7f7f7f\">:</span><a href=\"file:///usr/local/lib/python3.11/dist-packages/soccerdata/fbref.py#815\" target=\"_blank\"><span style=\"color: #7f7f7f; text-decoration-color: #7f7f7f\">815</span></a>\n",
              "</pre>\n"
            ]
          },
          "metadata": {}
        },
        {
          "output_type": "display_data",
          "data": {
            "text/plain": [
              "\u001b[2;36m[01/27/25 22:50:19]\u001b[0m\u001b[2;36m \u001b[0m\u001b[34mINFO    \u001b[0m \u001b[1m[\u001b[0m\u001b[1;36m12\u001b[0m/\u001b[1;36m380\u001b[0m\u001b[1m]\u001b[0m Retrieving game with \u001b[33mid\u001b[0m=\u001b[35m46be83af\u001b[0m                                 \u001b]8;id=958403;file:///usr/local/lib/python3.11/dist-packages/soccerdata/fbref.py\u001b\\\u001b[2mfbref.py\u001b[0m\u001b]8;;\u001b\\\u001b[2m:\u001b[0m\u001b]8;id=601554;file:///usr/local/lib/python3.11/dist-packages/soccerdata/fbref.py#815\u001b\\\u001b[2m815\u001b[0m\u001b]8;;\u001b\\\n"
            ],
            "text/html": [
              "<pre style=\"white-space:pre;overflow-x:auto;line-height:normal;font-family:Menlo,'DejaVu Sans Mono',consolas,'Courier New',monospace\"><span style=\"color: #7fbfbf; text-decoration-color: #7fbfbf\">[01/27/25 22:50:19] </span><span style=\"color: #000080; text-decoration-color: #000080\">INFO    </span> <span style=\"font-weight: bold\">[</span><span style=\"color: #008080; text-decoration-color: #008080; font-weight: bold\">12</span>/<span style=\"color: #008080; text-decoration-color: #008080; font-weight: bold\">380</span><span style=\"font-weight: bold\">]</span> Retrieving game with <span style=\"color: #808000; text-decoration-color: #808000\">id</span>=<span style=\"color: #800080; text-decoration-color: #800080\">46be83af</span>                                 <a href=\"file:///usr/local/lib/python3.11/dist-packages/soccerdata/fbref.py\" target=\"_blank\"><span style=\"color: #7f7f7f; text-decoration-color: #7f7f7f\">fbref.py</span></a><span style=\"color: #7f7f7f; text-decoration-color: #7f7f7f\">:</span><a href=\"file:///usr/local/lib/python3.11/dist-packages/soccerdata/fbref.py#815\" target=\"_blank\"><span style=\"color: #7f7f7f; text-decoration-color: #7f7f7f\">815</span></a>\n",
              "</pre>\n"
            ]
          },
          "metadata": {}
        },
        {
          "output_type": "display_data",
          "data": {
            "text/plain": [
              "\u001b[2;36m[01/27/25 22:50:25]\u001b[0m\u001b[2;36m \u001b[0m\u001b[34mINFO    \u001b[0m \u001b[1m[\u001b[0m\u001b[1;36m13\u001b[0m/\u001b[1;36m380\u001b[0m\u001b[1m]\u001b[0m Retrieving game with \u001b[33mid\u001b[0m=\u001b[35m80bebdbb\u001b[0m                                 \u001b]8;id=392308;file:///usr/local/lib/python3.11/dist-packages/soccerdata/fbref.py\u001b\\\u001b[2mfbref.py\u001b[0m\u001b]8;;\u001b\\\u001b[2m:\u001b[0m\u001b]8;id=349556;file:///usr/local/lib/python3.11/dist-packages/soccerdata/fbref.py#815\u001b\\\u001b[2m815\u001b[0m\u001b]8;;\u001b\\\n"
            ],
            "text/html": [
              "<pre style=\"white-space:pre;overflow-x:auto;line-height:normal;font-family:Menlo,'DejaVu Sans Mono',consolas,'Courier New',monospace\"><span style=\"color: #7fbfbf; text-decoration-color: #7fbfbf\">[01/27/25 22:50:25] </span><span style=\"color: #000080; text-decoration-color: #000080\">INFO    </span> <span style=\"font-weight: bold\">[</span><span style=\"color: #008080; text-decoration-color: #008080; font-weight: bold\">13</span>/<span style=\"color: #008080; text-decoration-color: #008080; font-weight: bold\">380</span><span style=\"font-weight: bold\">]</span> Retrieving game with <span style=\"color: #808000; text-decoration-color: #808000\">id</span>=<span style=\"color: #800080; text-decoration-color: #800080\">80bebdbb</span>                                 <a href=\"file:///usr/local/lib/python3.11/dist-packages/soccerdata/fbref.py\" target=\"_blank\"><span style=\"color: #7f7f7f; text-decoration-color: #7f7f7f\">fbref.py</span></a><span style=\"color: #7f7f7f; text-decoration-color: #7f7f7f\">:</span><a href=\"file:///usr/local/lib/python3.11/dist-packages/soccerdata/fbref.py#815\" target=\"_blank\"><span style=\"color: #7f7f7f; text-decoration-color: #7f7f7f\">815</span></a>\n",
              "</pre>\n"
            ]
          },
          "metadata": {}
        },
        {
          "output_type": "display_data",
          "data": {
            "text/plain": [
              "\u001b[2;36m[01/27/25 22:50:31]\u001b[0m\u001b[2;36m \u001b[0m\u001b[34mINFO    \u001b[0m \u001b[1m[\u001b[0m\u001b[1;36m14\u001b[0m/\u001b[1;36m380\u001b[0m\u001b[1m]\u001b[0m Retrieving game with \u001b[33mid\u001b[0m=\u001b[35m0b8f50a5\u001b[0m                                 \u001b]8;id=645231;file:///usr/local/lib/python3.11/dist-packages/soccerdata/fbref.py\u001b\\\u001b[2mfbref.py\u001b[0m\u001b]8;;\u001b\\\u001b[2m:\u001b[0m\u001b]8;id=411919;file:///usr/local/lib/python3.11/dist-packages/soccerdata/fbref.py#815\u001b\\\u001b[2m815\u001b[0m\u001b]8;;\u001b\\\n"
            ],
            "text/html": [
              "<pre style=\"white-space:pre;overflow-x:auto;line-height:normal;font-family:Menlo,'DejaVu Sans Mono',consolas,'Courier New',monospace\"><span style=\"color: #7fbfbf; text-decoration-color: #7fbfbf\">[01/27/25 22:50:31] </span><span style=\"color: #000080; text-decoration-color: #000080\">INFO    </span> <span style=\"font-weight: bold\">[</span><span style=\"color: #008080; text-decoration-color: #008080; font-weight: bold\">14</span>/<span style=\"color: #008080; text-decoration-color: #008080; font-weight: bold\">380</span><span style=\"font-weight: bold\">]</span> Retrieving game with <span style=\"color: #808000; text-decoration-color: #808000\">id</span>=<span style=\"color: #800080; text-decoration-color: #800080\">0b8f50a5</span>                                 <a href=\"file:///usr/local/lib/python3.11/dist-packages/soccerdata/fbref.py\" target=\"_blank\"><span style=\"color: #7f7f7f; text-decoration-color: #7f7f7f\">fbref.py</span></a><span style=\"color: #7f7f7f; text-decoration-color: #7f7f7f\">:</span><a href=\"file:///usr/local/lib/python3.11/dist-packages/soccerdata/fbref.py#815\" target=\"_blank\"><span style=\"color: #7f7f7f; text-decoration-color: #7f7f7f\">815</span></a>\n",
              "</pre>\n"
            ]
          },
          "metadata": {}
        },
        {
          "output_type": "display_data",
          "data": {
            "text/plain": [
              "\u001b[2;36m[01/27/25 22:50:38]\u001b[0m\u001b[2;36m \u001b[0m\u001b[34mINFO    \u001b[0m \u001b[1m[\u001b[0m\u001b[1;36m15\u001b[0m/\u001b[1;36m380\u001b[0m\u001b[1m]\u001b[0m Retrieving game with \u001b[33mid\u001b[0m=\u001b[35m4bb62251\u001b[0m                                 \u001b]8;id=707279;file:///usr/local/lib/python3.11/dist-packages/soccerdata/fbref.py\u001b\\\u001b[2mfbref.py\u001b[0m\u001b]8;;\u001b\\\u001b[2m:\u001b[0m\u001b]8;id=703411;file:///usr/local/lib/python3.11/dist-packages/soccerdata/fbref.py#815\u001b\\\u001b[2m815\u001b[0m\u001b]8;;\u001b\\\n"
            ],
            "text/html": [
              "<pre style=\"white-space:pre;overflow-x:auto;line-height:normal;font-family:Menlo,'DejaVu Sans Mono',consolas,'Courier New',monospace\"><span style=\"color: #7fbfbf; text-decoration-color: #7fbfbf\">[01/27/25 22:50:38] </span><span style=\"color: #000080; text-decoration-color: #000080\">INFO    </span> <span style=\"font-weight: bold\">[</span><span style=\"color: #008080; text-decoration-color: #008080; font-weight: bold\">15</span>/<span style=\"color: #008080; text-decoration-color: #008080; font-weight: bold\">380</span><span style=\"font-weight: bold\">]</span> Retrieving game with <span style=\"color: #808000; text-decoration-color: #808000\">id</span>=<span style=\"color: #800080; text-decoration-color: #800080\">4bb62251</span>                                 <a href=\"file:///usr/local/lib/python3.11/dist-packages/soccerdata/fbref.py\" target=\"_blank\"><span style=\"color: #7f7f7f; text-decoration-color: #7f7f7f\">fbref.py</span></a><span style=\"color: #7f7f7f; text-decoration-color: #7f7f7f\">:</span><a href=\"file:///usr/local/lib/python3.11/dist-packages/soccerdata/fbref.py#815\" target=\"_blank\"><span style=\"color: #7f7f7f; text-decoration-color: #7f7f7f\">815</span></a>\n",
              "</pre>\n"
            ]
          },
          "metadata": {}
        },
        {
          "output_type": "display_data",
          "data": {
            "text/plain": [
              "\u001b[2;36m[01/27/25 22:50:44]\u001b[0m\u001b[2;36m \u001b[0m\u001b[34mINFO    \u001b[0m \u001b[1m[\u001b[0m\u001b[1;36m16\u001b[0m/\u001b[1;36m380\u001b[0m\u001b[1m]\u001b[0m Retrieving game with \u001b[33mid\u001b[0m=\u001b[35md7c606ec\u001b[0m                                 \u001b]8;id=581413;file:///usr/local/lib/python3.11/dist-packages/soccerdata/fbref.py\u001b\\\u001b[2mfbref.py\u001b[0m\u001b]8;;\u001b\\\u001b[2m:\u001b[0m\u001b]8;id=532346;file:///usr/local/lib/python3.11/dist-packages/soccerdata/fbref.py#815\u001b\\\u001b[2m815\u001b[0m\u001b]8;;\u001b\\\n"
            ],
            "text/html": [
              "<pre style=\"white-space:pre;overflow-x:auto;line-height:normal;font-family:Menlo,'DejaVu Sans Mono',consolas,'Courier New',monospace\"><span style=\"color: #7fbfbf; text-decoration-color: #7fbfbf\">[01/27/25 22:50:44] </span><span style=\"color: #000080; text-decoration-color: #000080\">INFO    </span> <span style=\"font-weight: bold\">[</span><span style=\"color: #008080; text-decoration-color: #008080; font-weight: bold\">16</span>/<span style=\"color: #008080; text-decoration-color: #008080; font-weight: bold\">380</span><span style=\"font-weight: bold\">]</span> Retrieving game with <span style=\"color: #808000; text-decoration-color: #808000\">id</span>=<span style=\"color: #800080; text-decoration-color: #800080\">d7c606ec</span>                                 <a href=\"file:///usr/local/lib/python3.11/dist-packages/soccerdata/fbref.py\" target=\"_blank\"><span style=\"color: #7f7f7f; text-decoration-color: #7f7f7f\">fbref.py</span></a><span style=\"color: #7f7f7f; text-decoration-color: #7f7f7f\">:</span><a href=\"file:///usr/local/lib/python3.11/dist-packages/soccerdata/fbref.py#815\" target=\"_blank\"><span style=\"color: #7f7f7f; text-decoration-color: #7f7f7f\">815</span></a>\n",
              "</pre>\n"
            ]
          },
          "metadata": {}
        },
        {
          "output_type": "display_data",
          "data": {
            "text/plain": [
              "\u001b[2;36m[01/27/25 22:50:50]\u001b[0m\u001b[2;36m \u001b[0m\u001b[34mINFO    \u001b[0m \u001b[1m[\u001b[0m\u001b[1;36m17\u001b[0m/\u001b[1;36m380\u001b[0m\u001b[1m]\u001b[0m Retrieving game with \u001b[33mid\u001b[0m=\u001b[35m959b558d\u001b[0m                                 \u001b]8;id=317492;file:///usr/local/lib/python3.11/dist-packages/soccerdata/fbref.py\u001b\\\u001b[2mfbref.py\u001b[0m\u001b]8;;\u001b\\\u001b[2m:\u001b[0m\u001b]8;id=227849;file:///usr/local/lib/python3.11/dist-packages/soccerdata/fbref.py#815\u001b\\\u001b[2m815\u001b[0m\u001b]8;;\u001b\\\n"
            ],
            "text/html": [
              "<pre style=\"white-space:pre;overflow-x:auto;line-height:normal;font-family:Menlo,'DejaVu Sans Mono',consolas,'Courier New',monospace\"><span style=\"color: #7fbfbf; text-decoration-color: #7fbfbf\">[01/27/25 22:50:50] </span><span style=\"color: #000080; text-decoration-color: #000080\">INFO    </span> <span style=\"font-weight: bold\">[</span><span style=\"color: #008080; text-decoration-color: #008080; font-weight: bold\">17</span>/<span style=\"color: #008080; text-decoration-color: #008080; font-weight: bold\">380</span><span style=\"font-weight: bold\">]</span> Retrieving game with <span style=\"color: #808000; text-decoration-color: #808000\">id</span>=<span style=\"color: #800080; text-decoration-color: #800080\">959b558d</span>                                 <a href=\"file:///usr/local/lib/python3.11/dist-packages/soccerdata/fbref.py\" target=\"_blank\"><span style=\"color: #7f7f7f; text-decoration-color: #7f7f7f\">fbref.py</span></a><span style=\"color: #7f7f7f; text-decoration-color: #7f7f7f\">:</span><a href=\"file:///usr/local/lib/python3.11/dist-packages/soccerdata/fbref.py#815\" target=\"_blank\"><span style=\"color: #7f7f7f; text-decoration-color: #7f7f7f\">815</span></a>\n",
              "</pre>\n"
            ]
          },
          "metadata": {}
        },
        {
          "output_type": "display_data",
          "data": {
            "text/plain": [
              "\u001b[2;36m[01/27/25 22:50:57]\u001b[0m\u001b[2;36m \u001b[0m\u001b[34mINFO    \u001b[0m \u001b[1m[\u001b[0m\u001b[1;36m18\u001b[0m/\u001b[1;36m380\u001b[0m\u001b[1m]\u001b[0m Retrieving game with \u001b[33mid\u001b[0m=\u001b[35m44b9a07c\u001b[0m                                 \u001b]8;id=305350;file:///usr/local/lib/python3.11/dist-packages/soccerdata/fbref.py\u001b\\\u001b[2mfbref.py\u001b[0m\u001b]8;;\u001b\\\u001b[2m:\u001b[0m\u001b]8;id=569151;file:///usr/local/lib/python3.11/dist-packages/soccerdata/fbref.py#815\u001b\\\u001b[2m815\u001b[0m\u001b]8;;\u001b\\\n"
            ],
            "text/html": [
              "<pre style=\"white-space:pre;overflow-x:auto;line-height:normal;font-family:Menlo,'DejaVu Sans Mono',consolas,'Courier New',monospace\"><span style=\"color: #7fbfbf; text-decoration-color: #7fbfbf\">[01/27/25 22:50:57] </span><span style=\"color: #000080; text-decoration-color: #000080\">INFO    </span> <span style=\"font-weight: bold\">[</span><span style=\"color: #008080; text-decoration-color: #008080; font-weight: bold\">18</span>/<span style=\"color: #008080; text-decoration-color: #008080; font-weight: bold\">380</span><span style=\"font-weight: bold\">]</span> Retrieving game with <span style=\"color: #808000; text-decoration-color: #808000\">id</span>=<span style=\"color: #800080; text-decoration-color: #800080\">44b9a07c</span>                                 <a href=\"file:///usr/local/lib/python3.11/dist-packages/soccerdata/fbref.py\" target=\"_blank\"><span style=\"color: #7f7f7f; text-decoration-color: #7f7f7f\">fbref.py</span></a><span style=\"color: #7f7f7f; text-decoration-color: #7f7f7f\">:</span><a href=\"file:///usr/local/lib/python3.11/dist-packages/soccerdata/fbref.py#815\" target=\"_blank\"><span style=\"color: #7f7f7f; text-decoration-color: #7f7f7f\">815</span></a>\n",
              "</pre>\n"
            ]
          },
          "metadata": {}
        },
        {
          "output_type": "display_data",
          "data": {
            "text/plain": [
              "\u001b[2;36m[01/27/25 22:51:03]\u001b[0m\u001b[2;36m \u001b[0m\u001b[34mINFO    \u001b[0m \u001b[1m[\u001b[0m\u001b[1;36m19\u001b[0m/\u001b[1;36m380\u001b[0m\u001b[1m]\u001b[0m Retrieving game with \u001b[33mid\u001b[0m=\u001b[35m3b5ecd36\u001b[0m                                 \u001b]8;id=130624;file:///usr/local/lib/python3.11/dist-packages/soccerdata/fbref.py\u001b\\\u001b[2mfbref.py\u001b[0m\u001b]8;;\u001b\\\u001b[2m:\u001b[0m\u001b]8;id=272091;file:///usr/local/lib/python3.11/dist-packages/soccerdata/fbref.py#815\u001b\\\u001b[2m815\u001b[0m\u001b]8;;\u001b\\\n"
            ],
            "text/html": [
              "<pre style=\"white-space:pre;overflow-x:auto;line-height:normal;font-family:Menlo,'DejaVu Sans Mono',consolas,'Courier New',monospace\"><span style=\"color: #7fbfbf; text-decoration-color: #7fbfbf\">[01/27/25 22:51:03] </span><span style=\"color: #000080; text-decoration-color: #000080\">INFO    </span> <span style=\"font-weight: bold\">[</span><span style=\"color: #008080; text-decoration-color: #008080; font-weight: bold\">19</span>/<span style=\"color: #008080; text-decoration-color: #008080; font-weight: bold\">380</span><span style=\"font-weight: bold\">]</span> Retrieving game with <span style=\"color: #808000; text-decoration-color: #808000\">id</span>=<span style=\"color: #800080; text-decoration-color: #800080\">3b5ecd36</span>                                 <a href=\"file:///usr/local/lib/python3.11/dist-packages/soccerdata/fbref.py\" target=\"_blank\"><span style=\"color: #7f7f7f; text-decoration-color: #7f7f7f\">fbref.py</span></a><span style=\"color: #7f7f7f; text-decoration-color: #7f7f7f\">:</span><a href=\"file:///usr/local/lib/python3.11/dist-packages/soccerdata/fbref.py#815\" target=\"_blank\"><span style=\"color: #7f7f7f; text-decoration-color: #7f7f7f\">815</span></a>\n",
              "</pre>\n"
            ]
          },
          "metadata": {}
        },
        {
          "output_type": "display_data",
          "data": {
            "text/plain": [
              "\u001b[2;36m[01/27/25 22:51:09]\u001b[0m\u001b[2;36m \u001b[0m\u001b[34mINFO    \u001b[0m \u001b[1m[\u001b[0m\u001b[1;36m20\u001b[0m/\u001b[1;36m380\u001b[0m\u001b[1m]\u001b[0m Retrieving game with \u001b[33mid\u001b[0m=\u001b[35m6bfb9dc0\u001b[0m                                 \u001b]8;id=849724;file:///usr/local/lib/python3.11/dist-packages/soccerdata/fbref.py\u001b\\\u001b[2mfbref.py\u001b[0m\u001b]8;;\u001b\\\u001b[2m:\u001b[0m\u001b]8;id=785690;file:///usr/local/lib/python3.11/dist-packages/soccerdata/fbref.py#815\u001b\\\u001b[2m815\u001b[0m\u001b]8;;\u001b\\\n"
            ],
            "text/html": [
              "<pre style=\"white-space:pre;overflow-x:auto;line-height:normal;font-family:Menlo,'DejaVu Sans Mono',consolas,'Courier New',monospace\"><span style=\"color: #7fbfbf; text-decoration-color: #7fbfbf\">[01/27/25 22:51:09] </span><span style=\"color: #000080; text-decoration-color: #000080\">INFO    </span> <span style=\"font-weight: bold\">[</span><span style=\"color: #008080; text-decoration-color: #008080; font-weight: bold\">20</span>/<span style=\"color: #008080; text-decoration-color: #008080; font-weight: bold\">380</span><span style=\"font-weight: bold\">]</span> Retrieving game with <span style=\"color: #808000; text-decoration-color: #808000\">id</span>=<span style=\"color: #800080; text-decoration-color: #800080\">6bfb9dc0</span>                                 <a href=\"file:///usr/local/lib/python3.11/dist-packages/soccerdata/fbref.py\" target=\"_blank\"><span style=\"color: #7f7f7f; text-decoration-color: #7f7f7f\">fbref.py</span></a><span style=\"color: #7f7f7f; text-decoration-color: #7f7f7f\">:</span><a href=\"file:///usr/local/lib/python3.11/dist-packages/soccerdata/fbref.py#815\" target=\"_blank\"><span style=\"color: #7f7f7f; text-decoration-color: #7f7f7f\">815</span></a>\n",
              "</pre>\n"
            ]
          },
          "metadata": {}
        },
        {
          "output_type": "display_data",
          "data": {
            "text/plain": [
              "\u001b[2;36m[01/27/25 22:51:15]\u001b[0m\u001b[2;36m \u001b[0m\u001b[34mINFO    \u001b[0m \u001b[1m[\u001b[0m\u001b[1;36m21\u001b[0m/\u001b[1;36m380\u001b[0m\u001b[1m]\u001b[0m Retrieving game with \u001b[33mid\u001b[0m=\u001b[35md8f8f8ad\u001b[0m                                 \u001b]8;id=989878;file:///usr/local/lib/python3.11/dist-packages/soccerdata/fbref.py\u001b\\\u001b[2mfbref.py\u001b[0m\u001b]8;;\u001b\\\u001b[2m:\u001b[0m\u001b]8;id=333518;file:///usr/local/lib/python3.11/dist-packages/soccerdata/fbref.py#815\u001b\\\u001b[2m815\u001b[0m\u001b]8;;\u001b\\\n"
            ],
            "text/html": [
              "<pre style=\"white-space:pre;overflow-x:auto;line-height:normal;font-family:Menlo,'DejaVu Sans Mono',consolas,'Courier New',monospace\"><span style=\"color: #7fbfbf; text-decoration-color: #7fbfbf\">[01/27/25 22:51:15] </span><span style=\"color: #000080; text-decoration-color: #000080\">INFO    </span> <span style=\"font-weight: bold\">[</span><span style=\"color: #008080; text-decoration-color: #008080; font-weight: bold\">21</span>/<span style=\"color: #008080; text-decoration-color: #008080; font-weight: bold\">380</span><span style=\"font-weight: bold\">]</span> Retrieving game with <span style=\"color: #808000; text-decoration-color: #808000\">id</span>=<span style=\"color: #800080; text-decoration-color: #800080\">d8f8f8ad</span>                                 <a href=\"file:///usr/local/lib/python3.11/dist-packages/soccerdata/fbref.py\" target=\"_blank\"><span style=\"color: #7f7f7f; text-decoration-color: #7f7f7f\">fbref.py</span></a><span style=\"color: #7f7f7f; text-decoration-color: #7f7f7f\">:</span><a href=\"file:///usr/local/lib/python3.11/dist-packages/soccerdata/fbref.py#815\" target=\"_blank\"><span style=\"color: #7f7f7f; text-decoration-color: #7f7f7f\">815</span></a>\n",
              "</pre>\n"
            ]
          },
          "metadata": {}
        },
        {
          "output_type": "display_data",
          "data": {
            "text/plain": [
              "\u001b[2;36m[01/27/25 22:51:22]\u001b[0m\u001b[2;36m \u001b[0m\u001b[34mINFO    \u001b[0m \u001b[1m[\u001b[0m\u001b[1;36m22\u001b[0m/\u001b[1;36m380\u001b[0m\u001b[1m]\u001b[0m Retrieving game with \u001b[33mid\u001b[0m=\u001b[35mf49c4ad2\u001b[0m                                 \u001b]8;id=819765;file:///usr/local/lib/python3.11/dist-packages/soccerdata/fbref.py\u001b\\\u001b[2mfbref.py\u001b[0m\u001b]8;;\u001b\\\u001b[2m:\u001b[0m\u001b]8;id=851406;file:///usr/local/lib/python3.11/dist-packages/soccerdata/fbref.py#815\u001b\\\u001b[2m815\u001b[0m\u001b]8;;\u001b\\\n"
            ],
            "text/html": [
              "<pre style=\"white-space:pre;overflow-x:auto;line-height:normal;font-family:Menlo,'DejaVu Sans Mono',consolas,'Courier New',monospace\"><span style=\"color: #7fbfbf; text-decoration-color: #7fbfbf\">[01/27/25 22:51:22] </span><span style=\"color: #000080; text-decoration-color: #000080\">INFO    </span> <span style=\"font-weight: bold\">[</span><span style=\"color: #008080; text-decoration-color: #008080; font-weight: bold\">22</span>/<span style=\"color: #008080; text-decoration-color: #008080; font-weight: bold\">380</span><span style=\"font-weight: bold\">]</span> Retrieving game with <span style=\"color: #808000; text-decoration-color: #808000\">id</span>=<span style=\"color: #800080; text-decoration-color: #800080\">f49c4ad2</span>                                 <a href=\"file:///usr/local/lib/python3.11/dist-packages/soccerdata/fbref.py\" target=\"_blank\"><span style=\"color: #7f7f7f; text-decoration-color: #7f7f7f\">fbref.py</span></a><span style=\"color: #7f7f7f; text-decoration-color: #7f7f7f\">:</span><a href=\"file:///usr/local/lib/python3.11/dist-packages/soccerdata/fbref.py#815\" target=\"_blank\"><span style=\"color: #7f7f7f; text-decoration-color: #7f7f7f\">815</span></a>\n",
              "</pre>\n"
            ]
          },
          "metadata": {}
        },
        {
          "output_type": "display_data",
          "data": {
            "text/plain": [
              "\u001b[2;36m[01/27/25 22:51:28]\u001b[0m\u001b[2;36m \u001b[0m\u001b[34mINFO    \u001b[0m \u001b[1m[\u001b[0m\u001b[1;36m23\u001b[0m/\u001b[1;36m380\u001b[0m\u001b[1m]\u001b[0m Retrieving game with \u001b[33mid\u001b[0m=\u001b[35m537b2b0b\u001b[0m                                 \u001b]8;id=474129;file:///usr/local/lib/python3.11/dist-packages/soccerdata/fbref.py\u001b\\\u001b[2mfbref.py\u001b[0m\u001b]8;;\u001b\\\u001b[2m:\u001b[0m\u001b]8;id=484872;file:///usr/local/lib/python3.11/dist-packages/soccerdata/fbref.py#815\u001b\\\u001b[2m815\u001b[0m\u001b]8;;\u001b\\\n"
            ],
            "text/html": [
              "<pre style=\"white-space:pre;overflow-x:auto;line-height:normal;font-family:Menlo,'DejaVu Sans Mono',consolas,'Courier New',monospace\"><span style=\"color: #7fbfbf; text-decoration-color: #7fbfbf\">[01/27/25 22:51:28] </span><span style=\"color: #000080; text-decoration-color: #000080\">INFO    </span> <span style=\"font-weight: bold\">[</span><span style=\"color: #008080; text-decoration-color: #008080; font-weight: bold\">23</span>/<span style=\"color: #008080; text-decoration-color: #008080; font-weight: bold\">380</span><span style=\"font-weight: bold\">]</span> Retrieving game with <span style=\"color: #808000; text-decoration-color: #808000\">id</span>=<span style=\"color: #800080; text-decoration-color: #800080\">537b2b0b</span>                                 <a href=\"file:///usr/local/lib/python3.11/dist-packages/soccerdata/fbref.py\" target=\"_blank\"><span style=\"color: #7f7f7f; text-decoration-color: #7f7f7f\">fbref.py</span></a><span style=\"color: #7f7f7f; text-decoration-color: #7f7f7f\">:</span><a href=\"file:///usr/local/lib/python3.11/dist-packages/soccerdata/fbref.py#815\" target=\"_blank\"><span style=\"color: #7f7f7f; text-decoration-color: #7f7f7f\">815</span></a>\n",
              "</pre>\n"
            ]
          },
          "metadata": {}
        },
        {
          "output_type": "display_data",
          "data": {
            "text/plain": [
              "\u001b[2;36m[01/27/25 22:51:34]\u001b[0m\u001b[2;36m \u001b[0m\u001b[34mINFO    \u001b[0m \u001b[1m[\u001b[0m\u001b[1;36m24\u001b[0m/\u001b[1;36m380\u001b[0m\u001b[1m]\u001b[0m Retrieving game with \u001b[33mid\u001b[0m=\u001b[35mba68d60c\u001b[0m                                 \u001b]8;id=679458;file:///usr/local/lib/python3.11/dist-packages/soccerdata/fbref.py\u001b\\\u001b[2mfbref.py\u001b[0m\u001b]8;;\u001b\\\u001b[2m:\u001b[0m\u001b]8;id=514855;file:///usr/local/lib/python3.11/dist-packages/soccerdata/fbref.py#815\u001b\\\u001b[2m815\u001b[0m\u001b]8;;\u001b\\\n"
            ],
            "text/html": [
              "<pre style=\"white-space:pre;overflow-x:auto;line-height:normal;font-family:Menlo,'DejaVu Sans Mono',consolas,'Courier New',monospace\"><span style=\"color: #7fbfbf; text-decoration-color: #7fbfbf\">[01/27/25 22:51:34] </span><span style=\"color: #000080; text-decoration-color: #000080\">INFO    </span> <span style=\"font-weight: bold\">[</span><span style=\"color: #008080; text-decoration-color: #008080; font-weight: bold\">24</span>/<span style=\"color: #008080; text-decoration-color: #008080; font-weight: bold\">380</span><span style=\"font-weight: bold\">]</span> Retrieving game with <span style=\"color: #808000; text-decoration-color: #808000\">id</span>=<span style=\"color: #800080; text-decoration-color: #800080\">ba68d60c</span>                                 <a href=\"file:///usr/local/lib/python3.11/dist-packages/soccerdata/fbref.py\" target=\"_blank\"><span style=\"color: #7f7f7f; text-decoration-color: #7f7f7f\">fbref.py</span></a><span style=\"color: #7f7f7f; text-decoration-color: #7f7f7f\">:</span><a href=\"file:///usr/local/lib/python3.11/dist-packages/soccerdata/fbref.py#815\" target=\"_blank\"><span style=\"color: #7f7f7f; text-decoration-color: #7f7f7f\">815</span></a>\n",
              "</pre>\n"
            ]
          },
          "metadata": {}
        },
        {
          "output_type": "display_data",
          "data": {
            "text/plain": [
              "\u001b[2;36m[01/27/25 22:51:41]\u001b[0m\u001b[2;36m \u001b[0m\u001b[34mINFO    \u001b[0m \u001b[1m[\u001b[0m\u001b[1;36m25\u001b[0m/\u001b[1;36m380\u001b[0m\u001b[1m]\u001b[0m Retrieving game with \u001b[33mid\u001b[0m=\u001b[35m18dfee28\u001b[0m                                 \u001b]8;id=431025;file:///usr/local/lib/python3.11/dist-packages/soccerdata/fbref.py\u001b\\\u001b[2mfbref.py\u001b[0m\u001b]8;;\u001b\\\u001b[2m:\u001b[0m\u001b]8;id=162075;file:///usr/local/lib/python3.11/dist-packages/soccerdata/fbref.py#815\u001b\\\u001b[2m815\u001b[0m\u001b]8;;\u001b\\\n"
            ],
            "text/html": [
              "<pre style=\"white-space:pre;overflow-x:auto;line-height:normal;font-family:Menlo,'DejaVu Sans Mono',consolas,'Courier New',monospace\"><span style=\"color: #7fbfbf; text-decoration-color: #7fbfbf\">[01/27/25 22:51:41] </span><span style=\"color: #000080; text-decoration-color: #000080\">INFO    </span> <span style=\"font-weight: bold\">[</span><span style=\"color: #008080; text-decoration-color: #008080; font-weight: bold\">25</span>/<span style=\"color: #008080; text-decoration-color: #008080; font-weight: bold\">380</span><span style=\"font-weight: bold\">]</span> Retrieving game with <span style=\"color: #808000; text-decoration-color: #808000\">id</span>=<span style=\"color: #800080; text-decoration-color: #800080\">18dfee28</span>                                 <a href=\"file:///usr/local/lib/python3.11/dist-packages/soccerdata/fbref.py\" target=\"_blank\"><span style=\"color: #7f7f7f; text-decoration-color: #7f7f7f\">fbref.py</span></a><span style=\"color: #7f7f7f; text-decoration-color: #7f7f7f\">:</span><a href=\"file:///usr/local/lib/python3.11/dist-packages/soccerdata/fbref.py#815\" target=\"_blank\"><span style=\"color: #7f7f7f; text-decoration-color: #7f7f7f\">815</span></a>\n",
              "</pre>\n"
            ]
          },
          "metadata": {}
        },
        {
          "output_type": "display_data",
          "data": {
            "text/plain": [
              "\u001b[2;36m[01/27/25 22:51:47]\u001b[0m\u001b[2;36m \u001b[0m\u001b[34mINFO    \u001b[0m \u001b[1m[\u001b[0m\u001b[1;36m26\u001b[0m/\u001b[1;36m380\u001b[0m\u001b[1m]\u001b[0m Retrieving game with \u001b[33mid\u001b[0m=\u001b[35m70d9b1ab\u001b[0m                                 \u001b]8;id=674900;file:///usr/local/lib/python3.11/dist-packages/soccerdata/fbref.py\u001b\\\u001b[2mfbref.py\u001b[0m\u001b]8;;\u001b\\\u001b[2m:\u001b[0m\u001b]8;id=113901;file:///usr/local/lib/python3.11/dist-packages/soccerdata/fbref.py#815\u001b\\\u001b[2m815\u001b[0m\u001b]8;;\u001b\\\n"
            ],
            "text/html": [
              "<pre style=\"white-space:pre;overflow-x:auto;line-height:normal;font-family:Menlo,'DejaVu Sans Mono',consolas,'Courier New',monospace\"><span style=\"color: #7fbfbf; text-decoration-color: #7fbfbf\">[01/27/25 22:51:47] </span><span style=\"color: #000080; text-decoration-color: #000080\">INFO    </span> <span style=\"font-weight: bold\">[</span><span style=\"color: #008080; text-decoration-color: #008080; font-weight: bold\">26</span>/<span style=\"color: #008080; text-decoration-color: #008080; font-weight: bold\">380</span><span style=\"font-weight: bold\">]</span> Retrieving game with <span style=\"color: #808000; text-decoration-color: #808000\">id</span>=<span style=\"color: #800080; text-decoration-color: #800080\">70d9b1ab</span>                                 <a href=\"file:///usr/local/lib/python3.11/dist-packages/soccerdata/fbref.py\" target=\"_blank\"><span style=\"color: #7f7f7f; text-decoration-color: #7f7f7f\">fbref.py</span></a><span style=\"color: #7f7f7f; text-decoration-color: #7f7f7f\">:</span><a href=\"file:///usr/local/lib/python3.11/dist-packages/soccerdata/fbref.py#815\" target=\"_blank\"><span style=\"color: #7f7f7f; text-decoration-color: #7f7f7f\">815</span></a>\n",
              "</pre>\n"
            ]
          },
          "metadata": {}
        },
        {
          "output_type": "display_data",
          "data": {
            "text/plain": [
              "\u001b[2;36m[01/27/25 22:51:53]\u001b[0m\u001b[2;36m \u001b[0m\u001b[1;31mERROR   \u001b[0m Error while scraping \u001b[4;94mhttps://fbref.com/en/matches/70d9b1ab.\u001b[0m Retrying\u001b[33m...\u001b[0m \u001b]8;id=122729;file:///usr/local/lib/python3.11/dist-packages/soccerdata/_common.py\u001b\\\u001b[2m_common.py\u001b[0m\u001b]8;;\u001b\\\u001b[2m:\u001b[0m\u001b]8;id=896990;file:///usr/local/lib/python3.11/dist-packages/soccerdata/_common.py#545\u001b\\\u001b[2m545\u001b[0m\u001b]8;;\u001b\\\n",
              "\u001b[2;36m                    \u001b[0m         \u001b[1m(\u001b[0mattempt \u001b[1;36m1\u001b[0m of \u001b[1;36m5\u001b[0m\u001b[1m)\u001b[0m.                                                       \u001b[2m              \u001b[0m\n",
              "\u001b[2;36m                    \u001b[0m         Traceback \u001b[1m(\u001b[0mmost recent call last\u001b[1m)\u001b[0m:                                      \u001b[2m              \u001b[0m\n",
              "\u001b[2;36m                    \u001b[0m           File \u001b[32m\"/usr/local/lib/python3.11/dist-packages/soccerdata/_common.py\"\u001b[0m, \u001b[2m              \u001b[0m\n",
              "\u001b[2;36m                    \u001b[0m         line \u001b[1;36m525\u001b[0m, in _download_and_save                                         \u001b[2m              \u001b[0m\n",
              "\u001b[2;36m                    \u001b[0m             \u001b[1;35mresponse.raise_for_status\u001b[0m\u001b[1m(\u001b[0m\u001b[1m)\u001b[0m                                         \u001b[2m              \u001b[0m\n",
              "\u001b[2;36m                    \u001b[0m           File \u001b[32m\"/usr/local/lib/python3.11/dist-packages/requests/models.py\"\u001b[0m,    \u001b[2m              \u001b[0m\n",
              "\u001b[2;36m                    \u001b[0m         line \u001b[1;36m1024\u001b[0m, in raise_for_status                                          \u001b[2m              \u001b[0m\n",
              "\u001b[2;36m                    \u001b[0m             raise \u001b[1;35mHTTPError\u001b[0m\u001b[1m(\u001b[0mhttp_error_msg, \u001b[33mresponse\u001b[0m=\u001b[35mself\u001b[0m\u001b[1m)\u001b[0m                      \u001b[2m              \u001b[0m\n",
              "\u001b[2;36m                    \u001b[0m         requests.exceptions.HTTPError: \u001b[1;36m403\u001b[0m Client Error: Forbidden for url:     \u001b[2m              \u001b[0m\n",
              "\u001b[2;36m                    \u001b[0m         \u001b[4;94mhttps://fbref.com/en/matches/70d9b1ab\u001b[0m                                   \u001b[2m              \u001b[0m\n"
            ],
            "text/html": [
              "<pre style=\"white-space:pre;overflow-x:auto;line-height:normal;font-family:Menlo,'DejaVu Sans Mono',consolas,'Courier New',monospace\"><span style=\"color: #7fbfbf; text-decoration-color: #7fbfbf\">[01/27/25 22:51:53] </span><span style=\"color: #800000; text-decoration-color: #800000; font-weight: bold\">ERROR   </span> Error while scraping <span style=\"color: #0000ff; text-decoration-color: #0000ff; text-decoration: underline\">https://fbref.com/en/matches/70d9b1ab.</span> Retrying<span style=\"color: #808000; text-decoration-color: #808000\">...</span> <a href=\"file:///usr/local/lib/python3.11/dist-packages/soccerdata/_common.py\" target=\"_blank\"><span style=\"color: #7f7f7f; text-decoration-color: #7f7f7f\">_common.py</span></a><span style=\"color: #7f7f7f; text-decoration-color: #7f7f7f\">:</span><a href=\"file:///usr/local/lib/python3.11/dist-packages/soccerdata/_common.py#545\" target=\"_blank\"><span style=\"color: #7f7f7f; text-decoration-color: #7f7f7f\">545</span></a>\n",
              "<span style=\"color: #7fbfbf; text-decoration-color: #7fbfbf\">                    </span>         <span style=\"font-weight: bold\">(</span>attempt <span style=\"color: #008080; text-decoration-color: #008080; font-weight: bold\">1</span> of <span style=\"color: #008080; text-decoration-color: #008080; font-weight: bold\">5</span><span style=\"font-weight: bold\">)</span>.                                                       <span style=\"color: #7f7f7f; text-decoration-color: #7f7f7f\">              </span>\n",
              "<span style=\"color: #7fbfbf; text-decoration-color: #7fbfbf\">                    </span>         Traceback <span style=\"font-weight: bold\">(</span>most recent call last<span style=\"font-weight: bold\">)</span>:                                      <span style=\"color: #7f7f7f; text-decoration-color: #7f7f7f\">              </span>\n",
              "<span style=\"color: #7fbfbf; text-decoration-color: #7fbfbf\">                    </span>           File <span style=\"color: #008000; text-decoration-color: #008000\">\"/usr/local/lib/python3.11/dist-packages/soccerdata/_common.py\"</span>, <span style=\"color: #7f7f7f; text-decoration-color: #7f7f7f\">              </span>\n",
              "<span style=\"color: #7fbfbf; text-decoration-color: #7fbfbf\">                    </span>         line <span style=\"color: #008080; text-decoration-color: #008080; font-weight: bold\">525</span>, in _download_and_save                                         <span style=\"color: #7f7f7f; text-decoration-color: #7f7f7f\">              </span>\n",
              "<span style=\"color: #7fbfbf; text-decoration-color: #7fbfbf\">                    </span>             <span style=\"color: #800080; text-decoration-color: #800080; font-weight: bold\">response.raise_for_status</span><span style=\"font-weight: bold\">()</span>                                         <span style=\"color: #7f7f7f; text-decoration-color: #7f7f7f\">              </span>\n",
              "<span style=\"color: #7fbfbf; text-decoration-color: #7fbfbf\">                    </span>           File <span style=\"color: #008000; text-decoration-color: #008000\">\"/usr/local/lib/python3.11/dist-packages/requests/models.py\"</span>,    <span style=\"color: #7f7f7f; text-decoration-color: #7f7f7f\">              </span>\n",
              "<span style=\"color: #7fbfbf; text-decoration-color: #7fbfbf\">                    </span>         line <span style=\"color: #008080; text-decoration-color: #008080; font-weight: bold\">1024</span>, in raise_for_status                                          <span style=\"color: #7f7f7f; text-decoration-color: #7f7f7f\">              </span>\n",
              "<span style=\"color: #7fbfbf; text-decoration-color: #7fbfbf\">                    </span>             raise <span style=\"color: #800080; text-decoration-color: #800080; font-weight: bold\">HTTPError</span><span style=\"font-weight: bold\">(</span>http_error_msg, <span style=\"color: #808000; text-decoration-color: #808000\">response</span>=<span style=\"color: #800080; text-decoration-color: #800080\">self</span><span style=\"font-weight: bold\">)</span>                      <span style=\"color: #7f7f7f; text-decoration-color: #7f7f7f\">              </span>\n",
              "<span style=\"color: #7fbfbf; text-decoration-color: #7fbfbf\">                    </span>         requests.exceptions.HTTPError: <span style=\"color: #008080; text-decoration-color: #008080; font-weight: bold\">403</span> Client Error: Forbidden for url:     <span style=\"color: #7f7f7f; text-decoration-color: #7f7f7f\">              </span>\n",
              "<span style=\"color: #7fbfbf; text-decoration-color: #7fbfbf\">                    </span>         <span style=\"color: #0000ff; text-decoration-color: #0000ff; text-decoration: underline\">https://fbref.com/en/matches/70d9b1ab</span>                                   <span style=\"color: #7f7f7f; text-decoration-color: #7f7f7f\">              </span>\n",
              "</pre>\n"
            ]
          },
          "metadata": {}
        },
        {
          "output_type": "display_data",
          "data": {
            "text/plain": [
              "\u001b[2;36m[01/27/25 22:51:59]\u001b[0m\u001b[2;36m \u001b[0m\u001b[34mINFO    \u001b[0m \u001b[1m[\u001b[0m\u001b[1;36m27\u001b[0m/\u001b[1;36m380\u001b[0m\u001b[1m]\u001b[0m Retrieving game with \u001b[33mid\u001b[0m=\u001b[35mb66a7def\u001b[0m                                 \u001b]8;id=885551;file:///usr/local/lib/python3.11/dist-packages/soccerdata/fbref.py\u001b\\\u001b[2mfbref.py\u001b[0m\u001b]8;;\u001b\\\u001b[2m:\u001b[0m\u001b]8;id=131934;file:///usr/local/lib/python3.11/dist-packages/soccerdata/fbref.py#815\u001b\\\u001b[2m815\u001b[0m\u001b]8;;\u001b\\\n"
            ],
            "text/html": [
              "<pre style=\"white-space:pre;overflow-x:auto;line-height:normal;font-family:Menlo,'DejaVu Sans Mono',consolas,'Courier New',monospace\"><span style=\"color: #7fbfbf; text-decoration-color: #7fbfbf\">[01/27/25 22:51:59] </span><span style=\"color: #000080; text-decoration-color: #000080\">INFO    </span> <span style=\"font-weight: bold\">[</span><span style=\"color: #008080; text-decoration-color: #008080; font-weight: bold\">27</span>/<span style=\"color: #008080; text-decoration-color: #008080; font-weight: bold\">380</span><span style=\"font-weight: bold\">]</span> Retrieving game with <span style=\"color: #808000; text-decoration-color: #808000\">id</span>=<span style=\"color: #800080; text-decoration-color: #800080\">b66a7def</span>                                 <a href=\"file:///usr/local/lib/python3.11/dist-packages/soccerdata/fbref.py\" target=\"_blank\"><span style=\"color: #7f7f7f; text-decoration-color: #7f7f7f\">fbref.py</span></a><span style=\"color: #7f7f7f; text-decoration-color: #7f7f7f\">:</span><a href=\"file:///usr/local/lib/python3.11/dist-packages/soccerdata/fbref.py#815\" target=\"_blank\"><span style=\"color: #7f7f7f; text-decoration-color: #7f7f7f\">815</span></a>\n",
              "</pre>\n"
            ]
          },
          "metadata": {}
        },
        {
          "output_type": "display_data",
          "data": {
            "text/plain": [
              "\u001b[2;36m[01/27/25 22:52:06]\u001b[0m\u001b[2;36m \u001b[0m\u001b[34mINFO    \u001b[0m \u001b[1m[\u001b[0m\u001b[1;36m28\u001b[0m/\u001b[1;36m380\u001b[0m\u001b[1m]\u001b[0m Retrieving game with \u001b[33mid\u001b[0m=\u001b[35mb31156ab\u001b[0m                                 \u001b]8;id=668200;file:///usr/local/lib/python3.11/dist-packages/soccerdata/fbref.py\u001b\\\u001b[2mfbref.py\u001b[0m\u001b]8;;\u001b\\\u001b[2m:\u001b[0m\u001b]8;id=612183;file:///usr/local/lib/python3.11/dist-packages/soccerdata/fbref.py#815\u001b\\\u001b[2m815\u001b[0m\u001b]8;;\u001b\\\n"
            ],
            "text/html": [
              "<pre style=\"white-space:pre;overflow-x:auto;line-height:normal;font-family:Menlo,'DejaVu Sans Mono',consolas,'Courier New',monospace\"><span style=\"color: #7fbfbf; text-decoration-color: #7fbfbf\">[01/27/25 22:52:06] </span><span style=\"color: #000080; text-decoration-color: #000080\">INFO    </span> <span style=\"font-weight: bold\">[</span><span style=\"color: #008080; text-decoration-color: #008080; font-weight: bold\">28</span>/<span style=\"color: #008080; text-decoration-color: #008080; font-weight: bold\">380</span><span style=\"font-weight: bold\">]</span> Retrieving game with <span style=\"color: #808000; text-decoration-color: #808000\">id</span>=<span style=\"color: #800080; text-decoration-color: #800080\">b31156ab</span>                                 <a href=\"file:///usr/local/lib/python3.11/dist-packages/soccerdata/fbref.py\" target=\"_blank\"><span style=\"color: #7f7f7f; text-decoration-color: #7f7f7f\">fbref.py</span></a><span style=\"color: #7f7f7f; text-decoration-color: #7f7f7f\">:</span><a href=\"file:///usr/local/lib/python3.11/dist-packages/soccerdata/fbref.py#815\" target=\"_blank\"><span style=\"color: #7f7f7f; text-decoration-color: #7f7f7f\">815</span></a>\n",
              "</pre>\n"
            ]
          },
          "metadata": {}
        },
        {
          "output_type": "display_data",
          "data": {
            "text/plain": [
              "\u001b[2;36m[01/27/25 22:52:12]\u001b[0m\u001b[2;36m \u001b[0m\u001b[34mINFO    \u001b[0m \u001b[1m[\u001b[0m\u001b[1;36m29\u001b[0m/\u001b[1;36m380\u001b[0m\u001b[1m]\u001b[0m Retrieving game with \u001b[33mid\u001b[0m=\u001b[35m0844ff10\u001b[0m                                 \u001b]8;id=703951;file:///usr/local/lib/python3.11/dist-packages/soccerdata/fbref.py\u001b\\\u001b[2mfbref.py\u001b[0m\u001b]8;;\u001b\\\u001b[2m:\u001b[0m\u001b]8;id=806412;file:///usr/local/lib/python3.11/dist-packages/soccerdata/fbref.py#815\u001b\\\u001b[2m815\u001b[0m\u001b]8;;\u001b\\\n"
            ],
            "text/html": [
              "<pre style=\"white-space:pre;overflow-x:auto;line-height:normal;font-family:Menlo,'DejaVu Sans Mono',consolas,'Courier New',monospace\"><span style=\"color: #7fbfbf; text-decoration-color: #7fbfbf\">[01/27/25 22:52:12] </span><span style=\"color: #000080; text-decoration-color: #000080\">INFO    </span> <span style=\"font-weight: bold\">[</span><span style=\"color: #008080; text-decoration-color: #008080; font-weight: bold\">29</span>/<span style=\"color: #008080; text-decoration-color: #008080; font-weight: bold\">380</span><span style=\"font-weight: bold\">]</span> Retrieving game with <span style=\"color: #808000; text-decoration-color: #808000\">id</span>=<span style=\"color: #800080; text-decoration-color: #800080\">0844ff10</span>                                 <a href=\"file:///usr/local/lib/python3.11/dist-packages/soccerdata/fbref.py\" target=\"_blank\"><span style=\"color: #7f7f7f; text-decoration-color: #7f7f7f\">fbref.py</span></a><span style=\"color: #7f7f7f; text-decoration-color: #7f7f7f\">:</span><a href=\"file:///usr/local/lib/python3.11/dist-packages/soccerdata/fbref.py#815\" target=\"_blank\"><span style=\"color: #7f7f7f; text-decoration-color: #7f7f7f\">815</span></a>\n",
              "</pre>\n"
            ]
          },
          "metadata": {}
        },
        {
          "output_type": "display_data",
          "data": {
            "text/plain": [
              "\u001b[2;36m[01/27/25 22:52:18]\u001b[0m\u001b[2;36m \u001b[0m\u001b[34mINFO    \u001b[0m \u001b[1m[\u001b[0m\u001b[1;36m30\u001b[0m/\u001b[1;36m380\u001b[0m\u001b[1m]\u001b[0m Retrieving game with \u001b[33mid\u001b[0m=\u001b[35me929e225\u001b[0m                                 \u001b]8;id=353086;file:///usr/local/lib/python3.11/dist-packages/soccerdata/fbref.py\u001b\\\u001b[2mfbref.py\u001b[0m\u001b]8;;\u001b\\\u001b[2m:\u001b[0m\u001b]8;id=714740;file:///usr/local/lib/python3.11/dist-packages/soccerdata/fbref.py#815\u001b\\\u001b[2m815\u001b[0m\u001b]8;;\u001b\\\n"
            ],
            "text/html": [
              "<pre style=\"white-space:pre;overflow-x:auto;line-height:normal;font-family:Menlo,'DejaVu Sans Mono',consolas,'Courier New',monospace\"><span style=\"color: #7fbfbf; text-decoration-color: #7fbfbf\">[01/27/25 22:52:18] </span><span style=\"color: #000080; text-decoration-color: #000080\">INFO    </span> <span style=\"font-weight: bold\">[</span><span style=\"color: #008080; text-decoration-color: #008080; font-weight: bold\">30</span>/<span style=\"color: #008080; text-decoration-color: #008080; font-weight: bold\">380</span><span style=\"font-weight: bold\">]</span> Retrieving game with <span style=\"color: #808000; text-decoration-color: #808000\">id</span>=<span style=\"color: #800080; text-decoration-color: #800080\">e929e225</span>                                 <a href=\"file:///usr/local/lib/python3.11/dist-packages/soccerdata/fbref.py\" target=\"_blank\"><span style=\"color: #7f7f7f; text-decoration-color: #7f7f7f\">fbref.py</span></a><span style=\"color: #7f7f7f; text-decoration-color: #7f7f7f\">:</span><a href=\"file:///usr/local/lib/python3.11/dist-packages/soccerdata/fbref.py#815\" target=\"_blank\"><span style=\"color: #7f7f7f; text-decoration-color: #7f7f7f\">815</span></a>\n",
              "</pre>\n"
            ]
          },
          "metadata": {}
        },
        {
          "output_type": "display_data",
          "data": {
            "text/plain": [
              "\u001b[2;36m[01/27/25 22:52:25]\u001b[0m\u001b[2;36m \u001b[0m\u001b[34mINFO    \u001b[0m \u001b[1m[\u001b[0m\u001b[1;36m31\u001b[0m/\u001b[1;36m380\u001b[0m\u001b[1m]\u001b[0m Retrieving game with \u001b[33mid\u001b[0m=\u001b[35me2946b10\u001b[0m                                 \u001b]8;id=214880;file:///usr/local/lib/python3.11/dist-packages/soccerdata/fbref.py\u001b\\\u001b[2mfbref.py\u001b[0m\u001b]8;;\u001b\\\u001b[2m:\u001b[0m\u001b]8;id=612808;file:///usr/local/lib/python3.11/dist-packages/soccerdata/fbref.py#815\u001b\\\u001b[2m815\u001b[0m\u001b]8;;\u001b\\\n"
            ],
            "text/html": [
              "<pre style=\"white-space:pre;overflow-x:auto;line-height:normal;font-family:Menlo,'DejaVu Sans Mono',consolas,'Courier New',monospace\"><span style=\"color: #7fbfbf; text-decoration-color: #7fbfbf\">[01/27/25 22:52:25] </span><span style=\"color: #000080; text-decoration-color: #000080\">INFO    </span> <span style=\"font-weight: bold\">[</span><span style=\"color: #008080; text-decoration-color: #008080; font-weight: bold\">31</span>/<span style=\"color: #008080; text-decoration-color: #008080; font-weight: bold\">380</span><span style=\"font-weight: bold\">]</span> Retrieving game with <span style=\"color: #808000; text-decoration-color: #808000\">id</span>=<span style=\"color: #800080; text-decoration-color: #800080\">e2946b10</span>                                 <a href=\"file:///usr/local/lib/python3.11/dist-packages/soccerdata/fbref.py\" target=\"_blank\"><span style=\"color: #7f7f7f; text-decoration-color: #7f7f7f\">fbref.py</span></a><span style=\"color: #7f7f7f; text-decoration-color: #7f7f7f\">:</span><a href=\"file:///usr/local/lib/python3.11/dist-packages/soccerdata/fbref.py#815\" target=\"_blank\"><span style=\"color: #7f7f7f; text-decoration-color: #7f7f7f\">815</span></a>\n",
              "</pre>\n"
            ]
          },
          "metadata": {}
        },
        {
          "output_type": "display_data",
          "data": {
            "text/plain": [
              "\u001b[2;36m[01/27/25 22:52:31]\u001b[0m\u001b[2;36m \u001b[0m\u001b[34mINFO    \u001b[0m \u001b[1m[\u001b[0m\u001b[1;36m32\u001b[0m/\u001b[1;36m380\u001b[0m\u001b[1m]\u001b[0m Retrieving game with \u001b[33mid\u001b[0m=\u001b[35m4f754e0a\u001b[0m                                 \u001b]8;id=785368;file:///usr/local/lib/python3.11/dist-packages/soccerdata/fbref.py\u001b\\\u001b[2mfbref.py\u001b[0m\u001b]8;;\u001b\\\u001b[2m:\u001b[0m\u001b]8;id=716244;file:///usr/local/lib/python3.11/dist-packages/soccerdata/fbref.py#815\u001b\\\u001b[2m815\u001b[0m\u001b]8;;\u001b\\\n"
            ],
            "text/html": [
              "<pre style=\"white-space:pre;overflow-x:auto;line-height:normal;font-family:Menlo,'DejaVu Sans Mono',consolas,'Courier New',monospace\"><span style=\"color: #7fbfbf; text-decoration-color: #7fbfbf\">[01/27/25 22:52:31] </span><span style=\"color: #000080; text-decoration-color: #000080\">INFO    </span> <span style=\"font-weight: bold\">[</span><span style=\"color: #008080; text-decoration-color: #008080; font-weight: bold\">32</span>/<span style=\"color: #008080; text-decoration-color: #008080; font-weight: bold\">380</span><span style=\"font-weight: bold\">]</span> Retrieving game with <span style=\"color: #808000; text-decoration-color: #808000\">id</span>=<span style=\"color: #800080; text-decoration-color: #800080\">4f754e0a</span>                                 <a href=\"file:///usr/local/lib/python3.11/dist-packages/soccerdata/fbref.py\" target=\"_blank\"><span style=\"color: #7f7f7f; text-decoration-color: #7f7f7f\">fbref.py</span></a><span style=\"color: #7f7f7f; text-decoration-color: #7f7f7f\">:</span><a href=\"file:///usr/local/lib/python3.11/dist-packages/soccerdata/fbref.py#815\" target=\"_blank\"><span style=\"color: #7f7f7f; text-decoration-color: #7f7f7f\">815</span></a>\n",
              "</pre>\n"
            ]
          },
          "metadata": {}
        },
        {
          "output_type": "display_data",
          "data": {
            "text/plain": [
              "\u001b[2;36m[01/27/25 22:52:38]\u001b[0m\u001b[2;36m \u001b[0m\u001b[34mINFO    \u001b[0m \u001b[1m[\u001b[0m\u001b[1;36m33\u001b[0m/\u001b[1;36m380\u001b[0m\u001b[1m]\u001b[0m Retrieving game with \u001b[33mid\u001b[0m=\u001b[35mf1786fb8\u001b[0m                                 \u001b]8;id=511172;file:///usr/local/lib/python3.11/dist-packages/soccerdata/fbref.py\u001b\\\u001b[2mfbref.py\u001b[0m\u001b]8;;\u001b\\\u001b[2m:\u001b[0m\u001b]8;id=677464;file:///usr/local/lib/python3.11/dist-packages/soccerdata/fbref.py#815\u001b\\\u001b[2m815\u001b[0m\u001b]8;;\u001b\\\n"
            ],
            "text/html": [
              "<pre style=\"white-space:pre;overflow-x:auto;line-height:normal;font-family:Menlo,'DejaVu Sans Mono',consolas,'Courier New',monospace\"><span style=\"color: #7fbfbf; text-decoration-color: #7fbfbf\">[01/27/25 22:52:38] </span><span style=\"color: #000080; text-decoration-color: #000080\">INFO    </span> <span style=\"font-weight: bold\">[</span><span style=\"color: #008080; text-decoration-color: #008080; font-weight: bold\">33</span>/<span style=\"color: #008080; text-decoration-color: #008080; font-weight: bold\">380</span><span style=\"font-weight: bold\">]</span> Retrieving game with <span style=\"color: #808000; text-decoration-color: #808000\">id</span>=<span style=\"color: #800080; text-decoration-color: #800080\">f1786fb8</span>                                 <a href=\"file:///usr/local/lib/python3.11/dist-packages/soccerdata/fbref.py\" target=\"_blank\"><span style=\"color: #7f7f7f; text-decoration-color: #7f7f7f\">fbref.py</span></a><span style=\"color: #7f7f7f; text-decoration-color: #7f7f7f\">:</span><a href=\"file:///usr/local/lib/python3.11/dist-packages/soccerdata/fbref.py#815\" target=\"_blank\"><span style=\"color: #7f7f7f; text-decoration-color: #7f7f7f\">815</span></a>\n",
              "</pre>\n"
            ]
          },
          "metadata": {}
        },
        {
          "output_type": "display_data",
          "data": {
            "text/plain": [
              "\u001b[2;36m[01/27/25 22:52:44]\u001b[0m\u001b[2;36m \u001b[0m\u001b[34mINFO    \u001b[0m \u001b[1m[\u001b[0m\u001b[1;36m34\u001b[0m/\u001b[1;36m380\u001b[0m\u001b[1m]\u001b[0m Retrieving game with \u001b[33mid\u001b[0m=\u001b[35m44e89d37\u001b[0m                                 \u001b]8;id=849603;file:///usr/local/lib/python3.11/dist-packages/soccerdata/fbref.py\u001b\\\u001b[2mfbref.py\u001b[0m\u001b]8;;\u001b\\\u001b[2m:\u001b[0m\u001b]8;id=315461;file:///usr/local/lib/python3.11/dist-packages/soccerdata/fbref.py#815\u001b\\\u001b[2m815\u001b[0m\u001b]8;;\u001b\\\n"
            ],
            "text/html": [
              "<pre style=\"white-space:pre;overflow-x:auto;line-height:normal;font-family:Menlo,'DejaVu Sans Mono',consolas,'Courier New',monospace\"><span style=\"color: #7fbfbf; text-decoration-color: #7fbfbf\">[01/27/25 22:52:44] </span><span style=\"color: #000080; text-decoration-color: #000080\">INFO    </span> <span style=\"font-weight: bold\">[</span><span style=\"color: #008080; text-decoration-color: #008080; font-weight: bold\">34</span>/<span style=\"color: #008080; text-decoration-color: #008080; font-weight: bold\">380</span><span style=\"font-weight: bold\">]</span> Retrieving game with <span style=\"color: #808000; text-decoration-color: #808000\">id</span>=<span style=\"color: #800080; text-decoration-color: #800080\">44e89d37</span>                                 <a href=\"file:///usr/local/lib/python3.11/dist-packages/soccerdata/fbref.py\" target=\"_blank\"><span style=\"color: #7f7f7f; text-decoration-color: #7f7f7f\">fbref.py</span></a><span style=\"color: #7f7f7f; text-decoration-color: #7f7f7f\">:</span><a href=\"file:///usr/local/lib/python3.11/dist-packages/soccerdata/fbref.py#815\" target=\"_blank\"><span style=\"color: #7f7f7f; text-decoration-color: #7f7f7f\">815</span></a>\n",
              "</pre>\n"
            ]
          },
          "metadata": {}
        },
        {
          "output_type": "display_data",
          "data": {
            "text/plain": [
              "\u001b[2;36m[01/27/25 22:52:51]\u001b[0m\u001b[2;36m \u001b[0m\u001b[34mINFO    \u001b[0m \u001b[1m[\u001b[0m\u001b[1;36m35\u001b[0m/\u001b[1;36m380\u001b[0m\u001b[1m]\u001b[0m Retrieving game with \u001b[33mid\u001b[0m=\u001b[35m88066bdf\u001b[0m                                 \u001b]8;id=832000;file:///usr/local/lib/python3.11/dist-packages/soccerdata/fbref.py\u001b\\\u001b[2mfbref.py\u001b[0m\u001b]8;;\u001b\\\u001b[2m:\u001b[0m\u001b]8;id=426212;file:///usr/local/lib/python3.11/dist-packages/soccerdata/fbref.py#815\u001b\\\u001b[2m815\u001b[0m\u001b]8;;\u001b\\\n"
            ],
            "text/html": [
              "<pre style=\"white-space:pre;overflow-x:auto;line-height:normal;font-family:Menlo,'DejaVu Sans Mono',consolas,'Courier New',monospace\"><span style=\"color: #7fbfbf; text-decoration-color: #7fbfbf\">[01/27/25 22:52:51] </span><span style=\"color: #000080; text-decoration-color: #000080\">INFO    </span> <span style=\"font-weight: bold\">[</span><span style=\"color: #008080; text-decoration-color: #008080; font-weight: bold\">35</span>/<span style=\"color: #008080; text-decoration-color: #008080; font-weight: bold\">380</span><span style=\"font-weight: bold\">]</span> Retrieving game with <span style=\"color: #808000; text-decoration-color: #808000\">id</span>=<span style=\"color: #800080; text-decoration-color: #800080\">88066bdf</span>                                 <a href=\"file:///usr/local/lib/python3.11/dist-packages/soccerdata/fbref.py\" target=\"_blank\"><span style=\"color: #7f7f7f; text-decoration-color: #7f7f7f\">fbref.py</span></a><span style=\"color: #7f7f7f; text-decoration-color: #7f7f7f\">:</span><a href=\"file:///usr/local/lib/python3.11/dist-packages/soccerdata/fbref.py#815\" target=\"_blank\"><span style=\"color: #7f7f7f; text-decoration-color: #7f7f7f\">815</span></a>\n",
              "</pre>\n"
            ]
          },
          "metadata": {}
        },
        {
          "output_type": "display_data",
          "data": {
            "text/plain": [
              "\u001b[2;36m[01/27/25 22:52:57]\u001b[0m\u001b[2;36m \u001b[0m\u001b[34mINFO    \u001b[0m \u001b[1m[\u001b[0m\u001b[1;36m36\u001b[0m/\u001b[1;36m380\u001b[0m\u001b[1m]\u001b[0m Retrieving game with \u001b[33mid\u001b[0m=\u001b[35m87b46bb9\u001b[0m                                 \u001b]8;id=683461;file:///usr/local/lib/python3.11/dist-packages/soccerdata/fbref.py\u001b\\\u001b[2mfbref.py\u001b[0m\u001b]8;;\u001b\\\u001b[2m:\u001b[0m\u001b]8;id=920949;file:///usr/local/lib/python3.11/dist-packages/soccerdata/fbref.py#815\u001b\\\u001b[2m815\u001b[0m\u001b]8;;\u001b\\\n"
            ],
            "text/html": [
              "<pre style=\"white-space:pre;overflow-x:auto;line-height:normal;font-family:Menlo,'DejaVu Sans Mono',consolas,'Courier New',monospace\"><span style=\"color: #7fbfbf; text-decoration-color: #7fbfbf\">[01/27/25 22:52:57] </span><span style=\"color: #000080; text-decoration-color: #000080\">INFO    </span> <span style=\"font-weight: bold\">[</span><span style=\"color: #008080; text-decoration-color: #008080; font-weight: bold\">36</span>/<span style=\"color: #008080; text-decoration-color: #008080; font-weight: bold\">380</span><span style=\"font-weight: bold\">]</span> Retrieving game with <span style=\"color: #808000; text-decoration-color: #808000\">id</span>=<span style=\"color: #800080; text-decoration-color: #800080\">87b46bb9</span>                                 <a href=\"file:///usr/local/lib/python3.11/dist-packages/soccerdata/fbref.py\" target=\"_blank\"><span style=\"color: #7f7f7f; text-decoration-color: #7f7f7f\">fbref.py</span></a><span style=\"color: #7f7f7f; text-decoration-color: #7f7f7f\">:</span><a href=\"file:///usr/local/lib/python3.11/dist-packages/soccerdata/fbref.py#815\" target=\"_blank\"><span style=\"color: #7f7f7f; text-decoration-color: #7f7f7f\">815</span></a>\n",
              "</pre>\n"
            ]
          },
          "metadata": {}
        },
        {
          "output_type": "display_data",
          "data": {
            "text/plain": [
              "\u001b[2;36m[01/27/25 22:53:04]\u001b[0m\u001b[2;36m \u001b[0m\u001b[34mINFO    \u001b[0m \u001b[1m[\u001b[0m\u001b[1;36m37\u001b[0m/\u001b[1;36m380\u001b[0m\u001b[1m]\u001b[0m Retrieving game with \u001b[33mid\u001b[0m=\u001b[35m74125d47\u001b[0m                                 \u001b]8;id=203599;file:///usr/local/lib/python3.11/dist-packages/soccerdata/fbref.py\u001b\\\u001b[2mfbref.py\u001b[0m\u001b]8;;\u001b\\\u001b[2m:\u001b[0m\u001b]8;id=314269;file:///usr/local/lib/python3.11/dist-packages/soccerdata/fbref.py#815\u001b\\\u001b[2m815\u001b[0m\u001b]8;;\u001b\\\n"
            ],
            "text/html": [
              "<pre style=\"white-space:pre;overflow-x:auto;line-height:normal;font-family:Menlo,'DejaVu Sans Mono',consolas,'Courier New',monospace\"><span style=\"color: #7fbfbf; text-decoration-color: #7fbfbf\">[01/27/25 22:53:04] </span><span style=\"color: #000080; text-decoration-color: #000080\">INFO    </span> <span style=\"font-weight: bold\">[</span><span style=\"color: #008080; text-decoration-color: #008080; font-weight: bold\">37</span>/<span style=\"color: #008080; text-decoration-color: #008080; font-weight: bold\">380</span><span style=\"font-weight: bold\">]</span> Retrieving game with <span style=\"color: #808000; text-decoration-color: #808000\">id</span>=<span style=\"color: #800080; text-decoration-color: #800080\">74125d47</span>                                 <a href=\"file:///usr/local/lib/python3.11/dist-packages/soccerdata/fbref.py\" target=\"_blank\"><span style=\"color: #7f7f7f; text-decoration-color: #7f7f7f\">fbref.py</span></a><span style=\"color: #7f7f7f; text-decoration-color: #7f7f7f\">:</span><a href=\"file:///usr/local/lib/python3.11/dist-packages/soccerdata/fbref.py#815\" target=\"_blank\"><span style=\"color: #7f7f7f; text-decoration-color: #7f7f7f\">815</span></a>\n",
              "</pre>\n"
            ]
          },
          "metadata": {}
        },
        {
          "output_type": "display_data",
          "data": {
            "text/plain": [
              "\u001b[2;36m[01/27/25 22:53:10]\u001b[0m\u001b[2;36m \u001b[0m\u001b[34mINFO    \u001b[0m \u001b[1m[\u001b[0m\u001b[1;36m38\u001b[0m/\u001b[1;36m380\u001b[0m\u001b[1m]\u001b[0m Retrieving game with \u001b[33mid\u001b[0m=\u001b[35mf9436d32\u001b[0m                                 \u001b]8;id=994567;file:///usr/local/lib/python3.11/dist-packages/soccerdata/fbref.py\u001b\\\u001b[2mfbref.py\u001b[0m\u001b]8;;\u001b\\\u001b[2m:\u001b[0m\u001b]8;id=284628;file:///usr/local/lib/python3.11/dist-packages/soccerdata/fbref.py#815\u001b\\\u001b[2m815\u001b[0m\u001b]8;;\u001b\\\n"
            ],
            "text/html": [
              "<pre style=\"white-space:pre;overflow-x:auto;line-height:normal;font-family:Menlo,'DejaVu Sans Mono',consolas,'Courier New',monospace\"><span style=\"color: #7fbfbf; text-decoration-color: #7fbfbf\">[01/27/25 22:53:10] </span><span style=\"color: #000080; text-decoration-color: #000080\">INFO    </span> <span style=\"font-weight: bold\">[</span><span style=\"color: #008080; text-decoration-color: #008080; font-weight: bold\">38</span>/<span style=\"color: #008080; text-decoration-color: #008080; font-weight: bold\">380</span><span style=\"font-weight: bold\">]</span> Retrieving game with <span style=\"color: #808000; text-decoration-color: #808000\">id</span>=<span style=\"color: #800080; text-decoration-color: #800080\">f9436d32</span>                                 <a href=\"file:///usr/local/lib/python3.11/dist-packages/soccerdata/fbref.py\" target=\"_blank\"><span style=\"color: #7f7f7f; text-decoration-color: #7f7f7f\">fbref.py</span></a><span style=\"color: #7f7f7f; text-decoration-color: #7f7f7f\">:</span><a href=\"file:///usr/local/lib/python3.11/dist-packages/soccerdata/fbref.py#815\" target=\"_blank\"><span style=\"color: #7f7f7f; text-decoration-color: #7f7f7f\">815</span></a>\n",
              "</pre>\n"
            ]
          },
          "metadata": {}
        },
        {
          "output_type": "display_data",
          "data": {
            "text/plain": [
              "\u001b[2;36m[01/27/25 22:53:17]\u001b[0m\u001b[2;36m \u001b[0m\u001b[34mINFO    \u001b[0m \u001b[1m[\u001b[0m\u001b[1;36m39\u001b[0m/\u001b[1;36m380\u001b[0m\u001b[1m]\u001b[0m Retrieving game with \u001b[33mid\u001b[0m=\u001b[35mbdbc722e\u001b[0m                                 \u001b]8;id=553622;file:///usr/local/lib/python3.11/dist-packages/soccerdata/fbref.py\u001b\\\u001b[2mfbref.py\u001b[0m\u001b]8;;\u001b\\\u001b[2m:\u001b[0m\u001b]8;id=56930;file:///usr/local/lib/python3.11/dist-packages/soccerdata/fbref.py#815\u001b\\\u001b[2m815\u001b[0m\u001b]8;;\u001b\\\n"
            ],
            "text/html": [
              "<pre style=\"white-space:pre;overflow-x:auto;line-height:normal;font-family:Menlo,'DejaVu Sans Mono',consolas,'Courier New',monospace\"><span style=\"color: #7fbfbf; text-decoration-color: #7fbfbf\">[01/27/25 22:53:17] </span><span style=\"color: #000080; text-decoration-color: #000080\">INFO    </span> <span style=\"font-weight: bold\">[</span><span style=\"color: #008080; text-decoration-color: #008080; font-weight: bold\">39</span>/<span style=\"color: #008080; text-decoration-color: #008080; font-weight: bold\">380</span><span style=\"font-weight: bold\">]</span> Retrieving game with <span style=\"color: #808000; text-decoration-color: #808000\">id</span>=<span style=\"color: #800080; text-decoration-color: #800080\">bdbc722e</span>                                 <a href=\"file:///usr/local/lib/python3.11/dist-packages/soccerdata/fbref.py\" target=\"_blank\"><span style=\"color: #7f7f7f; text-decoration-color: #7f7f7f\">fbref.py</span></a><span style=\"color: #7f7f7f; text-decoration-color: #7f7f7f\">:</span><a href=\"file:///usr/local/lib/python3.11/dist-packages/soccerdata/fbref.py#815\" target=\"_blank\"><span style=\"color: #7f7f7f; text-decoration-color: #7f7f7f\">815</span></a>\n",
              "</pre>\n"
            ]
          },
          "metadata": {}
        },
        {
          "output_type": "display_data",
          "data": {
            "text/plain": [
              "\u001b[2;36m[01/27/25 22:53:23]\u001b[0m\u001b[2;36m \u001b[0m\u001b[34mINFO    \u001b[0m \u001b[1m[\u001b[0m\u001b[1;36m40\u001b[0m/\u001b[1;36m380\u001b[0m\u001b[1m]\u001b[0m Retrieving game with \u001b[33mid\u001b[0m=\u001b[35mbc77340e\u001b[0m                                 \u001b]8;id=40818;file:///usr/local/lib/python3.11/dist-packages/soccerdata/fbref.py\u001b\\\u001b[2mfbref.py\u001b[0m\u001b]8;;\u001b\\\u001b[2m:\u001b[0m\u001b]8;id=893144;file:///usr/local/lib/python3.11/dist-packages/soccerdata/fbref.py#815\u001b\\\u001b[2m815\u001b[0m\u001b]8;;\u001b\\\n"
            ],
            "text/html": [
              "<pre style=\"white-space:pre;overflow-x:auto;line-height:normal;font-family:Menlo,'DejaVu Sans Mono',consolas,'Courier New',monospace\"><span style=\"color: #7fbfbf; text-decoration-color: #7fbfbf\">[01/27/25 22:53:23] </span><span style=\"color: #000080; text-decoration-color: #000080\">INFO    </span> <span style=\"font-weight: bold\">[</span><span style=\"color: #008080; text-decoration-color: #008080; font-weight: bold\">40</span>/<span style=\"color: #008080; text-decoration-color: #008080; font-weight: bold\">380</span><span style=\"font-weight: bold\">]</span> Retrieving game with <span style=\"color: #808000; text-decoration-color: #808000\">id</span>=<span style=\"color: #800080; text-decoration-color: #800080\">bc77340e</span>                                 <a href=\"file:///usr/local/lib/python3.11/dist-packages/soccerdata/fbref.py\" target=\"_blank\"><span style=\"color: #7f7f7f; text-decoration-color: #7f7f7f\">fbref.py</span></a><span style=\"color: #7f7f7f; text-decoration-color: #7f7f7f\">:</span><a href=\"file:///usr/local/lib/python3.11/dist-packages/soccerdata/fbref.py#815\" target=\"_blank\"><span style=\"color: #7f7f7f; text-decoration-color: #7f7f7f\">815</span></a>\n",
              "</pre>\n"
            ]
          },
          "metadata": {}
        },
        {
          "output_type": "display_data",
          "data": {
            "text/plain": [
              "\u001b[2;36m[01/27/25 22:53:30]\u001b[0m\u001b[2;36m \u001b[0m\u001b[34mINFO    \u001b[0m \u001b[1m[\u001b[0m\u001b[1;36m41\u001b[0m/\u001b[1;36m380\u001b[0m\u001b[1m]\u001b[0m Retrieving game with \u001b[33mid\u001b[0m=\u001b[35m48b1bdc7\u001b[0m                                 \u001b]8;id=601565;file:///usr/local/lib/python3.11/dist-packages/soccerdata/fbref.py\u001b\\\u001b[2mfbref.py\u001b[0m\u001b]8;;\u001b\\\u001b[2m:\u001b[0m\u001b]8;id=834355;file:///usr/local/lib/python3.11/dist-packages/soccerdata/fbref.py#815\u001b\\\u001b[2m815\u001b[0m\u001b]8;;\u001b\\\n"
            ],
            "text/html": [
              "<pre style=\"white-space:pre;overflow-x:auto;line-height:normal;font-family:Menlo,'DejaVu Sans Mono',consolas,'Courier New',monospace\"><span style=\"color: #7fbfbf; text-decoration-color: #7fbfbf\">[01/27/25 22:53:30] </span><span style=\"color: #000080; text-decoration-color: #000080\">INFO    </span> <span style=\"font-weight: bold\">[</span><span style=\"color: #008080; text-decoration-color: #008080; font-weight: bold\">41</span>/<span style=\"color: #008080; text-decoration-color: #008080; font-weight: bold\">380</span><span style=\"font-weight: bold\">]</span> Retrieving game with <span style=\"color: #808000; text-decoration-color: #808000\">id</span>=<span style=\"color: #800080; text-decoration-color: #800080\">48b1bdc7</span>                                 <a href=\"file:///usr/local/lib/python3.11/dist-packages/soccerdata/fbref.py\" target=\"_blank\"><span style=\"color: #7f7f7f; text-decoration-color: #7f7f7f\">fbref.py</span></a><span style=\"color: #7f7f7f; text-decoration-color: #7f7f7f\">:</span><a href=\"file:///usr/local/lib/python3.11/dist-packages/soccerdata/fbref.py#815\" target=\"_blank\"><span style=\"color: #7f7f7f; text-decoration-color: #7f7f7f\">815</span></a>\n",
              "</pre>\n"
            ]
          },
          "metadata": {}
        },
        {
          "output_type": "display_data",
          "data": {
            "text/plain": [
              "\u001b[2;36m[01/27/25 22:53:36]\u001b[0m\u001b[2;36m \u001b[0m\u001b[34mINFO    \u001b[0m \u001b[1m[\u001b[0m\u001b[1;36m42\u001b[0m/\u001b[1;36m380\u001b[0m\u001b[1m]\u001b[0m Retrieving game with \u001b[33mid\u001b[0m=\u001b[35mddcf2857\u001b[0m                                 \u001b]8;id=188404;file:///usr/local/lib/python3.11/dist-packages/soccerdata/fbref.py\u001b\\\u001b[2mfbref.py\u001b[0m\u001b]8;;\u001b\\\u001b[2m:\u001b[0m\u001b]8;id=36874;file:///usr/local/lib/python3.11/dist-packages/soccerdata/fbref.py#815\u001b\\\u001b[2m815\u001b[0m\u001b]8;;\u001b\\\n"
            ],
            "text/html": [
              "<pre style=\"white-space:pre;overflow-x:auto;line-height:normal;font-family:Menlo,'DejaVu Sans Mono',consolas,'Courier New',monospace\"><span style=\"color: #7fbfbf; text-decoration-color: #7fbfbf\">[01/27/25 22:53:36] </span><span style=\"color: #000080; text-decoration-color: #000080\">INFO    </span> <span style=\"font-weight: bold\">[</span><span style=\"color: #008080; text-decoration-color: #008080; font-weight: bold\">42</span>/<span style=\"color: #008080; text-decoration-color: #008080; font-weight: bold\">380</span><span style=\"font-weight: bold\">]</span> Retrieving game with <span style=\"color: #808000; text-decoration-color: #808000\">id</span>=<span style=\"color: #800080; text-decoration-color: #800080\">ddcf2857</span>                                 <a href=\"file:///usr/local/lib/python3.11/dist-packages/soccerdata/fbref.py\" target=\"_blank\"><span style=\"color: #7f7f7f; text-decoration-color: #7f7f7f\">fbref.py</span></a><span style=\"color: #7f7f7f; text-decoration-color: #7f7f7f\">:</span><a href=\"file:///usr/local/lib/python3.11/dist-packages/soccerdata/fbref.py#815\" target=\"_blank\"><span style=\"color: #7f7f7f; text-decoration-color: #7f7f7f\">815</span></a>\n",
              "</pre>\n"
            ]
          },
          "metadata": {}
        },
        {
          "output_type": "display_data",
          "data": {
            "text/plain": [
              "\u001b[2;36m[01/27/25 22:53:43]\u001b[0m\u001b[2;36m \u001b[0m\u001b[34mINFO    \u001b[0m \u001b[1m[\u001b[0m\u001b[1;36m43\u001b[0m/\u001b[1;36m380\u001b[0m\u001b[1m]\u001b[0m Retrieving game with \u001b[33mid\u001b[0m=\u001b[35m71b7e5e2\u001b[0m                                 \u001b]8;id=917861;file:///usr/local/lib/python3.11/dist-packages/soccerdata/fbref.py\u001b\\\u001b[2mfbref.py\u001b[0m\u001b]8;;\u001b\\\u001b[2m:\u001b[0m\u001b]8;id=812932;file:///usr/local/lib/python3.11/dist-packages/soccerdata/fbref.py#815\u001b\\\u001b[2m815\u001b[0m\u001b]8;;\u001b\\\n"
            ],
            "text/html": [
              "<pre style=\"white-space:pre;overflow-x:auto;line-height:normal;font-family:Menlo,'DejaVu Sans Mono',consolas,'Courier New',monospace\"><span style=\"color: #7fbfbf; text-decoration-color: #7fbfbf\">[01/27/25 22:53:43] </span><span style=\"color: #000080; text-decoration-color: #000080\">INFO    </span> <span style=\"font-weight: bold\">[</span><span style=\"color: #008080; text-decoration-color: #008080; font-weight: bold\">43</span>/<span style=\"color: #008080; text-decoration-color: #008080; font-weight: bold\">380</span><span style=\"font-weight: bold\">]</span> Retrieving game with <span style=\"color: #808000; text-decoration-color: #808000\">id</span>=<span style=\"color: #800080; text-decoration-color: #800080\">71b7e5e2</span>                                 <a href=\"file:///usr/local/lib/python3.11/dist-packages/soccerdata/fbref.py\" target=\"_blank\"><span style=\"color: #7f7f7f; text-decoration-color: #7f7f7f\">fbref.py</span></a><span style=\"color: #7f7f7f; text-decoration-color: #7f7f7f\">:</span><a href=\"file:///usr/local/lib/python3.11/dist-packages/soccerdata/fbref.py#815\" target=\"_blank\"><span style=\"color: #7f7f7f; text-decoration-color: #7f7f7f\">815</span></a>\n",
              "</pre>\n"
            ]
          },
          "metadata": {}
        },
        {
          "output_type": "display_data",
          "data": {
            "text/plain": [
              "\u001b[2;36m[01/27/25 22:53:49]\u001b[0m\u001b[2;36m \u001b[0m\u001b[34mINFO    \u001b[0m \u001b[1m[\u001b[0m\u001b[1;36m44\u001b[0m/\u001b[1;36m380\u001b[0m\u001b[1m]\u001b[0m Retrieving game with \u001b[33mid\u001b[0m=\u001b[35me56e96e1\u001b[0m                                 \u001b]8;id=747505;file:///usr/local/lib/python3.11/dist-packages/soccerdata/fbref.py\u001b\\\u001b[2mfbref.py\u001b[0m\u001b]8;;\u001b\\\u001b[2m:\u001b[0m\u001b]8;id=996202;file:///usr/local/lib/python3.11/dist-packages/soccerdata/fbref.py#815\u001b\\\u001b[2m815\u001b[0m\u001b]8;;\u001b\\\n"
            ],
            "text/html": [
              "<pre style=\"white-space:pre;overflow-x:auto;line-height:normal;font-family:Menlo,'DejaVu Sans Mono',consolas,'Courier New',monospace\"><span style=\"color: #7fbfbf; text-decoration-color: #7fbfbf\">[01/27/25 22:53:49] </span><span style=\"color: #000080; text-decoration-color: #000080\">INFO    </span> <span style=\"font-weight: bold\">[</span><span style=\"color: #008080; text-decoration-color: #008080; font-weight: bold\">44</span>/<span style=\"color: #008080; text-decoration-color: #008080; font-weight: bold\">380</span><span style=\"font-weight: bold\">]</span> Retrieving game with <span style=\"color: #808000; text-decoration-color: #808000\">id</span>=<span style=\"color: #800080; text-decoration-color: #800080\">e56e96e1</span>                                 <a href=\"file:///usr/local/lib/python3.11/dist-packages/soccerdata/fbref.py\" target=\"_blank\"><span style=\"color: #7f7f7f; text-decoration-color: #7f7f7f\">fbref.py</span></a><span style=\"color: #7f7f7f; text-decoration-color: #7f7f7f\">:</span><a href=\"file:///usr/local/lib/python3.11/dist-packages/soccerdata/fbref.py#815\" target=\"_blank\"><span style=\"color: #7f7f7f; text-decoration-color: #7f7f7f\">815</span></a>\n",
              "</pre>\n"
            ]
          },
          "metadata": {}
        },
        {
          "output_type": "display_data",
          "data": {
            "text/plain": [
              "\u001b[2;36m[01/27/25 22:53:55]\u001b[0m\u001b[2;36m \u001b[0m\u001b[34mINFO    \u001b[0m \u001b[1m[\u001b[0m\u001b[1;36m45\u001b[0m/\u001b[1;36m380\u001b[0m\u001b[1m]\u001b[0m Retrieving game with \u001b[33mid\u001b[0m=\u001b[35m64c0a6e2\u001b[0m                                 \u001b]8;id=587268;file:///usr/local/lib/python3.11/dist-packages/soccerdata/fbref.py\u001b\\\u001b[2mfbref.py\u001b[0m\u001b]8;;\u001b\\\u001b[2m:\u001b[0m\u001b]8;id=727023;file:///usr/local/lib/python3.11/dist-packages/soccerdata/fbref.py#815\u001b\\\u001b[2m815\u001b[0m\u001b]8;;\u001b\\\n"
            ],
            "text/html": [
              "<pre style=\"white-space:pre;overflow-x:auto;line-height:normal;font-family:Menlo,'DejaVu Sans Mono',consolas,'Courier New',monospace\"><span style=\"color: #7fbfbf; text-decoration-color: #7fbfbf\">[01/27/25 22:53:55] </span><span style=\"color: #000080; text-decoration-color: #000080\">INFO    </span> <span style=\"font-weight: bold\">[</span><span style=\"color: #008080; text-decoration-color: #008080; font-weight: bold\">45</span>/<span style=\"color: #008080; text-decoration-color: #008080; font-weight: bold\">380</span><span style=\"font-weight: bold\">]</span> Retrieving game with <span style=\"color: #808000; text-decoration-color: #808000\">id</span>=<span style=\"color: #800080; text-decoration-color: #800080\">64c0a6e2</span>                                 <a href=\"file:///usr/local/lib/python3.11/dist-packages/soccerdata/fbref.py\" target=\"_blank\"><span style=\"color: #7f7f7f; text-decoration-color: #7f7f7f\">fbref.py</span></a><span style=\"color: #7f7f7f; text-decoration-color: #7f7f7f\">:</span><a href=\"file:///usr/local/lib/python3.11/dist-packages/soccerdata/fbref.py#815\" target=\"_blank\"><span style=\"color: #7f7f7f; text-decoration-color: #7f7f7f\">815</span></a>\n",
              "</pre>\n"
            ]
          },
          "metadata": {}
        },
        {
          "output_type": "display_data",
          "data": {
            "text/plain": [
              "\u001b[2;36m[01/27/25 22:54:02]\u001b[0m\u001b[2;36m \u001b[0m\u001b[34mINFO    \u001b[0m \u001b[1m[\u001b[0m\u001b[1;36m46\u001b[0m/\u001b[1;36m380\u001b[0m\u001b[1m]\u001b[0m Retrieving game with \u001b[33mid\u001b[0m=\u001b[35m38daebd2\u001b[0m                                 \u001b]8;id=553368;file:///usr/local/lib/python3.11/dist-packages/soccerdata/fbref.py\u001b\\\u001b[2mfbref.py\u001b[0m\u001b]8;;\u001b\\\u001b[2m:\u001b[0m\u001b]8;id=61856;file:///usr/local/lib/python3.11/dist-packages/soccerdata/fbref.py#815\u001b\\\u001b[2m815\u001b[0m\u001b]8;;\u001b\\\n"
            ],
            "text/html": [
              "<pre style=\"white-space:pre;overflow-x:auto;line-height:normal;font-family:Menlo,'DejaVu Sans Mono',consolas,'Courier New',monospace\"><span style=\"color: #7fbfbf; text-decoration-color: #7fbfbf\">[01/27/25 22:54:02] </span><span style=\"color: #000080; text-decoration-color: #000080\">INFO    </span> <span style=\"font-weight: bold\">[</span><span style=\"color: #008080; text-decoration-color: #008080; font-weight: bold\">46</span>/<span style=\"color: #008080; text-decoration-color: #008080; font-weight: bold\">380</span><span style=\"font-weight: bold\">]</span> Retrieving game with <span style=\"color: #808000; text-decoration-color: #808000\">id</span>=<span style=\"color: #800080; text-decoration-color: #800080\">38daebd2</span>                                 <a href=\"file:///usr/local/lib/python3.11/dist-packages/soccerdata/fbref.py\" target=\"_blank\"><span style=\"color: #7f7f7f; text-decoration-color: #7f7f7f\">fbref.py</span></a><span style=\"color: #7f7f7f; text-decoration-color: #7f7f7f\">:</span><a href=\"file:///usr/local/lib/python3.11/dist-packages/soccerdata/fbref.py#815\" target=\"_blank\"><span style=\"color: #7f7f7f; text-decoration-color: #7f7f7f\">815</span></a>\n",
              "</pre>\n"
            ]
          },
          "metadata": {}
        },
        {
          "output_type": "display_data",
          "data": {
            "text/plain": [
              "\u001b[2;36m[01/27/25 22:54:08]\u001b[0m\u001b[2;36m \u001b[0m\u001b[34mINFO    \u001b[0m \u001b[1m[\u001b[0m\u001b[1;36m47\u001b[0m/\u001b[1;36m380\u001b[0m\u001b[1m]\u001b[0m Retrieving game with \u001b[33mid\u001b[0m=\u001b[35mbe0cbf88\u001b[0m                                 \u001b]8;id=289084;file:///usr/local/lib/python3.11/dist-packages/soccerdata/fbref.py\u001b\\\u001b[2mfbref.py\u001b[0m\u001b]8;;\u001b\\\u001b[2m:\u001b[0m\u001b]8;id=820540;file:///usr/local/lib/python3.11/dist-packages/soccerdata/fbref.py#815\u001b\\\u001b[2m815\u001b[0m\u001b]8;;\u001b\\\n"
            ],
            "text/html": [
              "<pre style=\"white-space:pre;overflow-x:auto;line-height:normal;font-family:Menlo,'DejaVu Sans Mono',consolas,'Courier New',monospace\"><span style=\"color: #7fbfbf; text-decoration-color: #7fbfbf\">[01/27/25 22:54:08] </span><span style=\"color: #000080; text-decoration-color: #000080\">INFO    </span> <span style=\"font-weight: bold\">[</span><span style=\"color: #008080; text-decoration-color: #008080; font-weight: bold\">47</span>/<span style=\"color: #008080; text-decoration-color: #008080; font-weight: bold\">380</span><span style=\"font-weight: bold\">]</span> Retrieving game with <span style=\"color: #808000; text-decoration-color: #808000\">id</span>=<span style=\"color: #800080; text-decoration-color: #800080\">be0cbf88</span>                                 <a href=\"file:///usr/local/lib/python3.11/dist-packages/soccerdata/fbref.py\" target=\"_blank\"><span style=\"color: #7f7f7f; text-decoration-color: #7f7f7f\">fbref.py</span></a><span style=\"color: #7f7f7f; text-decoration-color: #7f7f7f\">:</span><a href=\"file:///usr/local/lib/python3.11/dist-packages/soccerdata/fbref.py#815\" target=\"_blank\"><span style=\"color: #7f7f7f; text-decoration-color: #7f7f7f\">815</span></a>\n",
              "</pre>\n"
            ]
          },
          "metadata": {}
        },
        {
          "output_type": "display_data",
          "data": {
            "text/plain": [
              "\u001b[2;36m[01/27/25 22:54:14]\u001b[0m\u001b[2;36m \u001b[0m\u001b[34mINFO    \u001b[0m \u001b[1m[\u001b[0m\u001b[1;36m48\u001b[0m/\u001b[1;36m380\u001b[0m\u001b[1m]\u001b[0m Retrieving game with \u001b[33mid\u001b[0m=\u001b[35mb1278924\u001b[0m                                 \u001b]8;id=808967;file:///usr/local/lib/python3.11/dist-packages/soccerdata/fbref.py\u001b\\\u001b[2mfbref.py\u001b[0m\u001b]8;;\u001b\\\u001b[2m:\u001b[0m\u001b]8;id=642310;file:///usr/local/lib/python3.11/dist-packages/soccerdata/fbref.py#815\u001b\\\u001b[2m815\u001b[0m\u001b]8;;\u001b\\\n"
            ],
            "text/html": [
              "<pre style=\"white-space:pre;overflow-x:auto;line-height:normal;font-family:Menlo,'DejaVu Sans Mono',consolas,'Courier New',monospace\"><span style=\"color: #7fbfbf; text-decoration-color: #7fbfbf\">[01/27/25 22:54:14] </span><span style=\"color: #000080; text-decoration-color: #000080\">INFO    </span> <span style=\"font-weight: bold\">[</span><span style=\"color: #008080; text-decoration-color: #008080; font-weight: bold\">48</span>/<span style=\"color: #008080; text-decoration-color: #008080; font-weight: bold\">380</span><span style=\"font-weight: bold\">]</span> Retrieving game with <span style=\"color: #808000; text-decoration-color: #808000\">id</span>=<span style=\"color: #800080; text-decoration-color: #800080\">b1278924</span>                                 <a href=\"file:///usr/local/lib/python3.11/dist-packages/soccerdata/fbref.py\" target=\"_blank\"><span style=\"color: #7f7f7f; text-decoration-color: #7f7f7f\">fbref.py</span></a><span style=\"color: #7f7f7f; text-decoration-color: #7f7f7f\">:</span><a href=\"file:///usr/local/lib/python3.11/dist-packages/soccerdata/fbref.py#815\" target=\"_blank\"><span style=\"color: #7f7f7f; text-decoration-color: #7f7f7f\">815</span></a>\n",
              "</pre>\n"
            ]
          },
          "metadata": {}
        },
        {
          "output_type": "display_data",
          "data": {
            "text/plain": [
              "\u001b[2;36m[01/27/25 22:54:21]\u001b[0m\u001b[2;36m \u001b[0m\u001b[34mINFO    \u001b[0m \u001b[1m[\u001b[0m\u001b[1;36m49\u001b[0m/\u001b[1;36m380\u001b[0m\u001b[1m]\u001b[0m Retrieving game with \u001b[33mid\u001b[0m=\u001b[35mad7ecfad\u001b[0m                                 \u001b]8;id=925839;file:///usr/local/lib/python3.11/dist-packages/soccerdata/fbref.py\u001b\\\u001b[2mfbref.py\u001b[0m\u001b]8;;\u001b\\\u001b[2m:\u001b[0m\u001b]8;id=355964;file:///usr/local/lib/python3.11/dist-packages/soccerdata/fbref.py#815\u001b\\\u001b[2m815\u001b[0m\u001b]8;;\u001b\\\n"
            ],
            "text/html": [
              "<pre style=\"white-space:pre;overflow-x:auto;line-height:normal;font-family:Menlo,'DejaVu Sans Mono',consolas,'Courier New',monospace\"><span style=\"color: #7fbfbf; text-decoration-color: #7fbfbf\">[01/27/25 22:54:21] </span><span style=\"color: #000080; text-decoration-color: #000080\">INFO    </span> <span style=\"font-weight: bold\">[</span><span style=\"color: #008080; text-decoration-color: #008080; font-weight: bold\">49</span>/<span style=\"color: #008080; text-decoration-color: #008080; font-weight: bold\">380</span><span style=\"font-weight: bold\">]</span> Retrieving game with <span style=\"color: #808000; text-decoration-color: #808000\">id</span>=<span style=\"color: #800080; text-decoration-color: #800080\">ad7ecfad</span>                                 <a href=\"file:///usr/local/lib/python3.11/dist-packages/soccerdata/fbref.py\" target=\"_blank\"><span style=\"color: #7f7f7f; text-decoration-color: #7f7f7f\">fbref.py</span></a><span style=\"color: #7f7f7f; text-decoration-color: #7f7f7f\">:</span><a href=\"file:///usr/local/lib/python3.11/dist-packages/soccerdata/fbref.py#815\" target=\"_blank\"><span style=\"color: #7f7f7f; text-decoration-color: #7f7f7f\">815</span></a>\n",
              "</pre>\n"
            ]
          },
          "metadata": {}
        },
        {
          "output_type": "display_data",
          "data": {
            "text/plain": [
              "\u001b[2;36m[01/27/25 22:54:27]\u001b[0m\u001b[2;36m \u001b[0m\u001b[34mINFO    \u001b[0m \u001b[1m[\u001b[0m\u001b[1;36m50\u001b[0m/\u001b[1;36m380\u001b[0m\u001b[1m]\u001b[0m Retrieving game with \u001b[33mid\u001b[0m=\u001b[35m96681b93\u001b[0m                                 \u001b]8;id=479191;file:///usr/local/lib/python3.11/dist-packages/soccerdata/fbref.py\u001b\\\u001b[2mfbref.py\u001b[0m\u001b]8;;\u001b\\\u001b[2m:\u001b[0m\u001b]8;id=929831;file:///usr/local/lib/python3.11/dist-packages/soccerdata/fbref.py#815\u001b\\\u001b[2m815\u001b[0m\u001b]8;;\u001b\\\n"
            ],
            "text/html": [
              "<pre style=\"white-space:pre;overflow-x:auto;line-height:normal;font-family:Menlo,'DejaVu Sans Mono',consolas,'Courier New',monospace\"><span style=\"color: #7fbfbf; text-decoration-color: #7fbfbf\">[01/27/25 22:54:27] </span><span style=\"color: #000080; text-decoration-color: #000080\">INFO    </span> <span style=\"font-weight: bold\">[</span><span style=\"color: #008080; text-decoration-color: #008080; font-weight: bold\">50</span>/<span style=\"color: #008080; text-decoration-color: #008080; font-weight: bold\">380</span><span style=\"font-weight: bold\">]</span> Retrieving game with <span style=\"color: #808000; text-decoration-color: #808000\">id</span>=<span style=\"color: #800080; text-decoration-color: #800080\">96681b93</span>                                 <a href=\"file:///usr/local/lib/python3.11/dist-packages/soccerdata/fbref.py\" target=\"_blank\"><span style=\"color: #7f7f7f; text-decoration-color: #7f7f7f\">fbref.py</span></a><span style=\"color: #7f7f7f; text-decoration-color: #7f7f7f\">:</span><a href=\"file:///usr/local/lib/python3.11/dist-packages/soccerdata/fbref.py#815\" target=\"_blank\"><span style=\"color: #7f7f7f; text-decoration-color: #7f7f7f\">815</span></a>\n",
              "</pre>\n"
            ]
          },
          "metadata": {}
        },
        {
          "output_type": "display_data",
          "data": {
            "text/plain": [
              "\u001b[2;36m[01/27/25 22:54:34]\u001b[0m\u001b[2;36m \u001b[0m\u001b[34mINFO    \u001b[0m \u001b[1m[\u001b[0m\u001b[1;36m51\u001b[0m/\u001b[1;36m380\u001b[0m\u001b[1m]\u001b[0m Retrieving game with \u001b[33mid\u001b[0m=\u001b[35m8e26793d\u001b[0m                                 \u001b]8;id=702959;file:///usr/local/lib/python3.11/dist-packages/soccerdata/fbref.py\u001b\\\u001b[2mfbref.py\u001b[0m\u001b]8;;\u001b\\\u001b[2m:\u001b[0m\u001b]8;id=895682;file:///usr/local/lib/python3.11/dist-packages/soccerdata/fbref.py#815\u001b\\\u001b[2m815\u001b[0m\u001b]8;;\u001b\\\n"
            ],
            "text/html": [
              "<pre style=\"white-space:pre;overflow-x:auto;line-height:normal;font-family:Menlo,'DejaVu Sans Mono',consolas,'Courier New',monospace\"><span style=\"color: #7fbfbf; text-decoration-color: #7fbfbf\">[01/27/25 22:54:34] </span><span style=\"color: #000080; text-decoration-color: #000080\">INFO    </span> <span style=\"font-weight: bold\">[</span><span style=\"color: #008080; text-decoration-color: #008080; font-weight: bold\">51</span>/<span style=\"color: #008080; text-decoration-color: #008080; font-weight: bold\">380</span><span style=\"font-weight: bold\">]</span> Retrieving game with <span style=\"color: #808000; text-decoration-color: #808000\">id</span>=<span style=\"color: #800080; text-decoration-color: #800080\">8e26793d</span>                                 <a href=\"file:///usr/local/lib/python3.11/dist-packages/soccerdata/fbref.py\" target=\"_blank\"><span style=\"color: #7f7f7f; text-decoration-color: #7f7f7f\">fbref.py</span></a><span style=\"color: #7f7f7f; text-decoration-color: #7f7f7f\">:</span><a href=\"file:///usr/local/lib/python3.11/dist-packages/soccerdata/fbref.py#815\" target=\"_blank\"><span style=\"color: #7f7f7f; text-decoration-color: #7f7f7f\">815</span></a>\n",
              "</pre>\n"
            ]
          },
          "metadata": {}
        },
        {
          "output_type": "display_data",
          "data": {
            "text/plain": [
              "\u001b[2;36m[01/27/25 22:54:40]\u001b[0m\u001b[2;36m \u001b[0m\u001b[34mINFO    \u001b[0m \u001b[1m[\u001b[0m\u001b[1;36m52\u001b[0m/\u001b[1;36m380\u001b[0m\u001b[1m]\u001b[0m Retrieving game with \u001b[33mid\u001b[0m=\u001b[35mcf0b2b19\u001b[0m                                 \u001b]8;id=450247;file:///usr/local/lib/python3.11/dist-packages/soccerdata/fbref.py\u001b\\\u001b[2mfbref.py\u001b[0m\u001b]8;;\u001b\\\u001b[2m:\u001b[0m\u001b]8;id=754085;file:///usr/local/lib/python3.11/dist-packages/soccerdata/fbref.py#815\u001b\\\u001b[2m815\u001b[0m\u001b]8;;\u001b\\\n"
            ],
            "text/html": [
              "<pre style=\"white-space:pre;overflow-x:auto;line-height:normal;font-family:Menlo,'DejaVu Sans Mono',consolas,'Courier New',monospace\"><span style=\"color: #7fbfbf; text-decoration-color: #7fbfbf\">[01/27/25 22:54:40] </span><span style=\"color: #000080; text-decoration-color: #000080\">INFO    </span> <span style=\"font-weight: bold\">[</span><span style=\"color: #008080; text-decoration-color: #008080; font-weight: bold\">52</span>/<span style=\"color: #008080; text-decoration-color: #008080; font-weight: bold\">380</span><span style=\"font-weight: bold\">]</span> Retrieving game with <span style=\"color: #808000; text-decoration-color: #808000\">id</span>=<span style=\"color: #800080; text-decoration-color: #800080\">cf0b2b19</span>                                 <a href=\"file:///usr/local/lib/python3.11/dist-packages/soccerdata/fbref.py\" target=\"_blank\"><span style=\"color: #7f7f7f; text-decoration-color: #7f7f7f\">fbref.py</span></a><span style=\"color: #7f7f7f; text-decoration-color: #7f7f7f\">:</span><a href=\"file:///usr/local/lib/python3.11/dist-packages/soccerdata/fbref.py#815\" target=\"_blank\"><span style=\"color: #7f7f7f; text-decoration-color: #7f7f7f\">815</span></a>\n",
              "</pre>\n"
            ]
          },
          "metadata": {}
        },
        {
          "output_type": "display_data",
          "data": {
            "text/plain": [
              "\u001b[2;36m[01/27/25 22:54:46]\u001b[0m\u001b[2;36m \u001b[0m\u001b[34mINFO    \u001b[0m \u001b[1m[\u001b[0m\u001b[1;36m53\u001b[0m/\u001b[1;36m380\u001b[0m\u001b[1m]\u001b[0m Retrieving game with \u001b[33mid\u001b[0m=\u001b[35m76a1421e\u001b[0m                                 \u001b]8;id=112098;file:///usr/local/lib/python3.11/dist-packages/soccerdata/fbref.py\u001b\\\u001b[2mfbref.py\u001b[0m\u001b]8;;\u001b\\\u001b[2m:\u001b[0m\u001b]8;id=566077;file:///usr/local/lib/python3.11/dist-packages/soccerdata/fbref.py#815\u001b\\\u001b[2m815\u001b[0m\u001b]8;;\u001b\\\n"
            ],
            "text/html": [
              "<pre style=\"white-space:pre;overflow-x:auto;line-height:normal;font-family:Menlo,'DejaVu Sans Mono',consolas,'Courier New',monospace\"><span style=\"color: #7fbfbf; text-decoration-color: #7fbfbf\">[01/27/25 22:54:46] </span><span style=\"color: #000080; text-decoration-color: #000080\">INFO    </span> <span style=\"font-weight: bold\">[</span><span style=\"color: #008080; text-decoration-color: #008080; font-weight: bold\">53</span>/<span style=\"color: #008080; text-decoration-color: #008080; font-weight: bold\">380</span><span style=\"font-weight: bold\">]</span> Retrieving game with <span style=\"color: #808000; text-decoration-color: #808000\">id</span>=<span style=\"color: #800080; text-decoration-color: #800080\">76a1421e</span>                                 <a href=\"file:///usr/local/lib/python3.11/dist-packages/soccerdata/fbref.py\" target=\"_blank\"><span style=\"color: #7f7f7f; text-decoration-color: #7f7f7f\">fbref.py</span></a><span style=\"color: #7f7f7f; text-decoration-color: #7f7f7f\">:</span><a href=\"file:///usr/local/lib/python3.11/dist-packages/soccerdata/fbref.py#815\" target=\"_blank\"><span style=\"color: #7f7f7f; text-decoration-color: #7f7f7f\">815</span></a>\n",
              "</pre>\n"
            ]
          },
          "metadata": {}
        },
        {
          "output_type": "display_data",
          "data": {
            "text/plain": [
              "\u001b[2;36m[01/27/25 22:54:53]\u001b[0m\u001b[2;36m \u001b[0m\u001b[34mINFO    \u001b[0m \u001b[1m[\u001b[0m\u001b[1;36m54\u001b[0m/\u001b[1;36m380\u001b[0m\u001b[1m]\u001b[0m Retrieving game with \u001b[33mid\u001b[0m=\u001b[35m5dc7e234\u001b[0m                                 \u001b]8;id=45811;file:///usr/local/lib/python3.11/dist-packages/soccerdata/fbref.py\u001b\\\u001b[2mfbref.py\u001b[0m\u001b]8;;\u001b\\\u001b[2m:\u001b[0m\u001b]8;id=490185;file:///usr/local/lib/python3.11/dist-packages/soccerdata/fbref.py#815\u001b\\\u001b[2m815\u001b[0m\u001b]8;;\u001b\\\n"
            ],
            "text/html": [
              "<pre style=\"white-space:pre;overflow-x:auto;line-height:normal;font-family:Menlo,'DejaVu Sans Mono',consolas,'Courier New',monospace\"><span style=\"color: #7fbfbf; text-decoration-color: #7fbfbf\">[01/27/25 22:54:53] </span><span style=\"color: #000080; text-decoration-color: #000080\">INFO    </span> <span style=\"font-weight: bold\">[</span><span style=\"color: #008080; text-decoration-color: #008080; font-weight: bold\">54</span>/<span style=\"color: #008080; text-decoration-color: #008080; font-weight: bold\">380</span><span style=\"font-weight: bold\">]</span> Retrieving game with <span style=\"color: #808000; text-decoration-color: #808000\">id</span>=<span style=\"color: #800080; text-decoration-color: #800080\">5dc7e234</span>                                 <a href=\"file:///usr/local/lib/python3.11/dist-packages/soccerdata/fbref.py\" target=\"_blank\"><span style=\"color: #7f7f7f; text-decoration-color: #7f7f7f\">fbref.py</span></a><span style=\"color: #7f7f7f; text-decoration-color: #7f7f7f\">:</span><a href=\"file:///usr/local/lib/python3.11/dist-packages/soccerdata/fbref.py#815\" target=\"_blank\"><span style=\"color: #7f7f7f; text-decoration-color: #7f7f7f\">815</span></a>\n",
              "</pre>\n"
            ]
          },
          "metadata": {}
        },
        {
          "output_type": "display_data",
          "data": {
            "text/plain": [
              "\u001b[2;36m[01/27/25 22:54:59]\u001b[0m\u001b[2;36m \u001b[0m\u001b[34mINFO    \u001b[0m \u001b[1m[\u001b[0m\u001b[1;36m55\u001b[0m/\u001b[1;36m380\u001b[0m\u001b[1m]\u001b[0m Retrieving game with \u001b[33mid\u001b[0m=\u001b[35m08947a10\u001b[0m                                 \u001b]8;id=610991;file:///usr/local/lib/python3.11/dist-packages/soccerdata/fbref.py\u001b\\\u001b[2mfbref.py\u001b[0m\u001b]8;;\u001b\\\u001b[2m:\u001b[0m\u001b]8;id=46165;file:///usr/local/lib/python3.11/dist-packages/soccerdata/fbref.py#815\u001b\\\u001b[2m815\u001b[0m\u001b]8;;\u001b\\\n"
            ],
            "text/html": [
              "<pre style=\"white-space:pre;overflow-x:auto;line-height:normal;font-family:Menlo,'DejaVu Sans Mono',consolas,'Courier New',monospace\"><span style=\"color: #7fbfbf; text-decoration-color: #7fbfbf\">[01/27/25 22:54:59] </span><span style=\"color: #000080; text-decoration-color: #000080\">INFO    </span> <span style=\"font-weight: bold\">[</span><span style=\"color: #008080; text-decoration-color: #008080; font-weight: bold\">55</span>/<span style=\"color: #008080; text-decoration-color: #008080; font-weight: bold\">380</span><span style=\"font-weight: bold\">]</span> Retrieving game with <span style=\"color: #808000; text-decoration-color: #808000\">id</span>=<span style=\"color: #800080; text-decoration-color: #800080\">08947a10</span>                                 <a href=\"file:///usr/local/lib/python3.11/dist-packages/soccerdata/fbref.py\" target=\"_blank\"><span style=\"color: #7f7f7f; text-decoration-color: #7f7f7f\">fbref.py</span></a><span style=\"color: #7f7f7f; text-decoration-color: #7f7f7f\">:</span><a href=\"file:///usr/local/lib/python3.11/dist-packages/soccerdata/fbref.py#815\" target=\"_blank\"><span style=\"color: #7f7f7f; text-decoration-color: #7f7f7f\">815</span></a>\n",
              "</pre>\n"
            ]
          },
          "metadata": {}
        },
        {
          "output_type": "display_data",
          "data": {
            "text/plain": [
              "\u001b[2;36m[01/27/25 22:55:05]\u001b[0m\u001b[2;36m \u001b[0m\u001b[34mINFO    \u001b[0m \u001b[1m[\u001b[0m\u001b[1;36m56\u001b[0m/\u001b[1;36m380\u001b[0m\u001b[1m]\u001b[0m Retrieving game with \u001b[33mid\u001b[0m=\u001b[35m5593f16c\u001b[0m                                 \u001b]8;id=337012;file:///usr/local/lib/python3.11/dist-packages/soccerdata/fbref.py\u001b\\\u001b[2mfbref.py\u001b[0m\u001b]8;;\u001b\\\u001b[2m:\u001b[0m\u001b]8;id=830923;file:///usr/local/lib/python3.11/dist-packages/soccerdata/fbref.py#815\u001b\\\u001b[2m815\u001b[0m\u001b]8;;\u001b\\\n"
            ],
            "text/html": [
              "<pre style=\"white-space:pre;overflow-x:auto;line-height:normal;font-family:Menlo,'DejaVu Sans Mono',consolas,'Courier New',monospace\"><span style=\"color: #7fbfbf; text-decoration-color: #7fbfbf\">[01/27/25 22:55:05] </span><span style=\"color: #000080; text-decoration-color: #000080\">INFO    </span> <span style=\"font-weight: bold\">[</span><span style=\"color: #008080; text-decoration-color: #008080; font-weight: bold\">56</span>/<span style=\"color: #008080; text-decoration-color: #008080; font-weight: bold\">380</span><span style=\"font-weight: bold\">]</span> Retrieving game with <span style=\"color: #808000; text-decoration-color: #808000\">id</span>=<span style=\"color: #800080; text-decoration-color: #800080\">5593f16c</span>                                 <a href=\"file:///usr/local/lib/python3.11/dist-packages/soccerdata/fbref.py\" target=\"_blank\"><span style=\"color: #7f7f7f; text-decoration-color: #7f7f7f\">fbref.py</span></a><span style=\"color: #7f7f7f; text-decoration-color: #7f7f7f\">:</span><a href=\"file:///usr/local/lib/python3.11/dist-packages/soccerdata/fbref.py#815\" target=\"_blank\"><span style=\"color: #7f7f7f; text-decoration-color: #7f7f7f\">815</span></a>\n",
              "</pre>\n"
            ]
          },
          "metadata": {}
        },
        {
          "output_type": "display_data",
          "data": {
            "text/plain": [
              "\u001b[2;36m[01/27/25 22:55:11]\u001b[0m\u001b[2;36m \u001b[0m\u001b[34mINFO    \u001b[0m \u001b[1m[\u001b[0m\u001b[1;36m57\u001b[0m/\u001b[1;36m380\u001b[0m\u001b[1m]\u001b[0m Retrieving game with \u001b[33mid\u001b[0m=\u001b[35m7d2c5e05\u001b[0m                                 \u001b]8;id=172565;file:///usr/local/lib/python3.11/dist-packages/soccerdata/fbref.py\u001b\\\u001b[2mfbref.py\u001b[0m\u001b]8;;\u001b\\\u001b[2m:\u001b[0m\u001b]8;id=802845;file:///usr/local/lib/python3.11/dist-packages/soccerdata/fbref.py#815\u001b\\\u001b[2m815\u001b[0m\u001b]8;;\u001b\\\n"
            ],
            "text/html": [
              "<pre style=\"white-space:pre;overflow-x:auto;line-height:normal;font-family:Menlo,'DejaVu Sans Mono',consolas,'Courier New',monospace\"><span style=\"color: #7fbfbf; text-decoration-color: #7fbfbf\">[01/27/25 22:55:11] </span><span style=\"color: #000080; text-decoration-color: #000080\">INFO    </span> <span style=\"font-weight: bold\">[</span><span style=\"color: #008080; text-decoration-color: #008080; font-weight: bold\">57</span>/<span style=\"color: #008080; text-decoration-color: #008080; font-weight: bold\">380</span><span style=\"font-weight: bold\">]</span> Retrieving game with <span style=\"color: #808000; text-decoration-color: #808000\">id</span>=<span style=\"color: #800080; text-decoration-color: #800080\">7d2c5e05</span>                                 <a href=\"file:///usr/local/lib/python3.11/dist-packages/soccerdata/fbref.py\" target=\"_blank\"><span style=\"color: #7f7f7f; text-decoration-color: #7f7f7f\">fbref.py</span></a><span style=\"color: #7f7f7f; text-decoration-color: #7f7f7f\">:</span><a href=\"file:///usr/local/lib/python3.11/dist-packages/soccerdata/fbref.py#815\" target=\"_blank\"><span style=\"color: #7f7f7f; text-decoration-color: #7f7f7f\">815</span></a>\n",
              "</pre>\n"
            ]
          },
          "metadata": {}
        },
        {
          "output_type": "display_data",
          "data": {
            "text/plain": [
              "\u001b[2;36m[01/27/25 22:55:18]\u001b[0m\u001b[2;36m \u001b[0m\u001b[34mINFO    \u001b[0m \u001b[1m[\u001b[0m\u001b[1;36m58\u001b[0m/\u001b[1;36m380\u001b[0m\u001b[1m]\u001b[0m Retrieving game with \u001b[33mid\u001b[0m=\u001b[35m90adf8b3\u001b[0m                                 \u001b]8;id=511216;file:///usr/local/lib/python3.11/dist-packages/soccerdata/fbref.py\u001b\\\u001b[2mfbref.py\u001b[0m\u001b]8;;\u001b\\\u001b[2m:\u001b[0m\u001b]8;id=199891;file:///usr/local/lib/python3.11/dist-packages/soccerdata/fbref.py#815\u001b\\\u001b[2m815\u001b[0m\u001b]8;;\u001b\\\n"
            ],
            "text/html": [
              "<pre style=\"white-space:pre;overflow-x:auto;line-height:normal;font-family:Menlo,'DejaVu Sans Mono',consolas,'Courier New',monospace\"><span style=\"color: #7fbfbf; text-decoration-color: #7fbfbf\">[01/27/25 22:55:18] </span><span style=\"color: #000080; text-decoration-color: #000080\">INFO    </span> <span style=\"font-weight: bold\">[</span><span style=\"color: #008080; text-decoration-color: #008080; font-weight: bold\">58</span>/<span style=\"color: #008080; text-decoration-color: #008080; font-weight: bold\">380</span><span style=\"font-weight: bold\">]</span> Retrieving game with <span style=\"color: #808000; text-decoration-color: #808000\">id</span>=<span style=\"color: #800080; text-decoration-color: #800080\">90adf8b3</span>                                 <a href=\"file:///usr/local/lib/python3.11/dist-packages/soccerdata/fbref.py\" target=\"_blank\"><span style=\"color: #7f7f7f; text-decoration-color: #7f7f7f\">fbref.py</span></a><span style=\"color: #7f7f7f; text-decoration-color: #7f7f7f\">:</span><a href=\"file:///usr/local/lib/python3.11/dist-packages/soccerdata/fbref.py#815\" target=\"_blank\"><span style=\"color: #7f7f7f; text-decoration-color: #7f7f7f\">815</span></a>\n",
              "</pre>\n"
            ]
          },
          "metadata": {}
        },
        {
          "output_type": "display_data",
          "data": {
            "text/plain": [
              "\u001b[2;36m[01/27/25 22:55:24]\u001b[0m\u001b[2;36m \u001b[0m\u001b[34mINFO    \u001b[0m \u001b[1m[\u001b[0m\u001b[1;36m59\u001b[0m/\u001b[1;36m380\u001b[0m\u001b[1m]\u001b[0m Retrieving game with \u001b[33mid\u001b[0m=\u001b[35mcf4fef85\u001b[0m                                 \u001b]8;id=196526;file:///usr/local/lib/python3.11/dist-packages/soccerdata/fbref.py\u001b\\\u001b[2mfbref.py\u001b[0m\u001b]8;;\u001b\\\u001b[2m:\u001b[0m\u001b]8;id=435597;file:///usr/local/lib/python3.11/dist-packages/soccerdata/fbref.py#815\u001b\\\u001b[2m815\u001b[0m\u001b]8;;\u001b\\\n"
            ],
            "text/html": [
              "<pre style=\"white-space:pre;overflow-x:auto;line-height:normal;font-family:Menlo,'DejaVu Sans Mono',consolas,'Courier New',monospace\"><span style=\"color: #7fbfbf; text-decoration-color: #7fbfbf\">[01/27/25 22:55:24] </span><span style=\"color: #000080; text-decoration-color: #000080\">INFO    </span> <span style=\"font-weight: bold\">[</span><span style=\"color: #008080; text-decoration-color: #008080; font-weight: bold\">59</span>/<span style=\"color: #008080; text-decoration-color: #008080; font-weight: bold\">380</span><span style=\"font-weight: bold\">]</span> Retrieving game with <span style=\"color: #808000; text-decoration-color: #808000\">id</span>=<span style=\"color: #800080; text-decoration-color: #800080\">cf4fef85</span>                                 <a href=\"file:///usr/local/lib/python3.11/dist-packages/soccerdata/fbref.py\" target=\"_blank\"><span style=\"color: #7f7f7f; text-decoration-color: #7f7f7f\">fbref.py</span></a><span style=\"color: #7f7f7f; text-decoration-color: #7f7f7f\">:</span><a href=\"file:///usr/local/lib/python3.11/dist-packages/soccerdata/fbref.py#815\" target=\"_blank\"><span style=\"color: #7f7f7f; text-decoration-color: #7f7f7f\">815</span></a>\n",
              "</pre>\n"
            ]
          },
          "metadata": {}
        },
        {
          "output_type": "display_data",
          "data": {
            "text/plain": [
              "\u001b[2;36m[01/27/25 22:55:30]\u001b[0m\u001b[2;36m \u001b[0m\u001b[34mINFO    \u001b[0m \u001b[1m[\u001b[0m\u001b[1;36m60\u001b[0m/\u001b[1;36m380\u001b[0m\u001b[1m]\u001b[0m Retrieving game with \u001b[33mid\u001b[0m=\u001b[35m2df9a3a1\u001b[0m                                 \u001b]8;id=957676;file:///usr/local/lib/python3.11/dist-packages/soccerdata/fbref.py\u001b\\\u001b[2mfbref.py\u001b[0m\u001b]8;;\u001b\\\u001b[2m:\u001b[0m\u001b]8;id=844554;file:///usr/local/lib/python3.11/dist-packages/soccerdata/fbref.py#815\u001b\\\u001b[2m815\u001b[0m\u001b]8;;\u001b\\\n"
            ],
            "text/html": [
              "<pre style=\"white-space:pre;overflow-x:auto;line-height:normal;font-family:Menlo,'DejaVu Sans Mono',consolas,'Courier New',monospace\"><span style=\"color: #7fbfbf; text-decoration-color: #7fbfbf\">[01/27/25 22:55:30] </span><span style=\"color: #000080; text-decoration-color: #000080\">INFO    </span> <span style=\"font-weight: bold\">[</span><span style=\"color: #008080; text-decoration-color: #008080; font-weight: bold\">60</span>/<span style=\"color: #008080; text-decoration-color: #008080; font-weight: bold\">380</span><span style=\"font-weight: bold\">]</span> Retrieving game with <span style=\"color: #808000; text-decoration-color: #808000\">id</span>=<span style=\"color: #800080; text-decoration-color: #800080\">2df9a3a1</span>                                 <a href=\"file:///usr/local/lib/python3.11/dist-packages/soccerdata/fbref.py\" target=\"_blank\"><span style=\"color: #7f7f7f; text-decoration-color: #7f7f7f\">fbref.py</span></a><span style=\"color: #7f7f7f; text-decoration-color: #7f7f7f\">:</span><a href=\"file:///usr/local/lib/python3.11/dist-packages/soccerdata/fbref.py#815\" target=\"_blank\"><span style=\"color: #7f7f7f; text-decoration-color: #7f7f7f\">815</span></a>\n",
              "</pre>\n"
            ]
          },
          "metadata": {}
        },
        {
          "output_type": "display_data",
          "data": {
            "text/plain": [
              "\u001b[2;36m[01/27/25 22:55:37]\u001b[0m\u001b[2;36m \u001b[0m\u001b[34mINFO    \u001b[0m \u001b[1m[\u001b[0m\u001b[1;36m61\u001b[0m/\u001b[1;36m380\u001b[0m\u001b[1m]\u001b[0m Retrieving game with \u001b[33mid\u001b[0m=\u001b[35m8de4aca0\u001b[0m                                 \u001b]8;id=822128;file:///usr/local/lib/python3.11/dist-packages/soccerdata/fbref.py\u001b\\\u001b[2mfbref.py\u001b[0m\u001b]8;;\u001b\\\u001b[2m:\u001b[0m\u001b]8;id=555992;file:///usr/local/lib/python3.11/dist-packages/soccerdata/fbref.py#815\u001b\\\u001b[2m815\u001b[0m\u001b]8;;\u001b\\\n"
            ],
            "text/html": [
              "<pre style=\"white-space:pre;overflow-x:auto;line-height:normal;font-family:Menlo,'DejaVu Sans Mono',consolas,'Courier New',monospace\"><span style=\"color: #7fbfbf; text-decoration-color: #7fbfbf\">[01/27/25 22:55:37] </span><span style=\"color: #000080; text-decoration-color: #000080\">INFO    </span> <span style=\"font-weight: bold\">[</span><span style=\"color: #008080; text-decoration-color: #008080; font-weight: bold\">61</span>/<span style=\"color: #008080; text-decoration-color: #008080; font-weight: bold\">380</span><span style=\"font-weight: bold\">]</span> Retrieving game with <span style=\"color: #808000; text-decoration-color: #808000\">id</span>=<span style=\"color: #800080; text-decoration-color: #800080\">8de4aca0</span>                                 <a href=\"file:///usr/local/lib/python3.11/dist-packages/soccerdata/fbref.py\" target=\"_blank\"><span style=\"color: #7f7f7f; text-decoration-color: #7f7f7f\">fbref.py</span></a><span style=\"color: #7f7f7f; text-decoration-color: #7f7f7f\">:</span><a href=\"file:///usr/local/lib/python3.11/dist-packages/soccerdata/fbref.py#815\" target=\"_blank\"><span style=\"color: #7f7f7f; text-decoration-color: #7f7f7f\">815</span></a>\n",
              "</pre>\n"
            ]
          },
          "metadata": {}
        },
        {
          "output_type": "display_data",
          "data": {
            "text/plain": [
              "\u001b[2;36m[01/27/25 22:55:43]\u001b[0m\u001b[2;36m \u001b[0m\u001b[34mINFO    \u001b[0m \u001b[1m[\u001b[0m\u001b[1;36m62\u001b[0m/\u001b[1;36m380\u001b[0m\u001b[1m]\u001b[0m Retrieving game with \u001b[33mid\u001b[0m=\u001b[35m921d5f17\u001b[0m                                 \u001b]8;id=840271;file:///usr/local/lib/python3.11/dist-packages/soccerdata/fbref.py\u001b\\\u001b[2mfbref.py\u001b[0m\u001b]8;;\u001b\\\u001b[2m:\u001b[0m\u001b]8;id=779506;file:///usr/local/lib/python3.11/dist-packages/soccerdata/fbref.py#815\u001b\\\u001b[2m815\u001b[0m\u001b]8;;\u001b\\\n"
            ],
            "text/html": [
              "<pre style=\"white-space:pre;overflow-x:auto;line-height:normal;font-family:Menlo,'DejaVu Sans Mono',consolas,'Courier New',monospace\"><span style=\"color: #7fbfbf; text-decoration-color: #7fbfbf\">[01/27/25 22:55:43] </span><span style=\"color: #000080; text-decoration-color: #000080\">INFO    </span> <span style=\"font-weight: bold\">[</span><span style=\"color: #008080; text-decoration-color: #008080; font-weight: bold\">62</span>/<span style=\"color: #008080; text-decoration-color: #008080; font-weight: bold\">380</span><span style=\"font-weight: bold\">]</span> Retrieving game with <span style=\"color: #808000; text-decoration-color: #808000\">id</span>=<span style=\"color: #800080; text-decoration-color: #800080\">921d5f17</span>                                 <a href=\"file:///usr/local/lib/python3.11/dist-packages/soccerdata/fbref.py\" target=\"_blank\"><span style=\"color: #7f7f7f; text-decoration-color: #7f7f7f\">fbref.py</span></a><span style=\"color: #7f7f7f; text-decoration-color: #7f7f7f\">:</span><a href=\"file:///usr/local/lib/python3.11/dist-packages/soccerdata/fbref.py#815\" target=\"_blank\"><span style=\"color: #7f7f7f; text-decoration-color: #7f7f7f\">815</span></a>\n",
              "</pre>\n"
            ]
          },
          "metadata": {}
        },
        {
          "output_type": "display_data",
          "data": {
            "text/plain": [
              "\u001b[2;36m[01/27/25 22:55:50]\u001b[0m\u001b[2;36m \u001b[0m\u001b[34mINFO    \u001b[0m \u001b[1m[\u001b[0m\u001b[1;36m63\u001b[0m/\u001b[1;36m380\u001b[0m\u001b[1m]\u001b[0m Retrieving game with \u001b[33mid\u001b[0m=\u001b[35mef2b7ab9\u001b[0m                                 \u001b]8;id=135154;file:///usr/local/lib/python3.11/dist-packages/soccerdata/fbref.py\u001b\\\u001b[2mfbref.py\u001b[0m\u001b]8;;\u001b\\\u001b[2m:\u001b[0m\u001b]8;id=81862;file:///usr/local/lib/python3.11/dist-packages/soccerdata/fbref.py#815\u001b\\\u001b[2m815\u001b[0m\u001b]8;;\u001b\\\n"
            ],
            "text/html": [
              "<pre style=\"white-space:pre;overflow-x:auto;line-height:normal;font-family:Menlo,'DejaVu Sans Mono',consolas,'Courier New',monospace\"><span style=\"color: #7fbfbf; text-decoration-color: #7fbfbf\">[01/27/25 22:55:50] </span><span style=\"color: #000080; text-decoration-color: #000080\">INFO    </span> <span style=\"font-weight: bold\">[</span><span style=\"color: #008080; text-decoration-color: #008080; font-weight: bold\">63</span>/<span style=\"color: #008080; text-decoration-color: #008080; font-weight: bold\">380</span><span style=\"font-weight: bold\">]</span> Retrieving game with <span style=\"color: #808000; text-decoration-color: #808000\">id</span>=<span style=\"color: #800080; text-decoration-color: #800080\">ef2b7ab9</span>                                 <a href=\"file:///usr/local/lib/python3.11/dist-packages/soccerdata/fbref.py\" target=\"_blank\"><span style=\"color: #7f7f7f; text-decoration-color: #7f7f7f\">fbref.py</span></a><span style=\"color: #7f7f7f; text-decoration-color: #7f7f7f\">:</span><a href=\"file:///usr/local/lib/python3.11/dist-packages/soccerdata/fbref.py#815\" target=\"_blank\"><span style=\"color: #7f7f7f; text-decoration-color: #7f7f7f\">815</span></a>\n",
              "</pre>\n"
            ]
          },
          "metadata": {}
        },
        {
          "output_type": "display_data",
          "data": {
            "text/plain": [
              "\u001b[2;36m[01/27/25 22:55:56]\u001b[0m\u001b[2;36m \u001b[0m\u001b[34mINFO    \u001b[0m \u001b[1m[\u001b[0m\u001b[1;36m64\u001b[0m/\u001b[1;36m380\u001b[0m\u001b[1m]\u001b[0m Retrieving game with \u001b[33mid\u001b[0m=\u001b[35ma79ff136\u001b[0m                                 \u001b]8;id=364307;file:///usr/local/lib/python3.11/dist-packages/soccerdata/fbref.py\u001b\\\u001b[2mfbref.py\u001b[0m\u001b]8;;\u001b\\\u001b[2m:\u001b[0m\u001b]8;id=489762;file:///usr/local/lib/python3.11/dist-packages/soccerdata/fbref.py#815\u001b\\\u001b[2m815\u001b[0m\u001b]8;;\u001b\\\n"
            ],
            "text/html": [
              "<pre style=\"white-space:pre;overflow-x:auto;line-height:normal;font-family:Menlo,'DejaVu Sans Mono',consolas,'Courier New',monospace\"><span style=\"color: #7fbfbf; text-decoration-color: #7fbfbf\">[01/27/25 22:55:56] </span><span style=\"color: #000080; text-decoration-color: #000080\">INFO    </span> <span style=\"font-weight: bold\">[</span><span style=\"color: #008080; text-decoration-color: #008080; font-weight: bold\">64</span>/<span style=\"color: #008080; text-decoration-color: #008080; font-weight: bold\">380</span><span style=\"font-weight: bold\">]</span> Retrieving game with <span style=\"color: #808000; text-decoration-color: #808000\">id</span>=<span style=\"color: #800080; text-decoration-color: #800080\">a79ff136</span>                                 <a href=\"file:///usr/local/lib/python3.11/dist-packages/soccerdata/fbref.py\" target=\"_blank\"><span style=\"color: #7f7f7f; text-decoration-color: #7f7f7f\">fbref.py</span></a><span style=\"color: #7f7f7f; text-decoration-color: #7f7f7f\">:</span><a href=\"file:///usr/local/lib/python3.11/dist-packages/soccerdata/fbref.py#815\" target=\"_blank\"><span style=\"color: #7f7f7f; text-decoration-color: #7f7f7f\">815</span></a>\n",
              "</pre>\n"
            ]
          },
          "metadata": {}
        },
        {
          "output_type": "display_data",
          "data": {
            "text/plain": [
              "\u001b[2;36m[01/27/25 22:56:02]\u001b[0m\u001b[2;36m \u001b[0m\u001b[34mINFO    \u001b[0m \u001b[1m[\u001b[0m\u001b[1;36m65\u001b[0m/\u001b[1;36m380\u001b[0m\u001b[1m]\u001b[0m Retrieving game with \u001b[33mid\u001b[0m=\u001b[35mec4145b4\u001b[0m                                 \u001b]8;id=281775;file:///usr/local/lib/python3.11/dist-packages/soccerdata/fbref.py\u001b\\\u001b[2mfbref.py\u001b[0m\u001b]8;;\u001b\\\u001b[2m:\u001b[0m\u001b]8;id=766316;file:///usr/local/lib/python3.11/dist-packages/soccerdata/fbref.py#815\u001b\\\u001b[2m815\u001b[0m\u001b]8;;\u001b\\\n"
            ],
            "text/html": [
              "<pre style=\"white-space:pre;overflow-x:auto;line-height:normal;font-family:Menlo,'DejaVu Sans Mono',consolas,'Courier New',monospace\"><span style=\"color: #7fbfbf; text-decoration-color: #7fbfbf\">[01/27/25 22:56:02] </span><span style=\"color: #000080; text-decoration-color: #000080\">INFO    </span> <span style=\"font-weight: bold\">[</span><span style=\"color: #008080; text-decoration-color: #008080; font-weight: bold\">65</span>/<span style=\"color: #008080; text-decoration-color: #008080; font-weight: bold\">380</span><span style=\"font-weight: bold\">]</span> Retrieving game with <span style=\"color: #808000; text-decoration-color: #808000\">id</span>=<span style=\"color: #800080; text-decoration-color: #800080\">ec4145b4</span>                                 <a href=\"file:///usr/local/lib/python3.11/dist-packages/soccerdata/fbref.py\" target=\"_blank\"><span style=\"color: #7f7f7f; text-decoration-color: #7f7f7f\">fbref.py</span></a><span style=\"color: #7f7f7f; text-decoration-color: #7f7f7f\">:</span><a href=\"file:///usr/local/lib/python3.11/dist-packages/soccerdata/fbref.py#815\" target=\"_blank\"><span style=\"color: #7f7f7f; text-decoration-color: #7f7f7f\">815</span></a>\n",
              "</pre>\n"
            ]
          },
          "metadata": {}
        },
        {
          "output_type": "display_data",
          "data": {
            "text/plain": [
              "\u001b[2;36m[01/27/25 22:56:09]\u001b[0m\u001b[2;36m \u001b[0m\u001b[34mINFO    \u001b[0m \u001b[1m[\u001b[0m\u001b[1;36m66\u001b[0m/\u001b[1;36m380\u001b[0m\u001b[1m]\u001b[0m Retrieving game with \u001b[33mid\u001b[0m=\u001b[35mb82be6d7\u001b[0m                                 \u001b]8;id=260521;file:///usr/local/lib/python3.11/dist-packages/soccerdata/fbref.py\u001b\\\u001b[2mfbref.py\u001b[0m\u001b]8;;\u001b\\\u001b[2m:\u001b[0m\u001b]8;id=163608;file:///usr/local/lib/python3.11/dist-packages/soccerdata/fbref.py#815\u001b\\\u001b[2m815\u001b[0m\u001b]8;;\u001b\\\n"
            ],
            "text/html": [
              "<pre style=\"white-space:pre;overflow-x:auto;line-height:normal;font-family:Menlo,'DejaVu Sans Mono',consolas,'Courier New',monospace\"><span style=\"color: #7fbfbf; text-decoration-color: #7fbfbf\">[01/27/25 22:56:09] </span><span style=\"color: #000080; text-decoration-color: #000080\">INFO    </span> <span style=\"font-weight: bold\">[</span><span style=\"color: #008080; text-decoration-color: #008080; font-weight: bold\">66</span>/<span style=\"color: #008080; text-decoration-color: #008080; font-weight: bold\">380</span><span style=\"font-weight: bold\">]</span> Retrieving game with <span style=\"color: #808000; text-decoration-color: #808000\">id</span>=<span style=\"color: #800080; text-decoration-color: #800080\">b82be6d7</span>                                 <a href=\"file:///usr/local/lib/python3.11/dist-packages/soccerdata/fbref.py\" target=\"_blank\"><span style=\"color: #7f7f7f; text-decoration-color: #7f7f7f\">fbref.py</span></a><span style=\"color: #7f7f7f; text-decoration-color: #7f7f7f\">:</span><a href=\"file:///usr/local/lib/python3.11/dist-packages/soccerdata/fbref.py#815\" target=\"_blank\"><span style=\"color: #7f7f7f; text-decoration-color: #7f7f7f\">815</span></a>\n",
              "</pre>\n"
            ]
          },
          "metadata": {}
        },
        {
          "output_type": "display_data",
          "data": {
            "text/plain": [
              "\u001b[2;36m[01/27/25 22:56:15]\u001b[0m\u001b[2;36m \u001b[0m\u001b[34mINFO    \u001b[0m \u001b[1m[\u001b[0m\u001b[1;36m67\u001b[0m/\u001b[1;36m380\u001b[0m\u001b[1m]\u001b[0m Retrieving game with \u001b[33mid\u001b[0m=\u001b[35m60ce29cd\u001b[0m                                 \u001b]8;id=553517;file:///usr/local/lib/python3.11/dist-packages/soccerdata/fbref.py\u001b\\\u001b[2mfbref.py\u001b[0m\u001b]8;;\u001b\\\u001b[2m:\u001b[0m\u001b]8;id=259106;file:///usr/local/lib/python3.11/dist-packages/soccerdata/fbref.py#815\u001b\\\u001b[2m815\u001b[0m\u001b]8;;\u001b\\\n"
            ],
            "text/html": [
              "<pre style=\"white-space:pre;overflow-x:auto;line-height:normal;font-family:Menlo,'DejaVu Sans Mono',consolas,'Courier New',monospace\"><span style=\"color: #7fbfbf; text-decoration-color: #7fbfbf\">[01/27/25 22:56:15] </span><span style=\"color: #000080; text-decoration-color: #000080\">INFO    </span> <span style=\"font-weight: bold\">[</span><span style=\"color: #008080; text-decoration-color: #008080; font-weight: bold\">67</span>/<span style=\"color: #008080; text-decoration-color: #008080; font-weight: bold\">380</span><span style=\"font-weight: bold\">]</span> Retrieving game with <span style=\"color: #808000; text-decoration-color: #808000\">id</span>=<span style=\"color: #800080; text-decoration-color: #800080\">60ce29cd</span>                                 <a href=\"file:///usr/local/lib/python3.11/dist-packages/soccerdata/fbref.py\" target=\"_blank\"><span style=\"color: #7f7f7f; text-decoration-color: #7f7f7f\">fbref.py</span></a><span style=\"color: #7f7f7f; text-decoration-color: #7f7f7f\">:</span><a href=\"file:///usr/local/lib/python3.11/dist-packages/soccerdata/fbref.py#815\" target=\"_blank\"><span style=\"color: #7f7f7f; text-decoration-color: #7f7f7f\">815</span></a>\n",
              "</pre>\n"
            ]
          },
          "metadata": {}
        },
        {
          "output_type": "display_data",
          "data": {
            "text/plain": [
              "\u001b[2;36m[01/27/25 22:56:21]\u001b[0m\u001b[2;36m \u001b[0m\u001b[34mINFO    \u001b[0m \u001b[1m[\u001b[0m\u001b[1;36m68\u001b[0m/\u001b[1;36m380\u001b[0m\u001b[1m]\u001b[0m Retrieving game with \u001b[33mid\u001b[0m=\u001b[35m923467c5\u001b[0m                                 \u001b]8;id=711208;file:///usr/local/lib/python3.11/dist-packages/soccerdata/fbref.py\u001b\\\u001b[2mfbref.py\u001b[0m\u001b]8;;\u001b\\\u001b[2m:\u001b[0m\u001b]8;id=758150;file:///usr/local/lib/python3.11/dist-packages/soccerdata/fbref.py#815\u001b\\\u001b[2m815\u001b[0m\u001b]8;;\u001b\\\n"
            ],
            "text/html": [
              "<pre style=\"white-space:pre;overflow-x:auto;line-height:normal;font-family:Menlo,'DejaVu Sans Mono',consolas,'Courier New',monospace\"><span style=\"color: #7fbfbf; text-decoration-color: #7fbfbf\">[01/27/25 22:56:21] </span><span style=\"color: #000080; text-decoration-color: #000080\">INFO    </span> <span style=\"font-weight: bold\">[</span><span style=\"color: #008080; text-decoration-color: #008080; font-weight: bold\">68</span>/<span style=\"color: #008080; text-decoration-color: #008080; font-weight: bold\">380</span><span style=\"font-weight: bold\">]</span> Retrieving game with <span style=\"color: #808000; text-decoration-color: #808000\">id</span>=<span style=\"color: #800080; text-decoration-color: #800080\">923467c5</span>                                 <a href=\"file:///usr/local/lib/python3.11/dist-packages/soccerdata/fbref.py\" target=\"_blank\"><span style=\"color: #7f7f7f; text-decoration-color: #7f7f7f\">fbref.py</span></a><span style=\"color: #7f7f7f; text-decoration-color: #7f7f7f\">:</span><a href=\"file:///usr/local/lib/python3.11/dist-packages/soccerdata/fbref.py#815\" target=\"_blank\"><span style=\"color: #7f7f7f; text-decoration-color: #7f7f7f\">815</span></a>\n",
              "</pre>\n"
            ]
          },
          "metadata": {}
        },
        {
          "output_type": "display_data",
          "data": {
            "text/plain": [
              "\u001b[2;36m[01/27/25 22:56:28]\u001b[0m\u001b[2;36m \u001b[0m\u001b[34mINFO    \u001b[0m \u001b[1m[\u001b[0m\u001b[1;36m69\u001b[0m/\u001b[1;36m380\u001b[0m\u001b[1m]\u001b[0m Retrieving game with \u001b[33mid\u001b[0m=\u001b[35mc9787e60\u001b[0m                                 \u001b]8;id=378544;file:///usr/local/lib/python3.11/dist-packages/soccerdata/fbref.py\u001b\\\u001b[2mfbref.py\u001b[0m\u001b]8;;\u001b\\\u001b[2m:\u001b[0m\u001b]8;id=627675;file:///usr/local/lib/python3.11/dist-packages/soccerdata/fbref.py#815\u001b\\\u001b[2m815\u001b[0m\u001b]8;;\u001b\\\n"
            ],
            "text/html": [
              "<pre style=\"white-space:pre;overflow-x:auto;line-height:normal;font-family:Menlo,'DejaVu Sans Mono',consolas,'Courier New',monospace\"><span style=\"color: #7fbfbf; text-decoration-color: #7fbfbf\">[01/27/25 22:56:28] </span><span style=\"color: #000080; text-decoration-color: #000080\">INFO    </span> <span style=\"font-weight: bold\">[</span><span style=\"color: #008080; text-decoration-color: #008080; font-weight: bold\">69</span>/<span style=\"color: #008080; text-decoration-color: #008080; font-weight: bold\">380</span><span style=\"font-weight: bold\">]</span> Retrieving game with <span style=\"color: #808000; text-decoration-color: #808000\">id</span>=<span style=\"color: #800080; text-decoration-color: #800080\">c9787e60</span>                                 <a href=\"file:///usr/local/lib/python3.11/dist-packages/soccerdata/fbref.py\" target=\"_blank\"><span style=\"color: #7f7f7f; text-decoration-color: #7f7f7f\">fbref.py</span></a><span style=\"color: #7f7f7f; text-decoration-color: #7f7f7f\">:</span><a href=\"file:///usr/local/lib/python3.11/dist-packages/soccerdata/fbref.py#815\" target=\"_blank\"><span style=\"color: #7f7f7f; text-decoration-color: #7f7f7f\">815</span></a>\n",
              "</pre>\n"
            ]
          },
          "metadata": {}
        },
        {
          "output_type": "display_data",
          "data": {
            "text/plain": [
              "\u001b[2;36m[01/27/25 22:56:34]\u001b[0m\u001b[2;36m \u001b[0m\u001b[34mINFO    \u001b[0m \u001b[1m[\u001b[0m\u001b[1;36m70\u001b[0m/\u001b[1;36m380\u001b[0m\u001b[1m]\u001b[0m Retrieving game with \u001b[33mid\u001b[0m=\u001b[35m4f7b3f27\u001b[0m                                 \u001b]8;id=777049;file:///usr/local/lib/python3.11/dist-packages/soccerdata/fbref.py\u001b\\\u001b[2mfbref.py\u001b[0m\u001b]8;;\u001b\\\u001b[2m:\u001b[0m\u001b]8;id=949781;file:///usr/local/lib/python3.11/dist-packages/soccerdata/fbref.py#815\u001b\\\u001b[2m815\u001b[0m\u001b]8;;\u001b\\\n"
            ],
            "text/html": [
              "<pre style=\"white-space:pre;overflow-x:auto;line-height:normal;font-family:Menlo,'DejaVu Sans Mono',consolas,'Courier New',monospace\"><span style=\"color: #7fbfbf; text-decoration-color: #7fbfbf\">[01/27/25 22:56:34] </span><span style=\"color: #000080; text-decoration-color: #000080\">INFO    </span> <span style=\"font-weight: bold\">[</span><span style=\"color: #008080; text-decoration-color: #008080; font-weight: bold\">70</span>/<span style=\"color: #008080; text-decoration-color: #008080; font-weight: bold\">380</span><span style=\"font-weight: bold\">]</span> Retrieving game with <span style=\"color: #808000; text-decoration-color: #808000\">id</span>=<span style=\"color: #800080; text-decoration-color: #800080\">4f7b3f27</span>                                 <a href=\"file:///usr/local/lib/python3.11/dist-packages/soccerdata/fbref.py\" target=\"_blank\"><span style=\"color: #7f7f7f; text-decoration-color: #7f7f7f\">fbref.py</span></a><span style=\"color: #7f7f7f; text-decoration-color: #7f7f7f\">:</span><a href=\"file:///usr/local/lib/python3.11/dist-packages/soccerdata/fbref.py#815\" target=\"_blank\"><span style=\"color: #7f7f7f; text-decoration-color: #7f7f7f\">815</span></a>\n",
              "</pre>\n"
            ]
          },
          "metadata": {}
        },
        {
          "output_type": "display_data",
          "data": {
            "text/plain": [
              "\u001b[2;36m[01/27/25 22:56:40]\u001b[0m\u001b[2;36m \u001b[0m\u001b[34mINFO    \u001b[0m \u001b[1m[\u001b[0m\u001b[1;36m71\u001b[0m/\u001b[1;36m380\u001b[0m\u001b[1m]\u001b[0m Retrieving game with \u001b[33mid\u001b[0m=\u001b[35mcfd83ca3\u001b[0m                                 \u001b]8;id=408892;file:///usr/local/lib/python3.11/dist-packages/soccerdata/fbref.py\u001b\\\u001b[2mfbref.py\u001b[0m\u001b]8;;\u001b\\\u001b[2m:\u001b[0m\u001b]8;id=911442;file:///usr/local/lib/python3.11/dist-packages/soccerdata/fbref.py#815\u001b\\\u001b[2m815\u001b[0m\u001b]8;;\u001b\\\n"
            ],
            "text/html": [
              "<pre style=\"white-space:pre;overflow-x:auto;line-height:normal;font-family:Menlo,'DejaVu Sans Mono',consolas,'Courier New',monospace\"><span style=\"color: #7fbfbf; text-decoration-color: #7fbfbf\">[01/27/25 22:56:40] </span><span style=\"color: #000080; text-decoration-color: #000080\">INFO    </span> <span style=\"font-weight: bold\">[</span><span style=\"color: #008080; text-decoration-color: #008080; font-weight: bold\">71</span>/<span style=\"color: #008080; text-decoration-color: #008080; font-weight: bold\">380</span><span style=\"font-weight: bold\">]</span> Retrieving game with <span style=\"color: #808000; text-decoration-color: #808000\">id</span>=<span style=\"color: #800080; text-decoration-color: #800080\">cfd83ca3</span>                                 <a href=\"file:///usr/local/lib/python3.11/dist-packages/soccerdata/fbref.py\" target=\"_blank\"><span style=\"color: #7f7f7f; text-decoration-color: #7f7f7f\">fbref.py</span></a><span style=\"color: #7f7f7f; text-decoration-color: #7f7f7f\">:</span><a href=\"file:///usr/local/lib/python3.11/dist-packages/soccerdata/fbref.py#815\" target=\"_blank\"><span style=\"color: #7f7f7f; text-decoration-color: #7f7f7f\">815</span></a>\n",
              "</pre>\n"
            ]
          },
          "metadata": {}
        },
        {
          "output_type": "display_data",
          "data": {
            "text/plain": [
              "\u001b[2;36m[01/27/25 22:56:46]\u001b[0m\u001b[2;36m \u001b[0m\u001b[34mINFO    \u001b[0m \u001b[1m[\u001b[0m\u001b[1;36m72\u001b[0m/\u001b[1;36m380\u001b[0m\u001b[1m]\u001b[0m Retrieving game with \u001b[33mid\u001b[0m=\u001b[35m1828106c\u001b[0m                                 \u001b]8;id=822579;file:///usr/local/lib/python3.11/dist-packages/soccerdata/fbref.py\u001b\\\u001b[2mfbref.py\u001b[0m\u001b]8;;\u001b\\\u001b[2m:\u001b[0m\u001b]8;id=273589;file:///usr/local/lib/python3.11/dist-packages/soccerdata/fbref.py#815\u001b\\\u001b[2m815\u001b[0m\u001b]8;;\u001b\\\n"
            ],
            "text/html": [
              "<pre style=\"white-space:pre;overflow-x:auto;line-height:normal;font-family:Menlo,'DejaVu Sans Mono',consolas,'Courier New',monospace\"><span style=\"color: #7fbfbf; text-decoration-color: #7fbfbf\">[01/27/25 22:56:46] </span><span style=\"color: #000080; text-decoration-color: #000080\">INFO    </span> <span style=\"font-weight: bold\">[</span><span style=\"color: #008080; text-decoration-color: #008080; font-weight: bold\">72</span>/<span style=\"color: #008080; text-decoration-color: #008080; font-weight: bold\">380</span><span style=\"font-weight: bold\">]</span> Retrieving game with <span style=\"color: #808000; text-decoration-color: #808000\">id</span>=<span style=\"color: #800080; text-decoration-color: #800080\">1828106c</span>                                 <a href=\"file:///usr/local/lib/python3.11/dist-packages/soccerdata/fbref.py\" target=\"_blank\"><span style=\"color: #7f7f7f; text-decoration-color: #7f7f7f\">fbref.py</span></a><span style=\"color: #7f7f7f; text-decoration-color: #7f7f7f\">:</span><a href=\"file:///usr/local/lib/python3.11/dist-packages/soccerdata/fbref.py#815\" target=\"_blank\"><span style=\"color: #7f7f7f; text-decoration-color: #7f7f7f\">815</span></a>\n",
              "</pre>\n"
            ]
          },
          "metadata": {}
        },
        {
          "output_type": "display_data",
          "data": {
            "text/plain": [
              "\u001b[2;36m[01/27/25 22:56:53]\u001b[0m\u001b[2;36m \u001b[0m\u001b[34mINFO    \u001b[0m \u001b[1m[\u001b[0m\u001b[1;36m73\u001b[0m/\u001b[1;36m380\u001b[0m\u001b[1m]\u001b[0m Retrieving game with \u001b[33mid\u001b[0m=\u001b[35m497b9558\u001b[0m                                 \u001b]8;id=724817;file:///usr/local/lib/python3.11/dist-packages/soccerdata/fbref.py\u001b\\\u001b[2mfbref.py\u001b[0m\u001b]8;;\u001b\\\u001b[2m:\u001b[0m\u001b]8;id=948490;file:///usr/local/lib/python3.11/dist-packages/soccerdata/fbref.py#815\u001b\\\u001b[2m815\u001b[0m\u001b]8;;\u001b\\\n"
            ],
            "text/html": [
              "<pre style=\"white-space:pre;overflow-x:auto;line-height:normal;font-family:Menlo,'DejaVu Sans Mono',consolas,'Courier New',monospace\"><span style=\"color: #7fbfbf; text-decoration-color: #7fbfbf\">[01/27/25 22:56:53] </span><span style=\"color: #000080; text-decoration-color: #000080\">INFO    </span> <span style=\"font-weight: bold\">[</span><span style=\"color: #008080; text-decoration-color: #008080; font-weight: bold\">73</span>/<span style=\"color: #008080; text-decoration-color: #008080; font-weight: bold\">380</span><span style=\"font-weight: bold\">]</span> Retrieving game with <span style=\"color: #808000; text-decoration-color: #808000\">id</span>=<span style=\"color: #800080; text-decoration-color: #800080\">497b9558</span>                                 <a href=\"file:///usr/local/lib/python3.11/dist-packages/soccerdata/fbref.py\" target=\"_blank\"><span style=\"color: #7f7f7f; text-decoration-color: #7f7f7f\">fbref.py</span></a><span style=\"color: #7f7f7f; text-decoration-color: #7f7f7f\">:</span><a href=\"file:///usr/local/lib/python3.11/dist-packages/soccerdata/fbref.py#815\" target=\"_blank\"><span style=\"color: #7f7f7f; text-decoration-color: #7f7f7f\">815</span></a>\n",
              "</pre>\n"
            ]
          },
          "metadata": {}
        },
        {
          "output_type": "display_data",
          "data": {
            "text/plain": [
              "\u001b[2;36m[01/27/25 22:56:59]\u001b[0m\u001b[2;36m \u001b[0m\u001b[34mINFO    \u001b[0m \u001b[1m[\u001b[0m\u001b[1;36m74\u001b[0m/\u001b[1;36m380\u001b[0m\u001b[1m]\u001b[0m Retrieving game with \u001b[33mid\u001b[0m=\u001b[35mffc59ea8\u001b[0m                                 \u001b]8;id=455524;file:///usr/local/lib/python3.11/dist-packages/soccerdata/fbref.py\u001b\\\u001b[2mfbref.py\u001b[0m\u001b]8;;\u001b\\\u001b[2m:\u001b[0m\u001b]8;id=456047;file:///usr/local/lib/python3.11/dist-packages/soccerdata/fbref.py#815\u001b\\\u001b[2m815\u001b[0m\u001b]8;;\u001b\\\n"
            ],
            "text/html": [
              "<pre style=\"white-space:pre;overflow-x:auto;line-height:normal;font-family:Menlo,'DejaVu Sans Mono',consolas,'Courier New',monospace\"><span style=\"color: #7fbfbf; text-decoration-color: #7fbfbf\">[01/27/25 22:56:59] </span><span style=\"color: #000080; text-decoration-color: #000080\">INFO    </span> <span style=\"font-weight: bold\">[</span><span style=\"color: #008080; text-decoration-color: #008080; font-weight: bold\">74</span>/<span style=\"color: #008080; text-decoration-color: #008080; font-weight: bold\">380</span><span style=\"font-weight: bold\">]</span> Retrieving game with <span style=\"color: #808000; text-decoration-color: #808000\">id</span>=<span style=\"color: #800080; text-decoration-color: #800080\">ffc59ea8</span>                                 <a href=\"file:///usr/local/lib/python3.11/dist-packages/soccerdata/fbref.py\" target=\"_blank\"><span style=\"color: #7f7f7f; text-decoration-color: #7f7f7f\">fbref.py</span></a><span style=\"color: #7f7f7f; text-decoration-color: #7f7f7f\">:</span><a href=\"file:///usr/local/lib/python3.11/dist-packages/soccerdata/fbref.py#815\" target=\"_blank\"><span style=\"color: #7f7f7f; text-decoration-color: #7f7f7f\">815</span></a>\n",
              "</pre>\n"
            ]
          },
          "metadata": {}
        },
        {
          "output_type": "display_data",
          "data": {
            "text/plain": [
              "\u001b[2;36m[01/27/25 22:57:05]\u001b[0m\u001b[2;36m \u001b[0m\u001b[34mINFO    \u001b[0m \u001b[1m[\u001b[0m\u001b[1;36m75\u001b[0m/\u001b[1;36m380\u001b[0m\u001b[1m]\u001b[0m Retrieving game with \u001b[33mid\u001b[0m=\u001b[35md021f28f\u001b[0m                                 \u001b]8;id=632730;file:///usr/local/lib/python3.11/dist-packages/soccerdata/fbref.py\u001b\\\u001b[2mfbref.py\u001b[0m\u001b]8;;\u001b\\\u001b[2m:\u001b[0m\u001b]8;id=267002;file:///usr/local/lib/python3.11/dist-packages/soccerdata/fbref.py#815\u001b\\\u001b[2m815\u001b[0m\u001b]8;;\u001b\\\n"
            ],
            "text/html": [
              "<pre style=\"white-space:pre;overflow-x:auto;line-height:normal;font-family:Menlo,'DejaVu Sans Mono',consolas,'Courier New',monospace\"><span style=\"color: #7fbfbf; text-decoration-color: #7fbfbf\">[01/27/25 22:57:05] </span><span style=\"color: #000080; text-decoration-color: #000080\">INFO    </span> <span style=\"font-weight: bold\">[</span><span style=\"color: #008080; text-decoration-color: #008080; font-weight: bold\">75</span>/<span style=\"color: #008080; text-decoration-color: #008080; font-weight: bold\">380</span><span style=\"font-weight: bold\">]</span> Retrieving game with <span style=\"color: #808000; text-decoration-color: #808000\">id</span>=<span style=\"color: #800080; text-decoration-color: #800080\">d021f28f</span>                                 <a href=\"file:///usr/local/lib/python3.11/dist-packages/soccerdata/fbref.py\" target=\"_blank\"><span style=\"color: #7f7f7f; text-decoration-color: #7f7f7f\">fbref.py</span></a><span style=\"color: #7f7f7f; text-decoration-color: #7f7f7f\">:</span><a href=\"file:///usr/local/lib/python3.11/dist-packages/soccerdata/fbref.py#815\" target=\"_blank\"><span style=\"color: #7f7f7f; text-decoration-color: #7f7f7f\">815</span></a>\n",
              "</pre>\n"
            ]
          },
          "metadata": {}
        },
        {
          "output_type": "display_data",
          "data": {
            "text/plain": [
              "\u001b[2;36m[01/27/25 22:57:12]\u001b[0m\u001b[2;36m \u001b[0m\u001b[34mINFO    \u001b[0m \u001b[1m[\u001b[0m\u001b[1;36m76\u001b[0m/\u001b[1;36m380\u001b[0m\u001b[1m]\u001b[0m Retrieving game with \u001b[33mid\u001b[0m=\u001b[35m5006142a\u001b[0m                                 \u001b]8;id=573390;file:///usr/local/lib/python3.11/dist-packages/soccerdata/fbref.py\u001b\\\u001b[2mfbref.py\u001b[0m\u001b]8;;\u001b\\\u001b[2m:\u001b[0m\u001b]8;id=396082;file:///usr/local/lib/python3.11/dist-packages/soccerdata/fbref.py#815\u001b\\\u001b[2m815\u001b[0m\u001b]8;;\u001b\\\n"
            ],
            "text/html": [
              "<pre style=\"white-space:pre;overflow-x:auto;line-height:normal;font-family:Menlo,'DejaVu Sans Mono',consolas,'Courier New',monospace\"><span style=\"color: #7fbfbf; text-decoration-color: #7fbfbf\">[01/27/25 22:57:12] </span><span style=\"color: #000080; text-decoration-color: #000080\">INFO    </span> <span style=\"font-weight: bold\">[</span><span style=\"color: #008080; text-decoration-color: #008080; font-weight: bold\">76</span>/<span style=\"color: #008080; text-decoration-color: #008080; font-weight: bold\">380</span><span style=\"font-weight: bold\">]</span> Retrieving game with <span style=\"color: #808000; text-decoration-color: #808000\">id</span>=<span style=\"color: #800080; text-decoration-color: #800080\">5006142a</span>                                 <a href=\"file:///usr/local/lib/python3.11/dist-packages/soccerdata/fbref.py\" target=\"_blank\"><span style=\"color: #7f7f7f; text-decoration-color: #7f7f7f\">fbref.py</span></a><span style=\"color: #7f7f7f; text-decoration-color: #7f7f7f\">:</span><a href=\"file:///usr/local/lib/python3.11/dist-packages/soccerdata/fbref.py#815\" target=\"_blank\"><span style=\"color: #7f7f7f; text-decoration-color: #7f7f7f\">815</span></a>\n",
              "</pre>\n"
            ]
          },
          "metadata": {}
        },
        {
          "output_type": "display_data",
          "data": {
            "text/plain": [
              "\u001b[2;36m[01/27/25 22:57:18]\u001b[0m\u001b[2;36m \u001b[0m\u001b[34mINFO    \u001b[0m \u001b[1m[\u001b[0m\u001b[1;36m77\u001b[0m/\u001b[1;36m380\u001b[0m\u001b[1m]\u001b[0m Retrieving game with \u001b[33mid\u001b[0m=\u001b[35m59cd18ae\u001b[0m                                 \u001b]8;id=839985;file:///usr/local/lib/python3.11/dist-packages/soccerdata/fbref.py\u001b\\\u001b[2mfbref.py\u001b[0m\u001b]8;;\u001b\\\u001b[2m:\u001b[0m\u001b]8;id=191953;file:///usr/local/lib/python3.11/dist-packages/soccerdata/fbref.py#815\u001b\\\u001b[2m815\u001b[0m\u001b]8;;\u001b\\\n"
            ],
            "text/html": [
              "<pre style=\"white-space:pre;overflow-x:auto;line-height:normal;font-family:Menlo,'DejaVu Sans Mono',consolas,'Courier New',monospace\"><span style=\"color: #7fbfbf; text-decoration-color: #7fbfbf\">[01/27/25 22:57:18] </span><span style=\"color: #000080; text-decoration-color: #000080\">INFO    </span> <span style=\"font-weight: bold\">[</span><span style=\"color: #008080; text-decoration-color: #008080; font-weight: bold\">77</span>/<span style=\"color: #008080; text-decoration-color: #008080; font-weight: bold\">380</span><span style=\"font-weight: bold\">]</span> Retrieving game with <span style=\"color: #808000; text-decoration-color: #808000\">id</span>=<span style=\"color: #800080; text-decoration-color: #800080\">59cd18ae</span>                                 <a href=\"file:///usr/local/lib/python3.11/dist-packages/soccerdata/fbref.py\" target=\"_blank\"><span style=\"color: #7f7f7f; text-decoration-color: #7f7f7f\">fbref.py</span></a><span style=\"color: #7f7f7f; text-decoration-color: #7f7f7f\">:</span><a href=\"file:///usr/local/lib/python3.11/dist-packages/soccerdata/fbref.py#815\" target=\"_blank\"><span style=\"color: #7f7f7f; text-decoration-color: #7f7f7f\">815</span></a>\n",
              "</pre>\n"
            ]
          },
          "metadata": {}
        },
        {
          "output_type": "display_data",
          "data": {
            "text/plain": [
              "\u001b[2;36m[01/27/25 22:57:24]\u001b[0m\u001b[2;36m \u001b[0m\u001b[34mINFO    \u001b[0m \u001b[1m[\u001b[0m\u001b[1;36m78\u001b[0m/\u001b[1;36m380\u001b[0m\u001b[1m]\u001b[0m Retrieving game with \u001b[33mid\u001b[0m=\u001b[35m3b1ec657\u001b[0m                                 \u001b]8;id=513549;file:///usr/local/lib/python3.11/dist-packages/soccerdata/fbref.py\u001b\\\u001b[2mfbref.py\u001b[0m\u001b]8;;\u001b\\\u001b[2m:\u001b[0m\u001b]8;id=196214;file:///usr/local/lib/python3.11/dist-packages/soccerdata/fbref.py#815\u001b\\\u001b[2m815\u001b[0m\u001b]8;;\u001b\\\n"
            ],
            "text/html": [
              "<pre style=\"white-space:pre;overflow-x:auto;line-height:normal;font-family:Menlo,'DejaVu Sans Mono',consolas,'Courier New',monospace\"><span style=\"color: #7fbfbf; text-decoration-color: #7fbfbf\">[01/27/25 22:57:24] </span><span style=\"color: #000080; text-decoration-color: #000080\">INFO    </span> <span style=\"font-weight: bold\">[</span><span style=\"color: #008080; text-decoration-color: #008080; font-weight: bold\">78</span>/<span style=\"color: #008080; text-decoration-color: #008080; font-weight: bold\">380</span><span style=\"font-weight: bold\">]</span> Retrieving game with <span style=\"color: #808000; text-decoration-color: #808000\">id</span>=<span style=\"color: #800080; text-decoration-color: #800080\">3b1ec657</span>                                 <a href=\"file:///usr/local/lib/python3.11/dist-packages/soccerdata/fbref.py\" target=\"_blank\"><span style=\"color: #7f7f7f; text-decoration-color: #7f7f7f\">fbref.py</span></a><span style=\"color: #7f7f7f; text-decoration-color: #7f7f7f\">:</span><a href=\"file:///usr/local/lib/python3.11/dist-packages/soccerdata/fbref.py#815\" target=\"_blank\"><span style=\"color: #7f7f7f; text-decoration-color: #7f7f7f\">815</span></a>\n",
              "</pre>\n"
            ]
          },
          "metadata": {}
        },
        {
          "output_type": "display_data",
          "data": {
            "text/plain": [
              "\u001b[2;36m[01/27/25 22:57:31]\u001b[0m\u001b[2;36m \u001b[0m\u001b[34mINFO    \u001b[0m \u001b[1m[\u001b[0m\u001b[1;36m79\u001b[0m/\u001b[1;36m380\u001b[0m\u001b[1m]\u001b[0m Retrieving game with \u001b[33mid\u001b[0m=\u001b[35m017c9ca5\u001b[0m                                 \u001b]8;id=217728;file:///usr/local/lib/python3.11/dist-packages/soccerdata/fbref.py\u001b\\\u001b[2mfbref.py\u001b[0m\u001b]8;;\u001b\\\u001b[2m:\u001b[0m\u001b]8;id=254902;file:///usr/local/lib/python3.11/dist-packages/soccerdata/fbref.py#815\u001b\\\u001b[2m815\u001b[0m\u001b]8;;\u001b\\\n"
            ],
            "text/html": [
              "<pre style=\"white-space:pre;overflow-x:auto;line-height:normal;font-family:Menlo,'DejaVu Sans Mono',consolas,'Courier New',monospace\"><span style=\"color: #7fbfbf; text-decoration-color: #7fbfbf\">[01/27/25 22:57:31] </span><span style=\"color: #000080; text-decoration-color: #000080\">INFO    </span> <span style=\"font-weight: bold\">[</span><span style=\"color: #008080; text-decoration-color: #008080; font-weight: bold\">79</span>/<span style=\"color: #008080; text-decoration-color: #008080; font-weight: bold\">380</span><span style=\"font-weight: bold\">]</span> Retrieving game with <span style=\"color: #808000; text-decoration-color: #808000\">id</span>=<span style=\"color: #800080; text-decoration-color: #800080\">017c9ca5</span>                                 <a href=\"file:///usr/local/lib/python3.11/dist-packages/soccerdata/fbref.py\" target=\"_blank\"><span style=\"color: #7f7f7f; text-decoration-color: #7f7f7f\">fbref.py</span></a><span style=\"color: #7f7f7f; text-decoration-color: #7f7f7f\">:</span><a href=\"file:///usr/local/lib/python3.11/dist-packages/soccerdata/fbref.py#815\" target=\"_blank\"><span style=\"color: #7f7f7f; text-decoration-color: #7f7f7f\">815</span></a>\n",
              "</pre>\n"
            ]
          },
          "metadata": {}
        },
        {
          "output_type": "display_data",
          "data": {
            "text/plain": [
              "\u001b[2;36m[01/27/25 22:57:37]\u001b[0m\u001b[2;36m \u001b[0m\u001b[34mINFO    \u001b[0m \u001b[1m[\u001b[0m\u001b[1;36m80\u001b[0m/\u001b[1;36m380\u001b[0m\u001b[1m]\u001b[0m Retrieving game with \u001b[33mid\u001b[0m=\u001b[35m3292ed35\u001b[0m                                 \u001b]8;id=272753;file:///usr/local/lib/python3.11/dist-packages/soccerdata/fbref.py\u001b\\\u001b[2mfbref.py\u001b[0m\u001b]8;;\u001b\\\u001b[2m:\u001b[0m\u001b]8;id=105081;file:///usr/local/lib/python3.11/dist-packages/soccerdata/fbref.py#815\u001b\\\u001b[2m815\u001b[0m\u001b]8;;\u001b\\\n"
            ],
            "text/html": [
              "<pre style=\"white-space:pre;overflow-x:auto;line-height:normal;font-family:Menlo,'DejaVu Sans Mono',consolas,'Courier New',monospace\"><span style=\"color: #7fbfbf; text-decoration-color: #7fbfbf\">[01/27/25 22:57:37] </span><span style=\"color: #000080; text-decoration-color: #000080\">INFO    </span> <span style=\"font-weight: bold\">[</span><span style=\"color: #008080; text-decoration-color: #008080; font-weight: bold\">80</span>/<span style=\"color: #008080; text-decoration-color: #008080; font-weight: bold\">380</span><span style=\"font-weight: bold\">]</span> Retrieving game with <span style=\"color: #808000; text-decoration-color: #808000\">id</span>=<span style=\"color: #800080; text-decoration-color: #800080\">3292ed35</span>                                 <a href=\"file:///usr/local/lib/python3.11/dist-packages/soccerdata/fbref.py\" target=\"_blank\"><span style=\"color: #7f7f7f; text-decoration-color: #7f7f7f\">fbref.py</span></a><span style=\"color: #7f7f7f; text-decoration-color: #7f7f7f\">:</span><a href=\"file:///usr/local/lib/python3.11/dist-packages/soccerdata/fbref.py#815\" target=\"_blank\"><span style=\"color: #7f7f7f; text-decoration-color: #7f7f7f\">815</span></a>\n",
              "</pre>\n"
            ]
          },
          "metadata": {}
        },
        {
          "output_type": "display_data",
          "data": {
            "text/plain": [
              "\u001b[2;36m[01/27/25 22:57:43]\u001b[0m\u001b[2;36m \u001b[0m\u001b[34mINFO    \u001b[0m \u001b[1m[\u001b[0m\u001b[1;36m81\u001b[0m/\u001b[1;36m380\u001b[0m\u001b[1m]\u001b[0m Retrieving game with \u001b[33mid\u001b[0m=\u001b[35m007b352e\u001b[0m                                 \u001b]8;id=526042;file:///usr/local/lib/python3.11/dist-packages/soccerdata/fbref.py\u001b\\\u001b[2mfbref.py\u001b[0m\u001b]8;;\u001b\\\u001b[2m:\u001b[0m\u001b]8;id=740224;file:///usr/local/lib/python3.11/dist-packages/soccerdata/fbref.py#815\u001b\\\u001b[2m815\u001b[0m\u001b]8;;\u001b\\\n"
            ],
            "text/html": [
              "<pre style=\"white-space:pre;overflow-x:auto;line-height:normal;font-family:Menlo,'DejaVu Sans Mono',consolas,'Courier New',monospace\"><span style=\"color: #7fbfbf; text-decoration-color: #7fbfbf\">[01/27/25 22:57:43] </span><span style=\"color: #000080; text-decoration-color: #000080\">INFO    </span> <span style=\"font-weight: bold\">[</span><span style=\"color: #008080; text-decoration-color: #008080; font-weight: bold\">81</span>/<span style=\"color: #008080; text-decoration-color: #008080; font-weight: bold\">380</span><span style=\"font-weight: bold\">]</span> Retrieving game with <span style=\"color: #808000; text-decoration-color: #808000\">id</span>=<span style=\"color: #800080; text-decoration-color: #800080\">007b352e</span>                                 <a href=\"file:///usr/local/lib/python3.11/dist-packages/soccerdata/fbref.py\" target=\"_blank\"><span style=\"color: #7f7f7f; text-decoration-color: #7f7f7f\">fbref.py</span></a><span style=\"color: #7f7f7f; text-decoration-color: #7f7f7f\">:</span><a href=\"file:///usr/local/lib/python3.11/dist-packages/soccerdata/fbref.py#815\" target=\"_blank\"><span style=\"color: #7f7f7f; text-decoration-color: #7f7f7f\">815</span></a>\n",
              "</pre>\n"
            ]
          },
          "metadata": {}
        },
        {
          "output_type": "display_data",
          "data": {
            "text/plain": [
              "\u001b[2;36m[01/27/25 22:57:50]\u001b[0m\u001b[2;36m \u001b[0m\u001b[34mINFO    \u001b[0m \u001b[1m[\u001b[0m\u001b[1;36m82\u001b[0m/\u001b[1;36m380\u001b[0m\u001b[1m]\u001b[0m Retrieving game with \u001b[33mid\u001b[0m=\u001b[35m52781f37\u001b[0m                                 \u001b]8;id=184485;file:///usr/local/lib/python3.11/dist-packages/soccerdata/fbref.py\u001b\\\u001b[2mfbref.py\u001b[0m\u001b]8;;\u001b\\\u001b[2m:\u001b[0m\u001b]8;id=901339;file:///usr/local/lib/python3.11/dist-packages/soccerdata/fbref.py#815\u001b\\\u001b[2m815\u001b[0m\u001b]8;;\u001b\\\n"
            ],
            "text/html": [
              "<pre style=\"white-space:pre;overflow-x:auto;line-height:normal;font-family:Menlo,'DejaVu Sans Mono',consolas,'Courier New',monospace\"><span style=\"color: #7fbfbf; text-decoration-color: #7fbfbf\">[01/27/25 22:57:50] </span><span style=\"color: #000080; text-decoration-color: #000080\">INFO    </span> <span style=\"font-weight: bold\">[</span><span style=\"color: #008080; text-decoration-color: #008080; font-weight: bold\">82</span>/<span style=\"color: #008080; text-decoration-color: #008080; font-weight: bold\">380</span><span style=\"font-weight: bold\">]</span> Retrieving game with <span style=\"color: #808000; text-decoration-color: #808000\">id</span>=<span style=\"color: #800080; text-decoration-color: #800080\">52781f37</span>                                 <a href=\"file:///usr/local/lib/python3.11/dist-packages/soccerdata/fbref.py\" target=\"_blank\"><span style=\"color: #7f7f7f; text-decoration-color: #7f7f7f\">fbref.py</span></a><span style=\"color: #7f7f7f; text-decoration-color: #7f7f7f\">:</span><a href=\"file:///usr/local/lib/python3.11/dist-packages/soccerdata/fbref.py#815\" target=\"_blank\"><span style=\"color: #7f7f7f; text-decoration-color: #7f7f7f\">815</span></a>\n",
              "</pre>\n"
            ]
          },
          "metadata": {}
        },
        {
          "output_type": "display_data",
          "data": {
            "text/plain": [
              "\u001b[2;36m[01/27/25 22:57:56]\u001b[0m\u001b[2;36m \u001b[0m\u001b[34mINFO    \u001b[0m \u001b[1m[\u001b[0m\u001b[1;36m83\u001b[0m/\u001b[1;36m380\u001b[0m\u001b[1m]\u001b[0m Retrieving game with \u001b[33mid\u001b[0m=\u001b[35ma1c336e2\u001b[0m                                 \u001b]8;id=67729;file:///usr/local/lib/python3.11/dist-packages/soccerdata/fbref.py\u001b\\\u001b[2mfbref.py\u001b[0m\u001b]8;;\u001b\\\u001b[2m:\u001b[0m\u001b]8;id=372669;file:///usr/local/lib/python3.11/dist-packages/soccerdata/fbref.py#815\u001b\\\u001b[2m815\u001b[0m\u001b]8;;\u001b\\\n"
            ],
            "text/html": [
              "<pre style=\"white-space:pre;overflow-x:auto;line-height:normal;font-family:Menlo,'DejaVu Sans Mono',consolas,'Courier New',monospace\"><span style=\"color: #7fbfbf; text-decoration-color: #7fbfbf\">[01/27/25 22:57:56] </span><span style=\"color: #000080; text-decoration-color: #000080\">INFO    </span> <span style=\"font-weight: bold\">[</span><span style=\"color: #008080; text-decoration-color: #008080; font-weight: bold\">83</span>/<span style=\"color: #008080; text-decoration-color: #008080; font-weight: bold\">380</span><span style=\"font-weight: bold\">]</span> Retrieving game with <span style=\"color: #808000; text-decoration-color: #808000\">id</span>=<span style=\"color: #800080; text-decoration-color: #800080\">a1c336e2</span>                                 <a href=\"file:///usr/local/lib/python3.11/dist-packages/soccerdata/fbref.py\" target=\"_blank\"><span style=\"color: #7f7f7f; text-decoration-color: #7f7f7f\">fbref.py</span></a><span style=\"color: #7f7f7f; text-decoration-color: #7f7f7f\">:</span><a href=\"file:///usr/local/lib/python3.11/dist-packages/soccerdata/fbref.py#815\" target=\"_blank\"><span style=\"color: #7f7f7f; text-decoration-color: #7f7f7f\">815</span></a>\n",
              "</pre>\n"
            ]
          },
          "metadata": {}
        },
        {
          "output_type": "display_data",
          "data": {
            "text/plain": [
              "\u001b[2;36m[01/27/25 22:58:02]\u001b[0m\u001b[2;36m \u001b[0m\u001b[34mINFO    \u001b[0m \u001b[1m[\u001b[0m\u001b[1;36m84\u001b[0m/\u001b[1;36m380\u001b[0m\u001b[1m]\u001b[0m Retrieving game with \u001b[33mid\u001b[0m=\u001b[35me747ddb3\u001b[0m                                 \u001b]8;id=967734;file:///usr/local/lib/python3.11/dist-packages/soccerdata/fbref.py\u001b\\\u001b[2mfbref.py\u001b[0m\u001b]8;;\u001b\\\u001b[2m:\u001b[0m\u001b]8;id=475455;file:///usr/local/lib/python3.11/dist-packages/soccerdata/fbref.py#815\u001b\\\u001b[2m815\u001b[0m\u001b]8;;\u001b\\\n"
            ],
            "text/html": [
              "<pre style=\"white-space:pre;overflow-x:auto;line-height:normal;font-family:Menlo,'DejaVu Sans Mono',consolas,'Courier New',monospace\"><span style=\"color: #7fbfbf; text-decoration-color: #7fbfbf\">[01/27/25 22:58:02] </span><span style=\"color: #000080; text-decoration-color: #000080\">INFO    </span> <span style=\"font-weight: bold\">[</span><span style=\"color: #008080; text-decoration-color: #008080; font-weight: bold\">84</span>/<span style=\"color: #008080; text-decoration-color: #008080; font-weight: bold\">380</span><span style=\"font-weight: bold\">]</span> Retrieving game with <span style=\"color: #808000; text-decoration-color: #808000\">id</span>=<span style=\"color: #800080; text-decoration-color: #800080\">e747ddb3</span>                                 <a href=\"file:///usr/local/lib/python3.11/dist-packages/soccerdata/fbref.py\" target=\"_blank\"><span style=\"color: #7f7f7f; text-decoration-color: #7f7f7f\">fbref.py</span></a><span style=\"color: #7f7f7f; text-decoration-color: #7f7f7f\">:</span><a href=\"file:///usr/local/lib/python3.11/dist-packages/soccerdata/fbref.py#815\" target=\"_blank\"><span style=\"color: #7f7f7f; text-decoration-color: #7f7f7f\">815</span></a>\n",
              "</pre>\n"
            ]
          },
          "metadata": {}
        },
        {
          "output_type": "display_data",
          "data": {
            "text/plain": [
              "\u001b[2;36m[01/27/25 22:58:08]\u001b[0m\u001b[2;36m \u001b[0m\u001b[34mINFO    \u001b[0m \u001b[1m[\u001b[0m\u001b[1;36m85\u001b[0m/\u001b[1;36m380\u001b[0m\u001b[1m]\u001b[0m Retrieving game with \u001b[33mid\u001b[0m=\u001b[35mb782a834\u001b[0m                                 \u001b]8;id=36770;file:///usr/local/lib/python3.11/dist-packages/soccerdata/fbref.py\u001b\\\u001b[2mfbref.py\u001b[0m\u001b]8;;\u001b\\\u001b[2m:\u001b[0m\u001b]8;id=593498;file:///usr/local/lib/python3.11/dist-packages/soccerdata/fbref.py#815\u001b\\\u001b[2m815\u001b[0m\u001b]8;;\u001b\\\n"
            ],
            "text/html": [
              "<pre style=\"white-space:pre;overflow-x:auto;line-height:normal;font-family:Menlo,'DejaVu Sans Mono',consolas,'Courier New',monospace\"><span style=\"color: #7fbfbf; text-decoration-color: #7fbfbf\">[01/27/25 22:58:08] </span><span style=\"color: #000080; text-decoration-color: #000080\">INFO    </span> <span style=\"font-weight: bold\">[</span><span style=\"color: #008080; text-decoration-color: #008080; font-weight: bold\">85</span>/<span style=\"color: #008080; text-decoration-color: #008080; font-weight: bold\">380</span><span style=\"font-weight: bold\">]</span> Retrieving game with <span style=\"color: #808000; text-decoration-color: #808000\">id</span>=<span style=\"color: #800080; text-decoration-color: #800080\">b782a834</span>                                 <a href=\"file:///usr/local/lib/python3.11/dist-packages/soccerdata/fbref.py\" target=\"_blank\"><span style=\"color: #7f7f7f; text-decoration-color: #7f7f7f\">fbref.py</span></a><span style=\"color: #7f7f7f; text-decoration-color: #7f7f7f\">:</span><a href=\"file:///usr/local/lib/python3.11/dist-packages/soccerdata/fbref.py#815\" target=\"_blank\"><span style=\"color: #7f7f7f; text-decoration-color: #7f7f7f\">815</span></a>\n",
              "</pre>\n"
            ]
          },
          "metadata": {}
        },
        {
          "output_type": "display_data",
          "data": {
            "text/plain": [
              "\u001b[2;36m[01/27/25 22:58:15]\u001b[0m\u001b[2;36m \u001b[0m\u001b[34mINFO    \u001b[0m \u001b[1m[\u001b[0m\u001b[1;36m86\u001b[0m/\u001b[1;36m380\u001b[0m\u001b[1m]\u001b[0m Retrieving game with \u001b[33mid\u001b[0m=\u001b[35m21625dde\u001b[0m                                 \u001b]8;id=301705;file:///usr/local/lib/python3.11/dist-packages/soccerdata/fbref.py\u001b\\\u001b[2mfbref.py\u001b[0m\u001b]8;;\u001b\\\u001b[2m:\u001b[0m\u001b]8;id=347553;file:///usr/local/lib/python3.11/dist-packages/soccerdata/fbref.py#815\u001b\\\u001b[2m815\u001b[0m\u001b]8;;\u001b\\\n"
            ],
            "text/html": [
              "<pre style=\"white-space:pre;overflow-x:auto;line-height:normal;font-family:Menlo,'DejaVu Sans Mono',consolas,'Courier New',monospace\"><span style=\"color: #7fbfbf; text-decoration-color: #7fbfbf\">[01/27/25 22:58:15] </span><span style=\"color: #000080; text-decoration-color: #000080\">INFO    </span> <span style=\"font-weight: bold\">[</span><span style=\"color: #008080; text-decoration-color: #008080; font-weight: bold\">86</span>/<span style=\"color: #008080; text-decoration-color: #008080; font-weight: bold\">380</span><span style=\"font-weight: bold\">]</span> Retrieving game with <span style=\"color: #808000; text-decoration-color: #808000\">id</span>=<span style=\"color: #800080; text-decoration-color: #800080\">21625dde</span>                                 <a href=\"file:///usr/local/lib/python3.11/dist-packages/soccerdata/fbref.py\" target=\"_blank\"><span style=\"color: #7f7f7f; text-decoration-color: #7f7f7f\">fbref.py</span></a><span style=\"color: #7f7f7f; text-decoration-color: #7f7f7f\">:</span><a href=\"file:///usr/local/lib/python3.11/dist-packages/soccerdata/fbref.py#815\" target=\"_blank\"><span style=\"color: #7f7f7f; text-decoration-color: #7f7f7f\">815</span></a>\n",
              "</pre>\n"
            ]
          },
          "metadata": {}
        },
        {
          "output_type": "display_data",
          "data": {
            "text/plain": [
              "\u001b[2;36m[01/27/25 22:58:21]\u001b[0m\u001b[2;36m \u001b[0m\u001b[34mINFO    \u001b[0m \u001b[1m[\u001b[0m\u001b[1;36m87\u001b[0m/\u001b[1;36m380\u001b[0m\u001b[1m]\u001b[0m Retrieving game with \u001b[33mid\u001b[0m=\u001b[35md1671efa\u001b[0m                                 \u001b]8;id=985830;file:///usr/local/lib/python3.11/dist-packages/soccerdata/fbref.py\u001b\\\u001b[2mfbref.py\u001b[0m\u001b]8;;\u001b\\\u001b[2m:\u001b[0m\u001b]8;id=163680;file:///usr/local/lib/python3.11/dist-packages/soccerdata/fbref.py#815\u001b\\\u001b[2m815\u001b[0m\u001b]8;;\u001b\\\n"
            ],
            "text/html": [
              "<pre style=\"white-space:pre;overflow-x:auto;line-height:normal;font-family:Menlo,'DejaVu Sans Mono',consolas,'Courier New',monospace\"><span style=\"color: #7fbfbf; text-decoration-color: #7fbfbf\">[01/27/25 22:58:21] </span><span style=\"color: #000080; text-decoration-color: #000080\">INFO    </span> <span style=\"font-weight: bold\">[</span><span style=\"color: #008080; text-decoration-color: #008080; font-weight: bold\">87</span>/<span style=\"color: #008080; text-decoration-color: #008080; font-weight: bold\">380</span><span style=\"font-weight: bold\">]</span> Retrieving game with <span style=\"color: #808000; text-decoration-color: #808000\">id</span>=<span style=\"color: #800080; text-decoration-color: #800080\">d1671efa</span>                                 <a href=\"file:///usr/local/lib/python3.11/dist-packages/soccerdata/fbref.py\" target=\"_blank\"><span style=\"color: #7f7f7f; text-decoration-color: #7f7f7f\">fbref.py</span></a><span style=\"color: #7f7f7f; text-decoration-color: #7f7f7f\">:</span><a href=\"file:///usr/local/lib/python3.11/dist-packages/soccerdata/fbref.py#815\" target=\"_blank\"><span style=\"color: #7f7f7f; text-decoration-color: #7f7f7f\">815</span></a>\n",
              "</pre>\n"
            ]
          },
          "metadata": {}
        },
        {
          "output_type": "display_data",
          "data": {
            "text/plain": [
              "\u001b[2;36m[01/27/25 22:58:27]\u001b[0m\u001b[2;36m \u001b[0m\u001b[34mINFO    \u001b[0m \u001b[1m[\u001b[0m\u001b[1;36m88\u001b[0m/\u001b[1;36m380\u001b[0m\u001b[1m]\u001b[0m Retrieving game with \u001b[33mid\u001b[0m=\u001b[35md95b42eb\u001b[0m                                 \u001b]8;id=347621;file:///usr/local/lib/python3.11/dist-packages/soccerdata/fbref.py\u001b\\\u001b[2mfbref.py\u001b[0m\u001b]8;;\u001b\\\u001b[2m:\u001b[0m\u001b]8;id=418272;file:///usr/local/lib/python3.11/dist-packages/soccerdata/fbref.py#815\u001b\\\u001b[2m815\u001b[0m\u001b]8;;\u001b\\\n"
            ],
            "text/html": [
              "<pre style=\"white-space:pre;overflow-x:auto;line-height:normal;font-family:Menlo,'DejaVu Sans Mono',consolas,'Courier New',monospace\"><span style=\"color: #7fbfbf; text-decoration-color: #7fbfbf\">[01/27/25 22:58:27] </span><span style=\"color: #000080; text-decoration-color: #000080\">INFO    </span> <span style=\"font-weight: bold\">[</span><span style=\"color: #008080; text-decoration-color: #008080; font-weight: bold\">88</span>/<span style=\"color: #008080; text-decoration-color: #008080; font-weight: bold\">380</span><span style=\"font-weight: bold\">]</span> Retrieving game with <span style=\"color: #808000; text-decoration-color: #808000\">id</span>=<span style=\"color: #800080; text-decoration-color: #800080\">d95b42eb</span>                                 <a href=\"file:///usr/local/lib/python3.11/dist-packages/soccerdata/fbref.py\" target=\"_blank\"><span style=\"color: #7f7f7f; text-decoration-color: #7f7f7f\">fbref.py</span></a><span style=\"color: #7f7f7f; text-decoration-color: #7f7f7f\">:</span><a href=\"file:///usr/local/lib/python3.11/dist-packages/soccerdata/fbref.py#815\" target=\"_blank\"><span style=\"color: #7f7f7f; text-decoration-color: #7f7f7f\">815</span></a>\n",
              "</pre>\n"
            ]
          },
          "metadata": {}
        },
        {
          "output_type": "display_data",
          "data": {
            "text/plain": [
              "\u001b[2;36m[01/27/25 22:58:34]\u001b[0m\u001b[2;36m \u001b[0m\u001b[34mINFO    \u001b[0m \u001b[1m[\u001b[0m\u001b[1;36m89\u001b[0m/\u001b[1;36m380\u001b[0m\u001b[1m]\u001b[0m Retrieving game with \u001b[33mid\u001b[0m=\u001b[35m7efcc598\u001b[0m                                 \u001b]8;id=32033;file:///usr/local/lib/python3.11/dist-packages/soccerdata/fbref.py\u001b\\\u001b[2mfbref.py\u001b[0m\u001b]8;;\u001b\\\u001b[2m:\u001b[0m\u001b]8;id=695607;file:///usr/local/lib/python3.11/dist-packages/soccerdata/fbref.py#815\u001b\\\u001b[2m815\u001b[0m\u001b]8;;\u001b\\\n"
            ],
            "text/html": [
              "<pre style=\"white-space:pre;overflow-x:auto;line-height:normal;font-family:Menlo,'DejaVu Sans Mono',consolas,'Courier New',monospace\"><span style=\"color: #7fbfbf; text-decoration-color: #7fbfbf\">[01/27/25 22:58:34] </span><span style=\"color: #000080; text-decoration-color: #000080\">INFO    </span> <span style=\"font-weight: bold\">[</span><span style=\"color: #008080; text-decoration-color: #008080; font-weight: bold\">89</span>/<span style=\"color: #008080; text-decoration-color: #008080; font-weight: bold\">380</span><span style=\"font-weight: bold\">]</span> Retrieving game with <span style=\"color: #808000; text-decoration-color: #808000\">id</span>=<span style=\"color: #800080; text-decoration-color: #800080\">7efcc598</span>                                 <a href=\"file:///usr/local/lib/python3.11/dist-packages/soccerdata/fbref.py\" target=\"_blank\"><span style=\"color: #7f7f7f; text-decoration-color: #7f7f7f\">fbref.py</span></a><span style=\"color: #7f7f7f; text-decoration-color: #7f7f7f\">:</span><a href=\"file:///usr/local/lib/python3.11/dist-packages/soccerdata/fbref.py#815\" target=\"_blank\"><span style=\"color: #7f7f7f; text-decoration-color: #7f7f7f\">815</span></a>\n",
              "</pre>\n"
            ]
          },
          "metadata": {}
        },
        {
          "output_type": "display_data",
          "data": {
            "text/plain": [
              "\u001b[2;36m[01/27/25 22:58:40]\u001b[0m\u001b[2;36m \u001b[0m\u001b[34mINFO    \u001b[0m \u001b[1m[\u001b[0m\u001b[1;36m90\u001b[0m/\u001b[1;36m380\u001b[0m\u001b[1m]\u001b[0m Retrieving game with \u001b[33mid\u001b[0m=\u001b[35m8c6293a3\u001b[0m                                 \u001b]8;id=526140;file:///usr/local/lib/python3.11/dist-packages/soccerdata/fbref.py\u001b\\\u001b[2mfbref.py\u001b[0m\u001b]8;;\u001b\\\u001b[2m:\u001b[0m\u001b]8;id=43704;file:///usr/local/lib/python3.11/dist-packages/soccerdata/fbref.py#815\u001b\\\u001b[2m815\u001b[0m\u001b]8;;\u001b\\\n"
            ],
            "text/html": [
              "<pre style=\"white-space:pre;overflow-x:auto;line-height:normal;font-family:Menlo,'DejaVu Sans Mono',consolas,'Courier New',monospace\"><span style=\"color: #7fbfbf; text-decoration-color: #7fbfbf\">[01/27/25 22:58:40] </span><span style=\"color: #000080; text-decoration-color: #000080\">INFO    </span> <span style=\"font-weight: bold\">[</span><span style=\"color: #008080; text-decoration-color: #008080; font-weight: bold\">90</span>/<span style=\"color: #008080; text-decoration-color: #008080; font-weight: bold\">380</span><span style=\"font-weight: bold\">]</span> Retrieving game with <span style=\"color: #808000; text-decoration-color: #808000\">id</span>=<span style=\"color: #800080; text-decoration-color: #800080\">8c6293a3</span>                                 <a href=\"file:///usr/local/lib/python3.11/dist-packages/soccerdata/fbref.py\" target=\"_blank\"><span style=\"color: #7f7f7f; text-decoration-color: #7f7f7f\">fbref.py</span></a><span style=\"color: #7f7f7f; text-decoration-color: #7f7f7f\">:</span><a href=\"file:///usr/local/lib/python3.11/dist-packages/soccerdata/fbref.py#815\" target=\"_blank\"><span style=\"color: #7f7f7f; text-decoration-color: #7f7f7f\">815</span></a>\n",
              "</pre>\n"
            ]
          },
          "metadata": {}
        },
        {
          "output_type": "display_data",
          "data": {
            "text/plain": [
              "\u001b[2;36m[01/27/25 22:58:46]\u001b[0m\u001b[2;36m \u001b[0m\u001b[34mINFO    \u001b[0m \u001b[1m[\u001b[0m\u001b[1;36m91\u001b[0m/\u001b[1;36m380\u001b[0m\u001b[1m]\u001b[0m Retrieving game with \u001b[33mid\u001b[0m=\u001b[35m6b0aa474\u001b[0m                                 \u001b]8;id=909813;file:///usr/local/lib/python3.11/dist-packages/soccerdata/fbref.py\u001b\\\u001b[2mfbref.py\u001b[0m\u001b]8;;\u001b\\\u001b[2m:\u001b[0m\u001b]8;id=241426;file:///usr/local/lib/python3.11/dist-packages/soccerdata/fbref.py#815\u001b\\\u001b[2m815\u001b[0m\u001b]8;;\u001b\\\n"
            ],
            "text/html": [
              "<pre style=\"white-space:pre;overflow-x:auto;line-height:normal;font-family:Menlo,'DejaVu Sans Mono',consolas,'Courier New',monospace\"><span style=\"color: #7fbfbf; text-decoration-color: #7fbfbf\">[01/27/25 22:58:46] </span><span style=\"color: #000080; text-decoration-color: #000080\">INFO    </span> <span style=\"font-weight: bold\">[</span><span style=\"color: #008080; text-decoration-color: #008080; font-weight: bold\">91</span>/<span style=\"color: #008080; text-decoration-color: #008080; font-weight: bold\">380</span><span style=\"font-weight: bold\">]</span> Retrieving game with <span style=\"color: #808000; text-decoration-color: #808000\">id</span>=<span style=\"color: #800080; text-decoration-color: #800080\">6b0aa474</span>                                 <a href=\"file:///usr/local/lib/python3.11/dist-packages/soccerdata/fbref.py\" target=\"_blank\"><span style=\"color: #7f7f7f; text-decoration-color: #7f7f7f\">fbref.py</span></a><span style=\"color: #7f7f7f; text-decoration-color: #7f7f7f\">:</span><a href=\"file:///usr/local/lib/python3.11/dist-packages/soccerdata/fbref.py#815\" target=\"_blank\"><span style=\"color: #7f7f7f; text-decoration-color: #7f7f7f\">815</span></a>\n",
              "</pre>\n"
            ]
          },
          "metadata": {}
        },
        {
          "output_type": "display_data",
          "data": {
            "text/plain": [
              "\u001b[2;36m[01/27/25 22:58:52]\u001b[0m\u001b[2;36m \u001b[0m\u001b[34mINFO    \u001b[0m \u001b[1m[\u001b[0m\u001b[1;36m92\u001b[0m/\u001b[1;36m380\u001b[0m\u001b[1m]\u001b[0m Retrieving game with \u001b[33mid\u001b[0m=\u001b[35md498f918\u001b[0m                                 \u001b]8;id=154342;file:///usr/local/lib/python3.11/dist-packages/soccerdata/fbref.py\u001b\\\u001b[2mfbref.py\u001b[0m\u001b]8;;\u001b\\\u001b[2m:\u001b[0m\u001b]8;id=784201;file:///usr/local/lib/python3.11/dist-packages/soccerdata/fbref.py#815\u001b\\\u001b[2m815\u001b[0m\u001b]8;;\u001b\\\n"
            ],
            "text/html": [
              "<pre style=\"white-space:pre;overflow-x:auto;line-height:normal;font-family:Menlo,'DejaVu Sans Mono',consolas,'Courier New',monospace\"><span style=\"color: #7fbfbf; text-decoration-color: #7fbfbf\">[01/27/25 22:58:52] </span><span style=\"color: #000080; text-decoration-color: #000080\">INFO    </span> <span style=\"font-weight: bold\">[</span><span style=\"color: #008080; text-decoration-color: #008080; font-weight: bold\">92</span>/<span style=\"color: #008080; text-decoration-color: #008080; font-weight: bold\">380</span><span style=\"font-weight: bold\">]</span> Retrieving game with <span style=\"color: #808000; text-decoration-color: #808000\">id</span>=<span style=\"color: #800080; text-decoration-color: #800080\">d498f918</span>                                 <a href=\"file:///usr/local/lib/python3.11/dist-packages/soccerdata/fbref.py\" target=\"_blank\"><span style=\"color: #7f7f7f; text-decoration-color: #7f7f7f\">fbref.py</span></a><span style=\"color: #7f7f7f; text-decoration-color: #7f7f7f\">:</span><a href=\"file:///usr/local/lib/python3.11/dist-packages/soccerdata/fbref.py#815\" target=\"_blank\"><span style=\"color: #7f7f7f; text-decoration-color: #7f7f7f\">815</span></a>\n",
              "</pre>\n"
            ]
          },
          "metadata": {}
        },
        {
          "output_type": "display_data",
          "data": {
            "text/plain": [
              "\u001b[2;36m[01/27/25 22:58:59]\u001b[0m\u001b[2;36m \u001b[0m\u001b[34mINFO    \u001b[0m \u001b[1m[\u001b[0m\u001b[1;36m93\u001b[0m/\u001b[1;36m380\u001b[0m\u001b[1m]\u001b[0m Retrieving game with \u001b[33mid\u001b[0m=\u001b[35mc4c42d3e\u001b[0m                                 \u001b]8;id=419811;file:///usr/local/lib/python3.11/dist-packages/soccerdata/fbref.py\u001b\\\u001b[2mfbref.py\u001b[0m\u001b]8;;\u001b\\\u001b[2m:\u001b[0m\u001b]8;id=418123;file:///usr/local/lib/python3.11/dist-packages/soccerdata/fbref.py#815\u001b\\\u001b[2m815\u001b[0m\u001b]8;;\u001b\\\n"
            ],
            "text/html": [
              "<pre style=\"white-space:pre;overflow-x:auto;line-height:normal;font-family:Menlo,'DejaVu Sans Mono',consolas,'Courier New',monospace\"><span style=\"color: #7fbfbf; text-decoration-color: #7fbfbf\">[01/27/25 22:58:59] </span><span style=\"color: #000080; text-decoration-color: #000080\">INFO    </span> <span style=\"font-weight: bold\">[</span><span style=\"color: #008080; text-decoration-color: #008080; font-weight: bold\">93</span>/<span style=\"color: #008080; text-decoration-color: #008080; font-weight: bold\">380</span><span style=\"font-weight: bold\">]</span> Retrieving game with <span style=\"color: #808000; text-decoration-color: #808000\">id</span>=<span style=\"color: #800080; text-decoration-color: #800080\">c4c42d3e</span>                                 <a href=\"file:///usr/local/lib/python3.11/dist-packages/soccerdata/fbref.py\" target=\"_blank\"><span style=\"color: #7f7f7f; text-decoration-color: #7f7f7f\">fbref.py</span></a><span style=\"color: #7f7f7f; text-decoration-color: #7f7f7f\">:</span><a href=\"file:///usr/local/lib/python3.11/dist-packages/soccerdata/fbref.py#815\" target=\"_blank\"><span style=\"color: #7f7f7f; text-decoration-color: #7f7f7f\">815</span></a>\n",
              "</pre>\n"
            ]
          },
          "metadata": {}
        },
        {
          "output_type": "display_data",
          "data": {
            "text/plain": [
              "\u001b[2;36m[01/27/25 22:59:05]\u001b[0m\u001b[2;36m \u001b[0m\u001b[34mINFO    \u001b[0m \u001b[1m[\u001b[0m\u001b[1;36m94\u001b[0m/\u001b[1;36m380\u001b[0m\u001b[1m]\u001b[0m Retrieving game with \u001b[33mid\u001b[0m=\u001b[35m91e3b922\u001b[0m                                 \u001b]8;id=937641;file:///usr/local/lib/python3.11/dist-packages/soccerdata/fbref.py\u001b\\\u001b[2mfbref.py\u001b[0m\u001b]8;;\u001b\\\u001b[2m:\u001b[0m\u001b]8;id=531136;file:///usr/local/lib/python3.11/dist-packages/soccerdata/fbref.py#815\u001b\\\u001b[2m815\u001b[0m\u001b]8;;\u001b\\\n"
            ],
            "text/html": [
              "<pre style=\"white-space:pre;overflow-x:auto;line-height:normal;font-family:Menlo,'DejaVu Sans Mono',consolas,'Courier New',monospace\"><span style=\"color: #7fbfbf; text-decoration-color: #7fbfbf\">[01/27/25 22:59:05] </span><span style=\"color: #000080; text-decoration-color: #000080\">INFO    </span> <span style=\"font-weight: bold\">[</span><span style=\"color: #008080; text-decoration-color: #008080; font-weight: bold\">94</span>/<span style=\"color: #008080; text-decoration-color: #008080; font-weight: bold\">380</span><span style=\"font-weight: bold\">]</span> Retrieving game with <span style=\"color: #808000; text-decoration-color: #808000\">id</span>=<span style=\"color: #800080; text-decoration-color: #800080\">91e3b922</span>                                 <a href=\"file:///usr/local/lib/python3.11/dist-packages/soccerdata/fbref.py\" target=\"_blank\"><span style=\"color: #7f7f7f; text-decoration-color: #7f7f7f\">fbref.py</span></a><span style=\"color: #7f7f7f; text-decoration-color: #7f7f7f\">:</span><a href=\"file:///usr/local/lib/python3.11/dist-packages/soccerdata/fbref.py#815\" target=\"_blank\"><span style=\"color: #7f7f7f; text-decoration-color: #7f7f7f\">815</span></a>\n",
              "</pre>\n"
            ]
          },
          "metadata": {}
        },
        {
          "output_type": "display_data",
          "data": {
            "text/plain": [
              "\u001b[2;36m[01/27/25 22:59:11]\u001b[0m\u001b[2;36m \u001b[0m\u001b[34mINFO    \u001b[0m \u001b[1m[\u001b[0m\u001b[1;36m95\u001b[0m/\u001b[1;36m380\u001b[0m\u001b[1m]\u001b[0m Retrieving game with \u001b[33mid\u001b[0m=\u001b[35mb84d060a\u001b[0m                                 \u001b]8;id=117156;file:///usr/local/lib/python3.11/dist-packages/soccerdata/fbref.py\u001b\\\u001b[2mfbref.py\u001b[0m\u001b]8;;\u001b\\\u001b[2m:\u001b[0m\u001b]8;id=511031;file:///usr/local/lib/python3.11/dist-packages/soccerdata/fbref.py#815\u001b\\\u001b[2m815\u001b[0m\u001b]8;;\u001b\\\n"
            ],
            "text/html": [
              "<pre style=\"white-space:pre;overflow-x:auto;line-height:normal;font-family:Menlo,'DejaVu Sans Mono',consolas,'Courier New',monospace\"><span style=\"color: #7fbfbf; text-decoration-color: #7fbfbf\">[01/27/25 22:59:11] </span><span style=\"color: #000080; text-decoration-color: #000080\">INFO    </span> <span style=\"font-weight: bold\">[</span><span style=\"color: #008080; text-decoration-color: #008080; font-weight: bold\">95</span>/<span style=\"color: #008080; text-decoration-color: #008080; font-weight: bold\">380</span><span style=\"font-weight: bold\">]</span> Retrieving game with <span style=\"color: #808000; text-decoration-color: #808000\">id</span>=<span style=\"color: #800080; text-decoration-color: #800080\">b84d060a</span>                                 <a href=\"file:///usr/local/lib/python3.11/dist-packages/soccerdata/fbref.py\" target=\"_blank\"><span style=\"color: #7f7f7f; text-decoration-color: #7f7f7f\">fbref.py</span></a><span style=\"color: #7f7f7f; text-decoration-color: #7f7f7f\">:</span><a href=\"file:///usr/local/lib/python3.11/dist-packages/soccerdata/fbref.py#815\" target=\"_blank\"><span style=\"color: #7f7f7f; text-decoration-color: #7f7f7f\">815</span></a>\n",
              "</pre>\n"
            ]
          },
          "metadata": {}
        },
        {
          "output_type": "display_data",
          "data": {
            "text/plain": [
              "\u001b[2;36m[01/27/25 22:59:18]\u001b[0m\u001b[2;36m \u001b[0m\u001b[34mINFO    \u001b[0m \u001b[1m[\u001b[0m\u001b[1;36m96\u001b[0m/\u001b[1;36m380\u001b[0m\u001b[1m]\u001b[0m Retrieving game with \u001b[33mid\u001b[0m=\u001b[35mee677172\u001b[0m                                 \u001b]8;id=426409;file:///usr/local/lib/python3.11/dist-packages/soccerdata/fbref.py\u001b\\\u001b[2mfbref.py\u001b[0m\u001b]8;;\u001b\\\u001b[2m:\u001b[0m\u001b]8;id=231523;file:///usr/local/lib/python3.11/dist-packages/soccerdata/fbref.py#815\u001b\\\u001b[2m815\u001b[0m\u001b]8;;\u001b\\\n"
            ],
            "text/html": [
              "<pre style=\"white-space:pre;overflow-x:auto;line-height:normal;font-family:Menlo,'DejaVu Sans Mono',consolas,'Courier New',monospace\"><span style=\"color: #7fbfbf; text-decoration-color: #7fbfbf\">[01/27/25 22:59:18] </span><span style=\"color: #000080; text-decoration-color: #000080\">INFO    </span> <span style=\"font-weight: bold\">[</span><span style=\"color: #008080; text-decoration-color: #008080; font-weight: bold\">96</span>/<span style=\"color: #008080; text-decoration-color: #008080; font-weight: bold\">380</span><span style=\"font-weight: bold\">]</span> Retrieving game with <span style=\"color: #808000; text-decoration-color: #808000\">id</span>=<span style=\"color: #800080; text-decoration-color: #800080\">ee677172</span>                                 <a href=\"file:///usr/local/lib/python3.11/dist-packages/soccerdata/fbref.py\" target=\"_blank\"><span style=\"color: #7f7f7f; text-decoration-color: #7f7f7f\">fbref.py</span></a><span style=\"color: #7f7f7f; text-decoration-color: #7f7f7f\">:</span><a href=\"file:///usr/local/lib/python3.11/dist-packages/soccerdata/fbref.py#815\" target=\"_blank\"><span style=\"color: #7f7f7f; text-decoration-color: #7f7f7f\">815</span></a>\n",
              "</pre>\n"
            ]
          },
          "metadata": {}
        },
        {
          "output_type": "display_data",
          "data": {
            "text/plain": [
              "\u001b[2;36m[01/27/25 22:59:24]\u001b[0m\u001b[2;36m \u001b[0m\u001b[34mINFO    \u001b[0m \u001b[1m[\u001b[0m\u001b[1;36m97\u001b[0m/\u001b[1;36m380\u001b[0m\u001b[1m]\u001b[0m Retrieving game with \u001b[33mid\u001b[0m=\u001b[35ma0c422e9\u001b[0m                                 \u001b]8;id=388387;file:///usr/local/lib/python3.11/dist-packages/soccerdata/fbref.py\u001b\\\u001b[2mfbref.py\u001b[0m\u001b]8;;\u001b\\\u001b[2m:\u001b[0m\u001b]8;id=382087;file:///usr/local/lib/python3.11/dist-packages/soccerdata/fbref.py#815\u001b\\\u001b[2m815\u001b[0m\u001b]8;;\u001b\\\n"
            ],
            "text/html": [
              "<pre style=\"white-space:pre;overflow-x:auto;line-height:normal;font-family:Menlo,'DejaVu Sans Mono',consolas,'Courier New',monospace\"><span style=\"color: #7fbfbf; text-decoration-color: #7fbfbf\">[01/27/25 22:59:24] </span><span style=\"color: #000080; text-decoration-color: #000080\">INFO    </span> <span style=\"font-weight: bold\">[</span><span style=\"color: #008080; text-decoration-color: #008080; font-weight: bold\">97</span>/<span style=\"color: #008080; text-decoration-color: #008080; font-weight: bold\">380</span><span style=\"font-weight: bold\">]</span> Retrieving game with <span style=\"color: #808000; text-decoration-color: #808000\">id</span>=<span style=\"color: #800080; text-decoration-color: #800080\">a0c422e9</span>                                 <a href=\"file:///usr/local/lib/python3.11/dist-packages/soccerdata/fbref.py\" target=\"_blank\"><span style=\"color: #7f7f7f; text-decoration-color: #7f7f7f\">fbref.py</span></a><span style=\"color: #7f7f7f; text-decoration-color: #7f7f7f\">:</span><a href=\"file:///usr/local/lib/python3.11/dist-packages/soccerdata/fbref.py#815\" target=\"_blank\"><span style=\"color: #7f7f7f; text-decoration-color: #7f7f7f\">815</span></a>\n",
              "</pre>\n"
            ]
          },
          "metadata": {}
        },
        {
          "output_type": "display_data",
          "data": {
            "text/plain": [
              "\u001b[2;36m[01/27/25 22:59:30]\u001b[0m\u001b[2;36m \u001b[0m\u001b[34mINFO    \u001b[0m \u001b[1m[\u001b[0m\u001b[1;36m98\u001b[0m/\u001b[1;36m380\u001b[0m\u001b[1m]\u001b[0m Retrieving game with \u001b[33mid\u001b[0m=\u001b[35m79bf0c7f\u001b[0m                                 \u001b]8;id=208965;file:///usr/local/lib/python3.11/dist-packages/soccerdata/fbref.py\u001b\\\u001b[2mfbref.py\u001b[0m\u001b]8;;\u001b\\\u001b[2m:\u001b[0m\u001b]8;id=324868;file:///usr/local/lib/python3.11/dist-packages/soccerdata/fbref.py#815\u001b\\\u001b[2m815\u001b[0m\u001b]8;;\u001b\\\n"
            ],
            "text/html": [
              "<pre style=\"white-space:pre;overflow-x:auto;line-height:normal;font-family:Menlo,'DejaVu Sans Mono',consolas,'Courier New',monospace\"><span style=\"color: #7fbfbf; text-decoration-color: #7fbfbf\">[01/27/25 22:59:30] </span><span style=\"color: #000080; text-decoration-color: #000080\">INFO    </span> <span style=\"font-weight: bold\">[</span><span style=\"color: #008080; text-decoration-color: #008080; font-weight: bold\">98</span>/<span style=\"color: #008080; text-decoration-color: #008080; font-weight: bold\">380</span><span style=\"font-weight: bold\">]</span> Retrieving game with <span style=\"color: #808000; text-decoration-color: #808000\">id</span>=<span style=\"color: #800080; text-decoration-color: #800080\">79bf0c7f</span>                                 <a href=\"file:///usr/local/lib/python3.11/dist-packages/soccerdata/fbref.py\" target=\"_blank\"><span style=\"color: #7f7f7f; text-decoration-color: #7f7f7f\">fbref.py</span></a><span style=\"color: #7f7f7f; text-decoration-color: #7f7f7f\">:</span><a href=\"file:///usr/local/lib/python3.11/dist-packages/soccerdata/fbref.py#815\" target=\"_blank\"><span style=\"color: #7f7f7f; text-decoration-color: #7f7f7f\">815</span></a>\n",
              "</pre>\n"
            ]
          },
          "metadata": {}
        },
        {
          "output_type": "display_data",
          "data": {
            "text/plain": [
              "\u001b[2;36m[01/27/25 22:59:37]\u001b[0m\u001b[2;36m \u001b[0m\u001b[34mINFO    \u001b[0m \u001b[1m[\u001b[0m\u001b[1;36m99\u001b[0m/\u001b[1;36m380\u001b[0m\u001b[1m]\u001b[0m Retrieving game with \u001b[33mid\u001b[0m=\u001b[35mf6bfec82\u001b[0m                                 \u001b]8;id=214723;file:///usr/local/lib/python3.11/dist-packages/soccerdata/fbref.py\u001b\\\u001b[2mfbref.py\u001b[0m\u001b]8;;\u001b\\\u001b[2m:\u001b[0m\u001b]8;id=370480;file:///usr/local/lib/python3.11/dist-packages/soccerdata/fbref.py#815\u001b\\\u001b[2m815\u001b[0m\u001b]8;;\u001b\\\n"
            ],
            "text/html": [
              "<pre style=\"white-space:pre;overflow-x:auto;line-height:normal;font-family:Menlo,'DejaVu Sans Mono',consolas,'Courier New',monospace\"><span style=\"color: #7fbfbf; text-decoration-color: #7fbfbf\">[01/27/25 22:59:37] </span><span style=\"color: #000080; text-decoration-color: #000080\">INFO    </span> <span style=\"font-weight: bold\">[</span><span style=\"color: #008080; text-decoration-color: #008080; font-weight: bold\">99</span>/<span style=\"color: #008080; text-decoration-color: #008080; font-weight: bold\">380</span><span style=\"font-weight: bold\">]</span> Retrieving game with <span style=\"color: #808000; text-decoration-color: #808000\">id</span>=<span style=\"color: #800080; text-decoration-color: #800080\">f6bfec82</span>                                 <a href=\"file:///usr/local/lib/python3.11/dist-packages/soccerdata/fbref.py\" target=\"_blank\"><span style=\"color: #7f7f7f; text-decoration-color: #7f7f7f\">fbref.py</span></a><span style=\"color: #7f7f7f; text-decoration-color: #7f7f7f\">:</span><a href=\"file:///usr/local/lib/python3.11/dist-packages/soccerdata/fbref.py#815\" target=\"_blank\"><span style=\"color: #7f7f7f; text-decoration-color: #7f7f7f\">815</span></a>\n",
              "</pre>\n"
            ]
          },
          "metadata": {}
        },
        {
          "output_type": "display_data",
          "data": {
            "text/plain": [
              "\u001b[2;36m[01/27/25 22:59:43]\u001b[0m\u001b[2;36m \u001b[0m\u001b[34mINFO    \u001b[0m \u001b[1m[\u001b[0m\u001b[1;36m100\u001b[0m/\u001b[1;36m380\u001b[0m\u001b[1m]\u001b[0m Retrieving game with \u001b[33mid\u001b[0m=\u001b[35m868a89be\u001b[0m                                \u001b]8;id=92249;file:///usr/local/lib/python3.11/dist-packages/soccerdata/fbref.py\u001b\\\u001b[2mfbref.py\u001b[0m\u001b]8;;\u001b\\\u001b[2m:\u001b[0m\u001b]8;id=924221;file:///usr/local/lib/python3.11/dist-packages/soccerdata/fbref.py#815\u001b\\\u001b[2m815\u001b[0m\u001b]8;;\u001b\\\n"
            ],
            "text/html": [
              "<pre style=\"white-space:pre;overflow-x:auto;line-height:normal;font-family:Menlo,'DejaVu Sans Mono',consolas,'Courier New',monospace\"><span style=\"color: #7fbfbf; text-decoration-color: #7fbfbf\">[01/27/25 22:59:43] </span><span style=\"color: #000080; text-decoration-color: #000080\">INFO    </span> <span style=\"font-weight: bold\">[</span><span style=\"color: #008080; text-decoration-color: #008080; font-weight: bold\">100</span>/<span style=\"color: #008080; text-decoration-color: #008080; font-weight: bold\">380</span><span style=\"font-weight: bold\">]</span> Retrieving game with <span style=\"color: #808000; text-decoration-color: #808000\">id</span>=<span style=\"color: #800080; text-decoration-color: #800080\">868a89be</span>                                <a href=\"file:///usr/local/lib/python3.11/dist-packages/soccerdata/fbref.py\" target=\"_blank\"><span style=\"color: #7f7f7f; text-decoration-color: #7f7f7f\">fbref.py</span></a><span style=\"color: #7f7f7f; text-decoration-color: #7f7f7f\">:</span><a href=\"file:///usr/local/lib/python3.11/dist-packages/soccerdata/fbref.py#815\" target=\"_blank\"><span style=\"color: #7f7f7f; text-decoration-color: #7f7f7f\">815</span></a>\n",
              "</pre>\n"
            ]
          },
          "metadata": {}
        },
        {
          "output_type": "display_data",
          "data": {
            "text/plain": [
              "\u001b[2;36m[01/27/25 22:59:49]\u001b[0m\u001b[2;36m \u001b[0m\u001b[34mINFO    \u001b[0m \u001b[1m[\u001b[0m\u001b[1;36m101\u001b[0m/\u001b[1;36m380\u001b[0m\u001b[1m]\u001b[0m Retrieving game with \u001b[33mid\u001b[0m=\u001b[35m3235dd6e\u001b[0m                                \u001b]8;id=760836;file:///usr/local/lib/python3.11/dist-packages/soccerdata/fbref.py\u001b\\\u001b[2mfbref.py\u001b[0m\u001b]8;;\u001b\\\u001b[2m:\u001b[0m\u001b]8;id=690522;file:///usr/local/lib/python3.11/dist-packages/soccerdata/fbref.py#815\u001b\\\u001b[2m815\u001b[0m\u001b]8;;\u001b\\\n"
            ],
            "text/html": [
              "<pre style=\"white-space:pre;overflow-x:auto;line-height:normal;font-family:Menlo,'DejaVu Sans Mono',consolas,'Courier New',monospace\"><span style=\"color: #7fbfbf; text-decoration-color: #7fbfbf\">[01/27/25 22:59:49] </span><span style=\"color: #000080; text-decoration-color: #000080\">INFO    </span> <span style=\"font-weight: bold\">[</span><span style=\"color: #008080; text-decoration-color: #008080; font-weight: bold\">101</span>/<span style=\"color: #008080; text-decoration-color: #008080; font-weight: bold\">380</span><span style=\"font-weight: bold\">]</span> Retrieving game with <span style=\"color: #808000; text-decoration-color: #808000\">id</span>=<span style=\"color: #800080; text-decoration-color: #800080\">3235dd6e</span>                                <a href=\"file:///usr/local/lib/python3.11/dist-packages/soccerdata/fbref.py\" target=\"_blank\"><span style=\"color: #7f7f7f; text-decoration-color: #7f7f7f\">fbref.py</span></a><span style=\"color: #7f7f7f; text-decoration-color: #7f7f7f\">:</span><a href=\"file:///usr/local/lib/python3.11/dist-packages/soccerdata/fbref.py#815\" target=\"_blank\"><span style=\"color: #7f7f7f; text-decoration-color: #7f7f7f\">815</span></a>\n",
              "</pre>\n"
            ]
          },
          "metadata": {}
        },
        {
          "output_type": "display_data",
          "data": {
            "text/plain": [
              "\u001b[2;36m[01/27/25 22:59:55]\u001b[0m\u001b[2;36m \u001b[0m\u001b[34mINFO    \u001b[0m \u001b[1m[\u001b[0m\u001b[1;36m102\u001b[0m/\u001b[1;36m380\u001b[0m\u001b[1m]\u001b[0m Retrieving game with \u001b[33mid\u001b[0m=\u001b[35m8797f9a9\u001b[0m                                \u001b]8;id=762980;file:///usr/local/lib/python3.11/dist-packages/soccerdata/fbref.py\u001b\\\u001b[2mfbref.py\u001b[0m\u001b]8;;\u001b\\\u001b[2m:\u001b[0m\u001b]8;id=25165;file:///usr/local/lib/python3.11/dist-packages/soccerdata/fbref.py#815\u001b\\\u001b[2m815\u001b[0m\u001b]8;;\u001b\\\n"
            ],
            "text/html": [
              "<pre style=\"white-space:pre;overflow-x:auto;line-height:normal;font-family:Menlo,'DejaVu Sans Mono',consolas,'Courier New',monospace\"><span style=\"color: #7fbfbf; text-decoration-color: #7fbfbf\">[01/27/25 22:59:55] </span><span style=\"color: #000080; text-decoration-color: #000080\">INFO    </span> <span style=\"font-weight: bold\">[</span><span style=\"color: #008080; text-decoration-color: #008080; font-weight: bold\">102</span>/<span style=\"color: #008080; text-decoration-color: #008080; font-weight: bold\">380</span><span style=\"font-weight: bold\">]</span> Retrieving game with <span style=\"color: #808000; text-decoration-color: #808000\">id</span>=<span style=\"color: #800080; text-decoration-color: #800080\">8797f9a9</span>                                <a href=\"file:///usr/local/lib/python3.11/dist-packages/soccerdata/fbref.py\" target=\"_blank\"><span style=\"color: #7f7f7f; text-decoration-color: #7f7f7f\">fbref.py</span></a><span style=\"color: #7f7f7f; text-decoration-color: #7f7f7f\">:</span><a href=\"file:///usr/local/lib/python3.11/dist-packages/soccerdata/fbref.py#815\" target=\"_blank\"><span style=\"color: #7f7f7f; text-decoration-color: #7f7f7f\">815</span></a>\n",
              "</pre>\n"
            ]
          },
          "metadata": {}
        },
        {
          "output_type": "display_data",
          "data": {
            "text/plain": [
              "\u001b[2;36m[01/27/25 23:00:02]\u001b[0m\u001b[2;36m \u001b[0m\u001b[34mINFO    \u001b[0m \u001b[1m[\u001b[0m\u001b[1;36m103\u001b[0m/\u001b[1;36m380\u001b[0m\u001b[1m]\u001b[0m Retrieving game with \u001b[33mid\u001b[0m=\u001b[35m6ecb53ac\u001b[0m                                \u001b]8;id=507878;file:///usr/local/lib/python3.11/dist-packages/soccerdata/fbref.py\u001b\\\u001b[2mfbref.py\u001b[0m\u001b]8;;\u001b\\\u001b[2m:\u001b[0m\u001b]8;id=210450;file:///usr/local/lib/python3.11/dist-packages/soccerdata/fbref.py#815\u001b\\\u001b[2m815\u001b[0m\u001b]8;;\u001b\\\n"
            ],
            "text/html": [
              "<pre style=\"white-space:pre;overflow-x:auto;line-height:normal;font-family:Menlo,'DejaVu Sans Mono',consolas,'Courier New',monospace\"><span style=\"color: #7fbfbf; text-decoration-color: #7fbfbf\">[01/27/25 23:00:02] </span><span style=\"color: #000080; text-decoration-color: #000080\">INFO    </span> <span style=\"font-weight: bold\">[</span><span style=\"color: #008080; text-decoration-color: #008080; font-weight: bold\">103</span>/<span style=\"color: #008080; text-decoration-color: #008080; font-weight: bold\">380</span><span style=\"font-weight: bold\">]</span> Retrieving game with <span style=\"color: #808000; text-decoration-color: #808000\">id</span>=<span style=\"color: #800080; text-decoration-color: #800080\">6ecb53ac</span>                                <a href=\"file:///usr/local/lib/python3.11/dist-packages/soccerdata/fbref.py\" target=\"_blank\"><span style=\"color: #7f7f7f; text-decoration-color: #7f7f7f\">fbref.py</span></a><span style=\"color: #7f7f7f; text-decoration-color: #7f7f7f\">:</span><a href=\"file:///usr/local/lib/python3.11/dist-packages/soccerdata/fbref.py#815\" target=\"_blank\"><span style=\"color: #7f7f7f; text-decoration-color: #7f7f7f\">815</span></a>\n",
              "</pre>\n"
            ]
          },
          "metadata": {}
        },
        {
          "output_type": "display_data",
          "data": {
            "text/plain": [
              "\u001b[2;36m[01/27/25 23:00:08]\u001b[0m\u001b[2;36m \u001b[0m\u001b[34mINFO    \u001b[0m \u001b[1m[\u001b[0m\u001b[1;36m104\u001b[0m/\u001b[1;36m380\u001b[0m\u001b[1m]\u001b[0m Retrieving game with \u001b[33mid\u001b[0m=\u001b[35m31273be0\u001b[0m                                \u001b]8;id=314085;file:///usr/local/lib/python3.11/dist-packages/soccerdata/fbref.py\u001b\\\u001b[2mfbref.py\u001b[0m\u001b]8;;\u001b\\\u001b[2m:\u001b[0m\u001b]8;id=583789;file:///usr/local/lib/python3.11/dist-packages/soccerdata/fbref.py#815\u001b\\\u001b[2m815\u001b[0m\u001b]8;;\u001b\\\n"
            ],
            "text/html": [
              "<pre style=\"white-space:pre;overflow-x:auto;line-height:normal;font-family:Menlo,'DejaVu Sans Mono',consolas,'Courier New',monospace\"><span style=\"color: #7fbfbf; text-decoration-color: #7fbfbf\">[01/27/25 23:00:08] </span><span style=\"color: #000080; text-decoration-color: #000080\">INFO    </span> <span style=\"font-weight: bold\">[</span><span style=\"color: #008080; text-decoration-color: #008080; font-weight: bold\">104</span>/<span style=\"color: #008080; text-decoration-color: #008080; font-weight: bold\">380</span><span style=\"font-weight: bold\">]</span> Retrieving game with <span style=\"color: #808000; text-decoration-color: #808000\">id</span>=<span style=\"color: #800080; text-decoration-color: #800080\">31273be0</span>                                <a href=\"file:///usr/local/lib/python3.11/dist-packages/soccerdata/fbref.py\" target=\"_blank\"><span style=\"color: #7f7f7f; text-decoration-color: #7f7f7f\">fbref.py</span></a><span style=\"color: #7f7f7f; text-decoration-color: #7f7f7f\">:</span><a href=\"file:///usr/local/lib/python3.11/dist-packages/soccerdata/fbref.py#815\" target=\"_blank\"><span style=\"color: #7f7f7f; text-decoration-color: #7f7f7f\">815</span></a>\n",
              "</pre>\n"
            ]
          },
          "metadata": {}
        },
        {
          "output_type": "display_data",
          "data": {
            "text/plain": [
              "\u001b[2;36m[01/27/25 23:00:14]\u001b[0m\u001b[2;36m \u001b[0m\u001b[34mINFO    \u001b[0m \u001b[1m[\u001b[0m\u001b[1;36m105\u001b[0m/\u001b[1;36m380\u001b[0m\u001b[1m]\u001b[0m Retrieving game with \u001b[33mid\u001b[0m=\u001b[35me75a870b\u001b[0m                                \u001b]8;id=125014;file:///usr/local/lib/python3.11/dist-packages/soccerdata/fbref.py\u001b\\\u001b[2mfbref.py\u001b[0m\u001b]8;;\u001b\\\u001b[2m:\u001b[0m\u001b]8;id=996244;file:///usr/local/lib/python3.11/dist-packages/soccerdata/fbref.py#815\u001b\\\u001b[2m815\u001b[0m\u001b]8;;\u001b\\\n"
            ],
            "text/html": [
              "<pre style=\"white-space:pre;overflow-x:auto;line-height:normal;font-family:Menlo,'DejaVu Sans Mono',consolas,'Courier New',monospace\"><span style=\"color: #7fbfbf; text-decoration-color: #7fbfbf\">[01/27/25 23:00:14] </span><span style=\"color: #000080; text-decoration-color: #000080\">INFO    </span> <span style=\"font-weight: bold\">[</span><span style=\"color: #008080; text-decoration-color: #008080; font-weight: bold\">105</span>/<span style=\"color: #008080; text-decoration-color: #008080; font-weight: bold\">380</span><span style=\"font-weight: bold\">]</span> Retrieving game with <span style=\"color: #808000; text-decoration-color: #808000\">id</span>=<span style=\"color: #800080; text-decoration-color: #800080\">e75a870b</span>                                <a href=\"file:///usr/local/lib/python3.11/dist-packages/soccerdata/fbref.py\" target=\"_blank\"><span style=\"color: #7f7f7f; text-decoration-color: #7f7f7f\">fbref.py</span></a><span style=\"color: #7f7f7f; text-decoration-color: #7f7f7f\">:</span><a href=\"file:///usr/local/lib/python3.11/dist-packages/soccerdata/fbref.py#815\" target=\"_blank\"><span style=\"color: #7f7f7f; text-decoration-color: #7f7f7f\">815</span></a>\n",
              "</pre>\n"
            ]
          },
          "metadata": {}
        },
        {
          "output_type": "display_data",
          "data": {
            "text/plain": [
              "\u001b[2;36m[01/27/25 23:00:20]\u001b[0m\u001b[2;36m \u001b[0m\u001b[34mINFO    \u001b[0m \u001b[1m[\u001b[0m\u001b[1;36m106\u001b[0m/\u001b[1;36m380\u001b[0m\u001b[1m]\u001b[0m Retrieving game with \u001b[33mid\u001b[0m=\u001b[35m6096abaa\u001b[0m                                \u001b]8;id=377583;file:///usr/local/lib/python3.11/dist-packages/soccerdata/fbref.py\u001b\\\u001b[2mfbref.py\u001b[0m\u001b]8;;\u001b\\\u001b[2m:\u001b[0m\u001b]8;id=868751;file:///usr/local/lib/python3.11/dist-packages/soccerdata/fbref.py#815\u001b\\\u001b[2m815\u001b[0m\u001b]8;;\u001b\\\n"
            ],
            "text/html": [
              "<pre style=\"white-space:pre;overflow-x:auto;line-height:normal;font-family:Menlo,'DejaVu Sans Mono',consolas,'Courier New',monospace\"><span style=\"color: #7fbfbf; text-decoration-color: #7fbfbf\">[01/27/25 23:00:20] </span><span style=\"color: #000080; text-decoration-color: #000080\">INFO    </span> <span style=\"font-weight: bold\">[</span><span style=\"color: #008080; text-decoration-color: #008080; font-weight: bold\">106</span>/<span style=\"color: #008080; text-decoration-color: #008080; font-weight: bold\">380</span><span style=\"font-weight: bold\">]</span> Retrieving game with <span style=\"color: #808000; text-decoration-color: #808000\">id</span>=<span style=\"color: #800080; text-decoration-color: #800080\">6096abaa</span>                                <a href=\"file:///usr/local/lib/python3.11/dist-packages/soccerdata/fbref.py\" target=\"_blank\"><span style=\"color: #7f7f7f; text-decoration-color: #7f7f7f\">fbref.py</span></a><span style=\"color: #7f7f7f; text-decoration-color: #7f7f7f\">:</span><a href=\"file:///usr/local/lib/python3.11/dist-packages/soccerdata/fbref.py#815\" target=\"_blank\"><span style=\"color: #7f7f7f; text-decoration-color: #7f7f7f\">815</span></a>\n",
              "</pre>\n"
            ]
          },
          "metadata": {}
        },
        {
          "output_type": "display_data",
          "data": {
            "text/plain": [
              "\u001b[2;36m[01/27/25 23:00:27]\u001b[0m\u001b[2;36m \u001b[0m\u001b[34mINFO    \u001b[0m \u001b[1m[\u001b[0m\u001b[1;36m107\u001b[0m/\u001b[1;36m380\u001b[0m\u001b[1m]\u001b[0m Retrieving game with \u001b[33mid\u001b[0m=\u001b[35me841bbac\u001b[0m                                \u001b]8;id=140905;file:///usr/local/lib/python3.11/dist-packages/soccerdata/fbref.py\u001b\\\u001b[2mfbref.py\u001b[0m\u001b]8;;\u001b\\\u001b[2m:\u001b[0m\u001b]8;id=69331;file:///usr/local/lib/python3.11/dist-packages/soccerdata/fbref.py#815\u001b\\\u001b[2m815\u001b[0m\u001b]8;;\u001b\\\n"
            ],
            "text/html": [
              "<pre style=\"white-space:pre;overflow-x:auto;line-height:normal;font-family:Menlo,'DejaVu Sans Mono',consolas,'Courier New',monospace\"><span style=\"color: #7fbfbf; text-decoration-color: #7fbfbf\">[01/27/25 23:00:27] </span><span style=\"color: #000080; text-decoration-color: #000080\">INFO    </span> <span style=\"font-weight: bold\">[</span><span style=\"color: #008080; text-decoration-color: #008080; font-weight: bold\">107</span>/<span style=\"color: #008080; text-decoration-color: #008080; font-weight: bold\">380</span><span style=\"font-weight: bold\">]</span> Retrieving game with <span style=\"color: #808000; text-decoration-color: #808000\">id</span>=<span style=\"color: #800080; text-decoration-color: #800080\">e841bbac</span>                                <a href=\"file:///usr/local/lib/python3.11/dist-packages/soccerdata/fbref.py\" target=\"_blank\"><span style=\"color: #7f7f7f; text-decoration-color: #7f7f7f\">fbref.py</span></a><span style=\"color: #7f7f7f; text-decoration-color: #7f7f7f\">:</span><a href=\"file:///usr/local/lib/python3.11/dist-packages/soccerdata/fbref.py#815\" target=\"_blank\"><span style=\"color: #7f7f7f; text-decoration-color: #7f7f7f\">815</span></a>\n",
              "</pre>\n"
            ]
          },
          "metadata": {}
        },
        {
          "output_type": "display_data",
          "data": {
            "text/plain": [
              "\u001b[2;36m[01/27/25 23:00:33]\u001b[0m\u001b[2;36m \u001b[0m\u001b[34mINFO    \u001b[0m \u001b[1m[\u001b[0m\u001b[1;36m108\u001b[0m/\u001b[1;36m380\u001b[0m\u001b[1m]\u001b[0m Retrieving game with \u001b[33mid\u001b[0m=\u001b[35ma62b97ba\u001b[0m                                \u001b]8;id=744440;file:///usr/local/lib/python3.11/dist-packages/soccerdata/fbref.py\u001b\\\u001b[2mfbref.py\u001b[0m\u001b]8;;\u001b\\\u001b[2m:\u001b[0m\u001b]8;id=778273;file:///usr/local/lib/python3.11/dist-packages/soccerdata/fbref.py#815\u001b\\\u001b[2m815\u001b[0m\u001b]8;;\u001b\\\n"
            ],
            "text/html": [
              "<pre style=\"white-space:pre;overflow-x:auto;line-height:normal;font-family:Menlo,'DejaVu Sans Mono',consolas,'Courier New',monospace\"><span style=\"color: #7fbfbf; text-decoration-color: #7fbfbf\">[01/27/25 23:00:33] </span><span style=\"color: #000080; text-decoration-color: #000080\">INFO    </span> <span style=\"font-weight: bold\">[</span><span style=\"color: #008080; text-decoration-color: #008080; font-weight: bold\">108</span>/<span style=\"color: #008080; text-decoration-color: #008080; font-weight: bold\">380</span><span style=\"font-weight: bold\">]</span> Retrieving game with <span style=\"color: #808000; text-decoration-color: #808000\">id</span>=<span style=\"color: #800080; text-decoration-color: #800080\">a62b97ba</span>                                <a href=\"file:///usr/local/lib/python3.11/dist-packages/soccerdata/fbref.py\" target=\"_blank\"><span style=\"color: #7f7f7f; text-decoration-color: #7f7f7f\">fbref.py</span></a><span style=\"color: #7f7f7f; text-decoration-color: #7f7f7f\">:</span><a href=\"file:///usr/local/lib/python3.11/dist-packages/soccerdata/fbref.py#815\" target=\"_blank\"><span style=\"color: #7f7f7f; text-decoration-color: #7f7f7f\">815</span></a>\n",
              "</pre>\n"
            ]
          },
          "metadata": {}
        },
        {
          "output_type": "display_data",
          "data": {
            "text/plain": [
              "\u001b[2;36m[01/27/25 23:00:39]\u001b[0m\u001b[2;36m \u001b[0m\u001b[34mINFO    \u001b[0m \u001b[1m[\u001b[0m\u001b[1;36m109\u001b[0m/\u001b[1;36m380\u001b[0m\u001b[1m]\u001b[0m Retrieving game with \u001b[33mid\u001b[0m=\u001b[35mac18f108\u001b[0m                                \u001b]8;id=854909;file:///usr/local/lib/python3.11/dist-packages/soccerdata/fbref.py\u001b\\\u001b[2mfbref.py\u001b[0m\u001b]8;;\u001b\\\u001b[2m:\u001b[0m\u001b]8;id=421360;file:///usr/local/lib/python3.11/dist-packages/soccerdata/fbref.py#815\u001b\\\u001b[2m815\u001b[0m\u001b]8;;\u001b\\\n"
            ],
            "text/html": [
              "<pre style=\"white-space:pre;overflow-x:auto;line-height:normal;font-family:Menlo,'DejaVu Sans Mono',consolas,'Courier New',monospace\"><span style=\"color: #7fbfbf; text-decoration-color: #7fbfbf\">[01/27/25 23:00:39] </span><span style=\"color: #000080; text-decoration-color: #000080\">INFO    </span> <span style=\"font-weight: bold\">[</span><span style=\"color: #008080; text-decoration-color: #008080; font-weight: bold\">109</span>/<span style=\"color: #008080; text-decoration-color: #008080; font-weight: bold\">380</span><span style=\"font-weight: bold\">]</span> Retrieving game with <span style=\"color: #808000; text-decoration-color: #808000\">id</span>=<span style=\"color: #800080; text-decoration-color: #800080\">ac18f108</span>                                <a href=\"file:///usr/local/lib/python3.11/dist-packages/soccerdata/fbref.py\" target=\"_blank\"><span style=\"color: #7f7f7f; text-decoration-color: #7f7f7f\">fbref.py</span></a><span style=\"color: #7f7f7f; text-decoration-color: #7f7f7f\">:</span><a href=\"file:///usr/local/lib/python3.11/dist-packages/soccerdata/fbref.py#815\" target=\"_blank\"><span style=\"color: #7f7f7f; text-decoration-color: #7f7f7f\">815</span></a>\n",
              "</pre>\n"
            ]
          },
          "metadata": {}
        },
        {
          "output_type": "display_data",
          "data": {
            "text/plain": [
              "\u001b[2;36m[01/27/25 23:00:46]\u001b[0m\u001b[2;36m \u001b[0m\u001b[34mINFO    \u001b[0m \u001b[1m[\u001b[0m\u001b[1;36m110\u001b[0m/\u001b[1;36m380\u001b[0m\u001b[1m]\u001b[0m Retrieving game with \u001b[33mid\u001b[0m=\u001b[35m478e4eb3\u001b[0m                                \u001b]8;id=404560;file:///usr/local/lib/python3.11/dist-packages/soccerdata/fbref.py\u001b\\\u001b[2mfbref.py\u001b[0m\u001b]8;;\u001b\\\u001b[2m:\u001b[0m\u001b]8;id=27010;file:///usr/local/lib/python3.11/dist-packages/soccerdata/fbref.py#815\u001b\\\u001b[2m815\u001b[0m\u001b]8;;\u001b\\\n"
            ],
            "text/html": [
              "<pre style=\"white-space:pre;overflow-x:auto;line-height:normal;font-family:Menlo,'DejaVu Sans Mono',consolas,'Courier New',monospace\"><span style=\"color: #7fbfbf; text-decoration-color: #7fbfbf\">[01/27/25 23:00:46] </span><span style=\"color: #000080; text-decoration-color: #000080\">INFO    </span> <span style=\"font-weight: bold\">[</span><span style=\"color: #008080; text-decoration-color: #008080; font-weight: bold\">110</span>/<span style=\"color: #008080; text-decoration-color: #008080; font-weight: bold\">380</span><span style=\"font-weight: bold\">]</span> Retrieving game with <span style=\"color: #808000; text-decoration-color: #808000\">id</span>=<span style=\"color: #800080; text-decoration-color: #800080\">478e4eb3</span>                                <a href=\"file:///usr/local/lib/python3.11/dist-packages/soccerdata/fbref.py\" target=\"_blank\"><span style=\"color: #7f7f7f; text-decoration-color: #7f7f7f\">fbref.py</span></a><span style=\"color: #7f7f7f; text-decoration-color: #7f7f7f\">:</span><a href=\"file:///usr/local/lib/python3.11/dist-packages/soccerdata/fbref.py#815\" target=\"_blank\"><span style=\"color: #7f7f7f; text-decoration-color: #7f7f7f\">815</span></a>\n",
              "</pre>\n"
            ]
          },
          "metadata": {}
        },
        {
          "output_type": "display_data",
          "data": {
            "text/plain": [
              "\u001b[2;36m[01/27/25 23:00:52]\u001b[0m\u001b[2;36m \u001b[0m\u001b[34mINFO    \u001b[0m \u001b[1m[\u001b[0m\u001b[1;36m111\u001b[0m/\u001b[1;36m380\u001b[0m\u001b[1m]\u001b[0m Retrieving game with \u001b[33mid\u001b[0m=\u001b[35m2cb4e4dc\u001b[0m                                \u001b]8;id=69513;file:///usr/local/lib/python3.11/dist-packages/soccerdata/fbref.py\u001b\\\u001b[2mfbref.py\u001b[0m\u001b]8;;\u001b\\\u001b[2m:\u001b[0m\u001b]8;id=178294;file:///usr/local/lib/python3.11/dist-packages/soccerdata/fbref.py#815\u001b\\\u001b[2m815\u001b[0m\u001b]8;;\u001b\\\n"
            ],
            "text/html": [
              "<pre style=\"white-space:pre;overflow-x:auto;line-height:normal;font-family:Menlo,'DejaVu Sans Mono',consolas,'Courier New',monospace\"><span style=\"color: #7fbfbf; text-decoration-color: #7fbfbf\">[01/27/25 23:00:52] </span><span style=\"color: #000080; text-decoration-color: #000080\">INFO    </span> <span style=\"font-weight: bold\">[</span><span style=\"color: #008080; text-decoration-color: #008080; font-weight: bold\">111</span>/<span style=\"color: #008080; text-decoration-color: #008080; font-weight: bold\">380</span><span style=\"font-weight: bold\">]</span> Retrieving game with <span style=\"color: #808000; text-decoration-color: #808000\">id</span>=<span style=\"color: #800080; text-decoration-color: #800080\">2cb4e4dc</span>                                <a href=\"file:///usr/local/lib/python3.11/dist-packages/soccerdata/fbref.py\" target=\"_blank\"><span style=\"color: #7f7f7f; text-decoration-color: #7f7f7f\">fbref.py</span></a><span style=\"color: #7f7f7f; text-decoration-color: #7f7f7f\">:</span><a href=\"file:///usr/local/lib/python3.11/dist-packages/soccerdata/fbref.py#815\" target=\"_blank\"><span style=\"color: #7f7f7f; text-decoration-color: #7f7f7f\">815</span></a>\n",
              "</pre>\n"
            ]
          },
          "metadata": {}
        },
        {
          "output_type": "display_data",
          "data": {
            "text/plain": [
              "\u001b[2;36m[01/27/25 23:00:58]\u001b[0m\u001b[2;36m \u001b[0m\u001b[34mINFO    \u001b[0m \u001b[1m[\u001b[0m\u001b[1;36m112\u001b[0m/\u001b[1;36m380\u001b[0m\u001b[1m]\u001b[0m Retrieving game with \u001b[33mid\u001b[0m=\u001b[35m641024cf\u001b[0m                                \u001b]8;id=688607;file:///usr/local/lib/python3.11/dist-packages/soccerdata/fbref.py\u001b\\\u001b[2mfbref.py\u001b[0m\u001b]8;;\u001b\\\u001b[2m:\u001b[0m\u001b]8;id=292090;file:///usr/local/lib/python3.11/dist-packages/soccerdata/fbref.py#815\u001b\\\u001b[2m815\u001b[0m\u001b]8;;\u001b\\\n"
            ],
            "text/html": [
              "<pre style=\"white-space:pre;overflow-x:auto;line-height:normal;font-family:Menlo,'DejaVu Sans Mono',consolas,'Courier New',monospace\"><span style=\"color: #7fbfbf; text-decoration-color: #7fbfbf\">[01/27/25 23:00:58] </span><span style=\"color: #000080; text-decoration-color: #000080\">INFO    </span> <span style=\"font-weight: bold\">[</span><span style=\"color: #008080; text-decoration-color: #008080; font-weight: bold\">112</span>/<span style=\"color: #008080; text-decoration-color: #008080; font-weight: bold\">380</span><span style=\"font-weight: bold\">]</span> Retrieving game with <span style=\"color: #808000; text-decoration-color: #808000\">id</span>=<span style=\"color: #800080; text-decoration-color: #800080\">641024cf</span>                                <a href=\"file:///usr/local/lib/python3.11/dist-packages/soccerdata/fbref.py\" target=\"_blank\"><span style=\"color: #7f7f7f; text-decoration-color: #7f7f7f\">fbref.py</span></a><span style=\"color: #7f7f7f; text-decoration-color: #7f7f7f\">:</span><a href=\"file:///usr/local/lib/python3.11/dist-packages/soccerdata/fbref.py#815\" target=\"_blank\"><span style=\"color: #7f7f7f; text-decoration-color: #7f7f7f\">815</span></a>\n",
              "</pre>\n"
            ]
          },
          "metadata": {}
        },
        {
          "output_type": "display_data",
          "data": {
            "text/plain": [
              "\u001b[2;36m[01/27/25 23:01:05]\u001b[0m\u001b[2;36m \u001b[0m\u001b[34mINFO    \u001b[0m \u001b[1m[\u001b[0m\u001b[1;36m113\u001b[0m/\u001b[1;36m380\u001b[0m\u001b[1m]\u001b[0m Retrieving game with \u001b[33mid\u001b[0m=\u001b[35ma4795b68\u001b[0m                                \u001b]8;id=21615;file:///usr/local/lib/python3.11/dist-packages/soccerdata/fbref.py\u001b\\\u001b[2mfbref.py\u001b[0m\u001b]8;;\u001b\\\u001b[2m:\u001b[0m\u001b]8;id=218965;file:///usr/local/lib/python3.11/dist-packages/soccerdata/fbref.py#815\u001b\\\u001b[2m815\u001b[0m\u001b]8;;\u001b\\\n"
            ],
            "text/html": [
              "<pre style=\"white-space:pre;overflow-x:auto;line-height:normal;font-family:Menlo,'DejaVu Sans Mono',consolas,'Courier New',monospace\"><span style=\"color: #7fbfbf; text-decoration-color: #7fbfbf\">[01/27/25 23:01:05] </span><span style=\"color: #000080; text-decoration-color: #000080\">INFO    </span> <span style=\"font-weight: bold\">[</span><span style=\"color: #008080; text-decoration-color: #008080; font-weight: bold\">113</span>/<span style=\"color: #008080; text-decoration-color: #008080; font-weight: bold\">380</span><span style=\"font-weight: bold\">]</span> Retrieving game with <span style=\"color: #808000; text-decoration-color: #808000\">id</span>=<span style=\"color: #800080; text-decoration-color: #800080\">a4795b68</span>                                <a href=\"file:///usr/local/lib/python3.11/dist-packages/soccerdata/fbref.py\" target=\"_blank\"><span style=\"color: #7f7f7f; text-decoration-color: #7f7f7f\">fbref.py</span></a><span style=\"color: #7f7f7f; text-decoration-color: #7f7f7f\">:</span><a href=\"file:///usr/local/lib/python3.11/dist-packages/soccerdata/fbref.py#815\" target=\"_blank\"><span style=\"color: #7f7f7f; text-decoration-color: #7f7f7f\">815</span></a>\n",
              "</pre>\n"
            ]
          },
          "metadata": {}
        },
        {
          "output_type": "display_data",
          "data": {
            "text/plain": [
              "\u001b[2;36m[01/27/25 23:01:11]\u001b[0m\u001b[2;36m \u001b[0m\u001b[34mINFO    \u001b[0m \u001b[1m[\u001b[0m\u001b[1;36m114\u001b[0m/\u001b[1;36m380\u001b[0m\u001b[1m]\u001b[0m Retrieving game with \u001b[33mid\u001b[0m=\u001b[35m4b9f3f25\u001b[0m                                \u001b]8;id=242187;file:///usr/local/lib/python3.11/dist-packages/soccerdata/fbref.py\u001b\\\u001b[2mfbref.py\u001b[0m\u001b]8;;\u001b\\\u001b[2m:\u001b[0m\u001b]8;id=961831;file:///usr/local/lib/python3.11/dist-packages/soccerdata/fbref.py#815\u001b\\\u001b[2m815\u001b[0m\u001b]8;;\u001b\\\n"
            ],
            "text/html": [
              "<pre style=\"white-space:pre;overflow-x:auto;line-height:normal;font-family:Menlo,'DejaVu Sans Mono',consolas,'Courier New',monospace\"><span style=\"color: #7fbfbf; text-decoration-color: #7fbfbf\">[01/27/25 23:01:11] </span><span style=\"color: #000080; text-decoration-color: #000080\">INFO    </span> <span style=\"font-weight: bold\">[</span><span style=\"color: #008080; text-decoration-color: #008080; font-weight: bold\">114</span>/<span style=\"color: #008080; text-decoration-color: #008080; font-weight: bold\">380</span><span style=\"font-weight: bold\">]</span> Retrieving game with <span style=\"color: #808000; text-decoration-color: #808000\">id</span>=<span style=\"color: #800080; text-decoration-color: #800080\">4b9f3f25</span>                                <a href=\"file:///usr/local/lib/python3.11/dist-packages/soccerdata/fbref.py\" target=\"_blank\"><span style=\"color: #7f7f7f; text-decoration-color: #7f7f7f\">fbref.py</span></a><span style=\"color: #7f7f7f; text-decoration-color: #7f7f7f\">:</span><a href=\"file:///usr/local/lib/python3.11/dist-packages/soccerdata/fbref.py#815\" target=\"_blank\"><span style=\"color: #7f7f7f; text-decoration-color: #7f7f7f\">815</span></a>\n",
              "</pre>\n"
            ]
          },
          "metadata": {}
        },
        {
          "output_type": "display_data",
          "data": {
            "text/plain": [
              "\u001b[2;36m[01/27/25 23:01:17]\u001b[0m\u001b[2;36m \u001b[0m\u001b[34mINFO    \u001b[0m \u001b[1m[\u001b[0m\u001b[1;36m115\u001b[0m/\u001b[1;36m380\u001b[0m\u001b[1m]\u001b[0m Retrieving game with \u001b[33mid\u001b[0m=\u001b[35m1634f066\u001b[0m                                \u001b]8;id=180792;file:///usr/local/lib/python3.11/dist-packages/soccerdata/fbref.py\u001b\\\u001b[2mfbref.py\u001b[0m\u001b]8;;\u001b\\\u001b[2m:\u001b[0m\u001b]8;id=898263;file:///usr/local/lib/python3.11/dist-packages/soccerdata/fbref.py#815\u001b\\\u001b[2m815\u001b[0m\u001b]8;;\u001b\\\n"
            ],
            "text/html": [
              "<pre style=\"white-space:pre;overflow-x:auto;line-height:normal;font-family:Menlo,'DejaVu Sans Mono',consolas,'Courier New',monospace\"><span style=\"color: #7fbfbf; text-decoration-color: #7fbfbf\">[01/27/25 23:01:17] </span><span style=\"color: #000080; text-decoration-color: #000080\">INFO    </span> <span style=\"font-weight: bold\">[</span><span style=\"color: #008080; text-decoration-color: #008080; font-weight: bold\">115</span>/<span style=\"color: #008080; text-decoration-color: #008080; font-weight: bold\">380</span><span style=\"font-weight: bold\">]</span> Retrieving game with <span style=\"color: #808000; text-decoration-color: #808000\">id</span>=<span style=\"color: #800080; text-decoration-color: #800080\">1634f066</span>                                <a href=\"file:///usr/local/lib/python3.11/dist-packages/soccerdata/fbref.py\" target=\"_blank\"><span style=\"color: #7f7f7f; text-decoration-color: #7f7f7f\">fbref.py</span></a><span style=\"color: #7f7f7f; text-decoration-color: #7f7f7f\">:</span><a href=\"file:///usr/local/lib/python3.11/dist-packages/soccerdata/fbref.py#815\" target=\"_blank\"><span style=\"color: #7f7f7f; text-decoration-color: #7f7f7f\">815</span></a>\n",
              "</pre>\n"
            ]
          },
          "metadata": {}
        },
        {
          "output_type": "display_data",
          "data": {
            "text/plain": [
              "\u001b[2;36m[01/27/25 23:01:24]\u001b[0m\u001b[2;36m \u001b[0m\u001b[34mINFO    \u001b[0m \u001b[1m[\u001b[0m\u001b[1;36m116\u001b[0m/\u001b[1;36m380\u001b[0m\u001b[1m]\u001b[0m Retrieving game with \u001b[33mid\u001b[0m=\u001b[35md6a70a44\u001b[0m                                \u001b]8;id=468197;file:///usr/local/lib/python3.11/dist-packages/soccerdata/fbref.py\u001b\\\u001b[2mfbref.py\u001b[0m\u001b]8;;\u001b\\\u001b[2m:\u001b[0m\u001b]8;id=805993;file:///usr/local/lib/python3.11/dist-packages/soccerdata/fbref.py#815\u001b\\\u001b[2m815\u001b[0m\u001b]8;;\u001b\\\n"
            ],
            "text/html": [
              "<pre style=\"white-space:pre;overflow-x:auto;line-height:normal;font-family:Menlo,'DejaVu Sans Mono',consolas,'Courier New',monospace\"><span style=\"color: #7fbfbf; text-decoration-color: #7fbfbf\">[01/27/25 23:01:24] </span><span style=\"color: #000080; text-decoration-color: #000080\">INFO    </span> <span style=\"font-weight: bold\">[</span><span style=\"color: #008080; text-decoration-color: #008080; font-weight: bold\">116</span>/<span style=\"color: #008080; text-decoration-color: #008080; font-weight: bold\">380</span><span style=\"font-weight: bold\">]</span> Retrieving game with <span style=\"color: #808000; text-decoration-color: #808000\">id</span>=<span style=\"color: #800080; text-decoration-color: #800080\">d6a70a44</span>                                <a href=\"file:///usr/local/lib/python3.11/dist-packages/soccerdata/fbref.py\" target=\"_blank\"><span style=\"color: #7f7f7f; text-decoration-color: #7f7f7f\">fbref.py</span></a><span style=\"color: #7f7f7f; text-decoration-color: #7f7f7f\">:</span><a href=\"file:///usr/local/lib/python3.11/dist-packages/soccerdata/fbref.py#815\" target=\"_blank\"><span style=\"color: #7f7f7f; text-decoration-color: #7f7f7f\">815</span></a>\n",
              "</pre>\n"
            ]
          },
          "metadata": {}
        },
        {
          "output_type": "display_data",
          "data": {
            "text/plain": [
              "\u001b[2;36m[01/27/25 23:01:30]\u001b[0m\u001b[2;36m \u001b[0m\u001b[34mINFO    \u001b[0m \u001b[1m[\u001b[0m\u001b[1;36m117\u001b[0m/\u001b[1;36m380\u001b[0m\u001b[1m]\u001b[0m Retrieving game with \u001b[33mid\u001b[0m=\u001b[35mebf41e41\u001b[0m                                \u001b]8;id=507982;file:///usr/local/lib/python3.11/dist-packages/soccerdata/fbref.py\u001b\\\u001b[2mfbref.py\u001b[0m\u001b]8;;\u001b\\\u001b[2m:\u001b[0m\u001b]8;id=571619;file:///usr/local/lib/python3.11/dist-packages/soccerdata/fbref.py#815\u001b\\\u001b[2m815\u001b[0m\u001b]8;;\u001b\\\n"
            ],
            "text/html": [
              "<pre style=\"white-space:pre;overflow-x:auto;line-height:normal;font-family:Menlo,'DejaVu Sans Mono',consolas,'Courier New',monospace\"><span style=\"color: #7fbfbf; text-decoration-color: #7fbfbf\">[01/27/25 23:01:30] </span><span style=\"color: #000080; text-decoration-color: #000080\">INFO    </span> <span style=\"font-weight: bold\">[</span><span style=\"color: #008080; text-decoration-color: #008080; font-weight: bold\">117</span>/<span style=\"color: #008080; text-decoration-color: #008080; font-weight: bold\">380</span><span style=\"font-weight: bold\">]</span> Retrieving game with <span style=\"color: #808000; text-decoration-color: #808000\">id</span>=<span style=\"color: #800080; text-decoration-color: #800080\">ebf41e41</span>                                <a href=\"file:///usr/local/lib/python3.11/dist-packages/soccerdata/fbref.py\" target=\"_blank\"><span style=\"color: #7f7f7f; text-decoration-color: #7f7f7f\">fbref.py</span></a><span style=\"color: #7f7f7f; text-decoration-color: #7f7f7f\">:</span><a href=\"file:///usr/local/lib/python3.11/dist-packages/soccerdata/fbref.py#815\" target=\"_blank\"><span style=\"color: #7f7f7f; text-decoration-color: #7f7f7f\">815</span></a>\n",
              "</pre>\n"
            ]
          },
          "metadata": {}
        },
        {
          "output_type": "display_data",
          "data": {
            "text/plain": [
              "\u001b[2;36m[01/27/25 23:01:36]\u001b[0m\u001b[2;36m \u001b[0m\u001b[34mINFO    \u001b[0m \u001b[1m[\u001b[0m\u001b[1;36m118\u001b[0m/\u001b[1;36m380\u001b[0m\u001b[1m]\u001b[0m Retrieving game with \u001b[33mid\u001b[0m=\u001b[35m53bb8f30\u001b[0m                                \u001b]8;id=509610;file:///usr/local/lib/python3.11/dist-packages/soccerdata/fbref.py\u001b\\\u001b[2mfbref.py\u001b[0m\u001b]8;;\u001b\\\u001b[2m:\u001b[0m\u001b]8;id=124886;file:///usr/local/lib/python3.11/dist-packages/soccerdata/fbref.py#815\u001b\\\u001b[2m815\u001b[0m\u001b]8;;\u001b\\\n"
            ],
            "text/html": [
              "<pre style=\"white-space:pre;overflow-x:auto;line-height:normal;font-family:Menlo,'DejaVu Sans Mono',consolas,'Courier New',monospace\"><span style=\"color: #7fbfbf; text-decoration-color: #7fbfbf\">[01/27/25 23:01:36] </span><span style=\"color: #000080; text-decoration-color: #000080\">INFO    </span> <span style=\"font-weight: bold\">[</span><span style=\"color: #008080; text-decoration-color: #008080; font-weight: bold\">118</span>/<span style=\"color: #008080; text-decoration-color: #008080; font-weight: bold\">380</span><span style=\"font-weight: bold\">]</span> Retrieving game with <span style=\"color: #808000; text-decoration-color: #808000\">id</span>=<span style=\"color: #800080; text-decoration-color: #800080\">53bb8f30</span>                                <a href=\"file:///usr/local/lib/python3.11/dist-packages/soccerdata/fbref.py\" target=\"_blank\"><span style=\"color: #7f7f7f; text-decoration-color: #7f7f7f\">fbref.py</span></a><span style=\"color: #7f7f7f; text-decoration-color: #7f7f7f\">:</span><a href=\"file:///usr/local/lib/python3.11/dist-packages/soccerdata/fbref.py#815\" target=\"_blank\"><span style=\"color: #7f7f7f; text-decoration-color: #7f7f7f\">815</span></a>\n",
              "</pre>\n"
            ]
          },
          "metadata": {}
        },
        {
          "output_type": "display_data",
          "data": {
            "text/plain": [
              "\u001b[2;36m[01/27/25 23:01:42]\u001b[0m\u001b[2;36m \u001b[0m\u001b[34mINFO    \u001b[0m \u001b[1m[\u001b[0m\u001b[1;36m119\u001b[0m/\u001b[1;36m380\u001b[0m\u001b[1m]\u001b[0m Retrieving game with \u001b[33mid\u001b[0m=\u001b[35m996ee990\u001b[0m                                \u001b]8;id=843904;file:///usr/local/lib/python3.11/dist-packages/soccerdata/fbref.py\u001b\\\u001b[2mfbref.py\u001b[0m\u001b]8;;\u001b\\\u001b[2m:\u001b[0m\u001b]8;id=39269;file:///usr/local/lib/python3.11/dist-packages/soccerdata/fbref.py#815\u001b\\\u001b[2m815\u001b[0m\u001b]8;;\u001b\\\n"
            ],
            "text/html": [
              "<pre style=\"white-space:pre;overflow-x:auto;line-height:normal;font-family:Menlo,'DejaVu Sans Mono',consolas,'Courier New',monospace\"><span style=\"color: #7fbfbf; text-decoration-color: #7fbfbf\">[01/27/25 23:01:42] </span><span style=\"color: #000080; text-decoration-color: #000080\">INFO    </span> <span style=\"font-weight: bold\">[</span><span style=\"color: #008080; text-decoration-color: #008080; font-weight: bold\">119</span>/<span style=\"color: #008080; text-decoration-color: #008080; font-weight: bold\">380</span><span style=\"font-weight: bold\">]</span> Retrieving game with <span style=\"color: #808000; text-decoration-color: #808000\">id</span>=<span style=\"color: #800080; text-decoration-color: #800080\">996ee990</span>                                <a href=\"file:///usr/local/lib/python3.11/dist-packages/soccerdata/fbref.py\" target=\"_blank\"><span style=\"color: #7f7f7f; text-decoration-color: #7f7f7f\">fbref.py</span></a><span style=\"color: #7f7f7f; text-decoration-color: #7f7f7f\">:</span><a href=\"file:///usr/local/lib/python3.11/dist-packages/soccerdata/fbref.py#815\" target=\"_blank\"><span style=\"color: #7f7f7f; text-decoration-color: #7f7f7f\">815</span></a>\n",
              "</pre>\n"
            ]
          },
          "metadata": {}
        },
        {
          "output_type": "display_data",
          "data": {
            "text/plain": [
              "\u001b[2;36m[01/27/25 23:01:49]\u001b[0m\u001b[2;36m \u001b[0m\u001b[34mINFO    \u001b[0m \u001b[1m[\u001b[0m\u001b[1;36m120\u001b[0m/\u001b[1;36m380\u001b[0m\u001b[1m]\u001b[0m Retrieving game with \u001b[33mid\u001b[0m=\u001b[35m76b8e568\u001b[0m                                \u001b]8;id=705134;file:///usr/local/lib/python3.11/dist-packages/soccerdata/fbref.py\u001b\\\u001b[2mfbref.py\u001b[0m\u001b]8;;\u001b\\\u001b[2m:\u001b[0m\u001b]8;id=224159;file:///usr/local/lib/python3.11/dist-packages/soccerdata/fbref.py#815\u001b\\\u001b[2m815\u001b[0m\u001b]8;;\u001b\\\n"
            ],
            "text/html": [
              "<pre style=\"white-space:pre;overflow-x:auto;line-height:normal;font-family:Menlo,'DejaVu Sans Mono',consolas,'Courier New',monospace\"><span style=\"color: #7fbfbf; text-decoration-color: #7fbfbf\">[01/27/25 23:01:49] </span><span style=\"color: #000080; text-decoration-color: #000080\">INFO    </span> <span style=\"font-weight: bold\">[</span><span style=\"color: #008080; text-decoration-color: #008080; font-weight: bold\">120</span>/<span style=\"color: #008080; text-decoration-color: #008080; font-weight: bold\">380</span><span style=\"font-weight: bold\">]</span> Retrieving game with <span style=\"color: #808000; text-decoration-color: #808000\">id</span>=<span style=\"color: #800080; text-decoration-color: #800080\">76b8e568</span>                                <a href=\"file:///usr/local/lib/python3.11/dist-packages/soccerdata/fbref.py\" target=\"_blank\"><span style=\"color: #7f7f7f; text-decoration-color: #7f7f7f\">fbref.py</span></a><span style=\"color: #7f7f7f; text-decoration-color: #7f7f7f\">:</span><a href=\"file:///usr/local/lib/python3.11/dist-packages/soccerdata/fbref.py#815\" target=\"_blank\"><span style=\"color: #7f7f7f; text-decoration-color: #7f7f7f\">815</span></a>\n",
              "</pre>\n"
            ]
          },
          "metadata": {}
        },
        {
          "output_type": "display_data",
          "data": {
            "text/plain": [
              "\u001b[2;36m[01/27/25 23:01:55]\u001b[0m\u001b[2;36m \u001b[0m\u001b[34mINFO    \u001b[0m \u001b[1m[\u001b[0m\u001b[1;36m121\u001b[0m/\u001b[1;36m380\u001b[0m\u001b[1m]\u001b[0m Retrieving game with \u001b[33mid\u001b[0m=\u001b[35m626c6561\u001b[0m                                \u001b]8;id=706246;file:///usr/local/lib/python3.11/dist-packages/soccerdata/fbref.py\u001b\\\u001b[2mfbref.py\u001b[0m\u001b]8;;\u001b\\\u001b[2m:\u001b[0m\u001b]8;id=779338;file:///usr/local/lib/python3.11/dist-packages/soccerdata/fbref.py#815\u001b\\\u001b[2m815\u001b[0m\u001b]8;;\u001b\\\n"
            ],
            "text/html": [
              "<pre style=\"white-space:pre;overflow-x:auto;line-height:normal;font-family:Menlo,'DejaVu Sans Mono',consolas,'Courier New',monospace\"><span style=\"color: #7fbfbf; text-decoration-color: #7fbfbf\">[01/27/25 23:01:55] </span><span style=\"color: #000080; text-decoration-color: #000080\">INFO    </span> <span style=\"font-weight: bold\">[</span><span style=\"color: #008080; text-decoration-color: #008080; font-weight: bold\">121</span>/<span style=\"color: #008080; text-decoration-color: #008080; font-weight: bold\">380</span><span style=\"font-weight: bold\">]</span> Retrieving game with <span style=\"color: #808000; text-decoration-color: #808000\">id</span>=<span style=\"color: #800080; text-decoration-color: #800080\">626c6561</span>                                <a href=\"file:///usr/local/lib/python3.11/dist-packages/soccerdata/fbref.py\" target=\"_blank\"><span style=\"color: #7f7f7f; text-decoration-color: #7f7f7f\">fbref.py</span></a><span style=\"color: #7f7f7f; text-decoration-color: #7f7f7f\">:</span><a href=\"file:///usr/local/lib/python3.11/dist-packages/soccerdata/fbref.py#815\" target=\"_blank\"><span style=\"color: #7f7f7f; text-decoration-color: #7f7f7f\">815</span></a>\n",
              "</pre>\n"
            ]
          },
          "metadata": {}
        },
        {
          "output_type": "display_data",
          "data": {
            "text/plain": [
              "\u001b[2;36m[01/27/25 23:02:01]\u001b[0m\u001b[2;36m \u001b[0m\u001b[34mINFO    \u001b[0m \u001b[1m[\u001b[0m\u001b[1;36m122\u001b[0m/\u001b[1;36m380\u001b[0m\u001b[1m]\u001b[0m Retrieving game with \u001b[33mid\u001b[0m=\u001b[35m36a64522\u001b[0m                                \u001b]8;id=996250;file:///usr/local/lib/python3.11/dist-packages/soccerdata/fbref.py\u001b\\\u001b[2mfbref.py\u001b[0m\u001b]8;;\u001b\\\u001b[2m:\u001b[0m\u001b]8;id=143176;file:///usr/local/lib/python3.11/dist-packages/soccerdata/fbref.py#815\u001b\\\u001b[2m815\u001b[0m\u001b]8;;\u001b\\\n"
            ],
            "text/html": [
              "<pre style=\"white-space:pre;overflow-x:auto;line-height:normal;font-family:Menlo,'DejaVu Sans Mono',consolas,'Courier New',monospace\"><span style=\"color: #7fbfbf; text-decoration-color: #7fbfbf\">[01/27/25 23:02:01] </span><span style=\"color: #000080; text-decoration-color: #000080\">INFO    </span> <span style=\"font-weight: bold\">[</span><span style=\"color: #008080; text-decoration-color: #008080; font-weight: bold\">122</span>/<span style=\"color: #008080; text-decoration-color: #008080; font-weight: bold\">380</span><span style=\"font-weight: bold\">]</span> Retrieving game with <span style=\"color: #808000; text-decoration-color: #808000\">id</span>=<span style=\"color: #800080; text-decoration-color: #800080\">36a64522</span>                                <a href=\"file:///usr/local/lib/python3.11/dist-packages/soccerdata/fbref.py\" target=\"_blank\"><span style=\"color: #7f7f7f; text-decoration-color: #7f7f7f\">fbref.py</span></a><span style=\"color: #7f7f7f; text-decoration-color: #7f7f7f\">:</span><a href=\"file:///usr/local/lib/python3.11/dist-packages/soccerdata/fbref.py#815\" target=\"_blank\"><span style=\"color: #7f7f7f; text-decoration-color: #7f7f7f\">815</span></a>\n",
              "</pre>\n"
            ]
          },
          "metadata": {}
        },
        {
          "output_type": "display_data",
          "data": {
            "text/plain": [
              "\u001b[2;36m[01/27/25 23:02:08]\u001b[0m\u001b[2;36m \u001b[0m\u001b[34mINFO    \u001b[0m \u001b[1m[\u001b[0m\u001b[1;36m123\u001b[0m/\u001b[1;36m380\u001b[0m\u001b[1m]\u001b[0m Retrieving game with \u001b[33mid\u001b[0m=\u001b[35mf4805536\u001b[0m                                \u001b]8;id=487823;file:///usr/local/lib/python3.11/dist-packages/soccerdata/fbref.py\u001b\\\u001b[2mfbref.py\u001b[0m\u001b]8;;\u001b\\\u001b[2m:\u001b[0m\u001b]8;id=685143;file:///usr/local/lib/python3.11/dist-packages/soccerdata/fbref.py#815\u001b\\\u001b[2m815\u001b[0m\u001b]8;;\u001b\\\n"
            ],
            "text/html": [
              "<pre style=\"white-space:pre;overflow-x:auto;line-height:normal;font-family:Menlo,'DejaVu Sans Mono',consolas,'Courier New',monospace\"><span style=\"color: #7fbfbf; text-decoration-color: #7fbfbf\">[01/27/25 23:02:08] </span><span style=\"color: #000080; text-decoration-color: #000080\">INFO    </span> <span style=\"font-weight: bold\">[</span><span style=\"color: #008080; text-decoration-color: #008080; font-weight: bold\">123</span>/<span style=\"color: #008080; text-decoration-color: #008080; font-weight: bold\">380</span><span style=\"font-weight: bold\">]</span> Retrieving game with <span style=\"color: #808000; text-decoration-color: #808000\">id</span>=<span style=\"color: #800080; text-decoration-color: #800080\">f4805536</span>                                <a href=\"file:///usr/local/lib/python3.11/dist-packages/soccerdata/fbref.py\" target=\"_blank\"><span style=\"color: #7f7f7f; text-decoration-color: #7f7f7f\">fbref.py</span></a><span style=\"color: #7f7f7f; text-decoration-color: #7f7f7f\">:</span><a href=\"file:///usr/local/lib/python3.11/dist-packages/soccerdata/fbref.py#815\" target=\"_blank\"><span style=\"color: #7f7f7f; text-decoration-color: #7f7f7f\">815</span></a>\n",
              "</pre>\n"
            ]
          },
          "metadata": {}
        },
        {
          "output_type": "display_data",
          "data": {
            "text/plain": [
              "\u001b[2;36m[01/27/25 23:02:14]\u001b[0m\u001b[2;36m \u001b[0m\u001b[34mINFO    \u001b[0m \u001b[1m[\u001b[0m\u001b[1;36m124\u001b[0m/\u001b[1;36m380\u001b[0m\u001b[1m]\u001b[0m Retrieving game with \u001b[33mid\u001b[0m=\u001b[35m5d4a5006\u001b[0m                                \u001b]8;id=326156;file:///usr/local/lib/python3.11/dist-packages/soccerdata/fbref.py\u001b\\\u001b[2mfbref.py\u001b[0m\u001b]8;;\u001b\\\u001b[2m:\u001b[0m\u001b]8;id=321431;file:///usr/local/lib/python3.11/dist-packages/soccerdata/fbref.py#815\u001b\\\u001b[2m815\u001b[0m\u001b]8;;\u001b\\\n"
            ],
            "text/html": [
              "<pre style=\"white-space:pre;overflow-x:auto;line-height:normal;font-family:Menlo,'DejaVu Sans Mono',consolas,'Courier New',monospace\"><span style=\"color: #7fbfbf; text-decoration-color: #7fbfbf\">[01/27/25 23:02:14] </span><span style=\"color: #000080; text-decoration-color: #000080\">INFO    </span> <span style=\"font-weight: bold\">[</span><span style=\"color: #008080; text-decoration-color: #008080; font-weight: bold\">124</span>/<span style=\"color: #008080; text-decoration-color: #008080; font-weight: bold\">380</span><span style=\"font-weight: bold\">]</span> Retrieving game with <span style=\"color: #808000; text-decoration-color: #808000\">id</span>=<span style=\"color: #800080; text-decoration-color: #800080\">5d4a5006</span>                                <a href=\"file:///usr/local/lib/python3.11/dist-packages/soccerdata/fbref.py\" target=\"_blank\"><span style=\"color: #7f7f7f; text-decoration-color: #7f7f7f\">fbref.py</span></a><span style=\"color: #7f7f7f; text-decoration-color: #7f7f7f\">:</span><a href=\"file:///usr/local/lib/python3.11/dist-packages/soccerdata/fbref.py#815\" target=\"_blank\"><span style=\"color: #7f7f7f; text-decoration-color: #7f7f7f\">815</span></a>\n",
              "</pre>\n"
            ]
          },
          "metadata": {}
        },
        {
          "output_type": "display_data",
          "data": {
            "text/plain": [
              "\u001b[2;36m[01/27/25 23:02:20]\u001b[0m\u001b[2;36m \u001b[0m\u001b[34mINFO    \u001b[0m \u001b[1m[\u001b[0m\u001b[1;36m125\u001b[0m/\u001b[1;36m380\u001b[0m\u001b[1m]\u001b[0m Retrieving game with \u001b[33mid\u001b[0m=\u001b[35m8c8f48f4\u001b[0m                                \u001b]8;id=993396;file:///usr/local/lib/python3.11/dist-packages/soccerdata/fbref.py\u001b\\\u001b[2mfbref.py\u001b[0m\u001b]8;;\u001b\\\u001b[2m:\u001b[0m\u001b]8;id=71332;file:///usr/local/lib/python3.11/dist-packages/soccerdata/fbref.py#815\u001b\\\u001b[2m815\u001b[0m\u001b]8;;\u001b\\\n"
            ],
            "text/html": [
              "<pre style=\"white-space:pre;overflow-x:auto;line-height:normal;font-family:Menlo,'DejaVu Sans Mono',consolas,'Courier New',monospace\"><span style=\"color: #7fbfbf; text-decoration-color: #7fbfbf\">[01/27/25 23:02:20] </span><span style=\"color: #000080; text-decoration-color: #000080\">INFO    </span> <span style=\"font-weight: bold\">[</span><span style=\"color: #008080; text-decoration-color: #008080; font-weight: bold\">125</span>/<span style=\"color: #008080; text-decoration-color: #008080; font-weight: bold\">380</span><span style=\"font-weight: bold\">]</span> Retrieving game with <span style=\"color: #808000; text-decoration-color: #808000\">id</span>=<span style=\"color: #800080; text-decoration-color: #800080\">8c8f48f4</span>                                <a href=\"file:///usr/local/lib/python3.11/dist-packages/soccerdata/fbref.py\" target=\"_blank\"><span style=\"color: #7f7f7f; text-decoration-color: #7f7f7f\">fbref.py</span></a><span style=\"color: #7f7f7f; text-decoration-color: #7f7f7f\">:</span><a href=\"file:///usr/local/lib/python3.11/dist-packages/soccerdata/fbref.py#815\" target=\"_blank\"><span style=\"color: #7f7f7f; text-decoration-color: #7f7f7f\">815</span></a>\n",
              "</pre>\n"
            ]
          },
          "metadata": {}
        },
        {
          "output_type": "display_data",
          "data": {
            "text/plain": [
              "\u001b[2;36m[01/27/25 23:02:26]\u001b[0m\u001b[2;36m \u001b[0m\u001b[34mINFO    \u001b[0m \u001b[1m[\u001b[0m\u001b[1;36m126\u001b[0m/\u001b[1;36m380\u001b[0m\u001b[1m]\u001b[0m Retrieving game with \u001b[33mid\u001b[0m=\u001b[35m36be5cee\u001b[0m                                \u001b]8;id=120625;file:///usr/local/lib/python3.11/dist-packages/soccerdata/fbref.py\u001b\\\u001b[2mfbref.py\u001b[0m\u001b]8;;\u001b\\\u001b[2m:\u001b[0m\u001b]8;id=592810;file:///usr/local/lib/python3.11/dist-packages/soccerdata/fbref.py#815\u001b\\\u001b[2m815\u001b[0m\u001b]8;;\u001b\\\n"
            ],
            "text/html": [
              "<pre style=\"white-space:pre;overflow-x:auto;line-height:normal;font-family:Menlo,'DejaVu Sans Mono',consolas,'Courier New',monospace\"><span style=\"color: #7fbfbf; text-decoration-color: #7fbfbf\">[01/27/25 23:02:26] </span><span style=\"color: #000080; text-decoration-color: #000080\">INFO    </span> <span style=\"font-weight: bold\">[</span><span style=\"color: #008080; text-decoration-color: #008080; font-weight: bold\">126</span>/<span style=\"color: #008080; text-decoration-color: #008080; font-weight: bold\">380</span><span style=\"font-weight: bold\">]</span> Retrieving game with <span style=\"color: #808000; text-decoration-color: #808000\">id</span>=<span style=\"color: #800080; text-decoration-color: #800080\">36be5cee</span>                                <a href=\"file:///usr/local/lib/python3.11/dist-packages/soccerdata/fbref.py\" target=\"_blank\"><span style=\"color: #7f7f7f; text-decoration-color: #7f7f7f\">fbref.py</span></a><span style=\"color: #7f7f7f; text-decoration-color: #7f7f7f\">:</span><a href=\"file:///usr/local/lib/python3.11/dist-packages/soccerdata/fbref.py#815\" target=\"_blank\"><span style=\"color: #7f7f7f; text-decoration-color: #7f7f7f\">815</span></a>\n",
              "</pre>\n"
            ]
          },
          "metadata": {}
        },
        {
          "output_type": "display_data",
          "data": {
            "text/plain": [
              "\u001b[2;36m[01/27/25 23:02:33]\u001b[0m\u001b[2;36m \u001b[0m\u001b[34mINFO    \u001b[0m \u001b[1m[\u001b[0m\u001b[1;36m127\u001b[0m/\u001b[1;36m380\u001b[0m\u001b[1m]\u001b[0m Retrieving game with \u001b[33mid\u001b[0m=\u001b[35m799a2c04\u001b[0m                                \u001b]8;id=467803;file:///usr/local/lib/python3.11/dist-packages/soccerdata/fbref.py\u001b\\\u001b[2mfbref.py\u001b[0m\u001b]8;;\u001b\\\u001b[2m:\u001b[0m\u001b]8;id=885322;file:///usr/local/lib/python3.11/dist-packages/soccerdata/fbref.py#815\u001b\\\u001b[2m815\u001b[0m\u001b]8;;\u001b\\\n"
            ],
            "text/html": [
              "<pre style=\"white-space:pre;overflow-x:auto;line-height:normal;font-family:Menlo,'DejaVu Sans Mono',consolas,'Courier New',monospace\"><span style=\"color: #7fbfbf; text-decoration-color: #7fbfbf\">[01/27/25 23:02:33] </span><span style=\"color: #000080; text-decoration-color: #000080\">INFO    </span> <span style=\"font-weight: bold\">[</span><span style=\"color: #008080; text-decoration-color: #008080; font-weight: bold\">127</span>/<span style=\"color: #008080; text-decoration-color: #008080; font-weight: bold\">380</span><span style=\"font-weight: bold\">]</span> Retrieving game with <span style=\"color: #808000; text-decoration-color: #808000\">id</span>=<span style=\"color: #800080; text-decoration-color: #800080\">799a2c04</span>                                <a href=\"file:///usr/local/lib/python3.11/dist-packages/soccerdata/fbref.py\" target=\"_blank\"><span style=\"color: #7f7f7f; text-decoration-color: #7f7f7f\">fbref.py</span></a><span style=\"color: #7f7f7f; text-decoration-color: #7f7f7f\">:</span><a href=\"file:///usr/local/lib/python3.11/dist-packages/soccerdata/fbref.py#815\" target=\"_blank\"><span style=\"color: #7f7f7f; text-decoration-color: #7f7f7f\">815</span></a>\n",
              "</pre>\n"
            ]
          },
          "metadata": {}
        },
        {
          "output_type": "display_data",
          "data": {
            "text/plain": [
              "\u001b[2;36m[01/27/25 23:02:39]\u001b[0m\u001b[2;36m \u001b[0m\u001b[34mINFO    \u001b[0m \u001b[1m[\u001b[0m\u001b[1;36m128\u001b[0m/\u001b[1;36m380\u001b[0m\u001b[1m]\u001b[0m Retrieving game with \u001b[33mid\u001b[0m=\u001b[35mf82a83dd\u001b[0m                                \u001b]8;id=320258;file:///usr/local/lib/python3.11/dist-packages/soccerdata/fbref.py\u001b\\\u001b[2mfbref.py\u001b[0m\u001b]8;;\u001b\\\u001b[2m:\u001b[0m\u001b]8;id=887735;file:///usr/local/lib/python3.11/dist-packages/soccerdata/fbref.py#815\u001b\\\u001b[2m815\u001b[0m\u001b]8;;\u001b\\\n"
            ],
            "text/html": [
              "<pre style=\"white-space:pre;overflow-x:auto;line-height:normal;font-family:Menlo,'DejaVu Sans Mono',consolas,'Courier New',monospace\"><span style=\"color: #7fbfbf; text-decoration-color: #7fbfbf\">[01/27/25 23:02:39] </span><span style=\"color: #000080; text-decoration-color: #000080\">INFO    </span> <span style=\"font-weight: bold\">[</span><span style=\"color: #008080; text-decoration-color: #008080; font-weight: bold\">128</span>/<span style=\"color: #008080; text-decoration-color: #008080; font-weight: bold\">380</span><span style=\"font-weight: bold\">]</span> Retrieving game with <span style=\"color: #808000; text-decoration-color: #808000\">id</span>=<span style=\"color: #800080; text-decoration-color: #800080\">f82a83dd</span>                                <a href=\"file:///usr/local/lib/python3.11/dist-packages/soccerdata/fbref.py\" target=\"_blank\"><span style=\"color: #7f7f7f; text-decoration-color: #7f7f7f\">fbref.py</span></a><span style=\"color: #7f7f7f; text-decoration-color: #7f7f7f\">:</span><a href=\"file:///usr/local/lib/python3.11/dist-packages/soccerdata/fbref.py#815\" target=\"_blank\"><span style=\"color: #7f7f7f; text-decoration-color: #7f7f7f\">815</span></a>\n",
              "</pre>\n"
            ]
          },
          "metadata": {}
        },
        {
          "output_type": "display_data",
          "data": {
            "text/plain": [
              "\u001b[2;36m[01/27/25 23:02:45]\u001b[0m\u001b[2;36m \u001b[0m\u001b[34mINFO    \u001b[0m \u001b[1m[\u001b[0m\u001b[1;36m129\u001b[0m/\u001b[1;36m380\u001b[0m\u001b[1m]\u001b[0m Retrieving game with \u001b[33mid\u001b[0m=\u001b[35m83db7754\u001b[0m                                \u001b]8;id=243033;file:///usr/local/lib/python3.11/dist-packages/soccerdata/fbref.py\u001b\\\u001b[2mfbref.py\u001b[0m\u001b]8;;\u001b\\\u001b[2m:\u001b[0m\u001b]8;id=4210;file:///usr/local/lib/python3.11/dist-packages/soccerdata/fbref.py#815\u001b\\\u001b[2m815\u001b[0m\u001b]8;;\u001b\\\n"
            ],
            "text/html": [
              "<pre style=\"white-space:pre;overflow-x:auto;line-height:normal;font-family:Menlo,'DejaVu Sans Mono',consolas,'Courier New',monospace\"><span style=\"color: #7fbfbf; text-decoration-color: #7fbfbf\">[01/27/25 23:02:45] </span><span style=\"color: #000080; text-decoration-color: #000080\">INFO    </span> <span style=\"font-weight: bold\">[</span><span style=\"color: #008080; text-decoration-color: #008080; font-weight: bold\">129</span>/<span style=\"color: #008080; text-decoration-color: #008080; font-weight: bold\">380</span><span style=\"font-weight: bold\">]</span> Retrieving game with <span style=\"color: #808000; text-decoration-color: #808000\">id</span>=<span style=\"color: #800080; text-decoration-color: #800080\">83db7754</span>                                <a href=\"file:///usr/local/lib/python3.11/dist-packages/soccerdata/fbref.py\" target=\"_blank\"><span style=\"color: #7f7f7f; text-decoration-color: #7f7f7f\">fbref.py</span></a><span style=\"color: #7f7f7f; text-decoration-color: #7f7f7f\">:</span><a href=\"file:///usr/local/lib/python3.11/dist-packages/soccerdata/fbref.py#815\" target=\"_blank\"><span style=\"color: #7f7f7f; text-decoration-color: #7f7f7f\">815</span></a>\n",
              "</pre>\n"
            ]
          },
          "metadata": {}
        },
        {
          "output_type": "display_data",
          "data": {
            "text/plain": [
              "\u001b[2;36m[01/27/25 23:02:52]\u001b[0m\u001b[2;36m \u001b[0m\u001b[34mINFO    \u001b[0m \u001b[1m[\u001b[0m\u001b[1;36m130\u001b[0m/\u001b[1;36m380\u001b[0m\u001b[1m]\u001b[0m Retrieving game with \u001b[33mid\u001b[0m=\u001b[35mb19cc422\u001b[0m                                \u001b]8;id=164581;file:///usr/local/lib/python3.11/dist-packages/soccerdata/fbref.py\u001b\\\u001b[2mfbref.py\u001b[0m\u001b]8;;\u001b\\\u001b[2m:\u001b[0m\u001b]8;id=220246;file:///usr/local/lib/python3.11/dist-packages/soccerdata/fbref.py#815\u001b\\\u001b[2m815\u001b[0m\u001b]8;;\u001b\\\n"
            ],
            "text/html": [
              "<pre style=\"white-space:pre;overflow-x:auto;line-height:normal;font-family:Menlo,'DejaVu Sans Mono',consolas,'Courier New',monospace\"><span style=\"color: #7fbfbf; text-decoration-color: #7fbfbf\">[01/27/25 23:02:52] </span><span style=\"color: #000080; text-decoration-color: #000080\">INFO    </span> <span style=\"font-weight: bold\">[</span><span style=\"color: #008080; text-decoration-color: #008080; font-weight: bold\">130</span>/<span style=\"color: #008080; text-decoration-color: #008080; font-weight: bold\">380</span><span style=\"font-weight: bold\">]</span> Retrieving game with <span style=\"color: #808000; text-decoration-color: #808000\">id</span>=<span style=\"color: #800080; text-decoration-color: #800080\">b19cc422</span>                                <a href=\"file:///usr/local/lib/python3.11/dist-packages/soccerdata/fbref.py\" target=\"_blank\"><span style=\"color: #7f7f7f; text-decoration-color: #7f7f7f\">fbref.py</span></a><span style=\"color: #7f7f7f; text-decoration-color: #7f7f7f\">:</span><a href=\"file:///usr/local/lib/python3.11/dist-packages/soccerdata/fbref.py#815\" target=\"_blank\"><span style=\"color: #7f7f7f; text-decoration-color: #7f7f7f\">815</span></a>\n",
              "</pre>\n"
            ]
          },
          "metadata": {}
        },
        {
          "output_type": "display_data",
          "data": {
            "text/plain": [
              "\u001b[2;36m[01/27/25 23:02:58]\u001b[0m\u001b[2;36m \u001b[0m\u001b[34mINFO    \u001b[0m \u001b[1m[\u001b[0m\u001b[1;36m131\u001b[0m/\u001b[1;36m380\u001b[0m\u001b[1m]\u001b[0m Retrieving game with \u001b[33mid\u001b[0m=\u001b[35m6e65df8e\u001b[0m                                \u001b]8;id=972245;file:///usr/local/lib/python3.11/dist-packages/soccerdata/fbref.py\u001b\\\u001b[2mfbref.py\u001b[0m\u001b]8;;\u001b\\\u001b[2m:\u001b[0m\u001b]8;id=833323;file:///usr/local/lib/python3.11/dist-packages/soccerdata/fbref.py#815\u001b\\\u001b[2m815\u001b[0m\u001b]8;;\u001b\\\n"
            ],
            "text/html": [
              "<pre style=\"white-space:pre;overflow-x:auto;line-height:normal;font-family:Menlo,'DejaVu Sans Mono',consolas,'Courier New',monospace\"><span style=\"color: #7fbfbf; text-decoration-color: #7fbfbf\">[01/27/25 23:02:58] </span><span style=\"color: #000080; text-decoration-color: #000080\">INFO    </span> <span style=\"font-weight: bold\">[</span><span style=\"color: #008080; text-decoration-color: #008080; font-weight: bold\">131</span>/<span style=\"color: #008080; text-decoration-color: #008080; font-weight: bold\">380</span><span style=\"font-weight: bold\">]</span> Retrieving game with <span style=\"color: #808000; text-decoration-color: #808000\">id</span>=<span style=\"color: #800080; text-decoration-color: #800080\">6e65df8e</span>                                <a href=\"file:///usr/local/lib/python3.11/dist-packages/soccerdata/fbref.py\" target=\"_blank\"><span style=\"color: #7f7f7f; text-decoration-color: #7f7f7f\">fbref.py</span></a><span style=\"color: #7f7f7f; text-decoration-color: #7f7f7f\">:</span><a href=\"file:///usr/local/lib/python3.11/dist-packages/soccerdata/fbref.py#815\" target=\"_blank\"><span style=\"color: #7f7f7f; text-decoration-color: #7f7f7f\">815</span></a>\n",
              "</pre>\n"
            ]
          },
          "metadata": {}
        },
        {
          "output_type": "display_data",
          "data": {
            "text/plain": [
              "\u001b[2;36m[01/27/25 23:03:04]\u001b[0m\u001b[2;36m \u001b[0m\u001b[34mINFO    \u001b[0m \u001b[1m[\u001b[0m\u001b[1;36m132\u001b[0m/\u001b[1;36m380\u001b[0m\u001b[1m]\u001b[0m Retrieving game with \u001b[33mid\u001b[0m=\u001b[35m0f71f535\u001b[0m                                \u001b]8;id=476242;file:///usr/local/lib/python3.11/dist-packages/soccerdata/fbref.py\u001b\\\u001b[2mfbref.py\u001b[0m\u001b]8;;\u001b\\\u001b[2m:\u001b[0m\u001b]8;id=793567;file:///usr/local/lib/python3.11/dist-packages/soccerdata/fbref.py#815\u001b\\\u001b[2m815\u001b[0m\u001b]8;;\u001b\\\n"
            ],
            "text/html": [
              "<pre style=\"white-space:pre;overflow-x:auto;line-height:normal;font-family:Menlo,'DejaVu Sans Mono',consolas,'Courier New',monospace\"><span style=\"color: #7fbfbf; text-decoration-color: #7fbfbf\">[01/27/25 23:03:04] </span><span style=\"color: #000080; text-decoration-color: #000080\">INFO    </span> <span style=\"font-weight: bold\">[</span><span style=\"color: #008080; text-decoration-color: #008080; font-weight: bold\">132</span>/<span style=\"color: #008080; text-decoration-color: #008080; font-weight: bold\">380</span><span style=\"font-weight: bold\">]</span> Retrieving game with <span style=\"color: #808000; text-decoration-color: #808000\">id</span>=<span style=\"color: #800080; text-decoration-color: #800080\">0f71f535</span>                                <a href=\"file:///usr/local/lib/python3.11/dist-packages/soccerdata/fbref.py\" target=\"_blank\"><span style=\"color: #7f7f7f; text-decoration-color: #7f7f7f\">fbref.py</span></a><span style=\"color: #7f7f7f; text-decoration-color: #7f7f7f\">:</span><a href=\"file:///usr/local/lib/python3.11/dist-packages/soccerdata/fbref.py#815\" target=\"_blank\"><span style=\"color: #7f7f7f; text-decoration-color: #7f7f7f\">815</span></a>\n",
              "</pre>\n"
            ]
          },
          "metadata": {}
        },
        {
          "output_type": "display_data",
          "data": {
            "text/plain": [
              "\u001b[2;36m[01/27/25 23:03:11]\u001b[0m\u001b[2;36m \u001b[0m\u001b[34mINFO    \u001b[0m \u001b[1m[\u001b[0m\u001b[1;36m133\u001b[0m/\u001b[1;36m380\u001b[0m\u001b[1m]\u001b[0m Retrieving game with \u001b[33mid\u001b[0m=\u001b[35me2c53b0a\u001b[0m                                \u001b]8;id=231331;file:///usr/local/lib/python3.11/dist-packages/soccerdata/fbref.py\u001b\\\u001b[2mfbref.py\u001b[0m\u001b]8;;\u001b\\\u001b[2m:\u001b[0m\u001b]8;id=142665;file:///usr/local/lib/python3.11/dist-packages/soccerdata/fbref.py#815\u001b\\\u001b[2m815\u001b[0m\u001b]8;;\u001b\\\n"
            ],
            "text/html": [
              "<pre style=\"white-space:pre;overflow-x:auto;line-height:normal;font-family:Menlo,'DejaVu Sans Mono',consolas,'Courier New',monospace\"><span style=\"color: #7fbfbf; text-decoration-color: #7fbfbf\">[01/27/25 23:03:11] </span><span style=\"color: #000080; text-decoration-color: #000080\">INFO    </span> <span style=\"font-weight: bold\">[</span><span style=\"color: #008080; text-decoration-color: #008080; font-weight: bold\">133</span>/<span style=\"color: #008080; text-decoration-color: #008080; font-weight: bold\">380</span><span style=\"font-weight: bold\">]</span> Retrieving game with <span style=\"color: #808000; text-decoration-color: #808000\">id</span>=<span style=\"color: #800080; text-decoration-color: #800080\">e2c53b0a</span>                                <a href=\"file:///usr/local/lib/python3.11/dist-packages/soccerdata/fbref.py\" target=\"_blank\"><span style=\"color: #7f7f7f; text-decoration-color: #7f7f7f\">fbref.py</span></a><span style=\"color: #7f7f7f; text-decoration-color: #7f7f7f\">:</span><a href=\"file:///usr/local/lib/python3.11/dist-packages/soccerdata/fbref.py#815\" target=\"_blank\"><span style=\"color: #7f7f7f; text-decoration-color: #7f7f7f\">815</span></a>\n",
              "</pre>\n"
            ]
          },
          "metadata": {}
        },
        {
          "output_type": "display_data",
          "data": {
            "text/plain": [
              "\u001b[2;36m[01/27/25 23:03:17]\u001b[0m\u001b[2;36m \u001b[0m\u001b[34mINFO    \u001b[0m \u001b[1m[\u001b[0m\u001b[1;36m134\u001b[0m/\u001b[1;36m380\u001b[0m\u001b[1m]\u001b[0m Retrieving game with \u001b[33mid\u001b[0m=\u001b[35m66a1f3ac\u001b[0m                                \u001b]8;id=747765;file:///usr/local/lib/python3.11/dist-packages/soccerdata/fbref.py\u001b\\\u001b[2mfbref.py\u001b[0m\u001b]8;;\u001b\\\u001b[2m:\u001b[0m\u001b]8;id=819803;file:///usr/local/lib/python3.11/dist-packages/soccerdata/fbref.py#815\u001b\\\u001b[2m815\u001b[0m\u001b]8;;\u001b\\\n"
            ],
            "text/html": [
              "<pre style=\"white-space:pre;overflow-x:auto;line-height:normal;font-family:Menlo,'DejaVu Sans Mono',consolas,'Courier New',monospace\"><span style=\"color: #7fbfbf; text-decoration-color: #7fbfbf\">[01/27/25 23:03:17] </span><span style=\"color: #000080; text-decoration-color: #000080\">INFO    </span> <span style=\"font-weight: bold\">[</span><span style=\"color: #008080; text-decoration-color: #008080; font-weight: bold\">134</span>/<span style=\"color: #008080; text-decoration-color: #008080; font-weight: bold\">380</span><span style=\"font-weight: bold\">]</span> Retrieving game with <span style=\"color: #808000; text-decoration-color: #808000\">id</span>=<span style=\"color: #800080; text-decoration-color: #800080\">66a1f3ac</span>                                <a href=\"file:///usr/local/lib/python3.11/dist-packages/soccerdata/fbref.py\" target=\"_blank\"><span style=\"color: #7f7f7f; text-decoration-color: #7f7f7f\">fbref.py</span></a><span style=\"color: #7f7f7f; text-decoration-color: #7f7f7f\">:</span><a href=\"file:///usr/local/lib/python3.11/dist-packages/soccerdata/fbref.py#815\" target=\"_blank\"><span style=\"color: #7f7f7f; text-decoration-color: #7f7f7f\">815</span></a>\n",
              "</pre>\n"
            ]
          },
          "metadata": {}
        },
        {
          "output_type": "display_data",
          "data": {
            "text/plain": [
              "\u001b[2;36m[01/27/25 23:03:23]\u001b[0m\u001b[2;36m \u001b[0m\u001b[34mINFO    \u001b[0m \u001b[1m[\u001b[0m\u001b[1;36m135\u001b[0m/\u001b[1;36m380\u001b[0m\u001b[1m]\u001b[0m Retrieving game with \u001b[33mid\u001b[0m=\u001b[35m0486198b\u001b[0m                                \u001b]8;id=298437;file:///usr/local/lib/python3.11/dist-packages/soccerdata/fbref.py\u001b\\\u001b[2mfbref.py\u001b[0m\u001b]8;;\u001b\\\u001b[2m:\u001b[0m\u001b]8;id=489512;file:///usr/local/lib/python3.11/dist-packages/soccerdata/fbref.py#815\u001b\\\u001b[2m815\u001b[0m\u001b]8;;\u001b\\\n"
            ],
            "text/html": [
              "<pre style=\"white-space:pre;overflow-x:auto;line-height:normal;font-family:Menlo,'DejaVu Sans Mono',consolas,'Courier New',monospace\"><span style=\"color: #7fbfbf; text-decoration-color: #7fbfbf\">[01/27/25 23:03:23] </span><span style=\"color: #000080; text-decoration-color: #000080\">INFO    </span> <span style=\"font-weight: bold\">[</span><span style=\"color: #008080; text-decoration-color: #008080; font-weight: bold\">135</span>/<span style=\"color: #008080; text-decoration-color: #008080; font-weight: bold\">380</span><span style=\"font-weight: bold\">]</span> Retrieving game with <span style=\"color: #808000; text-decoration-color: #808000\">id</span>=<span style=\"color: #800080; text-decoration-color: #800080\">0486198b</span>                                <a href=\"file:///usr/local/lib/python3.11/dist-packages/soccerdata/fbref.py\" target=\"_blank\"><span style=\"color: #7f7f7f; text-decoration-color: #7f7f7f\">fbref.py</span></a><span style=\"color: #7f7f7f; text-decoration-color: #7f7f7f\">:</span><a href=\"file:///usr/local/lib/python3.11/dist-packages/soccerdata/fbref.py#815\" target=\"_blank\"><span style=\"color: #7f7f7f; text-decoration-color: #7f7f7f\">815</span></a>\n",
              "</pre>\n"
            ]
          },
          "metadata": {}
        },
        {
          "output_type": "display_data",
          "data": {
            "text/plain": [
              "\u001b[2;36m[01/27/25 23:03:30]\u001b[0m\u001b[2;36m \u001b[0m\u001b[34mINFO    \u001b[0m \u001b[1m[\u001b[0m\u001b[1;36m136\u001b[0m/\u001b[1;36m380\u001b[0m\u001b[1m]\u001b[0m Retrieving game with \u001b[33mid\u001b[0m=\u001b[1;36m19533403\u001b[0m                                \u001b]8;id=433978;file:///usr/local/lib/python3.11/dist-packages/soccerdata/fbref.py\u001b\\\u001b[2mfbref.py\u001b[0m\u001b]8;;\u001b\\\u001b[2m:\u001b[0m\u001b]8;id=962786;file:///usr/local/lib/python3.11/dist-packages/soccerdata/fbref.py#815\u001b\\\u001b[2m815\u001b[0m\u001b]8;;\u001b\\\n"
            ],
            "text/html": [
              "<pre style=\"white-space:pre;overflow-x:auto;line-height:normal;font-family:Menlo,'DejaVu Sans Mono',consolas,'Courier New',monospace\"><span style=\"color: #7fbfbf; text-decoration-color: #7fbfbf\">[01/27/25 23:03:30] </span><span style=\"color: #000080; text-decoration-color: #000080\">INFO    </span> <span style=\"font-weight: bold\">[</span><span style=\"color: #008080; text-decoration-color: #008080; font-weight: bold\">136</span>/<span style=\"color: #008080; text-decoration-color: #008080; font-weight: bold\">380</span><span style=\"font-weight: bold\">]</span> Retrieving game with <span style=\"color: #808000; text-decoration-color: #808000\">id</span>=<span style=\"color: #008080; text-decoration-color: #008080; font-weight: bold\">19533403</span>                                <a href=\"file:///usr/local/lib/python3.11/dist-packages/soccerdata/fbref.py\" target=\"_blank\"><span style=\"color: #7f7f7f; text-decoration-color: #7f7f7f\">fbref.py</span></a><span style=\"color: #7f7f7f; text-decoration-color: #7f7f7f\">:</span><a href=\"file:///usr/local/lib/python3.11/dist-packages/soccerdata/fbref.py#815\" target=\"_blank\"><span style=\"color: #7f7f7f; text-decoration-color: #7f7f7f\">815</span></a>\n",
              "</pre>\n"
            ]
          },
          "metadata": {}
        },
        {
          "output_type": "display_data",
          "data": {
            "text/plain": [
              "\u001b[2;36m[01/27/25 23:03:36]\u001b[0m\u001b[2;36m \u001b[0m\u001b[34mINFO    \u001b[0m \u001b[1m[\u001b[0m\u001b[1;36m137\u001b[0m/\u001b[1;36m380\u001b[0m\u001b[1m]\u001b[0m Retrieving game with \u001b[33mid\u001b[0m=\u001b[35m86b7d24f\u001b[0m                                \u001b]8;id=183019;file:///usr/local/lib/python3.11/dist-packages/soccerdata/fbref.py\u001b\\\u001b[2mfbref.py\u001b[0m\u001b]8;;\u001b\\\u001b[2m:\u001b[0m\u001b]8;id=454989;file:///usr/local/lib/python3.11/dist-packages/soccerdata/fbref.py#815\u001b\\\u001b[2m815\u001b[0m\u001b]8;;\u001b\\\n"
            ],
            "text/html": [
              "<pre style=\"white-space:pre;overflow-x:auto;line-height:normal;font-family:Menlo,'DejaVu Sans Mono',consolas,'Courier New',monospace\"><span style=\"color: #7fbfbf; text-decoration-color: #7fbfbf\">[01/27/25 23:03:36] </span><span style=\"color: #000080; text-decoration-color: #000080\">INFO    </span> <span style=\"font-weight: bold\">[</span><span style=\"color: #008080; text-decoration-color: #008080; font-weight: bold\">137</span>/<span style=\"color: #008080; text-decoration-color: #008080; font-weight: bold\">380</span><span style=\"font-weight: bold\">]</span> Retrieving game with <span style=\"color: #808000; text-decoration-color: #808000\">id</span>=<span style=\"color: #800080; text-decoration-color: #800080\">86b7d24f</span>                                <a href=\"file:///usr/local/lib/python3.11/dist-packages/soccerdata/fbref.py\" target=\"_blank\"><span style=\"color: #7f7f7f; text-decoration-color: #7f7f7f\">fbref.py</span></a><span style=\"color: #7f7f7f; text-decoration-color: #7f7f7f\">:</span><a href=\"file:///usr/local/lib/python3.11/dist-packages/soccerdata/fbref.py#815\" target=\"_blank\"><span style=\"color: #7f7f7f; text-decoration-color: #7f7f7f\">815</span></a>\n",
              "</pre>\n"
            ]
          },
          "metadata": {}
        },
        {
          "output_type": "display_data",
          "data": {
            "text/plain": [
              "\u001b[2;36m[01/27/25 23:03:42]\u001b[0m\u001b[2;36m \u001b[0m\u001b[34mINFO    \u001b[0m \u001b[1m[\u001b[0m\u001b[1;36m138\u001b[0m/\u001b[1;36m380\u001b[0m\u001b[1m]\u001b[0m Retrieving game with \u001b[33mid\u001b[0m=\u001b[35m4b7e6f44\u001b[0m                                \u001b]8;id=39569;file:///usr/local/lib/python3.11/dist-packages/soccerdata/fbref.py\u001b\\\u001b[2mfbref.py\u001b[0m\u001b]8;;\u001b\\\u001b[2m:\u001b[0m\u001b]8;id=960154;file:///usr/local/lib/python3.11/dist-packages/soccerdata/fbref.py#815\u001b\\\u001b[2m815\u001b[0m\u001b]8;;\u001b\\\n"
            ],
            "text/html": [
              "<pre style=\"white-space:pre;overflow-x:auto;line-height:normal;font-family:Menlo,'DejaVu Sans Mono',consolas,'Courier New',monospace\"><span style=\"color: #7fbfbf; text-decoration-color: #7fbfbf\">[01/27/25 23:03:42] </span><span style=\"color: #000080; text-decoration-color: #000080\">INFO    </span> <span style=\"font-weight: bold\">[</span><span style=\"color: #008080; text-decoration-color: #008080; font-weight: bold\">138</span>/<span style=\"color: #008080; text-decoration-color: #008080; font-weight: bold\">380</span><span style=\"font-weight: bold\">]</span> Retrieving game with <span style=\"color: #808000; text-decoration-color: #808000\">id</span>=<span style=\"color: #800080; text-decoration-color: #800080\">4b7e6f44</span>                                <a href=\"file:///usr/local/lib/python3.11/dist-packages/soccerdata/fbref.py\" target=\"_blank\"><span style=\"color: #7f7f7f; text-decoration-color: #7f7f7f\">fbref.py</span></a><span style=\"color: #7f7f7f; text-decoration-color: #7f7f7f\">:</span><a href=\"file:///usr/local/lib/python3.11/dist-packages/soccerdata/fbref.py#815\" target=\"_blank\"><span style=\"color: #7f7f7f; text-decoration-color: #7f7f7f\">815</span></a>\n",
              "</pre>\n"
            ]
          },
          "metadata": {}
        },
        {
          "output_type": "display_data",
          "data": {
            "text/plain": [
              "\u001b[2;36m[01/27/25 23:03:49]\u001b[0m\u001b[2;36m \u001b[0m\u001b[34mINFO    \u001b[0m \u001b[1m[\u001b[0m\u001b[1;36m139\u001b[0m/\u001b[1;36m380\u001b[0m\u001b[1m]\u001b[0m Retrieving game with \u001b[33mid\u001b[0m=\u001b[35m0e39f016\u001b[0m                                \u001b]8;id=513590;file:///usr/local/lib/python3.11/dist-packages/soccerdata/fbref.py\u001b\\\u001b[2mfbref.py\u001b[0m\u001b]8;;\u001b\\\u001b[2m:\u001b[0m\u001b]8;id=829202;file:///usr/local/lib/python3.11/dist-packages/soccerdata/fbref.py#815\u001b\\\u001b[2m815\u001b[0m\u001b]8;;\u001b\\\n"
            ],
            "text/html": [
              "<pre style=\"white-space:pre;overflow-x:auto;line-height:normal;font-family:Menlo,'DejaVu Sans Mono',consolas,'Courier New',monospace\"><span style=\"color: #7fbfbf; text-decoration-color: #7fbfbf\">[01/27/25 23:03:49] </span><span style=\"color: #000080; text-decoration-color: #000080\">INFO    </span> <span style=\"font-weight: bold\">[</span><span style=\"color: #008080; text-decoration-color: #008080; font-weight: bold\">139</span>/<span style=\"color: #008080; text-decoration-color: #008080; font-weight: bold\">380</span><span style=\"font-weight: bold\">]</span> Retrieving game with <span style=\"color: #808000; text-decoration-color: #808000\">id</span>=<span style=\"color: #800080; text-decoration-color: #800080\">0e39f016</span>                                <a href=\"file:///usr/local/lib/python3.11/dist-packages/soccerdata/fbref.py\" target=\"_blank\"><span style=\"color: #7f7f7f; text-decoration-color: #7f7f7f\">fbref.py</span></a><span style=\"color: #7f7f7f; text-decoration-color: #7f7f7f\">:</span><a href=\"file:///usr/local/lib/python3.11/dist-packages/soccerdata/fbref.py#815\" target=\"_blank\"><span style=\"color: #7f7f7f; text-decoration-color: #7f7f7f\">815</span></a>\n",
              "</pre>\n"
            ]
          },
          "metadata": {}
        },
        {
          "output_type": "display_data",
          "data": {
            "text/plain": [
              "\u001b[2;36m[01/27/25 23:03:55]\u001b[0m\u001b[2;36m \u001b[0m\u001b[34mINFO    \u001b[0m \u001b[1m[\u001b[0m\u001b[1;36m140\u001b[0m/\u001b[1;36m380\u001b[0m\u001b[1m]\u001b[0m Retrieving game with \u001b[33mid\u001b[0m=\u001b[35mf7fb8049\u001b[0m                                \u001b]8;id=417319;file:///usr/local/lib/python3.11/dist-packages/soccerdata/fbref.py\u001b\\\u001b[2mfbref.py\u001b[0m\u001b]8;;\u001b\\\u001b[2m:\u001b[0m\u001b]8;id=495972;file:///usr/local/lib/python3.11/dist-packages/soccerdata/fbref.py#815\u001b\\\u001b[2m815\u001b[0m\u001b]8;;\u001b\\\n"
            ],
            "text/html": [
              "<pre style=\"white-space:pre;overflow-x:auto;line-height:normal;font-family:Menlo,'DejaVu Sans Mono',consolas,'Courier New',monospace\"><span style=\"color: #7fbfbf; text-decoration-color: #7fbfbf\">[01/27/25 23:03:55] </span><span style=\"color: #000080; text-decoration-color: #000080\">INFO    </span> <span style=\"font-weight: bold\">[</span><span style=\"color: #008080; text-decoration-color: #008080; font-weight: bold\">140</span>/<span style=\"color: #008080; text-decoration-color: #008080; font-weight: bold\">380</span><span style=\"font-weight: bold\">]</span> Retrieving game with <span style=\"color: #808000; text-decoration-color: #808000\">id</span>=<span style=\"color: #800080; text-decoration-color: #800080\">f7fb8049</span>                                <a href=\"file:///usr/local/lib/python3.11/dist-packages/soccerdata/fbref.py\" target=\"_blank\"><span style=\"color: #7f7f7f; text-decoration-color: #7f7f7f\">fbref.py</span></a><span style=\"color: #7f7f7f; text-decoration-color: #7f7f7f\">:</span><a href=\"file:///usr/local/lib/python3.11/dist-packages/soccerdata/fbref.py#815\" target=\"_blank\"><span style=\"color: #7f7f7f; text-decoration-color: #7f7f7f\">815</span></a>\n",
              "</pre>\n"
            ]
          },
          "metadata": {}
        },
        {
          "output_type": "display_data",
          "data": {
            "text/plain": [
              "\u001b[2;36m[01/27/25 23:04:01]\u001b[0m\u001b[2;36m \u001b[0m\u001b[34mINFO    \u001b[0m \u001b[1m[\u001b[0m\u001b[1;36m141\u001b[0m/\u001b[1;36m380\u001b[0m\u001b[1m]\u001b[0m Retrieving game with \u001b[33mid\u001b[0m=\u001b[35mdd3a5afc\u001b[0m                                \u001b]8;id=893628;file:///usr/local/lib/python3.11/dist-packages/soccerdata/fbref.py\u001b\\\u001b[2mfbref.py\u001b[0m\u001b]8;;\u001b\\\u001b[2m:\u001b[0m\u001b]8;id=780077;file:///usr/local/lib/python3.11/dist-packages/soccerdata/fbref.py#815\u001b\\\u001b[2m815\u001b[0m\u001b]8;;\u001b\\\n"
            ],
            "text/html": [
              "<pre style=\"white-space:pre;overflow-x:auto;line-height:normal;font-family:Menlo,'DejaVu Sans Mono',consolas,'Courier New',monospace\"><span style=\"color: #7fbfbf; text-decoration-color: #7fbfbf\">[01/27/25 23:04:01] </span><span style=\"color: #000080; text-decoration-color: #000080\">INFO    </span> <span style=\"font-weight: bold\">[</span><span style=\"color: #008080; text-decoration-color: #008080; font-weight: bold\">141</span>/<span style=\"color: #008080; text-decoration-color: #008080; font-weight: bold\">380</span><span style=\"font-weight: bold\">]</span> Retrieving game with <span style=\"color: #808000; text-decoration-color: #808000\">id</span>=<span style=\"color: #800080; text-decoration-color: #800080\">dd3a5afc</span>                                <a href=\"file:///usr/local/lib/python3.11/dist-packages/soccerdata/fbref.py\" target=\"_blank\"><span style=\"color: #7f7f7f; text-decoration-color: #7f7f7f\">fbref.py</span></a><span style=\"color: #7f7f7f; text-decoration-color: #7f7f7f\">:</span><a href=\"file:///usr/local/lib/python3.11/dist-packages/soccerdata/fbref.py#815\" target=\"_blank\"><span style=\"color: #7f7f7f; text-decoration-color: #7f7f7f\">815</span></a>\n",
              "</pre>\n"
            ]
          },
          "metadata": {}
        },
        {
          "output_type": "display_data",
          "data": {
            "text/plain": [
              "\u001b[2;36m[01/27/25 23:04:08]\u001b[0m\u001b[2;36m \u001b[0m\u001b[34mINFO    \u001b[0m \u001b[1m[\u001b[0m\u001b[1;36m142\u001b[0m/\u001b[1;36m380\u001b[0m\u001b[1m]\u001b[0m Retrieving game with \u001b[33mid\u001b[0m=\u001b[35ma52ffb27\u001b[0m                                \u001b]8;id=937108;file:///usr/local/lib/python3.11/dist-packages/soccerdata/fbref.py\u001b\\\u001b[2mfbref.py\u001b[0m\u001b]8;;\u001b\\\u001b[2m:\u001b[0m\u001b]8;id=941376;file:///usr/local/lib/python3.11/dist-packages/soccerdata/fbref.py#815\u001b\\\u001b[2m815\u001b[0m\u001b]8;;\u001b\\\n"
            ],
            "text/html": [
              "<pre style=\"white-space:pre;overflow-x:auto;line-height:normal;font-family:Menlo,'DejaVu Sans Mono',consolas,'Courier New',monospace\"><span style=\"color: #7fbfbf; text-decoration-color: #7fbfbf\">[01/27/25 23:04:08] </span><span style=\"color: #000080; text-decoration-color: #000080\">INFO    </span> <span style=\"font-weight: bold\">[</span><span style=\"color: #008080; text-decoration-color: #008080; font-weight: bold\">142</span>/<span style=\"color: #008080; text-decoration-color: #008080; font-weight: bold\">380</span><span style=\"font-weight: bold\">]</span> Retrieving game with <span style=\"color: #808000; text-decoration-color: #808000\">id</span>=<span style=\"color: #800080; text-decoration-color: #800080\">a52ffb27</span>                                <a href=\"file:///usr/local/lib/python3.11/dist-packages/soccerdata/fbref.py\" target=\"_blank\"><span style=\"color: #7f7f7f; text-decoration-color: #7f7f7f\">fbref.py</span></a><span style=\"color: #7f7f7f; text-decoration-color: #7f7f7f\">:</span><a href=\"file:///usr/local/lib/python3.11/dist-packages/soccerdata/fbref.py#815\" target=\"_blank\"><span style=\"color: #7f7f7f; text-decoration-color: #7f7f7f\">815</span></a>\n",
              "</pre>\n"
            ]
          },
          "metadata": {}
        },
        {
          "output_type": "display_data",
          "data": {
            "text/plain": [
              "\u001b[2;36m[01/27/25 23:04:14]\u001b[0m\u001b[2;36m \u001b[0m\u001b[34mINFO    \u001b[0m \u001b[1m[\u001b[0m\u001b[1;36m143\u001b[0m/\u001b[1;36m380\u001b[0m\u001b[1m]\u001b[0m Retrieving game with \u001b[33mid\u001b[0m=\u001b[35m0ad90506\u001b[0m                                \u001b]8;id=859234;file:///usr/local/lib/python3.11/dist-packages/soccerdata/fbref.py\u001b\\\u001b[2mfbref.py\u001b[0m\u001b]8;;\u001b\\\u001b[2m:\u001b[0m\u001b]8;id=478471;file:///usr/local/lib/python3.11/dist-packages/soccerdata/fbref.py#815\u001b\\\u001b[2m815\u001b[0m\u001b]8;;\u001b\\\n"
            ],
            "text/html": [
              "<pre style=\"white-space:pre;overflow-x:auto;line-height:normal;font-family:Menlo,'DejaVu Sans Mono',consolas,'Courier New',monospace\"><span style=\"color: #7fbfbf; text-decoration-color: #7fbfbf\">[01/27/25 23:04:14] </span><span style=\"color: #000080; text-decoration-color: #000080\">INFO    </span> <span style=\"font-weight: bold\">[</span><span style=\"color: #008080; text-decoration-color: #008080; font-weight: bold\">143</span>/<span style=\"color: #008080; text-decoration-color: #008080; font-weight: bold\">380</span><span style=\"font-weight: bold\">]</span> Retrieving game with <span style=\"color: #808000; text-decoration-color: #808000\">id</span>=<span style=\"color: #800080; text-decoration-color: #800080\">0ad90506</span>                                <a href=\"file:///usr/local/lib/python3.11/dist-packages/soccerdata/fbref.py\" target=\"_blank\"><span style=\"color: #7f7f7f; text-decoration-color: #7f7f7f\">fbref.py</span></a><span style=\"color: #7f7f7f; text-decoration-color: #7f7f7f\">:</span><a href=\"file:///usr/local/lib/python3.11/dist-packages/soccerdata/fbref.py#815\" target=\"_blank\"><span style=\"color: #7f7f7f; text-decoration-color: #7f7f7f\">815</span></a>\n",
              "</pre>\n"
            ]
          },
          "metadata": {}
        },
        {
          "output_type": "display_data",
          "data": {
            "text/plain": [
              "\u001b[2;36m[01/27/25 23:04:20]\u001b[0m\u001b[2;36m \u001b[0m\u001b[34mINFO    \u001b[0m \u001b[1m[\u001b[0m\u001b[1;36m144\u001b[0m/\u001b[1;36m380\u001b[0m\u001b[1m]\u001b[0m Retrieving game with \u001b[33mid\u001b[0m=\u001b[35m75d21da8\u001b[0m                                \u001b]8;id=543257;file:///usr/local/lib/python3.11/dist-packages/soccerdata/fbref.py\u001b\\\u001b[2mfbref.py\u001b[0m\u001b]8;;\u001b\\\u001b[2m:\u001b[0m\u001b]8;id=956906;file:///usr/local/lib/python3.11/dist-packages/soccerdata/fbref.py#815\u001b\\\u001b[2m815\u001b[0m\u001b]8;;\u001b\\\n"
            ],
            "text/html": [
              "<pre style=\"white-space:pre;overflow-x:auto;line-height:normal;font-family:Menlo,'DejaVu Sans Mono',consolas,'Courier New',monospace\"><span style=\"color: #7fbfbf; text-decoration-color: #7fbfbf\">[01/27/25 23:04:20] </span><span style=\"color: #000080; text-decoration-color: #000080\">INFO    </span> <span style=\"font-weight: bold\">[</span><span style=\"color: #008080; text-decoration-color: #008080; font-weight: bold\">144</span>/<span style=\"color: #008080; text-decoration-color: #008080; font-weight: bold\">380</span><span style=\"font-weight: bold\">]</span> Retrieving game with <span style=\"color: #808000; text-decoration-color: #808000\">id</span>=<span style=\"color: #800080; text-decoration-color: #800080\">75d21da8</span>                                <a href=\"file:///usr/local/lib/python3.11/dist-packages/soccerdata/fbref.py\" target=\"_blank\"><span style=\"color: #7f7f7f; text-decoration-color: #7f7f7f\">fbref.py</span></a><span style=\"color: #7f7f7f; text-decoration-color: #7f7f7f\">:</span><a href=\"file:///usr/local/lib/python3.11/dist-packages/soccerdata/fbref.py#815\" target=\"_blank\"><span style=\"color: #7f7f7f; text-decoration-color: #7f7f7f\">815</span></a>\n",
              "</pre>\n"
            ]
          },
          "metadata": {}
        },
        {
          "output_type": "display_data",
          "data": {
            "text/plain": [
              "\u001b[2;36m[01/27/25 23:04:26]\u001b[0m\u001b[2;36m \u001b[0m\u001b[34mINFO    \u001b[0m \u001b[1m[\u001b[0m\u001b[1;36m145\u001b[0m/\u001b[1;36m380\u001b[0m\u001b[1m]\u001b[0m Retrieving game with \u001b[33mid\u001b[0m=\u001b[35m09909bf8\u001b[0m                                \u001b]8;id=348827;file:///usr/local/lib/python3.11/dist-packages/soccerdata/fbref.py\u001b\\\u001b[2mfbref.py\u001b[0m\u001b]8;;\u001b\\\u001b[2m:\u001b[0m\u001b]8;id=336133;file:///usr/local/lib/python3.11/dist-packages/soccerdata/fbref.py#815\u001b\\\u001b[2m815\u001b[0m\u001b]8;;\u001b\\\n"
            ],
            "text/html": [
              "<pre style=\"white-space:pre;overflow-x:auto;line-height:normal;font-family:Menlo,'DejaVu Sans Mono',consolas,'Courier New',monospace\"><span style=\"color: #7fbfbf; text-decoration-color: #7fbfbf\">[01/27/25 23:04:26] </span><span style=\"color: #000080; text-decoration-color: #000080\">INFO    </span> <span style=\"font-weight: bold\">[</span><span style=\"color: #008080; text-decoration-color: #008080; font-weight: bold\">145</span>/<span style=\"color: #008080; text-decoration-color: #008080; font-weight: bold\">380</span><span style=\"font-weight: bold\">]</span> Retrieving game with <span style=\"color: #808000; text-decoration-color: #808000\">id</span>=<span style=\"color: #800080; text-decoration-color: #800080\">09909bf8</span>                                <a href=\"file:///usr/local/lib/python3.11/dist-packages/soccerdata/fbref.py\" target=\"_blank\"><span style=\"color: #7f7f7f; text-decoration-color: #7f7f7f\">fbref.py</span></a><span style=\"color: #7f7f7f; text-decoration-color: #7f7f7f\">:</span><a href=\"file:///usr/local/lib/python3.11/dist-packages/soccerdata/fbref.py#815\" target=\"_blank\"><span style=\"color: #7f7f7f; text-decoration-color: #7f7f7f\">815</span></a>\n",
              "</pre>\n"
            ]
          },
          "metadata": {}
        },
        {
          "output_type": "display_data",
          "data": {
            "text/plain": [
              "\u001b[2;36m[01/27/25 23:04:33]\u001b[0m\u001b[2;36m \u001b[0m\u001b[34mINFO    \u001b[0m \u001b[1m[\u001b[0m\u001b[1;36m146\u001b[0m/\u001b[1;36m380\u001b[0m\u001b[1m]\u001b[0m Retrieving game with \u001b[33mid\u001b[0m=\u001b[35mfd5606da\u001b[0m                                \u001b]8;id=424664;file:///usr/local/lib/python3.11/dist-packages/soccerdata/fbref.py\u001b\\\u001b[2mfbref.py\u001b[0m\u001b]8;;\u001b\\\u001b[2m:\u001b[0m\u001b]8;id=996162;file:///usr/local/lib/python3.11/dist-packages/soccerdata/fbref.py#815\u001b\\\u001b[2m815\u001b[0m\u001b]8;;\u001b\\\n"
            ],
            "text/html": [
              "<pre style=\"white-space:pre;overflow-x:auto;line-height:normal;font-family:Menlo,'DejaVu Sans Mono',consolas,'Courier New',monospace\"><span style=\"color: #7fbfbf; text-decoration-color: #7fbfbf\">[01/27/25 23:04:33] </span><span style=\"color: #000080; text-decoration-color: #000080\">INFO    </span> <span style=\"font-weight: bold\">[</span><span style=\"color: #008080; text-decoration-color: #008080; font-weight: bold\">146</span>/<span style=\"color: #008080; text-decoration-color: #008080; font-weight: bold\">380</span><span style=\"font-weight: bold\">]</span> Retrieving game with <span style=\"color: #808000; text-decoration-color: #808000\">id</span>=<span style=\"color: #800080; text-decoration-color: #800080\">fd5606da</span>                                <a href=\"file:///usr/local/lib/python3.11/dist-packages/soccerdata/fbref.py\" target=\"_blank\"><span style=\"color: #7f7f7f; text-decoration-color: #7f7f7f\">fbref.py</span></a><span style=\"color: #7f7f7f; text-decoration-color: #7f7f7f\">:</span><a href=\"file:///usr/local/lib/python3.11/dist-packages/soccerdata/fbref.py#815\" target=\"_blank\"><span style=\"color: #7f7f7f; text-decoration-color: #7f7f7f\">815</span></a>\n",
              "</pre>\n"
            ]
          },
          "metadata": {}
        },
        {
          "output_type": "display_data",
          "data": {
            "text/plain": [
              "\u001b[2;36m[01/27/25 23:04:39]\u001b[0m\u001b[2;36m \u001b[0m\u001b[34mINFO    \u001b[0m \u001b[1m[\u001b[0m\u001b[1;36m147\u001b[0m/\u001b[1;36m380\u001b[0m\u001b[1m]\u001b[0m Retrieving game with \u001b[33mid\u001b[0m=\u001b[35m49f486f6\u001b[0m                                \u001b]8;id=606737;file:///usr/local/lib/python3.11/dist-packages/soccerdata/fbref.py\u001b\\\u001b[2mfbref.py\u001b[0m\u001b]8;;\u001b\\\u001b[2m:\u001b[0m\u001b]8;id=283980;file:///usr/local/lib/python3.11/dist-packages/soccerdata/fbref.py#815\u001b\\\u001b[2m815\u001b[0m\u001b]8;;\u001b\\\n"
            ],
            "text/html": [
              "<pre style=\"white-space:pre;overflow-x:auto;line-height:normal;font-family:Menlo,'DejaVu Sans Mono',consolas,'Courier New',monospace\"><span style=\"color: #7fbfbf; text-decoration-color: #7fbfbf\">[01/27/25 23:04:39] </span><span style=\"color: #000080; text-decoration-color: #000080\">INFO    </span> <span style=\"font-weight: bold\">[</span><span style=\"color: #008080; text-decoration-color: #008080; font-weight: bold\">147</span>/<span style=\"color: #008080; text-decoration-color: #008080; font-weight: bold\">380</span><span style=\"font-weight: bold\">]</span> Retrieving game with <span style=\"color: #808000; text-decoration-color: #808000\">id</span>=<span style=\"color: #800080; text-decoration-color: #800080\">49f486f6</span>                                <a href=\"file:///usr/local/lib/python3.11/dist-packages/soccerdata/fbref.py\" target=\"_blank\"><span style=\"color: #7f7f7f; text-decoration-color: #7f7f7f\">fbref.py</span></a><span style=\"color: #7f7f7f; text-decoration-color: #7f7f7f\">:</span><a href=\"file:///usr/local/lib/python3.11/dist-packages/soccerdata/fbref.py#815\" target=\"_blank\"><span style=\"color: #7f7f7f; text-decoration-color: #7f7f7f\">815</span></a>\n",
              "</pre>\n"
            ]
          },
          "metadata": {}
        },
        {
          "output_type": "display_data",
          "data": {
            "text/plain": [
              "\u001b[2;36m[01/27/25 23:04:45]\u001b[0m\u001b[2;36m \u001b[0m\u001b[34mINFO    \u001b[0m \u001b[1m[\u001b[0m\u001b[1;36m148\u001b[0m/\u001b[1;36m380\u001b[0m\u001b[1m]\u001b[0m Retrieving game with \u001b[33mid\u001b[0m=\u001b[35m01aca132\u001b[0m                                \u001b]8;id=46396;file:///usr/local/lib/python3.11/dist-packages/soccerdata/fbref.py\u001b\\\u001b[2mfbref.py\u001b[0m\u001b]8;;\u001b\\\u001b[2m:\u001b[0m\u001b]8;id=690314;file:///usr/local/lib/python3.11/dist-packages/soccerdata/fbref.py#815\u001b\\\u001b[2m815\u001b[0m\u001b]8;;\u001b\\\n"
            ],
            "text/html": [
              "<pre style=\"white-space:pre;overflow-x:auto;line-height:normal;font-family:Menlo,'DejaVu Sans Mono',consolas,'Courier New',monospace\"><span style=\"color: #7fbfbf; text-decoration-color: #7fbfbf\">[01/27/25 23:04:45] </span><span style=\"color: #000080; text-decoration-color: #000080\">INFO    </span> <span style=\"font-weight: bold\">[</span><span style=\"color: #008080; text-decoration-color: #008080; font-weight: bold\">148</span>/<span style=\"color: #008080; text-decoration-color: #008080; font-weight: bold\">380</span><span style=\"font-weight: bold\">]</span> Retrieving game with <span style=\"color: #808000; text-decoration-color: #808000\">id</span>=<span style=\"color: #800080; text-decoration-color: #800080\">01aca132</span>                                <a href=\"file:///usr/local/lib/python3.11/dist-packages/soccerdata/fbref.py\" target=\"_blank\"><span style=\"color: #7f7f7f; text-decoration-color: #7f7f7f\">fbref.py</span></a><span style=\"color: #7f7f7f; text-decoration-color: #7f7f7f\">:</span><a href=\"file:///usr/local/lib/python3.11/dist-packages/soccerdata/fbref.py#815\" target=\"_blank\"><span style=\"color: #7f7f7f; text-decoration-color: #7f7f7f\">815</span></a>\n",
              "</pre>\n"
            ]
          },
          "metadata": {}
        },
        {
          "output_type": "display_data",
          "data": {
            "text/plain": [
              "\u001b[2;36m[01/27/25 23:04:52]\u001b[0m\u001b[2;36m \u001b[0m\u001b[34mINFO    \u001b[0m \u001b[1m[\u001b[0m\u001b[1;36m149\u001b[0m/\u001b[1;36m380\u001b[0m\u001b[1m]\u001b[0m Retrieving game with \u001b[33mid\u001b[0m=\u001b[35m2fe9d766\u001b[0m                                \u001b]8;id=848920;file:///usr/local/lib/python3.11/dist-packages/soccerdata/fbref.py\u001b\\\u001b[2mfbref.py\u001b[0m\u001b]8;;\u001b\\\u001b[2m:\u001b[0m\u001b]8;id=503105;file:///usr/local/lib/python3.11/dist-packages/soccerdata/fbref.py#815\u001b\\\u001b[2m815\u001b[0m\u001b]8;;\u001b\\\n"
            ],
            "text/html": [
              "<pre style=\"white-space:pre;overflow-x:auto;line-height:normal;font-family:Menlo,'DejaVu Sans Mono',consolas,'Courier New',monospace\"><span style=\"color: #7fbfbf; text-decoration-color: #7fbfbf\">[01/27/25 23:04:52] </span><span style=\"color: #000080; text-decoration-color: #000080\">INFO    </span> <span style=\"font-weight: bold\">[</span><span style=\"color: #008080; text-decoration-color: #008080; font-weight: bold\">149</span>/<span style=\"color: #008080; text-decoration-color: #008080; font-weight: bold\">380</span><span style=\"font-weight: bold\">]</span> Retrieving game with <span style=\"color: #808000; text-decoration-color: #808000\">id</span>=<span style=\"color: #800080; text-decoration-color: #800080\">2fe9d766</span>                                <a href=\"file:///usr/local/lib/python3.11/dist-packages/soccerdata/fbref.py\" target=\"_blank\"><span style=\"color: #7f7f7f; text-decoration-color: #7f7f7f\">fbref.py</span></a><span style=\"color: #7f7f7f; text-decoration-color: #7f7f7f\">:</span><a href=\"file:///usr/local/lib/python3.11/dist-packages/soccerdata/fbref.py#815\" target=\"_blank\"><span style=\"color: #7f7f7f; text-decoration-color: #7f7f7f\">815</span></a>\n",
              "</pre>\n"
            ]
          },
          "metadata": {}
        },
        {
          "output_type": "display_data",
          "data": {
            "text/plain": [
              "\u001b[2;36m[01/27/25 23:04:58]\u001b[0m\u001b[2;36m \u001b[0m\u001b[34mINFO    \u001b[0m \u001b[1m[\u001b[0m\u001b[1;36m150\u001b[0m/\u001b[1;36m380\u001b[0m\u001b[1m]\u001b[0m Retrieving game with \u001b[33mid\u001b[0m=\u001b[35m200af033\u001b[0m                                \u001b]8;id=646235;file:///usr/local/lib/python3.11/dist-packages/soccerdata/fbref.py\u001b\\\u001b[2mfbref.py\u001b[0m\u001b]8;;\u001b\\\u001b[2m:\u001b[0m\u001b]8;id=593928;file:///usr/local/lib/python3.11/dist-packages/soccerdata/fbref.py#815\u001b\\\u001b[2m815\u001b[0m\u001b]8;;\u001b\\\n"
            ],
            "text/html": [
              "<pre style=\"white-space:pre;overflow-x:auto;line-height:normal;font-family:Menlo,'DejaVu Sans Mono',consolas,'Courier New',monospace\"><span style=\"color: #7fbfbf; text-decoration-color: #7fbfbf\">[01/27/25 23:04:58] </span><span style=\"color: #000080; text-decoration-color: #000080\">INFO    </span> <span style=\"font-weight: bold\">[</span><span style=\"color: #008080; text-decoration-color: #008080; font-weight: bold\">150</span>/<span style=\"color: #008080; text-decoration-color: #008080; font-weight: bold\">380</span><span style=\"font-weight: bold\">]</span> Retrieving game with <span style=\"color: #808000; text-decoration-color: #808000\">id</span>=<span style=\"color: #800080; text-decoration-color: #800080\">200af033</span>                                <a href=\"file:///usr/local/lib/python3.11/dist-packages/soccerdata/fbref.py\" target=\"_blank\"><span style=\"color: #7f7f7f; text-decoration-color: #7f7f7f\">fbref.py</span></a><span style=\"color: #7f7f7f; text-decoration-color: #7f7f7f\">:</span><a href=\"file:///usr/local/lib/python3.11/dist-packages/soccerdata/fbref.py#815\" target=\"_blank\"><span style=\"color: #7f7f7f; text-decoration-color: #7f7f7f\">815</span></a>\n",
              "</pre>\n"
            ]
          },
          "metadata": {}
        },
        {
          "output_type": "display_data",
          "data": {
            "text/plain": [
              "\u001b[2;36m[01/27/25 23:05:04]\u001b[0m\u001b[2;36m \u001b[0m\u001b[34mINFO    \u001b[0m \u001b[1m[\u001b[0m\u001b[1;36m151\u001b[0m/\u001b[1;36m380\u001b[0m\u001b[1m]\u001b[0m Retrieving game with \u001b[33mid\u001b[0m=\u001b[35m8cf29e50\u001b[0m                                \u001b]8;id=950794;file:///usr/local/lib/python3.11/dist-packages/soccerdata/fbref.py\u001b\\\u001b[2mfbref.py\u001b[0m\u001b]8;;\u001b\\\u001b[2m:\u001b[0m\u001b]8;id=168294;file:///usr/local/lib/python3.11/dist-packages/soccerdata/fbref.py#815\u001b\\\u001b[2m815\u001b[0m\u001b]8;;\u001b\\\n"
            ],
            "text/html": [
              "<pre style=\"white-space:pre;overflow-x:auto;line-height:normal;font-family:Menlo,'DejaVu Sans Mono',consolas,'Courier New',monospace\"><span style=\"color: #7fbfbf; text-decoration-color: #7fbfbf\">[01/27/25 23:05:04] </span><span style=\"color: #000080; text-decoration-color: #000080\">INFO    </span> <span style=\"font-weight: bold\">[</span><span style=\"color: #008080; text-decoration-color: #008080; font-weight: bold\">151</span>/<span style=\"color: #008080; text-decoration-color: #008080; font-weight: bold\">380</span><span style=\"font-weight: bold\">]</span> Retrieving game with <span style=\"color: #808000; text-decoration-color: #808000\">id</span>=<span style=\"color: #800080; text-decoration-color: #800080\">8cf29e50</span>                                <a href=\"file:///usr/local/lib/python3.11/dist-packages/soccerdata/fbref.py\" target=\"_blank\"><span style=\"color: #7f7f7f; text-decoration-color: #7f7f7f\">fbref.py</span></a><span style=\"color: #7f7f7f; text-decoration-color: #7f7f7f\">:</span><a href=\"file:///usr/local/lib/python3.11/dist-packages/soccerdata/fbref.py#815\" target=\"_blank\"><span style=\"color: #7f7f7f; text-decoration-color: #7f7f7f\">815</span></a>\n",
              "</pre>\n"
            ]
          },
          "metadata": {}
        },
        {
          "output_type": "display_data",
          "data": {
            "text/plain": [
              "\u001b[2;36m[01/27/25 23:05:11]\u001b[0m\u001b[2;36m \u001b[0m\u001b[34mINFO    \u001b[0m \u001b[1m[\u001b[0m\u001b[1;36m152\u001b[0m/\u001b[1;36m380\u001b[0m\u001b[1m]\u001b[0m Retrieving game with \u001b[33mid\u001b[0m=\u001b[35mab18fa97\u001b[0m                                \u001b]8;id=686744;file:///usr/local/lib/python3.11/dist-packages/soccerdata/fbref.py\u001b\\\u001b[2mfbref.py\u001b[0m\u001b]8;;\u001b\\\u001b[2m:\u001b[0m\u001b]8;id=278011;file:///usr/local/lib/python3.11/dist-packages/soccerdata/fbref.py#815\u001b\\\u001b[2m815\u001b[0m\u001b]8;;\u001b\\\n"
            ],
            "text/html": [
              "<pre style=\"white-space:pre;overflow-x:auto;line-height:normal;font-family:Menlo,'DejaVu Sans Mono',consolas,'Courier New',monospace\"><span style=\"color: #7fbfbf; text-decoration-color: #7fbfbf\">[01/27/25 23:05:11] </span><span style=\"color: #000080; text-decoration-color: #000080\">INFO    </span> <span style=\"font-weight: bold\">[</span><span style=\"color: #008080; text-decoration-color: #008080; font-weight: bold\">152</span>/<span style=\"color: #008080; text-decoration-color: #008080; font-weight: bold\">380</span><span style=\"font-weight: bold\">]</span> Retrieving game with <span style=\"color: #808000; text-decoration-color: #808000\">id</span>=<span style=\"color: #800080; text-decoration-color: #800080\">ab18fa97</span>                                <a href=\"file:///usr/local/lib/python3.11/dist-packages/soccerdata/fbref.py\" target=\"_blank\"><span style=\"color: #7f7f7f; text-decoration-color: #7f7f7f\">fbref.py</span></a><span style=\"color: #7f7f7f; text-decoration-color: #7f7f7f\">:</span><a href=\"file:///usr/local/lib/python3.11/dist-packages/soccerdata/fbref.py#815\" target=\"_blank\"><span style=\"color: #7f7f7f; text-decoration-color: #7f7f7f\">815</span></a>\n",
              "</pre>\n"
            ]
          },
          "metadata": {}
        },
        {
          "output_type": "display_data",
          "data": {
            "text/plain": [
              "\u001b[2;36m[01/27/25 23:05:17]\u001b[0m\u001b[2;36m \u001b[0m\u001b[34mINFO    \u001b[0m \u001b[1m[\u001b[0m\u001b[1;36m153\u001b[0m/\u001b[1;36m380\u001b[0m\u001b[1m]\u001b[0m Retrieving game with \u001b[33mid\u001b[0m=\u001b[35ma1b18af3\u001b[0m                                \u001b]8;id=362830;file:///usr/local/lib/python3.11/dist-packages/soccerdata/fbref.py\u001b\\\u001b[2mfbref.py\u001b[0m\u001b]8;;\u001b\\\u001b[2m:\u001b[0m\u001b]8;id=145408;file:///usr/local/lib/python3.11/dist-packages/soccerdata/fbref.py#815\u001b\\\u001b[2m815\u001b[0m\u001b]8;;\u001b\\\n"
            ],
            "text/html": [
              "<pre style=\"white-space:pre;overflow-x:auto;line-height:normal;font-family:Menlo,'DejaVu Sans Mono',consolas,'Courier New',monospace\"><span style=\"color: #7fbfbf; text-decoration-color: #7fbfbf\">[01/27/25 23:05:17] </span><span style=\"color: #000080; text-decoration-color: #000080\">INFO    </span> <span style=\"font-weight: bold\">[</span><span style=\"color: #008080; text-decoration-color: #008080; font-weight: bold\">153</span>/<span style=\"color: #008080; text-decoration-color: #008080; font-weight: bold\">380</span><span style=\"font-weight: bold\">]</span> Retrieving game with <span style=\"color: #808000; text-decoration-color: #808000\">id</span>=<span style=\"color: #800080; text-decoration-color: #800080\">a1b18af3</span>                                <a href=\"file:///usr/local/lib/python3.11/dist-packages/soccerdata/fbref.py\" target=\"_blank\"><span style=\"color: #7f7f7f; text-decoration-color: #7f7f7f\">fbref.py</span></a><span style=\"color: #7f7f7f; text-decoration-color: #7f7f7f\">:</span><a href=\"file:///usr/local/lib/python3.11/dist-packages/soccerdata/fbref.py#815\" target=\"_blank\"><span style=\"color: #7f7f7f; text-decoration-color: #7f7f7f\">815</span></a>\n",
              "</pre>\n"
            ]
          },
          "metadata": {}
        },
        {
          "output_type": "display_data",
          "data": {
            "text/plain": [
              "\u001b[2;36m[01/27/25 23:05:23]\u001b[0m\u001b[2;36m \u001b[0m\u001b[34mINFO    \u001b[0m \u001b[1m[\u001b[0m\u001b[1;36m154\u001b[0m/\u001b[1;36m380\u001b[0m\u001b[1m]\u001b[0m Retrieving game with \u001b[33mid\u001b[0m=\u001b[35m0760a568\u001b[0m                                \u001b]8;id=913842;file:///usr/local/lib/python3.11/dist-packages/soccerdata/fbref.py\u001b\\\u001b[2mfbref.py\u001b[0m\u001b]8;;\u001b\\\u001b[2m:\u001b[0m\u001b]8;id=499073;file:///usr/local/lib/python3.11/dist-packages/soccerdata/fbref.py#815\u001b\\\u001b[2m815\u001b[0m\u001b]8;;\u001b\\\n"
            ],
            "text/html": [
              "<pre style=\"white-space:pre;overflow-x:auto;line-height:normal;font-family:Menlo,'DejaVu Sans Mono',consolas,'Courier New',monospace\"><span style=\"color: #7fbfbf; text-decoration-color: #7fbfbf\">[01/27/25 23:05:23] </span><span style=\"color: #000080; text-decoration-color: #000080\">INFO    </span> <span style=\"font-weight: bold\">[</span><span style=\"color: #008080; text-decoration-color: #008080; font-weight: bold\">154</span>/<span style=\"color: #008080; text-decoration-color: #008080; font-weight: bold\">380</span><span style=\"font-weight: bold\">]</span> Retrieving game with <span style=\"color: #808000; text-decoration-color: #808000\">id</span>=<span style=\"color: #800080; text-decoration-color: #800080\">0760a568</span>                                <a href=\"file:///usr/local/lib/python3.11/dist-packages/soccerdata/fbref.py\" target=\"_blank\"><span style=\"color: #7f7f7f; text-decoration-color: #7f7f7f\">fbref.py</span></a><span style=\"color: #7f7f7f; text-decoration-color: #7f7f7f\">:</span><a href=\"file:///usr/local/lib/python3.11/dist-packages/soccerdata/fbref.py#815\" target=\"_blank\"><span style=\"color: #7f7f7f; text-decoration-color: #7f7f7f\">815</span></a>\n",
              "</pre>\n"
            ]
          },
          "metadata": {}
        },
        {
          "output_type": "display_data",
          "data": {
            "text/plain": [
              "\u001b[2;36m[01/27/25 23:05:30]\u001b[0m\u001b[2;36m \u001b[0m\u001b[34mINFO    \u001b[0m \u001b[1m[\u001b[0m\u001b[1;36m155\u001b[0m/\u001b[1;36m380\u001b[0m\u001b[1m]\u001b[0m Retrieving game with \u001b[33mid\u001b[0m=\u001b[35me268f518\u001b[0m                                \u001b]8;id=272697;file:///usr/local/lib/python3.11/dist-packages/soccerdata/fbref.py\u001b\\\u001b[2mfbref.py\u001b[0m\u001b]8;;\u001b\\\u001b[2m:\u001b[0m\u001b]8;id=399750;file:///usr/local/lib/python3.11/dist-packages/soccerdata/fbref.py#815\u001b\\\u001b[2m815\u001b[0m\u001b]8;;\u001b\\\n"
            ],
            "text/html": [
              "<pre style=\"white-space:pre;overflow-x:auto;line-height:normal;font-family:Menlo,'DejaVu Sans Mono',consolas,'Courier New',monospace\"><span style=\"color: #7fbfbf; text-decoration-color: #7fbfbf\">[01/27/25 23:05:30] </span><span style=\"color: #000080; text-decoration-color: #000080\">INFO    </span> <span style=\"font-weight: bold\">[</span><span style=\"color: #008080; text-decoration-color: #008080; font-weight: bold\">155</span>/<span style=\"color: #008080; text-decoration-color: #008080; font-weight: bold\">380</span><span style=\"font-weight: bold\">]</span> Retrieving game with <span style=\"color: #808000; text-decoration-color: #808000\">id</span>=<span style=\"color: #800080; text-decoration-color: #800080\">e268f518</span>                                <a href=\"file:///usr/local/lib/python3.11/dist-packages/soccerdata/fbref.py\" target=\"_blank\"><span style=\"color: #7f7f7f; text-decoration-color: #7f7f7f\">fbref.py</span></a><span style=\"color: #7f7f7f; text-decoration-color: #7f7f7f\">:</span><a href=\"file:///usr/local/lib/python3.11/dist-packages/soccerdata/fbref.py#815\" target=\"_blank\"><span style=\"color: #7f7f7f; text-decoration-color: #7f7f7f\">815</span></a>\n",
              "</pre>\n"
            ]
          },
          "metadata": {}
        },
        {
          "output_type": "display_data",
          "data": {
            "text/plain": [
              "\u001b[2;36m[01/27/25 23:05:36]\u001b[0m\u001b[2;36m \u001b[0m\u001b[34mINFO    \u001b[0m \u001b[1m[\u001b[0m\u001b[1;36m156\u001b[0m/\u001b[1;36m380\u001b[0m\u001b[1m]\u001b[0m Retrieving game with \u001b[33mid\u001b[0m=\u001b[35m8c8fdba5\u001b[0m                                \u001b]8;id=21901;file:///usr/local/lib/python3.11/dist-packages/soccerdata/fbref.py\u001b\\\u001b[2mfbref.py\u001b[0m\u001b]8;;\u001b\\\u001b[2m:\u001b[0m\u001b]8;id=39897;file:///usr/local/lib/python3.11/dist-packages/soccerdata/fbref.py#815\u001b\\\u001b[2m815\u001b[0m\u001b]8;;\u001b\\\n"
            ],
            "text/html": [
              "<pre style=\"white-space:pre;overflow-x:auto;line-height:normal;font-family:Menlo,'DejaVu Sans Mono',consolas,'Courier New',monospace\"><span style=\"color: #7fbfbf; text-decoration-color: #7fbfbf\">[01/27/25 23:05:36] </span><span style=\"color: #000080; text-decoration-color: #000080\">INFO    </span> <span style=\"font-weight: bold\">[</span><span style=\"color: #008080; text-decoration-color: #008080; font-weight: bold\">156</span>/<span style=\"color: #008080; text-decoration-color: #008080; font-weight: bold\">380</span><span style=\"font-weight: bold\">]</span> Retrieving game with <span style=\"color: #808000; text-decoration-color: #808000\">id</span>=<span style=\"color: #800080; text-decoration-color: #800080\">8c8fdba5</span>                                <a href=\"file:///usr/local/lib/python3.11/dist-packages/soccerdata/fbref.py\" target=\"_blank\"><span style=\"color: #7f7f7f; text-decoration-color: #7f7f7f\">fbref.py</span></a><span style=\"color: #7f7f7f; text-decoration-color: #7f7f7f\">:</span><a href=\"file:///usr/local/lib/python3.11/dist-packages/soccerdata/fbref.py#815\" target=\"_blank\"><span style=\"color: #7f7f7f; text-decoration-color: #7f7f7f\">815</span></a>\n",
              "</pre>\n"
            ]
          },
          "metadata": {}
        },
        {
          "output_type": "display_data",
          "data": {
            "text/plain": [
              "\u001b[2;36m[01/27/25 23:05:42]\u001b[0m\u001b[2;36m \u001b[0m\u001b[34mINFO    \u001b[0m \u001b[1m[\u001b[0m\u001b[1;36m157\u001b[0m/\u001b[1;36m380\u001b[0m\u001b[1m]\u001b[0m Retrieving game with \u001b[33mid\u001b[0m=\u001b[35m953b5f9b\u001b[0m                                \u001b]8;id=107347;file:///usr/local/lib/python3.11/dist-packages/soccerdata/fbref.py\u001b\\\u001b[2mfbref.py\u001b[0m\u001b]8;;\u001b\\\u001b[2m:\u001b[0m\u001b]8;id=423582;file:///usr/local/lib/python3.11/dist-packages/soccerdata/fbref.py#815\u001b\\\u001b[2m815\u001b[0m\u001b]8;;\u001b\\\n"
            ],
            "text/html": [
              "<pre style=\"white-space:pre;overflow-x:auto;line-height:normal;font-family:Menlo,'DejaVu Sans Mono',consolas,'Courier New',monospace\"><span style=\"color: #7fbfbf; text-decoration-color: #7fbfbf\">[01/27/25 23:05:42] </span><span style=\"color: #000080; text-decoration-color: #000080\">INFO    </span> <span style=\"font-weight: bold\">[</span><span style=\"color: #008080; text-decoration-color: #008080; font-weight: bold\">157</span>/<span style=\"color: #008080; text-decoration-color: #008080; font-weight: bold\">380</span><span style=\"font-weight: bold\">]</span> Retrieving game with <span style=\"color: #808000; text-decoration-color: #808000\">id</span>=<span style=\"color: #800080; text-decoration-color: #800080\">953b5f9b</span>                                <a href=\"file:///usr/local/lib/python3.11/dist-packages/soccerdata/fbref.py\" target=\"_blank\"><span style=\"color: #7f7f7f; text-decoration-color: #7f7f7f\">fbref.py</span></a><span style=\"color: #7f7f7f; text-decoration-color: #7f7f7f\">:</span><a href=\"file:///usr/local/lib/python3.11/dist-packages/soccerdata/fbref.py#815\" target=\"_blank\"><span style=\"color: #7f7f7f; text-decoration-color: #7f7f7f\">815</span></a>\n",
              "</pre>\n"
            ]
          },
          "metadata": {}
        },
        {
          "output_type": "display_data",
          "data": {
            "text/plain": [
              "\u001b[2;36m[01/27/25 23:05:49]\u001b[0m\u001b[2;36m \u001b[0m\u001b[34mINFO    \u001b[0m \u001b[1m[\u001b[0m\u001b[1;36m158\u001b[0m/\u001b[1;36m380\u001b[0m\u001b[1m]\u001b[0m Retrieving game with \u001b[33mid\u001b[0m=\u001b[35md3dd23fb\u001b[0m                                \u001b]8;id=218354;file:///usr/local/lib/python3.11/dist-packages/soccerdata/fbref.py\u001b\\\u001b[2mfbref.py\u001b[0m\u001b]8;;\u001b\\\u001b[2m:\u001b[0m\u001b]8;id=912550;file:///usr/local/lib/python3.11/dist-packages/soccerdata/fbref.py#815\u001b\\\u001b[2m815\u001b[0m\u001b]8;;\u001b\\\n"
            ],
            "text/html": [
              "<pre style=\"white-space:pre;overflow-x:auto;line-height:normal;font-family:Menlo,'DejaVu Sans Mono',consolas,'Courier New',monospace\"><span style=\"color: #7fbfbf; text-decoration-color: #7fbfbf\">[01/27/25 23:05:49] </span><span style=\"color: #000080; text-decoration-color: #000080\">INFO    </span> <span style=\"font-weight: bold\">[</span><span style=\"color: #008080; text-decoration-color: #008080; font-weight: bold\">158</span>/<span style=\"color: #008080; text-decoration-color: #008080; font-weight: bold\">380</span><span style=\"font-weight: bold\">]</span> Retrieving game with <span style=\"color: #808000; text-decoration-color: #808000\">id</span>=<span style=\"color: #800080; text-decoration-color: #800080\">d3dd23fb</span>                                <a href=\"file:///usr/local/lib/python3.11/dist-packages/soccerdata/fbref.py\" target=\"_blank\"><span style=\"color: #7f7f7f; text-decoration-color: #7f7f7f\">fbref.py</span></a><span style=\"color: #7f7f7f; text-decoration-color: #7f7f7f\">:</span><a href=\"file:///usr/local/lib/python3.11/dist-packages/soccerdata/fbref.py#815\" target=\"_blank\"><span style=\"color: #7f7f7f; text-decoration-color: #7f7f7f\">815</span></a>\n",
              "</pre>\n"
            ]
          },
          "metadata": {}
        },
        {
          "output_type": "display_data",
          "data": {
            "text/plain": [
              "\u001b[2;36m[01/27/25 23:05:55]\u001b[0m\u001b[2;36m \u001b[0m\u001b[34mINFO    \u001b[0m \u001b[1m[\u001b[0m\u001b[1;36m159\u001b[0m/\u001b[1;36m380\u001b[0m\u001b[1m]\u001b[0m Retrieving game with \u001b[33mid\u001b[0m=\u001b[35mf6155857\u001b[0m                                \u001b]8;id=719517;file:///usr/local/lib/python3.11/dist-packages/soccerdata/fbref.py\u001b\\\u001b[2mfbref.py\u001b[0m\u001b]8;;\u001b\\\u001b[2m:\u001b[0m\u001b]8;id=955712;file:///usr/local/lib/python3.11/dist-packages/soccerdata/fbref.py#815\u001b\\\u001b[2m815\u001b[0m\u001b]8;;\u001b\\\n"
            ],
            "text/html": [
              "<pre style=\"white-space:pre;overflow-x:auto;line-height:normal;font-family:Menlo,'DejaVu Sans Mono',consolas,'Courier New',monospace\"><span style=\"color: #7fbfbf; text-decoration-color: #7fbfbf\">[01/27/25 23:05:55] </span><span style=\"color: #000080; text-decoration-color: #000080\">INFO    </span> <span style=\"font-weight: bold\">[</span><span style=\"color: #008080; text-decoration-color: #008080; font-weight: bold\">159</span>/<span style=\"color: #008080; text-decoration-color: #008080; font-weight: bold\">380</span><span style=\"font-weight: bold\">]</span> Retrieving game with <span style=\"color: #808000; text-decoration-color: #808000\">id</span>=<span style=\"color: #800080; text-decoration-color: #800080\">f6155857</span>                                <a href=\"file:///usr/local/lib/python3.11/dist-packages/soccerdata/fbref.py\" target=\"_blank\"><span style=\"color: #7f7f7f; text-decoration-color: #7f7f7f\">fbref.py</span></a><span style=\"color: #7f7f7f; text-decoration-color: #7f7f7f\">:</span><a href=\"file:///usr/local/lib/python3.11/dist-packages/soccerdata/fbref.py#815\" target=\"_blank\"><span style=\"color: #7f7f7f; text-decoration-color: #7f7f7f\">815</span></a>\n",
              "</pre>\n"
            ]
          },
          "metadata": {}
        },
        {
          "output_type": "display_data",
          "data": {
            "text/plain": [
              "\u001b[2;36m[01/27/25 23:06:01]\u001b[0m\u001b[2;36m \u001b[0m\u001b[34mINFO    \u001b[0m \u001b[1m[\u001b[0m\u001b[1;36m160\u001b[0m/\u001b[1;36m380\u001b[0m\u001b[1m]\u001b[0m Retrieving game with \u001b[33mid\u001b[0m=\u001b[35mbe6d1aac\u001b[0m                                \u001b]8;id=849606;file:///usr/local/lib/python3.11/dist-packages/soccerdata/fbref.py\u001b\\\u001b[2mfbref.py\u001b[0m\u001b]8;;\u001b\\\u001b[2m:\u001b[0m\u001b]8;id=514247;file:///usr/local/lib/python3.11/dist-packages/soccerdata/fbref.py#815\u001b\\\u001b[2m815\u001b[0m\u001b]8;;\u001b\\\n"
            ],
            "text/html": [
              "<pre style=\"white-space:pre;overflow-x:auto;line-height:normal;font-family:Menlo,'DejaVu Sans Mono',consolas,'Courier New',monospace\"><span style=\"color: #7fbfbf; text-decoration-color: #7fbfbf\">[01/27/25 23:06:01] </span><span style=\"color: #000080; text-decoration-color: #000080\">INFO    </span> <span style=\"font-weight: bold\">[</span><span style=\"color: #008080; text-decoration-color: #008080; font-weight: bold\">160</span>/<span style=\"color: #008080; text-decoration-color: #008080; font-weight: bold\">380</span><span style=\"font-weight: bold\">]</span> Retrieving game with <span style=\"color: #808000; text-decoration-color: #808000\">id</span>=<span style=\"color: #800080; text-decoration-color: #800080\">be6d1aac</span>                                <a href=\"file:///usr/local/lib/python3.11/dist-packages/soccerdata/fbref.py\" target=\"_blank\"><span style=\"color: #7f7f7f; text-decoration-color: #7f7f7f\">fbref.py</span></a><span style=\"color: #7f7f7f; text-decoration-color: #7f7f7f\">:</span><a href=\"file:///usr/local/lib/python3.11/dist-packages/soccerdata/fbref.py#815\" target=\"_blank\"><span style=\"color: #7f7f7f; text-decoration-color: #7f7f7f\">815</span></a>\n",
              "</pre>\n"
            ]
          },
          "metadata": {}
        },
        {
          "output_type": "display_data",
          "data": {
            "text/plain": [
              "\u001b[2;36m[01/27/25 23:06:07]\u001b[0m\u001b[2;36m \u001b[0m\u001b[34mINFO    \u001b[0m \u001b[1m[\u001b[0m\u001b[1;36m161\u001b[0m/\u001b[1;36m380\u001b[0m\u001b[1m]\u001b[0m Retrieving game with \u001b[33mid\u001b[0m=\u001b[35m4d9f1a71\u001b[0m                                \u001b]8;id=243917;file:///usr/local/lib/python3.11/dist-packages/soccerdata/fbref.py\u001b\\\u001b[2mfbref.py\u001b[0m\u001b]8;;\u001b\\\u001b[2m:\u001b[0m\u001b]8;id=45618;file:///usr/local/lib/python3.11/dist-packages/soccerdata/fbref.py#815\u001b\\\u001b[2m815\u001b[0m\u001b]8;;\u001b\\\n"
            ],
            "text/html": [
              "<pre style=\"white-space:pre;overflow-x:auto;line-height:normal;font-family:Menlo,'DejaVu Sans Mono',consolas,'Courier New',monospace\"><span style=\"color: #7fbfbf; text-decoration-color: #7fbfbf\">[01/27/25 23:06:07] </span><span style=\"color: #000080; text-decoration-color: #000080\">INFO    </span> <span style=\"font-weight: bold\">[</span><span style=\"color: #008080; text-decoration-color: #008080; font-weight: bold\">161</span>/<span style=\"color: #008080; text-decoration-color: #008080; font-weight: bold\">380</span><span style=\"font-weight: bold\">]</span> Retrieving game with <span style=\"color: #808000; text-decoration-color: #808000\">id</span>=<span style=\"color: #800080; text-decoration-color: #800080\">4d9f1a71</span>                                <a href=\"file:///usr/local/lib/python3.11/dist-packages/soccerdata/fbref.py\" target=\"_blank\"><span style=\"color: #7f7f7f; text-decoration-color: #7f7f7f\">fbref.py</span></a><span style=\"color: #7f7f7f; text-decoration-color: #7f7f7f\">:</span><a href=\"file:///usr/local/lib/python3.11/dist-packages/soccerdata/fbref.py#815\" target=\"_blank\"><span style=\"color: #7f7f7f; text-decoration-color: #7f7f7f\">815</span></a>\n",
              "</pre>\n"
            ]
          },
          "metadata": {}
        },
        {
          "output_type": "display_data",
          "data": {
            "text/plain": [
              "\u001b[2;36m[01/27/25 23:06:14]\u001b[0m\u001b[2;36m \u001b[0m\u001b[34mINFO    \u001b[0m \u001b[1m[\u001b[0m\u001b[1;36m162\u001b[0m/\u001b[1;36m380\u001b[0m\u001b[1m]\u001b[0m Retrieving game with \u001b[33mid\u001b[0m=\u001b[35m01904d1d\u001b[0m                                \u001b]8;id=312897;file:///usr/local/lib/python3.11/dist-packages/soccerdata/fbref.py\u001b\\\u001b[2mfbref.py\u001b[0m\u001b]8;;\u001b\\\u001b[2m:\u001b[0m\u001b]8;id=735235;file:///usr/local/lib/python3.11/dist-packages/soccerdata/fbref.py#815\u001b\\\u001b[2m815\u001b[0m\u001b]8;;\u001b\\\n"
            ],
            "text/html": [
              "<pre style=\"white-space:pre;overflow-x:auto;line-height:normal;font-family:Menlo,'DejaVu Sans Mono',consolas,'Courier New',monospace\"><span style=\"color: #7fbfbf; text-decoration-color: #7fbfbf\">[01/27/25 23:06:14] </span><span style=\"color: #000080; text-decoration-color: #000080\">INFO    </span> <span style=\"font-weight: bold\">[</span><span style=\"color: #008080; text-decoration-color: #008080; font-weight: bold\">162</span>/<span style=\"color: #008080; text-decoration-color: #008080; font-weight: bold\">380</span><span style=\"font-weight: bold\">]</span> Retrieving game with <span style=\"color: #808000; text-decoration-color: #808000\">id</span>=<span style=\"color: #800080; text-decoration-color: #800080\">01904d1d</span>                                <a href=\"file:///usr/local/lib/python3.11/dist-packages/soccerdata/fbref.py\" target=\"_blank\"><span style=\"color: #7f7f7f; text-decoration-color: #7f7f7f\">fbref.py</span></a><span style=\"color: #7f7f7f; text-decoration-color: #7f7f7f\">:</span><a href=\"file:///usr/local/lib/python3.11/dist-packages/soccerdata/fbref.py#815\" target=\"_blank\"><span style=\"color: #7f7f7f; text-decoration-color: #7f7f7f\">815</span></a>\n",
              "</pre>\n"
            ]
          },
          "metadata": {}
        },
        {
          "output_type": "display_data",
          "data": {
            "text/plain": [
              "\u001b[2;36m[01/27/25 23:06:20]\u001b[0m\u001b[2;36m \u001b[0m\u001b[34mINFO    \u001b[0m \u001b[1m[\u001b[0m\u001b[1;36m163\u001b[0m/\u001b[1;36m380\u001b[0m\u001b[1m]\u001b[0m Retrieving game with \u001b[33mid\u001b[0m=\u001b[35m3bbbaf15\u001b[0m                                \u001b]8;id=640166;file:///usr/local/lib/python3.11/dist-packages/soccerdata/fbref.py\u001b\\\u001b[2mfbref.py\u001b[0m\u001b]8;;\u001b\\\u001b[2m:\u001b[0m\u001b]8;id=814942;file:///usr/local/lib/python3.11/dist-packages/soccerdata/fbref.py#815\u001b\\\u001b[2m815\u001b[0m\u001b]8;;\u001b\\\n"
            ],
            "text/html": [
              "<pre style=\"white-space:pre;overflow-x:auto;line-height:normal;font-family:Menlo,'DejaVu Sans Mono',consolas,'Courier New',monospace\"><span style=\"color: #7fbfbf; text-decoration-color: #7fbfbf\">[01/27/25 23:06:20] </span><span style=\"color: #000080; text-decoration-color: #000080\">INFO    </span> <span style=\"font-weight: bold\">[</span><span style=\"color: #008080; text-decoration-color: #008080; font-weight: bold\">163</span>/<span style=\"color: #008080; text-decoration-color: #008080; font-weight: bold\">380</span><span style=\"font-weight: bold\">]</span> Retrieving game with <span style=\"color: #808000; text-decoration-color: #808000\">id</span>=<span style=\"color: #800080; text-decoration-color: #800080\">3bbbaf15</span>                                <a href=\"file:///usr/local/lib/python3.11/dist-packages/soccerdata/fbref.py\" target=\"_blank\"><span style=\"color: #7f7f7f; text-decoration-color: #7f7f7f\">fbref.py</span></a><span style=\"color: #7f7f7f; text-decoration-color: #7f7f7f\">:</span><a href=\"file:///usr/local/lib/python3.11/dist-packages/soccerdata/fbref.py#815\" target=\"_blank\"><span style=\"color: #7f7f7f; text-decoration-color: #7f7f7f\">815</span></a>\n",
              "</pre>\n"
            ]
          },
          "metadata": {}
        },
        {
          "output_type": "display_data",
          "data": {
            "text/plain": [
              "\u001b[2;36m[01/27/25 23:06:26]\u001b[0m\u001b[2;36m \u001b[0m\u001b[34mINFO    \u001b[0m \u001b[1m[\u001b[0m\u001b[1;36m164\u001b[0m/\u001b[1;36m380\u001b[0m\u001b[1m]\u001b[0m Retrieving game with \u001b[33mid\u001b[0m=\u001b[35m30f3e1ee\u001b[0m                                \u001b]8;id=618121;file:///usr/local/lib/python3.11/dist-packages/soccerdata/fbref.py\u001b\\\u001b[2mfbref.py\u001b[0m\u001b]8;;\u001b\\\u001b[2m:\u001b[0m\u001b]8;id=412257;file:///usr/local/lib/python3.11/dist-packages/soccerdata/fbref.py#815\u001b\\\u001b[2m815\u001b[0m\u001b]8;;\u001b\\\n"
            ],
            "text/html": [
              "<pre style=\"white-space:pre;overflow-x:auto;line-height:normal;font-family:Menlo,'DejaVu Sans Mono',consolas,'Courier New',monospace\"><span style=\"color: #7fbfbf; text-decoration-color: #7fbfbf\">[01/27/25 23:06:26] </span><span style=\"color: #000080; text-decoration-color: #000080\">INFO    </span> <span style=\"font-weight: bold\">[</span><span style=\"color: #008080; text-decoration-color: #008080; font-weight: bold\">164</span>/<span style=\"color: #008080; text-decoration-color: #008080; font-weight: bold\">380</span><span style=\"font-weight: bold\">]</span> Retrieving game with <span style=\"color: #808000; text-decoration-color: #808000\">id</span>=<span style=\"color: #800080; text-decoration-color: #800080\">30f3e1ee</span>                                <a href=\"file:///usr/local/lib/python3.11/dist-packages/soccerdata/fbref.py\" target=\"_blank\"><span style=\"color: #7f7f7f; text-decoration-color: #7f7f7f\">fbref.py</span></a><span style=\"color: #7f7f7f; text-decoration-color: #7f7f7f\">:</span><a href=\"file:///usr/local/lib/python3.11/dist-packages/soccerdata/fbref.py#815\" target=\"_blank\"><span style=\"color: #7f7f7f; text-decoration-color: #7f7f7f\">815</span></a>\n",
              "</pre>\n"
            ]
          },
          "metadata": {}
        },
        {
          "output_type": "display_data",
          "data": {
            "text/plain": [
              "\u001b[2;36m[01/27/25 23:06:33]\u001b[0m\u001b[2;36m \u001b[0m\u001b[34mINFO    \u001b[0m \u001b[1m[\u001b[0m\u001b[1;36m165\u001b[0m/\u001b[1;36m380\u001b[0m\u001b[1m]\u001b[0m Retrieving game with \u001b[33mid\u001b[0m=\u001b[35m5db0f25b\u001b[0m                                \u001b]8;id=363857;file:///usr/local/lib/python3.11/dist-packages/soccerdata/fbref.py\u001b\\\u001b[2mfbref.py\u001b[0m\u001b]8;;\u001b\\\u001b[2m:\u001b[0m\u001b]8;id=908492;file:///usr/local/lib/python3.11/dist-packages/soccerdata/fbref.py#815\u001b\\\u001b[2m815\u001b[0m\u001b]8;;\u001b\\\n"
            ],
            "text/html": [
              "<pre style=\"white-space:pre;overflow-x:auto;line-height:normal;font-family:Menlo,'DejaVu Sans Mono',consolas,'Courier New',monospace\"><span style=\"color: #7fbfbf; text-decoration-color: #7fbfbf\">[01/27/25 23:06:33] </span><span style=\"color: #000080; text-decoration-color: #000080\">INFO    </span> <span style=\"font-weight: bold\">[</span><span style=\"color: #008080; text-decoration-color: #008080; font-weight: bold\">165</span>/<span style=\"color: #008080; text-decoration-color: #008080; font-weight: bold\">380</span><span style=\"font-weight: bold\">]</span> Retrieving game with <span style=\"color: #808000; text-decoration-color: #808000\">id</span>=<span style=\"color: #800080; text-decoration-color: #800080\">5db0f25b</span>                                <a href=\"file:///usr/local/lib/python3.11/dist-packages/soccerdata/fbref.py\" target=\"_blank\"><span style=\"color: #7f7f7f; text-decoration-color: #7f7f7f\">fbref.py</span></a><span style=\"color: #7f7f7f; text-decoration-color: #7f7f7f\">:</span><a href=\"file:///usr/local/lib/python3.11/dist-packages/soccerdata/fbref.py#815\" target=\"_blank\"><span style=\"color: #7f7f7f; text-decoration-color: #7f7f7f\">815</span></a>\n",
              "</pre>\n"
            ]
          },
          "metadata": {}
        },
        {
          "output_type": "display_data",
          "data": {
            "text/plain": [
              "\u001b[2;36m[01/27/25 23:06:39]\u001b[0m\u001b[2;36m \u001b[0m\u001b[34mINFO    \u001b[0m \u001b[1m[\u001b[0m\u001b[1;36m166\u001b[0m/\u001b[1;36m380\u001b[0m\u001b[1m]\u001b[0m Retrieving game with \u001b[33mid\u001b[0m=\u001b[35me3a46a4e\u001b[0m                                \u001b]8;id=223251;file:///usr/local/lib/python3.11/dist-packages/soccerdata/fbref.py\u001b\\\u001b[2mfbref.py\u001b[0m\u001b]8;;\u001b\\\u001b[2m:\u001b[0m\u001b]8;id=73361;file:///usr/local/lib/python3.11/dist-packages/soccerdata/fbref.py#815\u001b\\\u001b[2m815\u001b[0m\u001b]8;;\u001b\\\n"
            ],
            "text/html": [
              "<pre style=\"white-space:pre;overflow-x:auto;line-height:normal;font-family:Menlo,'DejaVu Sans Mono',consolas,'Courier New',monospace\"><span style=\"color: #7fbfbf; text-decoration-color: #7fbfbf\">[01/27/25 23:06:39] </span><span style=\"color: #000080; text-decoration-color: #000080\">INFO    </span> <span style=\"font-weight: bold\">[</span><span style=\"color: #008080; text-decoration-color: #008080; font-weight: bold\">166</span>/<span style=\"color: #008080; text-decoration-color: #008080; font-weight: bold\">380</span><span style=\"font-weight: bold\">]</span> Retrieving game with <span style=\"color: #808000; text-decoration-color: #808000\">id</span>=<span style=\"color: #800080; text-decoration-color: #800080\">e3a46a4e</span>                                <a href=\"file:///usr/local/lib/python3.11/dist-packages/soccerdata/fbref.py\" target=\"_blank\"><span style=\"color: #7f7f7f; text-decoration-color: #7f7f7f\">fbref.py</span></a><span style=\"color: #7f7f7f; text-decoration-color: #7f7f7f\">:</span><a href=\"file:///usr/local/lib/python3.11/dist-packages/soccerdata/fbref.py#815\" target=\"_blank\"><span style=\"color: #7f7f7f; text-decoration-color: #7f7f7f\">815</span></a>\n",
              "</pre>\n"
            ]
          },
          "metadata": {}
        },
        {
          "output_type": "display_data",
          "data": {
            "text/plain": [
              "\u001b[2;36m[01/27/25 23:06:45]\u001b[0m\u001b[2;36m \u001b[0m\u001b[34mINFO    \u001b[0m \u001b[1m[\u001b[0m\u001b[1;36m167\u001b[0m/\u001b[1;36m380\u001b[0m\u001b[1m]\u001b[0m Retrieving game with \u001b[33mid\u001b[0m=\u001b[35m4a3af0ab\u001b[0m                                \u001b]8;id=58519;file:///usr/local/lib/python3.11/dist-packages/soccerdata/fbref.py\u001b\\\u001b[2mfbref.py\u001b[0m\u001b]8;;\u001b\\\u001b[2m:\u001b[0m\u001b]8;id=968899;file:///usr/local/lib/python3.11/dist-packages/soccerdata/fbref.py#815\u001b\\\u001b[2m815\u001b[0m\u001b]8;;\u001b\\\n"
            ],
            "text/html": [
              "<pre style=\"white-space:pre;overflow-x:auto;line-height:normal;font-family:Menlo,'DejaVu Sans Mono',consolas,'Courier New',monospace\"><span style=\"color: #7fbfbf; text-decoration-color: #7fbfbf\">[01/27/25 23:06:45] </span><span style=\"color: #000080; text-decoration-color: #000080\">INFO    </span> <span style=\"font-weight: bold\">[</span><span style=\"color: #008080; text-decoration-color: #008080; font-weight: bold\">167</span>/<span style=\"color: #008080; text-decoration-color: #008080; font-weight: bold\">380</span><span style=\"font-weight: bold\">]</span> Retrieving game with <span style=\"color: #808000; text-decoration-color: #808000\">id</span>=<span style=\"color: #800080; text-decoration-color: #800080\">4a3af0ab</span>                                <a href=\"file:///usr/local/lib/python3.11/dist-packages/soccerdata/fbref.py\" target=\"_blank\"><span style=\"color: #7f7f7f; text-decoration-color: #7f7f7f\">fbref.py</span></a><span style=\"color: #7f7f7f; text-decoration-color: #7f7f7f\">:</span><a href=\"file:///usr/local/lib/python3.11/dist-packages/soccerdata/fbref.py#815\" target=\"_blank\"><span style=\"color: #7f7f7f; text-decoration-color: #7f7f7f\">815</span></a>\n",
              "</pre>\n"
            ]
          },
          "metadata": {}
        },
        {
          "output_type": "display_data",
          "data": {
            "text/plain": [
              "\u001b[2;36m[01/27/25 23:06:51]\u001b[0m\u001b[2;36m \u001b[0m\u001b[34mINFO    \u001b[0m \u001b[1m[\u001b[0m\u001b[1;36m168\u001b[0m/\u001b[1;36m380\u001b[0m\u001b[1m]\u001b[0m Retrieving game with \u001b[33mid\u001b[0m=\u001b[35m18e98d77\u001b[0m                                \u001b]8;id=254105;file:///usr/local/lib/python3.11/dist-packages/soccerdata/fbref.py\u001b\\\u001b[2mfbref.py\u001b[0m\u001b]8;;\u001b\\\u001b[2m:\u001b[0m\u001b]8;id=579288;file:///usr/local/lib/python3.11/dist-packages/soccerdata/fbref.py#815\u001b\\\u001b[2m815\u001b[0m\u001b]8;;\u001b\\\n"
            ],
            "text/html": [
              "<pre style=\"white-space:pre;overflow-x:auto;line-height:normal;font-family:Menlo,'DejaVu Sans Mono',consolas,'Courier New',monospace\"><span style=\"color: #7fbfbf; text-decoration-color: #7fbfbf\">[01/27/25 23:06:51] </span><span style=\"color: #000080; text-decoration-color: #000080\">INFO    </span> <span style=\"font-weight: bold\">[</span><span style=\"color: #008080; text-decoration-color: #008080; font-weight: bold\">168</span>/<span style=\"color: #008080; text-decoration-color: #008080; font-weight: bold\">380</span><span style=\"font-weight: bold\">]</span> Retrieving game with <span style=\"color: #808000; text-decoration-color: #808000\">id</span>=<span style=\"color: #800080; text-decoration-color: #800080\">18e98d77</span>                                <a href=\"file:///usr/local/lib/python3.11/dist-packages/soccerdata/fbref.py\" target=\"_blank\"><span style=\"color: #7f7f7f; text-decoration-color: #7f7f7f\">fbref.py</span></a><span style=\"color: #7f7f7f; text-decoration-color: #7f7f7f\">:</span><a href=\"file:///usr/local/lib/python3.11/dist-packages/soccerdata/fbref.py#815\" target=\"_blank\"><span style=\"color: #7f7f7f; text-decoration-color: #7f7f7f\">815</span></a>\n",
              "</pre>\n"
            ]
          },
          "metadata": {}
        },
        {
          "output_type": "display_data",
          "data": {
            "text/plain": [
              "\u001b[2;36m[01/27/25 23:06:58]\u001b[0m\u001b[2;36m \u001b[0m\u001b[34mINFO    \u001b[0m \u001b[1m[\u001b[0m\u001b[1;36m169\u001b[0m/\u001b[1;36m380\u001b[0m\u001b[1m]\u001b[0m Retrieving game with \u001b[33mid\u001b[0m=\u001b[35m5f5bc7b3\u001b[0m                                \u001b]8;id=962976;file:///usr/local/lib/python3.11/dist-packages/soccerdata/fbref.py\u001b\\\u001b[2mfbref.py\u001b[0m\u001b]8;;\u001b\\\u001b[2m:\u001b[0m\u001b]8;id=982990;file:///usr/local/lib/python3.11/dist-packages/soccerdata/fbref.py#815\u001b\\\u001b[2m815\u001b[0m\u001b]8;;\u001b\\\n"
            ],
            "text/html": [
              "<pre style=\"white-space:pre;overflow-x:auto;line-height:normal;font-family:Menlo,'DejaVu Sans Mono',consolas,'Courier New',monospace\"><span style=\"color: #7fbfbf; text-decoration-color: #7fbfbf\">[01/27/25 23:06:58] </span><span style=\"color: #000080; text-decoration-color: #000080\">INFO    </span> <span style=\"font-weight: bold\">[</span><span style=\"color: #008080; text-decoration-color: #008080; font-weight: bold\">169</span>/<span style=\"color: #008080; text-decoration-color: #008080; font-weight: bold\">380</span><span style=\"font-weight: bold\">]</span> Retrieving game with <span style=\"color: #808000; text-decoration-color: #808000\">id</span>=<span style=\"color: #800080; text-decoration-color: #800080\">5f5bc7b3</span>                                <a href=\"file:///usr/local/lib/python3.11/dist-packages/soccerdata/fbref.py\" target=\"_blank\"><span style=\"color: #7f7f7f; text-decoration-color: #7f7f7f\">fbref.py</span></a><span style=\"color: #7f7f7f; text-decoration-color: #7f7f7f\">:</span><a href=\"file:///usr/local/lib/python3.11/dist-packages/soccerdata/fbref.py#815\" target=\"_blank\"><span style=\"color: #7f7f7f; text-decoration-color: #7f7f7f\">815</span></a>\n",
              "</pre>\n"
            ]
          },
          "metadata": {}
        },
        {
          "output_type": "display_data",
          "data": {
            "text/plain": [
              "\u001b[2;36m[01/27/25 23:07:04]\u001b[0m\u001b[2;36m \u001b[0m\u001b[34mINFO    \u001b[0m \u001b[1m[\u001b[0m\u001b[1;36m170\u001b[0m/\u001b[1;36m380\u001b[0m\u001b[1m]\u001b[0m Retrieving game with \u001b[33mid\u001b[0m=\u001b[35m7340be7a\u001b[0m                                \u001b]8;id=950759;file:///usr/local/lib/python3.11/dist-packages/soccerdata/fbref.py\u001b\\\u001b[2mfbref.py\u001b[0m\u001b]8;;\u001b\\\u001b[2m:\u001b[0m\u001b]8;id=917521;file:///usr/local/lib/python3.11/dist-packages/soccerdata/fbref.py#815\u001b\\\u001b[2m815\u001b[0m\u001b]8;;\u001b\\\n"
            ],
            "text/html": [
              "<pre style=\"white-space:pre;overflow-x:auto;line-height:normal;font-family:Menlo,'DejaVu Sans Mono',consolas,'Courier New',monospace\"><span style=\"color: #7fbfbf; text-decoration-color: #7fbfbf\">[01/27/25 23:07:04] </span><span style=\"color: #000080; text-decoration-color: #000080\">INFO    </span> <span style=\"font-weight: bold\">[</span><span style=\"color: #008080; text-decoration-color: #008080; font-weight: bold\">170</span>/<span style=\"color: #008080; text-decoration-color: #008080; font-weight: bold\">380</span><span style=\"font-weight: bold\">]</span> Retrieving game with <span style=\"color: #808000; text-decoration-color: #808000\">id</span>=<span style=\"color: #800080; text-decoration-color: #800080\">7340be7a</span>                                <a href=\"file:///usr/local/lib/python3.11/dist-packages/soccerdata/fbref.py\" target=\"_blank\"><span style=\"color: #7f7f7f; text-decoration-color: #7f7f7f\">fbref.py</span></a><span style=\"color: #7f7f7f; text-decoration-color: #7f7f7f\">:</span><a href=\"file:///usr/local/lib/python3.11/dist-packages/soccerdata/fbref.py#815\" target=\"_blank\"><span style=\"color: #7f7f7f; text-decoration-color: #7f7f7f\">815</span></a>\n",
              "</pre>\n"
            ]
          },
          "metadata": {}
        },
        {
          "output_type": "display_data",
          "data": {
            "text/plain": [
              "\u001b[2;36m[01/27/25 23:07:11]\u001b[0m\u001b[2;36m \u001b[0m\u001b[34mINFO    \u001b[0m \u001b[1m[\u001b[0m\u001b[1;36m171\u001b[0m/\u001b[1;36m380\u001b[0m\u001b[1m]\u001b[0m Retrieving game with \u001b[33mid\u001b[0m=\u001b[1;36m37916998\u001b[0m                                \u001b]8;id=493996;file:///usr/local/lib/python3.11/dist-packages/soccerdata/fbref.py\u001b\\\u001b[2mfbref.py\u001b[0m\u001b]8;;\u001b\\\u001b[2m:\u001b[0m\u001b]8;id=560903;file:///usr/local/lib/python3.11/dist-packages/soccerdata/fbref.py#815\u001b\\\u001b[2m815\u001b[0m\u001b]8;;\u001b\\\n"
            ],
            "text/html": [
              "<pre style=\"white-space:pre;overflow-x:auto;line-height:normal;font-family:Menlo,'DejaVu Sans Mono',consolas,'Courier New',monospace\"><span style=\"color: #7fbfbf; text-decoration-color: #7fbfbf\">[01/27/25 23:07:11] </span><span style=\"color: #000080; text-decoration-color: #000080\">INFO    </span> <span style=\"font-weight: bold\">[</span><span style=\"color: #008080; text-decoration-color: #008080; font-weight: bold\">171</span>/<span style=\"color: #008080; text-decoration-color: #008080; font-weight: bold\">380</span><span style=\"font-weight: bold\">]</span> Retrieving game with <span style=\"color: #808000; text-decoration-color: #808000\">id</span>=<span style=\"color: #008080; text-decoration-color: #008080; font-weight: bold\">37916998</span>                                <a href=\"file:///usr/local/lib/python3.11/dist-packages/soccerdata/fbref.py\" target=\"_blank\"><span style=\"color: #7f7f7f; text-decoration-color: #7f7f7f\">fbref.py</span></a><span style=\"color: #7f7f7f; text-decoration-color: #7f7f7f\">:</span><a href=\"file:///usr/local/lib/python3.11/dist-packages/soccerdata/fbref.py#815\" target=\"_blank\"><span style=\"color: #7f7f7f; text-decoration-color: #7f7f7f\">815</span></a>\n",
              "</pre>\n"
            ]
          },
          "metadata": {}
        },
        {
          "output_type": "display_data",
          "data": {
            "text/plain": [
              "\u001b[2;36m[01/27/25 23:07:17]\u001b[0m\u001b[2;36m \u001b[0m\u001b[34mINFO    \u001b[0m \u001b[1m[\u001b[0m\u001b[1;36m172\u001b[0m/\u001b[1;36m380\u001b[0m\u001b[1m]\u001b[0m Retrieving game with \u001b[33mid\u001b[0m=\u001b[35m7dd3c51a\u001b[0m                                \u001b]8;id=813817;file:///usr/local/lib/python3.11/dist-packages/soccerdata/fbref.py\u001b\\\u001b[2mfbref.py\u001b[0m\u001b]8;;\u001b\\\u001b[2m:\u001b[0m\u001b]8;id=192989;file:///usr/local/lib/python3.11/dist-packages/soccerdata/fbref.py#815\u001b\\\u001b[2m815\u001b[0m\u001b]8;;\u001b\\\n"
            ],
            "text/html": [
              "<pre style=\"white-space:pre;overflow-x:auto;line-height:normal;font-family:Menlo,'DejaVu Sans Mono',consolas,'Courier New',monospace\"><span style=\"color: #7fbfbf; text-decoration-color: #7fbfbf\">[01/27/25 23:07:17] </span><span style=\"color: #000080; text-decoration-color: #000080\">INFO    </span> <span style=\"font-weight: bold\">[</span><span style=\"color: #008080; text-decoration-color: #008080; font-weight: bold\">172</span>/<span style=\"color: #008080; text-decoration-color: #008080; font-weight: bold\">380</span><span style=\"font-weight: bold\">]</span> Retrieving game with <span style=\"color: #808000; text-decoration-color: #808000\">id</span>=<span style=\"color: #800080; text-decoration-color: #800080\">7dd3c51a</span>                                <a href=\"file:///usr/local/lib/python3.11/dist-packages/soccerdata/fbref.py\" target=\"_blank\"><span style=\"color: #7f7f7f; text-decoration-color: #7f7f7f\">fbref.py</span></a><span style=\"color: #7f7f7f; text-decoration-color: #7f7f7f\">:</span><a href=\"file:///usr/local/lib/python3.11/dist-packages/soccerdata/fbref.py#815\" target=\"_blank\"><span style=\"color: #7f7f7f; text-decoration-color: #7f7f7f\">815</span></a>\n",
              "</pre>\n"
            ]
          },
          "metadata": {}
        },
        {
          "output_type": "display_data",
          "data": {
            "text/plain": [
              "\u001b[2;36m[01/27/25 23:07:24]\u001b[0m\u001b[2;36m \u001b[0m\u001b[34mINFO    \u001b[0m \u001b[1m[\u001b[0m\u001b[1;36m173\u001b[0m/\u001b[1;36m380\u001b[0m\u001b[1m]\u001b[0m Retrieving game with \u001b[33mid\u001b[0m=\u001b[35mbfbfbbe8\u001b[0m                                \u001b]8;id=99909;file:///usr/local/lib/python3.11/dist-packages/soccerdata/fbref.py\u001b\\\u001b[2mfbref.py\u001b[0m\u001b]8;;\u001b\\\u001b[2m:\u001b[0m\u001b]8;id=80335;file:///usr/local/lib/python3.11/dist-packages/soccerdata/fbref.py#815\u001b\\\u001b[2m815\u001b[0m\u001b]8;;\u001b\\\n"
            ],
            "text/html": [
              "<pre style=\"white-space:pre;overflow-x:auto;line-height:normal;font-family:Menlo,'DejaVu Sans Mono',consolas,'Courier New',monospace\"><span style=\"color: #7fbfbf; text-decoration-color: #7fbfbf\">[01/27/25 23:07:24] </span><span style=\"color: #000080; text-decoration-color: #000080\">INFO    </span> <span style=\"font-weight: bold\">[</span><span style=\"color: #008080; text-decoration-color: #008080; font-weight: bold\">173</span>/<span style=\"color: #008080; text-decoration-color: #008080; font-weight: bold\">380</span><span style=\"font-weight: bold\">]</span> Retrieving game with <span style=\"color: #808000; text-decoration-color: #808000\">id</span>=<span style=\"color: #800080; text-decoration-color: #800080\">bfbfbbe8</span>                                <a href=\"file:///usr/local/lib/python3.11/dist-packages/soccerdata/fbref.py\" target=\"_blank\"><span style=\"color: #7f7f7f; text-decoration-color: #7f7f7f\">fbref.py</span></a><span style=\"color: #7f7f7f; text-decoration-color: #7f7f7f\">:</span><a href=\"file:///usr/local/lib/python3.11/dist-packages/soccerdata/fbref.py#815\" target=\"_blank\"><span style=\"color: #7f7f7f; text-decoration-color: #7f7f7f\">815</span></a>\n",
              "</pre>\n"
            ]
          },
          "metadata": {}
        },
        {
          "output_type": "display_data",
          "data": {
            "text/plain": [
              "\u001b[2;36m[01/27/25 23:07:30]\u001b[0m\u001b[2;36m \u001b[0m\u001b[34mINFO    \u001b[0m \u001b[1m[\u001b[0m\u001b[1;36m174\u001b[0m/\u001b[1;36m380\u001b[0m\u001b[1m]\u001b[0m Retrieving game with \u001b[33mid\u001b[0m=\u001b[35m46bfb645\u001b[0m                                \u001b]8;id=985516;file:///usr/local/lib/python3.11/dist-packages/soccerdata/fbref.py\u001b\\\u001b[2mfbref.py\u001b[0m\u001b]8;;\u001b\\\u001b[2m:\u001b[0m\u001b]8;id=858978;file:///usr/local/lib/python3.11/dist-packages/soccerdata/fbref.py#815\u001b\\\u001b[2m815\u001b[0m\u001b]8;;\u001b\\\n"
            ],
            "text/html": [
              "<pre style=\"white-space:pre;overflow-x:auto;line-height:normal;font-family:Menlo,'DejaVu Sans Mono',consolas,'Courier New',monospace\"><span style=\"color: #7fbfbf; text-decoration-color: #7fbfbf\">[01/27/25 23:07:30] </span><span style=\"color: #000080; text-decoration-color: #000080\">INFO    </span> <span style=\"font-weight: bold\">[</span><span style=\"color: #008080; text-decoration-color: #008080; font-weight: bold\">174</span>/<span style=\"color: #008080; text-decoration-color: #008080; font-weight: bold\">380</span><span style=\"font-weight: bold\">]</span> Retrieving game with <span style=\"color: #808000; text-decoration-color: #808000\">id</span>=<span style=\"color: #800080; text-decoration-color: #800080\">46bfb645</span>                                <a href=\"file:///usr/local/lib/python3.11/dist-packages/soccerdata/fbref.py\" target=\"_blank\"><span style=\"color: #7f7f7f; text-decoration-color: #7f7f7f\">fbref.py</span></a><span style=\"color: #7f7f7f; text-decoration-color: #7f7f7f\">:</span><a href=\"file:///usr/local/lib/python3.11/dist-packages/soccerdata/fbref.py#815\" target=\"_blank\"><span style=\"color: #7f7f7f; text-decoration-color: #7f7f7f\">815</span></a>\n",
              "</pre>\n"
            ]
          },
          "metadata": {}
        },
        {
          "output_type": "display_data",
          "data": {
            "text/plain": [
              "\u001b[2;36m[01/27/25 23:07:37]\u001b[0m\u001b[2;36m \u001b[0m\u001b[34mINFO    \u001b[0m \u001b[1m[\u001b[0m\u001b[1;36m175\u001b[0m/\u001b[1;36m380\u001b[0m\u001b[1m]\u001b[0m Retrieving game with \u001b[33mid\u001b[0m=\u001b[35mc5548935\u001b[0m                                \u001b]8;id=957731;file:///usr/local/lib/python3.11/dist-packages/soccerdata/fbref.py\u001b\\\u001b[2mfbref.py\u001b[0m\u001b]8;;\u001b\\\u001b[2m:\u001b[0m\u001b]8;id=295690;file:///usr/local/lib/python3.11/dist-packages/soccerdata/fbref.py#815\u001b\\\u001b[2m815\u001b[0m\u001b]8;;\u001b\\\n"
            ],
            "text/html": [
              "<pre style=\"white-space:pre;overflow-x:auto;line-height:normal;font-family:Menlo,'DejaVu Sans Mono',consolas,'Courier New',monospace\"><span style=\"color: #7fbfbf; text-decoration-color: #7fbfbf\">[01/27/25 23:07:37] </span><span style=\"color: #000080; text-decoration-color: #000080\">INFO    </span> <span style=\"font-weight: bold\">[</span><span style=\"color: #008080; text-decoration-color: #008080; font-weight: bold\">175</span>/<span style=\"color: #008080; text-decoration-color: #008080; font-weight: bold\">380</span><span style=\"font-weight: bold\">]</span> Retrieving game with <span style=\"color: #808000; text-decoration-color: #808000\">id</span>=<span style=\"color: #800080; text-decoration-color: #800080\">c5548935</span>                                <a href=\"file:///usr/local/lib/python3.11/dist-packages/soccerdata/fbref.py\" target=\"_blank\"><span style=\"color: #7f7f7f; text-decoration-color: #7f7f7f\">fbref.py</span></a><span style=\"color: #7f7f7f; text-decoration-color: #7f7f7f\">:</span><a href=\"file:///usr/local/lib/python3.11/dist-packages/soccerdata/fbref.py#815\" target=\"_blank\"><span style=\"color: #7f7f7f; text-decoration-color: #7f7f7f\">815</span></a>\n",
              "</pre>\n"
            ]
          },
          "metadata": {}
        },
        {
          "output_type": "display_data",
          "data": {
            "text/plain": [
              "\u001b[2;36m[01/27/25 23:07:44]\u001b[0m\u001b[2;36m \u001b[0m\u001b[34mINFO    \u001b[0m \u001b[1m[\u001b[0m\u001b[1;36m176\u001b[0m/\u001b[1;36m380\u001b[0m\u001b[1m]\u001b[0m Retrieving game with \u001b[33mid\u001b[0m=\u001b[35m849071fe\u001b[0m                                \u001b]8;id=676170;file:///usr/local/lib/python3.11/dist-packages/soccerdata/fbref.py\u001b\\\u001b[2mfbref.py\u001b[0m\u001b]8;;\u001b\\\u001b[2m:\u001b[0m\u001b]8;id=324255;file:///usr/local/lib/python3.11/dist-packages/soccerdata/fbref.py#815\u001b\\\u001b[2m815\u001b[0m\u001b]8;;\u001b\\\n"
            ],
            "text/html": [
              "<pre style=\"white-space:pre;overflow-x:auto;line-height:normal;font-family:Menlo,'DejaVu Sans Mono',consolas,'Courier New',monospace\"><span style=\"color: #7fbfbf; text-decoration-color: #7fbfbf\">[01/27/25 23:07:44] </span><span style=\"color: #000080; text-decoration-color: #000080\">INFO    </span> <span style=\"font-weight: bold\">[</span><span style=\"color: #008080; text-decoration-color: #008080; font-weight: bold\">176</span>/<span style=\"color: #008080; text-decoration-color: #008080; font-weight: bold\">380</span><span style=\"font-weight: bold\">]</span> Retrieving game with <span style=\"color: #808000; text-decoration-color: #808000\">id</span>=<span style=\"color: #800080; text-decoration-color: #800080\">849071fe</span>                                <a href=\"file:///usr/local/lib/python3.11/dist-packages/soccerdata/fbref.py\" target=\"_blank\"><span style=\"color: #7f7f7f; text-decoration-color: #7f7f7f\">fbref.py</span></a><span style=\"color: #7f7f7f; text-decoration-color: #7f7f7f\">:</span><a href=\"file:///usr/local/lib/python3.11/dist-packages/soccerdata/fbref.py#815\" target=\"_blank\"><span style=\"color: #7f7f7f; text-decoration-color: #7f7f7f\">815</span></a>\n",
              "</pre>\n"
            ]
          },
          "metadata": {}
        },
        {
          "output_type": "display_data",
          "data": {
            "text/plain": [
              "\u001b[2;36m[01/27/25 23:07:50]\u001b[0m\u001b[2;36m \u001b[0m\u001b[34mINFO    \u001b[0m \u001b[1m[\u001b[0m\u001b[1;36m177\u001b[0m/\u001b[1;36m380\u001b[0m\u001b[1m]\u001b[0m Retrieving game with \u001b[33mid\u001b[0m=\u001b[35m328777ed\u001b[0m                                \u001b]8;id=467661;file:///usr/local/lib/python3.11/dist-packages/soccerdata/fbref.py\u001b\\\u001b[2mfbref.py\u001b[0m\u001b]8;;\u001b\\\u001b[2m:\u001b[0m\u001b]8;id=194617;file:///usr/local/lib/python3.11/dist-packages/soccerdata/fbref.py#815\u001b\\\u001b[2m815\u001b[0m\u001b]8;;\u001b\\\n"
            ],
            "text/html": [
              "<pre style=\"white-space:pre;overflow-x:auto;line-height:normal;font-family:Menlo,'DejaVu Sans Mono',consolas,'Courier New',monospace\"><span style=\"color: #7fbfbf; text-decoration-color: #7fbfbf\">[01/27/25 23:07:50] </span><span style=\"color: #000080; text-decoration-color: #000080\">INFO    </span> <span style=\"font-weight: bold\">[</span><span style=\"color: #008080; text-decoration-color: #008080; font-weight: bold\">177</span>/<span style=\"color: #008080; text-decoration-color: #008080; font-weight: bold\">380</span><span style=\"font-weight: bold\">]</span> Retrieving game with <span style=\"color: #808000; text-decoration-color: #808000\">id</span>=<span style=\"color: #800080; text-decoration-color: #800080\">328777ed</span>                                <a href=\"file:///usr/local/lib/python3.11/dist-packages/soccerdata/fbref.py\" target=\"_blank\"><span style=\"color: #7f7f7f; text-decoration-color: #7f7f7f\">fbref.py</span></a><span style=\"color: #7f7f7f; text-decoration-color: #7f7f7f\">:</span><a href=\"file:///usr/local/lib/python3.11/dist-packages/soccerdata/fbref.py#815\" target=\"_blank\"><span style=\"color: #7f7f7f; text-decoration-color: #7f7f7f\">815</span></a>\n",
              "</pre>\n"
            ]
          },
          "metadata": {}
        },
        {
          "output_type": "display_data",
          "data": {
            "text/plain": [
              "\u001b[2;36m[01/27/25 23:07:57]\u001b[0m\u001b[2;36m \u001b[0m\u001b[34mINFO    \u001b[0m \u001b[1m[\u001b[0m\u001b[1;36m178\u001b[0m/\u001b[1;36m380\u001b[0m\u001b[1m]\u001b[0m Retrieving game with \u001b[33mid\u001b[0m=\u001b[35m8c0b314c\u001b[0m                                \u001b]8;id=216992;file:///usr/local/lib/python3.11/dist-packages/soccerdata/fbref.py\u001b\\\u001b[2mfbref.py\u001b[0m\u001b]8;;\u001b\\\u001b[2m:\u001b[0m\u001b]8;id=472054;file:///usr/local/lib/python3.11/dist-packages/soccerdata/fbref.py#815\u001b\\\u001b[2m815\u001b[0m\u001b]8;;\u001b\\\n"
            ],
            "text/html": [
              "<pre style=\"white-space:pre;overflow-x:auto;line-height:normal;font-family:Menlo,'DejaVu Sans Mono',consolas,'Courier New',monospace\"><span style=\"color: #7fbfbf; text-decoration-color: #7fbfbf\">[01/27/25 23:07:57] </span><span style=\"color: #000080; text-decoration-color: #000080\">INFO    </span> <span style=\"font-weight: bold\">[</span><span style=\"color: #008080; text-decoration-color: #008080; font-weight: bold\">178</span>/<span style=\"color: #008080; text-decoration-color: #008080; font-weight: bold\">380</span><span style=\"font-weight: bold\">]</span> Retrieving game with <span style=\"color: #808000; text-decoration-color: #808000\">id</span>=<span style=\"color: #800080; text-decoration-color: #800080\">8c0b314c</span>                                <a href=\"file:///usr/local/lib/python3.11/dist-packages/soccerdata/fbref.py\" target=\"_blank\"><span style=\"color: #7f7f7f; text-decoration-color: #7f7f7f\">fbref.py</span></a><span style=\"color: #7f7f7f; text-decoration-color: #7f7f7f\">:</span><a href=\"file:///usr/local/lib/python3.11/dist-packages/soccerdata/fbref.py#815\" target=\"_blank\"><span style=\"color: #7f7f7f; text-decoration-color: #7f7f7f\">815</span></a>\n",
              "</pre>\n"
            ]
          },
          "metadata": {}
        },
        {
          "output_type": "display_data",
          "data": {
            "text/plain": [
              "\u001b[2;36m[01/27/25 23:08:03]\u001b[0m\u001b[2;36m \u001b[0m\u001b[34mINFO    \u001b[0m \u001b[1m[\u001b[0m\u001b[1;36m179\u001b[0m/\u001b[1;36m380\u001b[0m\u001b[1m]\u001b[0m Retrieving game with \u001b[33mid\u001b[0m=\u001b[35m331c942d\u001b[0m                                \u001b]8;id=845424;file:///usr/local/lib/python3.11/dist-packages/soccerdata/fbref.py\u001b\\\u001b[2mfbref.py\u001b[0m\u001b]8;;\u001b\\\u001b[2m:\u001b[0m\u001b]8;id=221137;file:///usr/local/lib/python3.11/dist-packages/soccerdata/fbref.py#815\u001b\\\u001b[2m815\u001b[0m\u001b]8;;\u001b\\\n"
            ],
            "text/html": [
              "<pre style=\"white-space:pre;overflow-x:auto;line-height:normal;font-family:Menlo,'DejaVu Sans Mono',consolas,'Courier New',monospace\"><span style=\"color: #7fbfbf; text-decoration-color: #7fbfbf\">[01/27/25 23:08:03] </span><span style=\"color: #000080; text-decoration-color: #000080\">INFO    </span> <span style=\"font-weight: bold\">[</span><span style=\"color: #008080; text-decoration-color: #008080; font-weight: bold\">179</span>/<span style=\"color: #008080; text-decoration-color: #008080; font-weight: bold\">380</span><span style=\"font-weight: bold\">]</span> Retrieving game with <span style=\"color: #808000; text-decoration-color: #808000\">id</span>=<span style=\"color: #800080; text-decoration-color: #800080\">331c942d</span>                                <a href=\"file:///usr/local/lib/python3.11/dist-packages/soccerdata/fbref.py\" target=\"_blank\"><span style=\"color: #7f7f7f; text-decoration-color: #7f7f7f\">fbref.py</span></a><span style=\"color: #7f7f7f; text-decoration-color: #7f7f7f\">:</span><a href=\"file:///usr/local/lib/python3.11/dist-packages/soccerdata/fbref.py#815\" target=\"_blank\"><span style=\"color: #7f7f7f; text-decoration-color: #7f7f7f\">815</span></a>\n",
              "</pre>\n"
            ]
          },
          "metadata": {}
        },
        {
          "output_type": "display_data",
          "data": {
            "text/plain": [
              "\u001b[2;36m[01/27/25 23:08:11]\u001b[0m\u001b[2;36m \u001b[0m\u001b[34mINFO    \u001b[0m \u001b[1m[\u001b[0m\u001b[1;36m180\u001b[0m/\u001b[1;36m380\u001b[0m\u001b[1m]\u001b[0m Retrieving game with \u001b[33mid\u001b[0m=\u001b[35mc0904954\u001b[0m                                \u001b]8;id=638991;file:///usr/local/lib/python3.11/dist-packages/soccerdata/fbref.py\u001b\\\u001b[2mfbref.py\u001b[0m\u001b]8;;\u001b\\\u001b[2m:\u001b[0m\u001b]8;id=479194;file:///usr/local/lib/python3.11/dist-packages/soccerdata/fbref.py#815\u001b\\\u001b[2m815\u001b[0m\u001b]8;;\u001b\\\n"
            ],
            "text/html": [
              "<pre style=\"white-space:pre;overflow-x:auto;line-height:normal;font-family:Menlo,'DejaVu Sans Mono',consolas,'Courier New',monospace\"><span style=\"color: #7fbfbf; text-decoration-color: #7fbfbf\">[01/27/25 23:08:11] </span><span style=\"color: #000080; text-decoration-color: #000080\">INFO    </span> <span style=\"font-weight: bold\">[</span><span style=\"color: #008080; text-decoration-color: #008080; font-weight: bold\">180</span>/<span style=\"color: #008080; text-decoration-color: #008080; font-weight: bold\">380</span><span style=\"font-weight: bold\">]</span> Retrieving game with <span style=\"color: #808000; text-decoration-color: #808000\">id</span>=<span style=\"color: #800080; text-decoration-color: #800080\">c0904954</span>                                <a href=\"file:///usr/local/lib/python3.11/dist-packages/soccerdata/fbref.py\" target=\"_blank\"><span style=\"color: #7f7f7f; text-decoration-color: #7f7f7f\">fbref.py</span></a><span style=\"color: #7f7f7f; text-decoration-color: #7f7f7f\">:</span><a href=\"file:///usr/local/lib/python3.11/dist-packages/soccerdata/fbref.py#815\" target=\"_blank\"><span style=\"color: #7f7f7f; text-decoration-color: #7f7f7f\">815</span></a>\n",
              "</pre>\n"
            ]
          },
          "metadata": {}
        },
        {
          "output_type": "display_data",
          "data": {
            "text/plain": [
              "\u001b[2;36m[01/27/25 23:08:18]\u001b[0m\u001b[2;36m \u001b[0m\u001b[34mINFO    \u001b[0m \u001b[1m[\u001b[0m\u001b[1;36m181\u001b[0m/\u001b[1;36m380\u001b[0m\u001b[1m]\u001b[0m Retrieving game with \u001b[33mid\u001b[0m=\u001b[35m83709fdf\u001b[0m                                \u001b]8;id=361069;file:///usr/local/lib/python3.11/dist-packages/soccerdata/fbref.py\u001b\\\u001b[2mfbref.py\u001b[0m\u001b]8;;\u001b\\\u001b[2m:\u001b[0m\u001b]8;id=270787;file:///usr/local/lib/python3.11/dist-packages/soccerdata/fbref.py#815\u001b\\\u001b[2m815\u001b[0m\u001b]8;;\u001b\\\n"
            ],
            "text/html": [
              "<pre style=\"white-space:pre;overflow-x:auto;line-height:normal;font-family:Menlo,'DejaVu Sans Mono',consolas,'Courier New',monospace\"><span style=\"color: #7fbfbf; text-decoration-color: #7fbfbf\">[01/27/25 23:08:18] </span><span style=\"color: #000080; text-decoration-color: #000080\">INFO    </span> <span style=\"font-weight: bold\">[</span><span style=\"color: #008080; text-decoration-color: #008080; font-weight: bold\">181</span>/<span style=\"color: #008080; text-decoration-color: #008080; font-weight: bold\">380</span><span style=\"font-weight: bold\">]</span> Retrieving game with <span style=\"color: #808000; text-decoration-color: #808000\">id</span>=<span style=\"color: #800080; text-decoration-color: #800080\">83709fdf</span>                                <a href=\"file:///usr/local/lib/python3.11/dist-packages/soccerdata/fbref.py\" target=\"_blank\"><span style=\"color: #7f7f7f; text-decoration-color: #7f7f7f\">fbref.py</span></a><span style=\"color: #7f7f7f; text-decoration-color: #7f7f7f\">:</span><a href=\"file:///usr/local/lib/python3.11/dist-packages/soccerdata/fbref.py#815\" target=\"_blank\"><span style=\"color: #7f7f7f; text-decoration-color: #7f7f7f\">815</span></a>\n",
              "</pre>\n"
            ]
          },
          "metadata": {}
        },
        {
          "output_type": "display_data",
          "data": {
            "text/plain": [
              "\u001b[2;36m[01/27/25 23:08:24]\u001b[0m\u001b[2;36m \u001b[0m\u001b[34mINFO    \u001b[0m \u001b[1m[\u001b[0m\u001b[1;36m182\u001b[0m/\u001b[1;36m380\u001b[0m\u001b[1m]\u001b[0m Retrieving game with \u001b[33mid\u001b[0m=\u001b[35mf22a20f0\u001b[0m                                \u001b]8;id=468312;file:///usr/local/lib/python3.11/dist-packages/soccerdata/fbref.py\u001b\\\u001b[2mfbref.py\u001b[0m\u001b]8;;\u001b\\\u001b[2m:\u001b[0m\u001b]8;id=565465;file:///usr/local/lib/python3.11/dist-packages/soccerdata/fbref.py#815\u001b\\\u001b[2m815\u001b[0m\u001b]8;;\u001b\\\n"
            ],
            "text/html": [
              "<pre style=\"white-space:pre;overflow-x:auto;line-height:normal;font-family:Menlo,'DejaVu Sans Mono',consolas,'Courier New',monospace\"><span style=\"color: #7fbfbf; text-decoration-color: #7fbfbf\">[01/27/25 23:08:24] </span><span style=\"color: #000080; text-decoration-color: #000080\">INFO    </span> <span style=\"font-weight: bold\">[</span><span style=\"color: #008080; text-decoration-color: #008080; font-weight: bold\">182</span>/<span style=\"color: #008080; text-decoration-color: #008080; font-weight: bold\">380</span><span style=\"font-weight: bold\">]</span> Retrieving game with <span style=\"color: #808000; text-decoration-color: #808000\">id</span>=<span style=\"color: #800080; text-decoration-color: #800080\">f22a20f0</span>                                <a href=\"file:///usr/local/lib/python3.11/dist-packages/soccerdata/fbref.py\" target=\"_blank\"><span style=\"color: #7f7f7f; text-decoration-color: #7f7f7f\">fbref.py</span></a><span style=\"color: #7f7f7f; text-decoration-color: #7f7f7f\">:</span><a href=\"file:///usr/local/lib/python3.11/dist-packages/soccerdata/fbref.py#815\" target=\"_blank\"><span style=\"color: #7f7f7f; text-decoration-color: #7f7f7f\">815</span></a>\n",
              "</pre>\n"
            ]
          },
          "metadata": {}
        },
        {
          "output_type": "display_data",
          "data": {
            "text/plain": [
              "\u001b[2;36m[01/27/25 23:08:30]\u001b[0m\u001b[2;36m \u001b[0m\u001b[34mINFO    \u001b[0m \u001b[1m[\u001b[0m\u001b[1;36m183\u001b[0m/\u001b[1;36m380\u001b[0m\u001b[1m]\u001b[0m Retrieving game with \u001b[33mid\u001b[0m=\u001b[35m6269b2e3\u001b[0m                                \u001b]8;id=881219;file:///usr/local/lib/python3.11/dist-packages/soccerdata/fbref.py\u001b\\\u001b[2mfbref.py\u001b[0m\u001b]8;;\u001b\\\u001b[2m:\u001b[0m\u001b]8;id=974002;file:///usr/local/lib/python3.11/dist-packages/soccerdata/fbref.py#815\u001b\\\u001b[2m815\u001b[0m\u001b]8;;\u001b\\\n"
            ],
            "text/html": [
              "<pre style=\"white-space:pre;overflow-x:auto;line-height:normal;font-family:Menlo,'DejaVu Sans Mono',consolas,'Courier New',monospace\"><span style=\"color: #7fbfbf; text-decoration-color: #7fbfbf\">[01/27/25 23:08:30] </span><span style=\"color: #000080; text-decoration-color: #000080\">INFO    </span> <span style=\"font-weight: bold\">[</span><span style=\"color: #008080; text-decoration-color: #008080; font-weight: bold\">183</span>/<span style=\"color: #008080; text-decoration-color: #008080; font-weight: bold\">380</span><span style=\"font-weight: bold\">]</span> Retrieving game with <span style=\"color: #808000; text-decoration-color: #808000\">id</span>=<span style=\"color: #800080; text-decoration-color: #800080\">6269b2e3</span>                                <a href=\"file:///usr/local/lib/python3.11/dist-packages/soccerdata/fbref.py\" target=\"_blank\"><span style=\"color: #7f7f7f; text-decoration-color: #7f7f7f\">fbref.py</span></a><span style=\"color: #7f7f7f; text-decoration-color: #7f7f7f\">:</span><a href=\"file:///usr/local/lib/python3.11/dist-packages/soccerdata/fbref.py#815\" target=\"_blank\"><span style=\"color: #7f7f7f; text-decoration-color: #7f7f7f\">815</span></a>\n",
              "</pre>\n"
            ]
          },
          "metadata": {}
        },
        {
          "output_type": "display_data",
          "data": {
            "text/plain": [
              "\u001b[2;36m[01/27/25 23:08:38]\u001b[0m\u001b[2;36m \u001b[0m\u001b[34mINFO    \u001b[0m \u001b[1m[\u001b[0m\u001b[1;36m184\u001b[0m/\u001b[1;36m380\u001b[0m\u001b[1m]\u001b[0m Retrieving game with \u001b[33mid\u001b[0m=\u001b[35mea28d527\u001b[0m                                \u001b]8;id=964098;file:///usr/local/lib/python3.11/dist-packages/soccerdata/fbref.py\u001b\\\u001b[2mfbref.py\u001b[0m\u001b]8;;\u001b\\\u001b[2m:\u001b[0m\u001b]8;id=420772;file:///usr/local/lib/python3.11/dist-packages/soccerdata/fbref.py#815\u001b\\\u001b[2m815\u001b[0m\u001b]8;;\u001b\\\n"
            ],
            "text/html": [
              "<pre style=\"white-space:pre;overflow-x:auto;line-height:normal;font-family:Menlo,'DejaVu Sans Mono',consolas,'Courier New',monospace\"><span style=\"color: #7fbfbf; text-decoration-color: #7fbfbf\">[01/27/25 23:08:38] </span><span style=\"color: #000080; text-decoration-color: #000080\">INFO    </span> <span style=\"font-weight: bold\">[</span><span style=\"color: #008080; text-decoration-color: #008080; font-weight: bold\">184</span>/<span style=\"color: #008080; text-decoration-color: #008080; font-weight: bold\">380</span><span style=\"font-weight: bold\">]</span> Retrieving game with <span style=\"color: #808000; text-decoration-color: #808000\">id</span>=<span style=\"color: #800080; text-decoration-color: #800080\">ea28d527</span>                                <a href=\"file:///usr/local/lib/python3.11/dist-packages/soccerdata/fbref.py\" target=\"_blank\"><span style=\"color: #7f7f7f; text-decoration-color: #7f7f7f\">fbref.py</span></a><span style=\"color: #7f7f7f; text-decoration-color: #7f7f7f\">:</span><a href=\"file:///usr/local/lib/python3.11/dist-packages/soccerdata/fbref.py#815\" target=\"_blank\"><span style=\"color: #7f7f7f; text-decoration-color: #7f7f7f\">815</span></a>\n",
              "</pre>\n"
            ]
          },
          "metadata": {}
        },
        {
          "output_type": "display_data",
          "data": {
            "text/plain": [
              "\u001b[2;36m[01/27/25 23:08:44]\u001b[0m\u001b[2;36m \u001b[0m\u001b[34mINFO    \u001b[0m \u001b[1m[\u001b[0m\u001b[1;36m185\u001b[0m/\u001b[1;36m380\u001b[0m\u001b[1m]\u001b[0m Retrieving game with \u001b[33mid\u001b[0m=\u001b[35m2bfb6552\u001b[0m                                \u001b]8;id=808676;file:///usr/local/lib/python3.11/dist-packages/soccerdata/fbref.py\u001b\\\u001b[2mfbref.py\u001b[0m\u001b]8;;\u001b\\\u001b[2m:\u001b[0m\u001b]8;id=785067;file:///usr/local/lib/python3.11/dist-packages/soccerdata/fbref.py#815\u001b\\\u001b[2m815\u001b[0m\u001b]8;;\u001b\\\n"
            ],
            "text/html": [
              "<pre style=\"white-space:pre;overflow-x:auto;line-height:normal;font-family:Menlo,'DejaVu Sans Mono',consolas,'Courier New',monospace\"><span style=\"color: #7fbfbf; text-decoration-color: #7fbfbf\">[01/27/25 23:08:44] </span><span style=\"color: #000080; text-decoration-color: #000080\">INFO    </span> <span style=\"font-weight: bold\">[</span><span style=\"color: #008080; text-decoration-color: #008080; font-weight: bold\">185</span>/<span style=\"color: #008080; text-decoration-color: #008080; font-weight: bold\">380</span><span style=\"font-weight: bold\">]</span> Retrieving game with <span style=\"color: #808000; text-decoration-color: #808000\">id</span>=<span style=\"color: #800080; text-decoration-color: #800080\">2bfb6552</span>                                <a href=\"file:///usr/local/lib/python3.11/dist-packages/soccerdata/fbref.py\" target=\"_blank\"><span style=\"color: #7f7f7f; text-decoration-color: #7f7f7f\">fbref.py</span></a><span style=\"color: #7f7f7f; text-decoration-color: #7f7f7f\">:</span><a href=\"file:///usr/local/lib/python3.11/dist-packages/soccerdata/fbref.py#815\" target=\"_blank\"><span style=\"color: #7f7f7f; text-decoration-color: #7f7f7f\">815</span></a>\n",
              "</pre>\n"
            ]
          },
          "metadata": {}
        },
        {
          "output_type": "display_data",
          "data": {
            "text/plain": [
              "\u001b[2;36m[01/27/25 23:08:50]\u001b[0m\u001b[2;36m \u001b[0m\u001b[34mINFO    \u001b[0m \u001b[1m[\u001b[0m\u001b[1;36m186\u001b[0m/\u001b[1;36m380\u001b[0m\u001b[1m]\u001b[0m Retrieving game with \u001b[33mid\u001b[0m=\u001b[35mb9f69f01\u001b[0m                                \u001b]8;id=862336;file:///usr/local/lib/python3.11/dist-packages/soccerdata/fbref.py\u001b\\\u001b[2mfbref.py\u001b[0m\u001b]8;;\u001b\\\u001b[2m:\u001b[0m\u001b]8;id=732098;file:///usr/local/lib/python3.11/dist-packages/soccerdata/fbref.py#815\u001b\\\u001b[2m815\u001b[0m\u001b]8;;\u001b\\\n"
            ],
            "text/html": [
              "<pre style=\"white-space:pre;overflow-x:auto;line-height:normal;font-family:Menlo,'DejaVu Sans Mono',consolas,'Courier New',monospace\"><span style=\"color: #7fbfbf; text-decoration-color: #7fbfbf\">[01/27/25 23:08:50] </span><span style=\"color: #000080; text-decoration-color: #000080\">INFO    </span> <span style=\"font-weight: bold\">[</span><span style=\"color: #008080; text-decoration-color: #008080; font-weight: bold\">186</span>/<span style=\"color: #008080; text-decoration-color: #008080; font-weight: bold\">380</span><span style=\"font-weight: bold\">]</span> Retrieving game with <span style=\"color: #808000; text-decoration-color: #808000\">id</span>=<span style=\"color: #800080; text-decoration-color: #800080\">b9f69f01</span>                                <a href=\"file:///usr/local/lib/python3.11/dist-packages/soccerdata/fbref.py\" target=\"_blank\"><span style=\"color: #7f7f7f; text-decoration-color: #7f7f7f\">fbref.py</span></a><span style=\"color: #7f7f7f; text-decoration-color: #7f7f7f\">:</span><a href=\"file:///usr/local/lib/python3.11/dist-packages/soccerdata/fbref.py#815\" target=\"_blank\"><span style=\"color: #7f7f7f; text-decoration-color: #7f7f7f\">815</span></a>\n",
              "</pre>\n"
            ]
          },
          "metadata": {}
        },
        {
          "output_type": "display_data",
          "data": {
            "text/plain": [
              "\u001b[2;36m[01/27/25 23:08:56]\u001b[0m\u001b[2;36m \u001b[0m\u001b[34mINFO    \u001b[0m \u001b[1m[\u001b[0m\u001b[1;36m187\u001b[0m/\u001b[1;36m380\u001b[0m\u001b[1m]\u001b[0m Retrieving game with \u001b[33mid\u001b[0m=\u001b[35mba570015\u001b[0m                                \u001b]8;id=118140;file:///usr/local/lib/python3.11/dist-packages/soccerdata/fbref.py\u001b\\\u001b[2mfbref.py\u001b[0m\u001b]8;;\u001b\\\u001b[2m:\u001b[0m\u001b]8;id=168422;file:///usr/local/lib/python3.11/dist-packages/soccerdata/fbref.py#815\u001b\\\u001b[2m815\u001b[0m\u001b]8;;\u001b\\\n"
            ],
            "text/html": [
              "<pre style=\"white-space:pre;overflow-x:auto;line-height:normal;font-family:Menlo,'DejaVu Sans Mono',consolas,'Courier New',monospace\"><span style=\"color: #7fbfbf; text-decoration-color: #7fbfbf\">[01/27/25 23:08:56] </span><span style=\"color: #000080; text-decoration-color: #000080\">INFO    </span> <span style=\"font-weight: bold\">[</span><span style=\"color: #008080; text-decoration-color: #008080; font-weight: bold\">187</span>/<span style=\"color: #008080; text-decoration-color: #008080; font-weight: bold\">380</span><span style=\"font-weight: bold\">]</span> Retrieving game with <span style=\"color: #808000; text-decoration-color: #808000\">id</span>=<span style=\"color: #800080; text-decoration-color: #800080\">ba570015</span>                                <a href=\"file:///usr/local/lib/python3.11/dist-packages/soccerdata/fbref.py\" target=\"_blank\"><span style=\"color: #7f7f7f; text-decoration-color: #7f7f7f\">fbref.py</span></a><span style=\"color: #7f7f7f; text-decoration-color: #7f7f7f\">:</span><a href=\"file:///usr/local/lib/python3.11/dist-packages/soccerdata/fbref.py#815\" target=\"_blank\"><span style=\"color: #7f7f7f; text-decoration-color: #7f7f7f\">815</span></a>\n",
              "</pre>\n"
            ]
          },
          "metadata": {}
        },
        {
          "output_type": "display_data",
          "data": {
            "text/plain": [
              "\u001b[2;36m[01/27/25 23:09:03]\u001b[0m\u001b[2;36m \u001b[0m\u001b[34mINFO    \u001b[0m \u001b[1m[\u001b[0m\u001b[1;36m188\u001b[0m/\u001b[1;36m380\u001b[0m\u001b[1m]\u001b[0m Retrieving game with \u001b[33mid\u001b[0m=\u001b[35m3e2e9248\u001b[0m                                \u001b]8;id=83138;file:///usr/local/lib/python3.11/dist-packages/soccerdata/fbref.py\u001b\\\u001b[2mfbref.py\u001b[0m\u001b]8;;\u001b\\\u001b[2m:\u001b[0m\u001b]8;id=682318;file:///usr/local/lib/python3.11/dist-packages/soccerdata/fbref.py#815\u001b\\\u001b[2m815\u001b[0m\u001b]8;;\u001b\\\n"
            ],
            "text/html": [
              "<pre style=\"white-space:pre;overflow-x:auto;line-height:normal;font-family:Menlo,'DejaVu Sans Mono',consolas,'Courier New',monospace\"><span style=\"color: #7fbfbf; text-decoration-color: #7fbfbf\">[01/27/25 23:09:03] </span><span style=\"color: #000080; text-decoration-color: #000080\">INFO    </span> <span style=\"font-weight: bold\">[</span><span style=\"color: #008080; text-decoration-color: #008080; font-weight: bold\">188</span>/<span style=\"color: #008080; text-decoration-color: #008080; font-weight: bold\">380</span><span style=\"font-weight: bold\">]</span> Retrieving game with <span style=\"color: #808000; text-decoration-color: #808000\">id</span>=<span style=\"color: #800080; text-decoration-color: #800080\">3e2e9248</span>                                <a href=\"file:///usr/local/lib/python3.11/dist-packages/soccerdata/fbref.py\" target=\"_blank\"><span style=\"color: #7f7f7f; text-decoration-color: #7f7f7f\">fbref.py</span></a><span style=\"color: #7f7f7f; text-decoration-color: #7f7f7f\">:</span><a href=\"file:///usr/local/lib/python3.11/dist-packages/soccerdata/fbref.py#815\" target=\"_blank\"><span style=\"color: #7f7f7f; text-decoration-color: #7f7f7f\">815</span></a>\n",
              "</pre>\n"
            ]
          },
          "metadata": {}
        },
        {
          "output_type": "display_data",
          "data": {
            "text/plain": [
              "\u001b[2;36m[01/27/25 23:09:10]\u001b[0m\u001b[2;36m \u001b[0m\u001b[34mINFO    \u001b[0m \u001b[1m[\u001b[0m\u001b[1;36m189\u001b[0m/\u001b[1;36m380\u001b[0m\u001b[1m]\u001b[0m Retrieving game with \u001b[33mid\u001b[0m=\u001b[35m2828c5bc\u001b[0m                                \u001b]8;id=574887;file:///usr/local/lib/python3.11/dist-packages/soccerdata/fbref.py\u001b\\\u001b[2mfbref.py\u001b[0m\u001b]8;;\u001b\\\u001b[2m:\u001b[0m\u001b]8;id=937955;file:///usr/local/lib/python3.11/dist-packages/soccerdata/fbref.py#815\u001b\\\u001b[2m815\u001b[0m\u001b]8;;\u001b\\\n"
            ],
            "text/html": [
              "<pre style=\"white-space:pre;overflow-x:auto;line-height:normal;font-family:Menlo,'DejaVu Sans Mono',consolas,'Courier New',monospace\"><span style=\"color: #7fbfbf; text-decoration-color: #7fbfbf\">[01/27/25 23:09:10] </span><span style=\"color: #000080; text-decoration-color: #000080\">INFO    </span> <span style=\"font-weight: bold\">[</span><span style=\"color: #008080; text-decoration-color: #008080; font-weight: bold\">189</span>/<span style=\"color: #008080; text-decoration-color: #008080; font-weight: bold\">380</span><span style=\"font-weight: bold\">]</span> Retrieving game with <span style=\"color: #808000; text-decoration-color: #808000\">id</span>=<span style=\"color: #800080; text-decoration-color: #800080\">2828c5bc</span>                                <a href=\"file:///usr/local/lib/python3.11/dist-packages/soccerdata/fbref.py\" target=\"_blank\"><span style=\"color: #7f7f7f; text-decoration-color: #7f7f7f\">fbref.py</span></a><span style=\"color: #7f7f7f; text-decoration-color: #7f7f7f\">:</span><a href=\"file:///usr/local/lib/python3.11/dist-packages/soccerdata/fbref.py#815\" target=\"_blank\"><span style=\"color: #7f7f7f; text-decoration-color: #7f7f7f\">815</span></a>\n",
              "</pre>\n"
            ]
          },
          "metadata": {}
        },
        {
          "output_type": "display_data",
          "data": {
            "text/plain": [
              "\u001b[2;36m[01/27/25 23:09:16]\u001b[0m\u001b[2;36m \u001b[0m\u001b[34mINFO    \u001b[0m \u001b[1m[\u001b[0m\u001b[1;36m190\u001b[0m/\u001b[1;36m380\u001b[0m\u001b[1m]\u001b[0m Retrieving game with \u001b[33mid\u001b[0m=\u001b[35me9d5dd9b\u001b[0m                                \u001b]8;id=482553;file:///usr/local/lib/python3.11/dist-packages/soccerdata/fbref.py\u001b\\\u001b[2mfbref.py\u001b[0m\u001b]8;;\u001b\\\u001b[2m:\u001b[0m\u001b]8;id=613291;file:///usr/local/lib/python3.11/dist-packages/soccerdata/fbref.py#815\u001b\\\u001b[2m815\u001b[0m\u001b]8;;\u001b\\\n"
            ],
            "text/html": [
              "<pre style=\"white-space:pre;overflow-x:auto;line-height:normal;font-family:Menlo,'DejaVu Sans Mono',consolas,'Courier New',monospace\"><span style=\"color: #7fbfbf; text-decoration-color: #7fbfbf\">[01/27/25 23:09:16] </span><span style=\"color: #000080; text-decoration-color: #000080\">INFO    </span> <span style=\"font-weight: bold\">[</span><span style=\"color: #008080; text-decoration-color: #008080; font-weight: bold\">190</span>/<span style=\"color: #008080; text-decoration-color: #008080; font-weight: bold\">380</span><span style=\"font-weight: bold\">]</span> Retrieving game with <span style=\"color: #808000; text-decoration-color: #808000\">id</span>=<span style=\"color: #800080; text-decoration-color: #800080\">e9d5dd9b</span>                                <a href=\"file:///usr/local/lib/python3.11/dist-packages/soccerdata/fbref.py\" target=\"_blank\"><span style=\"color: #7f7f7f; text-decoration-color: #7f7f7f\">fbref.py</span></a><span style=\"color: #7f7f7f; text-decoration-color: #7f7f7f\">:</span><a href=\"file:///usr/local/lib/python3.11/dist-packages/soccerdata/fbref.py#815\" target=\"_blank\"><span style=\"color: #7f7f7f; text-decoration-color: #7f7f7f\">815</span></a>\n",
              "</pre>\n"
            ]
          },
          "metadata": {}
        },
        {
          "output_type": "display_data",
          "data": {
            "text/plain": [
              "\u001b[2;36m[01/27/25 23:09:22]\u001b[0m\u001b[2;36m \u001b[0m\u001b[34mINFO    \u001b[0m \u001b[1m[\u001b[0m\u001b[1;36m191\u001b[0m/\u001b[1;36m380\u001b[0m\u001b[1m]\u001b[0m Retrieving game with \u001b[33mid\u001b[0m=\u001b[35m8e04572c\u001b[0m                                \u001b]8;id=129834;file:///usr/local/lib/python3.11/dist-packages/soccerdata/fbref.py\u001b\\\u001b[2mfbref.py\u001b[0m\u001b]8;;\u001b\\\u001b[2m:\u001b[0m\u001b]8;id=377186;file:///usr/local/lib/python3.11/dist-packages/soccerdata/fbref.py#815\u001b\\\u001b[2m815\u001b[0m\u001b]8;;\u001b\\\n"
            ],
            "text/html": [
              "<pre style=\"white-space:pre;overflow-x:auto;line-height:normal;font-family:Menlo,'DejaVu Sans Mono',consolas,'Courier New',monospace\"><span style=\"color: #7fbfbf; text-decoration-color: #7fbfbf\">[01/27/25 23:09:22] </span><span style=\"color: #000080; text-decoration-color: #000080\">INFO    </span> <span style=\"font-weight: bold\">[</span><span style=\"color: #008080; text-decoration-color: #008080; font-weight: bold\">191</span>/<span style=\"color: #008080; text-decoration-color: #008080; font-weight: bold\">380</span><span style=\"font-weight: bold\">]</span> Retrieving game with <span style=\"color: #808000; text-decoration-color: #808000\">id</span>=<span style=\"color: #800080; text-decoration-color: #800080\">8e04572c</span>                                <a href=\"file:///usr/local/lib/python3.11/dist-packages/soccerdata/fbref.py\" target=\"_blank\"><span style=\"color: #7f7f7f; text-decoration-color: #7f7f7f\">fbref.py</span></a><span style=\"color: #7f7f7f; text-decoration-color: #7f7f7f\">:</span><a href=\"file:///usr/local/lib/python3.11/dist-packages/soccerdata/fbref.py#815\" target=\"_blank\"><span style=\"color: #7f7f7f; text-decoration-color: #7f7f7f\">815</span></a>\n",
              "</pre>\n"
            ]
          },
          "metadata": {}
        },
        {
          "output_type": "display_data",
          "data": {
            "text/plain": [
              "\u001b[2;36m[01/27/25 23:09:29]\u001b[0m\u001b[2;36m \u001b[0m\u001b[34mINFO    \u001b[0m \u001b[1m[\u001b[0m\u001b[1;36m192\u001b[0m/\u001b[1;36m380\u001b[0m\u001b[1m]\u001b[0m Retrieving game with \u001b[33mid\u001b[0m=\u001b[35maefd7405\u001b[0m                                \u001b]8;id=214879;file:///usr/local/lib/python3.11/dist-packages/soccerdata/fbref.py\u001b\\\u001b[2mfbref.py\u001b[0m\u001b]8;;\u001b\\\u001b[2m:\u001b[0m\u001b]8;id=754440;file:///usr/local/lib/python3.11/dist-packages/soccerdata/fbref.py#815\u001b\\\u001b[2m815\u001b[0m\u001b]8;;\u001b\\\n"
            ],
            "text/html": [
              "<pre style=\"white-space:pre;overflow-x:auto;line-height:normal;font-family:Menlo,'DejaVu Sans Mono',consolas,'Courier New',monospace\"><span style=\"color: #7fbfbf; text-decoration-color: #7fbfbf\">[01/27/25 23:09:29] </span><span style=\"color: #000080; text-decoration-color: #000080\">INFO    </span> <span style=\"font-weight: bold\">[</span><span style=\"color: #008080; text-decoration-color: #008080; font-weight: bold\">192</span>/<span style=\"color: #008080; text-decoration-color: #008080; font-weight: bold\">380</span><span style=\"font-weight: bold\">]</span> Retrieving game with <span style=\"color: #808000; text-decoration-color: #808000\">id</span>=<span style=\"color: #800080; text-decoration-color: #800080\">aefd7405</span>                                <a href=\"file:///usr/local/lib/python3.11/dist-packages/soccerdata/fbref.py\" target=\"_blank\"><span style=\"color: #7f7f7f; text-decoration-color: #7f7f7f\">fbref.py</span></a><span style=\"color: #7f7f7f; text-decoration-color: #7f7f7f\">:</span><a href=\"file:///usr/local/lib/python3.11/dist-packages/soccerdata/fbref.py#815\" target=\"_blank\"><span style=\"color: #7f7f7f; text-decoration-color: #7f7f7f\">815</span></a>\n",
              "</pre>\n"
            ]
          },
          "metadata": {}
        },
        {
          "output_type": "display_data",
          "data": {
            "text/plain": [
              "\u001b[2;36m[01/27/25 23:09:35]\u001b[0m\u001b[2;36m \u001b[0m\u001b[34mINFO    \u001b[0m \u001b[1m[\u001b[0m\u001b[1;36m193\u001b[0m/\u001b[1;36m380\u001b[0m\u001b[1m]\u001b[0m Retrieving game with \u001b[33mid\u001b[0m=\u001b[35m1aa68cba\u001b[0m                                \u001b]8;id=567189;file:///usr/local/lib/python3.11/dist-packages/soccerdata/fbref.py\u001b\\\u001b[2mfbref.py\u001b[0m\u001b]8;;\u001b\\\u001b[2m:\u001b[0m\u001b]8;id=398217;file:///usr/local/lib/python3.11/dist-packages/soccerdata/fbref.py#815\u001b\\\u001b[2m815\u001b[0m\u001b]8;;\u001b\\\n"
            ],
            "text/html": [
              "<pre style=\"white-space:pre;overflow-x:auto;line-height:normal;font-family:Menlo,'DejaVu Sans Mono',consolas,'Courier New',monospace\"><span style=\"color: #7fbfbf; text-decoration-color: #7fbfbf\">[01/27/25 23:09:35] </span><span style=\"color: #000080; text-decoration-color: #000080\">INFO    </span> <span style=\"font-weight: bold\">[</span><span style=\"color: #008080; text-decoration-color: #008080; font-weight: bold\">193</span>/<span style=\"color: #008080; text-decoration-color: #008080; font-weight: bold\">380</span><span style=\"font-weight: bold\">]</span> Retrieving game with <span style=\"color: #808000; text-decoration-color: #808000\">id</span>=<span style=\"color: #800080; text-decoration-color: #800080\">1aa68cba</span>                                <a href=\"file:///usr/local/lib/python3.11/dist-packages/soccerdata/fbref.py\" target=\"_blank\"><span style=\"color: #7f7f7f; text-decoration-color: #7f7f7f\">fbref.py</span></a><span style=\"color: #7f7f7f; text-decoration-color: #7f7f7f\">:</span><a href=\"file:///usr/local/lib/python3.11/dist-packages/soccerdata/fbref.py#815\" target=\"_blank\"><span style=\"color: #7f7f7f; text-decoration-color: #7f7f7f\">815</span></a>\n",
              "</pre>\n"
            ]
          },
          "metadata": {}
        },
        {
          "output_type": "display_data",
          "data": {
            "text/plain": [
              "\u001b[2;36m[01/27/25 23:09:41]\u001b[0m\u001b[2;36m \u001b[0m\u001b[34mINFO    \u001b[0m \u001b[1m[\u001b[0m\u001b[1;36m194\u001b[0m/\u001b[1;36m380\u001b[0m\u001b[1m]\u001b[0m Retrieving game with \u001b[33mid\u001b[0m=\u001b[35m7dfc59ca\u001b[0m                                \u001b]8;id=843984;file:///usr/local/lib/python3.11/dist-packages/soccerdata/fbref.py\u001b\\\u001b[2mfbref.py\u001b[0m\u001b]8;;\u001b\\\u001b[2m:\u001b[0m\u001b]8;id=80451;file:///usr/local/lib/python3.11/dist-packages/soccerdata/fbref.py#815\u001b\\\u001b[2m815\u001b[0m\u001b]8;;\u001b\\\n"
            ],
            "text/html": [
              "<pre style=\"white-space:pre;overflow-x:auto;line-height:normal;font-family:Menlo,'DejaVu Sans Mono',consolas,'Courier New',monospace\"><span style=\"color: #7fbfbf; text-decoration-color: #7fbfbf\">[01/27/25 23:09:41] </span><span style=\"color: #000080; text-decoration-color: #000080\">INFO    </span> <span style=\"font-weight: bold\">[</span><span style=\"color: #008080; text-decoration-color: #008080; font-weight: bold\">194</span>/<span style=\"color: #008080; text-decoration-color: #008080; font-weight: bold\">380</span><span style=\"font-weight: bold\">]</span> Retrieving game with <span style=\"color: #808000; text-decoration-color: #808000\">id</span>=<span style=\"color: #800080; text-decoration-color: #800080\">7dfc59ca</span>                                <a href=\"file:///usr/local/lib/python3.11/dist-packages/soccerdata/fbref.py\" target=\"_blank\"><span style=\"color: #7f7f7f; text-decoration-color: #7f7f7f\">fbref.py</span></a><span style=\"color: #7f7f7f; text-decoration-color: #7f7f7f\">:</span><a href=\"file:///usr/local/lib/python3.11/dist-packages/soccerdata/fbref.py#815\" target=\"_blank\"><span style=\"color: #7f7f7f; text-decoration-color: #7f7f7f\">815</span></a>\n",
              "</pre>\n"
            ]
          },
          "metadata": {}
        },
        {
          "output_type": "display_data",
          "data": {
            "text/plain": [
              "\u001b[2;36m[01/27/25 23:09:47]\u001b[0m\u001b[2;36m \u001b[0m\u001b[34mINFO    \u001b[0m \u001b[1m[\u001b[0m\u001b[1;36m195\u001b[0m/\u001b[1;36m380\u001b[0m\u001b[1m]\u001b[0m Retrieving game with \u001b[33mid\u001b[0m=\u001b[35m6c1b6ffc\u001b[0m                                \u001b]8;id=462207;file:///usr/local/lib/python3.11/dist-packages/soccerdata/fbref.py\u001b\\\u001b[2mfbref.py\u001b[0m\u001b]8;;\u001b\\\u001b[2m:\u001b[0m\u001b]8;id=403363;file:///usr/local/lib/python3.11/dist-packages/soccerdata/fbref.py#815\u001b\\\u001b[2m815\u001b[0m\u001b]8;;\u001b\\\n"
            ],
            "text/html": [
              "<pre style=\"white-space:pre;overflow-x:auto;line-height:normal;font-family:Menlo,'DejaVu Sans Mono',consolas,'Courier New',monospace\"><span style=\"color: #7fbfbf; text-decoration-color: #7fbfbf\">[01/27/25 23:09:47] </span><span style=\"color: #000080; text-decoration-color: #000080\">INFO    </span> <span style=\"font-weight: bold\">[</span><span style=\"color: #008080; text-decoration-color: #008080; font-weight: bold\">195</span>/<span style=\"color: #008080; text-decoration-color: #008080; font-weight: bold\">380</span><span style=\"font-weight: bold\">]</span> Retrieving game with <span style=\"color: #808000; text-decoration-color: #808000\">id</span>=<span style=\"color: #800080; text-decoration-color: #800080\">6c1b6ffc</span>                                <a href=\"file:///usr/local/lib/python3.11/dist-packages/soccerdata/fbref.py\" target=\"_blank\"><span style=\"color: #7f7f7f; text-decoration-color: #7f7f7f\">fbref.py</span></a><span style=\"color: #7f7f7f; text-decoration-color: #7f7f7f\">:</span><a href=\"file:///usr/local/lib/python3.11/dist-packages/soccerdata/fbref.py#815\" target=\"_blank\"><span style=\"color: #7f7f7f; text-decoration-color: #7f7f7f\">815</span></a>\n",
              "</pre>\n"
            ]
          },
          "metadata": {}
        },
        {
          "output_type": "display_data",
          "data": {
            "text/plain": [
              "\u001b[2;36m[01/27/25 23:09:54]\u001b[0m\u001b[2;36m \u001b[0m\u001b[34mINFO    \u001b[0m \u001b[1m[\u001b[0m\u001b[1;36m196\u001b[0m/\u001b[1;36m380\u001b[0m\u001b[1m]\u001b[0m Retrieving game with \u001b[33mid\u001b[0m=\u001b[35m3ab71352\u001b[0m                                \u001b]8;id=969473;file:///usr/local/lib/python3.11/dist-packages/soccerdata/fbref.py\u001b\\\u001b[2mfbref.py\u001b[0m\u001b]8;;\u001b\\\u001b[2m:\u001b[0m\u001b]8;id=503898;file:///usr/local/lib/python3.11/dist-packages/soccerdata/fbref.py#815\u001b\\\u001b[2m815\u001b[0m\u001b]8;;\u001b\\\n"
            ],
            "text/html": [
              "<pre style=\"white-space:pre;overflow-x:auto;line-height:normal;font-family:Menlo,'DejaVu Sans Mono',consolas,'Courier New',monospace\"><span style=\"color: #7fbfbf; text-decoration-color: #7fbfbf\">[01/27/25 23:09:54] </span><span style=\"color: #000080; text-decoration-color: #000080\">INFO    </span> <span style=\"font-weight: bold\">[</span><span style=\"color: #008080; text-decoration-color: #008080; font-weight: bold\">196</span>/<span style=\"color: #008080; text-decoration-color: #008080; font-weight: bold\">380</span><span style=\"font-weight: bold\">]</span> Retrieving game with <span style=\"color: #808000; text-decoration-color: #808000\">id</span>=<span style=\"color: #800080; text-decoration-color: #800080\">3ab71352</span>                                <a href=\"file:///usr/local/lib/python3.11/dist-packages/soccerdata/fbref.py\" target=\"_blank\"><span style=\"color: #7f7f7f; text-decoration-color: #7f7f7f\">fbref.py</span></a><span style=\"color: #7f7f7f; text-decoration-color: #7f7f7f\">:</span><a href=\"file:///usr/local/lib/python3.11/dist-packages/soccerdata/fbref.py#815\" target=\"_blank\"><span style=\"color: #7f7f7f; text-decoration-color: #7f7f7f\">815</span></a>\n",
              "</pre>\n"
            ]
          },
          "metadata": {}
        },
        {
          "output_type": "display_data",
          "data": {
            "text/plain": [
              "\u001b[2;36m[01/27/25 23:10:00]\u001b[0m\u001b[2;36m \u001b[0m\u001b[34mINFO    \u001b[0m \u001b[1m[\u001b[0m\u001b[1;36m197\u001b[0m/\u001b[1;36m380\u001b[0m\u001b[1m]\u001b[0m Retrieving game with \u001b[33mid\u001b[0m=\u001b[35m107b2d79\u001b[0m                                \u001b]8;id=830963;file:///usr/local/lib/python3.11/dist-packages/soccerdata/fbref.py\u001b\\\u001b[2mfbref.py\u001b[0m\u001b]8;;\u001b\\\u001b[2m:\u001b[0m\u001b]8;id=466530;file:///usr/local/lib/python3.11/dist-packages/soccerdata/fbref.py#815\u001b\\\u001b[2m815\u001b[0m\u001b]8;;\u001b\\\n"
            ],
            "text/html": [
              "<pre style=\"white-space:pre;overflow-x:auto;line-height:normal;font-family:Menlo,'DejaVu Sans Mono',consolas,'Courier New',monospace\"><span style=\"color: #7fbfbf; text-decoration-color: #7fbfbf\">[01/27/25 23:10:00] </span><span style=\"color: #000080; text-decoration-color: #000080\">INFO    </span> <span style=\"font-weight: bold\">[</span><span style=\"color: #008080; text-decoration-color: #008080; font-weight: bold\">197</span>/<span style=\"color: #008080; text-decoration-color: #008080; font-weight: bold\">380</span><span style=\"font-weight: bold\">]</span> Retrieving game with <span style=\"color: #808000; text-decoration-color: #808000\">id</span>=<span style=\"color: #800080; text-decoration-color: #800080\">107b2d79</span>                                <a href=\"file:///usr/local/lib/python3.11/dist-packages/soccerdata/fbref.py\" target=\"_blank\"><span style=\"color: #7f7f7f; text-decoration-color: #7f7f7f\">fbref.py</span></a><span style=\"color: #7f7f7f; text-decoration-color: #7f7f7f\">:</span><a href=\"file:///usr/local/lib/python3.11/dist-packages/soccerdata/fbref.py#815\" target=\"_blank\"><span style=\"color: #7f7f7f; text-decoration-color: #7f7f7f\">815</span></a>\n",
              "</pre>\n"
            ]
          },
          "metadata": {}
        },
        {
          "output_type": "display_data",
          "data": {
            "text/plain": [
              "\u001b[2;36m[01/27/25 23:10:06]\u001b[0m\u001b[2;36m \u001b[0m\u001b[34mINFO    \u001b[0m \u001b[1m[\u001b[0m\u001b[1;36m198\u001b[0m/\u001b[1;36m380\u001b[0m\u001b[1m]\u001b[0m Retrieving game with \u001b[33mid\u001b[0m=\u001b[35md557afd0\u001b[0m                                \u001b]8;id=747508;file:///usr/local/lib/python3.11/dist-packages/soccerdata/fbref.py\u001b\\\u001b[2mfbref.py\u001b[0m\u001b]8;;\u001b\\\u001b[2m:\u001b[0m\u001b]8;id=738352;file:///usr/local/lib/python3.11/dist-packages/soccerdata/fbref.py#815\u001b\\\u001b[2m815\u001b[0m\u001b]8;;\u001b\\\n"
            ],
            "text/html": [
              "<pre style=\"white-space:pre;overflow-x:auto;line-height:normal;font-family:Menlo,'DejaVu Sans Mono',consolas,'Courier New',monospace\"><span style=\"color: #7fbfbf; text-decoration-color: #7fbfbf\">[01/27/25 23:10:06] </span><span style=\"color: #000080; text-decoration-color: #000080\">INFO    </span> <span style=\"font-weight: bold\">[</span><span style=\"color: #008080; text-decoration-color: #008080; font-weight: bold\">198</span>/<span style=\"color: #008080; text-decoration-color: #008080; font-weight: bold\">380</span><span style=\"font-weight: bold\">]</span> Retrieving game with <span style=\"color: #808000; text-decoration-color: #808000\">id</span>=<span style=\"color: #800080; text-decoration-color: #800080\">d557afd0</span>                                <a href=\"file:///usr/local/lib/python3.11/dist-packages/soccerdata/fbref.py\" target=\"_blank\"><span style=\"color: #7f7f7f; text-decoration-color: #7f7f7f\">fbref.py</span></a><span style=\"color: #7f7f7f; text-decoration-color: #7f7f7f\">:</span><a href=\"file:///usr/local/lib/python3.11/dist-packages/soccerdata/fbref.py#815\" target=\"_blank\"><span style=\"color: #7f7f7f; text-decoration-color: #7f7f7f\">815</span></a>\n",
              "</pre>\n"
            ]
          },
          "metadata": {}
        },
        {
          "output_type": "display_data",
          "data": {
            "text/plain": [
              "\u001b[2;36m[01/27/25 23:10:13]\u001b[0m\u001b[2;36m \u001b[0m\u001b[34mINFO    \u001b[0m \u001b[1m[\u001b[0m\u001b[1;36m199\u001b[0m/\u001b[1;36m380\u001b[0m\u001b[1m]\u001b[0m Retrieving game with \u001b[33mid\u001b[0m=\u001b[35md62dd931\u001b[0m                                \u001b]8;id=404109;file:///usr/local/lib/python3.11/dist-packages/soccerdata/fbref.py\u001b\\\u001b[2mfbref.py\u001b[0m\u001b]8;;\u001b\\\u001b[2m:\u001b[0m\u001b]8;id=972450;file:///usr/local/lib/python3.11/dist-packages/soccerdata/fbref.py#815\u001b\\\u001b[2m815\u001b[0m\u001b]8;;\u001b\\\n"
            ],
            "text/html": [
              "<pre style=\"white-space:pre;overflow-x:auto;line-height:normal;font-family:Menlo,'DejaVu Sans Mono',consolas,'Courier New',monospace\"><span style=\"color: #7fbfbf; text-decoration-color: #7fbfbf\">[01/27/25 23:10:13] </span><span style=\"color: #000080; text-decoration-color: #000080\">INFO    </span> <span style=\"font-weight: bold\">[</span><span style=\"color: #008080; text-decoration-color: #008080; font-weight: bold\">199</span>/<span style=\"color: #008080; text-decoration-color: #008080; font-weight: bold\">380</span><span style=\"font-weight: bold\">]</span> Retrieving game with <span style=\"color: #808000; text-decoration-color: #808000\">id</span>=<span style=\"color: #800080; text-decoration-color: #800080\">d62dd931</span>                                <a href=\"file:///usr/local/lib/python3.11/dist-packages/soccerdata/fbref.py\" target=\"_blank\"><span style=\"color: #7f7f7f; text-decoration-color: #7f7f7f\">fbref.py</span></a><span style=\"color: #7f7f7f; text-decoration-color: #7f7f7f\">:</span><a href=\"file:///usr/local/lib/python3.11/dist-packages/soccerdata/fbref.py#815\" target=\"_blank\"><span style=\"color: #7f7f7f; text-decoration-color: #7f7f7f\">815</span></a>\n",
              "</pre>\n"
            ]
          },
          "metadata": {}
        },
        {
          "output_type": "display_data",
          "data": {
            "text/plain": [
              "\u001b[2;36m[01/27/25 23:10:20]\u001b[0m\u001b[2;36m \u001b[0m\u001b[34mINFO    \u001b[0m \u001b[1m[\u001b[0m\u001b[1;36m200\u001b[0m/\u001b[1;36m380\u001b[0m\u001b[1m]\u001b[0m Retrieving game with \u001b[33mid\u001b[0m=\u001b[35mdd052c34\u001b[0m                                \u001b]8;id=486584;file:///usr/local/lib/python3.11/dist-packages/soccerdata/fbref.py\u001b\\\u001b[2mfbref.py\u001b[0m\u001b]8;;\u001b\\\u001b[2m:\u001b[0m\u001b]8;id=366902;file:///usr/local/lib/python3.11/dist-packages/soccerdata/fbref.py#815\u001b\\\u001b[2m815\u001b[0m\u001b]8;;\u001b\\\n"
            ],
            "text/html": [
              "<pre style=\"white-space:pre;overflow-x:auto;line-height:normal;font-family:Menlo,'DejaVu Sans Mono',consolas,'Courier New',monospace\"><span style=\"color: #7fbfbf; text-decoration-color: #7fbfbf\">[01/27/25 23:10:20] </span><span style=\"color: #000080; text-decoration-color: #000080\">INFO    </span> <span style=\"font-weight: bold\">[</span><span style=\"color: #008080; text-decoration-color: #008080; font-weight: bold\">200</span>/<span style=\"color: #008080; text-decoration-color: #008080; font-weight: bold\">380</span><span style=\"font-weight: bold\">]</span> Retrieving game with <span style=\"color: #808000; text-decoration-color: #808000\">id</span>=<span style=\"color: #800080; text-decoration-color: #800080\">dd052c34</span>                                <a href=\"file:///usr/local/lib/python3.11/dist-packages/soccerdata/fbref.py\" target=\"_blank\"><span style=\"color: #7f7f7f; text-decoration-color: #7f7f7f\">fbref.py</span></a><span style=\"color: #7f7f7f; text-decoration-color: #7f7f7f\">:</span><a href=\"file:///usr/local/lib/python3.11/dist-packages/soccerdata/fbref.py#815\" target=\"_blank\"><span style=\"color: #7f7f7f; text-decoration-color: #7f7f7f\">815</span></a>\n",
              "</pre>\n"
            ]
          },
          "metadata": {}
        },
        {
          "output_type": "display_data",
          "data": {
            "text/plain": [
              "\u001b[2;36m[01/27/25 23:10:26]\u001b[0m\u001b[2;36m \u001b[0m\u001b[34mINFO    \u001b[0m \u001b[1m[\u001b[0m\u001b[1;36m201\u001b[0m/\u001b[1;36m380\u001b[0m\u001b[1m]\u001b[0m Retrieving game with \u001b[33mid\u001b[0m=\u001b[35m738f8c3e\u001b[0m                                \u001b]8;id=70502;file:///usr/local/lib/python3.11/dist-packages/soccerdata/fbref.py\u001b\\\u001b[2mfbref.py\u001b[0m\u001b]8;;\u001b\\\u001b[2m:\u001b[0m\u001b]8;id=800915;file:///usr/local/lib/python3.11/dist-packages/soccerdata/fbref.py#815\u001b\\\u001b[2m815\u001b[0m\u001b]8;;\u001b\\\n"
            ],
            "text/html": [
              "<pre style=\"white-space:pre;overflow-x:auto;line-height:normal;font-family:Menlo,'DejaVu Sans Mono',consolas,'Courier New',monospace\"><span style=\"color: #7fbfbf; text-decoration-color: #7fbfbf\">[01/27/25 23:10:26] </span><span style=\"color: #000080; text-decoration-color: #000080\">INFO    </span> <span style=\"font-weight: bold\">[</span><span style=\"color: #008080; text-decoration-color: #008080; font-weight: bold\">201</span>/<span style=\"color: #008080; text-decoration-color: #008080; font-weight: bold\">380</span><span style=\"font-weight: bold\">]</span> Retrieving game with <span style=\"color: #808000; text-decoration-color: #808000\">id</span>=<span style=\"color: #800080; text-decoration-color: #800080\">738f8c3e</span>                                <a href=\"file:///usr/local/lib/python3.11/dist-packages/soccerdata/fbref.py\" target=\"_blank\"><span style=\"color: #7f7f7f; text-decoration-color: #7f7f7f\">fbref.py</span></a><span style=\"color: #7f7f7f; text-decoration-color: #7f7f7f\">:</span><a href=\"file:///usr/local/lib/python3.11/dist-packages/soccerdata/fbref.py#815\" target=\"_blank\"><span style=\"color: #7f7f7f; text-decoration-color: #7f7f7f\">815</span></a>\n",
              "</pre>\n"
            ]
          },
          "metadata": {}
        },
        {
          "output_type": "display_data",
          "data": {
            "text/plain": [
              "\u001b[2;36m[01/27/25 23:10:33]\u001b[0m\u001b[2;36m \u001b[0m\u001b[34mINFO    \u001b[0m \u001b[1m[\u001b[0m\u001b[1;36m202\u001b[0m/\u001b[1;36m380\u001b[0m\u001b[1m]\u001b[0m Retrieving game with \u001b[33mid\u001b[0m=\u001b[35m1628c63e\u001b[0m                                \u001b]8;id=223040;file:///usr/local/lib/python3.11/dist-packages/soccerdata/fbref.py\u001b\\\u001b[2mfbref.py\u001b[0m\u001b]8;;\u001b\\\u001b[2m:\u001b[0m\u001b]8;id=697984;file:///usr/local/lib/python3.11/dist-packages/soccerdata/fbref.py#815\u001b\\\u001b[2m815\u001b[0m\u001b]8;;\u001b\\\n"
            ],
            "text/html": [
              "<pre style=\"white-space:pre;overflow-x:auto;line-height:normal;font-family:Menlo,'DejaVu Sans Mono',consolas,'Courier New',monospace\"><span style=\"color: #7fbfbf; text-decoration-color: #7fbfbf\">[01/27/25 23:10:33] </span><span style=\"color: #000080; text-decoration-color: #000080\">INFO    </span> <span style=\"font-weight: bold\">[</span><span style=\"color: #008080; text-decoration-color: #008080; font-weight: bold\">202</span>/<span style=\"color: #008080; text-decoration-color: #008080; font-weight: bold\">380</span><span style=\"font-weight: bold\">]</span> Retrieving game with <span style=\"color: #808000; text-decoration-color: #808000\">id</span>=<span style=\"color: #800080; text-decoration-color: #800080\">1628c63e</span>                                <a href=\"file:///usr/local/lib/python3.11/dist-packages/soccerdata/fbref.py\" target=\"_blank\"><span style=\"color: #7f7f7f; text-decoration-color: #7f7f7f\">fbref.py</span></a><span style=\"color: #7f7f7f; text-decoration-color: #7f7f7f\">:</span><a href=\"file:///usr/local/lib/python3.11/dist-packages/soccerdata/fbref.py#815\" target=\"_blank\"><span style=\"color: #7f7f7f; text-decoration-color: #7f7f7f\">815</span></a>\n",
              "</pre>\n"
            ]
          },
          "metadata": {}
        },
        {
          "output_type": "display_data",
          "data": {
            "text/plain": [
              "\u001b[2;36m[01/27/25 23:10:39]\u001b[0m\u001b[2;36m \u001b[0m\u001b[34mINFO    \u001b[0m \u001b[1m[\u001b[0m\u001b[1;36m203\u001b[0m/\u001b[1;36m380\u001b[0m\u001b[1m]\u001b[0m Retrieving game with \u001b[33mid\u001b[0m=\u001b[35m904ed2f9\u001b[0m                                \u001b]8;id=820747;file:///usr/local/lib/python3.11/dist-packages/soccerdata/fbref.py\u001b\\\u001b[2mfbref.py\u001b[0m\u001b]8;;\u001b\\\u001b[2m:\u001b[0m\u001b]8;id=733961;file:///usr/local/lib/python3.11/dist-packages/soccerdata/fbref.py#815\u001b\\\u001b[2m815\u001b[0m\u001b]8;;\u001b\\\n"
            ],
            "text/html": [
              "<pre style=\"white-space:pre;overflow-x:auto;line-height:normal;font-family:Menlo,'DejaVu Sans Mono',consolas,'Courier New',monospace\"><span style=\"color: #7fbfbf; text-decoration-color: #7fbfbf\">[01/27/25 23:10:39] </span><span style=\"color: #000080; text-decoration-color: #000080\">INFO    </span> <span style=\"font-weight: bold\">[</span><span style=\"color: #008080; text-decoration-color: #008080; font-weight: bold\">203</span>/<span style=\"color: #008080; text-decoration-color: #008080; font-weight: bold\">380</span><span style=\"font-weight: bold\">]</span> Retrieving game with <span style=\"color: #808000; text-decoration-color: #808000\">id</span>=<span style=\"color: #800080; text-decoration-color: #800080\">904ed2f9</span>                                <a href=\"file:///usr/local/lib/python3.11/dist-packages/soccerdata/fbref.py\" target=\"_blank\"><span style=\"color: #7f7f7f; text-decoration-color: #7f7f7f\">fbref.py</span></a><span style=\"color: #7f7f7f; text-decoration-color: #7f7f7f\">:</span><a href=\"file:///usr/local/lib/python3.11/dist-packages/soccerdata/fbref.py#815\" target=\"_blank\"><span style=\"color: #7f7f7f; text-decoration-color: #7f7f7f\">815</span></a>\n",
              "</pre>\n"
            ]
          },
          "metadata": {}
        },
        {
          "output_type": "display_data",
          "data": {
            "text/plain": [
              "\u001b[2;36m[01/27/25 23:10:45]\u001b[0m\u001b[2;36m \u001b[0m\u001b[34mINFO    \u001b[0m \u001b[1m[\u001b[0m\u001b[1;36m204\u001b[0m/\u001b[1;36m380\u001b[0m\u001b[1m]\u001b[0m Retrieving game with \u001b[33mid\u001b[0m=\u001b[35m006fb5b5\u001b[0m                                \u001b]8;id=589607;file:///usr/local/lib/python3.11/dist-packages/soccerdata/fbref.py\u001b\\\u001b[2mfbref.py\u001b[0m\u001b]8;;\u001b\\\u001b[2m:\u001b[0m\u001b]8;id=921221;file:///usr/local/lib/python3.11/dist-packages/soccerdata/fbref.py#815\u001b\\\u001b[2m815\u001b[0m\u001b]8;;\u001b\\\n"
            ],
            "text/html": [
              "<pre style=\"white-space:pre;overflow-x:auto;line-height:normal;font-family:Menlo,'DejaVu Sans Mono',consolas,'Courier New',monospace\"><span style=\"color: #7fbfbf; text-decoration-color: #7fbfbf\">[01/27/25 23:10:45] </span><span style=\"color: #000080; text-decoration-color: #000080\">INFO    </span> <span style=\"font-weight: bold\">[</span><span style=\"color: #008080; text-decoration-color: #008080; font-weight: bold\">204</span>/<span style=\"color: #008080; text-decoration-color: #008080; font-weight: bold\">380</span><span style=\"font-weight: bold\">]</span> Retrieving game with <span style=\"color: #808000; text-decoration-color: #808000\">id</span>=<span style=\"color: #800080; text-decoration-color: #800080\">006fb5b5</span>                                <a href=\"file:///usr/local/lib/python3.11/dist-packages/soccerdata/fbref.py\" target=\"_blank\"><span style=\"color: #7f7f7f; text-decoration-color: #7f7f7f\">fbref.py</span></a><span style=\"color: #7f7f7f; text-decoration-color: #7f7f7f\">:</span><a href=\"file:///usr/local/lib/python3.11/dist-packages/soccerdata/fbref.py#815\" target=\"_blank\"><span style=\"color: #7f7f7f; text-decoration-color: #7f7f7f\">815</span></a>\n",
              "</pre>\n"
            ]
          },
          "metadata": {}
        },
        {
          "output_type": "display_data",
          "data": {
            "text/plain": [
              "\u001b[2;36m[01/27/25 23:10:52]\u001b[0m\u001b[2;36m \u001b[0m\u001b[34mINFO    \u001b[0m \u001b[1m[\u001b[0m\u001b[1;36m205\u001b[0m/\u001b[1;36m380\u001b[0m\u001b[1m]\u001b[0m Retrieving game with \u001b[33mid\u001b[0m=\u001b[35me0a9c631\u001b[0m                                \u001b]8;id=421669;file:///usr/local/lib/python3.11/dist-packages/soccerdata/fbref.py\u001b\\\u001b[2mfbref.py\u001b[0m\u001b]8;;\u001b\\\u001b[2m:\u001b[0m\u001b]8;id=492812;file:///usr/local/lib/python3.11/dist-packages/soccerdata/fbref.py#815\u001b\\\u001b[2m815\u001b[0m\u001b]8;;\u001b\\\n"
            ],
            "text/html": [
              "<pre style=\"white-space:pre;overflow-x:auto;line-height:normal;font-family:Menlo,'DejaVu Sans Mono',consolas,'Courier New',monospace\"><span style=\"color: #7fbfbf; text-decoration-color: #7fbfbf\">[01/27/25 23:10:52] </span><span style=\"color: #000080; text-decoration-color: #000080\">INFO    </span> <span style=\"font-weight: bold\">[</span><span style=\"color: #008080; text-decoration-color: #008080; font-weight: bold\">205</span>/<span style=\"color: #008080; text-decoration-color: #008080; font-weight: bold\">380</span><span style=\"font-weight: bold\">]</span> Retrieving game with <span style=\"color: #808000; text-decoration-color: #808000\">id</span>=<span style=\"color: #800080; text-decoration-color: #800080\">e0a9c631</span>                                <a href=\"file:///usr/local/lib/python3.11/dist-packages/soccerdata/fbref.py\" target=\"_blank\"><span style=\"color: #7f7f7f; text-decoration-color: #7f7f7f\">fbref.py</span></a><span style=\"color: #7f7f7f; text-decoration-color: #7f7f7f\">:</span><a href=\"file:///usr/local/lib/python3.11/dist-packages/soccerdata/fbref.py#815\" target=\"_blank\"><span style=\"color: #7f7f7f; text-decoration-color: #7f7f7f\">815</span></a>\n",
              "</pre>\n"
            ]
          },
          "metadata": {}
        },
        {
          "output_type": "display_data",
          "data": {
            "text/plain": [
              "\u001b[2;36m[01/27/25 23:10:58]\u001b[0m\u001b[2;36m \u001b[0m\u001b[34mINFO    \u001b[0m \u001b[1m[\u001b[0m\u001b[1;36m206\u001b[0m/\u001b[1;36m380\u001b[0m\u001b[1m]\u001b[0m Retrieving game with \u001b[33mid\u001b[0m=\u001b[35m9a03e25c\u001b[0m                                \u001b]8;id=737991;file:///usr/local/lib/python3.11/dist-packages/soccerdata/fbref.py\u001b\\\u001b[2mfbref.py\u001b[0m\u001b]8;;\u001b\\\u001b[2m:\u001b[0m\u001b]8;id=759301;file:///usr/local/lib/python3.11/dist-packages/soccerdata/fbref.py#815\u001b\\\u001b[2m815\u001b[0m\u001b]8;;\u001b\\\n"
            ],
            "text/html": [
              "<pre style=\"white-space:pre;overflow-x:auto;line-height:normal;font-family:Menlo,'DejaVu Sans Mono',consolas,'Courier New',monospace\"><span style=\"color: #7fbfbf; text-decoration-color: #7fbfbf\">[01/27/25 23:10:58] </span><span style=\"color: #000080; text-decoration-color: #000080\">INFO    </span> <span style=\"font-weight: bold\">[</span><span style=\"color: #008080; text-decoration-color: #008080; font-weight: bold\">206</span>/<span style=\"color: #008080; text-decoration-color: #008080; font-weight: bold\">380</span><span style=\"font-weight: bold\">]</span> Retrieving game with <span style=\"color: #808000; text-decoration-color: #808000\">id</span>=<span style=\"color: #800080; text-decoration-color: #800080\">9a03e25c</span>                                <a href=\"file:///usr/local/lib/python3.11/dist-packages/soccerdata/fbref.py\" target=\"_blank\"><span style=\"color: #7f7f7f; text-decoration-color: #7f7f7f\">fbref.py</span></a><span style=\"color: #7f7f7f; text-decoration-color: #7f7f7f\">:</span><a href=\"file:///usr/local/lib/python3.11/dist-packages/soccerdata/fbref.py#815\" target=\"_blank\"><span style=\"color: #7f7f7f; text-decoration-color: #7f7f7f\">815</span></a>\n",
              "</pre>\n"
            ]
          },
          "metadata": {}
        },
        {
          "output_type": "display_data",
          "data": {
            "text/plain": [
              "\u001b[2;36m[01/27/25 23:11:04]\u001b[0m\u001b[2;36m \u001b[0m\u001b[34mINFO    \u001b[0m \u001b[1m[\u001b[0m\u001b[1;36m207\u001b[0m/\u001b[1;36m380\u001b[0m\u001b[1m]\u001b[0m Retrieving game with \u001b[33mid\u001b[0m=\u001b[35mabd525b4\u001b[0m                                \u001b]8;id=144162;file:///usr/local/lib/python3.11/dist-packages/soccerdata/fbref.py\u001b\\\u001b[2mfbref.py\u001b[0m\u001b]8;;\u001b\\\u001b[2m:\u001b[0m\u001b]8;id=730169;file:///usr/local/lib/python3.11/dist-packages/soccerdata/fbref.py#815\u001b\\\u001b[2m815\u001b[0m\u001b]8;;\u001b\\\n"
            ],
            "text/html": [
              "<pre style=\"white-space:pre;overflow-x:auto;line-height:normal;font-family:Menlo,'DejaVu Sans Mono',consolas,'Courier New',monospace\"><span style=\"color: #7fbfbf; text-decoration-color: #7fbfbf\">[01/27/25 23:11:04] </span><span style=\"color: #000080; text-decoration-color: #000080\">INFO    </span> <span style=\"font-weight: bold\">[</span><span style=\"color: #008080; text-decoration-color: #008080; font-weight: bold\">207</span>/<span style=\"color: #008080; text-decoration-color: #008080; font-weight: bold\">380</span><span style=\"font-weight: bold\">]</span> Retrieving game with <span style=\"color: #808000; text-decoration-color: #808000\">id</span>=<span style=\"color: #800080; text-decoration-color: #800080\">abd525b4</span>                                <a href=\"file:///usr/local/lib/python3.11/dist-packages/soccerdata/fbref.py\" target=\"_blank\"><span style=\"color: #7f7f7f; text-decoration-color: #7f7f7f\">fbref.py</span></a><span style=\"color: #7f7f7f; text-decoration-color: #7f7f7f\">:</span><a href=\"file:///usr/local/lib/python3.11/dist-packages/soccerdata/fbref.py#815\" target=\"_blank\"><span style=\"color: #7f7f7f; text-decoration-color: #7f7f7f\">815</span></a>\n",
              "</pre>\n"
            ]
          },
          "metadata": {}
        },
        {
          "output_type": "display_data",
          "data": {
            "text/plain": [
              "\u001b[2;36m[01/27/25 23:11:11]\u001b[0m\u001b[2;36m \u001b[0m\u001b[34mINFO    \u001b[0m \u001b[1m[\u001b[0m\u001b[1;36m208\u001b[0m/\u001b[1;36m380\u001b[0m\u001b[1m]\u001b[0m Retrieving game with \u001b[33mid\u001b[0m=\u001b[35m35fb5bc2\u001b[0m                                \u001b]8;id=542792;file:///usr/local/lib/python3.11/dist-packages/soccerdata/fbref.py\u001b\\\u001b[2mfbref.py\u001b[0m\u001b]8;;\u001b\\\u001b[2m:\u001b[0m\u001b]8;id=713712;file:///usr/local/lib/python3.11/dist-packages/soccerdata/fbref.py#815\u001b\\\u001b[2m815\u001b[0m\u001b]8;;\u001b\\\n"
            ],
            "text/html": [
              "<pre style=\"white-space:pre;overflow-x:auto;line-height:normal;font-family:Menlo,'DejaVu Sans Mono',consolas,'Courier New',monospace\"><span style=\"color: #7fbfbf; text-decoration-color: #7fbfbf\">[01/27/25 23:11:11] </span><span style=\"color: #000080; text-decoration-color: #000080\">INFO    </span> <span style=\"font-weight: bold\">[</span><span style=\"color: #008080; text-decoration-color: #008080; font-weight: bold\">208</span>/<span style=\"color: #008080; text-decoration-color: #008080; font-weight: bold\">380</span><span style=\"font-weight: bold\">]</span> Retrieving game with <span style=\"color: #808000; text-decoration-color: #808000\">id</span>=<span style=\"color: #800080; text-decoration-color: #800080\">35fb5bc2</span>                                <a href=\"file:///usr/local/lib/python3.11/dist-packages/soccerdata/fbref.py\" target=\"_blank\"><span style=\"color: #7f7f7f; text-decoration-color: #7f7f7f\">fbref.py</span></a><span style=\"color: #7f7f7f; text-decoration-color: #7f7f7f\">:</span><a href=\"file:///usr/local/lib/python3.11/dist-packages/soccerdata/fbref.py#815\" target=\"_blank\"><span style=\"color: #7f7f7f; text-decoration-color: #7f7f7f\">815</span></a>\n",
              "</pre>\n"
            ]
          },
          "metadata": {}
        },
        {
          "output_type": "display_data",
          "data": {
            "text/plain": [
              "\u001b[2;36m[01/27/25 23:11:17]\u001b[0m\u001b[2;36m \u001b[0m\u001b[34mINFO    \u001b[0m \u001b[1m[\u001b[0m\u001b[1;36m209\u001b[0m/\u001b[1;36m380\u001b[0m\u001b[1m]\u001b[0m Retrieving game with \u001b[33mid\u001b[0m=\u001b[35md8679e54\u001b[0m                                \u001b]8;id=829912;file:///usr/local/lib/python3.11/dist-packages/soccerdata/fbref.py\u001b\\\u001b[2mfbref.py\u001b[0m\u001b]8;;\u001b\\\u001b[2m:\u001b[0m\u001b]8;id=549510;file:///usr/local/lib/python3.11/dist-packages/soccerdata/fbref.py#815\u001b\\\u001b[2m815\u001b[0m\u001b]8;;\u001b\\\n"
            ],
            "text/html": [
              "<pre style=\"white-space:pre;overflow-x:auto;line-height:normal;font-family:Menlo,'DejaVu Sans Mono',consolas,'Courier New',monospace\"><span style=\"color: #7fbfbf; text-decoration-color: #7fbfbf\">[01/27/25 23:11:17] </span><span style=\"color: #000080; text-decoration-color: #000080\">INFO    </span> <span style=\"font-weight: bold\">[</span><span style=\"color: #008080; text-decoration-color: #008080; font-weight: bold\">209</span>/<span style=\"color: #008080; text-decoration-color: #008080; font-weight: bold\">380</span><span style=\"font-weight: bold\">]</span> Retrieving game with <span style=\"color: #808000; text-decoration-color: #808000\">id</span>=<span style=\"color: #800080; text-decoration-color: #800080\">d8679e54</span>                                <a href=\"file:///usr/local/lib/python3.11/dist-packages/soccerdata/fbref.py\" target=\"_blank\"><span style=\"color: #7f7f7f; text-decoration-color: #7f7f7f\">fbref.py</span></a><span style=\"color: #7f7f7f; text-decoration-color: #7f7f7f\">:</span><a href=\"file:///usr/local/lib/python3.11/dist-packages/soccerdata/fbref.py#815\" target=\"_blank\"><span style=\"color: #7f7f7f; text-decoration-color: #7f7f7f\">815</span></a>\n",
              "</pre>\n"
            ]
          },
          "metadata": {}
        },
        {
          "output_type": "display_data",
          "data": {
            "text/plain": [
              "\u001b[2;36m[01/27/25 23:11:23]\u001b[0m\u001b[2;36m \u001b[0m\u001b[34mINFO    \u001b[0m \u001b[1m[\u001b[0m\u001b[1;36m210\u001b[0m/\u001b[1;36m380\u001b[0m\u001b[1m]\u001b[0m Retrieving game with \u001b[33mid\u001b[0m=\u001b[35m9f51ce03\u001b[0m                                \u001b]8;id=922679;file:///usr/local/lib/python3.11/dist-packages/soccerdata/fbref.py\u001b\\\u001b[2mfbref.py\u001b[0m\u001b]8;;\u001b\\\u001b[2m:\u001b[0m\u001b]8;id=646458;file:///usr/local/lib/python3.11/dist-packages/soccerdata/fbref.py#815\u001b\\\u001b[2m815\u001b[0m\u001b]8;;\u001b\\\n"
            ],
            "text/html": [
              "<pre style=\"white-space:pre;overflow-x:auto;line-height:normal;font-family:Menlo,'DejaVu Sans Mono',consolas,'Courier New',monospace\"><span style=\"color: #7fbfbf; text-decoration-color: #7fbfbf\">[01/27/25 23:11:23] </span><span style=\"color: #000080; text-decoration-color: #000080\">INFO    </span> <span style=\"font-weight: bold\">[</span><span style=\"color: #008080; text-decoration-color: #008080; font-weight: bold\">210</span>/<span style=\"color: #008080; text-decoration-color: #008080; font-weight: bold\">380</span><span style=\"font-weight: bold\">]</span> Retrieving game with <span style=\"color: #808000; text-decoration-color: #808000\">id</span>=<span style=\"color: #800080; text-decoration-color: #800080\">9f51ce03</span>                                <a href=\"file:///usr/local/lib/python3.11/dist-packages/soccerdata/fbref.py\" target=\"_blank\"><span style=\"color: #7f7f7f; text-decoration-color: #7f7f7f\">fbref.py</span></a><span style=\"color: #7f7f7f; text-decoration-color: #7f7f7f\">:</span><a href=\"file:///usr/local/lib/python3.11/dist-packages/soccerdata/fbref.py#815\" target=\"_blank\"><span style=\"color: #7f7f7f; text-decoration-color: #7f7f7f\">815</span></a>\n",
              "</pre>\n"
            ]
          },
          "metadata": {}
        },
        {
          "output_type": "display_data",
          "data": {
            "text/plain": [
              "\u001b[2;36m[01/27/25 23:11:29]\u001b[0m\u001b[2;36m \u001b[0m\u001b[34mINFO    \u001b[0m \u001b[1m[\u001b[0m\u001b[1;36m211\u001b[0m/\u001b[1;36m380\u001b[0m\u001b[1m]\u001b[0m Retrieving game with \u001b[33mid\u001b[0m=\u001b[35m17d24e01\u001b[0m                                \u001b]8;id=510120;file:///usr/local/lib/python3.11/dist-packages/soccerdata/fbref.py\u001b\\\u001b[2mfbref.py\u001b[0m\u001b]8;;\u001b\\\u001b[2m:\u001b[0m\u001b]8;id=204373;file:///usr/local/lib/python3.11/dist-packages/soccerdata/fbref.py#815\u001b\\\u001b[2m815\u001b[0m\u001b]8;;\u001b\\\n"
            ],
            "text/html": [
              "<pre style=\"white-space:pre;overflow-x:auto;line-height:normal;font-family:Menlo,'DejaVu Sans Mono',consolas,'Courier New',monospace\"><span style=\"color: #7fbfbf; text-decoration-color: #7fbfbf\">[01/27/25 23:11:29] </span><span style=\"color: #000080; text-decoration-color: #000080\">INFO    </span> <span style=\"font-weight: bold\">[</span><span style=\"color: #008080; text-decoration-color: #008080; font-weight: bold\">211</span>/<span style=\"color: #008080; text-decoration-color: #008080; font-weight: bold\">380</span><span style=\"font-weight: bold\">]</span> Retrieving game with <span style=\"color: #808000; text-decoration-color: #808000\">id</span>=<span style=\"color: #800080; text-decoration-color: #800080\">17d24e01</span>                                <a href=\"file:///usr/local/lib/python3.11/dist-packages/soccerdata/fbref.py\" target=\"_blank\"><span style=\"color: #7f7f7f; text-decoration-color: #7f7f7f\">fbref.py</span></a><span style=\"color: #7f7f7f; text-decoration-color: #7f7f7f\">:</span><a href=\"file:///usr/local/lib/python3.11/dist-packages/soccerdata/fbref.py#815\" target=\"_blank\"><span style=\"color: #7f7f7f; text-decoration-color: #7f7f7f\">815</span></a>\n",
              "</pre>\n"
            ]
          },
          "metadata": {}
        },
        {
          "output_type": "display_data",
          "data": {
            "text/plain": [
              "\u001b[2;36m[01/27/25 23:11:36]\u001b[0m\u001b[2;36m \u001b[0m\u001b[34mINFO    \u001b[0m \u001b[1m[\u001b[0m\u001b[1;36m212\u001b[0m/\u001b[1;36m380\u001b[0m\u001b[1m]\u001b[0m Retrieving game with \u001b[33mid\u001b[0m=\u001b[35m381f12be\u001b[0m                                \u001b]8;id=402941;file:///usr/local/lib/python3.11/dist-packages/soccerdata/fbref.py\u001b\\\u001b[2mfbref.py\u001b[0m\u001b]8;;\u001b\\\u001b[2m:\u001b[0m\u001b]8;id=337518;file:///usr/local/lib/python3.11/dist-packages/soccerdata/fbref.py#815\u001b\\\u001b[2m815\u001b[0m\u001b]8;;\u001b\\\n"
            ],
            "text/html": [
              "<pre style=\"white-space:pre;overflow-x:auto;line-height:normal;font-family:Menlo,'DejaVu Sans Mono',consolas,'Courier New',monospace\"><span style=\"color: #7fbfbf; text-decoration-color: #7fbfbf\">[01/27/25 23:11:36] </span><span style=\"color: #000080; text-decoration-color: #000080\">INFO    </span> <span style=\"font-weight: bold\">[</span><span style=\"color: #008080; text-decoration-color: #008080; font-weight: bold\">212</span>/<span style=\"color: #008080; text-decoration-color: #008080; font-weight: bold\">380</span><span style=\"font-weight: bold\">]</span> Retrieving game with <span style=\"color: #808000; text-decoration-color: #808000\">id</span>=<span style=\"color: #800080; text-decoration-color: #800080\">381f12be</span>                                <a href=\"file:///usr/local/lib/python3.11/dist-packages/soccerdata/fbref.py\" target=\"_blank\"><span style=\"color: #7f7f7f; text-decoration-color: #7f7f7f\">fbref.py</span></a><span style=\"color: #7f7f7f; text-decoration-color: #7f7f7f\">:</span><a href=\"file:///usr/local/lib/python3.11/dist-packages/soccerdata/fbref.py#815\" target=\"_blank\"><span style=\"color: #7f7f7f; text-decoration-color: #7f7f7f\">815</span></a>\n",
              "</pre>\n"
            ]
          },
          "metadata": {}
        },
        {
          "output_type": "display_data",
          "data": {
            "text/plain": [
              "\u001b[2;36m[01/27/25 23:11:42]\u001b[0m\u001b[2;36m \u001b[0m\u001b[34mINFO    \u001b[0m \u001b[1m[\u001b[0m\u001b[1;36m213\u001b[0m/\u001b[1;36m380\u001b[0m\u001b[1m]\u001b[0m Retrieving game with \u001b[33mid\u001b[0m=\u001b[35m20a16b44\u001b[0m                                \u001b]8;id=959639;file:///usr/local/lib/python3.11/dist-packages/soccerdata/fbref.py\u001b\\\u001b[2mfbref.py\u001b[0m\u001b]8;;\u001b\\\u001b[2m:\u001b[0m\u001b]8;id=680794;file:///usr/local/lib/python3.11/dist-packages/soccerdata/fbref.py#815\u001b\\\u001b[2m815\u001b[0m\u001b]8;;\u001b\\\n"
            ],
            "text/html": [
              "<pre style=\"white-space:pre;overflow-x:auto;line-height:normal;font-family:Menlo,'DejaVu Sans Mono',consolas,'Courier New',monospace\"><span style=\"color: #7fbfbf; text-decoration-color: #7fbfbf\">[01/27/25 23:11:42] </span><span style=\"color: #000080; text-decoration-color: #000080\">INFO    </span> <span style=\"font-weight: bold\">[</span><span style=\"color: #008080; text-decoration-color: #008080; font-weight: bold\">213</span>/<span style=\"color: #008080; text-decoration-color: #008080; font-weight: bold\">380</span><span style=\"font-weight: bold\">]</span> Retrieving game with <span style=\"color: #808000; text-decoration-color: #808000\">id</span>=<span style=\"color: #800080; text-decoration-color: #800080\">20a16b44</span>                                <a href=\"file:///usr/local/lib/python3.11/dist-packages/soccerdata/fbref.py\" target=\"_blank\"><span style=\"color: #7f7f7f; text-decoration-color: #7f7f7f\">fbref.py</span></a><span style=\"color: #7f7f7f; text-decoration-color: #7f7f7f\">:</span><a href=\"file:///usr/local/lib/python3.11/dist-packages/soccerdata/fbref.py#815\" target=\"_blank\"><span style=\"color: #7f7f7f; text-decoration-color: #7f7f7f\">815</span></a>\n",
              "</pre>\n"
            ]
          },
          "metadata": {}
        },
        {
          "output_type": "display_data",
          "data": {
            "text/plain": [
              "\u001b[2;36m[01/27/25 23:11:48]\u001b[0m\u001b[2;36m \u001b[0m\u001b[34mINFO    \u001b[0m \u001b[1m[\u001b[0m\u001b[1;36m214\u001b[0m/\u001b[1;36m380\u001b[0m\u001b[1m]\u001b[0m Retrieving game with \u001b[33mid\u001b[0m=\u001b[35m1836d9bd\u001b[0m                                \u001b]8;id=490904;file:///usr/local/lib/python3.11/dist-packages/soccerdata/fbref.py\u001b\\\u001b[2mfbref.py\u001b[0m\u001b]8;;\u001b\\\u001b[2m:\u001b[0m\u001b]8;id=367889;file:///usr/local/lib/python3.11/dist-packages/soccerdata/fbref.py#815\u001b\\\u001b[2m815\u001b[0m\u001b]8;;\u001b\\\n"
            ],
            "text/html": [
              "<pre style=\"white-space:pre;overflow-x:auto;line-height:normal;font-family:Menlo,'DejaVu Sans Mono',consolas,'Courier New',monospace\"><span style=\"color: #7fbfbf; text-decoration-color: #7fbfbf\">[01/27/25 23:11:48] </span><span style=\"color: #000080; text-decoration-color: #000080\">INFO    </span> <span style=\"font-weight: bold\">[</span><span style=\"color: #008080; text-decoration-color: #008080; font-weight: bold\">214</span>/<span style=\"color: #008080; text-decoration-color: #008080; font-weight: bold\">380</span><span style=\"font-weight: bold\">]</span> Retrieving game with <span style=\"color: #808000; text-decoration-color: #808000\">id</span>=<span style=\"color: #800080; text-decoration-color: #800080\">1836d9bd</span>                                <a href=\"file:///usr/local/lib/python3.11/dist-packages/soccerdata/fbref.py\" target=\"_blank\"><span style=\"color: #7f7f7f; text-decoration-color: #7f7f7f\">fbref.py</span></a><span style=\"color: #7f7f7f; text-decoration-color: #7f7f7f\">:</span><a href=\"file:///usr/local/lib/python3.11/dist-packages/soccerdata/fbref.py#815\" target=\"_blank\"><span style=\"color: #7f7f7f; text-decoration-color: #7f7f7f\">815</span></a>\n",
              "</pre>\n"
            ]
          },
          "metadata": {}
        },
        {
          "output_type": "display_data",
          "data": {
            "text/plain": [
              "\u001b[2;36m[01/27/25 23:11:55]\u001b[0m\u001b[2;36m \u001b[0m\u001b[34mINFO    \u001b[0m \u001b[1m[\u001b[0m\u001b[1;36m215\u001b[0m/\u001b[1;36m380\u001b[0m\u001b[1m]\u001b[0m Retrieving game with \u001b[33mid\u001b[0m=\u001b[35md10aaae8\u001b[0m                                \u001b]8;id=568582;file:///usr/local/lib/python3.11/dist-packages/soccerdata/fbref.py\u001b\\\u001b[2mfbref.py\u001b[0m\u001b]8;;\u001b\\\u001b[2m:\u001b[0m\u001b]8;id=694929;file:///usr/local/lib/python3.11/dist-packages/soccerdata/fbref.py#815\u001b\\\u001b[2m815\u001b[0m\u001b]8;;\u001b\\\n"
            ],
            "text/html": [
              "<pre style=\"white-space:pre;overflow-x:auto;line-height:normal;font-family:Menlo,'DejaVu Sans Mono',consolas,'Courier New',monospace\"><span style=\"color: #7fbfbf; text-decoration-color: #7fbfbf\">[01/27/25 23:11:55] </span><span style=\"color: #000080; text-decoration-color: #000080\">INFO    </span> <span style=\"font-weight: bold\">[</span><span style=\"color: #008080; text-decoration-color: #008080; font-weight: bold\">215</span>/<span style=\"color: #008080; text-decoration-color: #008080; font-weight: bold\">380</span><span style=\"font-weight: bold\">]</span> Retrieving game with <span style=\"color: #808000; text-decoration-color: #808000\">id</span>=<span style=\"color: #800080; text-decoration-color: #800080\">d10aaae8</span>                                <a href=\"file:///usr/local/lib/python3.11/dist-packages/soccerdata/fbref.py\" target=\"_blank\"><span style=\"color: #7f7f7f; text-decoration-color: #7f7f7f\">fbref.py</span></a><span style=\"color: #7f7f7f; text-decoration-color: #7f7f7f\">:</span><a href=\"file:///usr/local/lib/python3.11/dist-packages/soccerdata/fbref.py#815\" target=\"_blank\"><span style=\"color: #7f7f7f; text-decoration-color: #7f7f7f\">815</span></a>\n",
              "</pre>\n"
            ]
          },
          "metadata": {}
        },
        {
          "output_type": "display_data",
          "data": {
            "text/plain": [
              "\u001b[2;36m[01/27/25 23:12:01]\u001b[0m\u001b[2;36m \u001b[0m\u001b[34mINFO    \u001b[0m \u001b[1m[\u001b[0m\u001b[1;36m216\u001b[0m/\u001b[1;36m380\u001b[0m\u001b[1m]\u001b[0m Retrieving game with \u001b[33mid\u001b[0m=\u001b[35m79ffec97\u001b[0m                                \u001b]8;id=391004;file:///usr/local/lib/python3.11/dist-packages/soccerdata/fbref.py\u001b\\\u001b[2mfbref.py\u001b[0m\u001b]8;;\u001b\\\u001b[2m:\u001b[0m\u001b]8;id=89455;file:///usr/local/lib/python3.11/dist-packages/soccerdata/fbref.py#815\u001b\\\u001b[2m815\u001b[0m\u001b]8;;\u001b\\\n"
            ],
            "text/html": [
              "<pre style=\"white-space:pre;overflow-x:auto;line-height:normal;font-family:Menlo,'DejaVu Sans Mono',consolas,'Courier New',monospace\"><span style=\"color: #7fbfbf; text-decoration-color: #7fbfbf\">[01/27/25 23:12:01] </span><span style=\"color: #000080; text-decoration-color: #000080\">INFO    </span> <span style=\"font-weight: bold\">[</span><span style=\"color: #008080; text-decoration-color: #008080; font-weight: bold\">216</span>/<span style=\"color: #008080; text-decoration-color: #008080; font-weight: bold\">380</span><span style=\"font-weight: bold\">]</span> Retrieving game with <span style=\"color: #808000; text-decoration-color: #808000\">id</span>=<span style=\"color: #800080; text-decoration-color: #800080\">79ffec97</span>                                <a href=\"file:///usr/local/lib/python3.11/dist-packages/soccerdata/fbref.py\" target=\"_blank\"><span style=\"color: #7f7f7f; text-decoration-color: #7f7f7f\">fbref.py</span></a><span style=\"color: #7f7f7f; text-decoration-color: #7f7f7f\">:</span><a href=\"file:///usr/local/lib/python3.11/dist-packages/soccerdata/fbref.py#815\" target=\"_blank\"><span style=\"color: #7f7f7f; text-decoration-color: #7f7f7f\">815</span></a>\n",
              "</pre>\n"
            ]
          },
          "metadata": {}
        },
        {
          "output_type": "display_data",
          "data": {
            "text/plain": [
              "\u001b[2;36m[01/27/25 23:12:07]\u001b[0m\u001b[2;36m \u001b[0m\u001b[34mINFO    \u001b[0m \u001b[1m[\u001b[0m\u001b[1;36m217\u001b[0m/\u001b[1;36m380\u001b[0m\u001b[1m]\u001b[0m Retrieving game with \u001b[33mid\u001b[0m=\u001b[35m16dc9951\u001b[0m                                \u001b]8;id=409204;file:///usr/local/lib/python3.11/dist-packages/soccerdata/fbref.py\u001b\\\u001b[2mfbref.py\u001b[0m\u001b]8;;\u001b\\\u001b[2m:\u001b[0m\u001b]8;id=301929;file:///usr/local/lib/python3.11/dist-packages/soccerdata/fbref.py#815\u001b\\\u001b[2m815\u001b[0m\u001b]8;;\u001b\\\n"
            ],
            "text/html": [
              "<pre style=\"white-space:pre;overflow-x:auto;line-height:normal;font-family:Menlo,'DejaVu Sans Mono',consolas,'Courier New',monospace\"><span style=\"color: #7fbfbf; text-decoration-color: #7fbfbf\">[01/27/25 23:12:07] </span><span style=\"color: #000080; text-decoration-color: #000080\">INFO    </span> <span style=\"font-weight: bold\">[</span><span style=\"color: #008080; text-decoration-color: #008080; font-weight: bold\">217</span>/<span style=\"color: #008080; text-decoration-color: #008080; font-weight: bold\">380</span><span style=\"font-weight: bold\">]</span> Retrieving game with <span style=\"color: #808000; text-decoration-color: #808000\">id</span>=<span style=\"color: #800080; text-decoration-color: #800080\">16dc9951</span>                                <a href=\"file:///usr/local/lib/python3.11/dist-packages/soccerdata/fbref.py\" target=\"_blank\"><span style=\"color: #7f7f7f; text-decoration-color: #7f7f7f\">fbref.py</span></a><span style=\"color: #7f7f7f; text-decoration-color: #7f7f7f\">:</span><a href=\"file:///usr/local/lib/python3.11/dist-packages/soccerdata/fbref.py#815\" target=\"_blank\"><span style=\"color: #7f7f7f; text-decoration-color: #7f7f7f\">815</span></a>\n",
              "</pre>\n"
            ]
          },
          "metadata": {}
        },
        {
          "output_type": "display_data",
          "data": {
            "text/plain": [
              "\u001b[2;36m[01/27/25 23:12:14]\u001b[0m\u001b[2;36m \u001b[0m\u001b[34mINFO    \u001b[0m \u001b[1m[\u001b[0m\u001b[1;36m218\u001b[0m/\u001b[1;36m380\u001b[0m\u001b[1m]\u001b[0m Retrieving game with \u001b[33mid\u001b[0m=\u001b[35m457203bc\u001b[0m                                \u001b]8;id=151477;file:///usr/local/lib/python3.11/dist-packages/soccerdata/fbref.py\u001b\\\u001b[2mfbref.py\u001b[0m\u001b]8;;\u001b\\\u001b[2m:\u001b[0m\u001b]8;id=979780;file:///usr/local/lib/python3.11/dist-packages/soccerdata/fbref.py#815\u001b\\\u001b[2m815\u001b[0m\u001b]8;;\u001b\\\n"
            ],
            "text/html": [
              "<pre style=\"white-space:pre;overflow-x:auto;line-height:normal;font-family:Menlo,'DejaVu Sans Mono',consolas,'Courier New',monospace\"><span style=\"color: #7fbfbf; text-decoration-color: #7fbfbf\">[01/27/25 23:12:14] </span><span style=\"color: #000080; text-decoration-color: #000080\">INFO    </span> <span style=\"font-weight: bold\">[</span><span style=\"color: #008080; text-decoration-color: #008080; font-weight: bold\">218</span>/<span style=\"color: #008080; text-decoration-color: #008080; font-weight: bold\">380</span><span style=\"font-weight: bold\">]</span> Retrieving game with <span style=\"color: #808000; text-decoration-color: #808000\">id</span>=<span style=\"color: #800080; text-decoration-color: #800080\">457203bc</span>                                <a href=\"file:///usr/local/lib/python3.11/dist-packages/soccerdata/fbref.py\" target=\"_blank\"><span style=\"color: #7f7f7f; text-decoration-color: #7f7f7f\">fbref.py</span></a><span style=\"color: #7f7f7f; text-decoration-color: #7f7f7f\">:</span><a href=\"file:///usr/local/lib/python3.11/dist-packages/soccerdata/fbref.py#815\" target=\"_blank\"><span style=\"color: #7f7f7f; text-decoration-color: #7f7f7f\">815</span></a>\n",
              "</pre>\n"
            ]
          },
          "metadata": {}
        },
        {
          "output_type": "display_data",
          "data": {
            "text/plain": [
              "\u001b[2;36m[01/27/25 23:12:20]\u001b[0m\u001b[2;36m \u001b[0m\u001b[34mINFO    \u001b[0m \u001b[1m[\u001b[0m\u001b[1;36m219\u001b[0m/\u001b[1;36m380\u001b[0m\u001b[1m]\u001b[0m Retrieving game with \u001b[33mid\u001b[0m=\u001b[35m689d15cf\u001b[0m                                \u001b]8;id=733619;file:///usr/local/lib/python3.11/dist-packages/soccerdata/fbref.py\u001b\\\u001b[2mfbref.py\u001b[0m\u001b]8;;\u001b\\\u001b[2m:\u001b[0m\u001b]8;id=24868;file:///usr/local/lib/python3.11/dist-packages/soccerdata/fbref.py#815\u001b\\\u001b[2m815\u001b[0m\u001b]8;;\u001b\\\n"
            ],
            "text/html": [
              "<pre style=\"white-space:pre;overflow-x:auto;line-height:normal;font-family:Menlo,'DejaVu Sans Mono',consolas,'Courier New',monospace\"><span style=\"color: #7fbfbf; text-decoration-color: #7fbfbf\">[01/27/25 23:12:20] </span><span style=\"color: #000080; text-decoration-color: #000080\">INFO    </span> <span style=\"font-weight: bold\">[</span><span style=\"color: #008080; text-decoration-color: #008080; font-weight: bold\">219</span>/<span style=\"color: #008080; text-decoration-color: #008080; font-weight: bold\">380</span><span style=\"font-weight: bold\">]</span> Retrieving game with <span style=\"color: #808000; text-decoration-color: #808000\">id</span>=<span style=\"color: #800080; text-decoration-color: #800080\">689d15cf</span>                                <a href=\"file:///usr/local/lib/python3.11/dist-packages/soccerdata/fbref.py\" target=\"_blank\"><span style=\"color: #7f7f7f; text-decoration-color: #7f7f7f\">fbref.py</span></a><span style=\"color: #7f7f7f; text-decoration-color: #7f7f7f\">:</span><a href=\"file:///usr/local/lib/python3.11/dist-packages/soccerdata/fbref.py#815\" target=\"_blank\"><span style=\"color: #7f7f7f; text-decoration-color: #7f7f7f\">815</span></a>\n",
              "</pre>\n"
            ]
          },
          "metadata": {}
        },
        {
          "output_type": "display_data",
          "data": {
            "text/plain": [
              "\u001b[2;36m[01/27/25 23:12:26]\u001b[0m\u001b[2;36m \u001b[0m\u001b[34mINFO    \u001b[0m \u001b[1m[\u001b[0m\u001b[1;36m220\u001b[0m/\u001b[1;36m380\u001b[0m\u001b[1m]\u001b[0m Retrieving game with \u001b[33mid\u001b[0m=\u001b[35ma2436e30\u001b[0m                                \u001b]8;id=901760;file:///usr/local/lib/python3.11/dist-packages/soccerdata/fbref.py\u001b\\\u001b[2mfbref.py\u001b[0m\u001b]8;;\u001b\\\u001b[2m:\u001b[0m\u001b]8;id=11430;file:///usr/local/lib/python3.11/dist-packages/soccerdata/fbref.py#815\u001b\\\u001b[2m815\u001b[0m\u001b]8;;\u001b\\\n"
            ],
            "text/html": [
              "<pre style=\"white-space:pre;overflow-x:auto;line-height:normal;font-family:Menlo,'DejaVu Sans Mono',consolas,'Courier New',monospace\"><span style=\"color: #7fbfbf; text-decoration-color: #7fbfbf\">[01/27/25 23:12:26] </span><span style=\"color: #000080; text-decoration-color: #000080\">INFO    </span> <span style=\"font-weight: bold\">[</span><span style=\"color: #008080; text-decoration-color: #008080; font-weight: bold\">220</span>/<span style=\"color: #008080; text-decoration-color: #008080; font-weight: bold\">380</span><span style=\"font-weight: bold\">]</span> Retrieving game with <span style=\"color: #808000; text-decoration-color: #808000\">id</span>=<span style=\"color: #800080; text-decoration-color: #800080\">a2436e30</span>                                <a href=\"file:///usr/local/lib/python3.11/dist-packages/soccerdata/fbref.py\" target=\"_blank\"><span style=\"color: #7f7f7f; text-decoration-color: #7f7f7f\">fbref.py</span></a><span style=\"color: #7f7f7f; text-decoration-color: #7f7f7f\">:</span><a href=\"file:///usr/local/lib/python3.11/dist-packages/soccerdata/fbref.py#815\" target=\"_blank\"><span style=\"color: #7f7f7f; text-decoration-color: #7f7f7f\">815</span></a>\n",
              "</pre>\n"
            ]
          },
          "metadata": {}
        },
        {
          "output_type": "display_data",
          "data": {
            "text/plain": [
              "\u001b[2;36m[01/27/25 23:12:33]\u001b[0m\u001b[2;36m \u001b[0m\u001b[34mINFO    \u001b[0m \u001b[1m[\u001b[0m\u001b[1;36m221\u001b[0m/\u001b[1;36m380\u001b[0m\u001b[1m]\u001b[0m Retrieving game with \u001b[33mid\u001b[0m=\u001b[35mfd68d50e\u001b[0m                                \u001b]8;id=741376;file:///usr/local/lib/python3.11/dist-packages/soccerdata/fbref.py\u001b\\\u001b[2mfbref.py\u001b[0m\u001b]8;;\u001b\\\u001b[2m:\u001b[0m\u001b]8;id=154286;file:///usr/local/lib/python3.11/dist-packages/soccerdata/fbref.py#815\u001b\\\u001b[2m815\u001b[0m\u001b]8;;\u001b\\\n"
            ],
            "text/html": [
              "<pre style=\"white-space:pre;overflow-x:auto;line-height:normal;font-family:Menlo,'DejaVu Sans Mono',consolas,'Courier New',monospace\"><span style=\"color: #7fbfbf; text-decoration-color: #7fbfbf\">[01/27/25 23:12:33] </span><span style=\"color: #000080; text-decoration-color: #000080\">INFO    </span> <span style=\"font-weight: bold\">[</span><span style=\"color: #008080; text-decoration-color: #008080; font-weight: bold\">221</span>/<span style=\"color: #008080; text-decoration-color: #008080; font-weight: bold\">380</span><span style=\"font-weight: bold\">]</span> Retrieving game with <span style=\"color: #808000; text-decoration-color: #808000\">id</span>=<span style=\"color: #800080; text-decoration-color: #800080\">fd68d50e</span>                                <a href=\"file:///usr/local/lib/python3.11/dist-packages/soccerdata/fbref.py\" target=\"_blank\"><span style=\"color: #7f7f7f; text-decoration-color: #7f7f7f\">fbref.py</span></a><span style=\"color: #7f7f7f; text-decoration-color: #7f7f7f\">:</span><a href=\"file:///usr/local/lib/python3.11/dist-packages/soccerdata/fbref.py#815\" target=\"_blank\"><span style=\"color: #7f7f7f; text-decoration-color: #7f7f7f\">815</span></a>\n",
              "</pre>\n"
            ]
          },
          "metadata": {}
        },
        {
          "output_type": "display_data",
          "data": {
            "text/plain": [
              "\u001b[2;36m[01/27/25 23:12:39]\u001b[0m\u001b[2;36m \u001b[0m\u001b[34mINFO    \u001b[0m \u001b[1m[\u001b[0m\u001b[1;36m222\u001b[0m/\u001b[1;36m380\u001b[0m\u001b[1m]\u001b[0m Retrieving game with \u001b[33mid\u001b[0m=\u001b[35m67cb7a4e\u001b[0m                                \u001b]8;id=558996;file:///usr/local/lib/python3.11/dist-packages/soccerdata/fbref.py\u001b\\\u001b[2mfbref.py\u001b[0m\u001b]8;;\u001b\\\u001b[2m:\u001b[0m\u001b]8;id=359217;file:///usr/local/lib/python3.11/dist-packages/soccerdata/fbref.py#815\u001b\\\u001b[2m815\u001b[0m\u001b]8;;\u001b\\\n"
            ],
            "text/html": [
              "<pre style=\"white-space:pre;overflow-x:auto;line-height:normal;font-family:Menlo,'DejaVu Sans Mono',consolas,'Courier New',monospace\"><span style=\"color: #7fbfbf; text-decoration-color: #7fbfbf\">[01/27/25 23:12:39] </span><span style=\"color: #000080; text-decoration-color: #000080\">INFO    </span> <span style=\"font-weight: bold\">[</span><span style=\"color: #008080; text-decoration-color: #008080; font-weight: bold\">222</span>/<span style=\"color: #008080; text-decoration-color: #008080; font-weight: bold\">380</span><span style=\"font-weight: bold\">]</span> Retrieving game with <span style=\"color: #808000; text-decoration-color: #808000\">id</span>=<span style=\"color: #800080; text-decoration-color: #800080\">67cb7a4e</span>                                <a href=\"file:///usr/local/lib/python3.11/dist-packages/soccerdata/fbref.py\" target=\"_blank\"><span style=\"color: #7f7f7f; text-decoration-color: #7f7f7f\">fbref.py</span></a><span style=\"color: #7f7f7f; text-decoration-color: #7f7f7f\">:</span><a href=\"file:///usr/local/lib/python3.11/dist-packages/soccerdata/fbref.py#815\" target=\"_blank\"><span style=\"color: #7f7f7f; text-decoration-color: #7f7f7f\">815</span></a>\n",
              "</pre>\n"
            ]
          },
          "metadata": {}
        },
        {
          "output_type": "display_data",
          "data": {
            "text/plain": [
              "\u001b[2;36m[01/27/25 23:12:45]\u001b[0m\u001b[2;36m \u001b[0m\u001b[34mINFO    \u001b[0m \u001b[1m[\u001b[0m\u001b[1;36m223\u001b[0m/\u001b[1;36m380\u001b[0m\u001b[1m]\u001b[0m Retrieving game with \u001b[33mid\u001b[0m=\u001b[35mb3e195c5\u001b[0m                                \u001b]8;id=453198;file:///usr/local/lib/python3.11/dist-packages/soccerdata/fbref.py\u001b\\\u001b[2mfbref.py\u001b[0m\u001b]8;;\u001b\\\u001b[2m:\u001b[0m\u001b]8;id=336919;file:///usr/local/lib/python3.11/dist-packages/soccerdata/fbref.py#815\u001b\\\u001b[2m815\u001b[0m\u001b]8;;\u001b\\\n"
            ],
            "text/html": [
              "<pre style=\"white-space:pre;overflow-x:auto;line-height:normal;font-family:Menlo,'DejaVu Sans Mono',consolas,'Courier New',monospace\"><span style=\"color: #7fbfbf; text-decoration-color: #7fbfbf\">[01/27/25 23:12:45] </span><span style=\"color: #000080; text-decoration-color: #000080\">INFO    </span> <span style=\"font-weight: bold\">[</span><span style=\"color: #008080; text-decoration-color: #008080; font-weight: bold\">223</span>/<span style=\"color: #008080; text-decoration-color: #008080; font-weight: bold\">380</span><span style=\"font-weight: bold\">]</span> Retrieving game with <span style=\"color: #808000; text-decoration-color: #808000\">id</span>=<span style=\"color: #800080; text-decoration-color: #800080\">b3e195c5</span>                                <a href=\"file:///usr/local/lib/python3.11/dist-packages/soccerdata/fbref.py\" target=\"_blank\"><span style=\"color: #7f7f7f; text-decoration-color: #7f7f7f\">fbref.py</span></a><span style=\"color: #7f7f7f; text-decoration-color: #7f7f7f\">:</span><a href=\"file:///usr/local/lib/python3.11/dist-packages/soccerdata/fbref.py#815\" target=\"_blank\"><span style=\"color: #7f7f7f; text-decoration-color: #7f7f7f\">815</span></a>\n",
              "</pre>\n"
            ]
          },
          "metadata": {}
        },
        {
          "output_type": "display_data",
          "data": {
            "text/plain": [
              "\u001b[2;36m[01/27/25 23:12:52]\u001b[0m\u001b[2;36m \u001b[0m\u001b[34mINFO    \u001b[0m \u001b[1m[\u001b[0m\u001b[1;36m224\u001b[0m/\u001b[1;36m380\u001b[0m\u001b[1m]\u001b[0m Retrieving game with \u001b[33mid\u001b[0m=\u001b[35m99020abf\u001b[0m                                \u001b]8;id=338359;file:///usr/local/lib/python3.11/dist-packages/soccerdata/fbref.py\u001b\\\u001b[2mfbref.py\u001b[0m\u001b]8;;\u001b\\\u001b[2m:\u001b[0m\u001b]8;id=706247;file:///usr/local/lib/python3.11/dist-packages/soccerdata/fbref.py#815\u001b\\\u001b[2m815\u001b[0m\u001b]8;;\u001b\\\n"
            ],
            "text/html": [
              "<pre style=\"white-space:pre;overflow-x:auto;line-height:normal;font-family:Menlo,'DejaVu Sans Mono',consolas,'Courier New',monospace\"><span style=\"color: #7fbfbf; text-decoration-color: #7fbfbf\">[01/27/25 23:12:52] </span><span style=\"color: #000080; text-decoration-color: #000080\">INFO    </span> <span style=\"font-weight: bold\">[</span><span style=\"color: #008080; text-decoration-color: #008080; font-weight: bold\">224</span>/<span style=\"color: #008080; text-decoration-color: #008080; font-weight: bold\">380</span><span style=\"font-weight: bold\">]</span> Retrieving game with <span style=\"color: #808000; text-decoration-color: #808000\">id</span>=<span style=\"color: #800080; text-decoration-color: #800080\">99020abf</span>                                <a href=\"file:///usr/local/lib/python3.11/dist-packages/soccerdata/fbref.py\" target=\"_blank\"><span style=\"color: #7f7f7f; text-decoration-color: #7f7f7f\">fbref.py</span></a><span style=\"color: #7f7f7f; text-decoration-color: #7f7f7f\">:</span><a href=\"file:///usr/local/lib/python3.11/dist-packages/soccerdata/fbref.py#815\" target=\"_blank\"><span style=\"color: #7f7f7f; text-decoration-color: #7f7f7f\">815</span></a>\n",
              "</pre>\n"
            ]
          },
          "metadata": {}
        },
        {
          "output_type": "display_data",
          "data": {
            "text/plain": [
              "\u001b[2;36m[01/27/25 23:12:58]\u001b[0m\u001b[2;36m \u001b[0m\u001b[34mINFO    \u001b[0m \u001b[1m[\u001b[0m\u001b[1;36m225\u001b[0m/\u001b[1;36m380\u001b[0m\u001b[1m]\u001b[0m Retrieving game with \u001b[33mid\u001b[0m=\u001b[1;36m29948898\u001b[0m                                \u001b]8;id=418221;file:///usr/local/lib/python3.11/dist-packages/soccerdata/fbref.py\u001b\\\u001b[2mfbref.py\u001b[0m\u001b]8;;\u001b\\\u001b[2m:\u001b[0m\u001b]8;id=134854;file:///usr/local/lib/python3.11/dist-packages/soccerdata/fbref.py#815\u001b\\\u001b[2m815\u001b[0m\u001b]8;;\u001b\\\n"
            ],
            "text/html": [
              "<pre style=\"white-space:pre;overflow-x:auto;line-height:normal;font-family:Menlo,'DejaVu Sans Mono',consolas,'Courier New',monospace\"><span style=\"color: #7fbfbf; text-decoration-color: #7fbfbf\">[01/27/25 23:12:58] </span><span style=\"color: #000080; text-decoration-color: #000080\">INFO    </span> <span style=\"font-weight: bold\">[</span><span style=\"color: #008080; text-decoration-color: #008080; font-weight: bold\">225</span>/<span style=\"color: #008080; text-decoration-color: #008080; font-weight: bold\">380</span><span style=\"font-weight: bold\">]</span> Retrieving game with <span style=\"color: #808000; text-decoration-color: #808000\">id</span>=<span style=\"color: #008080; text-decoration-color: #008080; font-weight: bold\">29948898</span>                                <a href=\"file:///usr/local/lib/python3.11/dist-packages/soccerdata/fbref.py\" target=\"_blank\"><span style=\"color: #7f7f7f; text-decoration-color: #7f7f7f\">fbref.py</span></a><span style=\"color: #7f7f7f; text-decoration-color: #7f7f7f\">:</span><a href=\"file:///usr/local/lib/python3.11/dist-packages/soccerdata/fbref.py#815\" target=\"_blank\"><span style=\"color: #7f7f7f; text-decoration-color: #7f7f7f\">815</span></a>\n",
              "</pre>\n"
            ]
          },
          "metadata": {}
        },
        {
          "output_type": "display_data",
          "data": {
            "text/plain": [
              "\u001b[2;36m[01/27/25 23:13:04]\u001b[0m\u001b[2;36m \u001b[0m\u001b[34mINFO    \u001b[0m \u001b[1m[\u001b[0m\u001b[1;36m226\u001b[0m/\u001b[1;36m380\u001b[0m\u001b[1m]\u001b[0m Retrieving game with \u001b[33mid\u001b[0m=\u001b[35mdfde4bd7\u001b[0m                                \u001b]8;id=634654;file:///usr/local/lib/python3.11/dist-packages/soccerdata/fbref.py\u001b\\\u001b[2mfbref.py\u001b[0m\u001b]8;;\u001b\\\u001b[2m:\u001b[0m\u001b]8;id=681473;file:///usr/local/lib/python3.11/dist-packages/soccerdata/fbref.py#815\u001b\\\u001b[2m815\u001b[0m\u001b]8;;\u001b\\\n"
            ],
            "text/html": [
              "<pre style=\"white-space:pre;overflow-x:auto;line-height:normal;font-family:Menlo,'DejaVu Sans Mono',consolas,'Courier New',monospace\"><span style=\"color: #7fbfbf; text-decoration-color: #7fbfbf\">[01/27/25 23:13:04] </span><span style=\"color: #000080; text-decoration-color: #000080\">INFO    </span> <span style=\"font-weight: bold\">[</span><span style=\"color: #008080; text-decoration-color: #008080; font-weight: bold\">226</span>/<span style=\"color: #008080; text-decoration-color: #008080; font-weight: bold\">380</span><span style=\"font-weight: bold\">]</span> Retrieving game with <span style=\"color: #808000; text-decoration-color: #808000\">id</span>=<span style=\"color: #800080; text-decoration-color: #800080\">dfde4bd7</span>                                <a href=\"file:///usr/local/lib/python3.11/dist-packages/soccerdata/fbref.py\" target=\"_blank\"><span style=\"color: #7f7f7f; text-decoration-color: #7f7f7f\">fbref.py</span></a><span style=\"color: #7f7f7f; text-decoration-color: #7f7f7f\">:</span><a href=\"file:///usr/local/lib/python3.11/dist-packages/soccerdata/fbref.py#815\" target=\"_blank\"><span style=\"color: #7f7f7f; text-decoration-color: #7f7f7f\">815</span></a>\n",
              "</pre>\n"
            ]
          },
          "metadata": {}
        },
        {
          "output_type": "display_data",
          "data": {
            "text/plain": [
              "\u001b[2;36m[01/27/25 23:13:11]\u001b[0m\u001b[2;36m \u001b[0m\u001b[34mINFO    \u001b[0m \u001b[1m[\u001b[0m\u001b[1;36m227\u001b[0m/\u001b[1;36m380\u001b[0m\u001b[1m]\u001b[0m Retrieving game with \u001b[33mid\u001b[0m=\u001b[35mdc1428be\u001b[0m                                \u001b]8;id=163450;file:///usr/local/lib/python3.11/dist-packages/soccerdata/fbref.py\u001b\\\u001b[2mfbref.py\u001b[0m\u001b]8;;\u001b\\\u001b[2m:\u001b[0m\u001b]8;id=581604;file:///usr/local/lib/python3.11/dist-packages/soccerdata/fbref.py#815\u001b\\\u001b[2m815\u001b[0m\u001b]8;;\u001b\\\n"
            ],
            "text/html": [
              "<pre style=\"white-space:pre;overflow-x:auto;line-height:normal;font-family:Menlo,'DejaVu Sans Mono',consolas,'Courier New',monospace\"><span style=\"color: #7fbfbf; text-decoration-color: #7fbfbf\">[01/27/25 23:13:11] </span><span style=\"color: #000080; text-decoration-color: #000080\">INFO    </span> <span style=\"font-weight: bold\">[</span><span style=\"color: #008080; text-decoration-color: #008080; font-weight: bold\">227</span>/<span style=\"color: #008080; text-decoration-color: #008080; font-weight: bold\">380</span><span style=\"font-weight: bold\">]</span> Retrieving game with <span style=\"color: #808000; text-decoration-color: #808000\">id</span>=<span style=\"color: #800080; text-decoration-color: #800080\">dc1428be</span>                                <a href=\"file:///usr/local/lib/python3.11/dist-packages/soccerdata/fbref.py\" target=\"_blank\"><span style=\"color: #7f7f7f; text-decoration-color: #7f7f7f\">fbref.py</span></a><span style=\"color: #7f7f7f; text-decoration-color: #7f7f7f\">:</span><a href=\"file:///usr/local/lib/python3.11/dist-packages/soccerdata/fbref.py#815\" target=\"_blank\"><span style=\"color: #7f7f7f; text-decoration-color: #7f7f7f\">815</span></a>\n",
              "</pre>\n"
            ]
          },
          "metadata": {}
        },
        {
          "output_type": "display_data",
          "data": {
            "text/plain": [
              "\u001b[2;36m[01/27/25 23:13:17]\u001b[0m\u001b[2;36m \u001b[0m\u001b[34mINFO    \u001b[0m \u001b[1m[\u001b[0m\u001b[1;36m228\u001b[0m/\u001b[1;36m380\u001b[0m\u001b[1m]\u001b[0m Retrieving game with \u001b[33mid\u001b[0m=\u001b[35m2b3630b6\u001b[0m                                \u001b]8;id=613625;file:///usr/local/lib/python3.11/dist-packages/soccerdata/fbref.py\u001b\\\u001b[2mfbref.py\u001b[0m\u001b]8;;\u001b\\\u001b[2m:\u001b[0m\u001b]8;id=775292;file:///usr/local/lib/python3.11/dist-packages/soccerdata/fbref.py#815\u001b\\\u001b[2m815\u001b[0m\u001b]8;;\u001b\\\n"
            ],
            "text/html": [
              "<pre style=\"white-space:pre;overflow-x:auto;line-height:normal;font-family:Menlo,'DejaVu Sans Mono',consolas,'Courier New',monospace\"><span style=\"color: #7fbfbf; text-decoration-color: #7fbfbf\">[01/27/25 23:13:17] </span><span style=\"color: #000080; text-decoration-color: #000080\">INFO    </span> <span style=\"font-weight: bold\">[</span><span style=\"color: #008080; text-decoration-color: #008080; font-weight: bold\">228</span>/<span style=\"color: #008080; text-decoration-color: #008080; font-weight: bold\">380</span><span style=\"font-weight: bold\">]</span> Retrieving game with <span style=\"color: #808000; text-decoration-color: #808000\">id</span>=<span style=\"color: #800080; text-decoration-color: #800080\">2b3630b6</span>                                <a href=\"file:///usr/local/lib/python3.11/dist-packages/soccerdata/fbref.py\" target=\"_blank\"><span style=\"color: #7f7f7f; text-decoration-color: #7f7f7f\">fbref.py</span></a><span style=\"color: #7f7f7f; text-decoration-color: #7f7f7f\">:</span><a href=\"file:///usr/local/lib/python3.11/dist-packages/soccerdata/fbref.py#815\" target=\"_blank\"><span style=\"color: #7f7f7f; text-decoration-color: #7f7f7f\">815</span></a>\n",
              "</pre>\n"
            ]
          },
          "metadata": {}
        },
        {
          "output_type": "display_data",
          "data": {
            "text/plain": [
              "\u001b[2;36m[01/27/25 23:13:23]\u001b[0m\u001b[2;36m \u001b[0m\u001b[34mINFO    \u001b[0m \u001b[1m[\u001b[0m\u001b[1;36m229\u001b[0m/\u001b[1;36m380\u001b[0m\u001b[1m]\u001b[0m Retrieving game with \u001b[33mid\u001b[0m=\u001b[35mbf9e0d20\u001b[0m                                \u001b]8;id=658528;file:///usr/local/lib/python3.11/dist-packages/soccerdata/fbref.py\u001b\\\u001b[2mfbref.py\u001b[0m\u001b]8;;\u001b\\\u001b[2m:\u001b[0m\u001b]8;id=93551;file:///usr/local/lib/python3.11/dist-packages/soccerdata/fbref.py#815\u001b\\\u001b[2m815\u001b[0m\u001b]8;;\u001b\\\n"
            ],
            "text/html": [
              "<pre style=\"white-space:pre;overflow-x:auto;line-height:normal;font-family:Menlo,'DejaVu Sans Mono',consolas,'Courier New',monospace\"><span style=\"color: #7fbfbf; text-decoration-color: #7fbfbf\">[01/27/25 23:13:23] </span><span style=\"color: #000080; text-decoration-color: #000080\">INFO    </span> <span style=\"font-weight: bold\">[</span><span style=\"color: #008080; text-decoration-color: #008080; font-weight: bold\">229</span>/<span style=\"color: #008080; text-decoration-color: #008080; font-weight: bold\">380</span><span style=\"font-weight: bold\">]</span> Retrieving game with <span style=\"color: #808000; text-decoration-color: #808000\">id</span>=<span style=\"color: #800080; text-decoration-color: #800080\">bf9e0d20</span>                                <a href=\"file:///usr/local/lib/python3.11/dist-packages/soccerdata/fbref.py\" target=\"_blank\"><span style=\"color: #7f7f7f; text-decoration-color: #7f7f7f\">fbref.py</span></a><span style=\"color: #7f7f7f; text-decoration-color: #7f7f7f\">:</span><a href=\"file:///usr/local/lib/python3.11/dist-packages/soccerdata/fbref.py#815\" target=\"_blank\"><span style=\"color: #7f7f7f; text-decoration-color: #7f7f7f\">815</span></a>\n",
              "</pre>\n"
            ]
          },
          "metadata": {}
        },
        {
          "output_type": "display_data",
          "data": {
            "text/plain": [
              "\u001b[2;36m[01/27/25 23:13:30]\u001b[0m\u001b[2;36m \u001b[0m\u001b[34mINFO    \u001b[0m \u001b[1m[\u001b[0m\u001b[1;36m230\u001b[0m/\u001b[1;36m380\u001b[0m\u001b[1m]\u001b[0m Retrieving game with \u001b[33mid\u001b[0m=\u001b[35m29e4d6ac\u001b[0m                                \u001b]8;id=379212;file:///usr/local/lib/python3.11/dist-packages/soccerdata/fbref.py\u001b\\\u001b[2mfbref.py\u001b[0m\u001b]8;;\u001b\\\u001b[2m:\u001b[0m\u001b]8;id=556523;file:///usr/local/lib/python3.11/dist-packages/soccerdata/fbref.py#815\u001b\\\u001b[2m815\u001b[0m\u001b]8;;\u001b\\\n"
            ],
            "text/html": [
              "<pre style=\"white-space:pre;overflow-x:auto;line-height:normal;font-family:Menlo,'DejaVu Sans Mono',consolas,'Courier New',monospace\"><span style=\"color: #7fbfbf; text-decoration-color: #7fbfbf\">[01/27/25 23:13:30] </span><span style=\"color: #000080; text-decoration-color: #000080\">INFO    </span> <span style=\"font-weight: bold\">[</span><span style=\"color: #008080; text-decoration-color: #008080; font-weight: bold\">230</span>/<span style=\"color: #008080; text-decoration-color: #008080; font-weight: bold\">380</span><span style=\"font-weight: bold\">]</span> Retrieving game with <span style=\"color: #808000; text-decoration-color: #808000\">id</span>=<span style=\"color: #800080; text-decoration-color: #800080\">29e4d6ac</span>                                <a href=\"file:///usr/local/lib/python3.11/dist-packages/soccerdata/fbref.py\" target=\"_blank\"><span style=\"color: #7f7f7f; text-decoration-color: #7f7f7f\">fbref.py</span></a><span style=\"color: #7f7f7f; text-decoration-color: #7f7f7f\">:</span><a href=\"file:///usr/local/lib/python3.11/dist-packages/soccerdata/fbref.py#815\" target=\"_blank\"><span style=\"color: #7f7f7f; text-decoration-color: #7f7f7f\">815</span></a>\n",
              "</pre>\n"
            ]
          },
          "metadata": {}
        },
        {
          "output_type": "display_data",
          "data": {
            "text/plain": [
              "\u001b[2;36m[01/27/25 23:13:36]\u001b[0m\u001b[2;36m \u001b[0m\u001b[34mINFO    \u001b[0m \u001b[1m[\u001b[0m\u001b[1;36m231\u001b[0m/\u001b[1;36m380\u001b[0m\u001b[1m]\u001b[0m Retrieving game with \u001b[33mid\u001b[0m=\u001b[35m1a4e7d02\u001b[0m                                \u001b]8;id=390957;file:///usr/local/lib/python3.11/dist-packages/soccerdata/fbref.py\u001b\\\u001b[2mfbref.py\u001b[0m\u001b]8;;\u001b\\\u001b[2m:\u001b[0m\u001b]8;id=839348;file:///usr/local/lib/python3.11/dist-packages/soccerdata/fbref.py#815\u001b\\\u001b[2m815\u001b[0m\u001b]8;;\u001b\\\n"
            ],
            "text/html": [
              "<pre style=\"white-space:pre;overflow-x:auto;line-height:normal;font-family:Menlo,'DejaVu Sans Mono',consolas,'Courier New',monospace\"><span style=\"color: #7fbfbf; text-decoration-color: #7fbfbf\">[01/27/25 23:13:36] </span><span style=\"color: #000080; text-decoration-color: #000080\">INFO    </span> <span style=\"font-weight: bold\">[</span><span style=\"color: #008080; text-decoration-color: #008080; font-weight: bold\">231</span>/<span style=\"color: #008080; text-decoration-color: #008080; font-weight: bold\">380</span><span style=\"font-weight: bold\">]</span> Retrieving game with <span style=\"color: #808000; text-decoration-color: #808000\">id</span>=<span style=\"color: #800080; text-decoration-color: #800080\">1a4e7d02</span>                                <a href=\"file:///usr/local/lib/python3.11/dist-packages/soccerdata/fbref.py\" target=\"_blank\"><span style=\"color: #7f7f7f; text-decoration-color: #7f7f7f\">fbref.py</span></a><span style=\"color: #7f7f7f; text-decoration-color: #7f7f7f\">:</span><a href=\"file:///usr/local/lib/python3.11/dist-packages/soccerdata/fbref.py#815\" target=\"_blank\"><span style=\"color: #7f7f7f; text-decoration-color: #7f7f7f\">815</span></a>\n",
              "</pre>\n"
            ]
          },
          "metadata": {}
        },
        {
          "output_type": "display_data",
          "data": {
            "text/plain": [
              "\u001b[2;36m[01/27/25 23:13:42]\u001b[0m\u001b[2;36m \u001b[0m\u001b[34mINFO    \u001b[0m \u001b[1m[\u001b[0m\u001b[1;36m232\u001b[0m/\u001b[1;36m380\u001b[0m\u001b[1m]\u001b[0m Retrieving game with \u001b[33mid\u001b[0m=\u001b[35m00ea7906\u001b[0m                                \u001b]8;id=277368;file:///usr/local/lib/python3.11/dist-packages/soccerdata/fbref.py\u001b\\\u001b[2mfbref.py\u001b[0m\u001b]8;;\u001b\\\u001b[2m:\u001b[0m\u001b]8;id=613150;file:///usr/local/lib/python3.11/dist-packages/soccerdata/fbref.py#815\u001b\\\u001b[2m815\u001b[0m\u001b]8;;\u001b\\\n"
            ],
            "text/html": [
              "<pre style=\"white-space:pre;overflow-x:auto;line-height:normal;font-family:Menlo,'DejaVu Sans Mono',consolas,'Courier New',monospace\"><span style=\"color: #7fbfbf; text-decoration-color: #7fbfbf\">[01/27/25 23:13:42] </span><span style=\"color: #000080; text-decoration-color: #000080\">INFO    </span> <span style=\"font-weight: bold\">[</span><span style=\"color: #008080; text-decoration-color: #008080; font-weight: bold\">232</span>/<span style=\"color: #008080; text-decoration-color: #008080; font-weight: bold\">380</span><span style=\"font-weight: bold\">]</span> Retrieving game with <span style=\"color: #808000; text-decoration-color: #808000\">id</span>=<span style=\"color: #800080; text-decoration-color: #800080\">00ea7906</span>                                <a href=\"file:///usr/local/lib/python3.11/dist-packages/soccerdata/fbref.py\" target=\"_blank\"><span style=\"color: #7f7f7f; text-decoration-color: #7f7f7f\">fbref.py</span></a><span style=\"color: #7f7f7f; text-decoration-color: #7f7f7f\">:</span><a href=\"file:///usr/local/lib/python3.11/dist-packages/soccerdata/fbref.py#815\" target=\"_blank\"><span style=\"color: #7f7f7f; text-decoration-color: #7f7f7f\">815</span></a>\n",
              "</pre>\n"
            ]
          },
          "metadata": {}
        },
        {
          "output_type": "display_data",
          "data": {
            "text/plain": [
              "\u001b[2;36m[01/27/25 23:13:49]\u001b[0m\u001b[2;36m \u001b[0m\u001b[34mINFO    \u001b[0m \u001b[1m[\u001b[0m\u001b[1;36m233\u001b[0m/\u001b[1;36m380\u001b[0m\u001b[1m]\u001b[0m Retrieving game with \u001b[33mid\u001b[0m=\u001b[35m1c53666a\u001b[0m                                \u001b]8;id=337928;file:///usr/local/lib/python3.11/dist-packages/soccerdata/fbref.py\u001b\\\u001b[2mfbref.py\u001b[0m\u001b]8;;\u001b\\\u001b[2m:\u001b[0m\u001b]8;id=432686;file:///usr/local/lib/python3.11/dist-packages/soccerdata/fbref.py#815\u001b\\\u001b[2m815\u001b[0m\u001b]8;;\u001b\\\n"
            ],
            "text/html": [
              "<pre style=\"white-space:pre;overflow-x:auto;line-height:normal;font-family:Menlo,'DejaVu Sans Mono',consolas,'Courier New',monospace\"><span style=\"color: #7fbfbf; text-decoration-color: #7fbfbf\">[01/27/25 23:13:49] </span><span style=\"color: #000080; text-decoration-color: #000080\">INFO    </span> <span style=\"font-weight: bold\">[</span><span style=\"color: #008080; text-decoration-color: #008080; font-weight: bold\">233</span>/<span style=\"color: #008080; text-decoration-color: #008080; font-weight: bold\">380</span><span style=\"font-weight: bold\">]</span> Retrieving game with <span style=\"color: #808000; text-decoration-color: #808000\">id</span>=<span style=\"color: #800080; text-decoration-color: #800080\">1c53666a</span>                                <a href=\"file:///usr/local/lib/python3.11/dist-packages/soccerdata/fbref.py\" target=\"_blank\"><span style=\"color: #7f7f7f; text-decoration-color: #7f7f7f\">fbref.py</span></a><span style=\"color: #7f7f7f; text-decoration-color: #7f7f7f\">:</span><a href=\"file:///usr/local/lib/python3.11/dist-packages/soccerdata/fbref.py#815\" target=\"_blank\"><span style=\"color: #7f7f7f; text-decoration-color: #7f7f7f\">815</span></a>\n",
              "</pre>\n"
            ]
          },
          "metadata": {}
        },
        {
          "output_type": "display_data",
          "data": {
            "text/plain": [
              "\u001b[2;36m[01/27/25 23:13:55]\u001b[0m\u001b[2;36m \u001b[0m\u001b[34mINFO    \u001b[0m \u001b[1m[\u001b[0m\u001b[1;36m234\u001b[0m/\u001b[1;36m380\u001b[0m\u001b[1m]\u001b[0m Retrieving game with \u001b[33mid\u001b[0m=\u001b[35mc0dfccdf\u001b[0m                                \u001b]8;id=999921;file:///usr/local/lib/python3.11/dist-packages/soccerdata/fbref.py\u001b\\\u001b[2mfbref.py\u001b[0m\u001b]8;;\u001b\\\u001b[2m:\u001b[0m\u001b]8;id=223382;file:///usr/local/lib/python3.11/dist-packages/soccerdata/fbref.py#815\u001b\\\u001b[2m815\u001b[0m\u001b]8;;\u001b\\\n"
            ],
            "text/html": [
              "<pre style=\"white-space:pre;overflow-x:auto;line-height:normal;font-family:Menlo,'DejaVu Sans Mono',consolas,'Courier New',monospace\"><span style=\"color: #7fbfbf; text-decoration-color: #7fbfbf\">[01/27/25 23:13:55] </span><span style=\"color: #000080; text-decoration-color: #000080\">INFO    </span> <span style=\"font-weight: bold\">[</span><span style=\"color: #008080; text-decoration-color: #008080; font-weight: bold\">234</span>/<span style=\"color: #008080; text-decoration-color: #008080; font-weight: bold\">380</span><span style=\"font-weight: bold\">]</span> Retrieving game with <span style=\"color: #808000; text-decoration-color: #808000\">id</span>=<span style=\"color: #800080; text-decoration-color: #800080\">c0dfccdf</span>                                <a href=\"file:///usr/local/lib/python3.11/dist-packages/soccerdata/fbref.py\" target=\"_blank\"><span style=\"color: #7f7f7f; text-decoration-color: #7f7f7f\">fbref.py</span></a><span style=\"color: #7f7f7f; text-decoration-color: #7f7f7f\">:</span><a href=\"file:///usr/local/lib/python3.11/dist-packages/soccerdata/fbref.py#815\" target=\"_blank\"><span style=\"color: #7f7f7f; text-decoration-color: #7f7f7f\">815</span></a>\n",
              "</pre>\n"
            ]
          },
          "metadata": {}
        },
        {
          "output_type": "display_data",
          "data": {
            "text/plain": [
              "\u001b[2;36m[01/27/25 23:14:01]\u001b[0m\u001b[2;36m \u001b[0m\u001b[34mINFO    \u001b[0m \u001b[1m[\u001b[0m\u001b[1;36m235\u001b[0m/\u001b[1;36m380\u001b[0m\u001b[1m]\u001b[0m Retrieving game with \u001b[33mid\u001b[0m=\u001b[35m922cd256\u001b[0m                                \u001b]8;id=4331;file:///usr/local/lib/python3.11/dist-packages/soccerdata/fbref.py\u001b\\\u001b[2mfbref.py\u001b[0m\u001b]8;;\u001b\\\u001b[2m:\u001b[0m\u001b]8;id=628959;file:///usr/local/lib/python3.11/dist-packages/soccerdata/fbref.py#815\u001b\\\u001b[2m815\u001b[0m\u001b]8;;\u001b\\\n"
            ],
            "text/html": [
              "<pre style=\"white-space:pre;overflow-x:auto;line-height:normal;font-family:Menlo,'DejaVu Sans Mono',consolas,'Courier New',monospace\"><span style=\"color: #7fbfbf; text-decoration-color: #7fbfbf\">[01/27/25 23:14:01] </span><span style=\"color: #000080; text-decoration-color: #000080\">INFO    </span> <span style=\"font-weight: bold\">[</span><span style=\"color: #008080; text-decoration-color: #008080; font-weight: bold\">235</span>/<span style=\"color: #008080; text-decoration-color: #008080; font-weight: bold\">380</span><span style=\"font-weight: bold\">]</span> Retrieving game with <span style=\"color: #808000; text-decoration-color: #808000\">id</span>=<span style=\"color: #800080; text-decoration-color: #800080\">922cd256</span>                                <a href=\"file:///usr/local/lib/python3.11/dist-packages/soccerdata/fbref.py\" target=\"_blank\"><span style=\"color: #7f7f7f; text-decoration-color: #7f7f7f\">fbref.py</span></a><span style=\"color: #7f7f7f; text-decoration-color: #7f7f7f\">:</span><a href=\"file:///usr/local/lib/python3.11/dist-packages/soccerdata/fbref.py#815\" target=\"_blank\"><span style=\"color: #7f7f7f; text-decoration-color: #7f7f7f\">815</span></a>\n",
              "</pre>\n"
            ]
          },
          "metadata": {}
        },
        {
          "output_type": "display_data",
          "data": {
            "text/plain": [
              "\u001b[2;36m[01/27/25 23:14:08]\u001b[0m\u001b[2;36m \u001b[0m\u001b[34mINFO    \u001b[0m \u001b[1m[\u001b[0m\u001b[1;36m236\u001b[0m/\u001b[1;36m380\u001b[0m\u001b[1m]\u001b[0m Retrieving game with \u001b[33mid\u001b[0m=\u001b[35mfd36479b\u001b[0m                                \u001b]8;id=968845;file:///usr/local/lib/python3.11/dist-packages/soccerdata/fbref.py\u001b\\\u001b[2mfbref.py\u001b[0m\u001b]8;;\u001b\\\u001b[2m:\u001b[0m\u001b]8;id=457327;file:///usr/local/lib/python3.11/dist-packages/soccerdata/fbref.py#815\u001b\\\u001b[2m815\u001b[0m\u001b]8;;\u001b\\\n"
            ],
            "text/html": [
              "<pre style=\"white-space:pre;overflow-x:auto;line-height:normal;font-family:Menlo,'DejaVu Sans Mono',consolas,'Courier New',monospace\"><span style=\"color: #7fbfbf; text-decoration-color: #7fbfbf\">[01/27/25 23:14:08] </span><span style=\"color: #000080; text-decoration-color: #000080\">INFO    </span> <span style=\"font-weight: bold\">[</span><span style=\"color: #008080; text-decoration-color: #008080; font-weight: bold\">236</span>/<span style=\"color: #008080; text-decoration-color: #008080; font-weight: bold\">380</span><span style=\"font-weight: bold\">]</span> Retrieving game with <span style=\"color: #808000; text-decoration-color: #808000\">id</span>=<span style=\"color: #800080; text-decoration-color: #800080\">fd36479b</span>                                <a href=\"file:///usr/local/lib/python3.11/dist-packages/soccerdata/fbref.py\" target=\"_blank\"><span style=\"color: #7f7f7f; text-decoration-color: #7f7f7f\">fbref.py</span></a><span style=\"color: #7f7f7f; text-decoration-color: #7f7f7f\">:</span><a href=\"file:///usr/local/lib/python3.11/dist-packages/soccerdata/fbref.py#815\" target=\"_blank\"><span style=\"color: #7f7f7f; text-decoration-color: #7f7f7f\">815</span></a>\n",
              "</pre>\n"
            ]
          },
          "metadata": {}
        },
        {
          "output_type": "display_data",
          "data": {
            "text/plain": [
              "\u001b[2;36m[01/27/25 23:14:14]\u001b[0m\u001b[2;36m \u001b[0m\u001b[34mINFO    \u001b[0m \u001b[1m[\u001b[0m\u001b[1;36m237\u001b[0m/\u001b[1;36m380\u001b[0m\u001b[1m]\u001b[0m Retrieving game with \u001b[33mid\u001b[0m=\u001b[35ma1da23dc\u001b[0m                                \u001b]8;id=153612;file:///usr/local/lib/python3.11/dist-packages/soccerdata/fbref.py\u001b\\\u001b[2mfbref.py\u001b[0m\u001b]8;;\u001b\\\u001b[2m:\u001b[0m\u001b]8;id=314734;file:///usr/local/lib/python3.11/dist-packages/soccerdata/fbref.py#815\u001b\\\u001b[2m815\u001b[0m\u001b]8;;\u001b\\\n"
            ],
            "text/html": [
              "<pre style=\"white-space:pre;overflow-x:auto;line-height:normal;font-family:Menlo,'DejaVu Sans Mono',consolas,'Courier New',monospace\"><span style=\"color: #7fbfbf; text-decoration-color: #7fbfbf\">[01/27/25 23:14:14] </span><span style=\"color: #000080; text-decoration-color: #000080\">INFO    </span> <span style=\"font-weight: bold\">[</span><span style=\"color: #008080; text-decoration-color: #008080; font-weight: bold\">237</span>/<span style=\"color: #008080; text-decoration-color: #008080; font-weight: bold\">380</span><span style=\"font-weight: bold\">]</span> Retrieving game with <span style=\"color: #808000; text-decoration-color: #808000\">id</span>=<span style=\"color: #800080; text-decoration-color: #800080\">a1da23dc</span>                                <a href=\"file:///usr/local/lib/python3.11/dist-packages/soccerdata/fbref.py\" target=\"_blank\"><span style=\"color: #7f7f7f; text-decoration-color: #7f7f7f\">fbref.py</span></a><span style=\"color: #7f7f7f; text-decoration-color: #7f7f7f\">:</span><a href=\"file:///usr/local/lib/python3.11/dist-packages/soccerdata/fbref.py#815\" target=\"_blank\"><span style=\"color: #7f7f7f; text-decoration-color: #7f7f7f\">815</span></a>\n",
              "</pre>\n"
            ]
          },
          "metadata": {}
        },
        {
          "output_type": "display_data",
          "data": {
            "text/plain": [
              "\u001b[2;36m[01/27/25 23:14:20]\u001b[0m\u001b[2;36m \u001b[0m\u001b[34mINFO    \u001b[0m \u001b[1m[\u001b[0m\u001b[1;36m238\u001b[0m/\u001b[1;36m380\u001b[0m\u001b[1m]\u001b[0m Retrieving game with \u001b[33mid\u001b[0m=\u001b[35m1206b952\u001b[0m                                \u001b]8;id=777258;file:///usr/local/lib/python3.11/dist-packages/soccerdata/fbref.py\u001b\\\u001b[2mfbref.py\u001b[0m\u001b]8;;\u001b\\\u001b[2m:\u001b[0m\u001b]8;id=870030;file:///usr/local/lib/python3.11/dist-packages/soccerdata/fbref.py#815\u001b\\\u001b[2m815\u001b[0m\u001b]8;;\u001b\\\n"
            ],
            "text/html": [
              "<pre style=\"white-space:pre;overflow-x:auto;line-height:normal;font-family:Menlo,'DejaVu Sans Mono',consolas,'Courier New',monospace\"><span style=\"color: #7fbfbf; text-decoration-color: #7fbfbf\">[01/27/25 23:14:20] </span><span style=\"color: #000080; text-decoration-color: #000080\">INFO    </span> <span style=\"font-weight: bold\">[</span><span style=\"color: #008080; text-decoration-color: #008080; font-weight: bold\">238</span>/<span style=\"color: #008080; text-decoration-color: #008080; font-weight: bold\">380</span><span style=\"font-weight: bold\">]</span> Retrieving game with <span style=\"color: #808000; text-decoration-color: #808000\">id</span>=<span style=\"color: #800080; text-decoration-color: #800080\">1206b952</span>                                <a href=\"file:///usr/local/lib/python3.11/dist-packages/soccerdata/fbref.py\" target=\"_blank\"><span style=\"color: #7f7f7f; text-decoration-color: #7f7f7f\">fbref.py</span></a><span style=\"color: #7f7f7f; text-decoration-color: #7f7f7f\">:</span><a href=\"file:///usr/local/lib/python3.11/dist-packages/soccerdata/fbref.py#815\" target=\"_blank\"><span style=\"color: #7f7f7f; text-decoration-color: #7f7f7f\">815</span></a>\n",
              "</pre>\n"
            ]
          },
          "metadata": {}
        },
        {
          "output_type": "display_data",
          "data": {
            "text/plain": [
              "\u001b[2;36m[01/27/25 23:14:26]\u001b[0m\u001b[2;36m \u001b[0m\u001b[34mINFO    \u001b[0m \u001b[1m[\u001b[0m\u001b[1;36m239\u001b[0m/\u001b[1;36m380\u001b[0m\u001b[1m]\u001b[0m Retrieving game with \u001b[33mid\u001b[0m=\u001b[35mca1e26a0\u001b[0m                                \u001b]8;id=820071;file:///usr/local/lib/python3.11/dist-packages/soccerdata/fbref.py\u001b\\\u001b[2mfbref.py\u001b[0m\u001b]8;;\u001b\\\u001b[2m:\u001b[0m\u001b]8;id=402877;file:///usr/local/lib/python3.11/dist-packages/soccerdata/fbref.py#815\u001b\\\u001b[2m815\u001b[0m\u001b]8;;\u001b\\\n"
            ],
            "text/html": [
              "<pre style=\"white-space:pre;overflow-x:auto;line-height:normal;font-family:Menlo,'DejaVu Sans Mono',consolas,'Courier New',monospace\"><span style=\"color: #7fbfbf; text-decoration-color: #7fbfbf\">[01/27/25 23:14:26] </span><span style=\"color: #000080; text-decoration-color: #000080\">INFO    </span> <span style=\"font-weight: bold\">[</span><span style=\"color: #008080; text-decoration-color: #008080; font-weight: bold\">239</span>/<span style=\"color: #008080; text-decoration-color: #008080; font-weight: bold\">380</span><span style=\"font-weight: bold\">]</span> Retrieving game with <span style=\"color: #808000; text-decoration-color: #808000\">id</span>=<span style=\"color: #800080; text-decoration-color: #800080\">ca1e26a0</span>                                <a href=\"file:///usr/local/lib/python3.11/dist-packages/soccerdata/fbref.py\" target=\"_blank\"><span style=\"color: #7f7f7f; text-decoration-color: #7f7f7f\">fbref.py</span></a><span style=\"color: #7f7f7f; text-decoration-color: #7f7f7f\">:</span><a href=\"file:///usr/local/lib/python3.11/dist-packages/soccerdata/fbref.py#815\" target=\"_blank\"><span style=\"color: #7f7f7f; text-decoration-color: #7f7f7f\">815</span></a>\n",
              "</pre>\n"
            ]
          },
          "metadata": {}
        },
        {
          "output_type": "display_data",
          "data": {
            "text/plain": [
              "\u001b[2;36m[01/27/25 23:14:33]\u001b[0m\u001b[2;36m \u001b[0m\u001b[34mINFO    \u001b[0m \u001b[1m[\u001b[0m\u001b[1;36m240\u001b[0m/\u001b[1;36m380\u001b[0m\u001b[1m]\u001b[0m Retrieving game with \u001b[33mid\u001b[0m=\u001b[1;36m59631171\u001b[0m                                \u001b]8;id=380271;file:///usr/local/lib/python3.11/dist-packages/soccerdata/fbref.py\u001b\\\u001b[2mfbref.py\u001b[0m\u001b]8;;\u001b\\\u001b[2m:\u001b[0m\u001b]8;id=24896;file:///usr/local/lib/python3.11/dist-packages/soccerdata/fbref.py#815\u001b\\\u001b[2m815\u001b[0m\u001b]8;;\u001b\\\n"
            ],
            "text/html": [
              "<pre style=\"white-space:pre;overflow-x:auto;line-height:normal;font-family:Menlo,'DejaVu Sans Mono',consolas,'Courier New',monospace\"><span style=\"color: #7fbfbf; text-decoration-color: #7fbfbf\">[01/27/25 23:14:33] </span><span style=\"color: #000080; text-decoration-color: #000080\">INFO    </span> <span style=\"font-weight: bold\">[</span><span style=\"color: #008080; text-decoration-color: #008080; font-weight: bold\">240</span>/<span style=\"color: #008080; text-decoration-color: #008080; font-weight: bold\">380</span><span style=\"font-weight: bold\">]</span> Retrieving game with <span style=\"color: #808000; text-decoration-color: #808000\">id</span>=<span style=\"color: #008080; text-decoration-color: #008080; font-weight: bold\">59631171</span>                                <a href=\"file:///usr/local/lib/python3.11/dist-packages/soccerdata/fbref.py\" target=\"_blank\"><span style=\"color: #7f7f7f; text-decoration-color: #7f7f7f\">fbref.py</span></a><span style=\"color: #7f7f7f; text-decoration-color: #7f7f7f\">:</span><a href=\"file:///usr/local/lib/python3.11/dist-packages/soccerdata/fbref.py#815\" target=\"_blank\"><span style=\"color: #7f7f7f; text-decoration-color: #7f7f7f\">815</span></a>\n",
              "</pre>\n"
            ]
          },
          "metadata": {}
        },
        {
          "output_type": "display_data",
          "data": {
            "text/plain": [
              "\u001b[2;36m[01/27/25 23:14:39]\u001b[0m\u001b[2;36m \u001b[0m\u001b[34mINFO    \u001b[0m \u001b[1m[\u001b[0m\u001b[1;36m241\u001b[0m/\u001b[1;36m380\u001b[0m\u001b[1m]\u001b[0m Retrieving game with \u001b[33mid\u001b[0m=\u001b[35m796ff9f0\u001b[0m                                \u001b]8;id=389372;file:///usr/local/lib/python3.11/dist-packages/soccerdata/fbref.py\u001b\\\u001b[2mfbref.py\u001b[0m\u001b]8;;\u001b\\\u001b[2m:\u001b[0m\u001b]8;id=28552;file:///usr/local/lib/python3.11/dist-packages/soccerdata/fbref.py#815\u001b\\\u001b[2m815\u001b[0m\u001b]8;;\u001b\\\n"
            ],
            "text/html": [
              "<pre style=\"white-space:pre;overflow-x:auto;line-height:normal;font-family:Menlo,'DejaVu Sans Mono',consolas,'Courier New',monospace\"><span style=\"color: #7fbfbf; text-decoration-color: #7fbfbf\">[01/27/25 23:14:39] </span><span style=\"color: #000080; text-decoration-color: #000080\">INFO    </span> <span style=\"font-weight: bold\">[</span><span style=\"color: #008080; text-decoration-color: #008080; font-weight: bold\">241</span>/<span style=\"color: #008080; text-decoration-color: #008080; font-weight: bold\">380</span><span style=\"font-weight: bold\">]</span> Retrieving game with <span style=\"color: #808000; text-decoration-color: #808000\">id</span>=<span style=\"color: #800080; text-decoration-color: #800080\">796ff9f0</span>                                <a href=\"file:///usr/local/lib/python3.11/dist-packages/soccerdata/fbref.py\" target=\"_blank\"><span style=\"color: #7f7f7f; text-decoration-color: #7f7f7f\">fbref.py</span></a><span style=\"color: #7f7f7f; text-decoration-color: #7f7f7f\">:</span><a href=\"file:///usr/local/lib/python3.11/dist-packages/soccerdata/fbref.py#815\" target=\"_blank\"><span style=\"color: #7f7f7f; text-decoration-color: #7f7f7f\">815</span></a>\n",
              "</pre>\n"
            ]
          },
          "metadata": {}
        },
        {
          "output_type": "display_data",
          "data": {
            "text/plain": [
              "\u001b[2;36m[01/27/25 23:14:45]\u001b[0m\u001b[2;36m \u001b[0m\u001b[34mINFO    \u001b[0m \u001b[1m[\u001b[0m\u001b[1;36m242\u001b[0m/\u001b[1;36m380\u001b[0m\u001b[1m]\u001b[0m Retrieving game with \u001b[33mid\u001b[0m=\u001b[35m78fb7fc2\u001b[0m                                \u001b]8;id=364800;file:///usr/local/lib/python3.11/dist-packages/soccerdata/fbref.py\u001b\\\u001b[2mfbref.py\u001b[0m\u001b]8;;\u001b\\\u001b[2m:\u001b[0m\u001b]8;id=550411;file:///usr/local/lib/python3.11/dist-packages/soccerdata/fbref.py#815\u001b\\\u001b[2m815\u001b[0m\u001b]8;;\u001b\\\n"
            ],
            "text/html": [
              "<pre style=\"white-space:pre;overflow-x:auto;line-height:normal;font-family:Menlo,'DejaVu Sans Mono',consolas,'Courier New',monospace\"><span style=\"color: #7fbfbf; text-decoration-color: #7fbfbf\">[01/27/25 23:14:45] </span><span style=\"color: #000080; text-decoration-color: #000080\">INFO    </span> <span style=\"font-weight: bold\">[</span><span style=\"color: #008080; text-decoration-color: #008080; font-weight: bold\">242</span>/<span style=\"color: #008080; text-decoration-color: #008080; font-weight: bold\">380</span><span style=\"font-weight: bold\">]</span> Retrieving game with <span style=\"color: #808000; text-decoration-color: #808000\">id</span>=<span style=\"color: #800080; text-decoration-color: #800080\">78fb7fc2</span>                                <a href=\"file:///usr/local/lib/python3.11/dist-packages/soccerdata/fbref.py\" target=\"_blank\"><span style=\"color: #7f7f7f; text-decoration-color: #7f7f7f\">fbref.py</span></a><span style=\"color: #7f7f7f; text-decoration-color: #7f7f7f\">:</span><a href=\"file:///usr/local/lib/python3.11/dist-packages/soccerdata/fbref.py#815\" target=\"_blank\"><span style=\"color: #7f7f7f; text-decoration-color: #7f7f7f\">815</span></a>\n",
              "</pre>\n"
            ]
          },
          "metadata": {}
        },
        {
          "output_type": "display_data",
          "data": {
            "text/plain": [
              "\u001b[2;36m[01/27/25 23:14:52]\u001b[0m\u001b[2;36m \u001b[0m\u001b[34mINFO    \u001b[0m \u001b[1m[\u001b[0m\u001b[1;36m243\u001b[0m/\u001b[1;36m380\u001b[0m\u001b[1m]\u001b[0m Retrieving game with \u001b[33mid\u001b[0m=\u001b[35m083c4444\u001b[0m                                \u001b]8;id=337127;file:///usr/local/lib/python3.11/dist-packages/soccerdata/fbref.py\u001b\\\u001b[2mfbref.py\u001b[0m\u001b]8;;\u001b\\\u001b[2m:\u001b[0m\u001b]8;id=82727;file:///usr/local/lib/python3.11/dist-packages/soccerdata/fbref.py#815\u001b\\\u001b[2m815\u001b[0m\u001b]8;;\u001b\\\n"
            ],
            "text/html": [
              "<pre style=\"white-space:pre;overflow-x:auto;line-height:normal;font-family:Menlo,'DejaVu Sans Mono',consolas,'Courier New',monospace\"><span style=\"color: #7fbfbf; text-decoration-color: #7fbfbf\">[01/27/25 23:14:52] </span><span style=\"color: #000080; text-decoration-color: #000080\">INFO    </span> <span style=\"font-weight: bold\">[</span><span style=\"color: #008080; text-decoration-color: #008080; font-weight: bold\">243</span>/<span style=\"color: #008080; text-decoration-color: #008080; font-weight: bold\">380</span><span style=\"font-weight: bold\">]</span> Retrieving game with <span style=\"color: #808000; text-decoration-color: #808000\">id</span>=<span style=\"color: #800080; text-decoration-color: #800080\">083c4444</span>                                <a href=\"file:///usr/local/lib/python3.11/dist-packages/soccerdata/fbref.py\" target=\"_blank\"><span style=\"color: #7f7f7f; text-decoration-color: #7f7f7f\">fbref.py</span></a><span style=\"color: #7f7f7f; text-decoration-color: #7f7f7f\">:</span><a href=\"file:///usr/local/lib/python3.11/dist-packages/soccerdata/fbref.py#815\" target=\"_blank\"><span style=\"color: #7f7f7f; text-decoration-color: #7f7f7f\">815</span></a>\n",
              "</pre>\n"
            ]
          },
          "metadata": {}
        },
        {
          "output_type": "display_data",
          "data": {
            "text/plain": [
              "\u001b[2;36m[01/27/25 23:14:58]\u001b[0m\u001b[2;36m \u001b[0m\u001b[34mINFO    \u001b[0m \u001b[1m[\u001b[0m\u001b[1;36m244\u001b[0m/\u001b[1;36m380\u001b[0m\u001b[1m]\u001b[0m Retrieving game with \u001b[33mid\u001b[0m=\u001b[35md657db47\u001b[0m                                \u001b]8;id=729361;file:///usr/local/lib/python3.11/dist-packages/soccerdata/fbref.py\u001b\\\u001b[2mfbref.py\u001b[0m\u001b]8;;\u001b\\\u001b[2m:\u001b[0m\u001b]8;id=663319;file:///usr/local/lib/python3.11/dist-packages/soccerdata/fbref.py#815\u001b\\\u001b[2m815\u001b[0m\u001b]8;;\u001b\\\n"
            ],
            "text/html": [
              "<pre style=\"white-space:pre;overflow-x:auto;line-height:normal;font-family:Menlo,'DejaVu Sans Mono',consolas,'Courier New',monospace\"><span style=\"color: #7fbfbf; text-decoration-color: #7fbfbf\">[01/27/25 23:14:58] </span><span style=\"color: #000080; text-decoration-color: #000080\">INFO    </span> <span style=\"font-weight: bold\">[</span><span style=\"color: #008080; text-decoration-color: #008080; font-weight: bold\">244</span>/<span style=\"color: #008080; text-decoration-color: #008080; font-weight: bold\">380</span><span style=\"font-weight: bold\">]</span> Retrieving game with <span style=\"color: #808000; text-decoration-color: #808000\">id</span>=<span style=\"color: #800080; text-decoration-color: #800080\">d657db47</span>                                <a href=\"file:///usr/local/lib/python3.11/dist-packages/soccerdata/fbref.py\" target=\"_blank\"><span style=\"color: #7f7f7f; text-decoration-color: #7f7f7f\">fbref.py</span></a><span style=\"color: #7f7f7f; text-decoration-color: #7f7f7f\">:</span><a href=\"file:///usr/local/lib/python3.11/dist-packages/soccerdata/fbref.py#815\" target=\"_blank\"><span style=\"color: #7f7f7f; text-decoration-color: #7f7f7f\">815</span></a>\n",
              "</pre>\n"
            ]
          },
          "metadata": {}
        },
        {
          "output_type": "display_data",
          "data": {
            "text/plain": [
              "\u001b[2;36m[01/27/25 23:15:04]\u001b[0m\u001b[2;36m \u001b[0m\u001b[34mINFO    \u001b[0m \u001b[1m[\u001b[0m\u001b[1;36m245\u001b[0m/\u001b[1;36m380\u001b[0m\u001b[1m]\u001b[0m Retrieving game with \u001b[33mid\u001b[0m=\u001b[1;36m30193251\u001b[0m                                \u001b]8;id=866317;file:///usr/local/lib/python3.11/dist-packages/soccerdata/fbref.py\u001b\\\u001b[2mfbref.py\u001b[0m\u001b]8;;\u001b\\\u001b[2m:\u001b[0m\u001b]8;id=946966;file:///usr/local/lib/python3.11/dist-packages/soccerdata/fbref.py#815\u001b\\\u001b[2m815\u001b[0m\u001b]8;;\u001b\\\n"
            ],
            "text/html": [
              "<pre style=\"white-space:pre;overflow-x:auto;line-height:normal;font-family:Menlo,'DejaVu Sans Mono',consolas,'Courier New',monospace\"><span style=\"color: #7fbfbf; text-decoration-color: #7fbfbf\">[01/27/25 23:15:04] </span><span style=\"color: #000080; text-decoration-color: #000080\">INFO    </span> <span style=\"font-weight: bold\">[</span><span style=\"color: #008080; text-decoration-color: #008080; font-weight: bold\">245</span>/<span style=\"color: #008080; text-decoration-color: #008080; font-weight: bold\">380</span><span style=\"font-weight: bold\">]</span> Retrieving game with <span style=\"color: #808000; text-decoration-color: #808000\">id</span>=<span style=\"color: #008080; text-decoration-color: #008080; font-weight: bold\">30193251</span>                                <a href=\"file:///usr/local/lib/python3.11/dist-packages/soccerdata/fbref.py\" target=\"_blank\"><span style=\"color: #7f7f7f; text-decoration-color: #7f7f7f\">fbref.py</span></a><span style=\"color: #7f7f7f; text-decoration-color: #7f7f7f\">:</span><a href=\"file:///usr/local/lib/python3.11/dist-packages/soccerdata/fbref.py#815\" target=\"_blank\"><span style=\"color: #7f7f7f; text-decoration-color: #7f7f7f\">815</span></a>\n",
              "</pre>\n"
            ]
          },
          "metadata": {}
        },
        {
          "output_type": "display_data",
          "data": {
            "text/plain": [
              "\u001b[2;36m[01/27/25 23:15:11]\u001b[0m\u001b[2;36m \u001b[0m\u001b[34mINFO    \u001b[0m \u001b[1m[\u001b[0m\u001b[1;36m246\u001b[0m/\u001b[1;36m380\u001b[0m\u001b[1m]\u001b[0m Retrieving game with \u001b[33mid\u001b[0m=\u001b[35m49523b04\u001b[0m                                \u001b]8;id=460134;file:///usr/local/lib/python3.11/dist-packages/soccerdata/fbref.py\u001b\\\u001b[2mfbref.py\u001b[0m\u001b]8;;\u001b\\\u001b[2m:\u001b[0m\u001b]8;id=815648;file:///usr/local/lib/python3.11/dist-packages/soccerdata/fbref.py#815\u001b\\\u001b[2m815\u001b[0m\u001b]8;;\u001b\\\n"
            ],
            "text/html": [
              "<pre style=\"white-space:pre;overflow-x:auto;line-height:normal;font-family:Menlo,'DejaVu Sans Mono',consolas,'Courier New',monospace\"><span style=\"color: #7fbfbf; text-decoration-color: #7fbfbf\">[01/27/25 23:15:11] </span><span style=\"color: #000080; text-decoration-color: #000080\">INFO    </span> <span style=\"font-weight: bold\">[</span><span style=\"color: #008080; text-decoration-color: #008080; font-weight: bold\">246</span>/<span style=\"color: #008080; text-decoration-color: #008080; font-weight: bold\">380</span><span style=\"font-weight: bold\">]</span> Retrieving game with <span style=\"color: #808000; text-decoration-color: #808000\">id</span>=<span style=\"color: #800080; text-decoration-color: #800080\">49523b04</span>                                <a href=\"file:///usr/local/lib/python3.11/dist-packages/soccerdata/fbref.py\" target=\"_blank\"><span style=\"color: #7f7f7f; text-decoration-color: #7f7f7f\">fbref.py</span></a><span style=\"color: #7f7f7f; text-decoration-color: #7f7f7f\">:</span><a href=\"file:///usr/local/lib/python3.11/dist-packages/soccerdata/fbref.py#815\" target=\"_blank\"><span style=\"color: #7f7f7f; text-decoration-color: #7f7f7f\">815</span></a>\n",
              "</pre>\n"
            ]
          },
          "metadata": {}
        },
        {
          "output_type": "display_data",
          "data": {
            "text/plain": [
              "\u001b[2;36m[01/27/25 23:15:17]\u001b[0m\u001b[2;36m \u001b[0m\u001b[34mINFO    \u001b[0m \u001b[1m[\u001b[0m\u001b[1;36m247\u001b[0m/\u001b[1;36m380\u001b[0m\u001b[1m]\u001b[0m Retrieving game with \u001b[33mid\u001b[0m=\u001b[35m811fa03f\u001b[0m                                \u001b]8;id=43107;file:///usr/local/lib/python3.11/dist-packages/soccerdata/fbref.py\u001b\\\u001b[2mfbref.py\u001b[0m\u001b]8;;\u001b\\\u001b[2m:\u001b[0m\u001b]8;id=873952;file:///usr/local/lib/python3.11/dist-packages/soccerdata/fbref.py#815\u001b\\\u001b[2m815\u001b[0m\u001b]8;;\u001b\\\n"
            ],
            "text/html": [
              "<pre style=\"white-space:pre;overflow-x:auto;line-height:normal;font-family:Menlo,'DejaVu Sans Mono',consolas,'Courier New',monospace\"><span style=\"color: #7fbfbf; text-decoration-color: #7fbfbf\">[01/27/25 23:15:17] </span><span style=\"color: #000080; text-decoration-color: #000080\">INFO    </span> <span style=\"font-weight: bold\">[</span><span style=\"color: #008080; text-decoration-color: #008080; font-weight: bold\">247</span>/<span style=\"color: #008080; text-decoration-color: #008080; font-weight: bold\">380</span><span style=\"font-weight: bold\">]</span> Retrieving game with <span style=\"color: #808000; text-decoration-color: #808000\">id</span>=<span style=\"color: #800080; text-decoration-color: #800080\">811fa03f</span>                                <a href=\"file:///usr/local/lib/python3.11/dist-packages/soccerdata/fbref.py\" target=\"_blank\"><span style=\"color: #7f7f7f; text-decoration-color: #7f7f7f\">fbref.py</span></a><span style=\"color: #7f7f7f; text-decoration-color: #7f7f7f\">:</span><a href=\"file:///usr/local/lib/python3.11/dist-packages/soccerdata/fbref.py#815\" target=\"_blank\"><span style=\"color: #7f7f7f; text-decoration-color: #7f7f7f\">815</span></a>\n",
              "</pre>\n"
            ]
          },
          "metadata": {}
        },
        {
          "output_type": "display_data",
          "data": {
            "text/plain": [
              "\u001b[2;36m[01/27/25 23:15:23]\u001b[0m\u001b[2;36m \u001b[0m\u001b[34mINFO    \u001b[0m \u001b[1m[\u001b[0m\u001b[1;36m248\u001b[0m/\u001b[1;36m380\u001b[0m\u001b[1m]\u001b[0m Retrieving game with \u001b[33mid\u001b[0m=\u001b[35m573f2f77\u001b[0m                                \u001b]8;id=234457;file:///usr/local/lib/python3.11/dist-packages/soccerdata/fbref.py\u001b\\\u001b[2mfbref.py\u001b[0m\u001b]8;;\u001b\\\u001b[2m:\u001b[0m\u001b]8;id=717797;file:///usr/local/lib/python3.11/dist-packages/soccerdata/fbref.py#815\u001b\\\u001b[2m815\u001b[0m\u001b]8;;\u001b\\\n"
            ],
            "text/html": [
              "<pre style=\"white-space:pre;overflow-x:auto;line-height:normal;font-family:Menlo,'DejaVu Sans Mono',consolas,'Courier New',monospace\"><span style=\"color: #7fbfbf; text-decoration-color: #7fbfbf\">[01/27/25 23:15:23] </span><span style=\"color: #000080; text-decoration-color: #000080\">INFO    </span> <span style=\"font-weight: bold\">[</span><span style=\"color: #008080; text-decoration-color: #008080; font-weight: bold\">248</span>/<span style=\"color: #008080; text-decoration-color: #008080; font-weight: bold\">380</span><span style=\"font-weight: bold\">]</span> Retrieving game with <span style=\"color: #808000; text-decoration-color: #808000\">id</span>=<span style=\"color: #800080; text-decoration-color: #800080\">573f2f77</span>                                <a href=\"file:///usr/local/lib/python3.11/dist-packages/soccerdata/fbref.py\" target=\"_blank\"><span style=\"color: #7f7f7f; text-decoration-color: #7f7f7f\">fbref.py</span></a><span style=\"color: #7f7f7f; text-decoration-color: #7f7f7f\">:</span><a href=\"file:///usr/local/lib/python3.11/dist-packages/soccerdata/fbref.py#815\" target=\"_blank\"><span style=\"color: #7f7f7f; text-decoration-color: #7f7f7f\">815</span></a>\n",
              "</pre>\n"
            ]
          },
          "metadata": {}
        },
        {
          "output_type": "display_data",
          "data": {
            "text/plain": [
              "\u001b[2;36m[01/27/25 23:15:30]\u001b[0m\u001b[2;36m \u001b[0m\u001b[34mINFO    \u001b[0m \u001b[1m[\u001b[0m\u001b[1;36m249\u001b[0m/\u001b[1;36m380\u001b[0m\u001b[1m]\u001b[0m Retrieving game with \u001b[33mid\u001b[0m=\u001b[35maf88a1aa\u001b[0m                                \u001b]8;id=218955;file:///usr/local/lib/python3.11/dist-packages/soccerdata/fbref.py\u001b\\\u001b[2mfbref.py\u001b[0m\u001b]8;;\u001b\\\u001b[2m:\u001b[0m\u001b]8;id=383491;file:///usr/local/lib/python3.11/dist-packages/soccerdata/fbref.py#815\u001b\\\u001b[2m815\u001b[0m\u001b]8;;\u001b\\\n"
            ],
            "text/html": [
              "<pre style=\"white-space:pre;overflow-x:auto;line-height:normal;font-family:Menlo,'DejaVu Sans Mono',consolas,'Courier New',monospace\"><span style=\"color: #7fbfbf; text-decoration-color: #7fbfbf\">[01/27/25 23:15:30] </span><span style=\"color: #000080; text-decoration-color: #000080\">INFO    </span> <span style=\"font-weight: bold\">[</span><span style=\"color: #008080; text-decoration-color: #008080; font-weight: bold\">249</span>/<span style=\"color: #008080; text-decoration-color: #008080; font-weight: bold\">380</span><span style=\"font-weight: bold\">]</span> Retrieving game with <span style=\"color: #808000; text-decoration-color: #808000\">id</span>=<span style=\"color: #800080; text-decoration-color: #800080\">af88a1aa</span>                                <a href=\"file:///usr/local/lib/python3.11/dist-packages/soccerdata/fbref.py\" target=\"_blank\"><span style=\"color: #7f7f7f; text-decoration-color: #7f7f7f\">fbref.py</span></a><span style=\"color: #7f7f7f; text-decoration-color: #7f7f7f\">:</span><a href=\"file:///usr/local/lib/python3.11/dist-packages/soccerdata/fbref.py#815\" target=\"_blank\"><span style=\"color: #7f7f7f; text-decoration-color: #7f7f7f\">815</span></a>\n",
              "</pre>\n"
            ]
          },
          "metadata": {}
        },
        {
          "output_type": "display_data",
          "data": {
            "text/plain": [
              "\u001b[2;36m[01/27/25 23:15:36]\u001b[0m\u001b[2;36m \u001b[0m\u001b[34mINFO    \u001b[0m \u001b[1m[\u001b[0m\u001b[1;36m250\u001b[0m/\u001b[1;36m380\u001b[0m\u001b[1m]\u001b[0m Retrieving game with \u001b[33mid\u001b[0m=\u001b[35m58636a1e\u001b[0m                                \u001b]8;id=124815;file:///usr/local/lib/python3.11/dist-packages/soccerdata/fbref.py\u001b\\\u001b[2mfbref.py\u001b[0m\u001b]8;;\u001b\\\u001b[2m:\u001b[0m\u001b]8;id=587836;file:///usr/local/lib/python3.11/dist-packages/soccerdata/fbref.py#815\u001b\\\u001b[2m815\u001b[0m\u001b]8;;\u001b\\\n"
            ],
            "text/html": [
              "<pre style=\"white-space:pre;overflow-x:auto;line-height:normal;font-family:Menlo,'DejaVu Sans Mono',consolas,'Courier New',monospace\"><span style=\"color: #7fbfbf; text-decoration-color: #7fbfbf\">[01/27/25 23:15:36] </span><span style=\"color: #000080; text-decoration-color: #000080\">INFO    </span> <span style=\"font-weight: bold\">[</span><span style=\"color: #008080; text-decoration-color: #008080; font-weight: bold\">250</span>/<span style=\"color: #008080; text-decoration-color: #008080; font-weight: bold\">380</span><span style=\"font-weight: bold\">]</span> Retrieving game with <span style=\"color: #808000; text-decoration-color: #808000\">id</span>=<span style=\"color: #800080; text-decoration-color: #800080\">58636a1e</span>                                <a href=\"file:///usr/local/lib/python3.11/dist-packages/soccerdata/fbref.py\" target=\"_blank\"><span style=\"color: #7f7f7f; text-decoration-color: #7f7f7f\">fbref.py</span></a><span style=\"color: #7f7f7f; text-decoration-color: #7f7f7f\">:</span><a href=\"file:///usr/local/lib/python3.11/dist-packages/soccerdata/fbref.py#815\" target=\"_blank\"><span style=\"color: #7f7f7f; text-decoration-color: #7f7f7f\">815</span></a>\n",
              "</pre>\n"
            ]
          },
          "metadata": {}
        },
        {
          "output_type": "display_data",
          "data": {
            "text/plain": [
              "\u001b[2;36m[01/27/25 23:15:42]\u001b[0m\u001b[2;36m \u001b[0m\u001b[34mINFO    \u001b[0m \u001b[1m[\u001b[0m\u001b[1;36m251\u001b[0m/\u001b[1;36m380\u001b[0m\u001b[1m]\u001b[0m Retrieving game with \u001b[33mid\u001b[0m=\u001b[35m8f922133\u001b[0m                                \u001b]8;id=587743;file:///usr/local/lib/python3.11/dist-packages/soccerdata/fbref.py\u001b\\\u001b[2mfbref.py\u001b[0m\u001b]8;;\u001b\\\u001b[2m:\u001b[0m\u001b]8;id=713679;file:///usr/local/lib/python3.11/dist-packages/soccerdata/fbref.py#815\u001b\\\u001b[2m815\u001b[0m\u001b]8;;\u001b\\\n"
            ],
            "text/html": [
              "<pre style=\"white-space:pre;overflow-x:auto;line-height:normal;font-family:Menlo,'DejaVu Sans Mono',consolas,'Courier New',monospace\"><span style=\"color: #7fbfbf; text-decoration-color: #7fbfbf\">[01/27/25 23:15:42] </span><span style=\"color: #000080; text-decoration-color: #000080\">INFO    </span> <span style=\"font-weight: bold\">[</span><span style=\"color: #008080; text-decoration-color: #008080; font-weight: bold\">251</span>/<span style=\"color: #008080; text-decoration-color: #008080; font-weight: bold\">380</span><span style=\"font-weight: bold\">]</span> Retrieving game with <span style=\"color: #808000; text-decoration-color: #808000\">id</span>=<span style=\"color: #800080; text-decoration-color: #800080\">8f922133</span>                                <a href=\"file:///usr/local/lib/python3.11/dist-packages/soccerdata/fbref.py\" target=\"_blank\"><span style=\"color: #7f7f7f; text-decoration-color: #7f7f7f\">fbref.py</span></a><span style=\"color: #7f7f7f; text-decoration-color: #7f7f7f\">:</span><a href=\"file:///usr/local/lib/python3.11/dist-packages/soccerdata/fbref.py#815\" target=\"_blank\"><span style=\"color: #7f7f7f; text-decoration-color: #7f7f7f\">815</span></a>\n",
              "</pre>\n"
            ]
          },
          "metadata": {}
        },
        {
          "output_type": "display_data",
          "data": {
            "text/plain": [
              "\u001b[2;36m[01/27/25 23:15:49]\u001b[0m\u001b[2;36m \u001b[0m\u001b[34mINFO    \u001b[0m \u001b[1m[\u001b[0m\u001b[1;36m252\u001b[0m/\u001b[1;36m380\u001b[0m\u001b[1m]\u001b[0m Retrieving game with \u001b[33mid\u001b[0m=\u001b[35mf61fbe36\u001b[0m                                \u001b]8;id=958572;file:///usr/local/lib/python3.11/dist-packages/soccerdata/fbref.py\u001b\\\u001b[2mfbref.py\u001b[0m\u001b]8;;\u001b\\\u001b[2m:\u001b[0m\u001b]8;id=578631;file:///usr/local/lib/python3.11/dist-packages/soccerdata/fbref.py#815\u001b\\\u001b[2m815\u001b[0m\u001b]8;;\u001b\\\n"
            ],
            "text/html": [
              "<pre style=\"white-space:pre;overflow-x:auto;line-height:normal;font-family:Menlo,'DejaVu Sans Mono',consolas,'Courier New',monospace\"><span style=\"color: #7fbfbf; text-decoration-color: #7fbfbf\">[01/27/25 23:15:49] </span><span style=\"color: #000080; text-decoration-color: #000080\">INFO    </span> <span style=\"font-weight: bold\">[</span><span style=\"color: #008080; text-decoration-color: #008080; font-weight: bold\">252</span>/<span style=\"color: #008080; text-decoration-color: #008080; font-weight: bold\">380</span><span style=\"font-weight: bold\">]</span> Retrieving game with <span style=\"color: #808000; text-decoration-color: #808000\">id</span>=<span style=\"color: #800080; text-decoration-color: #800080\">f61fbe36</span>                                <a href=\"file:///usr/local/lib/python3.11/dist-packages/soccerdata/fbref.py\" target=\"_blank\"><span style=\"color: #7f7f7f; text-decoration-color: #7f7f7f\">fbref.py</span></a><span style=\"color: #7f7f7f; text-decoration-color: #7f7f7f\">:</span><a href=\"file:///usr/local/lib/python3.11/dist-packages/soccerdata/fbref.py#815\" target=\"_blank\"><span style=\"color: #7f7f7f; text-decoration-color: #7f7f7f\">815</span></a>\n",
              "</pre>\n"
            ]
          },
          "metadata": {}
        },
        {
          "output_type": "display_data",
          "data": {
            "text/plain": [
              "\u001b[2;36m[01/27/25 23:15:55]\u001b[0m\u001b[2;36m \u001b[0m\u001b[34mINFO    \u001b[0m \u001b[1m[\u001b[0m\u001b[1;36m253\u001b[0m/\u001b[1;36m380\u001b[0m\u001b[1m]\u001b[0m Retrieving game with \u001b[33mid\u001b[0m=\u001b[35mf6d6a212\u001b[0m                                \u001b]8;id=284370;file:///usr/local/lib/python3.11/dist-packages/soccerdata/fbref.py\u001b\\\u001b[2mfbref.py\u001b[0m\u001b]8;;\u001b\\\u001b[2m:\u001b[0m\u001b]8;id=625773;file:///usr/local/lib/python3.11/dist-packages/soccerdata/fbref.py#815\u001b\\\u001b[2m815\u001b[0m\u001b]8;;\u001b\\\n"
            ],
            "text/html": [
              "<pre style=\"white-space:pre;overflow-x:auto;line-height:normal;font-family:Menlo,'DejaVu Sans Mono',consolas,'Courier New',monospace\"><span style=\"color: #7fbfbf; text-decoration-color: #7fbfbf\">[01/27/25 23:15:55] </span><span style=\"color: #000080; text-decoration-color: #000080\">INFO    </span> <span style=\"font-weight: bold\">[</span><span style=\"color: #008080; text-decoration-color: #008080; font-weight: bold\">253</span>/<span style=\"color: #008080; text-decoration-color: #008080; font-weight: bold\">380</span><span style=\"font-weight: bold\">]</span> Retrieving game with <span style=\"color: #808000; text-decoration-color: #808000\">id</span>=<span style=\"color: #800080; text-decoration-color: #800080\">f6d6a212</span>                                <a href=\"file:///usr/local/lib/python3.11/dist-packages/soccerdata/fbref.py\" target=\"_blank\"><span style=\"color: #7f7f7f; text-decoration-color: #7f7f7f\">fbref.py</span></a><span style=\"color: #7f7f7f; text-decoration-color: #7f7f7f\">:</span><a href=\"file:///usr/local/lib/python3.11/dist-packages/soccerdata/fbref.py#815\" target=\"_blank\"><span style=\"color: #7f7f7f; text-decoration-color: #7f7f7f\">815</span></a>\n",
              "</pre>\n"
            ]
          },
          "metadata": {}
        },
        {
          "output_type": "display_data",
          "data": {
            "text/plain": [
              "\u001b[2;36m[01/27/25 23:16:01]\u001b[0m\u001b[2;36m \u001b[0m\u001b[34mINFO    \u001b[0m \u001b[1m[\u001b[0m\u001b[1;36m254\u001b[0m/\u001b[1;36m380\u001b[0m\u001b[1m]\u001b[0m Retrieving game with \u001b[33mid\u001b[0m=\u001b[35meb7c6993\u001b[0m                                \u001b]8;id=486425;file:///usr/local/lib/python3.11/dist-packages/soccerdata/fbref.py\u001b\\\u001b[2mfbref.py\u001b[0m\u001b]8;;\u001b\\\u001b[2m:\u001b[0m\u001b]8;id=743372;file:///usr/local/lib/python3.11/dist-packages/soccerdata/fbref.py#815\u001b\\\u001b[2m815\u001b[0m\u001b]8;;\u001b\\\n"
            ],
            "text/html": [
              "<pre style=\"white-space:pre;overflow-x:auto;line-height:normal;font-family:Menlo,'DejaVu Sans Mono',consolas,'Courier New',monospace\"><span style=\"color: #7fbfbf; text-decoration-color: #7fbfbf\">[01/27/25 23:16:01] </span><span style=\"color: #000080; text-decoration-color: #000080\">INFO    </span> <span style=\"font-weight: bold\">[</span><span style=\"color: #008080; text-decoration-color: #008080; font-weight: bold\">254</span>/<span style=\"color: #008080; text-decoration-color: #008080; font-weight: bold\">380</span><span style=\"font-weight: bold\">]</span> Retrieving game with <span style=\"color: #808000; text-decoration-color: #808000\">id</span>=<span style=\"color: #800080; text-decoration-color: #800080\">eb7c6993</span>                                <a href=\"file:///usr/local/lib/python3.11/dist-packages/soccerdata/fbref.py\" target=\"_blank\"><span style=\"color: #7f7f7f; text-decoration-color: #7f7f7f\">fbref.py</span></a><span style=\"color: #7f7f7f; text-decoration-color: #7f7f7f\">:</span><a href=\"file:///usr/local/lib/python3.11/dist-packages/soccerdata/fbref.py#815\" target=\"_blank\"><span style=\"color: #7f7f7f; text-decoration-color: #7f7f7f\">815</span></a>\n",
              "</pre>\n"
            ]
          },
          "metadata": {}
        },
        {
          "output_type": "display_data",
          "data": {
            "text/plain": [
              "\u001b[2;36m[01/27/25 23:16:07]\u001b[0m\u001b[2;36m \u001b[0m\u001b[34mINFO    \u001b[0m \u001b[1m[\u001b[0m\u001b[1;36m255\u001b[0m/\u001b[1;36m380\u001b[0m\u001b[1m]\u001b[0m Retrieving game with \u001b[33mid\u001b[0m=\u001b[35m89cd2d5e\u001b[0m                                \u001b]8;id=285913;file:///usr/local/lib/python3.11/dist-packages/soccerdata/fbref.py\u001b\\\u001b[2mfbref.py\u001b[0m\u001b]8;;\u001b\\\u001b[2m:\u001b[0m\u001b]8;id=646284;file:///usr/local/lib/python3.11/dist-packages/soccerdata/fbref.py#815\u001b\\\u001b[2m815\u001b[0m\u001b]8;;\u001b\\\n"
            ],
            "text/html": [
              "<pre style=\"white-space:pre;overflow-x:auto;line-height:normal;font-family:Menlo,'DejaVu Sans Mono',consolas,'Courier New',monospace\"><span style=\"color: #7fbfbf; text-decoration-color: #7fbfbf\">[01/27/25 23:16:07] </span><span style=\"color: #000080; text-decoration-color: #000080\">INFO    </span> <span style=\"font-weight: bold\">[</span><span style=\"color: #008080; text-decoration-color: #008080; font-weight: bold\">255</span>/<span style=\"color: #008080; text-decoration-color: #008080; font-weight: bold\">380</span><span style=\"font-weight: bold\">]</span> Retrieving game with <span style=\"color: #808000; text-decoration-color: #808000\">id</span>=<span style=\"color: #800080; text-decoration-color: #800080\">89cd2d5e</span>                                <a href=\"file:///usr/local/lib/python3.11/dist-packages/soccerdata/fbref.py\" target=\"_blank\"><span style=\"color: #7f7f7f; text-decoration-color: #7f7f7f\">fbref.py</span></a><span style=\"color: #7f7f7f; text-decoration-color: #7f7f7f\">:</span><a href=\"file:///usr/local/lib/python3.11/dist-packages/soccerdata/fbref.py#815\" target=\"_blank\"><span style=\"color: #7f7f7f; text-decoration-color: #7f7f7f\">815</span></a>\n",
              "</pre>\n"
            ]
          },
          "metadata": {}
        },
        {
          "output_type": "display_data",
          "data": {
            "text/plain": [
              "\u001b[2;36m[01/27/25 23:16:14]\u001b[0m\u001b[2;36m \u001b[0m\u001b[34mINFO    \u001b[0m \u001b[1m[\u001b[0m\u001b[1;36m256\u001b[0m/\u001b[1;36m380\u001b[0m\u001b[1m]\u001b[0m Retrieving game with \u001b[33mid\u001b[0m=\u001b[35m45f67948\u001b[0m                                \u001b]8;id=922886;file:///usr/local/lib/python3.11/dist-packages/soccerdata/fbref.py\u001b\\\u001b[2mfbref.py\u001b[0m\u001b]8;;\u001b\\\u001b[2m:\u001b[0m\u001b]8;id=97859;file:///usr/local/lib/python3.11/dist-packages/soccerdata/fbref.py#815\u001b\\\u001b[2m815\u001b[0m\u001b]8;;\u001b\\\n"
            ],
            "text/html": [
              "<pre style=\"white-space:pre;overflow-x:auto;line-height:normal;font-family:Menlo,'DejaVu Sans Mono',consolas,'Courier New',monospace\"><span style=\"color: #7fbfbf; text-decoration-color: #7fbfbf\">[01/27/25 23:16:14] </span><span style=\"color: #000080; text-decoration-color: #000080\">INFO    </span> <span style=\"font-weight: bold\">[</span><span style=\"color: #008080; text-decoration-color: #008080; font-weight: bold\">256</span>/<span style=\"color: #008080; text-decoration-color: #008080; font-weight: bold\">380</span><span style=\"font-weight: bold\">]</span> Retrieving game with <span style=\"color: #808000; text-decoration-color: #808000\">id</span>=<span style=\"color: #800080; text-decoration-color: #800080\">45f67948</span>                                <a href=\"file:///usr/local/lib/python3.11/dist-packages/soccerdata/fbref.py\" target=\"_blank\"><span style=\"color: #7f7f7f; text-decoration-color: #7f7f7f\">fbref.py</span></a><span style=\"color: #7f7f7f; text-decoration-color: #7f7f7f\">:</span><a href=\"file:///usr/local/lib/python3.11/dist-packages/soccerdata/fbref.py#815\" target=\"_blank\"><span style=\"color: #7f7f7f; text-decoration-color: #7f7f7f\">815</span></a>\n",
              "</pre>\n"
            ]
          },
          "metadata": {}
        },
        {
          "output_type": "display_data",
          "data": {
            "text/plain": [
              "\u001b[2;36m[01/27/25 23:16:20]\u001b[0m\u001b[2;36m \u001b[0m\u001b[34mINFO    \u001b[0m \u001b[1m[\u001b[0m\u001b[1;36m257\u001b[0m/\u001b[1;36m380\u001b[0m\u001b[1m]\u001b[0m Retrieving game with \u001b[33mid\u001b[0m=\u001b[35mada09dda\u001b[0m                                \u001b]8;id=110371;file:///usr/local/lib/python3.11/dist-packages/soccerdata/fbref.py\u001b\\\u001b[2mfbref.py\u001b[0m\u001b]8;;\u001b\\\u001b[2m:\u001b[0m\u001b]8;id=793374;file:///usr/local/lib/python3.11/dist-packages/soccerdata/fbref.py#815\u001b\\\u001b[2m815\u001b[0m\u001b]8;;\u001b\\\n"
            ],
            "text/html": [
              "<pre style=\"white-space:pre;overflow-x:auto;line-height:normal;font-family:Menlo,'DejaVu Sans Mono',consolas,'Courier New',monospace\"><span style=\"color: #7fbfbf; text-decoration-color: #7fbfbf\">[01/27/25 23:16:20] </span><span style=\"color: #000080; text-decoration-color: #000080\">INFO    </span> <span style=\"font-weight: bold\">[</span><span style=\"color: #008080; text-decoration-color: #008080; font-weight: bold\">257</span>/<span style=\"color: #008080; text-decoration-color: #008080; font-weight: bold\">380</span><span style=\"font-weight: bold\">]</span> Retrieving game with <span style=\"color: #808000; text-decoration-color: #808000\">id</span>=<span style=\"color: #800080; text-decoration-color: #800080\">ada09dda</span>                                <a href=\"file:///usr/local/lib/python3.11/dist-packages/soccerdata/fbref.py\" target=\"_blank\"><span style=\"color: #7f7f7f; text-decoration-color: #7f7f7f\">fbref.py</span></a><span style=\"color: #7f7f7f; text-decoration-color: #7f7f7f\">:</span><a href=\"file:///usr/local/lib/python3.11/dist-packages/soccerdata/fbref.py#815\" target=\"_blank\"><span style=\"color: #7f7f7f; text-decoration-color: #7f7f7f\">815</span></a>\n",
              "</pre>\n"
            ]
          },
          "metadata": {}
        },
        {
          "output_type": "display_data",
          "data": {
            "text/plain": [
              "\u001b[2;36m[01/27/25 23:16:26]\u001b[0m\u001b[2;36m \u001b[0m\u001b[34mINFO    \u001b[0m \u001b[1m[\u001b[0m\u001b[1;36m258\u001b[0m/\u001b[1;36m380\u001b[0m\u001b[1m]\u001b[0m Retrieving game with \u001b[33mid\u001b[0m=\u001b[35m15a04102\u001b[0m                                \u001b]8;id=619663;file:///usr/local/lib/python3.11/dist-packages/soccerdata/fbref.py\u001b\\\u001b[2mfbref.py\u001b[0m\u001b]8;;\u001b\\\u001b[2m:\u001b[0m\u001b]8;id=860251;file:///usr/local/lib/python3.11/dist-packages/soccerdata/fbref.py#815\u001b\\\u001b[2m815\u001b[0m\u001b]8;;\u001b\\\n"
            ],
            "text/html": [
              "<pre style=\"white-space:pre;overflow-x:auto;line-height:normal;font-family:Menlo,'DejaVu Sans Mono',consolas,'Courier New',monospace\"><span style=\"color: #7fbfbf; text-decoration-color: #7fbfbf\">[01/27/25 23:16:26] </span><span style=\"color: #000080; text-decoration-color: #000080\">INFO    </span> <span style=\"font-weight: bold\">[</span><span style=\"color: #008080; text-decoration-color: #008080; font-weight: bold\">258</span>/<span style=\"color: #008080; text-decoration-color: #008080; font-weight: bold\">380</span><span style=\"font-weight: bold\">]</span> Retrieving game with <span style=\"color: #808000; text-decoration-color: #808000\">id</span>=<span style=\"color: #800080; text-decoration-color: #800080\">15a04102</span>                                <a href=\"file:///usr/local/lib/python3.11/dist-packages/soccerdata/fbref.py\" target=\"_blank\"><span style=\"color: #7f7f7f; text-decoration-color: #7f7f7f\">fbref.py</span></a><span style=\"color: #7f7f7f; text-decoration-color: #7f7f7f\">:</span><a href=\"file:///usr/local/lib/python3.11/dist-packages/soccerdata/fbref.py#815\" target=\"_blank\"><span style=\"color: #7f7f7f; text-decoration-color: #7f7f7f\">815</span></a>\n",
              "</pre>\n"
            ]
          },
          "metadata": {}
        },
        {
          "output_type": "display_data",
          "data": {
            "text/plain": [
              "\u001b[2;36m[01/27/25 23:16:33]\u001b[0m\u001b[2;36m \u001b[0m\u001b[34mINFO    \u001b[0m \u001b[1m[\u001b[0m\u001b[1;36m259\u001b[0m/\u001b[1;36m380\u001b[0m\u001b[1m]\u001b[0m Retrieving game with \u001b[33mid\u001b[0m=\u001b[35mba1992b0\u001b[0m                                \u001b]8;id=662751;file:///usr/local/lib/python3.11/dist-packages/soccerdata/fbref.py\u001b\\\u001b[2mfbref.py\u001b[0m\u001b]8;;\u001b\\\u001b[2m:\u001b[0m\u001b]8;id=297908;file:///usr/local/lib/python3.11/dist-packages/soccerdata/fbref.py#815\u001b\\\u001b[2m815\u001b[0m\u001b]8;;\u001b\\\n"
            ],
            "text/html": [
              "<pre style=\"white-space:pre;overflow-x:auto;line-height:normal;font-family:Menlo,'DejaVu Sans Mono',consolas,'Courier New',monospace\"><span style=\"color: #7fbfbf; text-decoration-color: #7fbfbf\">[01/27/25 23:16:33] </span><span style=\"color: #000080; text-decoration-color: #000080\">INFO    </span> <span style=\"font-weight: bold\">[</span><span style=\"color: #008080; text-decoration-color: #008080; font-weight: bold\">259</span>/<span style=\"color: #008080; text-decoration-color: #008080; font-weight: bold\">380</span><span style=\"font-weight: bold\">]</span> Retrieving game with <span style=\"color: #808000; text-decoration-color: #808000\">id</span>=<span style=\"color: #800080; text-decoration-color: #800080\">ba1992b0</span>                                <a href=\"file:///usr/local/lib/python3.11/dist-packages/soccerdata/fbref.py\" target=\"_blank\"><span style=\"color: #7f7f7f; text-decoration-color: #7f7f7f\">fbref.py</span></a><span style=\"color: #7f7f7f; text-decoration-color: #7f7f7f\">:</span><a href=\"file:///usr/local/lib/python3.11/dist-packages/soccerdata/fbref.py#815\" target=\"_blank\"><span style=\"color: #7f7f7f; text-decoration-color: #7f7f7f\">815</span></a>\n",
              "</pre>\n"
            ]
          },
          "metadata": {}
        },
        {
          "output_type": "display_data",
          "data": {
            "text/plain": [
              "\u001b[2;36m[01/27/25 23:16:39]\u001b[0m\u001b[2;36m \u001b[0m\u001b[34mINFO    \u001b[0m \u001b[1m[\u001b[0m\u001b[1;36m260\u001b[0m/\u001b[1;36m380\u001b[0m\u001b[1m]\u001b[0m Retrieving game with \u001b[33mid\u001b[0m=\u001b[35me9183936\u001b[0m                                \u001b]8;id=461301;file:///usr/local/lib/python3.11/dist-packages/soccerdata/fbref.py\u001b\\\u001b[2mfbref.py\u001b[0m\u001b]8;;\u001b\\\u001b[2m:\u001b[0m\u001b]8;id=13707;file:///usr/local/lib/python3.11/dist-packages/soccerdata/fbref.py#815\u001b\\\u001b[2m815\u001b[0m\u001b]8;;\u001b\\\n"
            ],
            "text/html": [
              "<pre style=\"white-space:pre;overflow-x:auto;line-height:normal;font-family:Menlo,'DejaVu Sans Mono',consolas,'Courier New',monospace\"><span style=\"color: #7fbfbf; text-decoration-color: #7fbfbf\">[01/27/25 23:16:39] </span><span style=\"color: #000080; text-decoration-color: #000080\">INFO    </span> <span style=\"font-weight: bold\">[</span><span style=\"color: #008080; text-decoration-color: #008080; font-weight: bold\">260</span>/<span style=\"color: #008080; text-decoration-color: #008080; font-weight: bold\">380</span><span style=\"font-weight: bold\">]</span> Retrieving game with <span style=\"color: #808000; text-decoration-color: #808000\">id</span>=<span style=\"color: #800080; text-decoration-color: #800080\">e9183936</span>                                <a href=\"file:///usr/local/lib/python3.11/dist-packages/soccerdata/fbref.py\" target=\"_blank\"><span style=\"color: #7f7f7f; text-decoration-color: #7f7f7f\">fbref.py</span></a><span style=\"color: #7f7f7f; text-decoration-color: #7f7f7f\">:</span><a href=\"file:///usr/local/lib/python3.11/dist-packages/soccerdata/fbref.py#815\" target=\"_blank\"><span style=\"color: #7f7f7f; text-decoration-color: #7f7f7f\">815</span></a>\n",
              "</pre>\n"
            ]
          },
          "metadata": {}
        },
        {
          "output_type": "display_data",
          "data": {
            "text/plain": [
              "\u001b[2;36m[01/27/25 23:16:45]\u001b[0m\u001b[2;36m \u001b[0m\u001b[34mINFO    \u001b[0m \u001b[1m[\u001b[0m\u001b[1;36m261\u001b[0m/\u001b[1;36m380\u001b[0m\u001b[1m]\u001b[0m Retrieving game with \u001b[33mid\u001b[0m=\u001b[1;36m20278247\u001b[0m                                \u001b]8;id=411556;file:///usr/local/lib/python3.11/dist-packages/soccerdata/fbref.py\u001b\\\u001b[2mfbref.py\u001b[0m\u001b]8;;\u001b\\\u001b[2m:\u001b[0m\u001b]8;id=727180;file:///usr/local/lib/python3.11/dist-packages/soccerdata/fbref.py#815\u001b\\\u001b[2m815\u001b[0m\u001b]8;;\u001b\\\n"
            ],
            "text/html": [
              "<pre style=\"white-space:pre;overflow-x:auto;line-height:normal;font-family:Menlo,'DejaVu Sans Mono',consolas,'Courier New',monospace\"><span style=\"color: #7fbfbf; text-decoration-color: #7fbfbf\">[01/27/25 23:16:45] </span><span style=\"color: #000080; text-decoration-color: #000080\">INFO    </span> <span style=\"font-weight: bold\">[</span><span style=\"color: #008080; text-decoration-color: #008080; font-weight: bold\">261</span>/<span style=\"color: #008080; text-decoration-color: #008080; font-weight: bold\">380</span><span style=\"font-weight: bold\">]</span> Retrieving game with <span style=\"color: #808000; text-decoration-color: #808000\">id</span>=<span style=\"color: #008080; text-decoration-color: #008080; font-weight: bold\">20278247</span>                                <a href=\"file:///usr/local/lib/python3.11/dist-packages/soccerdata/fbref.py\" target=\"_blank\"><span style=\"color: #7f7f7f; text-decoration-color: #7f7f7f\">fbref.py</span></a><span style=\"color: #7f7f7f; text-decoration-color: #7f7f7f\">:</span><a href=\"file:///usr/local/lib/python3.11/dist-packages/soccerdata/fbref.py#815\" target=\"_blank\"><span style=\"color: #7f7f7f; text-decoration-color: #7f7f7f\">815</span></a>\n",
              "</pre>\n"
            ]
          },
          "metadata": {}
        },
        {
          "output_type": "display_data",
          "data": {
            "text/plain": [
              "\u001b[2;36m[01/27/25 23:16:52]\u001b[0m\u001b[2;36m \u001b[0m\u001b[34mINFO    \u001b[0m \u001b[1m[\u001b[0m\u001b[1;36m262\u001b[0m/\u001b[1;36m380\u001b[0m\u001b[1m]\u001b[0m Retrieving game with \u001b[33mid\u001b[0m=\u001b[35m59f4adc0\u001b[0m                                \u001b]8;id=973482;file:///usr/local/lib/python3.11/dist-packages/soccerdata/fbref.py\u001b\\\u001b[2mfbref.py\u001b[0m\u001b]8;;\u001b\\\u001b[2m:\u001b[0m\u001b]8;id=20441;file:///usr/local/lib/python3.11/dist-packages/soccerdata/fbref.py#815\u001b\\\u001b[2m815\u001b[0m\u001b]8;;\u001b\\\n"
            ],
            "text/html": [
              "<pre style=\"white-space:pre;overflow-x:auto;line-height:normal;font-family:Menlo,'DejaVu Sans Mono',consolas,'Courier New',monospace\"><span style=\"color: #7fbfbf; text-decoration-color: #7fbfbf\">[01/27/25 23:16:52] </span><span style=\"color: #000080; text-decoration-color: #000080\">INFO    </span> <span style=\"font-weight: bold\">[</span><span style=\"color: #008080; text-decoration-color: #008080; font-weight: bold\">262</span>/<span style=\"color: #008080; text-decoration-color: #008080; font-weight: bold\">380</span><span style=\"font-weight: bold\">]</span> Retrieving game with <span style=\"color: #808000; text-decoration-color: #808000\">id</span>=<span style=\"color: #800080; text-decoration-color: #800080\">59f4adc0</span>                                <a href=\"file:///usr/local/lib/python3.11/dist-packages/soccerdata/fbref.py\" target=\"_blank\"><span style=\"color: #7f7f7f; text-decoration-color: #7f7f7f\">fbref.py</span></a><span style=\"color: #7f7f7f; text-decoration-color: #7f7f7f\">:</span><a href=\"file:///usr/local/lib/python3.11/dist-packages/soccerdata/fbref.py#815\" target=\"_blank\"><span style=\"color: #7f7f7f; text-decoration-color: #7f7f7f\">815</span></a>\n",
              "</pre>\n"
            ]
          },
          "metadata": {}
        },
        {
          "output_type": "display_data",
          "data": {
            "text/plain": [
              "\u001b[2;36m[01/27/25 23:16:59]\u001b[0m\u001b[2;36m \u001b[0m\u001b[34mINFO    \u001b[0m \u001b[1m[\u001b[0m\u001b[1;36m263\u001b[0m/\u001b[1;36m380\u001b[0m\u001b[1m]\u001b[0m Retrieving game with \u001b[33mid\u001b[0m=\u001b[35mbbae8356\u001b[0m                                \u001b]8;id=946633;file:///usr/local/lib/python3.11/dist-packages/soccerdata/fbref.py\u001b\\\u001b[2mfbref.py\u001b[0m\u001b]8;;\u001b\\\u001b[2m:\u001b[0m\u001b]8;id=226261;file:///usr/local/lib/python3.11/dist-packages/soccerdata/fbref.py#815\u001b\\\u001b[2m815\u001b[0m\u001b]8;;\u001b\\\n"
            ],
            "text/html": [
              "<pre style=\"white-space:pre;overflow-x:auto;line-height:normal;font-family:Menlo,'DejaVu Sans Mono',consolas,'Courier New',monospace\"><span style=\"color: #7fbfbf; text-decoration-color: #7fbfbf\">[01/27/25 23:16:59] </span><span style=\"color: #000080; text-decoration-color: #000080\">INFO    </span> <span style=\"font-weight: bold\">[</span><span style=\"color: #008080; text-decoration-color: #008080; font-weight: bold\">263</span>/<span style=\"color: #008080; text-decoration-color: #008080; font-weight: bold\">380</span><span style=\"font-weight: bold\">]</span> Retrieving game with <span style=\"color: #808000; text-decoration-color: #808000\">id</span>=<span style=\"color: #800080; text-decoration-color: #800080\">bbae8356</span>                                <a href=\"file:///usr/local/lib/python3.11/dist-packages/soccerdata/fbref.py\" target=\"_blank\"><span style=\"color: #7f7f7f; text-decoration-color: #7f7f7f\">fbref.py</span></a><span style=\"color: #7f7f7f; text-decoration-color: #7f7f7f\">:</span><a href=\"file:///usr/local/lib/python3.11/dist-packages/soccerdata/fbref.py#815\" target=\"_blank\"><span style=\"color: #7f7f7f; text-decoration-color: #7f7f7f\">815</span></a>\n",
              "</pre>\n"
            ]
          },
          "metadata": {}
        },
        {
          "output_type": "display_data",
          "data": {
            "text/plain": [
              "\u001b[2;36m[01/27/25 23:17:06]\u001b[0m\u001b[2;36m \u001b[0m\u001b[34mINFO    \u001b[0m \u001b[1m[\u001b[0m\u001b[1;36m264\u001b[0m/\u001b[1;36m380\u001b[0m\u001b[1m]\u001b[0m Retrieving game with \u001b[33mid\u001b[0m=\u001b[35md1a00cf0\u001b[0m                                \u001b]8;id=383895;file:///usr/local/lib/python3.11/dist-packages/soccerdata/fbref.py\u001b\\\u001b[2mfbref.py\u001b[0m\u001b]8;;\u001b\\\u001b[2m:\u001b[0m\u001b]8;id=949124;file:///usr/local/lib/python3.11/dist-packages/soccerdata/fbref.py#815\u001b\\\u001b[2m815\u001b[0m\u001b]8;;\u001b\\\n"
            ],
            "text/html": [
              "<pre style=\"white-space:pre;overflow-x:auto;line-height:normal;font-family:Menlo,'DejaVu Sans Mono',consolas,'Courier New',monospace\"><span style=\"color: #7fbfbf; text-decoration-color: #7fbfbf\">[01/27/25 23:17:06] </span><span style=\"color: #000080; text-decoration-color: #000080\">INFO    </span> <span style=\"font-weight: bold\">[</span><span style=\"color: #008080; text-decoration-color: #008080; font-weight: bold\">264</span>/<span style=\"color: #008080; text-decoration-color: #008080; font-weight: bold\">380</span><span style=\"font-weight: bold\">]</span> Retrieving game with <span style=\"color: #808000; text-decoration-color: #808000\">id</span>=<span style=\"color: #800080; text-decoration-color: #800080\">d1a00cf0</span>                                <a href=\"file:///usr/local/lib/python3.11/dist-packages/soccerdata/fbref.py\" target=\"_blank\"><span style=\"color: #7f7f7f; text-decoration-color: #7f7f7f\">fbref.py</span></a><span style=\"color: #7f7f7f; text-decoration-color: #7f7f7f\">:</span><a href=\"file:///usr/local/lib/python3.11/dist-packages/soccerdata/fbref.py#815\" target=\"_blank\"><span style=\"color: #7f7f7f; text-decoration-color: #7f7f7f\">815</span></a>\n",
              "</pre>\n"
            ]
          },
          "metadata": {}
        },
        {
          "output_type": "display_data",
          "data": {
            "text/plain": [
              "\u001b[2;36m[01/27/25 23:17:12]\u001b[0m\u001b[2;36m \u001b[0m\u001b[34mINFO    \u001b[0m \u001b[1m[\u001b[0m\u001b[1;36m265\u001b[0m/\u001b[1;36m380\u001b[0m\u001b[1m]\u001b[0m Retrieving game with \u001b[33mid\u001b[0m=\u001b[35m8812bfd9\u001b[0m                                \u001b]8;id=657746;file:///usr/local/lib/python3.11/dist-packages/soccerdata/fbref.py\u001b\\\u001b[2mfbref.py\u001b[0m\u001b]8;;\u001b\\\u001b[2m:\u001b[0m\u001b]8;id=516806;file:///usr/local/lib/python3.11/dist-packages/soccerdata/fbref.py#815\u001b\\\u001b[2m815\u001b[0m\u001b]8;;\u001b\\\n"
            ],
            "text/html": [
              "<pre style=\"white-space:pre;overflow-x:auto;line-height:normal;font-family:Menlo,'DejaVu Sans Mono',consolas,'Courier New',monospace\"><span style=\"color: #7fbfbf; text-decoration-color: #7fbfbf\">[01/27/25 23:17:12] </span><span style=\"color: #000080; text-decoration-color: #000080\">INFO    </span> <span style=\"font-weight: bold\">[</span><span style=\"color: #008080; text-decoration-color: #008080; font-weight: bold\">265</span>/<span style=\"color: #008080; text-decoration-color: #008080; font-weight: bold\">380</span><span style=\"font-weight: bold\">]</span> Retrieving game with <span style=\"color: #808000; text-decoration-color: #808000\">id</span>=<span style=\"color: #800080; text-decoration-color: #800080\">8812bfd9</span>                                <a href=\"file:///usr/local/lib/python3.11/dist-packages/soccerdata/fbref.py\" target=\"_blank\"><span style=\"color: #7f7f7f; text-decoration-color: #7f7f7f\">fbref.py</span></a><span style=\"color: #7f7f7f; text-decoration-color: #7f7f7f\">:</span><a href=\"file:///usr/local/lib/python3.11/dist-packages/soccerdata/fbref.py#815\" target=\"_blank\"><span style=\"color: #7f7f7f; text-decoration-color: #7f7f7f\">815</span></a>\n",
              "</pre>\n"
            ]
          },
          "metadata": {}
        },
        {
          "output_type": "display_data",
          "data": {
            "text/plain": [
              "\u001b[2;36m[01/27/25 23:17:18]\u001b[0m\u001b[2;36m \u001b[0m\u001b[34mINFO    \u001b[0m \u001b[1m[\u001b[0m\u001b[1;36m266\u001b[0m/\u001b[1;36m380\u001b[0m\u001b[1m]\u001b[0m Retrieving game with \u001b[33mid\u001b[0m=\u001b[35mf7674d8b\u001b[0m                                \u001b]8;id=987585;file:///usr/local/lib/python3.11/dist-packages/soccerdata/fbref.py\u001b\\\u001b[2mfbref.py\u001b[0m\u001b]8;;\u001b\\\u001b[2m:\u001b[0m\u001b]8;id=416072;file:///usr/local/lib/python3.11/dist-packages/soccerdata/fbref.py#815\u001b\\\u001b[2m815\u001b[0m\u001b]8;;\u001b\\\n"
            ],
            "text/html": [
              "<pre style=\"white-space:pre;overflow-x:auto;line-height:normal;font-family:Menlo,'DejaVu Sans Mono',consolas,'Courier New',monospace\"><span style=\"color: #7fbfbf; text-decoration-color: #7fbfbf\">[01/27/25 23:17:18] </span><span style=\"color: #000080; text-decoration-color: #000080\">INFO    </span> <span style=\"font-weight: bold\">[</span><span style=\"color: #008080; text-decoration-color: #008080; font-weight: bold\">266</span>/<span style=\"color: #008080; text-decoration-color: #008080; font-weight: bold\">380</span><span style=\"font-weight: bold\">]</span> Retrieving game with <span style=\"color: #808000; text-decoration-color: #808000\">id</span>=<span style=\"color: #800080; text-decoration-color: #800080\">f7674d8b</span>                                <a href=\"file:///usr/local/lib/python3.11/dist-packages/soccerdata/fbref.py\" target=\"_blank\"><span style=\"color: #7f7f7f; text-decoration-color: #7f7f7f\">fbref.py</span></a><span style=\"color: #7f7f7f; text-decoration-color: #7f7f7f\">:</span><a href=\"file:///usr/local/lib/python3.11/dist-packages/soccerdata/fbref.py#815\" target=\"_blank\"><span style=\"color: #7f7f7f; text-decoration-color: #7f7f7f\">815</span></a>\n",
              "</pre>\n"
            ]
          },
          "metadata": {}
        },
        {
          "output_type": "display_data",
          "data": {
            "text/plain": [
              "\u001b[2;36m[01/27/25 23:17:25]\u001b[0m\u001b[2;36m \u001b[0m\u001b[34mINFO    \u001b[0m \u001b[1m[\u001b[0m\u001b[1;36m267\u001b[0m/\u001b[1;36m380\u001b[0m\u001b[1m]\u001b[0m Retrieving game with \u001b[33mid\u001b[0m=\u001b[35m615eff06\u001b[0m                                \u001b]8;id=716055;file:///usr/local/lib/python3.11/dist-packages/soccerdata/fbref.py\u001b\\\u001b[2mfbref.py\u001b[0m\u001b]8;;\u001b\\\u001b[2m:\u001b[0m\u001b]8;id=994019;file:///usr/local/lib/python3.11/dist-packages/soccerdata/fbref.py#815\u001b\\\u001b[2m815\u001b[0m\u001b]8;;\u001b\\\n"
            ],
            "text/html": [
              "<pre style=\"white-space:pre;overflow-x:auto;line-height:normal;font-family:Menlo,'DejaVu Sans Mono',consolas,'Courier New',monospace\"><span style=\"color: #7fbfbf; text-decoration-color: #7fbfbf\">[01/27/25 23:17:25] </span><span style=\"color: #000080; text-decoration-color: #000080\">INFO    </span> <span style=\"font-weight: bold\">[</span><span style=\"color: #008080; text-decoration-color: #008080; font-weight: bold\">267</span>/<span style=\"color: #008080; text-decoration-color: #008080; font-weight: bold\">380</span><span style=\"font-weight: bold\">]</span> Retrieving game with <span style=\"color: #808000; text-decoration-color: #808000\">id</span>=<span style=\"color: #800080; text-decoration-color: #800080\">615eff06</span>                                <a href=\"file:///usr/local/lib/python3.11/dist-packages/soccerdata/fbref.py\" target=\"_blank\"><span style=\"color: #7f7f7f; text-decoration-color: #7f7f7f\">fbref.py</span></a><span style=\"color: #7f7f7f; text-decoration-color: #7f7f7f\">:</span><a href=\"file:///usr/local/lib/python3.11/dist-packages/soccerdata/fbref.py#815\" target=\"_blank\"><span style=\"color: #7f7f7f; text-decoration-color: #7f7f7f\">815</span></a>\n",
              "</pre>\n"
            ]
          },
          "metadata": {}
        },
        {
          "output_type": "display_data",
          "data": {
            "text/plain": [
              "\u001b[2;36m[01/27/25 23:17:31]\u001b[0m\u001b[2;36m \u001b[0m\u001b[34mINFO    \u001b[0m \u001b[1m[\u001b[0m\u001b[1;36m268\u001b[0m/\u001b[1;36m380\u001b[0m\u001b[1m]\u001b[0m Retrieving game with \u001b[33mid\u001b[0m=\u001b[35m2eca8900\u001b[0m                                \u001b]8;id=272992;file:///usr/local/lib/python3.11/dist-packages/soccerdata/fbref.py\u001b\\\u001b[2mfbref.py\u001b[0m\u001b]8;;\u001b\\\u001b[2m:\u001b[0m\u001b]8;id=888786;file:///usr/local/lib/python3.11/dist-packages/soccerdata/fbref.py#815\u001b\\\u001b[2m815\u001b[0m\u001b]8;;\u001b\\\n"
            ],
            "text/html": [
              "<pre style=\"white-space:pre;overflow-x:auto;line-height:normal;font-family:Menlo,'DejaVu Sans Mono',consolas,'Courier New',monospace\"><span style=\"color: #7fbfbf; text-decoration-color: #7fbfbf\">[01/27/25 23:17:31] </span><span style=\"color: #000080; text-decoration-color: #000080\">INFO    </span> <span style=\"font-weight: bold\">[</span><span style=\"color: #008080; text-decoration-color: #008080; font-weight: bold\">268</span>/<span style=\"color: #008080; text-decoration-color: #008080; font-weight: bold\">380</span><span style=\"font-weight: bold\">]</span> Retrieving game with <span style=\"color: #808000; text-decoration-color: #808000\">id</span>=<span style=\"color: #800080; text-decoration-color: #800080\">2eca8900</span>                                <a href=\"file:///usr/local/lib/python3.11/dist-packages/soccerdata/fbref.py\" target=\"_blank\"><span style=\"color: #7f7f7f; text-decoration-color: #7f7f7f\">fbref.py</span></a><span style=\"color: #7f7f7f; text-decoration-color: #7f7f7f\">:</span><a href=\"file:///usr/local/lib/python3.11/dist-packages/soccerdata/fbref.py#815\" target=\"_blank\"><span style=\"color: #7f7f7f; text-decoration-color: #7f7f7f\">815</span></a>\n",
              "</pre>\n"
            ]
          },
          "metadata": {}
        },
        {
          "output_type": "display_data",
          "data": {
            "text/plain": [
              "\u001b[2;36m[01/27/25 23:17:37]\u001b[0m\u001b[2;36m \u001b[0m\u001b[34mINFO    \u001b[0m \u001b[1m[\u001b[0m\u001b[1;36m269\u001b[0m/\u001b[1;36m380\u001b[0m\u001b[1m]\u001b[0m Retrieving game with \u001b[33mid\u001b[0m=\u001b[35m0e9002ec\u001b[0m                                \u001b]8;id=171514;file:///usr/local/lib/python3.11/dist-packages/soccerdata/fbref.py\u001b\\\u001b[2mfbref.py\u001b[0m\u001b]8;;\u001b\\\u001b[2m:\u001b[0m\u001b]8;id=318061;file:///usr/local/lib/python3.11/dist-packages/soccerdata/fbref.py#815\u001b\\\u001b[2m815\u001b[0m\u001b]8;;\u001b\\\n"
            ],
            "text/html": [
              "<pre style=\"white-space:pre;overflow-x:auto;line-height:normal;font-family:Menlo,'DejaVu Sans Mono',consolas,'Courier New',monospace\"><span style=\"color: #7fbfbf; text-decoration-color: #7fbfbf\">[01/27/25 23:17:37] </span><span style=\"color: #000080; text-decoration-color: #000080\">INFO    </span> <span style=\"font-weight: bold\">[</span><span style=\"color: #008080; text-decoration-color: #008080; font-weight: bold\">269</span>/<span style=\"color: #008080; text-decoration-color: #008080; font-weight: bold\">380</span><span style=\"font-weight: bold\">]</span> Retrieving game with <span style=\"color: #808000; text-decoration-color: #808000\">id</span>=<span style=\"color: #800080; text-decoration-color: #800080\">0e9002ec</span>                                <a href=\"file:///usr/local/lib/python3.11/dist-packages/soccerdata/fbref.py\" target=\"_blank\"><span style=\"color: #7f7f7f; text-decoration-color: #7f7f7f\">fbref.py</span></a><span style=\"color: #7f7f7f; text-decoration-color: #7f7f7f\">:</span><a href=\"file:///usr/local/lib/python3.11/dist-packages/soccerdata/fbref.py#815\" target=\"_blank\"><span style=\"color: #7f7f7f; text-decoration-color: #7f7f7f\">815</span></a>\n",
              "</pre>\n"
            ]
          },
          "metadata": {}
        },
        {
          "output_type": "display_data",
          "data": {
            "text/plain": [
              "\u001b[2;36m[01/27/25 23:17:43]\u001b[0m\u001b[2;36m \u001b[0m\u001b[34mINFO    \u001b[0m \u001b[1m[\u001b[0m\u001b[1;36m270\u001b[0m/\u001b[1;36m380\u001b[0m\u001b[1m]\u001b[0m Retrieving game with \u001b[33mid\u001b[0m=\u001b[35m81b6715a\u001b[0m                                \u001b]8;id=413853;file:///usr/local/lib/python3.11/dist-packages/soccerdata/fbref.py\u001b\\\u001b[2mfbref.py\u001b[0m\u001b]8;;\u001b\\\u001b[2m:\u001b[0m\u001b]8;id=733413;file:///usr/local/lib/python3.11/dist-packages/soccerdata/fbref.py#815\u001b\\\u001b[2m815\u001b[0m\u001b]8;;\u001b\\\n"
            ],
            "text/html": [
              "<pre style=\"white-space:pre;overflow-x:auto;line-height:normal;font-family:Menlo,'DejaVu Sans Mono',consolas,'Courier New',monospace\"><span style=\"color: #7fbfbf; text-decoration-color: #7fbfbf\">[01/27/25 23:17:43] </span><span style=\"color: #000080; text-decoration-color: #000080\">INFO    </span> <span style=\"font-weight: bold\">[</span><span style=\"color: #008080; text-decoration-color: #008080; font-weight: bold\">270</span>/<span style=\"color: #008080; text-decoration-color: #008080; font-weight: bold\">380</span><span style=\"font-weight: bold\">]</span> Retrieving game with <span style=\"color: #808000; text-decoration-color: #808000\">id</span>=<span style=\"color: #800080; text-decoration-color: #800080\">81b6715a</span>                                <a href=\"file:///usr/local/lib/python3.11/dist-packages/soccerdata/fbref.py\" target=\"_blank\"><span style=\"color: #7f7f7f; text-decoration-color: #7f7f7f\">fbref.py</span></a><span style=\"color: #7f7f7f; text-decoration-color: #7f7f7f\">:</span><a href=\"file:///usr/local/lib/python3.11/dist-packages/soccerdata/fbref.py#815\" target=\"_blank\"><span style=\"color: #7f7f7f; text-decoration-color: #7f7f7f\">815</span></a>\n",
              "</pre>\n"
            ]
          },
          "metadata": {}
        },
        {
          "output_type": "display_data",
          "data": {
            "text/plain": [
              "\u001b[2;36m[01/27/25 23:17:50]\u001b[0m\u001b[2;36m \u001b[0m\u001b[34mINFO    \u001b[0m \u001b[1m[\u001b[0m\u001b[1;36m271\u001b[0m/\u001b[1;36m380\u001b[0m\u001b[1m]\u001b[0m Retrieving game with \u001b[33mid\u001b[0m=\u001b[35mfd693c8e\u001b[0m                                \u001b]8;id=485425;file:///usr/local/lib/python3.11/dist-packages/soccerdata/fbref.py\u001b\\\u001b[2mfbref.py\u001b[0m\u001b]8;;\u001b\\\u001b[2m:\u001b[0m\u001b]8;id=63157;file:///usr/local/lib/python3.11/dist-packages/soccerdata/fbref.py#815\u001b\\\u001b[2m815\u001b[0m\u001b]8;;\u001b\\\n"
            ],
            "text/html": [
              "<pre style=\"white-space:pre;overflow-x:auto;line-height:normal;font-family:Menlo,'DejaVu Sans Mono',consolas,'Courier New',monospace\"><span style=\"color: #7fbfbf; text-decoration-color: #7fbfbf\">[01/27/25 23:17:50] </span><span style=\"color: #000080; text-decoration-color: #000080\">INFO    </span> <span style=\"font-weight: bold\">[</span><span style=\"color: #008080; text-decoration-color: #008080; font-weight: bold\">271</span>/<span style=\"color: #008080; text-decoration-color: #008080; font-weight: bold\">380</span><span style=\"font-weight: bold\">]</span> Retrieving game with <span style=\"color: #808000; text-decoration-color: #808000\">id</span>=<span style=\"color: #800080; text-decoration-color: #800080\">fd693c8e</span>                                <a href=\"file:///usr/local/lib/python3.11/dist-packages/soccerdata/fbref.py\" target=\"_blank\"><span style=\"color: #7f7f7f; text-decoration-color: #7f7f7f\">fbref.py</span></a><span style=\"color: #7f7f7f; text-decoration-color: #7f7f7f\">:</span><a href=\"file:///usr/local/lib/python3.11/dist-packages/soccerdata/fbref.py#815\" target=\"_blank\"><span style=\"color: #7f7f7f; text-decoration-color: #7f7f7f\">815</span></a>\n",
              "</pre>\n"
            ]
          },
          "metadata": {}
        },
        {
          "output_type": "display_data",
          "data": {
            "text/plain": [
              "\u001b[2;36m[01/27/25 23:17:56]\u001b[0m\u001b[2;36m \u001b[0m\u001b[34mINFO    \u001b[0m \u001b[1m[\u001b[0m\u001b[1;36m272\u001b[0m/\u001b[1;36m380\u001b[0m\u001b[1m]\u001b[0m Retrieving game with \u001b[33mid\u001b[0m=\u001b[35mfede7f6e\u001b[0m                                \u001b]8;id=270688;file:///usr/local/lib/python3.11/dist-packages/soccerdata/fbref.py\u001b\\\u001b[2mfbref.py\u001b[0m\u001b]8;;\u001b\\\u001b[2m:\u001b[0m\u001b]8;id=947830;file:///usr/local/lib/python3.11/dist-packages/soccerdata/fbref.py#815\u001b\\\u001b[2m815\u001b[0m\u001b]8;;\u001b\\\n"
            ],
            "text/html": [
              "<pre style=\"white-space:pre;overflow-x:auto;line-height:normal;font-family:Menlo,'DejaVu Sans Mono',consolas,'Courier New',monospace\"><span style=\"color: #7fbfbf; text-decoration-color: #7fbfbf\">[01/27/25 23:17:56] </span><span style=\"color: #000080; text-decoration-color: #000080\">INFO    </span> <span style=\"font-weight: bold\">[</span><span style=\"color: #008080; text-decoration-color: #008080; font-weight: bold\">272</span>/<span style=\"color: #008080; text-decoration-color: #008080; font-weight: bold\">380</span><span style=\"font-weight: bold\">]</span> Retrieving game with <span style=\"color: #808000; text-decoration-color: #808000\">id</span>=<span style=\"color: #800080; text-decoration-color: #800080\">fede7f6e</span>                                <a href=\"file:///usr/local/lib/python3.11/dist-packages/soccerdata/fbref.py\" target=\"_blank\"><span style=\"color: #7f7f7f; text-decoration-color: #7f7f7f\">fbref.py</span></a><span style=\"color: #7f7f7f; text-decoration-color: #7f7f7f\">:</span><a href=\"file:///usr/local/lib/python3.11/dist-packages/soccerdata/fbref.py#815\" target=\"_blank\"><span style=\"color: #7f7f7f; text-decoration-color: #7f7f7f\">815</span></a>\n",
              "</pre>\n"
            ]
          },
          "metadata": {}
        },
        {
          "output_type": "display_data",
          "data": {
            "text/plain": [
              "\u001b[2;36m[01/27/25 23:18:02]\u001b[0m\u001b[2;36m \u001b[0m\u001b[34mINFO    \u001b[0m \u001b[1m[\u001b[0m\u001b[1;36m273\u001b[0m/\u001b[1;36m380\u001b[0m\u001b[1m]\u001b[0m Retrieving game with \u001b[33mid\u001b[0m=\u001b[35mb606cbde\u001b[0m                                \u001b]8;id=561440;file:///usr/local/lib/python3.11/dist-packages/soccerdata/fbref.py\u001b\\\u001b[2mfbref.py\u001b[0m\u001b]8;;\u001b\\\u001b[2m:\u001b[0m\u001b]8;id=557134;file:///usr/local/lib/python3.11/dist-packages/soccerdata/fbref.py#815\u001b\\\u001b[2m815\u001b[0m\u001b]8;;\u001b\\\n"
            ],
            "text/html": [
              "<pre style=\"white-space:pre;overflow-x:auto;line-height:normal;font-family:Menlo,'DejaVu Sans Mono',consolas,'Courier New',monospace\"><span style=\"color: #7fbfbf; text-decoration-color: #7fbfbf\">[01/27/25 23:18:02] </span><span style=\"color: #000080; text-decoration-color: #000080\">INFO    </span> <span style=\"font-weight: bold\">[</span><span style=\"color: #008080; text-decoration-color: #008080; font-weight: bold\">273</span>/<span style=\"color: #008080; text-decoration-color: #008080; font-weight: bold\">380</span><span style=\"font-weight: bold\">]</span> Retrieving game with <span style=\"color: #808000; text-decoration-color: #808000\">id</span>=<span style=\"color: #800080; text-decoration-color: #800080\">b606cbde</span>                                <a href=\"file:///usr/local/lib/python3.11/dist-packages/soccerdata/fbref.py\" target=\"_blank\"><span style=\"color: #7f7f7f; text-decoration-color: #7f7f7f\">fbref.py</span></a><span style=\"color: #7f7f7f; text-decoration-color: #7f7f7f\">:</span><a href=\"file:///usr/local/lib/python3.11/dist-packages/soccerdata/fbref.py#815\" target=\"_blank\"><span style=\"color: #7f7f7f; text-decoration-color: #7f7f7f\">815</span></a>\n",
              "</pre>\n"
            ]
          },
          "metadata": {}
        },
        {
          "output_type": "display_data",
          "data": {
            "text/plain": [
              "\u001b[2;36m[01/27/25 23:18:09]\u001b[0m\u001b[2;36m \u001b[0m\u001b[34mINFO    \u001b[0m \u001b[1m[\u001b[0m\u001b[1;36m274\u001b[0m/\u001b[1;36m380\u001b[0m\u001b[1m]\u001b[0m Retrieving game with \u001b[33mid\u001b[0m=\u001b[35ma32a7069\u001b[0m                                \u001b]8;id=695059;file:///usr/local/lib/python3.11/dist-packages/soccerdata/fbref.py\u001b\\\u001b[2mfbref.py\u001b[0m\u001b]8;;\u001b\\\u001b[2m:\u001b[0m\u001b]8;id=471679;file:///usr/local/lib/python3.11/dist-packages/soccerdata/fbref.py#815\u001b\\\u001b[2m815\u001b[0m\u001b]8;;\u001b\\\n"
            ],
            "text/html": [
              "<pre style=\"white-space:pre;overflow-x:auto;line-height:normal;font-family:Menlo,'DejaVu Sans Mono',consolas,'Courier New',monospace\"><span style=\"color: #7fbfbf; text-decoration-color: #7fbfbf\">[01/27/25 23:18:09] </span><span style=\"color: #000080; text-decoration-color: #000080\">INFO    </span> <span style=\"font-weight: bold\">[</span><span style=\"color: #008080; text-decoration-color: #008080; font-weight: bold\">274</span>/<span style=\"color: #008080; text-decoration-color: #008080; font-weight: bold\">380</span><span style=\"font-weight: bold\">]</span> Retrieving game with <span style=\"color: #808000; text-decoration-color: #808000\">id</span>=<span style=\"color: #800080; text-decoration-color: #800080\">a32a7069</span>                                <a href=\"file:///usr/local/lib/python3.11/dist-packages/soccerdata/fbref.py\" target=\"_blank\"><span style=\"color: #7f7f7f; text-decoration-color: #7f7f7f\">fbref.py</span></a><span style=\"color: #7f7f7f; text-decoration-color: #7f7f7f\">:</span><a href=\"file:///usr/local/lib/python3.11/dist-packages/soccerdata/fbref.py#815\" target=\"_blank\"><span style=\"color: #7f7f7f; text-decoration-color: #7f7f7f\">815</span></a>\n",
              "</pre>\n"
            ]
          },
          "metadata": {}
        },
        {
          "output_type": "display_data",
          "data": {
            "text/plain": [
              "\u001b[2;36m[01/27/25 23:18:15]\u001b[0m\u001b[2;36m \u001b[0m\u001b[34mINFO    \u001b[0m \u001b[1m[\u001b[0m\u001b[1;36m275\u001b[0m/\u001b[1;36m380\u001b[0m\u001b[1m]\u001b[0m Retrieving game with \u001b[33mid\u001b[0m=\u001b[35mf17d9ccd\u001b[0m                                \u001b]8;id=191536;file:///usr/local/lib/python3.11/dist-packages/soccerdata/fbref.py\u001b\\\u001b[2mfbref.py\u001b[0m\u001b]8;;\u001b\\\u001b[2m:\u001b[0m\u001b]8;id=759421;file:///usr/local/lib/python3.11/dist-packages/soccerdata/fbref.py#815\u001b\\\u001b[2m815\u001b[0m\u001b]8;;\u001b\\\n"
            ],
            "text/html": [
              "<pre style=\"white-space:pre;overflow-x:auto;line-height:normal;font-family:Menlo,'DejaVu Sans Mono',consolas,'Courier New',monospace\"><span style=\"color: #7fbfbf; text-decoration-color: #7fbfbf\">[01/27/25 23:18:15] </span><span style=\"color: #000080; text-decoration-color: #000080\">INFO    </span> <span style=\"font-weight: bold\">[</span><span style=\"color: #008080; text-decoration-color: #008080; font-weight: bold\">275</span>/<span style=\"color: #008080; text-decoration-color: #008080; font-weight: bold\">380</span><span style=\"font-weight: bold\">]</span> Retrieving game with <span style=\"color: #808000; text-decoration-color: #808000\">id</span>=<span style=\"color: #800080; text-decoration-color: #800080\">f17d9ccd</span>                                <a href=\"file:///usr/local/lib/python3.11/dist-packages/soccerdata/fbref.py\" target=\"_blank\"><span style=\"color: #7f7f7f; text-decoration-color: #7f7f7f\">fbref.py</span></a><span style=\"color: #7f7f7f; text-decoration-color: #7f7f7f\">:</span><a href=\"file:///usr/local/lib/python3.11/dist-packages/soccerdata/fbref.py#815\" target=\"_blank\"><span style=\"color: #7f7f7f; text-decoration-color: #7f7f7f\">815</span></a>\n",
              "</pre>\n"
            ]
          },
          "metadata": {}
        },
        {
          "output_type": "display_data",
          "data": {
            "text/plain": [
              "\u001b[2;36m[01/27/25 23:18:21]\u001b[0m\u001b[2;36m \u001b[0m\u001b[34mINFO    \u001b[0m \u001b[1m[\u001b[0m\u001b[1;36m276\u001b[0m/\u001b[1;36m380\u001b[0m\u001b[1m]\u001b[0m Retrieving game with \u001b[33mid\u001b[0m=\u001b[35m96da3e29\u001b[0m                                \u001b]8;id=276240;file:///usr/local/lib/python3.11/dist-packages/soccerdata/fbref.py\u001b\\\u001b[2mfbref.py\u001b[0m\u001b]8;;\u001b\\\u001b[2m:\u001b[0m\u001b]8;id=36904;file:///usr/local/lib/python3.11/dist-packages/soccerdata/fbref.py#815\u001b\\\u001b[2m815\u001b[0m\u001b]8;;\u001b\\\n"
            ],
            "text/html": [
              "<pre style=\"white-space:pre;overflow-x:auto;line-height:normal;font-family:Menlo,'DejaVu Sans Mono',consolas,'Courier New',monospace\"><span style=\"color: #7fbfbf; text-decoration-color: #7fbfbf\">[01/27/25 23:18:21] </span><span style=\"color: #000080; text-decoration-color: #000080\">INFO    </span> <span style=\"font-weight: bold\">[</span><span style=\"color: #008080; text-decoration-color: #008080; font-weight: bold\">276</span>/<span style=\"color: #008080; text-decoration-color: #008080; font-weight: bold\">380</span><span style=\"font-weight: bold\">]</span> Retrieving game with <span style=\"color: #808000; text-decoration-color: #808000\">id</span>=<span style=\"color: #800080; text-decoration-color: #800080\">96da3e29</span>                                <a href=\"file:///usr/local/lib/python3.11/dist-packages/soccerdata/fbref.py\" target=\"_blank\"><span style=\"color: #7f7f7f; text-decoration-color: #7f7f7f\">fbref.py</span></a><span style=\"color: #7f7f7f; text-decoration-color: #7f7f7f\">:</span><a href=\"file:///usr/local/lib/python3.11/dist-packages/soccerdata/fbref.py#815\" target=\"_blank\"><span style=\"color: #7f7f7f; text-decoration-color: #7f7f7f\">815</span></a>\n",
              "</pre>\n"
            ]
          },
          "metadata": {}
        },
        {
          "output_type": "display_data",
          "data": {
            "text/plain": [
              "\u001b[2;36m[01/27/25 23:18:28]\u001b[0m\u001b[2;36m \u001b[0m\u001b[34mINFO    \u001b[0m \u001b[1m[\u001b[0m\u001b[1;36m277\u001b[0m/\u001b[1;36m380\u001b[0m\u001b[1m]\u001b[0m Retrieving game with \u001b[33mid\u001b[0m=\u001b[35m9ef133d6\u001b[0m                                \u001b]8;id=512486;file:///usr/local/lib/python3.11/dist-packages/soccerdata/fbref.py\u001b\\\u001b[2mfbref.py\u001b[0m\u001b]8;;\u001b\\\u001b[2m:\u001b[0m\u001b]8;id=731356;file:///usr/local/lib/python3.11/dist-packages/soccerdata/fbref.py#815\u001b\\\u001b[2m815\u001b[0m\u001b]8;;\u001b\\\n"
            ],
            "text/html": [
              "<pre style=\"white-space:pre;overflow-x:auto;line-height:normal;font-family:Menlo,'DejaVu Sans Mono',consolas,'Courier New',monospace\"><span style=\"color: #7fbfbf; text-decoration-color: #7fbfbf\">[01/27/25 23:18:28] </span><span style=\"color: #000080; text-decoration-color: #000080\">INFO    </span> <span style=\"font-weight: bold\">[</span><span style=\"color: #008080; text-decoration-color: #008080; font-weight: bold\">277</span>/<span style=\"color: #008080; text-decoration-color: #008080; font-weight: bold\">380</span><span style=\"font-weight: bold\">]</span> Retrieving game with <span style=\"color: #808000; text-decoration-color: #808000\">id</span>=<span style=\"color: #800080; text-decoration-color: #800080\">9ef133d6</span>                                <a href=\"file:///usr/local/lib/python3.11/dist-packages/soccerdata/fbref.py\" target=\"_blank\"><span style=\"color: #7f7f7f; text-decoration-color: #7f7f7f\">fbref.py</span></a><span style=\"color: #7f7f7f; text-decoration-color: #7f7f7f\">:</span><a href=\"file:///usr/local/lib/python3.11/dist-packages/soccerdata/fbref.py#815\" target=\"_blank\"><span style=\"color: #7f7f7f; text-decoration-color: #7f7f7f\">815</span></a>\n",
              "</pre>\n"
            ]
          },
          "metadata": {}
        },
        {
          "output_type": "display_data",
          "data": {
            "text/plain": [
              "\u001b[2;36m[01/27/25 23:18:34]\u001b[0m\u001b[2;36m \u001b[0m\u001b[34mINFO    \u001b[0m \u001b[1m[\u001b[0m\u001b[1;36m278\u001b[0m/\u001b[1;36m380\u001b[0m\u001b[1m]\u001b[0m Retrieving game with \u001b[33mid\u001b[0m=\u001b[35md4b4c06f\u001b[0m                                \u001b]8;id=195060;file:///usr/local/lib/python3.11/dist-packages/soccerdata/fbref.py\u001b\\\u001b[2mfbref.py\u001b[0m\u001b]8;;\u001b\\\u001b[2m:\u001b[0m\u001b]8;id=535932;file:///usr/local/lib/python3.11/dist-packages/soccerdata/fbref.py#815\u001b\\\u001b[2m815\u001b[0m\u001b]8;;\u001b\\\n"
            ],
            "text/html": [
              "<pre style=\"white-space:pre;overflow-x:auto;line-height:normal;font-family:Menlo,'DejaVu Sans Mono',consolas,'Courier New',monospace\"><span style=\"color: #7fbfbf; text-decoration-color: #7fbfbf\">[01/27/25 23:18:34] </span><span style=\"color: #000080; text-decoration-color: #000080\">INFO    </span> <span style=\"font-weight: bold\">[</span><span style=\"color: #008080; text-decoration-color: #008080; font-weight: bold\">278</span>/<span style=\"color: #008080; text-decoration-color: #008080; font-weight: bold\">380</span><span style=\"font-weight: bold\">]</span> Retrieving game with <span style=\"color: #808000; text-decoration-color: #808000\">id</span>=<span style=\"color: #800080; text-decoration-color: #800080\">d4b4c06f</span>                                <a href=\"file:///usr/local/lib/python3.11/dist-packages/soccerdata/fbref.py\" target=\"_blank\"><span style=\"color: #7f7f7f; text-decoration-color: #7f7f7f\">fbref.py</span></a><span style=\"color: #7f7f7f; text-decoration-color: #7f7f7f\">:</span><a href=\"file:///usr/local/lib/python3.11/dist-packages/soccerdata/fbref.py#815\" target=\"_blank\"><span style=\"color: #7f7f7f; text-decoration-color: #7f7f7f\">815</span></a>\n",
              "</pre>\n"
            ]
          },
          "metadata": {}
        },
        {
          "output_type": "display_data",
          "data": {
            "text/plain": [
              "\u001b[2;36m[01/27/25 23:18:40]\u001b[0m\u001b[2;36m \u001b[0m\u001b[34mINFO    \u001b[0m \u001b[1m[\u001b[0m\u001b[1;36m279\u001b[0m/\u001b[1;36m380\u001b[0m\u001b[1m]\u001b[0m Retrieving game with \u001b[33mid\u001b[0m=\u001b[35ma32a8157\u001b[0m                                \u001b]8;id=115385;file:///usr/local/lib/python3.11/dist-packages/soccerdata/fbref.py\u001b\\\u001b[2mfbref.py\u001b[0m\u001b]8;;\u001b\\\u001b[2m:\u001b[0m\u001b]8;id=226668;file:///usr/local/lib/python3.11/dist-packages/soccerdata/fbref.py#815\u001b\\\u001b[2m815\u001b[0m\u001b]8;;\u001b\\\n"
            ],
            "text/html": [
              "<pre style=\"white-space:pre;overflow-x:auto;line-height:normal;font-family:Menlo,'DejaVu Sans Mono',consolas,'Courier New',monospace\"><span style=\"color: #7fbfbf; text-decoration-color: #7fbfbf\">[01/27/25 23:18:40] </span><span style=\"color: #000080; text-decoration-color: #000080\">INFO    </span> <span style=\"font-weight: bold\">[</span><span style=\"color: #008080; text-decoration-color: #008080; font-weight: bold\">279</span>/<span style=\"color: #008080; text-decoration-color: #008080; font-weight: bold\">380</span><span style=\"font-weight: bold\">]</span> Retrieving game with <span style=\"color: #808000; text-decoration-color: #808000\">id</span>=<span style=\"color: #800080; text-decoration-color: #800080\">a32a8157</span>                                <a href=\"file:///usr/local/lib/python3.11/dist-packages/soccerdata/fbref.py\" target=\"_blank\"><span style=\"color: #7f7f7f; text-decoration-color: #7f7f7f\">fbref.py</span></a><span style=\"color: #7f7f7f; text-decoration-color: #7f7f7f\">:</span><a href=\"file:///usr/local/lib/python3.11/dist-packages/soccerdata/fbref.py#815\" target=\"_blank\"><span style=\"color: #7f7f7f; text-decoration-color: #7f7f7f\">815</span></a>\n",
              "</pre>\n"
            ]
          },
          "metadata": {}
        },
        {
          "output_type": "display_data",
          "data": {
            "text/plain": [
              "\u001b[2;36m[01/27/25 23:18:47]\u001b[0m\u001b[2;36m \u001b[0m\u001b[34mINFO    \u001b[0m \u001b[1m[\u001b[0m\u001b[1;36m280\u001b[0m/\u001b[1;36m380\u001b[0m\u001b[1m]\u001b[0m Retrieving game with \u001b[33mid\u001b[0m=\u001b[35mb280b66a\u001b[0m                                \u001b]8;id=522277;file:///usr/local/lib/python3.11/dist-packages/soccerdata/fbref.py\u001b\\\u001b[2mfbref.py\u001b[0m\u001b]8;;\u001b\\\u001b[2m:\u001b[0m\u001b]8;id=14803;file:///usr/local/lib/python3.11/dist-packages/soccerdata/fbref.py#815\u001b\\\u001b[2m815\u001b[0m\u001b]8;;\u001b\\\n"
            ],
            "text/html": [
              "<pre style=\"white-space:pre;overflow-x:auto;line-height:normal;font-family:Menlo,'DejaVu Sans Mono',consolas,'Courier New',monospace\"><span style=\"color: #7fbfbf; text-decoration-color: #7fbfbf\">[01/27/25 23:18:47] </span><span style=\"color: #000080; text-decoration-color: #000080\">INFO    </span> <span style=\"font-weight: bold\">[</span><span style=\"color: #008080; text-decoration-color: #008080; font-weight: bold\">280</span>/<span style=\"color: #008080; text-decoration-color: #008080; font-weight: bold\">380</span><span style=\"font-weight: bold\">]</span> Retrieving game with <span style=\"color: #808000; text-decoration-color: #808000\">id</span>=<span style=\"color: #800080; text-decoration-color: #800080\">b280b66a</span>                                <a href=\"file:///usr/local/lib/python3.11/dist-packages/soccerdata/fbref.py\" target=\"_blank\"><span style=\"color: #7f7f7f; text-decoration-color: #7f7f7f\">fbref.py</span></a><span style=\"color: #7f7f7f; text-decoration-color: #7f7f7f\">:</span><a href=\"file:///usr/local/lib/python3.11/dist-packages/soccerdata/fbref.py#815\" target=\"_blank\"><span style=\"color: #7f7f7f; text-decoration-color: #7f7f7f\">815</span></a>\n",
              "</pre>\n"
            ]
          },
          "metadata": {}
        },
        {
          "output_type": "display_data",
          "data": {
            "text/plain": [
              "\u001b[2;36m[01/27/25 23:18:53]\u001b[0m\u001b[2;36m \u001b[0m\u001b[34mINFO    \u001b[0m \u001b[1m[\u001b[0m\u001b[1;36m281\u001b[0m/\u001b[1;36m380\u001b[0m\u001b[1m]\u001b[0m Retrieving game with \u001b[33mid\u001b[0m=\u001b[35m8a009cc4\u001b[0m                                \u001b]8;id=636535;file:///usr/local/lib/python3.11/dist-packages/soccerdata/fbref.py\u001b\\\u001b[2mfbref.py\u001b[0m\u001b]8;;\u001b\\\u001b[2m:\u001b[0m\u001b]8;id=246201;file:///usr/local/lib/python3.11/dist-packages/soccerdata/fbref.py#815\u001b\\\u001b[2m815\u001b[0m\u001b]8;;\u001b\\\n"
            ],
            "text/html": [
              "<pre style=\"white-space:pre;overflow-x:auto;line-height:normal;font-family:Menlo,'DejaVu Sans Mono',consolas,'Courier New',monospace\"><span style=\"color: #7fbfbf; text-decoration-color: #7fbfbf\">[01/27/25 23:18:53] </span><span style=\"color: #000080; text-decoration-color: #000080\">INFO    </span> <span style=\"font-weight: bold\">[</span><span style=\"color: #008080; text-decoration-color: #008080; font-weight: bold\">281</span>/<span style=\"color: #008080; text-decoration-color: #008080; font-weight: bold\">380</span><span style=\"font-weight: bold\">]</span> Retrieving game with <span style=\"color: #808000; text-decoration-color: #808000\">id</span>=<span style=\"color: #800080; text-decoration-color: #800080\">8a009cc4</span>                                <a href=\"file:///usr/local/lib/python3.11/dist-packages/soccerdata/fbref.py\" target=\"_blank\"><span style=\"color: #7f7f7f; text-decoration-color: #7f7f7f\">fbref.py</span></a><span style=\"color: #7f7f7f; text-decoration-color: #7f7f7f\">:</span><a href=\"file:///usr/local/lib/python3.11/dist-packages/soccerdata/fbref.py#815\" target=\"_blank\"><span style=\"color: #7f7f7f; text-decoration-color: #7f7f7f\">815</span></a>\n",
              "</pre>\n"
            ]
          },
          "metadata": {}
        },
        {
          "output_type": "display_data",
          "data": {
            "text/plain": [
              "\u001b[2;36m[01/27/25 23:18:59]\u001b[0m\u001b[2;36m \u001b[0m\u001b[34mINFO    \u001b[0m \u001b[1m[\u001b[0m\u001b[1;36m282\u001b[0m/\u001b[1;36m380\u001b[0m\u001b[1m]\u001b[0m Retrieving game with \u001b[33mid\u001b[0m=\u001b[35m76d09384\u001b[0m                                \u001b]8;id=499510;file:///usr/local/lib/python3.11/dist-packages/soccerdata/fbref.py\u001b\\\u001b[2mfbref.py\u001b[0m\u001b]8;;\u001b\\\u001b[2m:\u001b[0m\u001b]8;id=99043;file:///usr/local/lib/python3.11/dist-packages/soccerdata/fbref.py#815\u001b\\\u001b[2m815\u001b[0m\u001b]8;;\u001b\\\n"
            ],
            "text/html": [
              "<pre style=\"white-space:pre;overflow-x:auto;line-height:normal;font-family:Menlo,'DejaVu Sans Mono',consolas,'Courier New',monospace\"><span style=\"color: #7fbfbf; text-decoration-color: #7fbfbf\">[01/27/25 23:18:59] </span><span style=\"color: #000080; text-decoration-color: #000080\">INFO    </span> <span style=\"font-weight: bold\">[</span><span style=\"color: #008080; text-decoration-color: #008080; font-weight: bold\">282</span>/<span style=\"color: #008080; text-decoration-color: #008080; font-weight: bold\">380</span><span style=\"font-weight: bold\">]</span> Retrieving game with <span style=\"color: #808000; text-decoration-color: #808000\">id</span>=<span style=\"color: #800080; text-decoration-color: #800080\">76d09384</span>                                <a href=\"file:///usr/local/lib/python3.11/dist-packages/soccerdata/fbref.py\" target=\"_blank\"><span style=\"color: #7f7f7f; text-decoration-color: #7f7f7f\">fbref.py</span></a><span style=\"color: #7f7f7f; text-decoration-color: #7f7f7f\">:</span><a href=\"file:///usr/local/lib/python3.11/dist-packages/soccerdata/fbref.py#815\" target=\"_blank\"><span style=\"color: #7f7f7f; text-decoration-color: #7f7f7f\">815</span></a>\n",
              "</pre>\n"
            ]
          },
          "metadata": {}
        },
        {
          "output_type": "display_data",
          "data": {
            "text/plain": [
              "\u001b[2;36m[01/27/25 23:19:05]\u001b[0m\u001b[2;36m \u001b[0m\u001b[34mINFO    \u001b[0m \u001b[1m[\u001b[0m\u001b[1;36m283\u001b[0m/\u001b[1;36m380\u001b[0m\u001b[1m]\u001b[0m Retrieving game with \u001b[33mid\u001b[0m=\u001b[35mfc356c59\u001b[0m                                \u001b]8;id=441438;file:///usr/local/lib/python3.11/dist-packages/soccerdata/fbref.py\u001b\\\u001b[2mfbref.py\u001b[0m\u001b]8;;\u001b\\\u001b[2m:\u001b[0m\u001b]8;id=702268;file:///usr/local/lib/python3.11/dist-packages/soccerdata/fbref.py#815\u001b\\\u001b[2m815\u001b[0m\u001b]8;;\u001b\\\n"
            ],
            "text/html": [
              "<pre style=\"white-space:pre;overflow-x:auto;line-height:normal;font-family:Menlo,'DejaVu Sans Mono',consolas,'Courier New',monospace\"><span style=\"color: #7fbfbf; text-decoration-color: #7fbfbf\">[01/27/25 23:19:05] </span><span style=\"color: #000080; text-decoration-color: #000080\">INFO    </span> <span style=\"font-weight: bold\">[</span><span style=\"color: #008080; text-decoration-color: #008080; font-weight: bold\">283</span>/<span style=\"color: #008080; text-decoration-color: #008080; font-weight: bold\">380</span><span style=\"font-weight: bold\">]</span> Retrieving game with <span style=\"color: #808000; text-decoration-color: #808000\">id</span>=<span style=\"color: #800080; text-decoration-color: #800080\">fc356c59</span>                                <a href=\"file:///usr/local/lib/python3.11/dist-packages/soccerdata/fbref.py\" target=\"_blank\"><span style=\"color: #7f7f7f; text-decoration-color: #7f7f7f\">fbref.py</span></a><span style=\"color: #7f7f7f; text-decoration-color: #7f7f7f\">:</span><a href=\"file:///usr/local/lib/python3.11/dist-packages/soccerdata/fbref.py#815\" target=\"_blank\"><span style=\"color: #7f7f7f; text-decoration-color: #7f7f7f\">815</span></a>\n",
              "</pre>\n"
            ]
          },
          "metadata": {}
        },
        {
          "output_type": "display_data",
          "data": {
            "text/plain": [
              "\u001b[2;36m[01/27/25 23:19:12]\u001b[0m\u001b[2;36m \u001b[0m\u001b[34mINFO    \u001b[0m \u001b[1m[\u001b[0m\u001b[1;36m284\u001b[0m/\u001b[1;36m380\u001b[0m\u001b[1m]\u001b[0m Retrieving game with \u001b[33mid\u001b[0m=\u001b[35m5f218b76\u001b[0m                                \u001b]8;id=777183;file:///usr/local/lib/python3.11/dist-packages/soccerdata/fbref.py\u001b\\\u001b[2mfbref.py\u001b[0m\u001b]8;;\u001b\\\u001b[2m:\u001b[0m\u001b]8;id=523485;file:///usr/local/lib/python3.11/dist-packages/soccerdata/fbref.py#815\u001b\\\u001b[2m815\u001b[0m\u001b]8;;\u001b\\\n"
            ],
            "text/html": [
              "<pre style=\"white-space:pre;overflow-x:auto;line-height:normal;font-family:Menlo,'DejaVu Sans Mono',consolas,'Courier New',monospace\"><span style=\"color: #7fbfbf; text-decoration-color: #7fbfbf\">[01/27/25 23:19:12] </span><span style=\"color: #000080; text-decoration-color: #000080\">INFO    </span> <span style=\"font-weight: bold\">[</span><span style=\"color: #008080; text-decoration-color: #008080; font-weight: bold\">284</span>/<span style=\"color: #008080; text-decoration-color: #008080; font-weight: bold\">380</span><span style=\"font-weight: bold\">]</span> Retrieving game with <span style=\"color: #808000; text-decoration-color: #808000\">id</span>=<span style=\"color: #800080; text-decoration-color: #800080\">5f218b76</span>                                <a href=\"file:///usr/local/lib/python3.11/dist-packages/soccerdata/fbref.py\" target=\"_blank\"><span style=\"color: #7f7f7f; text-decoration-color: #7f7f7f\">fbref.py</span></a><span style=\"color: #7f7f7f; text-decoration-color: #7f7f7f\">:</span><a href=\"file:///usr/local/lib/python3.11/dist-packages/soccerdata/fbref.py#815\" target=\"_blank\"><span style=\"color: #7f7f7f; text-decoration-color: #7f7f7f\">815</span></a>\n",
              "</pre>\n"
            ]
          },
          "metadata": {}
        },
        {
          "output_type": "display_data",
          "data": {
            "text/plain": [
              "\u001b[2;36m[01/27/25 23:19:18]\u001b[0m\u001b[2;36m \u001b[0m\u001b[34mINFO    \u001b[0m \u001b[1m[\u001b[0m\u001b[1;36m285\u001b[0m/\u001b[1;36m380\u001b[0m\u001b[1m]\u001b[0m Retrieving game with \u001b[33mid\u001b[0m=\u001b[35m0eaaf0ab\u001b[0m                                \u001b]8;id=561140;file:///usr/local/lib/python3.11/dist-packages/soccerdata/fbref.py\u001b\\\u001b[2mfbref.py\u001b[0m\u001b]8;;\u001b\\\u001b[2m:\u001b[0m\u001b]8;id=151535;file:///usr/local/lib/python3.11/dist-packages/soccerdata/fbref.py#815\u001b\\\u001b[2m815\u001b[0m\u001b]8;;\u001b\\\n"
            ],
            "text/html": [
              "<pre style=\"white-space:pre;overflow-x:auto;line-height:normal;font-family:Menlo,'DejaVu Sans Mono',consolas,'Courier New',monospace\"><span style=\"color: #7fbfbf; text-decoration-color: #7fbfbf\">[01/27/25 23:19:18] </span><span style=\"color: #000080; text-decoration-color: #000080\">INFO    </span> <span style=\"font-weight: bold\">[</span><span style=\"color: #008080; text-decoration-color: #008080; font-weight: bold\">285</span>/<span style=\"color: #008080; text-decoration-color: #008080; font-weight: bold\">380</span><span style=\"font-weight: bold\">]</span> Retrieving game with <span style=\"color: #808000; text-decoration-color: #808000\">id</span>=<span style=\"color: #800080; text-decoration-color: #800080\">0eaaf0ab</span>                                <a href=\"file:///usr/local/lib/python3.11/dist-packages/soccerdata/fbref.py\" target=\"_blank\"><span style=\"color: #7f7f7f; text-decoration-color: #7f7f7f\">fbref.py</span></a><span style=\"color: #7f7f7f; text-decoration-color: #7f7f7f\">:</span><a href=\"file:///usr/local/lib/python3.11/dist-packages/soccerdata/fbref.py#815\" target=\"_blank\"><span style=\"color: #7f7f7f; text-decoration-color: #7f7f7f\">815</span></a>\n",
              "</pre>\n"
            ]
          },
          "metadata": {}
        },
        {
          "output_type": "display_data",
          "data": {
            "text/plain": [
              "\u001b[2;36m[01/27/25 23:19:24]\u001b[0m\u001b[2;36m \u001b[0m\u001b[34mINFO    \u001b[0m \u001b[1m[\u001b[0m\u001b[1;36m286\u001b[0m/\u001b[1;36m380\u001b[0m\u001b[1m]\u001b[0m Retrieving game with \u001b[33mid\u001b[0m=\u001b[35m43a07892\u001b[0m                                \u001b]8;id=352701;file:///usr/local/lib/python3.11/dist-packages/soccerdata/fbref.py\u001b\\\u001b[2mfbref.py\u001b[0m\u001b]8;;\u001b\\\u001b[2m:\u001b[0m\u001b]8;id=358136;file:///usr/local/lib/python3.11/dist-packages/soccerdata/fbref.py#815\u001b\\\u001b[2m815\u001b[0m\u001b]8;;\u001b\\\n"
            ],
            "text/html": [
              "<pre style=\"white-space:pre;overflow-x:auto;line-height:normal;font-family:Menlo,'DejaVu Sans Mono',consolas,'Courier New',monospace\"><span style=\"color: #7fbfbf; text-decoration-color: #7fbfbf\">[01/27/25 23:19:24] </span><span style=\"color: #000080; text-decoration-color: #000080\">INFO    </span> <span style=\"font-weight: bold\">[</span><span style=\"color: #008080; text-decoration-color: #008080; font-weight: bold\">286</span>/<span style=\"color: #008080; text-decoration-color: #008080; font-weight: bold\">380</span><span style=\"font-weight: bold\">]</span> Retrieving game with <span style=\"color: #808000; text-decoration-color: #808000\">id</span>=<span style=\"color: #800080; text-decoration-color: #800080\">43a07892</span>                                <a href=\"file:///usr/local/lib/python3.11/dist-packages/soccerdata/fbref.py\" target=\"_blank\"><span style=\"color: #7f7f7f; text-decoration-color: #7f7f7f\">fbref.py</span></a><span style=\"color: #7f7f7f; text-decoration-color: #7f7f7f\">:</span><a href=\"file:///usr/local/lib/python3.11/dist-packages/soccerdata/fbref.py#815\" target=\"_blank\"><span style=\"color: #7f7f7f; text-decoration-color: #7f7f7f\">815</span></a>\n",
              "</pre>\n"
            ]
          },
          "metadata": {}
        },
        {
          "output_type": "display_data",
          "data": {
            "text/plain": [
              "\u001b[2;36m[01/27/25 23:19:31]\u001b[0m\u001b[2;36m \u001b[0m\u001b[34mINFO    \u001b[0m \u001b[1m[\u001b[0m\u001b[1;36m287\u001b[0m/\u001b[1;36m380\u001b[0m\u001b[1m]\u001b[0m Retrieving game with \u001b[33mid\u001b[0m=\u001b[35me68ec2a9\u001b[0m                                \u001b]8;id=984960;file:///usr/local/lib/python3.11/dist-packages/soccerdata/fbref.py\u001b\\\u001b[2mfbref.py\u001b[0m\u001b]8;;\u001b\\\u001b[2m:\u001b[0m\u001b]8;id=824569;file:///usr/local/lib/python3.11/dist-packages/soccerdata/fbref.py#815\u001b\\\u001b[2m815\u001b[0m\u001b]8;;\u001b\\\n"
            ],
            "text/html": [
              "<pre style=\"white-space:pre;overflow-x:auto;line-height:normal;font-family:Menlo,'DejaVu Sans Mono',consolas,'Courier New',monospace\"><span style=\"color: #7fbfbf; text-decoration-color: #7fbfbf\">[01/27/25 23:19:31] </span><span style=\"color: #000080; text-decoration-color: #000080\">INFO    </span> <span style=\"font-weight: bold\">[</span><span style=\"color: #008080; text-decoration-color: #008080; font-weight: bold\">287</span>/<span style=\"color: #008080; text-decoration-color: #008080; font-weight: bold\">380</span><span style=\"font-weight: bold\">]</span> Retrieving game with <span style=\"color: #808000; text-decoration-color: #808000\">id</span>=<span style=\"color: #800080; text-decoration-color: #800080\">e68ec2a9</span>                                <a href=\"file:///usr/local/lib/python3.11/dist-packages/soccerdata/fbref.py\" target=\"_blank\"><span style=\"color: #7f7f7f; text-decoration-color: #7f7f7f\">fbref.py</span></a><span style=\"color: #7f7f7f; text-decoration-color: #7f7f7f\">:</span><a href=\"file:///usr/local/lib/python3.11/dist-packages/soccerdata/fbref.py#815\" target=\"_blank\"><span style=\"color: #7f7f7f; text-decoration-color: #7f7f7f\">815</span></a>\n",
              "</pre>\n"
            ]
          },
          "metadata": {}
        },
        {
          "output_type": "display_data",
          "data": {
            "text/plain": [
              "\u001b[2;36m[01/27/25 23:19:37]\u001b[0m\u001b[2;36m \u001b[0m\u001b[34mINFO    \u001b[0m \u001b[1m[\u001b[0m\u001b[1;36m288\u001b[0m/\u001b[1;36m380\u001b[0m\u001b[1m]\u001b[0m Retrieving game with \u001b[33mid\u001b[0m=\u001b[35m10600f89\u001b[0m                                \u001b]8;id=403784;file:///usr/local/lib/python3.11/dist-packages/soccerdata/fbref.py\u001b\\\u001b[2mfbref.py\u001b[0m\u001b]8;;\u001b\\\u001b[2m:\u001b[0m\u001b]8;id=780269;file:///usr/local/lib/python3.11/dist-packages/soccerdata/fbref.py#815\u001b\\\u001b[2m815\u001b[0m\u001b]8;;\u001b\\\n"
            ],
            "text/html": [
              "<pre style=\"white-space:pre;overflow-x:auto;line-height:normal;font-family:Menlo,'DejaVu Sans Mono',consolas,'Courier New',monospace\"><span style=\"color: #7fbfbf; text-decoration-color: #7fbfbf\">[01/27/25 23:19:37] </span><span style=\"color: #000080; text-decoration-color: #000080\">INFO    </span> <span style=\"font-weight: bold\">[</span><span style=\"color: #008080; text-decoration-color: #008080; font-weight: bold\">288</span>/<span style=\"color: #008080; text-decoration-color: #008080; font-weight: bold\">380</span><span style=\"font-weight: bold\">]</span> Retrieving game with <span style=\"color: #808000; text-decoration-color: #808000\">id</span>=<span style=\"color: #800080; text-decoration-color: #800080\">10600f89</span>                                <a href=\"file:///usr/local/lib/python3.11/dist-packages/soccerdata/fbref.py\" target=\"_blank\"><span style=\"color: #7f7f7f; text-decoration-color: #7f7f7f\">fbref.py</span></a><span style=\"color: #7f7f7f; text-decoration-color: #7f7f7f\">:</span><a href=\"file:///usr/local/lib/python3.11/dist-packages/soccerdata/fbref.py#815\" target=\"_blank\"><span style=\"color: #7f7f7f; text-decoration-color: #7f7f7f\">815</span></a>\n",
              "</pre>\n"
            ]
          },
          "metadata": {}
        },
        {
          "output_type": "display_data",
          "data": {
            "text/plain": [
              "\u001b[2;36m[01/27/25 23:19:43]\u001b[0m\u001b[2;36m \u001b[0m\u001b[34mINFO    \u001b[0m \u001b[1m[\u001b[0m\u001b[1;36m289\u001b[0m/\u001b[1;36m380\u001b[0m\u001b[1m]\u001b[0m Retrieving game with \u001b[33mid\u001b[0m=\u001b[35m791fc95a\u001b[0m                                \u001b]8;id=842930;file:///usr/local/lib/python3.11/dist-packages/soccerdata/fbref.py\u001b\\\u001b[2mfbref.py\u001b[0m\u001b]8;;\u001b\\\u001b[2m:\u001b[0m\u001b]8;id=83235;file:///usr/local/lib/python3.11/dist-packages/soccerdata/fbref.py#815\u001b\\\u001b[2m815\u001b[0m\u001b]8;;\u001b\\\n"
            ],
            "text/html": [
              "<pre style=\"white-space:pre;overflow-x:auto;line-height:normal;font-family:Menlo,'DejaVu Sans Mono',consolas,'Courier New',monospace\"><span style=\"color: #7fbfbf; text-decoration-color: #7fbfbf\">[01/27/25 23:19:43] </span><span style=\"color: #000080; text-decoration-color: #000080\">INFO    </span> <span style=\"font-weight: bold\">[</span><span style=\"color: #008080; text-decoration-color: #008080; font-weight: bold\">289</span>/<span style=\"color: #008080; text-decoration-color: #008080; font-weight: bold\">380</span><span style=\"font-weight: bold\">]</span> Retrieving game with <span style=\"color: #808000; text-decoration-color: #808000\">id</span>=<span style=\"color: #800080; text-decoration-color: #800080\">791fc95a</span>                                <a href=\"file:///usr/local/lib/python3.11/dist-packages/soccerdata/fbref.py\" target=\"_blank\"><span style=\"color: #7f7f7f; text-decoration-color: #7f7f7f\">fbref.py</span></a><span style=\"color: #7f7f7f; text-decoration-color: #7f7f7f\">:</span><a href=\"file:///usr/local/lib/python3.11/dist-packages/soccerdata/fbref.py#815\" target=\"_blank\"><span style=\"color: #7f7f7f; text-decoration-color: #7f7f7f\">815</span></a>\n",
              "</pre>\n"
            ]
          },
          "metadata": {}
        },
        {
          "output_type": "display_data",
          "data": {
            "text/plain": [
              "\u001b[2;36m[01/27/25 23:19:50]\u001b[0m\u001b[2;36m \u001b[0m\u001b[34mINFO    \u001b[0m \u001b[1m[\u001b[0m\u001b[1;36m290\u001b[0m/\u001b[1;36m380\u001b[0m\u001b[1m]\u001b[0m Retrieving game with \u001b[33mid\u001b[0m=\u001b[35mad4a1302\u001b[0m                                \u001b]8;id=579252;file:///usr/local/lib/python3.11/dist-packages/soccerdata/fbref.py\u001b\\\u001b[2mfbref.py\u001b[0m\u001b]8;;\u001b\\\u001b[2m:\u001b[0m\u001b]8;id=380994;file:///usr/local/lib/python3.11/dist-packages/soccerdata/fbref.py#815\u001b\\\u001b[2m815\u001b[0m\u001b]8;;\u001b\\\n"
            ],
            "text/html": [
              "<pre style=\"white-space:pre;overflow-x:auto;line-height:normal;font-family:Menlo,'DejaVu Sans Mono',consolas,'Courier New',monospace\"><span style=\"color: #7fbfbf; text-decoration-color: #7fbfbf\">[01/27/25 23:19:50] </span><span style=\"color: #000080; text-decoration-color: #000080\">INFO    </span> <span style=\"font-weight: bold\">[</span><span style=\"color: #008080; text-decoration-color: #008080; font-weight: bold\">290</span>/<span style=\"color: #008080; text-decoration-color: #008080; font-weight: bold\">380</span><span style=\"font-weight: bold\">]</span> Retrieving game with <span style=\"color: #808000; text-decoration-color: #808000\">id</span>=<span style=\"color: #800080; text-decoration-color: #800080\">ad4a1302</span>                                <a href=\"file:///usr/local/lib/python3.11/dist-packages/soccerdata/fbref.py\" target=\"_blank\"><span style=\"color: #7f7f7f; text-decoration-color: #7f7f7f\">fbref.py</span></a><span style=\"color: #7f7f7f; text-decoration-color: #7f7f7f\">:</span><a href=\"file:///usr/local/lib/python3.11/dist-packages/soccerdata/fbref.py#815\" target=\"_blank\"><span style=\"color: #7f7f7f; text-decoration-color: #7f7f7f\">815</span></a>\n",
              "</pre>\n"
            ]
          },
          "metadata": {}
        },
        {
          "output_type": "display_data",
          "data": {
            "text/plain": [
              "\u001b[2;36m[01/27/25 23:19:56]\u001b[0m\u001b[2;36m \u001b[0m\u001b[34mINFO    \u001b[0m \u001b[1m[\u001b[0m\u001b[1;36m291\u001b[0m/\u001b[1;36m380\u001b[0m\u001b[1m]\u001b[0m Retrieving game with \u001b[33mid\u001b[0m=\u001b[35m6397e2af\u001b[0m                                \u001b]8;id=488641;file:///usr/local/lib/python3.11/dist-packages/soccerdata/fbref.py\u001b\\\u001b[2mfbref.py\u001b[0m\u001b]8;;\u001b\\\u001b[2m:\u001b[0m\u001b]8;id=103567;file:///usr/local/lib/python3.11/dist-packages/soccerdata/fbref.py#815\u001b\\\u001b[2m815\u001b[0m\u001b]8;;\u001b\\\n"
            ],
            "text/html": [
              "<pre style=\"white-space:pre;overflow-x:auto;line-height:normal;font-family:Menlo,'DejaVu Sans Mono',consolas,'Courier New',monospace\"><span style=\"color: #7fbfbf; text-decoration-color: #7fbfbf\">[01/27/25 23:19:56] </span><span style=\"color: #000080; text-decoration-color: #000080\">INFO    </span> <span style=\"font-weight: bold\">[</span><span style=\"color: #008080; text-decoration-color: #008080; font-weight: bold\">291</span>/<span style=\"color: #008080; text-decoration-color: #008080; font-weight: bold\">380</span><span style=\"font-weight: bold\">]</span> Retrieving game with <span style=\"color: #808000; text-decoration-color: #808000\">id</span>=<span style=\"color: #800080; text-decoration-color: #800080\">6397e2af</span>                                <a href=\"file:///usr/local/lib/python3.11/dist-packages/soccerdata/fbref.py\" target=\"_blank\"><span style=\"color: #7f7f7f; text-decoration-color: #7f7f7f\">fbref.py</span></a><span style=\"color: #7f7f7f; text-decoration-color: #7f7f7f\">:</span><a href=\"file:///usr/local/lib/python3.11/dist-packages/soccerdata/fbref.py#815\" target=\"_blank\"><span style=\"color: #7f7f7f; text-decoration-color: #7f7f7f\">815</span></a>\n",
              "</pre>\n"
            ]
          },
          "metadata": {}
        },
        {
          "output_type": "display_data",
          "data": {
            "text/plain": [
              "\u001b[2;36m[01/27/25 23:20:02]\u001b[0m\u001b[2;36m \u001b[0m\u001b[34mINFO    \u001b[0m \u001b[1m[\u001b[0m\u001b[1;36m292\u001b[0m/\u001b[1;36m380\u001b[0m\u001b[1m]\u001b[0m Retrieving game with \u001b[33mid\u001b[0m=\u001b[35mb763b73e\u001b[0m                                \u001b]8;id=52876;file:///usr/local/lib/python3.11/dist-packages/soccerdata/fbref.py\u001b\\\u001b[2mfbref.py\u001b[0m\u001b]8;;\u001b\\\u001b[2m:\u001b[0m\u001b]8;id=80639;file:///usr/local/lib/python3.11/dist-packages/soccerdata/fbref.py#815\u001b\\\u001b[2m815\u001b[0m\u001b]8;;\u001b\\\n"
            ],
            "text/html": [
              "<pre style=\"white-space:pre;overflow-x:auto;line-height:normal;font-family:Menlo,'DejaVu Sans Mono',consolas,'Courier New',monospace\"><span style=\"color: #7fbfbf; text-decoration-color: #7fbfbf\">[01/27/25 23:20:02] </span><span style=\"color: #000080; text-decoration-color: #000080\">INFO    </span> <span style=\"font-weight: bold\">[</span><span style=\"color: #008080; text-decoration-color: #008080; font-weight: bold\">292</span>/<span style=\"color: #008080; text-decoration-color: #008080; font-weight: bold\">380</span><span style=\"font-weight: bold\">]</span> Retrieving game with <span style=\"color: #808000; text-decoration-color: #808000\">id</span>=<span style=\"color: #800080; text-decoration-color: #800080\">b763b73e</span>                                <a href=\"file:///usr/local/lib/python3.11/dist-packages/soccerdata/fbref.py\" target=\"_blank\"><span style=\"color: #7f7f7f; text-decoration-color: #7f7f7f\">fbref.py</span></a><span style=\"color: #7f7f7f; text-decoration-color: #7f7f7f\">:</span><a href=\"file:///usr/local/lib/python3.11/dist-packages/soccerdata/fbref.py#815\" target=\"_blank\"><span style=\"color: #7f7f7f; text-decoration-color: #7f7f7f\">815</span></a>\n",
              "</pre>\n"
            ]
          },
          "metadata": {}
        },
        {
          "output_type": "display_data",
          "data": {
            "text/plain": [
              "\u001b[2;36m[01/27/25 23:20:09]\u001b[0m\u001b[2;36m \u001b[0m\u001b[34mINFO    \u001b[0m \u001b[1m[\u001b[0m\u001b[1;36m293\u001b[0m/\u001b[1;36m380\u001b[0m\u001b[1m]\u001b[0m Retrieving game with \u001b[33mid\u001b[0m=\u001b[35m76b4b194\u001b[0m                                \u001b]8;id=505687;file:///usr/local/lib/python3.11/dist-packages/soccerdata/fbref.py\u001b\\\u001b[2mfbref.py\u001b[0m\u001b]8;;\u001b\\\u001b[2m:\u001b[0m\u001b]8;id=477304;file:///usr/local/lib/python3.11/dist-packages/soccerdata/fbref.py#815\u001b\\\u001b[2m815\u001b[0m\u001b]8;;\u001b\\\n"
            ],
            "text/html": [
              "<pre style=\"white-space:pre;overflow-x:auto;line-height:normal;font-family:Menlo,'DejaVu Sans Mono',consolas,'Courier New',monospace\"><span style=\"color: #7fbfbf; text-decoration-color: #7fbfbf\">[01/27/25 23:20:09] </span><span style=\"color: #000080; text-decoration-color: #000080\">INFO    </span> <span style=\"font-weight: bold\">[</span><span style=\"color: #008080; text-decoration-color: #008080; font-weight: bold\">293</span>/<span style=\"color: #008080; text-decoration-color: #008080; font-weight: bold\">380</span><span style=\"font-weight: bold\">]</span> Retrieving game with <span style=\"color: #808000; text-decoration-color: #808000\">id</span>=<span style=\"color: #800080; text-decoration-color: #800080\">76b4b194</span>                                <a href=\"file:///usr/local/lib/python3.11/dist-packages/soccerdata/fbref.py\" target=\"_blank\"><span style=\"color: #7f7f7f; text-decoration-color: #7f7f7f\">fbref.py</span></a><span style=\"color: #7f7f7f; text-decoration-color: #7f7f7f\">:</span><a href=\"file:///usr/local/lib/python3.11/dist-packages/soccerdata/fbref.py#815\" target=\"_blank\"><span style=\"color: #7f7f7f; text-decoration-color: #7f7f7f\">815</span></a>\n",
              "</pre>\n"
            ]
          },
          "metadata": {}
        },
        {
          "output_type": "display_data",
          "data": {
            "text/plain": [
              "\u001b[2;36m[01/27/25 23:20:15]\u001b[0m\u001b[2;36m \u001b[0m\u001b[34mINFO    \u001b[0m \u001b[1m[\u001b[0m\u001b[1;36m294\u001b[0m/\u001b[1;36m380\u001b[0m\u001b[1m]\u001b[0m Retrieving game with \u001b[33mid\u001b[0m=\u001b[35m1ef36f8d\u001b[0m                                \u001b]8;id=47685;file:///usr/local/lib/python3.11/dist-packages/soccerdata/fbref.py\u001b\\\u001b[2mfbref.py\u001b[0m\u001b]8;;\u001b\\\u001b[2m:\u001b[0m\u001b]8;id=902613;file:///usr/local/lib/python3.11/dist-packages/soccerdata/fbref.py#815\u001b\\\u001b[2m815\u001b[0m\u001b]8;;\u001b\\\n"
            ],
            "text/html": [
              "<pre style=\"white-space:pre;overflow-x:auto;line-height:normal;font-family:Menlo,'DejaVu Sans Mono',consolas,'Courier New',monospace\"><span style=\"color: #7fbfbf; text-decoration-color: #7fbfbf\">[01/27/25 23:20:15] </span><span style=\"color: #000080; text-decoration-color: #000080\">INFO    </span> <span style=\"font-weight: bold\">[</span><span style=\"color: #008080; text-decoration-color: #008080; font-weight: bold\">294</span>/<span style=\"color: #008080; text-decoration-color: #008080; font-weight: bold\">380</span><span style=\"font-weight: bold\">]</span> Retrieving game with <span style=\"color: #808000; text-decoration-color: #808000\">id</span>=<span style=\"color: #800080; text-decoration-color: #800080\">1ef36f8d</span>                                <a href=\"file:///usr/local/lib/python3.11/dist-packages/soccerdata/fbref.py\" target=\"_blank\"><span style=\"color: #7f7f7f; text-decoration-color: #7f7f7f\">fbref.py</span></a><span style=\"color: #7f7f7f; text-decoration-color: #7f7f7f\">:</span><a href=\"file:///usr/local/lib/python3.11/dist-packages/soccerdata/fbref.py#815\" target=\"_blank\"><span style=\"color: #7f7f7f; text-decoration-color: #7f7f7f\">815</span></a>\n",
              "</pre>\n"
            ]
          },
          "metadata": {}
        },
        {
          "output_type": "display_data",
          "data": {
            "text/plain": [
              "\u001b[2;36m[01/27/25 23:20:21]\u001b[0m\u001b[2;36m \u001b[0m\u001b[34mINFO    \u001b[0m \u001b[1m[\u001b[0m\u001b[1;36m295\u001b[0m/\u001b[1;36m380\u001b[0m\u001b[1m]\u001b[0m Retrieving game with \u001b[33mid\u001b[0m=\u001b[35mfeadec6f\u001b[0m                                \u001b]8;id=859224;file:///usr/local/lib/python3.11/dist-packages/soccerdata/fbref.py\u001b\\\u001b[2mfbref.py\u001b[0m\u001b]8;;\u001b\\\u001b[2m:\u001b[0m\u001b]8;id=531008;file:///usr/local/lib/python3.11/dist-packages/soccerdata/fbref.py#815\u001b\\\u001b[2m815\u001b[0m\u001b]8;;\u001b\\\n"
            ],
            "text/html": [
              "<pre style=\"white-space:pre;overflow-x:auto;line-height:normal;font-family:Menlo,'DejaVu Sans Mono',consolas,'Courier New',monospace\"><span style=\"color: #7fbfbf; text-decoration-color: #7fbfbf\">[01/27/25 23:20:21] </span><span style=\"color: #000080; text-decoration-color: #000080\">INFO    </span> <span style=\"font-weight: bold\">[</span><span style=\"color: #008080; text-decoration-color: #008080; font-weight: bold\">295</span>/<span style=\"color: #008080; text-decoration-color: #008080; font-weight: bold\">380</span><span style=\"font-weight: bold\">]</span> Retrieving game with <span style=\"color: #808000; text-decoration-color: #808000\">id</span>=<span style=\"color: #800080; text-decoration-color: #800080\">feadec6f</span>                                <a href=\"file:///usr/local/lib/python3.11/dist-packages/soccerdata/fbref.py\" target=\"_blank\"><span style=\"color: #7f7f7f; text-decoration-color: #7f7f7f\">fbref.py</span></a><span style=\"color: #7f7f7f; text-decoration-color: #7f7f7f\">:</span><a href=\"file:///usr/local/lib/python3.11/dist-packages/soccerdata/fbref.py#815\" target=\"_blank\"><span style=\"color: #7f7f7f; text-decoration-color: #7f7f7f\">815</span></a>\n",
              "</pre>\n"
            ]
          },
          "metadata": {}
        },
        {
          "output_type": "display_data",
          "data": {
            "text/plain": [
              "\u001b[2;36m[01/27/25 23:20:28]\u001b[0m\u001b[2;36m \u001b[0m\u001b[34mINFO    \u001b[0m \u001b[1m[\u001b[0m\u001b[1;36m296\u001b[0m/\u001b[1;36m380\u001b[0m\u001b[1m]\u001b[0m Retrieving game with \u001b[33mid\u001b[0m=\u001b[35m52846bc3\u001b[0m                                \u001b]8;id=887309;file:///usr/local/lib/python3.11/dist-packages/soccerdata/fbref.py\u001b\\\u001b[2mfbref.py\u001b[0m\u001b]8;;\u001b\\\u001b[2m:\u001b[0m\u001b]8;id=581536;file:///usr/local/lib/python3.11/dist-packages/soccerdata/fbref.py#815\u001b\\\u001b[2m815\u001b[0m\u001b]8;;\u001b\\\n"
            ],
            "text/html": [
              "<pre style=\"white-space:pre;overflow-x:auto;line-height:normal;font-family:Menlo,'DejaVu Sans Mono',consolas,'Courier New',monospace\"><span style=\"color: #7fbfbf; text-decoration-color: #7fbfbf\">[01/27/25 23:20:28] </span><span style=\"color: #000080; text-decoration-color: #000080\">INFO    </span> <span style=\"font-weight: bold\">[</span><span style=\"color: #008080; text-decoration-color: #008080; font-weight: bold\">296</span>/<span style=\"color: #008080; text-decoration-color: #008080; font-weight: bold\">380</span><span style=\"font-weight: bold\">]</span> Retrieving game with <span style=\"color: #808000; text-decoration-color: #808000\">id</span>=<span style=\"color: #800080; text-decoration-color: #800080\">52846bc3</span>                                <a href=\"file:///usr/local/lib/python3.11/dist-packages/soccerdata/fbref.py\" target=\"_blank\"><span style=\"color: #7f7f7f; text-decoration-color: #7f7f7f\">fbref.py</span></a><span style=\"color: #7f7f7f; text-decoration-color: #7f7f7f\">:</span><a href=\"file:///usr/local/lib/python3.11/dist-packages/soccerdata/fbref.py#815\" target=\"_blank\"><span style=\"color: #7f7f7f; text-decoration-color: #7f7f7f\">815</span></a>\n",
              "</pre>\n"
            ]
          },
          "metadata": {}
        },
        {
          "output_type": "display_data",
          "data": {
            "text/plain": [
              "\u001b[2;36m[01/27/25 23:20:34]\u001b[0m\u001b[2;36m \u001b[0m\u001b[34mINFO    \u001b[0m \u001b[1m[\u001b[0m\u001b[1;36m297\u001b[0m/\u001b[1;36m380\u001b[0m\u001b[1m]\u001b[0m Retrieving game with \u001b[33mid\u001b[0m=\u001b[1;36m55996670\u001b[0m                                \u001b]8;id=340092;file:///usr/local/lib/python3.11/dist-packages/soccerdata/fbref.py\u001b\\\u001b[2mfbref.py\u001b[0m\u001b]8;;\u001b\\\u001b[2m:\u001b[0m\u001b]8;id=398687;file:///usr/local/lib/python3.11/dist-packages/soccerdata/fbref.py#815\u001b\\\u001b[2m815\u001b[0m\u001b]8;;\u001b\\\n"
            ],
            "text/html": [
              "<pre style=\"white-space:pre;overflow-x:auto;line-height:normal;font-family:Menlo,'DejaVu Sans Mono',consolas,'Courier New',monospace\"><span style=\"color: #7fbfbf; text-decoration-color: #7fbfbf\">[01/27/25 23:20:34] </span><span style=\"color: #000080; text-decoration-color: #000080\">INFO    </span> <span style=\"font-weight: bold\">[</span><span style=\"color: #008080; text-decoration-color: #008080; font-weight: bold\">297</span>/<span style=\"color: #008080; text-decoration-color: #008080; font-weight: bold\">380</span><span style=\"font-weight: bold\">]</span> Retrieving game with <span style=\"color: #808000; text-decoration-color: #808000\">id</span>=<span style=\"color: #008080; text-decoration-color: #008080; font-weight: bold\">55996670</span>                                <a href=\"file:///usr/local/lib/python3.11/dist-packages/soccerdata/fbref.py\" target=\"_blank\"><span style=\"color: #7f7f7f; text-decoration-color: #7f7f7f\">fbref.py</span></a><span style=\"color: #7f7f7f; text-decoration-color: #7f7f7f\">:</span><a href=\"file:///usr/local/lib/python3.11/dist-packages/soccerdata/fbref.py#815\" target=\"_blank\"><span style=\"color: #7f7f7f; text-decoration-color: #7f7f7f\">815</span></a>\n",
              "</pre>\n"
            ]
          },
          "metadata": {}
        },
        {
          "output_type": "display_data",
          "data": {
            "text/plain": [
              "\u001b[2;36m[01/27/25 23:20:40]\u001b[0m\u001b[2;36m \u001b[0m\u001b[34mINFO    \u001b[0m \u001b[1m[\u001b[0m\u001b[1;36m298\u001b[0m/\u001b[1;36m380\u001b[0m\u001b[1m]\u001b[0m Retrieving game with \u001b[33mid\u001b[0m=\u001b[35m2600ff86\u001b[0m                                \u001b]8;id=5716;file:///usr/local/lib/python3.11/dist-packages/soccerdata/fbref.py\u001b\\\u001b[2mfbref.py\u001b[0m\u001b]8;;\u001b\\\u001b[2m:\u001b[0m\u001b]8;id=70034;file:///usr/local/lib/python3.11/dist-packages/soccerdata/fbref.py#815\u001b\\\u001b[2m815\u001b[0m\u001b]8;;\u001b\\\n"
            ],
            "text/html": [
              "<pre style=\"white-space:pre;overflow-x:auto;line-height:normal;font-family:Menlo,'DejaVu Sans Mono',consolas,'Courier New',monospace\"><span style=\"color: #7fbfbf; text-decoration-color: #7fbfbf\">[01/27/25 23:20:40] </span><span style=\"color: #000080; text-decoration-color: #000080\">INFO    </span> <span style=\"font-weight: bold\">[</span><span style=\"color: #008080; text-decoration-color: #008080; font-weight: bold\">298</span>/<span style=\"color: #008080; text-decoration-color: #008080; font-weight: bold\">380</span><span style=\"font-weight: bold\">]</span> Retrieving game with <span style=\"color: #808000; text-decoration-color: #808000\">id</span>=<span style=\"color: #800080; text-decoration-color: #800080\">2600ff86</span>                                <a href=\"file:///usr/local/lib/python3.11/dist-packages/soccerdata/fbref.py\" target=\"_blank\"><span style=\"color: #7f7f7f; text-decoration-color: #7f7f7f\">fbref.py</span></a><span style=\"color: #7f7f7f; text-decoration-color: #7f7f7f\">:</span><a href=\"file:///usr/local/lib/python3.11/dist-packages/soccerdata/fbref.py#815\" target=\"_blank\"><span style=\"color: #7f7f7f; text-decoration-color: #7f7f7f\">815</span></a>\n",
              "</pre>\n"
            ]
          },
          "metadata": {}
        },
        {
          "output_type": "display_data",
          "data": {
            "text/plain": [
              "\u001b[2;36m[01/27/25 23:20:47]\u001b[0m\u001b[2;36m \u001b[0m\u001b[34mINFO    \u001b[0m \u001b[1m[\u001b[0m\u001b[1;36m299\u001b[0m/\u001b[1;36m380\u001b[0m\u001b[1m]\u001b[0m Retrieving game with \u001b[33mid\u001b[0m=\u001b[35m77d7e2d6\u001b[0m                                \u001b]8;id=67761;file:///usr/local/lib/python3.11/dist-packages/soccerdata/fbref.py\u001b\\\u001b[2mfbref.py\u001b[0m\u001b]8;;\u001b\\\u001b[2m:\u001b[0m\u001b]8;id=399914;file:///usr/local/lib/python3.11/dist-packages/soccerdata/fbref.py#815\u001b\\\u001b[2m815\u001b[0m\u001b]8;;\u001b\\\n"
            ],
            "text/html": [
              "<pre style=\"white-space:pre;overflow-x:auto;line-height:normal;font-family:Menlo,'DejaVu Sans Mono',consolas,'Courier New',monospace\"><span style=\"color: #7fbfbf; text-decoration-color: #7fbfbf\">[01/27/25 23:20:47] </span><span style=\"color: #000080; text-decoration-color: #000080\">INFO    </span> <span style=\"font-weight: bold\">[</span><span style=\"color: #008080; text-decoration-color: #008080; font-weight: bold\">299</span>/<span style=\"color: #008080; text-decoration-color: #008080; font-weight: bold\">380</span><span style=\"font-weight: bold\">]</span> Retrieving game with <span style=\"color: #808000; text-decoration-color: #808000\">id</span>=<span style=\"color: #800080; text-decoration-color: #800080\">77d7e2d6</span>                                <a href=\"file:///usr/local/lib/python3.11/dist-packages/soccerdata/fbref.py\" target=\"_blank\"><span style=\"color: #7f7f7f; text-decoration-color: #7f7f7f\">fbref.py</span></a><span style=\"color: #7f7f7f; text-decoration-color: #7f7f7f\">:</span><a href=\"file:///usr/local/lib/python3.11/dist-packages/soccerdata/fbref.py#815\" target=\"_blank\"><span style=\"color: #7f7f7f; text-decoration-color: #7f7f7f\">815</span></a>\n",
              "</pre>\n"
            ]
          },
          "metadata": {}
        },
        {
          "output_type": "display_data",
          "data": {
            "text/plain": [
              "\u001b[2;36m[01/27/25 23:20:53]\u001b[0m\u001b[2;36m \u001b[0m\u001b[34mINFO    \u001b[0m \u001b[1m[\u001b[0m\u001b[1;36m300\u001b[0m/\u001b[1;36m380\u001b[0m\u001b[1m]\u001b[0m Retrieving game with \u001b[33mid\u001b[0m=\u001b[35m8ec55f05\u001b[0m                                \u001b]8;id=794642;file:///usr/local/lib/python3.11/dist-packages/soccerdata/fbref.py\u001b\\\u001b[2mfbref.py\u001b[0m\u001b]8;;\u001b\\\u001b[2m:\u001b[0m\u001b]8;id=703595;file:///usr/local/lib/python3.11/dist-packages/soccerdata/fbref.py#815\u001b\\\u001b[2m815\u001b[0m\u001b]8;;\u001b\\\n"
            ],
            "text/html": [
              "<pre style=\"white-space:pre;overflow-x:auto;line-height:normal;font-family:Menlo,'DejaVu Sans Mono',consolas,'Courier New',monospace\"><span style=\"color: #7fbfbf; text-decoration-color: #7fbfbf\">[01/27/25 23:20:53] </span><span style=\"color: #000080; text-decoration-color: #000080\">INFO    </span> <span style=\"font-weight: bold\">[</span><span style=\"color: #008080; text-decoration-color: #008080; font-weight: bold\">300</span>/<span style=\"color: #008080; text-decoration-color: #008080; font-weight: bold\">380</span><span style=\"font-weight: bold\">]</span> Retrieving game with <span style=\"color: #808000; text-decoration-color: #808000\">id</span>=<span style=\"color: #800080; text-decoration-color: #800080\">8ec55f05</span>                                <a href=\"file:///usr/local/lib/python3.11/dist-packages/soccerdata/fbref.py\" target=\"_blank\"><span style=\"color: #7f7f7f; text-decoration-color: #7f7f7f\">fbref.py</span></a><span style=\"color: #7f7f7f; text-decoration-color: #7f7f7f\">:</span><a href=\"file:///usr/local/lib/python3.11/dist-packages/soccerdata/fbref.py#815\" target=\"_blank\"><span style=\"color: #7f7f7f; text-decoration-color: #7f7f7f\">815</span></a>\n",
              "</pre>\n"
            ]
          },
          "metadata": {}
        },
        {
          "output_type": "display_data",
          "data": {
            "text/plain": [
              "\u001b[2;36m[01/27/25 23:20:59]\u001b[0m\u001b[2;36m \u001b[0m\u001b[34mINFO    \u001b[0m \u001b[1m[\u001b[0m\u001b[1;36m301\u001b[0m/\u001b[1;36m380\u001b[0m\u001b[1m]\u001b[0m Retrieving game with \u001b[33mid\u001b[0m=\u001b[35mae3ba8e8\u001b[0m                                \u001b]8;id=701709;file:///usr/local/lib/python3.11/dist-packages/soccerdata/fbref.py\u001b\\\u001b[2mfbref.py\u001b[0m\u001b]8;;\u001b\\\u001b[2m:\u001b[0m\u001b]8;id=108205;file:///usr/local/lib/python3.11/dist-packages/soccerdata/fbref.py#815\u001b\\\u001b[2m815\u001b[0m\u001b]8;;\u001b\\\n"
            ],
            "text/html": [
              "<pre style=\"white-space:pre;overflow-x:auto;line-height:normal;font-family:Menlo,'DejaVu Sans Mono',consolas,'Courier New',monospace\"><span style=\"color: #7fbfbf; text-decoration-color: #7fbfbf\">[01/27/25 23:20:59] </span><span style=\"color: #000080; text-decoration-color: #000080\">INFO    </span> <span style=\"font-weight: bold\">[</span><span style=\"color: #008080; text-decoration-color: #008080; font-weight: bold\">301</span>/<span style=\"color: #008080; text-decoration-color: #008080; font-weight: bold\">380</span><span style=\"font-weight: bold\">]</span> Retrieving game with <span style=\"color: #808000; text-decoration-color: #808000\">id</span>=<span style=\"color: #800080; text-decoration-color: #800080\">ae3ba8e8</span>                                <a href=\"file:///usr/local/lib/python3.11/dist-packages/soccerdata/fbref.py\" target=\"_blank\"><span style=\"color: #7f7f7f; text-decoration-color: #7f7f7f\">fbref.py</span></a><span style=\"color: #7f7f7f; text-decoration-color: #7f7f7f\">:</span><a href=\"file:///usr/local/lib/python3.11/dist-packages/soccerdata/fbref.py#815\" target=\"_blank\"><span style=\"color: #7f7f7f; text-decoration-color: #7f7f7f\">815</span></a>\n",
              "</pre>\n"
            ]
          },
          "metadata": {}
        },
        {
          "output_type": "display_data",
          "data": {
            "text/plain": [
              "\u001b[2;36m[01/27/25 23:21:06]\u001b[0m\u001b[2;36m \u001b[0m\u001b[34mINFO    \u001b[0m \u001b[1m[\u001b[0m\u001b[1;36m302\u001b[0m/\u001b[1;36m380\u001b[0m\u001b[1m]\u001b[0m Retrieving game with \u001b[33mid\u001b[0m=\u001b[35mc6079c2f\u001b[0m                                \u001b]8;id=853121;file:///usr/local/lib/python3.11/dist-packages/soccerdata/fbref.py\u001b\\\u001b[2mfbref.py\u001b[0m\u001b]8;;\u001b\\\u001b[2m:\u001b[0m\u001b]8;id=616407;file:///usr/local/lib/python3.11/dist-packages/soccerdata/fbref.py#815\u001b\\\u001b[2m815\u001b[0m\u001b]8;;\u001b\\\n"
            ],
            "text/html": [
              "<pre style=\"white-space:pre;overflow-x:auto;line-height:normal;font-family:Menlo,'DejaVu Sans Mono',consolas,'Courier New',monospace\"><span style=\"color: #7fbfbf; text-decoration-color: #7fbfbf\">[01/27/25 23:21:06] </span><span style=\"color: #000080; text-decoration-color: #000080\">INFO    </span> <span style=\"font-weight: bold\">[</span><span style=\"color: #008080; text-decoration-color: #008080; font-weight: bold\">302</span>/<span style=\"color: #008080; text-decoration-color: #008080; font-weight: bold\">380</span><span style=\"font-weight: bold\">]</span> Retrieving game with <span style=\"color: #808000; text-decoration-color: #808000\">id</span>=<span style=\"color: #800080; text-decoration-color: #800080\">c6079c2f</span>                                <a href=\"file:///usr/local/lib/python3.11/dist-packages/soccerdata/fbref.py\" target=\"_blank\"><span style=\"color: #7f7f7f; text-decoration-color: #7f7f7f\">fbref.py</span></a><span style=\"color: #7f7f7f; text-decoration-color: #7f7f7f\">:</span><a href=\"file:///usr/local/lib/python3.11/dist-packages/soccerdata/fbref.py#815\" target=\"_blank\"><span style=\"color: #7f7f7f; text-decoration-color: #7f7f7f\">815</span></a>\n",
              "</pre>\n"
            ]
          },
          "metadata": {}
        },
        {
          "output_type": "display_data",
          "data": {
            "text/plain": [
              "\u001b[2;36m[01/27/25 23:21:12]\u001b[0m\u001b[2;36m \u001b[0m\u001b[34mINFO    \u001b[0m \u001b[1m[\u001b[0m\u001b[1;36m303\u001b[0m/\u001b[1;36m380\u001b[0m\u001b[1m]\u001b[0m Retrieving game with \u001b[33mid\u001b[0m=\u001b[35m1f5973e2\u001b[0m                                \u001b]8;id=773196;file:///usr/local/lib/python3.11/dist-packages/soccerdata/fbref.py\u001b\\\u001b[2mfbref.py\u001b[0m\u001b]8;;\u001b\\\u001b[2m:\u001b[0m\u001b]8;id=843947;file:///usr/local/lib/python3.11/dist-packages/soccerdata/fbref.py#815\u001b\\\u001b[2m815\u001b[0m\u001b]8;;\u001b\\\n"
            ],
            "text/html": [
              "<pre style=\"white-space:pre;overflow-x:auto;line-height:normal;font-family:Menlo,'DejaVu Sans Mono',consolas,'Courier New',monospace\"><span style=\"color: #7fbfbf; text-decoration-color: #7fbfbf\">[01/27/25 23:21:12] </span><span style=\"color: #000080; text-decoration-color: #000080\">INFO    </span> <span style=\"font-weight: bold\">[</span><span style=\"color: #008080; text-decoration-color: #008080; font-weight: bold\">303</span>/<span style=\"color: #008080; text-decoration-color: #008080; font-weight: bold\">380</span><span style=\"font-weight: bold\">]</span> Retrieving game with <span style=\"color: #808000; text-decoration-color: #808000\">id</span>=<span style=\"color: #800080; text-decoration-color: #800080\">1f5973e2</span>                                <a href=\"file:///usr/local/lib/python3.11/dist-packages/soccerdata/fbref.py\" target=\"_blank\"><span style=\"color: #7f7f7f; text-decoration-color: #7f7f7f\">fbref.py</span></a><span style=\"color: #7f7f7f; text-decoration-color: #7f7f7f\">:</span><a href=\"file:///usr/local/lib/python3.11/dist-packages/soccerdata/fbref.py#815\" target=\"_blank\"><span style=\"color: #7f7f7f; text-decoration-color: #7f7f7f\">815</span></a>\n",
              "</pre>\n"
            ]
          },
          "metadata": {}
        },
        {
          "output_type": "display_data",
          "data": {
            "text/plain": [
              "\u001b[2;36m[01/27/25 23:21:18]\u001b[0m\u001b[2;36m \u001b[0m\u001b[34mINFO    \u001b[0m \u001b[1m[\u001b[0m\u001b[1;36m304\u001b[0m/\u001b[1;36m380\u001b[0m\u001b[1m]\u001b[0m Retrieving game with \u001b[33mid\u001b[0m=\u001b[35me8f307a3\u001b[0m                                \u001b]8;id=264451;file:///usr/local/lib/python3.11/dist-packages/soccerdata/fbref.py\u001b\\\u001b[2mfbref.py\u001b[0m\u001b]8;;\u001b\\\u001b[2m:\u001b[0m\u001b]8;id=753119;file:///usr/local/lib/python3.11/dist-packages/soccerdata/fbref.py#815\u001b\\\u001b[2m815\u001b[0m\u001b]8;;\u001b\\\n"
            ],
            "text/html": [
              "<pre style=\"white-space:pre;overflow-x:auto;line-height:normal;font-family:Menlo,'DejaVu Sans Mono',consolas,'Courier New',monospace\"><span style=\"color: #7fbfbf; text-decoration-color: #7fbfbf\">[01/27/25 23:21:18] </span><span style=\"color: #000080; text-decoration-color: #000080\">INFO    </span> <span style=\"font-weight: bold\">[</span><span style=\"color: #008080; text-decoration-color: #008080; font-weight: bold\">304</span>/<span style=\"color: #008080; text-decoration-color: #008080; font-weight: bold\">380</span><span style=\"font-weight: bold\">]</span> Retrieving game with <span style=\"color: #808000; text-decoration-color: #808000\">id</span>=<span style=\"color: #800080; text-decoration-color: #800080\">e8f307a3</span>                                <a href=\"file:///usr/local/lib/python3.11/dist-packages/soccerdata/fbref.py\" target=\"_blank\"><span style=\"color: #7f7f7f; text-decoration-color: #7f7f7f\">fbref.py</span></a><span style=\"color: #7f7f7f; text-decoration-color: #7f7f7f\">:</span><a href=\"file:///usr/local/lib/python3.11/dist-packages/soccerdata/fbref.py#815\" target=\"_blank\"><span style=\"color: #7f7f7f; text-decoration-color: #7f7f7f\">815</span></a>\n",
              "</pre>\n"
            ]
          },
          "metadata": {}
        },
        {
          "output_type": "display_data",
          "data": {
            "text/plain": [
              "\u001b[2;36m[01/27/25 23:21:25]\u001b[0m\u001b[2;36m \u001b[0m\u001b[34mINFO    \u001b[0m \u001b[1m[\u001b[0m\u001b[1;36m305\u001b[0m/\u001b[1;36m380\u001b[0m\u001b[1m]\u001b[0m Retrieving game with \u001b[33mid\u001b[0m=\u001b[35m2047cc32\u001b[0m                                \u001b]8;id=404508;file:///usr/local/lib/python3.11/dist-packages/soccerdata/fbref.py\u001b\\\u001b[2mfbref.py\u001b[0m\u001b]8;;\u001b\\\u001b[2m:\u001b[0m\u001b]8;id=868172;file:///usr/local/lib/python3.11/dist-packages/soccerdata/fbref.py#815\u001b\\\u001b[2m815\u001b[0m\u001b]8;;\u001b\\\n"
            ],
            "text/html": [
              "<pre style=\"white-space:pre;overflow-x:auto;line-height:normal;font-family:Menlo,'DejaVu Sans Mono',consolas,'Courier New',monospace\"><span style=\"color: #7fbfbf; text-decoration-color: #7fbfbf\">[01/27/25 23:21:25] </span><span style=\"color: #000080; text-decoration-color: #000080\">INFO    </span> <span style=\"font-weight: bold\">[</span><span style=\"color: #008080; text-decoration-color: #008080; font-weight: bold\">305</span>/<span style=\"color: #008080; text-decoration-color: #008080; font-weight: bold\">380</span><span style=\"font-weight: bold\">]</span> Retrieving game with <span style=\"color: #808000; text-decoration-color: #808000\">id</span>=<span style=\"color: #800080; text-decoration-color: #800080\">2047cc32</span>                                <a href=\"file:///usr/local/lib/python3.11/dist-packages/soccerdata/fbref.py\" target=\"_blank\"><span style=\"color: #7f7f7f; text-decoration-color: #7f7f7f\">fbref.py</span></a><span style=\"color: #7f7f7f; text-decoration-color: #7f7f7f\">:</span><a href=\"file:///usr/local/lib/python3.11/dist-packages/soccerdata/fbref.py#815\" target=\"_blank\"><span style=\"color: #7f7f7f; text-decoration-color: #7f7f7f\">815</span></a>\n",
              "</pre>\n"
            ]
          },
          "metadata": {}
        },
        {
          "output_type": "display_data",
          "data": {
            "text/plain": [
              "\u001b[2;36m[01/27/25 23:21:31]\u001b[0m\u001b[2;36m \u001b[0m\u001b[34mINFO    \u001b[0m \u001b[1m[\u001b[0m\u001b[1;36m306\u001b[0m/\u001b[1;36m380\u001b[0m\u001b[1m]\u001b[0m Retrieving game with \u001b[33mid\u001b[0m=\u001b[35mfca82852\u001b[0m                                \u001b]8;id=322734;file:///usr/local/lib/python3.11/dist-packages/soccerdata/fbref.py\u001b\\\u001b[2mfbref.py\u001b[0m\u001b]8;;\u001b\\\u001b[2m:\u001b[0m\u001b]8;id=336148;file:///usr/local/lib/python3.11/dist-packages/soccerdata/fbref.py#815\u001b\\\u001b[2m815\u001b[0m\u001b]8;;\u001b\\\n"
            ],
            "text/html": [
              "<pre style=\"white-space:pre;overflow-x:auto;line-height:normal;font-family:Menlo,'DejaVu Sans Mono',consolas,'Courier New',monospace\"><span style=\"color: #7fbfbf; text-decoration-color: #7fbfbf\">[01/27/25 23:21:31] </span><span style=\"color: #000080; text-decoration-color: #000080\">INFO    </span> <span style=\"font-weight: bold\">[</span><span style=\"color: #008080; text-decoration-color: #008080; font-weight: bold\">306</span>/<span style=\"color: #008080; text-decoration-color: #008080; font-weight: bold\">380</span><span style=\"font-weight: bold\">]</span> Retrieving game with <span style=\"color: #808000; text-decoration-color: #808000\">id</span>=<span style=\"color: #800080; text-decoration-color: #800080\">fca82852</span>                                <a href=\"file:///usr/local/lib/python3.11/dist-packages/soccerdata/fbref.py\" target=\"_blank\"><span style=\"color: #7f7f7f; text-decoration-color: #7f7f7f\">fbref.py</span></a><span style=\"color: #7f7f7f; text-decoration-color: #7f7f7f\">:</span><a href=\"file:///usr/local/lib/python3.11/dist-packages/soccerdata/fbref.py#815\" target=\"_blank\"><span style=\"color: #7f7f7f; text-decoration-color: #7f7f7f\">815</span></a>\n",
              "</pre>\n"
            ]
          },
          "metadata": {}
        },
        {
          "output_type": "display_data",
          "data": {
            "text/plain": [
              "\u001b[2;36m[01/27/25 23:21:37]\u001b[0m\u001b[2;36m \u001b[0m\u001b[34mINFO    \u001b[0m \u001b[1m[\u001b[0m\u001b[1;36m307\u001b[0m/\u001b[1;36m380\u001b[0m\u001b[1m]\u001b[0m Retrieving game with \u001b[33mid\u001b[0m=\u001b[35mcc7efb48\u001b[0m                                \u001b]8;id=67955;file:///usr/local/lib/python3.11/dist-packages/soccerdata/fbref.py\u001b\\\u001b[2mfbref.py\u001b[0m\u001b]8;;\u001b\\\u001b[2m:\u001b[0m\u001b]8;id=551753;file:///usr/local/lib/python3.11/dist-packages/soccerdata/fbref.py#815\u001b\\\u001b[2m815\u001b[0m\u001b]8;;\u001b\\\n"
            ],
            "text/html": [
              "<pre style=\"white-space:pre;overflow-x:auto;line-height:normal;font-family:Menlo,'DejaVu Sans Mono',consolas,'Courier New',monospace\"><span style=\"color: #7fbfbf; text-decoration-color: #7fbfbf\">[01/27/25 23:21:37] </span><span style=\"color: #000080; text-decoration-color: #000080\">INFO    </span> <span style=\"font-weight: bold\">[</span><span style=\"color: #008080; text-decoration-color: #008080; font-weight: bold\">307</span>/<span style=\"color: #008080; text-decoration-color: #008080; font-weight: bold\">380</span><span style=\"font-weight: bold\">]</span> Retrieving game with <span style=\"color: #808000; text-decoration-color: #808000\">id</span>=<span style=\"color: #800080; text-decoration-color: #800080\">cc7efb48</span>                                <a href=\"file:///usr/local/lib/python3.11/dist-packages/soccerdata/fbref.py\" target=\"_blank\"><span style=\"color: #7f7f7f; text-decoration-color: #7f7f7f\">fbref.py</span></a><span style=\"color: #7f7f7f; text-decoration-color: #7f7f7f\">:</span><a href=\"file:///usr/local/lib/python3.11/dist-packages/soccerdata/fbref.py#815\" target=\"_blank\"><span style=\"color: #7f7f7f; text-decoration-color: #7f7f7f\">815</span></a>\n",
              "</pre>\n"
            ]
          },
          "metadata": {}
        },
        {
          "output_type": "display_data",
          "data": {
            "text/plain": [
              "\u001b[2;36m[01/27/25 23:21:44]\u001b[0m\u001b[2;36m \u001b[0m\u001b[34mINFO    \u001b[0m \u001b[1m[\u001b[0m\u001b[1;36m308\u001b[0m/\u001b[1;36m380\u001b[0m\u001b[1m]\u001b[0m Retrieving game with \u001b[33mid\u001b[0m=\u001b[35ma9d2819f\u001b[0m                                \u001b]8;id=635117;file:///usr/local/lib/python3.11/dist-packages/soccerdata/fbref.py\u001b\\\u001b[2mfbref.py\u001b[0m\u001b]8;;\u001b\\\u001b[2m:\u001b[0m\u001b]8;id=331768;file:///usr/local/lib/python3.11/dist-packages/soccerdata/fbref.py#815\u001b\\\u001b[2m815\u001b[0m\u001b]8;;\u001b\\\n"
            ],
            "text/html": [
              "<pre style=\"white-space:pre;overflow-x:auto;line-height:normal;font-family:Menlo,'DejaVu Sans Mono',consolas,'Courier New',monospace\"><span style=\"color: #7fbfbf; text-decoration-color: #7fbfbf\">[01/27/25 23:21:44] </span><span style=\"color: #000080; text-decoration-color: #000080\">INFO    </span> <span style=\"font-weight: bold\">[</span><span style=\"color: #008080; text-decoration-color: #008080; font-weight: bold\">308</span>/<span style=\"color: #008080; text-decoration-color: #008080; font-weight: bold\">380</span><span style=\"font-weight: bold\">]</span> Retrieving game with <span style=\"color: #808000; text-decoration-color: #808000\">id</span>=<span style=\"color: #800080; text-decoration-color: #800080\">a9d2819f</span>                                <a href=\"file:///usr/local/lib/python3.11/dist-packages/soccerdata/fbref.py\" target=\"_blank\"><span style=\"color: #7f7f7f; text-decoration-color: #7f7f7f\">fbref.py</span></a><span style=\"color: #7f7f7f; text-decoration-color: #7f7f7f\">:</span><a href=\"file:///usr/local/lib/python3.11/dist-packages/soccerdata/fbref.py#815\" target=\"_blank\"><span style=\"color: #7f7f7f; text-decoration-color: #7f7f7f\">815</span></a>\n",
              "</pre>\n"
            ]
          },
          "metadata": {}
        },
        {
          "output_type": "display_data",
          "data": {
            "text/plain": [
              "\u001b[2;36m[01/27/25 23:21:50]\u001b[0m\u001b[2;36m \u001b[0m\u001b[34mINFO    \u001b[0m \u001b[1m[\u001b[0m\u001b[1;36m309\u001b[0m/\u001b[1;36m380\u001b[0m\u001b[1m]\u001b[0m Retrieving game with \u001b[33mid\u001b[0m=\u001b[35m08114c35\u001b[0m                                \u001b]8;id=454723;file:///usr/local/lib/python3.11/dist-packages/soccerdata/fbref.py\u001b\\\u001b[2mfbref.py\u001b[0m\u001b]8;;\u001b\\\u001b[2m:\u001b[0m\u001b]8;id=710386;file:///usr/local/lib/python3.11/dist-packages/soccerdata/fbref.py#815\u001b\\\u001b[2m815\u001b[0m\u001b]8;;\u001b\\\n"
            ],
            "text/html": [
              "<pre style=\"white-space:pre;overflow-x:auto;line-height:normal;font-family:Menlo,'DejaVu Sans Mono',consolas,'Courier New',monospace\"><span style=\"color: #7fbfbf; text-decoration-color: #7fbfbf\">[01/27/25 23:21:50] </span><span style=\"color: #000080; text-decoration-color: #000080\">INFO    </span> <span style=\"font-weight: bold\">[</span><span style=\"color: #008080; text-decoration-color: #008080; font-weight: bold\">309</span>/<span style=\"color: #008080; text-decoration-color: #008080; font-weight: bold\">380</span><span style=\"font-weight: bold\">]</span> Retrieving game with <span style=\"color: #808000; text-decoration-color: #808000\">id</span>=<span style=\"color: #800080; text-decoration-color: #800080\">08114c35</span>                                <a href=\"file:///usr/local/lib/python3.11/dist-packages/soccerdata/fbref.py\" target=\"_blank\"><span style=\"color: #7f7f7f; text-decoration-color: #7f7f7f\">fbref.py</span></a><span style=\"color: #7f7f7f; text-decoration-color: #7f7f7f\">:</span><a href=\"file:///usr/local/lib/python3.11/dist-packages/soccerdata/fbref.py#815\" target=\"_blank\"><span style=\"color: #7f7f7f; text-decoration-color: #7f7f7f\">815</span></a>\n",
              "</pre>\n"
            ]
          },
          "metadata": {}
        },
        {
          "output_type": "display_data",
          "data": {
            "text/plain": [
              "\u001b[2;36m[01/27/25 23:21:56]\u001b[0m\u001b[2;36m \u001b[0m\u001b[34mINFO    \u001b[0m \u001b[1m[\u001b[0m\u001b[1;36m310\u001b[0m/\u001b[1;36m380\u001b[0m\u001b[1m]\u001b[0m Retrieving game with \u001b[33mid\u001b[0m=\u001b[35m4f0b227b\u001b[0m                                \u001b]8;id=322081;file:///usr/local/lib/python3.11/dist-packages/soccerdata/fbref.py\u001b\\\u001b[2mfbref.py\u001b[0m\u001b]8;;\u001b\\\u001b[2m:\u001b[0m\u001b]8;id=114178;file:///usr/local/lib/python3.11/dist-packages/soccerdata/fbref.py#815\u001b\\\u001b[2m815\u001b[0m\u001b]8;;\u001b\\\n"
            ],
            "text/html": [
              "<pre style=\"white-space:pre;overflow-x:auto;line-height:normal;font-family:Menlo,'DejaVu Sans Mono',consolas,'Courier New',monospace\"><span style=\"color: #7fbfbf; text-decoration-color: #7fbfbf\">[01/27/25 23:21:56] </span><span style=\"color: #000080; text-decoration-color: #000080\">INFO    </span> <span style=\"font-weight: bold\">[</span><span style=\"color: #008080; text-decoration-color: #008080; font-weight: bold\">310</span>/<span style=\"color: #008080; text-decoration-color: #008080; font-weight: bold\">380</span><span style=\"font-weight: bold\">]</span> Retrieving game with <span style=\"color: #808000; text-decoration-color: #808000\">id</span>=<span style=\"color: #800080; text-decoration-color: #800080\">4f0b227b</span>                                <a href=\"file:///usr/local/lib/python3.11/dist-packages/soccerdata/fbref.py\" target=\"_blank\"><span style=\"color: #7f7f7f; text-decoration-color: #7f7f7f\">fbref.py</span></a><span style=\"color: #7f7f7f; text-decoration-color: #7f7f7f\">:</span><a href=\"file:///usr/local/lib/python3.11/dist-packages/soccerdata/fbref.py#815\" target=\"_blank\"><span style=\"color: #7f7f7f; text-decoration-color: #7f7f7f\">815</span></a>\n",
              "</pre>\n"
            ]
          },
          "metadata": {}
        },
        {
          "output_type": "display_data",
          "data": {
            "text/plain": [
              "\u001b[2;36m[01/27/25 23:22:03]\u001b[0m\u001b[2;36m \u001b[0m\u001b[34mINFO    \u001b[0m \u001b[1m[\u001b[0m\u001b[1;36m311\u001b[0m/\u001b[1;36m380\u001b[0m\u001b[1m]\u001b[0m Retrieving game with \u001b[33mid\u001b[0m=\u001b[35md57ffe1a\u001b[0m                                \u001b]8;id=305830;file:///usr/local/lib/python3.11/dist-packages/soccerdata/fbref.py\u001b\\\u001b[2mfbref.py\u001b[0m\u001b]8;;\u001b\\\u001b[2m:\u001b[0m\u001b]8;id=388495;file:///usr/local/lib/python3.11/dist-packages/soccerdata/fbref.py#815\u001b\\\u001b[2m815\u001b[0m\u001b]8;;\u001b\\\n"
            ],
            "text/html": [
              "<pre style=\"white-space:pre;overflow-x:auto;line-height:normal;font-family:Menlo,'DejaVu Sans Mono',consolas,'Courier New',monospace\"><span style=\"color: #7fbfbf; text-decoration-color: #7fbfbf\">[01/27/25 23:22:03] </span><span style=\"color: #000080; text-decoration-color: #000080\">INFO    </span> <span style=\"font-weight: bold\">[</span><span style=\"color: #008080; text-decoration-color: #008080; font-weight: bold\">311</span>/<span style=\"color: #008080; text-decoration-color: #008080; font-weight: bold\">380</span><span style=\"font-weight: bold\">]</span> Retrieving game with <span style=\"color: #808000; text-decoration-color: #808000\">id</span>=<span style=\"color: #800080; text-decoration-color: #800080\">d57ffe1a</span>                                <a href=\"file:///usr/local/lib/python3.11/dist-packages/soccerdata/fbref.py\" target=\"_blank\"><span style=\"color: #7f7f7f; text-decoration-color: #7f7f7f\">fbref.py</span></a><span style=\"color: #7f7f7f; text-decoration-color: #7f7f7f\">:</span><a href=\"file:///usr/local/lib/python3.11/dist-packages/soccerdata/fbref.py#815\" target=\"_blank\"><span style=\"color: #7f7f7f; text-decoration-color: #7f7f7f\">815</span></a>\n",
              "</pre>\n"
            ]
          },
          "metadata": {}
        },
        {
          "output_type": "display_data",
          "data": {
            "text/plain": [
              "\u001b[2;36m[01/27/25 23:22:09]\u001b[0m\u001b[2;36m \u001b[0m\u001b[34mINFO    \u001b[0m \u001b[1m[\u001b[0m\u001b[1;36m312\u001b[0m/\u001b[1;36m380\u001b[0m\u001b[1m]\u001b[0m Retrieving game with \u001b[33mid\u001b[0m=\u001b[35md3850c26\u001b[0m                                \u001b]8;id=455292;file:///usr/local/lib/python3.11/dist-packages/soccerdata/fbref.py\u001b\\\u001b[2mfbref.py\u001b[0m\u001b]8;;\u001b\\\u001b[2m:\u001b[0m\u001b]8;id=133549;file:///usr/local/lib/python3.11/dist-packages/soccerdata/fbref.py#815\u001b\\\u001b[2m815\u001b[0m\u001b]8;;\u001b\\\n"
            ],
            "text/html": [
              "<pre style=\"white-space:pre;overflow-x:auto;line-height:normal;font-family:Menlo,'DejaVu Sans Mono',consolas,'Courier New',monospace\"><span style=\"color: #7fbfbf; text-decoration-color: #7fbfbf\">[01/27/25 23:22:09] </span><span style=\"color: #000080; text-decoration-color: #000080\">INFO    </span> <span style=\"font-weight: bold\">[</span><span style=\"color: #008080; text-decoration-color: #008080; font-weight: bold\">312</span>/<span style=\"color: #008080; text-decoration-color: #008080; font-weight: bold\">380</span><span style=\"font-weight: bold\">]</span> Retrieving game with <span style=\"color: #808000; text-decoration-color: #808000\">id</span>=<span style=\"color: #800080; text-decoration-color: #800080\">d3850c26</span>                                <a href=\"file:///usr/local/lib/python3.11/dist-packages/soccerdata/fbref.py\" target=\"_blank\"><span style=\"color: #7f7f7f; text-decoration-color: #7f7f7f\">fbref.py</span></a><span style=\"color: #7f7f7f; text-decoration-color: #7f7f7f\">:</span><a href=\"file:///usr/local/lib/python3.11/dist-packages/soccerdata/fbref.py#815\" target=\"_blank\"><span style=\"color: #7f7f7f; text-decoration-color: #7f7f7f\">815</span></a>\n",
              "</pre>\n"
            ]
          },
          "metadata": {}
        },
        {
          "output_type": "display_data",
          "data": {
            "text/plain": [
              "\u001b[2;36m[01/27/25 23:22:15]\u001b[0m\u001b[2;36m \u001b[0m\u001b[34mINFO    \u001b[0m \u001b[1m[\u001b[0m\u001b[1;36m313\u001b[0m/\u001b[1;36m380\u001b[0m\u001b[1m]\u001b[0m Retrieving game with \u001b[33mid\u001b[0m=\u001b[35m7598049f\u001b[0m                                \u001b]8;id=66972;file:///usr/local/lib/python3.11/dist-packages/soccerdata/fbref.py\u001b\\\u001b[2mfbref.py\u001b[0m\u001b]8;;\u001b\\\u001b[2m:\u001b[0m\u001b]8;id=744967;file:///usr/local/lib/python3.11/dist-packages/soccerdata/fbref.py#815\u001b\\\u001b[2m815\u001b[0m\u001b]8;;\u001b\\\n"
            ],
            "text/html": [
              "<pre style=\"white-space:pre;overflow-x:auto;line-height:normal;font-family:Menlo,'DejaVu Sans Mono',consolas,'Courier New',monospace\"><span style=\"color: #7fbfbf; text-decoration-color: #7fbfbf\">[01/27/25 23:22:15] </span><span style=\"color: #000080; text-decoration-color: #000080\">INFO    </span> <span style=\"font-weight: bold\">[</span><span style=\"color: #008080; text-decoration-color: #008080; font-weight: bold\">313</span>/<span style=\"color: #008080; text-decoration-color: #008080; font-weight: bold\">380</span><span style=\"font-weight: bold\">]</span> Retrieving game with <span style=\"color: #808000; text-decoration-color: #808000\">id</span>=<span style=\"color: #800080; text-decoration-color: #800080\">7598049f</span>                                <a href=\"file:///usr/local/lib/python3.11/dist-packages/soccerdata/fbref.py\" target=\"_blank\"><span style=\"color: #7f7f7f; text-decoration-color: #7f7f7f\">fbref.py</span></a><span style=\"color: #7f7f7f; text-decoration-color: #7f7f7f\">:</span><a href=\"file:///usr/local/lib/python3.11/dist-packages/soccerdata/fbref.py#815\" target=\"_blank\"><span style=\"color: #7f7f7f; text-decoration-color: #7f7f7f\">815</span></a>\n",
              "</pre>\n"
            ]
          },
          "metadata": {}
        },
        {
          "output_type": "display_data",
          "data": {
            "text/plain": [
              "\u001b[2;36m[01/27/25 23:22:22]\u001b[0m\u001b[2;36m \u001b[0m\u001b[34mINFO    \u001b[0m \u001b[1m[\u001b[0m\u001b[1;36m314\u001b[0m/\u001b[1;36m380\u001b[0m\u001b[1m]\u001b[0m Retrieving game with \u001b[33mid\u001b[0m=\u001b[35m32a8be36\u001b[0m                                \u001b]8;id=936711;file:///usr/local/lib/python3.11/dist-packages/soccerdata/fbref.py\u001b\\\u001b[2mfbref.py\u001b[0m\u001b]8;;\u001b\\\u001b[2m:\u001b[0m\u001b]8;id=785947;file:///usr/local/lib/python3.11/dist-packages/soccerdata/fbref.py#815\u001b\\\u001b[2m815\u001b[0m\u001b]8;;\u001b\\\n"
            ],
            "text/html": [
              "<pre style=\"white-space:pre;overflow-x:auto;line-height:normal;font-family:Menlo,'DejaVu Sans Mono',consolas,'Courier New',monospace\"><span style=\"color: #7fbfbf; text-decoration-color: #7fbfbf\">[01/27/25 23:22:22] </span><span style=\"color: #000080; text-decoration-color: #000080\">INFO    </span> <span style=\"font-weight: bold\">[</span><span style=\"color: #008080; text-decoration-color: #008080; font-weight: bold\">314</span>/<span style=\"color: #008080; text-decoration-color: #008080; font-weight: bold\">380</span><span style=\"font-weight: bold\">]</span> Retrieving game with <span style=\"color: #808000; text-decoration-color: #808000\">id</span>=<span style=\"color: #800080; text-decoration-color: #800080\">32a8be36</span>                                <a href=\"file:///usr/local/lib/python3.11/dist-packages/soccerdata/fbref.py\" target=\"_blank\"><span style=\"color: #7f7f7f; text-decoration-color: #7f7f7f\">fbref.py</span></a><span style=\"color: #7f7f7f; text-decoration-color: #7f7f7f\">:</span><a href=\"file:///usr/local/lib/python3.11/dist-packages/soccerdata/fbref.py#815\" target=\"_blank\"><span style=\"color: #7f7f7f; text-decoration-color: #7f7f7f\">815</span></a>\n",
              "</pre>\n"
            ]
          },
          "metadata": {}
        },
        {
          "output_type": "display_data",
          "data": {
            "text/plain": [
              "\u001b[2;36m[01/27/25 23:22:28]\u001b[0m\u001b[2;36m \u001b[0m\u001b[34mINFO    \u001b[0m \u001b[1m[\u001b[0m\u001b[1;36m315\u001b[0m/\u001b[1;36m380\u001b[0m\u001b[1m]\u001b[0m Retrieving game with \u001b[33mid\u001b[0m=\u001b[35m4a4d2976\u001b[0m                                \u001b]8;id=30725;file:///usr/local/lib/python3.11/dist-packages/soccerdata/fbref.py\u001b\\\u001b[2mfbref.py\u001b[0m\u001b]8;;\u001b\\\u001b[2m:\u001b[0m\u001b]8;id=131944;file:///usr/local/lib/python3.11/dist-packages/soccerdata/fbref.py#815\u001b\\\u001b[2m815\u001b[0m\u001b]8;;\u001b\\\n"
            ],
            "text/html": [
              "<pre style=\"white-space:pre;overflow-x:auto;line-height:normal;font-family:Menlo,'DejaVu Sans Mono',consolas,'Courier New',monospace\"><span style=\"color: #7fbfbf; text-decoration-color: #7fbfbf\">[01/27/25 23:22:28] </span><span style=\"color: #000080; text-decoration-color: #000080\">INFO    </span> <span style=\"font-weight: bold\">[</span><span style=\"color: #008080; text-decoration-color: #008080; font-weight: bold\">315</span>/<span style=\"color: #008080; text-decoration-color: #008080; font-weight: bold\">380</span><span style=\"font-weight: bold\">]</span> Retrieving game with <span style=\"color: #808000; text-decoration-color: #808000\">id</span>=<span style=\"color: #800080; text-decoration-color: #800080\">4a4d2976</span>                                <a href=\"file:///usr/local/lib/python3.11/dist-packages/soccerdata/fbref.py\" target=\"_blank\"><span style=\"color: #7f7f7f; text-decoration-color: #7f7f7f\">fbref.py</span></a><span style=\"color: #7f7f7f; text-decoration-color: #7f7f7f\">:</span><a href=\"file:///usr/local/lib/python3.11/dist-packages/soccerdata/fbref.py#815\" target=\"_blank\"><span style=\"color: #7f7f7f; text-decoration-color: #7f7f7f\">815</span></a>\n",
              "</pre>\n"
            ]
          },
          "metadata": {}
        },
        {
          "output_type": "display_data",
          "data": {
            "text/plain": [
              "\u001b[2;36m[01/27/25 23:22:34]\u001b[0m\u001b[2;36m \u001b[0m\u001b[34mINFO    \u001b[0m \u001b[1m[\u001b[0m\u001b[1;36m316\u001b[0m/\u001b[1;36m380\u001b[0m\u001b[1m]\u001b[0m Retrieving game with \u001b[33mid\u001b[0m=\u001b[35mc9ab1f95\u001b[0m                                \u001b]8;id=843102;file:///usr/local/lib/python3.11/dist-packages/soccerdata/fbref.py\u001b\\\u001b[2mfbref.py\u001b[0m\u001b]8;;\u001b\\\u001b[2m:\u001b[0m\u001b]8;id=120328;file:///usr/local/lib/python3.11/dist-packages/soccerdata/fbref.py#815\u001b\\\u001b[2m815\u001b[0m\u001b]8;;\u001b\\\n"
            ],
            "text/html": [
              "<pre style=\"white-space:pre;overflow-x:auto;line-height:normal;font-family:Menlo,'DejaVu Sans Mono',consolas,'Courier New',monospace\"><span style=\"color: #7fbfbf; text-decoration-color: #7fbfbf\">[01/27/25 23:22:34] </span><span style=\"color: #000080; text-decoration-color: #000080\">INFO    </span> <span style=\"font-weight: bold\">[</span><span style=\"color: #008080; text-decoration-color: #008080; font-weight: bold\">316</span>/<span style=\"color: #008080; text-decoration-color: #008080; font-weight: bold\">380</span><span style=\"font-weight: bold\">]</span> Retrieving game with <span style=\"color: #808000; text-decoration-color: #808000\">id</span>=<span style=\"color: #800080; text-decoration-color: #800080\">c9ab1f95</span>                                <a href=\"file:///usr/local/lib/python3.11/dist-packages/soccerdata/fbref.py\" target=\"_blank\"><span style=\"color: #7f7f7f; text-decoration-color: #7f7f7f\">fbref.py</span></a><span style=\"color: #7f7f7f; text-decoration-color: #7f7f7f\">:</span><a href=\"file:///usr/local/lib/python3.11/dist-packages/soccerdata/fbref.py#815\" target=\"_blank\"><span style=\"color: #7f7f7f; text-decoration-color: #7f7f7f\">815</span></a>\n",
              "</pre>\n"
            ]
          },
          "metadata": {}
        },
        {
          "output_type": "display_data",
          "data": {
            "text/plain": [
              "\u001b[2;36m[01/27/25 23:22:41]\u001b[0m\u001b[2;36m \u001b[0m\u001b[34mINFO    \u001b[0m \u001b[1m[\u001b[0m\u001b[1;36m317\u001b[0m/\u001b[1;36m380\u001b[0m\u001b[1m]\u001b[0m Retrieving game with \u001b[33mid\u001b[0m=\u001b[35m40128bc4\u001b[0m                                \u001b]8;id=318737;file:///usr/local/lib/python3.11/dist-packages/soccerdata/fbref.py\u001b\\\u001b[2mfbref.py\u001b[0m\u001b]8;;\u001b\\\u001b[2m:\u001b[0m\u001b]8;id=728709;file:///usr/local/lib/python3.11/dist-packages/soccerdata/fbref.py#815\u001b\\\u001b[2m815\u001b[0m\u001b]8;;\u001b\\\n"
            ],
            "text/html": [
              "<pre style=\"white-space:pre;overflow-x:auto;line-height:normal;font-family:Menlo,'DejaVu Sans Mono',consolas,'Courier New',monospace\"><span style=\"color: #7fbfbf; text-decoration-color: #7fbfbf\">[01/27/25 23:22:41] </span><span style=\"color: #000080; text-decoration-color: #000080\">INFO    </span> <span style=\"font-weight: bold\">[</span><span style=\"color: #008080; text-decoration-color: #008080; font-weight: bold\">317</span>/<span style=\"color: #008080; text-decoration-color: #008080; font-weight: bold\">380</span><span style=\"font-weight: bold\">]</span> Retrieving game with <span style=\"color: #808000; text-decoration-color: #808000\">id</span>=<span style=\"color: #800080; text-decoration-color: #800080\">40128bc4</span>                                <a href=\"file:///usr/local/lib/python3.11/dist-packages/soccerdata/fbref.py\" target=\"_blank\"><span style=\"color: #7f7f7f; text-decoration-color: #7f7f7f\">fbref.py</span></a><span style=\"color: #7f7f7f; text-decoration-color: #7f7f7f\">:</span><a href=\"file:///usr/local/lib/python3.11/dist-packages/soccerdata/fbref.py#815\" target=\"_blank\"><span style=\"color: #7f7f7f; text-decoration-color: #7f7f7f\">815</span></a>\n",
              "</pre>\n"
            ]
          },
          "metadata": {}
        },
        {
          "output_type": "display_data",
          "data": {
            "text/plain": [
              "\u001b[2;36m[01/27/25 23:22:47]\u001b[0m\u001b[2;36m \u001b[0m\u001b[34mINFO    \u001b[0m \u001b[1m[\u001b[0m\u001b[1;36m318\u001b[0m/\u001b[1;36m380\u001b[0m\u001b[1m]\u001b[0m Retrieving game with \u001b[33mid\u001b[0m=\u001b[35m50db3243\u001b[0m                                \u001b]8;id=909419;file:///usr/local/lib/python3.11/dist-packages/soccerdata/fbref.py\u001b\\\u001b[2mfbref.py\u001b[0m\u001b]8;;\u001b\\\u001b[2m:\u001b[0m\u001b]8;id=910389;file:///usr/local/lib/python3.11/dist-packages/soccerdata/fbref.py#815\u001b\\\u001b[2m815\u001b[0m\u001b]8;;\u001b\\\n"
            ],
            "text/html": [
              "<pre style=\"white-space:pre;overflow-x:auto;line-height:normal;font-family:Menlo,'DejaVu Sans Mono',consolas,'Courier New',monospace\"><span style=\"color: #7fbfbf; text-decoration-color: #7fbfbf\">[01/27/25 23:22:47] </span><span style=\"color: #000080; text-decoration-color: #000080\">INFO    </span> <span style=\"font-weight: bold\">[</span><span style=\"color: #008080; text-decoration-color: #008080; font-weight: bold\">318</span>/<span style=\"color: #008080; text-decoration-color: #008080; font-weight: bold\">380</span><span style=\"font-weight: bold\">]</span> Retrieving game with <span style=\"color: #808000; text-decoration-color: #808000\">id</span>=<span style=\"color: #800080; text-decoration-color: #800080\">50db3243</span>                                <a href=\"file:///usr/local/lib/python3.11/dist-packages/soccerdata/fbref.py\" target=\"_blank\"><span style=\"color: #7f7f7f; text-decoration-color: #7f7f7f\">fbref.py</span></a><span style=\"color: #7f7f7f; text-decoration-color: #7f7f7f\">:</span><a href=\"file:///usr/local/lib/python3.11/dist-packages/soccerdata/fbref.py#815\" target=\"_blank\"><span style=\"color: #7f7f7f; text-decoration-color: #7f7f7f\">815</span></a>\n",
              "</pre>\n"
            ]
          },
          "metadata": {}
        },
        {
          "output_type": "display_data",
          "data": {
            "text/plain": [
              "\u001b[2;36m[01/27/25 23:22:53]\u001b[0m\u001b[2;36m \u001b[0m\u001b[34mINFO    \u001b[0m \u001b[1m[\u001b[0m\u001b[1;36m319\u001b[0m/\u001b[1;36m380\u001b[0m\u001b[1m]\u001b[0m Retrieving game with \u001b[33mid\u001b[0m=\u001b[35m4460b6c5\u001b[0m                                \u001b]8;id=664770;file:///usr/local/lib/python3.11/dist-packages/soccerdata/fbref.py\u001b\\\u001b[2mfbref.py\u001b[0m\u001b]8;;\u001b\\\u001b[2m:\u001b[0m\u001b]8;id=278348;file:///usr/local/lib/python3.11/dist-packages/soccerdata/fbref.py#815\u001b\\\u001b[2m815\u001b[0m\u001b]8;;\u001b\\\n"
            ],
            "text/html": [
              "<pre style=\"white-space:pre;overflow-x:auto;line-height:normal;font-family:Menlo,'DejaVu Sans Mono',consolas,'Courier New',monospace\"><span style=\"color: #7fbfbf; text-decoration-color: #7fbfbf\">[01/27/25 23:22:53] </span><span style=\"color: #000080; text-decoration-color: #000080\">INFO    </span> <span style=\"font-weight: bold\">[</span><span style=\"color: #008080; text-decoration-color: #008080; font-weight: bold\">319</span>/<span style=\"color: #008080; text-decoration-color: #008080; font-weight: bold\">380</span><span style=\"font-weight: bold\">]</span> Retrieving game with <span style=\"color: #808000; text-decoration-color: #808000\">id</span>=<span style=\"color: #800080; text-decoration-color: #800080\">4460b6c5</span>                                <a href=\"file:///usr/local/lib/python3.11/dist-packages/soccerdata/fbref.py\" target=\"_blank\"><span style=\"color: #7f7f7f; text-decoration-color: #7f7f7f\">fbref.py</span></a><span style=\"color: #7f7f7f; text-decoration-color: #7f7f7f\">:</span><a href=\"file:///usr/local/lib/python3.11/dist-packages/soccerdata/fbref.py#815\" target=\"_blank\"><span style=\"color: #7f7f7f; text-decoration-color: #7f7f7f\">815</span></a>\n",
              "</pre>\n"
            ]
          },
          "metadata": {}
        },
        {
          "output_type": "display_data",
          "data": {
            "text/plain": [
              "\u001b[2;36m[01/27/25 23:23:00]\u001b[0m\u001b[2;36m \u001b[0m\u001b[34mINFO    \u001b[0m \u001b[1m[\u001b[0m\u001b[1;36m320\u001b[0m/\u001b[1;36m380\u001b[0m\u001b[1m]\u001b[0m Retrieving game with \u001b[33mid\u001b[0m=\u001b[35mc1739ced\u001b[0m                                \u001b]8;id=485164;file:///usr/local/lib/python3.11/dist-packages/soccerdata/fbref.py\u001b\\\u001b[2mfbref.py\u001b[0m\u001b]8;;\u001b\\\u001b[2m:\u001b[0m\u001b]8;id=55647;file:///usr/local/lib/python3.11/dist-packages/soccerdata/fbref.py#815\u001b\\\u001b[2m815\u001b[0m\u001b]8;;\u001b\\\n"
            ],
            "text/html": [
              "<pre style=\"white-space:pre;overflow-x:auto;line-height:normal;font-family:Menlo,'DejaVu Sans Mono',consolas,'Courier New',monospace\"><span style=\"color: #7fbfbf; text-decoration-color: #7fbfbf\">[01/27/25 23:23:00] </span><span style=\"color: #000080; text-decoration-color: #000080\">INFO    </span> <span style=\"font-weight: bold\">[</span><span style=\"color: #008080; text-decoration-color: #008080; font-weight: bold\">320</span>/<span style=\"color: #008080; text-decoration-color: #008080; font-weight: bold\">380</span><span style=\"font-weight: bold\">]</span> Retrieving game with <span style=\"color: #808000; text-decoration-color: #808000\">id</span>=<span style=\"color: #800080; text-decoration-color: #800080\">c1739ced</span>                                <a href=\"file:///usr/local/lib/python3.11/dist-packages/soccerdata/fbref.py\" target=\"_blank\"><span style=\"color: #7f7f7f; text-decoration-color: #7f7f7f\">fbref.py</span></a><span style=\"color: #7f7f7f; text-decoration-color: #7f7f7f\">:</span><a href=\"file:///usr/local/lib/python3.11/dist-packages/soccerdata/fbref.py#815\" target=\"_blank\"><span style=\"color: #7f7f7f; text-decoration-color: #7f7f7f\">815</span></a>\n",
              "</pre>\n"
            ]
          },
          "metadata": {}
        },
        {
          "output_type": "display_data",
          "data": {
            "text/plain": [
              "\u001b[2;36m[01/27/25 23:23:06]\u001b[0m\u001b[2;36m \u001b[0m\u001b[34mINFO    \u001b[0m \u001b[1m[\u001b[0m\u001b[1;36m321\u001b[0m/\u001b[1;36m380\u001b[0m\u001b[1m]\u001b[0m Retrieving game with \u001b[33mid\u001b[0m=\u001b[35m99113ef3\u001b[0m                                \u001b]8;id=111955;file:///usr/local/lib/python3.11/dist-packages/soccerdata/fbref.py\u001b\\\u001b[2mfbref.py\u001b[0m\u001b]8;;\u001b\\\u001b[2m:\u001b[0m\u001b]8;id=846188;file:///usr/local/lib/python3.11/dist-packages/soccerdata/fbref.py#815\u001b\\\u001b[2m815\u001b[0m\u001b]8;;\u001b\\\n"
            ],
            "text/html": [
              "<pre style=\"white-space:pre;overflow-x:auto;line-height:normal;font-family:Menlo,'DejaVu Sans Mono',consolas,'Courier New',monospace\"><span style=\"color: #7fbfbf; text-decoration-color: #7fbfbf\">[01/27/25 23:23:06] </span><span style=\"color: #000080; text-decoration-color: #000080\">INFO    </span> <span style=\"font-weight: bold\">[</span><span style=\"color: #008080; text-decoration-color: #008080; font-weight: bold\">321</span>/<span style=\"color: #008080; text-decoration-color: #008080; font-weight: bold\">380</span><span style=\"font-weight: bold\">]</span> Retrieving game with <span style=\"color: #808000; text-decoration-color: #808000\">id</span>=<span style=\"color: #800080; text-decoration-color: #800080\">99113ef3</span>                                <a href=\"file:///usr/local/lib/python3.11/dist-packages/soccerdata/fbref.py\" target=\"_blank\"><span style=\"color: #7f7f7f; text-decoration-color: #7f7f7f\">fbref.py</span></a><span style=\"color: #7f7f7f; text-decoration-color: #7f7f7f\">:</span><a href=\"file:///usr/local/lib/python3.11/dist-packages/soccerdata/fbref.py#815\" target=\"_blank\"><span style=\"color: #7f7f7f; text-decoration-color: #7f7f7f\">815</span></a>\n",
              "</pre>\n"
            ]
          },
          "metadata": {}
        },
        {
          "output_type": "display_data",
          "data": {
            "text/plain": [
              "\u001b[2;36m[01/27/25 23:23:12]\u001b[0m\u001b[2;36m \u001b[0m\u001b[34mINFO    \u001b[0m \u001b[1m[\u001b[0m\u001b[1;36m322\u001b[0m/\u001b[1;36m380\u001b[0m\u001b[1m]\u001b[0m Retrieving game with \u001b[33mid\u001b[0m=\u001b[35mbd62891f\u001b[0m                                \u001b]8;id=935980;file:///usr/local/lib/python3.11/dist-packages/soccerdata/fbref.py\u001b\\\u001b[2mfbref.py\u001b[0m\u001b]8;;\u001b\\\u001b[2m:\u001b[0m\u001b]8;id=658151;file:///usr/local/lib/python3.11/dist-packages/soccerdata/fbref.py#815\u001b\\\u001b[2m815\u001b[0m\u001b]8;;\u001b\\\n"
            ],
            "text/html": [
              "<pre style=\"white-space:pre;overflow-x:auto;line-height:normal;font-family:Menlo,'DejaVu Sans Mono',consolas,'Courier New',monospace\"><span style=\"color: #7fbfbf; text-decoration-color: #7fbfbf\">[01/27/25 23:23:12] </span><span style=\"color: #000080; text-decoration-color: #000080\">INFO    </span> <span style=\"font-weight: bold\">[</span><span style=\"color: #008080; text-decoration-color: #008080; font-weight: bold\">322</span>/<span style=\"color: #008080; text-decoration-color: #008080; font-weight: bold\">380</span><span style=\"font-weight: bold\">]</span> Retrieving game with <span style=\"color: #808000; text-decoration-color: #808000\">id</span>=<span style=\"color: #800080; text-decoration-color: #800080\">bd62891f</span>                                <a href=\"file:///usr/local/lib/python3.11/dist-packages/soccerdata/fbref.py\" target=\"_blank\"><span style=\"color: #7f7f7f; text-decoration-color: #7f7f7f\">fbref.py</span></a><span style=\"color: #7f7f7f; text-decoration-color: #7f7f7f\">:</span><a href=\"file:///usr/local/lib/python3.11/dist-packages/soccerdata/fbref.py#815\" target=\"_blank\"><span style=\"color: #7f7f7f; text-decoration-color: #7f7f7f\">815</span></a>\n",
              "</pre>\n"
            ]
          },
          "metadata": {}
        },
        {
          "output_type": "display_data",
          "data": {
            "text/plain": [
              "\u001b[2;36m[01/27/25 23:23:18]\u001b[0m\u001b[2;36m \u001b[0m\u001b[34mINFO    \u001b[0m \u001b[1m[\u001b[0m\u001b[1;36m323\u001b[0m/\u001b[1;36m380\u001b[0m\u001b[1m]\u001b[0m Retrieving game with \u001b[33mid\u001b[0m=\u001b[35m1a41ac25\u001b[0m                                \u001b]8;id=625979;file:///usr/local/lib/python3.11/dist-packages/soccerdata/fbref.py\u001b\\\u001b[2mfbref.py\u001b[0m\u001b]8;;\u001b\\\u001b[2m:\u001b[0m\u001b]8;id=363675;file:///usr/local/lib/python3.11/dist-packages/soccerdata/fbref.py#815\u001b\\\u001b[2m815\u001b[0m\u001b]8;;\u001b\\\n"
            ],
            "text/html": [
              "<pre style=\"white-space:pre;overflow-x:auto;line-height:normal;font-family:Menlo,'DejaVu Sans Mono',consolas,'Courier New',monospace\"><span style=\"color: #7fbfbf; text-decoration-color: #7fbfbf\">[01/27/25 23:23:18] </span><span style=\"color: #000080; text-decoration-color: #000080\">INFO    </span> <span style=\"font-weight: bold\">[</span><span style=\"color: #008080; text-decoration-color: #008080; font-weight: bold\">323</span>/<span style=\"color: #008080; text-decoration-color: #008080; font-weight: bold\">380</span><span style=\"font-weight: bold\">]</span> Retrieving game with <span style=\"color: #808000; text-decoration-color: #808000\">id</span>=<span style=\"color: #800080; text-decoration-color: #800080\">1a41ac25</span>                                <a href=\"file:///usr/local/lib/python3.11/dist-packages/soccerdata/fbref.py\" target=\"_blank\"><span style=\"color: #7f7f7f; text-decoration-color: #7f7f7f\">fbref.py</span></a><span style=\"color: #7f7f7f; text-decoration-color: #7f7f7f\">:</span><a href=\"file:///usr/local/lib/python3.11/dist-packages/soccerdata/fbref.py#815\" target=\"_blank\"><span style=\"color: #7f7f7f; text-decoration-color: #7f7f7f\">815</span></a>\n",
              "</pre>\n"
            ]
          },
          "metadata": {}
        },
        {
          "output_type": "display_data",
          "data": {
            "text/plain": [
              "\u001b[2;36m[01/27/25 23:23:25]\u001b[0m\u001b[2;36m \u001b[0m\u001b[34mINFO    \u001b[0m \u001b[1m[\u001b[0m\u001b[1;36m324\u001b[0m/\u001b[1;36m380\u001b[0m\u001b[1m]\u001b[0m Retrieving game with \u001b[33mid\u001b[0m=\u001b[35mc98abeb4\u001b[0m                                \u001b]8;id=922639;file:///usr/local/lib/python3.11/dist-packages/soccerdata/fbref.py\u001b\\\u001b[2mfbref.py\u001b[0m\u001b]8;;\u001b\\\u001b[2m:\u001b[0m\u001b]8;id=586529;file:///usr/local/lib/python3.11/dist-packages/soccerdata/fbref.py#815\u001b\\\u001b[2m815\u001b[0m\u001b]8;;\u001b\\\n"
            ],
            "text/html": [
              "<pre style=\"white-space:pre;overflow-x:auto;line-height:normal;font-family:Menlo,'DejaVu Sans Mono',consolas,'Courier New',monospace\"><span style=\"color: #7fbfbf; text-decoration-color: #7fbfbf\">[01/27/25 23:23:25] </span><span style=\"color: #000080; text-decoration-color: #000080\">INFO    </span> <span style=\"font-weight: bold\">[</span><span style=\"color: #008080; text-decoration-color: #008080; font-weight: bold\">324</span>/<span style=\"color: #008080; text-decoration-color: #008080; font-weight: bold\">380</span><span style=\"font-weight: bold\">]</span> Retrieving game with <span style=\"color: #808000; text-decoration-color: #808000\">id</span>=<span style=\"color: #800080; text-decoration-color: #800080\">c98abeb4</span>                                <a href=\"file:///usr/local/lib/python3.11/dist-packages/soccerdata/fbref.py\" target=\"_blank\"><span style=\"color: #7f7f7f; text-decoration-color: #7f7f7f\">fbref.py</span></a><span style=\"color: #7f7f7f; text-decoration-color: #7f7f7f\">:</span><a href=\"file:///usr/local/lib/python3.11/dist-packages/soccerdata/fbref.py#815\" target=\"_blank\"><span style=\"color: #7f7f7f; text-decoration-color: #7f7f7f\">815</span></a>\n",
              "</pre>\n"
            ]
          },
          "metadata": {}
        },
        {
          "output_type": "display_data",
          "data": {
            "text/plain": [
              "\u001b[2;36m[01/27/25 23:23:31]\u001b[0m\u001b[2;36m \u001b[0m\u001b[34mINFO    \u001b[0m \u001b[1m[\u001b[0m\u001b[1;36m325\u001b[0m/\u001b[1;36m380\u001b[0m\u001b[1m]\u001b[0m Retrieving game with \u001b[33mid\u001b[0m=\u001b[35mee8223ec\u001b[0m                                \u001b]8;id=276610;file:///usr/local/lib/python3.11/dist-packages/soccerdata/fbref.py\u001b\\\u001b[2mfbref.py\u001b[0m\u001b]8;;\u001b\\\u001b[2m:\u001b[0m\u001b]8;id=119953;file:///usr/local/lib/python3.11/dist-packages/soccerdata/fbref.py#815\u001b\\\u001b[2m815\u001b[0m\u001b]8;;\u001b\\\n"
            ],
            "text/html": [
              "<pre style=\"white-space:pre;overflow-x:auto;line-height:normal;font-family:Menlo,'DejaVu Sans Mono',consolas,'Courier New',monospace\"><span style=\"color: #7fbfbf; text-decoration-color: #7fbfbf\">[01/27/25 23:23:31] </span><span style=\"color: #000080; text-decoration-color: #000080\">INFO    </span> <span style=\"font-weight: bold\">[</span><span style=\"color: #008080; text-decoration-color: #008080; font-weight: bold\">325</span>/<span style=\"color: #008080; text-decoration-color: #008080; font-weight: bold\">380</span><span style=\"font-weight: bold\">]</span> Retrieving game with <span style=\"color: #808000; text-decoration-color: #808000\">id</span>=<span style=\"color: #800080; text-decoration-color: #800080\">ee8223ec</span>                                <a href=\"file:///usr/local/lib/python3.11/dist-packages/soccerdata/fbref.py\" target=\"_blank\"><span style=\"color: #7f7f7f; text-decoration-color: #7f7f7f\">fbref.py</span></a><span style=\"color: #7f7f7f; text-decoration-color: #7f7f7f\">:</span><a href=\"file:///usr/local/lib/python3.11/dist-packages/soccerdata/fbref.py#815\" target=\"_blank\"><span style=\"color: #7f7f7f; text-decoration-color: #7f7f7f\">815</span></a>\n",
              "</pre>\n"
            ]
          },
          "metadata": {}
        },
        {
          "output_type": "display_data",
          "data": {
            "text/plain": [
              "\u001b[2;36m[01/27/25 23:23:37]\u001b[0m\u001b[2;36m \u001b[0m\u001b[34mINFO    \u001b[0m \u001b[1m[\u001b[0m\u001b[1;36m326\u001b[0m/\u001b[1;36m380\u001b[0m\u001b[1m]\u001b[0m Retrieving game with \u001b[33mid\u001b[0m=\u001b[35m22881ea2\u001b[0m                                \u001b]8;id=898480;file:///usr/local/lib/python3.11/dist-packages/soccerdata/fbref.py\u001b\\\u001b[2mfbref.py\u001b[0m\u001b]8;;\u001b\\\u001b[2m:\u001b[0m\u001b]8;id=121099;file:///usr/local/lib/python3.11/dist-packages/soccerdata/fbref.py#815\u001b\\\u001b[2m815\u001b[0m\u001b]8;;\u001b\\\n"
            ],
            "text/html": [
              "<pre style=\"white-space:pre;overflow-x:auto;line-height:normal;font-family:Menlo,'DejaVu Sans Mono',consolas,'Courier New',monospace\"><span style=\"color: #7fbfbf; text-decoration-color: #7fbfbf\">[01/27/25 23:23:37] </span><span style=\"color: #000080; text-decoration-color: #000080\">INFO    </span> <span style=\"font-weight: bold\">[</span><span style=\"color: #008080; text-decoration-color: #008080; font-weight: bold\">326</span>/<span style=\"color: #008080; text-decoration-color: #008080; font-weight: bold\">380</span><span style=\"font-weight: bold\">]</span> Retrieving game with <span style=\"color: #808000; text-decoration-color: #808000\">id</span>=<span style=\"color: #800080; text-decoration-color: #800080\">22881ea2</span>                                <a href=\"file:///usr/local/lib/python3.11/dist-packages/soccerdata/fbref.py\" target=\"_blank\"><span style=\"color: #7f7f7f; text-decoration-color: #7f7f7f\">fbref.py</span></a><span style=\"color: #7f7f7f; text-decoration-color: #7f7f7f\">:</span><a href=\"file:///usr/local/lib/python3.11/dist-packages/soccerdata/fbref.py#815\" target=\"_blank\"><span style=\"color: #7f7f7f; text-decoration-color: #7f7f7f\">815</span></a>\n",
              "</pre>\n"
            ]
          },
          "metadata": {}
        },
        {
          "output_type": "display_data",
          "data": {
            "text/plain": [
              "\u001b[2;36m[01/27/25 23:23:44]\u001b[0m\u001b[2;36m \u001b[0m\u001b[34mINFO    \u001b[0m \u001b[1m[\u001b[0m\u001b[1;36m327\u001b[0m/\u001b[1;36m380\u001b[0m\u001b[1m]\u001b[0m Retrieving game with \u001b[33mid\u001b[0m=\u001b[35m6236de96\u001b[0m                                \u001b]8;id=587740;file:///usr/local/lib/python3.11/dist-packages/soccerdata/fbref.py\u001b\\\u001b[2mfbref.py\u001b[0m\u001b]8;;\u001b\\\u001b[2m:\u001b[0m\u001b]8;id=686401;file:///usr/local/lib/python3.11/dist-packages/soccerdata/fbref.py#815\u001b\\\u001b[2m815\u001b[0m\u001b]8;;\u001b\\\n"
            ],
            "text/html": [
              "<pre style=\"white-space:pre;overflow-x:auto;line-height:normal;font-family:Menlo,'DejaVu Sans Mono',consolas,'Courier New',monospace\"><span style=\"color: #7fbfbf; text-decoration-color: #7fbfbf\">[01/27/25 23:23:44] </span><span style=\"color: #000080; text-decoration-color: #000080\">INFO    </span> <span style=\"font-weight: bold\">[</span><span style=\"color: #008080; text-decoration-color: #008080; font-weight: bold\">327</span>/<span style=\"color: #008080; text-decoration-color: #008080; font-weight: bold\">380</span><span style=\"font-weight: bold\">]</span> Retrieving game with <span style=\"color: #808000; text-decoration-color: #808000\">id</span>=<span style=\"color: #800080; text-decoration-color: #800080\">6236de96</span>                                <a href=\"file:///usr/local/lib/python3.11/dist-packages/soccerdata/fbref.py\" target=\"_blank\"><span style=\"color: #7f7f7f; text-decoration-color: #7f7f7f\">fbref.py</span></a><span style=\"color: #7f7f7f; text-decoration-color: #7f7f7f\">:</span><a href=\"file:///usr/local/lib/python3.11/dist-packages/soccerdata/fbref.py#815\" target=\"_blank\"><span style=\"color: #7f7f7f; text-decoration-color: #7f7f7f\">815</span></a>\n",
              "</pre>\n"
            ]
          },
          "metadata": {}
        },
        {
          "output_type": "display_data",
          "data": {
            "text/plain": [
              "\u001b[2;36m[01/27/25 23:23:50]\u001b[0m\u001b[2;36m \u001b[0m\u001b[34mINFO    \u001b[0m \u001b[1m[\u001b[0m\u001b[1;36m328\u001b[0m/\u001b[1;36m380\u001b[0m\u001b[1m]\u001b[0m Retrieving game with \u001b[33mid\u001b[0m=\u001b[35m6ef6966a\u001b[0m                                \u001b]8;id=849306;file:///usr/local/lib/python3.11/dist-packages/soccerdata/fbref.py\u001b\\\u001b[2mfbref.py\u001b[0m\u001b]8;;\u001b\\\u001b[2m:\u001b[0m\u001b]8;id=765138;file:///usr/local/lib/python3.11/dist-packages/soccerdata/fbref.py#815\u001b\\\u001b[2m815\u001b[0m\u001b]8;;\u001b\\\n"
            ],
            "text/html": [
              "<pre style=\"white-space:pre;overflow-x:auto;line-height:normal;font-family:Menlo,'DejaVu Sans Mono',consolas,'Courier New',monospace\"><span style=\"color: #7fbfbf; text-decoration-color: #7fbfbf\">[01/27/25 23:23:50] </span><span style=\"color: #000080; text-decoration-color: #000080\">INFO    </span> <span style=\"font-weight: bold\">[</span><span style=\"color: #008080; text-decoration-color: #008080; font-weight: bold\">328</span>/<span style=\"color: #008080; text-decoration-color: #008080; font-weight: bold\">380</span><span style=\"font-weight: bold\">]</span> Retrieving game with <span style=\"color: #808000; text-decoration-color: #808000\">id</span>=<span style=\"color: #800080; text-decoration-color: #800080\">6ef6966a</span>                                <a href=\"file:///usr/local/lib/python3.11/dist-packages/soccerdata/fbref.py\" target=\"_blank\"><span style=\"color: #7f7f7f; text-decoration-color: #7f7f7f\">fbref.py</span></a><span style=\"color: #7f7f7f; text-decoration-color: #7f7f7f\">:</span><a href=\"file:///usr/local/lib/python3.11/dist-packages/soccerdata/fbref.py#815\" target=\"_blank\"><span style=\"color: #7f7f7f; text-decoration-color: #7f7f7f\">815</span></a>\n",
              "</pre>\n"
            ]
          },
          "metadata": {}
        },
        {
          "output_type": "display_data",
          "data": {
            "text/plain": [
              "\u001b[2;36m[01/27/25 23:23:56]\u001b[0m\u001b[2;36m \u001b[0m\u001b[34mINFO    \u001b[0m \u001b[1m[\u001b[0m\u001b[1;36m329\u001b[0m/\u001b[1;36m380\u001b[0m\u001b[1m]\u001b[0m Retrieving game with \u001b[33mid\u001b[0m=\u001b[35m3025d010\u001b[0m                                \u001b]8;id=708168;file:///usr/local/lib/python3.11/dist-packages/soccerdata/fbref.py\u001b\\\u001b[2mfbref.py\u001b[0m\u001b]8;;\u001b\\\u001b[2m:\u001b[0m\u001b]8;id=311031;file:///usr/local/lib/python3.11/dist-packages/soccerdata/fbref.py#815\u001b\\\u001b[2m815\u001b[0m\u001b]8;;\u001b\\\n"
            ],
            "text/html": [
              "<pre style=\"white-space:pre;overflow-x:auto;line-height:normal;font-family:Menlo,'DejaVu Sans Mono',consolas,'Courier New',monospace\"><span style=\"color: #7fbfbf; text-decoration-color: #7fbfbf\">[01/27/25 23:23:56] </span><span style=\"color: #000080; text-decoration-color: #000080\">INFO    </span> <span style=\"font-weight: bold\">[</span><span style=\"color: #008080; text-decoration-color: #008080; font-weight: bold\">329</span>/<span style=\"color: #008080; text-decoration-color: #008080; font-weight: bold\">380</span><span style=\"font-weight: bold\">]</span> Retrieving game with <span style=\"color: #808000; text-decoration-color: #808000\">id</span>=<span style=\"color: #800080; text-decoration-color: #800080\">3025d010</span>                                <a href=\"file:///usr/local/lib/python3.11/dist-packages/soccerdata/fbref.py\" target=\"_blank\"><span style=\"color: #7f7f7f; text-decoration-color: #7f7f7f\">fbref.py</span></a><span style=\"color: #7f7f7f; text-decoration-color: #7f7f7f\">:</span><a href=\"file:///usr/local/lib/python3.11/dist-packages/soccerdata/fbref.py#815\" target=\"_blank\"><span style=\"color: #7f7f7f; text-decoration-color: #7f7f7f\">815</span></a>\n",
              "</pre>\n"
            ]
          },
          "metadata": {}
        },
        {
          "output_type": "display_data",
          "data": {
            "text/plain": [
              "\u001b[2;36m[01/27/25 23:24:03]\u001b[0m\u001b[2;36m \u001b[0m\u001b[34mINFO    \u001b[0m \u001b[1m[\u001b[0m\u001b[1;36m330\u001b[0m/\u001b[1;36m380\u001b[0m\u001b[1m]\u001b[0m Retrieving game with \u001b[33mid\u001b[0m=\u001b[35m9dcb5084\u001b[0m                                \u001b]8;id=509242;file:///usr/local/lib/python3.11/dist-packages/soccerdata/fbref.py\u001b\\\u001b[2mfbref.py\u001b[0m\u001b]8;;\u001b\\\u001b[2m:\u001b[0m\u001b]8;id=228361;file:///usr/local/lib/python3.11/dist-packages/soccerdata/fbref.py#815\u001b\\\u001b[2m815\u001b[0m\u001b]8;;\u001b\\\n"
            ],
            "text/html": [
              "<pre style=\"white-space:pre;overflow-x:auto;line-height:normal;font-family:Menlo,'DejaVu Sans Mono',consolas,'Courier New',monospace\"><span style=\"color: #7fbfbf; text-decoration-color: #7fbfbf\">[01/27/25 23:24:03] </span><span style=\"color: #000080; text-decoration-color: #000080\">INFO    </span> <span style=\"font-weight: bold\">[</span><span style=\"color: #008080; text-decoration-color: #008080; font-weight: bold\">330</span>/<span style=\"color: #008080; text-decoration-color: #008080; font-weight: bold\">380</span><span style=\"font-weight: bold\">]</span> Retrieving game with <span style=\"color: #808000; text-decoration-color: #808000\">id</span>=<span style=\"color: #800080; text-decoration-color: #800080\">9dcb5084</span>                                <a href=\"file:///usr/local/lib/python3.11/dist-packages/soccerdata/fbref.py\" target=\"_blank\"><span style=\"color: #7f7f7f; text-decoration-color: #7f7f7f\">fbref.py</span></a><span style=\"color: #7f7f7f; text-decoration-color: #7f7f7f\">:</span><a href=\"file:///usr/local/lib/python3.11/dist-packages/soccerdata/fbref.py#815\" target=\"_blank\"><span style=\"color: #7f7f7f; text-decoration-color: #7f7f7f\">815</span></a>\n",
              "</pre>\n"
            ]
          },
          "metadata": {}
        },
        {
          "output_type": "display_data",
          "data": {
            "text/plain": [
              "\u001b[2;36m[01/27/25 23:24:09]\u001b[0m\u001b[2;36m \u001b[0m\u001b[34mINFO    \u001b[0m \u001b[1m[\u001b[0m\u001b[1;36m331\u001b[0m/\u001b[1;36m380\u001b[0m\u001b[1m]\u001b[0m Retrieving game with \u001b[33mid\u001b[0m=\u001b[35m3435dfcc\u001b[0m                                \u001b]8;id=738708;file:///usr/local/lib/python3.11/dist-packages/soccerdata/fbref.py\u001b\\\u001b[2mfbref.py\u001b[0m\u001b]8;;\u001b\\\u001b[2m:\u001b[0m\u001b]8;id=562200;file:///usr/local/lib/python3.11/dist-packages/soccerdata/fbref.py#815\u001b\\\u001b[2m815\u001b[0m\u001b]8;;\u001b\\\n"
            ],
            "text/html": [
              "<pre style=\"white-space:pre;overflow-x:auto;line-height:normal;font-family:Menlo,'DejaVu Sans Mono',consolas,'Courier New',monospace\"><span style=\"color: #7fbfbf; text-decoration-color: #7fbfbf\">[01/27/25 23:24:09] </span><span style=\"color: #000080; text-decoration-color: #000080\">INFO    </span> <span style=\"font-weight: bold\">[</span><span style=\"color: #008080; text-decoration-color: #008080; font-weight: bold\">331</span>/<span style=\"color: #008080; text-decoration-color: #008080; font-weight: bold\">380</span><span style=\"font-weight: bold\">]</span> Retrieving game with <span style=\"color: #808000; text-decoration-color: #808000\">id</span>=<span style=\"color: #800080; text-decoration-color: #800080\">3435dfcc</span>                                <a href=\"file:///usr/local/lib/python3.11/dist-packages/soccerdata/fbref.py\" target=\"_blank\"><span style=\"color: #7f7f7f; text-decoration-color: #7f7f7f\">fbref.py</span></a><span style=\"color: #7f7f7f; text-decoration-color: #7f7f7f\">:</span><a href=\"file:///usr/local/lib/python3.11/dist-packages/soccerdata/fbref.py#815\" target=\"_blank\"><span style=\"color: #7f7f7f; text-decoration-color: #7f7f7f\">815</span></a>\n",
              "</pre>\n"
            ]
          },
          "metadata": {}
        },
        {
          "output_type": "display_data",
          "data": {
            "text/plain": [
              "\u001b[2;36m[01/27/25 23:24:15]\u001b[0m\u001b[2;36m \u001b[0m\u001b[34mINFO    \u001b[0m \u001b[1m[\u001b[0m\u001b[1;36m332\u001b[0m/\u001b[1;36m380\u001b[0m\u001b[1m]\u001b[0m Retrieving game with \u001b[33mid\u001b[0m=\u001b[35mee21eba2\u001b[0m                                \u001b]8;id=54535;file:///usr/local/lib/python3.11/dist-packages/soccerdata/fbref.py\u001b\\\u001b[2mfbref.py\u001b[0m\u001b]8;;\u001b\\\u001b[2m:\u001b[0m\u001b]8;id=1291;file:///usr/local/lib/python3.11/dist-packages/soccerdata/fbref.py#815\u001b\\\u001b[2m815\u001b[0m\u001b]8;;\u001b\\\n"
            ],
            "text/html": [
              "<pre style=\"white-space:pre;overflow-x:auto;line-height:normal;font-family:Menlo,'DejaVu Sans Mono',consolas,'Courier New',monospace\"><span style=\"color: #7fbfbf; text-decoration-color: #7fbfbf\">[01/27/25 23:24:15] </span><span style=\"color: #000080; text-decoration-color: #000080\">INFO    </span> <span style=\"font-weight: bold\">[</span><span style=\"color: #008080; text-decoration-color: #008080; font-weight: bold\">332</span>/<span style=\"color: #008080; text-decoration-color: #008080; font-weight: bold\">380</span><span style=\"font-weight: bold\">]</span> Retrieving game with <span style=\"color: #808000; text-decoration-color: #808000\">id</span>=<span style=\"color: #800080; text-decoration-color: #800080\">ee21eba2</span>                                <a href=\"file:///usr/local/lib/python3.11/dist-packages/soccerdata/fbref.py\" target=\"_blank\"><span style=\"color: #7f7f7f; text-decoration-color: #7f7f7f\">fbref.py</span></a><span style=\"color: #7f7f7f; text-decoration-color: #7f7f7f\">:</span><a href=\"file:///usr/local/lib/python3.11/dist-packages/soccerdata/fbref.py#815\" target=\"_blank\"><span style=\"color: #7f7f7f; text-decoration-color: #7f7f7f\">815</span></a>\n",
              "</pre>\n"
            ]
          },
          "metadata": {}
        },
        {
          "output_type": "display_data",
          "data": {
            "text/plain": [
              "\u001b[2;36m[01/27/25 23:24:22]\u001b[0m\u001b[2;36m \u001b[0m\u001b[34mINFO    \u001b[0m \u001b[1m[\u001b[0m\u001b[1;36m333\u001b[0m/\u001b[1;36m380\u001b[0m\u001b[1m]\u001b[0m Retrieving game with \u001b[33mid\u001b[0m=\u001b[35m971e0a29\u001b[0m                                \u001b]8;id=404206;file:///usr/local/lib/python3.11/dist-packages/soccerdata/fbref.py\u001b\\\u001b[2mfbref.py\u001b[0m\u001b]8;;\u001b\\\u001b[2m:\u001b[0m\u001b]8;id=598467;file:///usr/local/lib/python3.11/dist-packages/soccerdata/fbref.py#815\u001b\\\u001b[2m815\u001b[0m\u001b]8;;\u001b\\\n"
            ],
            "text/html": [
              "<pre style=\"white-space:pre;overflow-x:auto;line-height:normal;font-family:Menlo,'DejaVu Sans Mono',consolas,'Courier New',monospace\"><span style=\"color: #7fbfbf; text-decoration-color: #7fbfbf\">[01/27/25 23:24:22] </span><span style=\"color: #000080; text-decoration-color: #000080\">INFO    </span> <span style=\"font-weight: bold\">[</span><span style=\"color: #008080; text-decoration-color: #008080; font-weight: bold\">333</span>/<span style=\"color: #008080; text-decoration-color: #008080; font-weight: bold\">380</span><span style=\"font-weight: bold\">]</span> Retrieving game with <span style=\"color: #808000; text-decoration-color: #808000\">id</span>=<span style=\"color: #800080; text-decoration-color: #800080\">971e0a29</span>                                <a href=\"file:///usr/local/lib/python3.11/dist-packages/soccerdata/fbref.py\" target=\"_blank\"><span style=\"color: #7f7f7f; text-decoration-color: #7f7f7f\">fbref.py</span></a><span style=\"color: #7f7f7f; text-decoration-color: #7f7f7f\">:</span><a href=\"file:///usr/local/lib/python3.11/dist-packages/soccerdata/fbref.py#815\" target=\"_blank\"><span style=\"color: #7f7f7f; text-decoration-color: #7f7f7f\">815</span></a>\n",
              "</pre>\n"
            ]
          },
          "metadata": {}
        },
        {
          "output_type": "display_data",
          "data": {
            "text/plain": [
              "\u001b[2;36m[01/27/25 23:24:28]\u001b[0m\u001b[2;36m \u001b[0m\u001b[34mINFO    \u001b[0m \u001b[1m[\u001b[0m\u001b[1;36m334\u001b[0m/\u001b[1;36m380\u001b[0m\u001b[1m]\u001b[0m Retrieving game with \u001b[33mid\u001b[0m=\u001b[1;36m70770e72\u001b[0m                                \u001b]8;id=295693;file:///usr/local/lib/python3.11/dist-packages/soccerdata/fbref.py\u001b\\\u001b[2mfbref.py\u001b[0m\u001b]8;;\u001b\\\u001b[2m:\u001b[0m\u001b]8;id=448462;file:///usr/local/lib/python3.11/dist-packages/soccerdata/fbref.py#815\u001b\\\u001b[2m815\u001b[0m\u001b]8;;\u001b\\\n"
            ],
            "text/html": [
              "<pre style=\"white-space:pre;overflow-x:auto;line-height:normal;font-family:Menlo,'DejaVu Sans Mono',consolas,'Courier New',monospace\"><span style=\"color: #7fbfbf; text-decoration-color: #7fbfbf\">[01/27/25 23:24:28] </span><span style=\"color: #000080; text-decoration-color: #000080\">INFO    </span> <span style=\"font-weight: bold\">[</span><span style=\"color: #008080; text-decoration-color: #008080; font-weight: bold\">334</span>/<span style=\"color: #008080; text-decoration-color: #008080; font-weight: bold\">380</span><span style=\"font-weight: bold\">]</span> Retrieving game with <span style=\"color: #808000; text-decoration-color: #808000\">id</span>=<span style=\"color: #008080; text-decoration-color: #008080; font-weight: bold\">70770e72</span>                                <a href=\"file:///usr/local/lib/python3.11/dist-packages/soccerdata/fbref.py\" target=\"_blank\"><span style=\"color: #7f7f7f; text-decoration-color: #7f7f7f\">fbref.py</span></a><span style=\"color: #7f7f7f; text-decoration-color: #7f7f7f\">:</span><a href=\"file:///usr/local/lib/python3.11/dist-packages/soccerdata/fbref.py#815\" target=\"_blank\"><span style=\"color: #7f7f7f; text-decoration-color: #7f7f7f\">815</span></a>\n",
              "</pre>\n"
            ]
          },
          "metadata": {}
        },
        {
          "output_type": "display_data",
          "data": {
            "text/plain": [
              "\u001b[2;36m[01/27/25 23:24:34]\u001b[0m\u001b[2;36m \u001b[0m\u001b[34mINFO    \u001b[0m \u001b[1m[\u001b[0m\u001b[1;36m335\u001b[0m/\u001b[1;36m380\u001b[0m\u001b[1m]\u001b[0m Retrieving game with \u001b[33mid\u001b[0m=\u001b[35m2e209def\u001b[0m                                \u001b]8;id=962949;file:///usr/local/lib/python3.11/dist-packages/soccerdata/fbref.py\u001b\\\u001b[2mfbref.py\u001b[0m\u001b]8;;\u001b\\\u001b[2m:\u001b[0m\u001b]8;id=725424;file:///usr/local/lib/python3.11/dist-packages/soccerdata/fbref.py#815\u001b\\\u001b[2m815\u001b[0m\u001b]8;;\u001b\\\n"
            ],
            "text/html": [
              "<pre style=\"white-space:pre;overflow-x:auto;line-height:normal;font-family:Menlo,'DejaVu Sans Mono',consolas,'Courier New',monospace\"><span style=\"color: #7fbfbf; text-decoration-color: #7fbfbf\">[01/27/25 23:24:34] </span><span style=\"color: #000080; text-decoration-color: #000080\">INFO    </span> <span style=\"font-weight: bold\">[</span><span style=\"color: #008080; text-decoration-color: #008080; font-weight: bold\">335</span>/<span style=\"color: #008080; text-decoration-color: #008080; font-weight: bold\">380</span><span style=\"font-weight: bold\">]</span> Retrieving game with <span style=\"color: #808000; text-decoration-color: #808000\">id</span>=<span style=\"color: #800080; text-decoration-color: #800080\">2e209def</span>                                <a href=\"file:///usr/local/lib/python3.11/dist-packages/soccerdata/fbref.py\" target=\"_blank\"><span style=\"color: #7f7f7f; text-decoration-color: #7f7f7f\">fbref.py</span></a><span style=\"color: #7f7f7f; text-decoration-color: #7f7f7f\">:</span><a href=\"file:///usr/local/lib/python3.11/dist-packages/soccerdata/fbref.py#815\" target=\"_blank\"><span style=\"color: #7f7f7f; text-decoration-color: #7f7f7f\">815</span></a>\n",
              "</pre>\n"
            ]
          },
          "metadata": {}
        },
        {
          "output_type": "display_data",
          "data": {
            "text/plain": [
              "\u001b[2;36m[01/27/25 23:24:41]\u001b[0m\u001b[2;36m \u001b[0m\u001b[34mINFO    \u001b[0m \u001b[1m[\u001b[0m\u001b[1;36m336\u001b[0m/\u001b[1;36m380\u001b[0m\u001b[1m]\u001b[0m Retrieving game with \u001b[33mid\u001b[0m=\u001b[35m45bb8cac\u001b[0m                                \u001b]8;id=363020;file:///usr/local/lib/python3.11/dist-packages/soccerdata/fbref.py\u001b\\\u001b[2mfbref.py\u001b[0m\u001b]8;;\u001b\\\u001b[2m:\u001b[0m\u001b]8;id=877254;file:///usr/local/lib/python3.11/dist-packages/soccerdata/fbref.py#815\u001b\\\u001b[2m815\u001b[0m\u001b]8;;\u001b\\\n"
            ],
            "text/html": [
              "<pre style=\"white-space:pre;overflow-x:auto;line-height:normal;font-family:Menlo,'DejaVu Sans Mono',consolas,'Courier New',monospace\"><span style=\"color: #7fbfbf; text-decoration-color: #7fbfbf\">[01/27/25 23:24:41] </span><span style=\"color: #000080; text-decoration-color: #000080\">INFO    </span> <span style=\"font-weight: bold\">[</span><span style=\"color: #008080; text-decoration-color: #008080; font-weight: bold\">336</span>/<span style=\"color: #008080; text-decoration-color: #008080; font-weight: bold\">380</span><span style=\"font-weight: bold\">]</span> Retrieving game with <span style=\"color: #808000; text-decoration-color: #808000\">id</span>=<span style=\"color: #800080; text-decoration-color: #800080\">45bb8cac</span>                                <a href=\"file:///usr/local/lib/python3.11/dist-packages/soccerdata/fbref.py\" target=\"_blank\"><span style=\"color: #7f7f7f; text-decoration-color: #7f7f7f\">fbref.py</span></a><span style=\"color: #7f7f7f; text-decoration-color: #7f7f7f\">:</span><a href=\"file:///usr/local/lib/python3.11/dist-packages/soccerdata/fbref.py#815\" target=\"_blank\"><span style=\"color: #7f7f7f; text-decoration-color: #7f7f7f\">815</span></a>\n",
              "</pre>\n"
            ]
          },
          "metadata": {}
        },
        {
          "output_type": "display_data",
          "data": {
            "text/plain": [
              "\u001b[2;36m[01/27/25 23:24:47]\u001b[0m\u001b[2;36m \u001b[0m\u001b[34mINFO    \u001b[0m \u001b[1m[\u001b[0m\u001b[1;36m337\u001b[0m/\u001b[1;36m380\u001b[0m\u001b[1m]\u001b[0m Retrieving game with \u001b[33mid\u001b[0m=\u001b[35ma88dc35f\u001b[0m                                \u001b]8;id=263814;file:///usr/local/lib/python3.11/dist-packages/soccerdata/fbref.py\u001b\\\u001b[2mfbref.py\u001b[0m\u001b]8;;\u001b\\\u001b[2m:\u001b[0m\u001b]8;id=80590;file:///usr/local/lib/python3.11/dist-packages/soccerdata/fbref.py#815\u001b\\\u001b[2m815\u001b[0m\u001b]8;;\u001b\\\n"
            ],
            "text/html": [
              "<pre style=\"white-space:pre;overflow-x:auto;line-height:normal;font-family:Menlo,'DejaVu Sans Mono',consolas,'Courier New',monospace\"><span style=\"color: #7fbfbf; text-decoration-color: #7fbfbf\">[01/27/25 23:24:47] </span><span style=\"color: #000080; text-decoration-color: #000080\">INFO    </span> <span style=\"font-weight: bold\">[</span><span style=\"color: #008080; text-decoration-color: #008080; font-weight: bold\">337</span>/<span style=\"color: #008080; text-decoration-color: #008080; font-weight: bold\">380</span><span style=\"font-weight: bold\">]</span> Retrieving game with <span style=\"color: #808000; text-decoration-color: #808000\">id</span>=<span style=\"color: #800080; text-decoration-color: #800080\">a88dc35f</span>                                <a href=\"file:///usr/local/lib/python3.11/dist-packages/soccerdata/fbref.py\" target=\"_blank\"><span style=\"color: #7f7f7f; text-decoration-color: #7f7f7f\">fbref.py</span></a><span style=\"color: #7f7f7f; text-decoration-color: #7f7f7f\">:</span><a href=\"file:///usr/local/lib/python3.11/dist-packages/soccerdata/fbref.py#815\" target=\"_blank\"><span style=\"color: #7f7f7f; text-decoration-color: #7f7f7f\">815</span></a>\n",
              "</pre>\n"
            ]
          },
          "metadata": {}
        },
        {
          "output_type": "display_data",
          "data": {
            "text/plain": [
              "\u001b[2;36m[01/27/25 23:24:53]\u001b[0m\u001b[2;36m \u001b[0m\u001b[34mINFO    \u001b[0m \u001b[1m[\u001b[0m\u001b[1;36m338\u001b[0m/\u001b[1;36m380\u001b[0m\u001b[1m]\u001b[0m Retrieving game with \u001b[33mid\u001b[0m=\u001b[35mc813a2ae\u001b[0m                                \u001b]8;id=570826;file:///usr/local/lib/python3.11/dist-packages/soccerdata/fbref.py\u001b\\\u001b[2mfbref.py\u001b[0m\u001b]8;;\u001b\\\u001b[2m:\u001b[0m\u001b]8;id=565471;file:///usr/local/lib/python3.11/dist-packages/soccerdata/fbref.py#815\u001b\\\u001b[2m815\u001b[0m\u001b]8;;\u001b\\\n"
            ],
            "text/html": [
              "<pre style=\"white-space:pre;overflow-x:auto;line-height:normal;font-family:Menlo,'DejaVu Sans Mono',consolas,'Courier New',monospace\"><span style=\"color: #7fbfbf; text-decoration-color: #7fbfbf\">[01/27/25 23:24:53] </span><span style=\"color: #000080; text-decoration-color: #000080\">INFO    </span> <span style=\"font-weight: bold\">[</span><span style=\"color: #008080; text-decoration-color: #008080; font-weight: bold\">338</span>/<span style=\"color: #008080; text-decoration-color: #008080; font-weight: bold\">380</span><span style=\"font-weight: bold\">]</span> Retrieving game with <span style=\"color: #808000; text-decoration-color: #808000\">id</span>=<span style=\"color: #800080; text-decoration-color: #800080\">c813a2ae</span>                                <a href=\"file:///usr/local/lib/python3.11/dist-packages/soccerdata/fbref.py\" target=\"_blank\"><span style=\"color: #7f7f7f; text-decoration-color: #7f7f7f\">fbref.py</span></a><span style=\"color: #7f7f7f; text-decoration-color: #7f7f7f\">:</span><a href=\"file:///usr/local/lib/python3.11/dist-packages/soccerdata/fbref.py#815\" target=\"_blank\"><span style=\"color: #7f7f7f; text-decoration-color: #7f7f7f\">815</span></a>\n",
              "</pre>\n"
            ]
          },
          "metadata": {}
        },
        {
          "output_type": "display_data",
          "data": {
            "text/plain": [
              "\u001b[2;36m[01/27/25 23:24:59]\u001b[0m\u001b[2;36m \u001b[0m\u001b[34mINFO    \u001b[0m \u001b[1m[\u001b[0m\u001b[1;36m339\u001b[0m/\u001b[1;36m380\u001b[0m\u001b[1m]\u001b[0m Retrieving game with \u001b[33mid\u001b[0m=\u001b[35m9fe4ec6e\u001b[0m                                \u001b]8;id=170653;file:///usr/local/lib/python3.11/dist-packages/soccerdata/fbref.py\u001b\\\u001b[2mfbref.py\u001b[0m\u001b]8;;\u001b\\\u001b[2m:\u001b[0m\u001b]8;id=597806;file:///usr/local/lib/python3.11/dist-packages/soccerdata/fbref.py#815\u001b\\\u001b[2m815\u001b[0m\u001b]8;;\u001b\\\n"
            ],
            "text/html": [
              "<pre style=\"white-space:pre;overflow-x:auto;line-height:normal;font-family:Menlo,'DejaVu Sans Mono',consolas,'Courier New',monospace\"><span style=\"color: #7fbfbf; text-decoration-color: #7fbfbf\">[01/27/25 23:24:59] </span><span style=\"color: #000080; text-decoration-color: #000080\">INFO    </span> <span style=\"font-weight: bold\">[</span><span style=\"color: #008080; text-decoration-color: #008080; font-weight: bold\">339</span>/<span style=\"color: #008080; text-decoration-color: #008080; font-weight: bold\">380</span><span style=\"font-weight: bold\">]</span> Retrieving game with <span style=\"color: #808000; text-decoration-color: #808000\">id</span>=<span style=\"color: #800080; text-decoration-color: #800080\">9fe4ec6e</span>                                <a href=\"file:///usr/local/lib/python3.11/dist-packages/soccerdata/fbref.py\" target=\"_blank\"><span style=\"color: #7f7f7f; text-decoration-color: #7f7f7f\">fbref.py</span></a><span style=\"color: #7f7f7f; text-decoration-color: #7f7f7f\">:</span><a href=\"file:///usr/local/lib/python3.11/dist-packages/soccerdata/fbref.py#815\" target=\"_blank\"><span style=\"color: #7f7f7f; text-decoration-color: #7f7f7f\">815</span></a>\n",
              "</pre>\n"
            ]
          },
          "metadata": {}
        },
        {
          "output_type": "display_data",
          "data": {
            "text/plain": [
              "\u001b[2;36m[01/27/25 23:25:06]\u001b[0m\u001b[2;36m \u001b[0m\u001b[34mINFO    \u001b[0m \u001b[1m[\u001b[0m\u001b[1;36m340\u001b[0m/\u001b[1;36m380\u001b[0m\u001b[1m]\u001b[0m Retrieving game with \u001b[33mid\u001b[0m=\u001b[35me8eb637d\u001b[0m                                \u001b]8;id=61825;file:///usr/local/lib/python3.11/dist-packages/soccerdata/fbref.py\u001b\\\u001b[2mfbref.py\u001b[0m\u001b]8;;\u001b\\\u001b[2m:\u001b[0m\u001b]8;id=433114;file:///usr/local/lib/python3.11/dist-packages/soccerdata/fbref.py#815\u001b\\\u001b[2m815\u001b[0m\u001b]8;;\u001b\\\n"
            ],
            "text/html": [
              "<pre style=\"white-space:pre;overflow-x:auto;line-height:normal;font-family:Menlo,'DejaVu Sans Mono',consolas,'Courier New',monospace\"><span style=\"color: #7fbfbf; text-decoration-color: #7fbfbf\">[01/27/25 23:25:06] </span><span style=\"color: #000080; text-decoration-color: #000080\">INFO    </span> <span style=\"font-weight: bold\">[</span><span style=\"color: #008080; text-decoration-color: #008080; font-weight: bold\">340</span>/<span style=\"color: #008080; text-decoration-color: #008080; font-weight: bold\">380</span><span style=\"font-weight: bold\">]</span> Retrieving game with <span style=\"color: #808000; text-decoration-color: #808000\">id</span>=<span style=\"color: #800080; text-decoration-color: #800080\">e8eb637d</span>                                <a href=\"file:///usr/local/lib/python3.11/dist-packages/soccerdata/fbref.py\" target=\"_blank\"><span style=\"color: #7f7f7f; text-decoration-color: #7f7f7f\">fbref.py</span></a><span style=\"color: #7f7f7f; text-decoration-color: #7f7f7f\">:</span><a href=\"file:///usr/local/lib/python3.11/dist-packages/soccerdata/fbref.py#815\" target=\"_blank\"><span style=\"color: #7f7f7f; text-decoration-color: #7f7f7f\">815</span></a>\n",
              "</pre>\n"
            ]
          },
          "metadata": {}
        },
        {
          "output_type": "display_data",
          "data": {
            "text/plain": [
              "\u001b[2;36m[01/27/25 23:25:12]\u001b[0m\u001b[2;36m \u001b[0m\u001b[34mINFO    \u001b[0m \u001b[1m[\u001b[0m\u001b[1;36m341\u001b[0m/\u001b[1;36m380\u001b[0m\u001b[1m]\u001b[0m Retrieving game with \u001b[33mid\u001b[0m=\u001b[35me92d40be\u001b[0m                                \u001b]8;id=354220;file:///usr/local/lib/python3.11/dist-packages/soccerdata/fbref.py\u001b\\\u001b[2mfbref.py\u001b[0m\u001b]8;;\u001b\\\u001b[2m:\u001b[0m\u001b]8;id=18983;file:///usr/local/lib/python3.11/dist-packages/soccerdata/fbref.py#815\u001b\\\u001b[2m815\u001b[0m\u001b]8;;\u001b\\\n"
            ],
            "text/html": [
              "<pre style=\"white-space:pre;overflow-x:auto;line-height:normal;font-family:Menlo,'DejaVu Sans Mono',consolas,'Courier New',monospace\"><span style=\"color: #7fbfbf; text-decoration-color: #7fbfbf\">[01/27/25 23:25:12] </span><span style=\"color: #000080; text-decoration-color: #000080\">INFO    </span> <span style=\"font-weight: bold\">[</span><span style=\"color: #008080; text-decoration-color: #008080; font-weight: bold\">341</span>/<span style=\"color: #008080; text-decoration-color: #008080; font-weight: bold\">380</span><span style=\"font-weight: bold\">]</span> Retrieving game with <span style=\"color: #808000; text-decoration-color: #808000\">id</span>=<span style=\"color: #800080; text-decoration-color: #800080\">e92d40be</span>                                <a href=\"file:///usr/local/lib/python3.11/dist-packages/soccerdata/fbref.py\" target=\"_blank\"><span style=\"color: #7f7f7f; text-decoration-color: #7f7f7f\">fbref.py</span></a><span style=\"color: #7f7f7f; text-decoration-color: #7f7f7f\">:</span><a href=\"file:///usr/local/lib/python3.11/dist-packages/soccerdata/fbref.py#815\" target=\"_blank\"><span style=\"color: #7f7f7f; text-decoration-color: #7f7f7f\">815</span></a>\n",
              "</pre>\n"
            ]
          },
          "metadata": {}
        },
        {
          "output_type": "display_data",
          "data": {
            "text/plain": [
              "\u001b[2;36m[01/27/25 23:25:18]\u001b[0m\u001b[2;36m \u001b[0m\u001b[34mINFO    \u001b[0m \u001b[1m[\u001b[0m\u001b[1;36m342\u001b[0m/\u001b[1;36m380\u001b[0m\u001b[1m]\u001b[0m Retrieving game with \u001b[33mid\u001b[0m=\u001b[35mba04d7d8\u001b[0m                                \u001b]8;id=980947;file:///usr/local/lib/python3.11/dist-packages/soccerdata/fbref.py\u001b\\\u001b[2mfbref.py\u001b[0m\u001b]8;;\u001b\\\u001b[2m:\u001b[0m\u001b]8;id=627945;file:///usr/local/lib/python3.11/dist-packages/soccerdata/fbref.py#815\u001b\\\u001b[2m815\u001b[0m\u001b]8;;\u001b\\\n"
            ],
            "text/html": [
              "<pre style=\"white-space:pre;overflow-x:auto;line-height:normal;font-family:Menlo,'DejaVu Sans Mono',consolas,'Courier New',monospace\"><span style=\"color: #7fbfbf; text-decoration-color: #7fbfbf\">[01/27/25 23:25:18] </span><span style=\"color: #000080; text-decoration-color: #000080\">INFO    </span> <span style=\"font-weight: bold\">[</span><span style=\"color: #008080; text-decoration-color: #008080; font-weight: bold\">342</span>/<span style=\"color: #008080; text-decoration-color: #008080; font-weight: bold\">380</span><span style=\"font-weight: bold\">]</span> Retrieving game with <span style=\"color: #808000; text-decoration-color: #808000\">id</span>=<span style=\"color: #800080; text-decoration-color: #800080\">ba04d7d8</span>                                <a href=\"file:///usr/local/lib/python3.11/dist-packages/soccerdata/fbref.py\" target=\"_blank\"><span style=\"color: #7f7f7f; text-decoration-color: #7f7f7f\">fbref.py</span></a><span style=\"color: #7f7f7f; text-decoration-color: #7f7f7f\">:</span><a href=\"file:///usr/local/lib/python3.11/dist-packages/soccerdata/fbref.py#815\" target=\"_blank\"><span style=\"color: #7f7f7f; text-decoration-color: #7f7f7f\">815</span></a>\n",
              "</pre>\n"
            ]
          },
          "metadata": {}
        },
        {
          "output_type": "display_data",
          "data": {
            "text/plain": [
              "\u001b[2;36m[01/27/25 23:25:25]\u001b[0m\u001b[2;36m \u001b[0m\u001b[34mINFO    \u001b[0m \u001b[1m[\u001b[0m\u001b[1;36m343\u001b[0m/\u001b[1;36m380\u001b[0m\u001b[1m]\u001b[0m Retrieving game with \u001b[33mid\u001b[0m=\u001b[35m55d68500\u001b[0m                                \u001b]8;id=303008;file:///usr/local/lib/python3.11/dist-packages/soccerdata/fbref.py\u001b\\\u001b[2mfbref.py\u001b[0m\u001b]8;;\u001b\\\u001b[2m:\u001b[0m\u001b]8;id=61241;file:///usr/local/lib/python3.11/dist-packages/soccerdata/fbref.py#815\u001b\\\u001b[2m815\u001b[0m\u001b]8;;\u001b\\\n"
            ],
            "text/html": [
              "<pre style=\"white-space:pre;overflow-x:auto;line-height:normal;font-family:Menlo,'DejaVu Sans Mono',consolas,'Courier New',monospace\"><span style=\"color: #7fbfbf; text-decoration-color: #7fbfbf\">[01/27/25 23:25:25] </span><span style=\"color: #000080; text-decoration-color: #000080\">INFO    </span> <span style=\"font-weight: bold\">[</span><span style=\"color: #008080; text-decoration-color: #008080; font-weight: bold\">343</span>/<span style=\"color: #008080; text-decoration-color: #008080; font-weight: bold\">380</span><span style=\"font-weight: bold\">]</span> Retrieving game with <span style=\"color: #808000; text-decoration-color: #808000\">id</span>=<span style=\"color: #800080; text-decoration-color: #800080\">55d68500</span>                                <a href=\"file:///usr/local/lib/python3.11/dist-packages/soccerdata/fbref.py\" target=\"_blank\"><span style=\"color: #7f7f7f; text-decoration-color: #7f7f7f\">fbref.py</span></a><span style=\"color: #7f7f7f; text-decoration-color: #7f7f7f\">:</span><a href=\"file:///usr/local/lib/python3.11/dist-packages/soccerdata/fbref.py#815\" target=\"_blank\"><span style=\"color: #7f7f7f; text-decoration-color: #7f7f7f\">815</span></a>\n",
              "</pre>\n"
            ]
          },
          "metadata": {}
        },
        {
          "output_type": "display_data",
          "data": {
            "text/plain": [
              "\u001b[2;36m[01/27/25 23:25:31]\u001b[0m\u001b[2;36m \u001b[0m\u001b[34mINFO    \u001b[0m \u001b[1m[\u001b[0m\u001b[1;36m344\u001b[0m/\u001b[1;36m380\u001b[0m\u001b[1m]\u001b[0m Retrieving game with \u001b[33mid\u001b[0m=\u001b[35mfa3c7491\u001b[0m                                \u001b]8;id=316179;file:///usr/local/lib/python3.11/dist-packages/soccerdata/fbref.py\u001b\\\u001b[2mfbref.py\u001b[0m\u001b]8;;\u001b\\\u001b[2m:\u001b[0m\u001b]8;id=625195;file:///usr/local/lib/python3.11/dist-packages/soccerdata/fbref.py#815\u001b\\\u001b[2m815\u001b[0m\u001b]8;;\u001b\\\n"
            ],
            "text/html": [
              "<pre style=\"white-space:pre;overflow-x:auto;line-height:normal;font-family:Menlo,'DejaVu Sans Mono',consolas,'Courier New',monospace\"><span style=\"color: #7fbfbf; text-decoration-color: #7fbfbf\">[01/27/25 23:25:31] </span><span style=\"color: #000080; text-decoration-color: #000080\">INFO    </span> <span style=\"font-weight: bold\">[</span><span style=\"color: #008080; text-decoration-color: #008080; font-weight: bold\">344</span>/<span style=\"color: #008080; text-decoration-color: #008080; font-weight: bold\">380</span><span style=\"font-weight: bold\">]</span> Retrieving game with <span style=\"color: #808000; text-decoration-color: #808000\">id</span>=<span style=\"color: #800080; text-decoration-color: #800080\">fa3c7491</span>                                <a href=\"file:///usr/local/lib/python3.11/dist-packages/soccerdata/fbref.py\" target=\"_blank\"><span style=\"color: #7f7f7f; text-decoration-color: #7f7f7f\">fbref.py</span></a><span style=\"color: #7f7f7f; text-decoration-color: #7f7f7f\">:</span><a href=\"file:///usr/local/lib/python3.11/dist-packages/soccerdata/fbref.py#815\" target=\"_blank\"><span style=\"color: #7f7f7f; text-decoration-color: #7f7f7f\">815</span></a>\n",
              "</pre>\n"
            ]
          },
          "metadata": {}
        },
        {
          "output_type": "display_data",
          "data": {
            "text/plain": [
              "\u001b[2;36m[01/27/25 23:25:37]\u001b[0m\u001b[2;36m \u001b[0m\u001b[34mINFO    \u001b[0m \u001b[1m[\u001b[0m\u001b[1;36m345\u001b[0m/\u001b[1;36m380\u001b[0m\u001b[1m]\u001b[0m Retrieving game with \u001b[33mid\u001b[0m=\u001b[35m80bbb25e\u001b[0m                                \u001b]8;id=117436;file:///usr/local/lib/python3.11/dist-packages/soccerdata/fbref.py\u001b\\\u001b[2mfbref.py\u001b[0m\u001b]8;;\u001b\\\u001b[2m:\u001b[0m\u001b]8;id=744437;file:///usr/local/lib/python3.11/dist-packages/soccerdata/fbref.py#815\u001b\\\u001b[2m815\u001b[0m\u001b]8;;\u001b\\\n"
            ],
            "text/html": [
              "<pre style=\"white-space:pre;overflow-x:auto;line-height:normal;font-family:Menlo,'DejaVu Sans Mono',consolas,'Courier New',monospace\"><span style=\"color: #7fbfbf; text-decoration-color: #7fbfbf\">[01/27/25 23:25:37] </span><span style=\"color: #000080; text-decoration-color: #000080\">INFO    </span> <span style=\"font-weight: bold\">[</span><span style=\"color: #008080; text-decoration-color: #008080; font-weight: bold\">345</span>/<span style=\"color: #008080; text-decoration-color: #008080; font-weight: bold\">380</span><span style=\"font-weight: bold\">]</span> Retrieving game with <span style=\"color: #808000; text-decoration-color: #808000\">id</span>=<span style=\"color: #800080; text-decoration-color: #800080\">80bbb25e</span>                                <a href=\"file:///usr/local/lib/python3.11/dist-packages/soccerdata/fbref.py\" target=\"_blank\"><span style=\"color: #7f7f7f; text-decoration-color: #7f7f7f\">fbref.py</span></a><span style=\"color: #7f7f7f; text-decoration-color: #7f7f7f\">:</span><a href=\"file:///usr/local/lib/python3.11/dist-packages/soccerdata/fbref.py#815\" target=\"_blank\"><span style=\"color: #7f7f7f; text-decoration-color: #7f7f7f\">815</span></a>\n",
              "</pre>\n"
            ]
          },
          "metadata": {}
        },
        {
          "output_type": "display_data",
          "data": {
            "text/plain": [
              "\u001b[2;36m[01/27/25 23:25:43]\u001b[0m\u001b[2;36m \u001b[0m\u001b[34mINFO    \u001b[0m \u001b[1m[\u001b[0m\u001b[1;36m346\u001b[0m/\u001b[1;36m380\u001b[0m\u001b[1m]\u001b[0m Retrieving game with \u001b[33mid\u001b[0m=\u001b[35md98c9a99\u001b[0m                                \u001b]8;id=902633;file:///usr/local/lib/python3.11/dist-packages/soccerdata/fbref.py\u001b\\\u001b[2mfbref.py\u001b[0m\u001b]8;;\u001b\\\u001b[2m:\u001b[0m\u001b]8;id=201532;file:///usr/local/lib/python3.11/dist-packages/soccerdata/fbref.py#815\u001b\\\u001b[2m815\u001b[0m\u001b]8;;\u001b\\\n"
            ],
            "text/html": [
              "<pre style=\"white-space:pre;overflow-x:auto;line-height:normal;font-family:Menlo,'DejaVu Sans Mono',consolas,'Courier New',monospace\"><span style=\"color: #7fbfbf; text-decoration-color: #7fbfbf\">[01/27/25 23:25:43] </span><span style=\"color: #000080; text-decoration-color: #000080\">INFO    </span> <span style=\"font-weight: bold\">[</span><span style=\"color: #008080; text-decoration-color: #008080; font-weight: bold\">346</span>/<span style=\"color: #008080; text-decoration-color: #008080; font-weight: bold\">380</span><span style=\"font-weight: bold\">]</span> Retrieving game with <span style=\"color: #808000; text-decoration-color: #808000\">id</span>=<span style=\"color: #800080; text-decoration-color: #800080\">d98c9a99</span>                                <a href=\"file:///usr/local/lib/python3.11/dist-packages/soccerdata/fbref.py\" target=\"_blank\"><span style=\"color: #7f7f7f; text-decoration-color: #7f7f7f\">fbref.py</span></a><span style=\"color: #7f7f7f; text-decoration-color: #7f7f7f\">:</span><a href=\"file:///usr/local/lib/python3.11/dist-packages/soccerdata/fbref.py#815\" target=\"_blank\"><span style=\"color: #7f7f7f; text-decoration-color: #7f7f7f\">815</span></a>\n",
              "</pre>\n"
            ]
          },
          "metadata": {}
        },
        {
          "output_type": "display_data",
          "data": {
            "text/plain": [
              "\u001b[2;36m[01/27/25 23:25:50]\u001b[0m\u001b[2;36m \u001b[0m\u001b[34mINFO    \u001b[0m \u001b[1m[\u001b[0m\u001b[1;36m347\u001b[0m/\u001b[1;36m380\u001b[0m\u001b[1m]\u001b[0m Retrieving game with \u001b[33mid\u001b[0m=\u001b[35m6b489131\u001b[0m                                \u001b]8;id=304153;file:///usr/local/lib/python3.11/dist-packages/soccerdata/fbref.py\u001b\\\u001b[2mfbref.py\u001b[0m\u001b]8;;\u001b\\\u001b[2m:\u001b[0m\u001b]8;id=384937;file:///usr/local/lib/python3.11/dist-packages/soccerdata/fbref.py#815\u001b\\\u001b[2m815\u001b[0m\u001b]8;;\u001b\\\n"
            ],
            "text/html": [
              "<pre style=\"white-space:pre;overflow-x:auto;line-height:normal;font-family:Menlo,'DejaVu Sans Mono',consolas,'Courier New',monospace\"><span style=\"color: #7fbfbf; text-decoration-color: #7fbfbf\">[01/27/25 23:25:50] </span><span style=\"color: #000080; text-decoration-color: #000080\">INFO    </span> <span style=\"font-weight: bold\">[</span><span style=\"color: #008080; text-decoration-color: #008080; font-weight: bold\">347</span>/<span style=\"color: #008080; text-decoration-color: #008080; font-weight: bold\">380</span><span style=\"font-weight: bold\">]</span> Retrieving game with <span style=\"color: #808000; text-decoration-color: #808000\">id</span>=<span style=\"color: #800080; text-decoration-color: #800080\">6b489131</span>                                <a href=\"file:///usr/local/lib/python3.11/dist-packages/soccerdata/fbref.py\" target=\"_blank\"><span style=\"color: #7f7f7f; text-decoration-color: #7f7f7f\">fbref.py</span></a><span style=\"color: #7f7f7f; text-decoration-color: #7f7f7f\">:</span><a href=\"file:///usr/local/lib/python3.11/dist-packages/soccerdata/fbref.py#815\" target=\"_blank\"><span style=\"color: #7f7f7f; text-decoration-color: #7f7f7f\">815</span></a>\n",
              "</pre>\n"
            ]
          },
          "metadata": {}
        },
        {
          "output_type": "display_data",
          "data": {
            "text/plain": [
              "\u001b[2;36m[01/27/25 23:25:56]\u001b[0m\u001b[2;36m \u001b[0m\u001b[34mINFO    \u001b[0m \u001b[1m[\u001b[0m\u001b[1;36m348\u001b[0m/\u001b[1;36m380\u001b[0m\u001b[1m]\u001b[0m Retrieving game with \u001b[33mid\u001b[0m=\u001b[35m76d10c7d\u001b[0m                                \u001b]8;id=526215;file:///usr/local/lib/python3.11/dist-packages/soccerdata/fbref.py\u001b\\\u001b[2mfbref.py\u001b[0m\u001b]8;;\u001b\\\u001b[2m:\u001b[0m\u001b]8;id=4787;file:///usr/local/lib/python3.11/dist-packages/soccerdata/fbref.py#815\u001b\\\u001b[2m815\u001b[0m\u001b]8;;\u001b\\\n"
            ],
            "text/html": [
              "<pre style=\"white-space:pre;overflow-x:auto;line-height:normal;font-family:Menlo,'DejaVu Sans Mono',consolas,'Courier New',monospace\"><span style=\"color: #7fbfbf; text-decoration-color: #7fbfbf\">[01/27/25 23:25:56] </span><span style=\"color: #000080; text-decoration-color: #000080\">INFO    </span> <span style=\"font-weight: bold\">[</span><span style=\"color: #008080; text-decoration-color: #008080; font-weight: bold\">348</span>/<span style=\"color: #008080; text-decoration-color: #008080; font-weight: bold\">380</span><span style=\"font-weight: bold\">]</span> Retrieving game with <span style=\"color: #808000; text-decoration-color: #808000\">id</span>=<span style=\"color: #800080; text-decoration-color: #800080\">76d10c7d</span>                                <a href=\"file:///usr/local/lib/python3.11/dist-packages/soccerdata/fbref.py\" target=\"_blank\"><span style=\"color: #7f7f7f; text-decoration-color: #7f7f7f\">fbref.py</span></a><span style=\"color: #7f7f7f; text-decoration-color: #7f7f7f\">:</span><a href=\"file:///usr/local/lib/python3.11/dist-packages/soccerdata/fbref.py#815\" target=\"_blank\"><span style=\"color: #7f7f7f; text-decoration-color: #7f7f7f\">815</span></a>\n",
              "</pre>\n"
            ]
          },
          "metadata": {}
        },
        {
          "output_type": "display_data",
          "data": {
            "text/plain": [
              "\u001b[2;36m[01/27/25 23:26:03]\u001b[0m\u001b[2;36m \u001b[0m\u001b[34mINFO    \u001b[0m \u001b[1m[\u001b[0m\u001b[1;36m349\u001b[0m/\u001b[1;36m380\u001b[0m\u001b[1m]\u001b[0m Retrieving game with \u001b[33mid\u001b[0m=\u001b[35m00bcfc31\u001b[0m                                \u001b]8;id=168432;file:///usr/local/lib/python3.11/dist-packages/soccerdata/fbref.py\u001b\\\u001b[2mfbref.py\u001b[0m\u001b]8;;\u001b\\\u001b[2m:\u001b[0m\u001b]8;id=806816;file:///usr/local/lib/python3.11/dist-packages/soccerdata/fbref.py#815\u001b\\\u001b[2m815\u001b[0m\u001b]8;;\u001b\\\n"
            ],
            "text/html": [
              "<pre style=\"white-space:pre;overflow-x:auto;line-height:normal;font-family:Menlo,'DejaVu Sans Mono',consolas,'Courier New',monospace\"><span style=\"color: #7fbfbf; text-decoration-color: #7fbfbf\">[01/27/25 23:26:03] </span><span style=\"color: #000080; text-decoration-color: #000080\">INFO    </span> <span style=\"font-weight: bold\">[</span><span style=\"color: #008080; text-decoration-color: #008080; font-weight: bold\">349</span>/<span style=\"color: #008080; text-decoration-color: #008080; font-weight: bold\">380</span><span style=\"font-weight: bold\">]</span> Retrieving game with <span style=\"color: #808000; text-decoration-color: #808000\">id</span>=<span style=\"color: #800080; text-decoration-color: #800080\">00bcfc31</span>                                <a href=\"file:///usr/local/lib/python3.11/dist-packages/soccerdata/fbref.py\" target=\"_blank\"><span style=\"color: #7f7f7f; text-decoration-color: #7f7f7f\">fbref.py</span></a><span style=\"color: #7f7f7f; text-decoration-color: #7f7f7f\">:</span><a href=\"file:///usr/local/lib/python3.11/dist-packages/soccerdata/fbref.py#815\" target=\"_blank\"><span style=\"color: #7f7f7f; text-decoration-color: #7f7f7f\">815</span></a>\n",
              "</pre>\n"
            ]
          },
          "metadata": {}
        },
        {
          "output_type": "display_data",
          "data": {
            "text/plain": [
              "\u001b[2;36m[01/27/25 23:26:09]\u001b[0m\u001b[2;36m \u001b[0m\u001b[34mINFO    \u001b[0m \u001b[1m[\u001b[0m\u001b[1;36m350\u001b[0m/\u001b[1;36m380\u001b[0m\u001b[1m]\u001b[0m Retrieving game with \u001b[33mid\u001b[0m=\u001b[35ma388fc69\u001b[0m                                \u001b]8;id=609626;file:///usr/local/lib/python3.11/dist-packages/soccerdata/fbref.py\u001b\\\u001b[2mfbref.py\u001b[0m\u001b]8;;\u001b\\\u001b[2m:\u001b[0m\u001b]8;id=742876;file:///usr/local/lib/python3.11/dist-packages/soccerdata/fbref.py#815\u001b\\\u001b[2m815\u001b[0m\u001b]8;;\u001b\\\n"
            ],
            "text/html": [
              "<pre style=\"white-space:pre;overflow-x:auto;line-height:normal;font-family:Menlo,'DejaVu Sans Mono',consolas,'Courier New',monospace\"><span style=\"color: #7fbfbf; text-decoration-color: #7fbfbf\">[01/27/25 23:26:09] </span><span style=\"color: #000080; text-decoration-color: #000080\">INFO    </span> <span style=\"font-weight: bold\">[</span><span style=\"color: #008080; text-decoration-color: #008080; font-weight: bold\">350</span>/<span style=\"color: #008080; text-decoration-color: #008080; font-weight: bold\">380</span><span style=\"font-weight: bold\">]</span> Retrieving game with <span style=\"color: #808000; text-decoration-color: #808000\">id</span>=<span style=\"color: #800080; text-decoration-color: #800080\">a388fc69</span>                                <a href=\"file:///usr/local/lib/python3.11/dist-packages/soccerdata/fbref.py\" target=\"_blank\"><span style=\"color: #7f7f7f; text-decoration-color: #7f7f7f\">fbref.py</span></a><span style=\"color: #7f7f7f; text-decoration-color: #7f7f7f\">:</span><a href=\"file:///usr/local/lib/python3.11/dist-packages/soccerdata/fbref.py#815\" target=\"_blank\"><span style=\"color: #7f7f7f; text-decoration-color: #7f7f7f\">815</span></a>\n",
              "</pre>\n"
            ]
          },
          "metadata": {}
        },
        {
          "output_type": "display_data",
          "data": {
            "text/plain": [
              "\u001b[2;36m[01/27/25 23:26:15]\u001b[0m\u001b[2;36m \u001b[0m\u001b[34mINFO    \u001b[0m \u001b[1m[\u001b[0m\u001b[1;36m351\u001b[0m/\u001b[1;36m380\u001b[0m\u001b[1m]\u001b[0m Retrieving game with \u001b[33mid\u001b[0m=\u001b[35m070bf86d\u001b[0m                                \u001b]8;id=109547;file:///usr/local/lib/python3.11/dist-packages/soccerdata/fbref.py\u001b\\\u001b[2mfbref.py\u001b[0m\u001b]8;;\u001b\\\u001b[2m:\u001b[0m\u001b]8;id=557842;file:///usr/local/lib/python3.11/dist-packages/soccerdata/fbref.py#815\u001b\\\u001b[2m815\u001b[0m\u001b]8;;\u001b\\\n"
            ],
            "text/html": [
              "<pre style=\"white-space:pre;overflow-x:auto;line-height:normal;font-family:Menlo,'DejaVu Sans Mono',consolas,'Courier New',monospace\"><span style=\"color: #7fbfbf; text-decoration-color: #7fbfbf\">[01/27/25 23:26:15] </span><span style=\"color: #000080; text-decoration-color: #000080\">INFO    </span> <span style=\"font-weight: bold\">[</span><span style=\"color: #008080; text-decoration-color: #008080; font-weight: bold\">351</span>/<span style=\"color: #008080; text-decoration-color: #008080; font-weight: bold\">380</span><span style=\"font-weight: bold\">]</span> Retrieving game with <span style=\"color: #808000; text-decoration-color: #808000\">id</span>=<span style=\"color: #800080; text-decoration-color: #800080\">070bf86d</span>                                <a href=\"file:///usr/local/lib/python3.11/dist-packages/soccerdata/fbref.py\" target=\"_blank\"><span style=\"color: #7f7f7f; text-decoration-color: #7f7f7f\">fbref.py</span></a><span style=\"color: #7f7f7f; text-decoration-color: #7f7f7f\">:</span><a href=\"file:///usr/local/lib/python3.11/dist-packages/soccerdata/fbref.py#815\" target=\"_blank\"><span style=\"color: #7f7f7f; text-decoration-color: #7f7f7f\">815</span></a>\n",
              "</pre>\n"
            ]
          },
          "metadata": {}
        },
        {
          "output_type": "display_data",
          "data": {
            "text/plain": [
              "\u001b[2;36m[01/27/25 23:26:22]\u001b[0m\u001b[2;36m \u001b[0m\u001b[34mINFO    \u001b[0m \u001b[1m[\u001b[0m\u001b[1;36m352\u001b[0m/\u001b[1;36m380\u001b[0m\u001b[1m]\u001b[0m Retrieving game with \u001b[33mid\u001b[0m=\u001b[35m5a9032bf\u001b[0m                                \u001b]8;id=2376;file:///usr/local/lib/python3.11/dist-packages/soccerdata/fbref.py\u001b\\\u001b[2mfbref.py\u001b[0m\u001b]8;;\u001b\\\u001b[2m:\u001b[0m\u001b]8;id=86423;file:///usr/local/lib/python3.11/dist-packages/soccerdata/fbref.py#815\u001b\\\u001b[2m815\u001b[0m\u001b]8;;\u001b\\\n"
            ],
            "text/html": [
              "<pre style=\"white-space:pre;overflow-x:auto;line-height:normal;font-family:Menlo,'DejaVu Sans Mono',consolas,'Courier New',monospace\"><span style=\"color: #7fbfbf; text-decoration-color: #7fbfbf\">[01/27/25 23:26:22] </span><span style=\"color: #000080; text-decoration-color: #000080\">INFO    </span> <span style=\"font-weight: bold\">[</span><span style=\"color: #008080; text-decoration-color: #008080; font-weight: bold\">352</span>/<span style=\"color: #008080; text-decoration-color: #008080; font-weight: bold\">380</span><span style=\"font-weight: bold\">]</span> Retrieving game with <span style=\"color: #808000; text-decoration-color: #808000\">id</span>=<span style=\"color: #800080; text-decoration-color: #800080\">5a9032bf</span>                                <a href=\"file:///usr/local/lib/python3.11/dist-packages/soccerdata/fbref.py\" target=\"_blank\"><span style=\"color: #7f7f7f; text-decoration-color: #7f7f7f\">fbref.py</span></a><span style=\"color: #7f7f7f; text-decoration-color: #7f7f7f\">:</span><a href=\"file:///usr/local/lib/python3.11/dist-packages/soccerdata/fbref.py#815\" target=\"_blank\"><span style=\"color: #7f7f7f; text-decoration-color: #7f7f7f\">815</span></a>\n",
              "</pre>\n"
            ]
          },
          "metadata": {}
        },
        {
          "output_type": "display_data",
          "data": {
            "text/plain": [
              "\u001b[2;36m[01/27/25 23:26:28]\u001b[0m\u001b[2;36m \u001b[0m\u001b[34mINFO    \u001b[0m \u001b[1m[\u001b[0m\u001b[1;36m353\u001b[0m/\u001b[1;36m380\u001b[0m\u001b[1m]\u001b[0m Retrieving game with \u001b[33mid\u001b[0m=\u001b[35m91a2da3b\u001b[0m                                \u001b]8;id=845119;file:///usr/local/lib/python3.11/dist-packages/soccerdata/fbref.py\u001b\\\u001b[2mfbref.py\u001b[0m\u001b]8;;\u001b\\\u001b[2m:\u001b[0m\u001b]8;id=538830;file:///usr/local/lib/python3.11/dist-packages/soccerdata/fbref.py#815\u001b\\\u001b[2m815\u001b[0m\u001b]8;;\u001b\\\n"
            ],
            "text/html": [
              "<pre style=\"white-space:pre;overflow-x:auto;line-height:normal;font-family:Menlo,'DejaVu Sans Mono',consolas,'Courier New',monospace\"><span style=\"color: #7fbfbf; text-decoration-color: #7fbfbf\">[01/27/25 23:26:28] </span><span style=\"color: #000080; text-decoration-color: #000080\">INFO    </span> <span style=\"font-weight: bold\">[</span><span style=\"color: #008080; text-decoration-color: #008080; font-weight: bold\">353</span>/<span style=\"color: #008080; text-decoration-color: #008080; font-weight: bold\">380</span><span style=\"font-weight: bold\">]</span> Retrieving game with <span style=\"color: #808000; text-decoration-color: #808000\">id</span>=<span style=\"color: #800080; text-decoration-color: #800080\">91a2da3b</span>                                <a href=\"file:///usr/local/lib/python3.11/dist-packages/soccerdata/fbref.py\" target=\"_blank\"><span style=\"color: #7f7f7f; text-decoration-color: #7f7f7f\">fbref.py</span></a><span style=\"color: #7f7f7f; text-decoration-color: #7f7f7f\">:</span><a href=\"file:///usr/local/lib/python3.11/dist-packages/soccerdata/fbref.py#815\" target=\"_blank\"><span style=\"color: #7f7f7f; text-decoration-color: #7f7f7f\">815</span></a>\n",
              "</pre>\n"
            ]
          },
          "metadata": {}
        },
        {
          "output_type": "display_data",
          "data": {
            "text/plain": [
              "\u001b[2;36m[01/27/25 23:26:34]\u001b[0m\u001b[2;36m \u001b[0m\u001b[34mINFO    \u001b[0m \u001b[1m[\u001b[0m\u001b[1;36m354\u001b[0m/\u001b[1;36m380\u001b[0m\u001b[1m]\u001b[0m Retrieving game with \u001b[33mid\u001b[0m=\u001b[35m5d5f6155\u001b[0m                                \u001b]8;id=241023;file:///usr/local/lib/python3.11/dist-packages/soccerdata/fbref.py\u001b\\\u001b[2mfbref.py\u001b[0m\u001b]8;;\u001b\\\u001b[2m:\u001b[0m\u001b]8;id=294634;file:///usr/local/lib/python3.11/dist-packages/soccerdata/fbref.py#815\u001b\\\u001b[2m815\u001b[0m\u001b]8;;\u001b\\\n"
            ],
            "text/html": [
              "<pre style=\"white-space:pre;overflow-x:auto;line-height:normal;font-family:Menlo,'DejaVu Sans Mono',consolas,'Courier New',monospace\"><span style=\"color: #7fbfbf; text-decoration-color: #7fbfbf\">[01/27/25 23:26:34] </span><span style=\"color: #000080; text-decoration-color: #000080\">INFO    </span> <span style=\"font-weight: bold\">[</span><span style=\"color: #008080; text-decoration-color: #008080; font-weight: bold\">354</span>/<span style=\"color: #008080; text-decoration-color: #008080; font-weight: bold\">380</span><span style=\"font-weight: bold\">]</span> Retrieving game with <span style=\"color: #808000; text-decoration-color: #808000\">id</span>=<span style=\"color: #800080; text-decoration-color: #800080\">5d5f6155</span>                                <a href=\"file:///usr/local/lib/python3.11/dist-packages/soccerdata/fbref.py\" target=\"_blank\"><span style=\"color: #7f7f7f; text-decoration-color: #7f7f7f\">fbref.py</span></a><span style=\"color: #7f7f7f; text-decoration-color: #7f7f7f\">:</span><a href=\"file:///usr/local/lib/python3.11/dist-packages/soccerdata/fbref.py#815\" target=\"_blank\"><span style=\"color: #7f7f7f; text-decoration-color: #7f7f7f\">815</span></a>\n",
              "</pre>\n"
            ]
          },
          "metadata": {}
        },
        {
          "output_type": "display_data",
          "data": {
            "text/plain": [
              "\u001b[2;36m[01/27/25 23:26:40]\u001b[0m\u001b[2;36m \u001b[0m\u001b[34mINFO    \u001b[0m \u001b[1m[\u001b[0m\u001b[1;36m355\u001b[0m/\u001b[1;36m380\u001b[0m\u001b[1m]\u001b[0m Retrieving game with \u001b[33mid\u001b[0m=\u001b[35mf8a0189a\u001b[0m                                \u001b]8;id=165250;file:///usr/local/lib/python3.11/dist-packages/soccerdata/fbref.py\u001b\\\u001b[2mfbref.py\u001b[0m\u001b]8;;\u001b\\\u001b[2m:\u001b[0m\u001b]8;id=279926;file:///usr/local/lib/python3.11/dist-packages/soccerdata/fbref.py#815\u001b\\\u001b[2m815\u001b[0m\u001b]8;;\u001b\\\n"
            ],
            "text/html": [
              "<pre style=\"white-space:pre;overflow-x:auto;line-height:normal;font-family:Menlo,'DejaVu Sans Mono',consolas,'Courier New',monospace\"><span style=\"color: #7fbfbf; text-decoration-color: #7fbfbf\">[01/27/25 23:26:40] </span><span style=\"color: #000080; text-decoration-color: #000080\">INFO    </span> <span style=\"font-weight: bold\">[</span><span style=\"color: #008080; text-decoration-color: #008080; font-weight: bold\">355</span>/<span style=\"color: #008080; text-decoration-color: #008080; font-weight: bold\">380</span><span style=\"font-weight: bold\">]</span> Retrieving game with <span style=\"color: #808000; text-decoration-color: #808000\">id</span>=<span style=\"color: #800080; text-decoration-color: #800080\">f8a0189a</span>                                <a href=\"file:///usr/local/lib/python3.11/dist-packages/soccerdata/fbref.py\" target=\"_blank\"><span style=\"color: #7f7f7f; text-decoration-color: #7f7f7f\">fbref.py</span></a><span style=\"color: #7f7f7f; text-decoration-color: #7f7f7f\">:</span><a href=\"file:///usr/local/lib/python3.11/dist-packages/soccerdata/fbref.py#815\" target=\"_blank\"><span style=\"color: #7f7f7f; text-decoration-color: #7f7f7f\">815</span></a>\n",
              "</pre>\n"
            ]
          },
          "metadata": {}
        },
        {
          "output_type": "display_data",
          "data": {
            "text/plain": [
              "\u001b[2;36m[01/27/25 23:26:47]\u001b[0m\u001b[2;36m \u001b[0m\u001b[34mINFO    \u001b[0m \u001b[1m[\u001b[0m\u001b[1;36m356\u001b[0m/\u001b[1;36m380\u001b[0m\u001b[1m]\u001b[0m Retrieving game with \u001b[33mid\u001b[0m=\u001b[1;36m08341569\u001b[0m                                \u001b]8;id=561312;file:///usr/local/lib/python3.11/dist-packages/soccerdata/fbref.py\u001b\\\u001b[2mfbref.py\u001b[0m\u001b]8;;\u001b\\\u001b[2m:\u001b[0m\u001b]8;id=779493;file:///usr/local/lib/python3.11/dist-packages/soccerdata/fbref.py#815\u001b\\\u001b[2m815\u001b[0m\u001b]8;;\u001b\\\n"
            ],
            "text/html": [
              "<pre style=\"white-space:pre;overflow-x:auto;line-height:normal;font-family:Menlo,'DejaVu Sans Mono',consolas,'Courier New',monospace\"><span style=\"color: #7fbfbf; text-decoration-color: #7fbfbf\">[01/27/25 23:26:47] </span><span style=\"color: #000080; text-decoration-color: #000080\">INFO    </span> <span style=\"font-weight: bold\">[</span><span style=\"color: #008080; text-decoration-color: #008080; font-weight: bold\">356</span>/<span style=\"color: #008080; text-decoration-color: #008080; font-weight: bold\">380</span><span style=\"font-weight: bold\">]</span> Retrieving game with <span style=\"color: #808000; text-decoration-color: #808000\">id</span>=<span style=\"color: #008080; text-decoration-color: #008080; font-weight: bold\">08341569</span>                                <a href=\"file:///usr/local/lib/python3.11/dist-packages/soccerdata/fbref.py\" target=\"_blank\"><span style=\"color: #7f7f7f; text-decoration-color: #7f7f7f\">fbref.py</span></a><span style=\"color: #7f7f7f; text-decoration-color: #7f7f7f\">:</span><a href=\"file:///usr/local/lib/python3.11/dist-packages/soccerdata/fbref.py#815\" target=\"_blank\"><span style=\"color: #7f7f7f; text-decoration-color: #7f7f7f\">815</span></a>\n",
              "</pre>\n"
            ]
          },
          "metadata": {}
        },
        {
          "output_type": "display_data",
          "data": {
            "text/plain": [
              "\u001b[2;36m[01/27/25 23:26:53]\u001b[0m\u001b[2;36m \u001b[0m\u001b[34mINFO    \u001b[0m \u001b[1m[\u001b[0m\u001b[1;36m357\u001b[0m/\u001b[1;36m380\u001b[0m\u001b[1m]\u001b[0m Retrieving game with \u001b[33mid\u001b[0m=\u001b[35m8c4bf9e7\u001b[0m                                \u001b]8;id=168163;file:///usr/local/lib/python3.11/dist-packages/soccerdata/fbref.py\u001b\\\u001b[2mfbref.py\u001b[0m\u001b]8;;\u001b\\\u001b[2m:\u001b[0m\u001b]8;id=884014;file:///usr/local/lib/python3.11/dist-packages/soccerdata/fbref.py#815\u001b\\\u001b[2m815\u001b[0m\u001b]8;;\u001b\\\n"
            ],
            "text/html": [
              "<pre style=\"white-space:pre;overflow-x:auto;line-height:normal;font-family:Menlo,'DejaVu Sans Mono',consolas,'Courier New',monospace\"><span style=\"color: #7fbfbf; text-decoration-color: #7fbfbf\">[01/27/25 23:26:53] </span><span style=\"color: #000080; text-decoration-color: #000080\">INFO    </span> <span style=\"font-weight: bold\">[</span><span style=\"color: #008080; text-decoration-color: #008080; font-weight: bold\">357</span>/<span style=\"color: #008080; text-decoration-color: #008080; font-weight: bold\">380</span><span style=\"font-weight: bold\">]</span> Retrieving game with <span style=\"color: #808000; text-decoration-color: #808000\">id</span>=<span style=\"color: #800080; text-decoration-color: #800080\">8c4bf9e7</span>                                <a href=\"file:///usr/local/lib/python3.11/dist-packages/soccerdata/fbref.py\" target=\"_blank\"><span style=\"color: #7f7f7f; text-decoration-color: #7f7f7f\">fbref.py</span></a><span style=\"color: #7f7f7f; text-decoration-color: #7f7f7f\">:</span><a href=\"file:///usr/local/lib/python3.11/dist-packages/soccerdata/fbref.py#815\" target=\"_blank\"><span style=\"color: #7f7f7f; text-decoration-color: #7f7f7f\">815</span></a>\n",
              "</pre>\n"
            ]
          },
          "metadata": {}
        },
        {
          "output_type": "display_data",
          "data": {
            "text/plain": [
              "\u001b[2;36m[01/27/25 23:26:59]\u001b[0m\u001b[2;36m \u001b[0m\u001b[34mINFO    \u001b[0m \u001b[1m[\u001b[0m\u001b[1;36m358\u001b[0m/\u001b[1;36m380\u001b[0m\u001b[1m]\u001b[0m Retrieving game with \u001b[33mid\u001b[0m=\u001b[35me7b6ebb6\u001b[0m                                \u001b]8;id=442552;file:///usr/local/lib/python3.11/dist-packages/soccerdata/fbref.py\u001b\\\u001b[2mfbref.py\u001b[0m\u001b]8;;\u001b\\\u001b[2m:\u001b[0m\u001b]8;id=607150;file:///usr/local/lib/python3.11/dist-packages/soccerdata/fbref.py#815\u001b\\\u001b[2m815\u001b[0m\u001b]8;;\u001b\\\n"
            ],
            "text/html": [
              "<pre style=\"white-space:pre;overflow-x:auto;line-height:normal;font-family:Menlo,'DejaVu Sans Mono',consolas,'Courier New',monospace\"><span style=\"color: #7fbfbf; text-decoration-color: #7fbfbf\">[01/27/25 23:26:59] </span><span style=\"color: #000080; text-decoration-color: #000080\">INFO    </span> <span style=\"font-weight: bold\">[</span><span style=\"color: #008080; text-decoration-color: #008080; font-weight: bold\">358</span>/<span style=\"color: #008080; text-decoration-color: #008080; font-weight: bold\">380</span><span style=\"font-weight: bold\">]</span> Retrieving game with <span style=\"color: #808000; text-decoration-color: #808000\">id</span>=<span style=\"color: #800080; text-decoration-color: #800080\">e7b6ebb6</span>                                <a href=\"file:///usr/local/lib/python3.11/dist-packages/soccerdata/fbref.py\" target=\"_blank\"><span style=\"color: #7f7f7f; text-decoration-color: #7f7f7f\">fbref.py</span></a><span style=\"color: #7f7f7f; text-decoration-color: #7f7f7f\">:</span><a href=\"file:///usr/local/lib/python3.11/dist-packages/soccerdata/fbref.py#815\" target=\"_blank\"><span style=\"color: #7f7f7f; text-decoration-color: #7f7f7f\">815</span></a>\n",
              "</pre>\n"
            ]
          },
          "metadata": {}
        },
        {
          "output_type": "display_data",
          "data": {
            "text/plain": [
              "\u001b[2;36m[01/27/25 23:27:06]\u001b[0m\u001b[2;36m \u001b[0m\u001b[34mINFO    \u001b[0m \u001b[1m[\u001b[0m\u001b[1;36m359\u001b[0m/\u001b[1;36m380\u001b[0m\u001b[1m]\u001b[0m Retrieving game with \u001b[33mid\u001b[0m=\u001b[35m482e6ce4\u001b[0m                                \u001b]8;id=499209;file:///usr/local/lib/python3.11/dist-packages/soccerdata/fbref.py\u001b\\\u001b[2mfbref.py\u001b[0m\u001b]8;;\u001b\\\u001b[2m:\u001b[0m\u001b]8;id=592237;file:///usr/local/lib/python3.11/dist-packages/soccerdata/fbref.py#815\u001b\\\u001b[2m815\u001b[0m\u001b]8;;\u001b\\\n"
            ],
            "text/html": [
              "<pre style=\"white-space:pre;overflow-x:auto;line-height:normal;font-family:Menlo,'DejaVu Sans Mono',consolas,'Courier New',monospace\"><span style=\"color: #7fbfbf; text-decoration-color: #7fbfbf\">[01/27/25 23:27:06] </span><span style=\"color: #000080; text-decoration-color: #000080\">INFO    </span> <span style=\"font-weight: bold\">[</span><span style=\"color: #008080; text-decoration-color: #008080; font-weight: bold\">359</span>/<span style=\"color: #008080; text-decoration-color: #008080; font-weight: bold\">380</span><span style=\"font-weight: bold\">]</span> Retrieving game with <span style=\"color: #808000; text-decoration-color: #808000\">id</span>=<span style=\"color: #800080; text-decoration-color: #800080\">482e6ce4</span>                                <a href=\"file:///usr/local/lib/python3.11/dist-packages/soccerdata/fbref.py\" target=\"_blank\"><span style=\"color: #7f7f7f; text-decoration-color: #7f7f7f\">fbref.py</span></a><span style=\"color: #7f7f7f; text-decoration-color: #7f7f7f\">:</span><a href=\"file:///usr/local/lib/python3.11/dist-packages/soccerdata/fbref.py#815\" target=\"_blank\"><span style=\"color: #7f7f7f; text-decoration-color: #7f7f7f\">815</span></a>\n",
              "</pre>\n"
            ]
          },
          "metadata": {}
        },
        {
          "output_type": "display_data",
          "data": {
            "text/plain": [
              "\u001b[2;36m[01/27/25 23:27:12]\u001b[0m\u001b[2;36m \u001b[0m\u001b[34mINFO    \u001b[0m \u001b[1m[\u001b[0m\u001b[1;36m360\u001b[0m/\u001b[1;36m380\u001b[0m\u001b[1m]\u001b[0m Retrieving game with \u001b[33mid\u001b[0m=\u001b[35m4e211d29\u001b[0m                                \u001b]8;id=857823;file:///usr/local/lib/python3.11/dist-packages/soccerdata/fbref.py\u001b\\\u001b[2mfbref.py\u001b[0m\u001b]8;;\u001b\\\u001b[2m:\u001b[0m\u001b]8;id=949900;file:///usr/local/lib/python3.11/dist-packages/soccerdata/fbref.py#815\u001b\\\u001b[2m815\u001b[0m\u001b]8;;\u001b\\\n"
            ],
            "text/html": [
              "<pre style=\"white-space:pre;overflow-x:auto;line-height:normal;font-family:Menlo,'DejaVu Sans Mono',consolas,'Courier New',monospace\"><span style=\"color: #7fbfbf; text-decoration-color: #7fbfbf\">[01/27/25 23:27:12] </span><span style=\"color: #000080; text-decoration-color: #000080\">INFO    </span> <span style=\"font-weight: bold\">[</span><span style=\"color: #008080; text-decoration-color: #008080; font-weight: bold\">360</span>/<span style=\"color: #008080; text-decoration-color: #008080; font-weight: bold\">380</span><span style=\"font-weight: bold\">]</span> Retrieving game with <span style=\"color: #808000; text-decoration-color: #808000\">id</span>=<span style=\"color: #800080; text-decoration-color: #800080\">4e211d29</span>                                <a href=\"file:///usr/local/lib/python3.11/dist-packages/soccerdata/fbref.py\" target=\"_blank\"><span style=\"color: #7f7f7f; text-decoration-color: #7f7f7f\">fbref.py</span></a><span style=\"color: #7f7f7f; text-decoration-color: #7f7f7f\">:</span><a href=\"file:///usr/local/lib/python3.11/dist-packages/soccerdata/fbref.py#815\" target=\"_blank\"><span style=\"color: #7f7f7f; text-decoration-color: #7f7f7f\">815</span></a>\n",
              "</pre>\n"
            ]
          },
          "metadata": {}
        },
        {
          "output_type": "display_data",
          "data": {
            "text/plain": [
              "\u001b[2;36m[01/27/25 23:27:18]\u001b[0m\u001b[2;36m \u001b[0m\u001b[34mINFO    \u001b[0m \u001b[1m[\u001b[0m\u001b[1;36m361\u001b[0m/\u001b[1;36m380\u001b[0m\u001b[1m]\u001b[0m Retrieving game with \u001b[33mid\u001b[0m=\u001b[35m6dbd7d72\u001b[0m                                \u001b]8;id=841884;file:///usr/local/lib/python3.11/dist-packages/soccerdata/fbref.py\u001b\\\u001b[2mfbref.py\u001b[0m\u001b]8;;\u001b\\\u001b[2m:\u001b[0m\u001b]8;id=940609;file:///usr/local/lib/python3.11/dist-packages/soccerdata/fbref.py#815\u001b\\\u001b[2m815\u001b[0m\u001b]8;;\u001b\\\n"
            ],
            "text/html": [
              "<pre style=\"white-space:pre;overflow-x:auto;line-height:normal;font-family:Menlo,'DejaVu Sans Mono',consolas,'Courier New',monospace\"><span style=\"color: #7fbfbf; text-decoration-color: #7fbfbf\">[01/27/25 23:27:18] </span><span style=\"color: #000080; text-decoration-color: #000080\">INFO    </span> <span style=\"font-weight: bold\">[</span><span style=\"color: #008080; text-decoration-color: #008080; font-weight: bold\">361</span>/<span style=\"color: #008080; text-decoration-color: #008080; font-weight: bold\">380</span><span style=\"font-weight: bold\">]</span> Retrieving game with <span style=\"color: #808000; text-decoration-color: #808000\">id</span>=<span style=\"color: #800080; text-decoration-color: #800080\">6dbd7d72</span>                                <a href=\"file:///usr/local/lib/python3.11/dist-packages/soccerdata/fbref.py\" target=\"_blank\"><span style=\"color: #7f7f7f; text-decoration-color: #7f7f7f\">fbref.py</span></a><span style=\"color: #7f7f7f; text-decoration-color: #7f7f7f\">:</span><a href=\"file:///usr/local/lib/python3.11/dist-packages/soccerdata/fbref.py#815\" target=\"_blank\"><span style=\"color: #7f7f7f; text-decoration-color: #7f7f7f\">815</span></a>\n",
              "</pre>\n"
            ]
          },
          "metadata": {}
        },
        {
          "output_type": "display_data",
          "data": {
            "text/plain": [
              "\u001b[2;36m[01/27/25 23:27:24]\u001b[0m\u001b[2;36m \u001b[0m\u001b[34mINFO    \u001b[0m \u001b[1m[\u001b[0m\u001b[1;36m362\u001b[0m/\u001b[1;36m380\u001b[0m\u001b[1m]\u001b[0m Retrieving game with \u001b[33mid\u001b[0m=\u001b[35m384547b8\u001b[0m                                \u001b]8;id=869700;file:///usr/local/lib/python3.11/dist-packages/soccerdata/fbref.py\u001b\\\u001b[2mfbref.py\u001b[0m\u001b]8;;\u001b\\\u001b[2m:\u001b[0m\u001b]8;id=77878;file:///usr/local/lib/python3.11/dist-packages/soccerdata/fbref.py#815\u001b\\\u001b[2m815\u001b[0m\u001b]8;;\u001b\\\n"
            ],
            "text/html": [
              "<pre style=\"white-space:pre;overflow-x:auto;line-height:normal;font-family:Menlo,'DejaVu Sans Mono',consolas,'Courier New',monospace\"><span style=\"color: #7fbfbf; text-decoration-color: #7fbfbf\">[01/27/25 23:27:24] </span><span style=\"color: #000080; text-decoration-color: #000080\">INFO    </span> <span style=\"font-weight: bold\">[</span><span style=\"color: #008080; text-decoration-color: #008080; font-weight: bold\">362</span>/<span style=\"color: #008080; text-decoration-color: #008080; font-weight: bold\">380</span><span style=\"font-weight: bold\">]</span> Retrieving game with <span style=\"color: #808000; text-decoration-color: #808000\">id</span>=<span style=\"color: #800080; text-decoration-color: #800080\">384547b8</span>                                <a href=\"file:///usr/local/lib/python3.11/dist-packages/soccerdata/fbref.py\" target=\"_blank\"><span style=\"color: #7f7f7f; text-decoration-color: #7f7f7f\">fbref.py</span></a><span style=\"color: #7f7f7f; text-decoration-color: #7f7f7f\">:</span><a href=\"file:///usr/local/lib/python3.11/dist-packages/soccerdata/fbref.py#815\" target=\"_blank\"><span style=\"color: #7f7f7f; text-decoration-color: #7f7f7f\">815</span></a>\n",
              "</pre>\n"
            ]
          },
          "metadata": {}
        },
        {
          "output_type": "display_data",
          "data": {
            "text/plain": [
              "\u001b[2;36m[01/27/25 23:27:31]\u001b[0m\u001b[2;36m \u001b[0m\u001b[34mINFO    \u001b[0m \u001b[1m[\u001b[0m\u001b[1;36m363\u001b[0m/\u001b[1;36m380\u001b[0m\u001b[1m]\u001b[0m Retrieving game with \u001b[33mid\u001b[0m=\u001b[35m45c36efd\u001b[0m                                \u001b]8;id=139740;file:///usr/local/lib/python3.11/dist-packages/soccerdata/fbref.py\u001b\\\u001b[2mfbref.py\u001b[0m\u001b]8;;\u001b\\\u001b[2m:\u001b[0m\u001b]8;id=479772;file:///usr/local/lib/python3.11/dist-packages/soccerdata/fbref.py#815\u001b\\\u001b[2m815\u001b[0m\u001b]8;;\u001b\\\n"
            ],
            "text/html": [
              "<pre style=\"white-space:pre;overflow-x:auto;line-height:normal;font-family:Menlo,'DejaVu Sans Mono',consolas,'Courier New',monospace\"><span style=\"color: #7fbfbf; text-decoration-color: #7fbfbf\">[01/27/25 23:27:31] </span><span style=\"color: #000080; text-decoration-color: #000080\">INFO    </span> <span style=\"font-weight: bold\">[</span><span style=\"color: #008080; text-decoration-color: #008080; font-weight: bold\">363</span>/<span style=\"color: #008080; text-decoration-color: #008080; font-weight: bold\">380</span><span style=\"font-weight: bold\">]</span> Retrieving game with <span style=\"color: #808000; text-decoration-color: #808000\">id</span>=<span style=\"color: #800080; text-decoration-color: #800080\">45c36efd</span>                                <a href=\"file:///usr/local/lib/python3.11/dist-packages/soccerdata/fbref.py\" target=\"_blank\"><span style=\"color: #7f7f7f; text-decoration-color: #7f7f7f\">fbref.py</span></a><span style=\"color: #7f7f7f; text-decoration-color: #7f7f7f\">:</span><a href=\"file:///usr/local/lib/python3.11/dist-packages/soccerdata/fbref.py#815\" target=\"_blank\"><span style=\"color: #7f7f7f; text-decoration-color: #7f7f7f\">815</span></a>\n",
              "</pre>\n"
            ]
          },
          "metadata": {}
        },
        {
          "output_type": "display_data",
          "data": {
            "text/plain": [
              "\u001b[2;36m[01/27/25 23:27:37]\u001b[0m\u001b[2;36m \u001b[0m\u001b[34mINFO    \u001b[0m \u001b[1m[\u001b[0m\u001b[1;36m364\u001b[0m/\u001b[1;36m380\u001b[0m\u001b[1m]\u001b[0m Retrieving game with \u001b[33mid\u001b[0m=\u001b[35m17e9dbbf\u001b[0m                                \u001b]8;id=392046;file:///usr/local/lib/python3.11/dist-packages/soccerdata/fbref.py\u001b\\\u001b[2mfbref.py\u001b[0m\u001b]8;;\u001b\\\u001b[2m:\u001b[0m\u001b]8;id=105603;file:///usr/local/lib/python3.11/dist-packages/soccerdata/fbref.py#815\u001b\\\u001b[2m815\u001b[0m\u001b]8;;\u001b\\\n"
            ],
            "text/html": [
              "<pre style=\"white-space:pre;overflow-x:auto;line-height:normal;font-family:Menlo,'DejaVu Sans Mono',consolas,'Courier New',monospace\"><span style=\"color: #7fbfbf; text-decoration-color: #7fbfbf\">[01/27/25 23:27:37] </span><span style=\"color: #000080; text-decoration-color: #000080\">INFO    </span> <span style=\"font-weight: bold\">[</span><span style=\"color: #008080; text-decoration-color: #008080; font-weight: bold\">364</span>/<span style=\"color: #008080; text-decoration-color: #008080; font-weight: bold\">380</span><span style=\"font-weight: bold\">]</span> Retrieving game with <span style=\"color: #808000; text-decoration-color: #808000\">id</span>=<span style=\"color: #800080; text-decoration-color: #800080\">17e9dbbf</span>                                <a href=\"file:///usr/local/lib/python3.11/dist-packages/soccerdata/fbref.py\" target=\"_blank\"><span style=\"color: #7f7f7f; text-decoration-color: #7f7f7f\">fbref.py</span></a><span style=\"color: #7f7f7f; text-decoration-color: #7f7f7f\">:</span><a href=\"file:///usr/local/lib/python3.11/dist-packages/soccerdata/fbref.py#815\" target=\"_blank\"><span style=\"color: #7f7f7f; text-decoration-color: #7f7f7f\">815</span></a>\n",
              "</pre>\n"
            ]
          },
          "metadata": {}
        },
        {
          "output_type": "display_data",
          "data": {
            "text/plain": [
              "\u001b[2;36m[01/27/25 23:27:43]\u001b[0m\u001b[2;36m \u001b[0m\u001b[34mINFO    \u001b[0m \u001b[1m[\u001b[0m\u001b[1;36m365\u001b[0m/\u001b[1;36m380\u001b[0m\u001b[1m]\u001b[0m Retrieving game with \u001b[33mid\u001b[0m=\u001b[35m16d5b6aa\u001b[0m                                \u001b]8;id=826763;file:///usr/local/lib/python3.11/dist-packages/soccerdata/fbref.py\u001b\\\u001b[2mfbref.py\u001b[0m\u001b]8;;\u001b\\\u001b[2m:\u001b[0m\u001b]8;id=50735;file:///usr/local/lib/python3.11/dist-packages/soccerdata/fbref.py#815\u001b\\\u001b[2m815\u001b[0m\u001b]8;;\u001b\\\n"
            ],
            "text/html": [
              "<pre style=\"white-space:pre;overflow-x:auto;line-height:normal;font-family:Menlo,'DejaVu Sans Mono',consolas,'Courier New',monospace\"><span style=\"color: #7fbfbf; text-decoration-color: #7fbfbf\">[01/27/25 23:27:43] </span><span style=\"color: #000080; text-decoration-color: #000080\">INFO    </span> <span style=\"font-weight: bold\">[</span><span style=\"color: #008080; text-decoration-color: #008080; font-weight: bold\">365</span>/<span style=\"color: #008080; text-decoration-color: #008080; font-weight: bold\">380</span><span style=\"font-weight: bold\">]</span> Retrieving game with <span style=\"color: #808000; text-decoration-color: #808000\">id</span>=<span style=\"color: #800080; text-decoration-color: #800080\">16d5b6aa</span>                                <a href=\"file:///usr/local/lib/python3.11/dist-packages/soccerdata/fbref.py\" target=\"_blank\"><span style=\"color: #7f7f7f; text-decoration-color: #7f7f7f\">fbref.py</span></a><span style=\"color: #7f7f7f; text-decoration-color: #7f7f7f\">:</span><a href=\"file:///usr/local/lib/python3.11/dist-packages/soccerdata/fbref.py#815\" target=\"_blank\"><span style=\"color: #7f7f7f; text-decoration-color: #7f7f7f\">815</span></a>\n",
              "</pre>\n"
            ]
          },
          "metadata": {}
        },
        {
          "output_type": "display_data",
          "data": {
            "text/plain": [
              "\u001b[2;36m[01/27/25 23:27:50]\u001b[0m\u001b[2;36m \u001b[0m\u001b[34mINFO    \u001b[0m \u001b[1m[\u001b[0m\u001b[1;36m366\u001b[0m/\u001b[1;36m380\u001b[0m\u001b[1m]\u001b[0m Retrieving game with \u001b[33mid\u001b[0m=\u001b[35mab9827f2\u001b[0m                                \u001b]8;id=744712;file:///usr/local/lib/python3.11/dist-packages/soccerdata/fbref.py\u001b\\\u001b[2mfbref.py\u001b[0m\u001b]8;;\u001b\\\u001b[2m:\u001b[0m\u001b]8;id=378260;file:///usr/local/lib/python3.11/dist-packages/soccerdata/fbref.py#815\u001b\\\u001b[2m815\u001b[0m\u001b]8;;\u001b\\\n"
            ],
            "text/html": [
              "<pre style=\"white-space:pre;overflow-x:auto;line-height:normal;font-family:Menlo,'DejaVu Sans Mono',consolas,'Courier New',monospace\"><span style=\"color: #7fbfbf; text-decoration-color: #7fbfbf\">[01/27/25 23:27:50] </span><span style=\"color: #000080; text-decoration-color: #000080\">INFO    </span> <span style=\"font-weight: bold\">[</span><span style=\"color: #008080; text-decoration-color: #008080; font-weight: bold\">366</span>/<span style=\"color: #008080; text-decoration-color: #008080; font-weight: bold\">380</span><span style=\"font-weight: bold\">]</span> Retrieving game with <span style=\"color: #808000; text-decoration-color: #808000\">id</span>=<span style=\"color: #800080; text-decoration-color: #800080\">ab9827f2</span>                                <a href=\"file:///usr/local/lib/python3.11/dist-packages/soccerdata/fbref.py\" target=\"_blank\"><span style=\"color: #7f7f7f; text-decoration-color: #7f7f7f\">fbref.py</span></a><span style=\"color: #7f7f7f; text-decoration-color: #7f7f7f\">:</span><a href=\"file:///usr/local/lib/python3.11/dist-packages/soccerdata/fbref.py#815\" target=\"_blank\"><span style=\"color: #7f7f7f; text-decoration-color: #7f7f7f\">815</span></a>\n",
              "</pre>\n"
            ]
          },
          "metadata": {}
        },
        {
          "output_type": "display_data",
          "data": {
            "text/plain": [
              "\u001b[2;36m[01/27/25 23:27:56]\u001b[0m\u001b[2;36m \u001b[0m\u001b[34mINFO    \u001b[0m \u001b[1m[\u001b[0m\u001b[1;36m367\u001b[0m/\u001b[1;36m380\u001b[0m\u001b[1m]\u001b[0m Retrieving game with \u001b[33mid\u001b[0m=\u001b[35m72c0709d\u001b[0m                                \u001b]8;id=190831;file:///usr/local/lib/python3.11/dist-packages/soccerdata/fbref.py\u001b\\\u001b[2mfbref.py\u001b[0m\u001b]8;;\u001b\\\u001b[2m:\u001b[0m\u001b]8;id=654234;file:///usr/local/lib/python3.11/dist-packages/soccerdata/fbref.py#815\u001b\\\u001b[2m815\u001b[0m\u001b]8;;\u001b\\\n"
            ],
            "text/html": [
              "<pre style=\"white-space:pre;overflow-x:auto;line-height:normal;font-family:Menlo,'DejaVu Sans Mono',consolas,'Courier New',monospace\"><span style=\"color: #7fbfbf; text-decoration-color: #7fbfbf\">[01/27/25 23:27:56] </span><span style=\"color: #000080; text-decoration-color: #000080\">INFO    </span> <span style=\"font-weight: bold\">[</span><span style=\"color: #008080; text-decoration-color: #008080; font-weight: bold\">367</span>/<span style=\"color: #008080; text-decoration-color: #008080; font-weight: bold\">380</span><span style=\"font-weight: bold\">]</span> Retrieving game with <span style=\"color: #808000; text-decoration-color: #808000\">id</span>=<span style=\"color: #800080; text-decoration-color: #800080\">72c0709d</span>                                <a href=\"file:///usr/local/lib/python3.11/dist-packages/soccerdata/fbref.py\" target=\"_blank\"><span style=\"color: #7f7f7f; text-decoration-color: #7f7f7f\">fbref.py</span></a><span style=\"color: #7f7f7f; text-decoration-color: #7f7f7f\">:</span><a href=\"file:///usr/local/lib/python3.11/dist-packages/soccerdata/fbref.py#815\" target=\"_blank\"><span style=\"color: #7f7f7f; text-decoration-color: #7f7f7f\">815</span></a>\n",
              "</pre>\n"
            ]
          },
          "metadata": {}
        },
        {
          "output_type": "display_data",
          "data": {
            "text/plain": [
              "\u001b[2;36m[01/27/25 23:28:03]\u001b[0m\u001b[2;36m \u001b[0m\u001b[34mINFO    \u001b[0m \u001b[1m[\u001b[0m\u001b[1;36m368\u001b[0m/\u001b[1;36m380\u001b[0m\u001b[1m]\u001b[0m Retrieving game with \u001b[33mid\u001b[0m=\u001b[35m2ba17e6d\u001b[0m                                \u001b]8;id=729134;file:///usr/local/lib/python3.11/dist-packages/soccerdata/fbref.py\u001b\\\u001b[2mfbref.py\u001b[0m\u001b]8;;\u001b\\\u001b[2m:\u001b[0m\u001b]8;id=334513;file:///usr/local/lib/python3.11/dist-packages/soccerdata/fbref.py#815\u001b\\\u001b[2m815\u001b[0m\u001b]8;;\u001b\\\n"
            ],
            "text/html": [
              "<pre style=\"white-space:pre;overflow-x:auto;line-height:normal;font-family:Menlo,'DejaVu Sans Mono',consolas,'Courier New',monospace\"><span style=\"color: #7fbfbf; text-decoration-color: #7fbfbf\">[01/27/25 23:28:03] </span><span style=\"color: #000080; text-decoration-color: #000080\">INFO    </span> <span style=\"font-weight: bold\">[</span><span style=\"color: #008080; text-decoration-color: #008080; font-weight: bold\">368</span>/<span style=\"color: #008080; text-decoration-color: #008080; font-weight: bold\">380</span><span style=\"font-weight: bold\">]</span> Retrieving game with <span style=\"color: #808000; text-decoration-color: #808000\">id</span>=<span style=\"color: #800080; text-decoration-color: #800080\">2ba17e6d</span>                                <a href=\"file:///usr/local/lib/python3.11/dist-packages/soccerdata/fbref.py\" target=\"_blank\"><span style=\"color: #7f7f7f; text-decoration-color: #7f7f7f\">fbref.py</span></a><span style=\"color: #7f7f7f; text-decoration-color: #7f7f7f\">:</span><a href=\"file:///usr/local/lib/python3.11/dist-packages/soccerdata/fbref.py#815\" target=\"_blank\"><span style=\"color: #7f7f7f; text-decoration-color: #7f7f7f\">815</span></a>\n",
              "</pre>\n"
            ]
          },
          "metadata": {}
        },
        {
          "output_type": "display_data",
          "data": {
            "text/plain": [
              "\u001b[2;36m[01/27/25 23:28:10]\u001b[0m\u001b[2;36m \u001b[0m\u001b[34mINFO    \u001b[0m \u001b[1m[\u001b[0m\u001b[1;36m369\u001b[0m/\u001b[1;36m380\u001b[0m\u001b[1m]\u001b[0m Retrieving game with \u001b[33mid\u001b[0m=\u001b[35mb42b7907\u001b[0m                                \u001b]8;id=553710;file:///usr/local/lib/python3.11/dist-packages/soccerdata/fbref.py\u001b\\\u001b[2mfbref.py\u001b[0m\u001b]8;;\u001b\\\u001b[2m:\u001b[0m\u001b]8;id=485312;file:///usr/local/lib/python3.11/dist-packages/soccerdata/fbref.py#815\u001b\\\u001b[2m815\u001b[0m\u001b]8;;\u001b\\\n"
            ],
            "text/html": [
              "<pre style=\"white-space:pre;overflow-x:auto;line-height:normal;font-family:Menlo,'DejaVu Sans Mono',consolas,'Courier New',monospace\"><span style=\"color: #7fbfbf; text-decoration-color: #7fbfbf\">[01/27/25 23:28:10] </span><span style=\"color: #000080; text-decoration-color: #000080\">INFO    </span> <span style=\"font-weight: bold\">[</span><span style=\"color: #008080; text-decoration-color: #008080; font-weight: bold\">369</span>/<span style=\"color: #008080; text-decoration-color: #008080; font-weight: bold\">380</span><span style=\"font-weight: bold\">]</span> Retrieving game with <span style=\"color: #808000; text-decoration-color: #808000\">id</span>=<span style=\"color: #800080; text-decoration-color: #800080\">b42b7907</span>                                <a href=\"file:///usr/local/lib/python3.11/dist-packages/soccerdata/fbref.py\" target=\"_blank\"><span style=\"color: #7f7f7f; text-decoration-color: #7f7f7f\">fbref.py</span></a><span style=\"color: #7f7f7f; text-decoration-color: #7f7f7f\">:</span><a href=\"file:///usr/local/lib/python3.11/dist-packages/soccerdata/fbref.py#815\" target=\"_blank\"><span style=\"color: #7f7f7f; text-decoration-color: #7f7f7f\">815</span></a>\n",
              "</pre>\n"
            ]
          },
          "metadata": {}
        },
        {
          "output_type": "display_data",
          "data": {
            "text/plain": [
              "\u001b[2;36m[01/27/25 23:28:16]\u001b[0m\u001b[2;36m \u001b[0m\u001b[34mINFO    \u001b[0m \u001b[1m[\u001b[0m\u001b[1;36m370\u001b[0m/\u001b[1;36m380\u001b[0m\u001b[1m]\u001b[0m Retrieving game with \u001b[33mid\u001b[0m=\u001b[35me43e8597\u001b[0m                                \u001b]8;id=107947;file:///usr/local/lib/python3.11/dist-packages/soccerdata/fbref.py\u001b\\\u001b[2mfbref.py\u001b[0m\u001b]8;;\u001b\\\u001b[2m:\u001b[0m\u001b]8;id=428762;file:///usr/local/lib/python3.11/dist-packages/soccerdata/fbref.py#815\u001b\\\u001b[2m815\u001b[0m\u001b]8;;\u001b\\\n"
            ],
            "text/html": [
              "<pre style=\"white-space:pre;overflow-x:auto;line-height:normal;font-family:Menlo,'DejaVu Sans Mono',consolas,'Courier New',monospace\"><span style=\"color: #7fbfbf; text-decoration-color: #7fbfbf\">[01/27/25 23:28:16] </span><span style=\"color: #000080; text-decoration-color: #000080\">INFO    </span> <span style=\"font-weight: bold\">[</span><span style=\"color: #008080; text-decoration-color: #008080; font-weight: bold\">370</span>/<span style=\"color: #008080; text-decoration-color: #008080; font-weight: bold\">380</span><span style=\"font-weight: bold\">]</span> Retrieving game with <span style=\"color: #808000; text-decoration-color: #808000\">id</span>=<span style=\"color: #800080; text-decoration-color: #800080\">e43e8597</span>                                <a href=\"file:///usr/local/lib/python3.11/dist-packages/soccerdata/fbref.py\" target=\"_blank\"><span style=\"color: #7f7f7f; text-decoration-color: #7f7f7f\">fbref.py</span></a><span style=\"color: #7f7f7f; text-decoration-color: #7f7f7f\">:</span><a href=\"file:///usr/local/lib/python3.11/dist-packages/soccerdata/fbref.py#815\" target=\"_blank\"><span style=\"color: #7f7f7f; text-decoration-color: #7f7f7f\">815</span></a>\n",
              "</pre>\n"
            ]
          },
          "metadata": {}
        },
        {
          "output_type": "display_data",
          "data": {
            "text/plain": [
              "\u001b[2;36m[01/27/25 23:28:22]\u001b[0m\u001b[2;36m \u001b[0m\u001b[34mINFO    \u001b[0m \u001b[1m[\u001b[0m\u001b[1;36m371\u001b[0m/\u001b[1;36m380\u001b[0m\u001b[1m]\u001b[0m Retrieving game with \u001b[33mid\u001b[0m=\u001b[35m3e33bd98\u001b[0m                                \u001b]8;id=77449;file:///usr/local/lib/python3.11/dist-packages/soccerdata/fbref.py\u001b\\\u001b[2mfbref.py\u001b[0m\u001b]8;;\u001b\\\u001b[2m:\u001b[0m\u001b]8;id=177347;file:///usr/local/lib/python3.11/dist-packages/soccerdata/fbref.py#815\u001b\\\u001b[2m815\u001b[0m\u001b]8;;\u001b\\\n"
            ],
            "text/html": [
              "<pre style=\"white-space:pre;overflow-x:auto;line-height:normal;font-family:Menlo,'DejaVu Sans Mono',consolas,'Courier New',monospace\"><span style=\"color: #7fbfbf; text-decoration-color: #7fbfbf\">[01/27/25 23:28:22] </span><span style=\"color: #000080; text-decoration-color: #000080\">INFO    </span> <span style=\"font-weight: bold\">[</span><span style=\"color: #008080; text-decoration-color: #008080; font-weight: bold\">371</span>/<span style=\"color: #008080; text-decoration-color: #008080; font-weight: bold\">380</span><span style=\"font-weight: bold\">]</span> Retrieving game with <span style=\"color: #808000; text-decoration-color: #808000\">id</span>=<span style=\"color: #800080; text-decoration-color: #800080\">3e33bd98</span>                                <a href=\"file:///usr/local/lib/python3.11/dist-packages/soccerdata/fbref.py\" target=\"_blank\"><span style=\"color: #7f7f7f; text-decoration-color: #7f7f7f\">fbref.py</span></a><span style=\"color: #7f7f7f; text-decoration-color: #7f7f7f\">:</span><a href=\"file:///usr/local/lib/python3.11/dist-packages/soccerdata/fbref.py#815\" target=\"_blank\"><span style=\"color: #7f7f7f; text-decoration-color: #7f7f7f\">815</span></a>\n",
              "</pre>\n"
            ]
          },
          "metadata": {}
        },
        {
          "output_type": "display_data",
          "data": {
            "text/plain": [
              "\u001b[2;36m[01/27/25 23:28:29]\u001b[0m\u001b[2;36m \u001b[0m\u001b[34mINFO    \u001b[0m \u001b[1m[\u001b[0m\u001b[1;36m372\u001b[0m/\u001b[1;36m380\u001b[0m\u001b[1m]\u001b[0m Retrieving game with \u001b[33mid\u001b[0m=\u001b[35m546e1a3d\u001b[0m                                \u001b]8;id=599815;file:///usr/local/lib/python3.11/dist-packages/soccerdata/fbref.py\u001b\\\u001b[2mfbref.py\u001b[0m\u001b]8;;\u001b\\\u001b[2m:\u001b[0m\u001b]8;id=155720;file:///usr/local/lib/python3.11/dist-packages/soccerdata/fbref.py#815\u001b\\\u001b[2m815\u001b[0m\u001b]8;;\u001b\\\n"
            ],
            "text/html": [
              "<pre style=\"white-space:pre;overflow-x:auto;line-height:normal;font-family:Menlo,'DejaVu Sans Mono',consolas,'Courier New',monospace\"><span style=\"color: #7fbfbf; text-decoration-color: #7fbfbf\">[01/27/25 23:28:29] </span><span style=\"color: #000080; text-decoration-color: #000080\">INFO    </span> <span style=\"font-weight: bold\">[</span><span style=\"color: #008080; text-decoration-color: #008080; font-weight: bold\">372</span>/<span style=\"color: #008080; text-decoration-color: #008080; font-weight: bold\">380</span><span style=\"font-weight: bold\">]</span> Retrieving game with <span style=\"color: #808000; text-decoration-color: #808000\">id</span>=<span style=\"color: #800080; text-decoration-color: #800080\">546e1a3d</span>                                <a href=\"file:///usr/local/lib/python3.11/dist-packages/soccerdata/fbref.py\" target=\"_blank\"><span style=\"color: #7f7f7f; text-decoration-color: #7f7f7f\">fbref.py</span></a><span style=\"color: #7f7f7f; text-decoration-color: #7f7f7f\">:</span><a href=\"file:///usr/local/lib/python3.11/dist-packages/soccerdata/fbref.py#815\" target=\"_blank\"><span style=\"color: #7f7f7f; text-decoration-color: #7f7f7f\">815</span></a>\n",
              "</pre>\n"
            ]
          },
          "metadata": {}
        },
        {
          "output_type": "display_data",
          "data": {
            "text/plain": [
              "\u001b[2;36m[01/27/25 23:28:36]\u001b[0m\u001b[2;36m \u001b[0m\u001b[34mINFO    \u001b[0m \u001b[1m[\u001b[0m\u001b[1;36m373\u001b[0m/\u001b[1;36m380\u001b[0m\u001b[1m]\u001b[0m Retrieving game with \u001b[33mid\u001b[0m=\u001b[35m47ecdc19\u001b[0m                                \u001b]8;id=213793;file:///usr/local/lib/python3.11/dist-packages/soccerdata/fbref.py\u001b\\\u001b[2mfbref.py\u001b[0m\u001b]8;;\u001b\\\u001b[2m:\u001b[0m\u001b]8;id=187768;file:///usr/local/lib/python3.11/dist-packages/soccerdata/fbref.py#815\u001b\\\u001b[2m815\u001b[0m\u001b]8;;\u001b\\\n"
            ],
            "text/html": [
              "<pre style=\"white-space:pre;overflow-x:auto;line-height:normal;font-family:Menlo,'DejaVu Sans Mono',consolas,'Courier New',monospace\"><span style=\"color: #7fbfbf; text-decoration-color: #7fbfbf\">[01/27/25 23:28:36] </span><span style=\"color: #000080; text-decoration-color: #000080\">INFO    </span> <span style=\"font-weight: bold\">[</span><span style=\"color: #008080; text-decoration-color: #008080; font-weight: bold\">373</span>/<span style=\"color: #008080; text-decoration-color: #008080; font-weight: bold\">380</span><span style=\"font-weight: bold\">]</span> Retrieving game with <span style=\"color: #808000; text-decoration-color: #808000\">id</span>=<span style=\"color: #800080; text-decoration-color: #800080\">47ecdc19</span>                                <a href=\"file:///usr/local/lib/python3.11/dist-packages/soccerdata/fbref.py\" target=\"_blank\"><span style=\"color: #7f7f7f; text-decoration-color: #7f7f7f\">fbref.py</span></a><span style=\"color: #7f7f7f; text-decoration-color: #7f7f7f\">:</span><a href=\"file:///usr/local/lib/python3.11/dist-packages/soccerdata/fbref.py#815\" target=\"_blank\"><span style=\"color: #7f7f7f; text-decoration-color: #7f7f7f\">815</span></a>\n",
              "</pre>\n"
            ]
          },
          "metadata": {}
        },
        {
          "output_type": "display_data",
          "data": {
            "text/plain": [
              "\u001b[2;36m[01/27/25 23:28:43]\u001b[0m\u001b[2;36m \u001b[0m\u001b[34mINFO    \u001b[0m \u001b[1m[\u001b[0m\u001b[1;36m374\u001b[0m/\u001b[1;36m380\u001b[0m\u001b[1m]\u001b[0m Retrieving game with \u001b[33mid\u001b[0m=\u001b[35mdafb05fe\u001b[0m                                \u001b]8;id=731441;file:///usr/local/lib/python3.11/dist-packages/soccerdata/fbref.py\u001b\\\u001b[2mfbref.py\u001b[0m\u001b]8;;\u001b\\\u001b[2m:\u001b[0m\u001b]8;id=999125;file:///usr/local/lib/python3.11/dist-packages/soccerdata/fbref.py#815\u001b\\\u001b[2m815\u001b[0m\u001b]8;;\u001b\\\n"
            ],
            "text/html": [
              "<pre style=\"white-space:pre;overflow-x:auto;line-height:normal;font-family:Menlo,'DejaVu Sans Mono',consolas,'Courier New',monospace\"><span style=\"color: #7fbfbf; text-decoration-color: #7fbfbf\">[01/27/25 23:28:43] </span><span style=\"color: #000080; text-decoration-color: #000080\">INFO    </span> <span style=\"font-weight: bold\">[</span><span style=\"color: #008080; text-decoration-color: #008080; font-weight: bold\">374</span>/<span style=\"color: #008080; text-decoration-color: #008080; font-weight: bold\">380</span><span style=\"font-weight: bold\">]</span> Retrieving game with <span style=\"color: #808000; text-decoration-color: #808000\">id</span>=<span style=\"color: #800080; text-decoration-color: #800080\">dafb05fe</span>                                <a href=\"file:///usr/local/lib/python3.11/dist-packages/soccerdata/fbref.py\" target=\"_blank\"><span style=\"color: #7f7f7f; text-decoration-color: #7f7f7f\">fbref.py</span></a><span style=\"color: #7f7f7f; text-decoration-color: #7f7f7f\">:</span><a href=\"file:///usr/local/lib/python3.11/dist-packages/soccerdata/fbref.py#815\" target=\"_blank\"><span style=\"color: #7f7f7f; text-decoration-color: #7f7f7f\">815</span></a>\n",
              "</pre>\n"
            ]
          },
          "metadata": {}
        },
        {
          "output_type": "display_data",
          "data": {
            "text/plain": [
              "\u001b[2;36m[01/27/25 23:28:50]\u001b[0m\u001b[2;36m \u001b[0m\u001b[34mINFO    \u001b[0m \u001b[1m[\u001b[0m\u001b[1;36m375\u001b[0m/\u001b[1;36m380\u001b[0m\u001b[1m]\u001b[0m Retrieving game with \u001b[33mid\u001b[0m=\u001b[35m7c034003\u001b[0m                                \u001b]8;id=842678;file:///usr/local/lib/python3.11/dist-packages/soccerdata/fbref.py\u001b\\\u001b[2mfbref.py\u001b[0m\u001b]8;;\u001b\\\u001b[2m:\u001b[0m\u001b]8;id=227603;file:///usr/local/lib/python3.11/dist-packages/soccerdata/fbref.py#815\u001b\\\u001b[2m815\u001b[0m\u001b]8;;\u001b\\\n"
            ],
            "text/html": [
              "<pre style=\"white-space:pre;overflow-x:auto;line-height:normal;font-family:Menlo,'DejaVu Sans Mono',consolas,'Courier New',monospace\"><span style=\"color: #7fbfbf; text-decoration-color: #7fbfbf\">[01/27/25 23:28:50] </span><span style=\"color: #000080; text-decoration-color: #000080\">INFO    </span> <span style=\"font-weight: bold\">[</span><span style=\"color: #008080; text-decoration-color: #008080; font-weight: bold\">375</span>/<span style=\"color: #008080; text-decoration-color: #008080; font-weight: bold\">380</span><span style=\"font-weight: bold\">]</span> Retrieving game with <span style=\"color: #808000; text-decoration-color: #808000\">id</span>=<span style=\"color: #800080; text-decoration-color: #800080\">7c034003</span>                                <a href=\"file:///usr/local/lib/python3.11/dist-packages/soccerdata/fbref.py\" target=\"_blank\"><span style=\"color: #7f7f7f; text-decoration-color: #7f7f7f\">fbref.py</span></a><span style=\"color: #7f7f7f; text-decoration-color: #7f7f7f\">:</span><a href=\"file:///usr/local/lib/python3.11/dist-packages/soccerdata/fbref.py#815\" target=\"_blank\"><span style=\"color: #7f7f7f; text-decoration-color: #7f7f7f\">815</span></a>\n",
              "</pre>\n"
            ]
          },
          "metadata": {}
        },
        {
          "output_type": "display_data",
          "data": {
            "text/plain": [
              "\u001b[2;36m[01/27/25 23:28:58]\u001b[0m\u001b[2;36m \u001b[0m\u001b[34mINFO    \u001b[0m \u001b[1m[\u001b[0m\u001b[1;36m376\u001b[0m/\u001b[1;36m380\u001b[0m\u001b[1m]\u001b[0m Retrieving game with \u001b[33mid\u001b[0m=\u001b[35mc975c7a6\u001b[0m                                \u001b]8;id=743794;file:///usr/local/lib/python3.11/dist-packages/soccerdata/fbref.py\u001b\\\u001b[2mfbref.py\u001b[0m\u001b]8;;\u001b\\\u001b[2m:\u001b[0m\u001b]8;id=272385;file:///usr/local/lib/python3.11/dist-packages/soccerdata/fbref.py#815\u001b\\\u001b[2m815\u001b[0m\u001b]8;;\u001b\\\n"
            ],
            "text/html": [
              "<pre style=\"white-space:pre;overflow-x:auto;line-height:normal;font-family:Menlo,'DejaVu Sans Mono',consolas,'Courier New',monospace\"><span style=\"color: #7fbfbf; text-decoration-color: #7fbfbf\">[01/27/25 23:28:58] </span><span style=\"color: #000080; text-decoration-color: #000080\">INFO    </span> <span style=\"font-weight: bold\">[</span><span style=\"color: #008080; text-decoration-color: #008080; font-weight: bold\">376</span>/<span style=\"color: #008080; text-decoration-color: #008080; font-weight: bold\">380</span><span style=\"font-weight: bold\">]</span> Retrieving game with <span style=\"color: #808000; text-decoration-color: #808000\">id</span>=<span style=\"color: #800080; text-decoration-color: #800080\">c975c7a6</span>                                <a href=\"file:///usr/local/lib/python3.11/dist-packages/soccerdata/fbref.py\" target=\"_blank\"><span style=\"color: #7f7f7f; text-decoration-color: #7f7f7f\">fbref.py</span></a><span style=\"color: #7f7f7f; text-decoration-color: #7f7f7f\">:</span><a href=\"file:///usr/local/lib/python3.11/dist-packages/soccerdata/fbref.py#815\" target=\"_blank\"><span style=\"color: #7f7f7f; text-decoration-color: #7f7f7f\">815</span></a>\n",
              "</pre>\n"
            ]
          },
          "metadata": {}
        },
        {
          "output_type": "display_data",
          "data": {
            "text/plain": [
              "\u001b[2;36m[01/27/25 23:29:05]\u001b[0m\u001b[2;36m \u001b[0m\u001b[34mINFO    \u001b[0m \u001b[1m[\u001b[0m\u001b[1;36m377\u001b[0m/\u001b[1;36m380\u001b[0m\u001b[1m]\u001b[0m Retrieving game with \u001b[33mid\u001b[0m=\u001b[35md4823ed5\u001b[0m                                \u001b]8;id=238322;file:///usr/local/lib/python3.11/dist-packages/soccerdata/fbref.py\u001b\\\u001b[2mfbref.py\u001b[0m\u001b]8;;\u001b\\\u001b[2m:\u001b[0m\u001b]8;id=262571;file:///usr/local/lib/python3.11/dist-packages/soccerdata/fbref.py#815\u001b\\\u001b[2m815\u001b[0m\u001b]8;;\u001b\\\n"
            ],
            "text/html": [
              "<pre style=\"white-space:pre;overflow-x:auto;line-height:normal;font-family:Menlo,'DejaVu Sans Mono',consolas,'Courier New',monospace\"><span style=\"color: #7fbfbf; text-decoration-color: #7fbfbf\">[01/27/25 23:29:05] </span><span style=\"color: #000080; text-decoration-color: #000080\">INFO    </span> <span style=\"font-weight: bold\">[</span><span style=\"color: #008080; text-decoration-color: #008080; font-weight: bold\">377</span>/<span style=\"color: #008080; text-decoration-color: #008080; font-weight: bold\">380</span><span style=\"font-weight: bold\">]</span> Retrieving game with <span style=\"color: #808000; text-decoration-color: #808000\">id</span>=<span style=\"color: #800080; text-decoration-color: #800080\">d4823ed5</span>                                <a href=\"file:///usr/local/lib/python3.11/dist-packages/soccerdata/fbref.py\" target=\"_blank\"><span style=\"color: #7f7f7f; text-decoration-color: #7f7f7f\">fbref.py</span></a><span style=\"color: #7f7f7f; text-decoration-color: #7f7f7f\">:</span><a href=\"file:///usr/local/lib/python3.11/dist-packages/soccerdata/fbref.py#815\" target=\"_blank\"><span style=\"color: #7f7f7f; text-decoration-color: #7f7f7f\">815</span></a>\n",
              "</pre>\n"
            ]
          },
          "metadata": {}
        },
        {
          "output_type": "display_data",
          "data": {
            "text/plain": [
              "\u001b[2;36m[01/27/25 23:29:11]\u001b[0m\u001b[2;36m \u001b[0m\u001b[34mINFO    \u001b[0m \u001b[1m[\u001b[0m\u001b[1;36m378\u001b[0m/\u001b[1;36m380\u001b[0m\u001b[1m]\u001b[0m Retrieving game with \u001b[33mid\u001b[0m=\u001b[35m0fde9d70\u001b[0m                                \u001b]8;id=736971;file:///usr/local/lib/python3.11/dist-packages/soccerdata/fbref.py\u001b\\\u001b[2mfbref.py\u001b[0m\u001b]8;;\u001b\\\u001b[2m:\u001b[0m\u001b]8;id=355105;file:///usr/local/lib/python3.11/dist-packages/soccerdata/fbref.py#815\u001b\\\u001b[2m815\u001b[0m\u001b]8;;\u001b\\\n"
            ],
            "text/html": [
              "<pre style=\"white-space:pre;overflow-x:auto;line-height:normal;font-family:Menlo,'DejaVu Sans Mono',consolas,'Courier New',monospace\"><span style=\"color: #7fbfbf; text-decoration-color: #7fbfbf\">[01/27/25 23:29:11] </span><span style=\"color: #000080; text-decoration-color: #000080\">INFO    </span> <span style=\"font-weight: bold\">[</span><span style=\"color: #008080; text-decoration-color: #008080; font-weight: bold\">378</span>/<span style=\"color: #008080; text-decoration-color: #008080; font-weight: bold\">380</span><span style=\"font-weight: bold\">]</span> Retrieving game with <span style=\"color: #808000; text-decoration-color: #808000\">id</span>=<span style=\"color: #800080; text-decoration-color: #800080\">0fde9d70</span>                                <a href=\"file:///usr/local/lib/python3.11/dist-packages/soccerdata/fbref.py\" target=\"_blank\"><span style=\"color: #7f7f7f; text-decoration-color: #7f7f7f\">fbref.py</span></a><span style=\"color: #7f7f7f; text-decoration-color: #7f7f7f\">:</span><a href=\"file:///usr/local/lib/python3.11/dist-packages/soccerdata/fbref.py#815\" target=\"_blank\"><span style=\"color: #7f7f7f; text-decoration-color: #7f7f7f\">815</span></a>\n",
              "</pre>\n"
            ]
          },
          "metadata": {}
        },
        {
          "output_type": "display_data",
          "data": {
            "text/plain": [
              "\u001b[2;36m[01/27/25 23:29:18]\u001b[0m\u001b[2;36m \u001b[0m\u001b[34mINFO    \u001b[0m \u001b[1m[\u001b[0m\u001b[1;36m379\u001b[0m/\u001b[1;36m380\u001b[0m\u001b[1m]\u001b[0m Retrieving game with \u001b[33mid\u001b[0m=\u001b[1;36m29335211\u001b[0m                                \u001b]8;id=667094;file:///usr/local/lib/python3.11/dist-packages/soccerdata/fbref.py\u001b\\\u001b[2mfbref.py\u001b[0m\u001b]8;;\u001b\\\u001b[2m:\u001b[0m\u001b]8;id=51007;file:///usr/local/lib/python3.11/dist-packages/soccerdata/fbref.py#815\u001b\\\u001b[2m815\u001b[0m\u001b]8;;\u001b\\\n"
            ],
            "text/html": [
              "<pre style=\"white-space:pre;overflow-x:auto;line-height:normal;font-family:Menlo,'DejaVu Sans Mono',consolas,'Courier New',monospace\"><span style=\"color: #7fbfbf; text-decoration-color: #7fbfbf\">[01/27/25 23:29:18] </span><span style=\"color: #000080; text-decoration-color: #000080\">INFO    </span> <span style=\"font-weight: bold\">[</span><span style=\"color: #008080; text-decoration-color: #008080; font-weight: bold\">379</span>/<span style=\"color: #008080; text-decoration-color: #008080; font-weight: bold\">380</span><span style=\"font-weight: bold\">]</span> Retrieving game with <span style=\"color: #808000; text-decoration-color: #808000\">id</span>=<span style=\"color: #008080; text-decoration-color: #008080; font-weight: bold\">29335211</span>                                <a href=\"file:///usr/local/lib/python3.11/dist-packages/soccerdata/fbref.py\" target=\"_blank\"><span style=\"color: #7f7f7f; text-decoration-color: #7f7f7f\">fbref.py</span></a><span style=\"color: #7f7f7f; text-decoration-color: #7f7f7f\">:</span><a href=\"file:///usr/local/lib/python3.11/dist-packages/soccerdata/fbref.py#815\" target=\"_blank\"><span style=\"color: #7f7f7f; text-decoration-color: #7f7f7f\">815</span></a>\n",
              "</pre>\n"
            ]
          },
          "metadata": {}
        },
        {
          "output_type": "display_data",
          "data": {
            "text/plain": [
              "\u001b[2;36m[01/27/25 23:29:24]\u001b[0m\u001b[2;36m \u001b[0m\u001b[34mINFO    \u001b[0m \u001b[1m[\u001b[0m\u001b[1;36m380\u001b[0m/\u001b[1;36m380\u001b[0m\u001b[1m]\u001b[0m Retrieving game with \u001b[33mid\u001b[0m=\u001b[35m273a89b4\u001b[0m                                \u001b]8;id=654581;file:///usr/local/lib/python3.11/dist-packages/soccerdata/fbref.py\u001b\\\u001b[2mfbref.py\u001b[0m\u001b]8;;\u001b\\\u001b[2m:\u001b[0m\u001b]8;id=620527;file:///usr/local/lib/python3.11/dist-packages/soccerdata/fbref.py#815\u001b\\\u001b[2m815\u001b[0m\u001b]8;;\u001b\\\n"
            ],
            "text/html": [
              "<pre style=\"white-space:pre;overflow-x:auto;line-height:normal;font-family:Menlo,'DejaVu Sans Mono',consolas,'Courier New',monospace\"><span style=\"color: #7fbfbf; text-decoration-color: #7fbfbf\">[01/27/25 23:29:24] </span><span style=\"color: #000080; text-decoration-color: #000080\">INFO    </span> <span style=\"font-weight: bold\">[</span><span style=\"color: #008080; text-decoration-color: #008080; font-weight: bold\">380</span>/<span style=\"color: #008080; text-decoration-color: #008080; font-weight: bold\">380</span><span style=\"font-weight: bold\">]</span> Retrieving game with <span style=\"color: #808000; text-decoration-color: #808000\">id</span>=<span style=\"color: #800080; text-decoration-color: #800080\">273a89b4</span>                                <a href=\"file:///usr/local/lib/python3.11/dist-packages/soccerdata/fbref.py\" target=\"_blank\"><span style=\"color: #7f7f7f; text-decoration-color: #7f7f7f\">fbref.py</span></a><span style=\"color: #7f7f7f; text-decoration-color: #7f7f7f\">:</span><a href=\"file:///usr/local/lib/python3.11/dist-packages/soccerdata/fbref.py#815\" target=\"_blank\"><span style=\"color: #7f7f7f; text-decoration-color: #7f7f7f\">815</span></a>\n",
              "</pre>\n"
            ]
          },
          "metadata": {}
        }
      ]
    },
    {
      "cell_type": "code",
      "source": [
        "ManCity23_players_summary_own = ManCity23_players_summary.reset_index()[ManCity23_players_summary.reset_index()['team']=='Manchester City']\n",
        "ManCity23_players_summary_opp = ManCity23_players_summary.reset_index()[ManCity23_players_summary.reset_index()['team']!='Manchester City']"
      ],
      "metadata": {
        "id": "yl0SwY5E8pJt"
      },
      "execution_count": 57,
      "outputs": []
    },
    {
      "cell_type": "code",
      "source": [
        "ManCity23_players_summary_own.to_csv('ManCity23_players_summary_own.csv')\n",
        "ManCity23_players_summary_opp.to_csv('ManCity23_players_summary_opp.csv')"
      ],
      "metadata": {
        "id": "r6TxyRed8pHh"
      },
      "execution_count": 62,
      "outputs": []
    },
    {
      "cell_type": "code",
      "source": [
        "ManCity23_players_summary_own.columns"
      ],
      "metadata": {
        "colab": {
          "base_uri": "https://localhost:8080/"
        },
        "id": "lGj4KApM8pDL",
        "outputId": "c2e4fc55-3eb9-4374-ecf9-a288ec4549a1"
      },
      "execution_count": 103,
      "outputs": [
        {
          "output_type": "execute_result",
          "data": {
            "text/plain": [
              "MultiIndex([(       'league',        ''),\n",
              "            (       'season',        ''),\n",
              "            (         'game',        ''),\n",
              "            (         'team',        ''),\n",
              "            (       'player',        ''),\n",
              "            ('jersey_number',        ''),\n",
              "            (       'nation',        ''),\n",
              "            (          'pos',        ''),\n",
              "            (          'age',        ''),\n",
              "            (          'min',        ''),\n",
              "            (  'Performance',     'Gls'),\n",
              "            (  'Performance',     'Ast'),\n",
              "            (  'Performance',      'PK'),\n",
              "            (  'Performance',   'PKatt'),\n",
              "            (  'Performance',      'Sh'),\n",
              "            (  'Performance',     'SoT'),\n",
              "            (  'Performance',    'CrdY'),\n",
              "            (  'Performance',    'CrdR'),\n",
              "            (  'Performance', 'Touches'),\n",
              "            (  'Performance',     'Tkl'),\n",
              "            (  'Performance',     'Int'),\n",
              "            (  'Performance',  'Blocks'),\n",
              "            (     'Expected',      'xG'),\n",
              "            (     'Expected',    'npxG'),\n",
              "            (     'Expected',     'xAG'),\n",
              "            (          'SCA',     'SCA'),\n",
              "            (          'SCA',     'GCA'),\n",
              "            (       'Passes',     'Cmp'),\n",
              "            (       'Passes',     'Att'),\n",
              "            (       'Passes',    'Cmp%'),\n",
              "            (       'Passes',    'PrgP'),\n",
              "            (      'Carries', 'Carries'),\n",
              "            (      'Carries',    'PrgC'),\n",
              "            (     'Take-Ons',     'Att'),\n",
              "            (     'Take-Ons',    'Succ'),\n",
              "            (      'game_id',        '')],\n",
              "           )"
            ]
          },
          "metadata": {},
          "execution_count": 103
        }
      ]
    },
    {
      "cell_type": "code",
      "source": [
        "ManCity23_players_summary_own_clean = ManCity23_players_summary_own[['game', 'player', 'min']]\n",
        "ManCity23_players_summary_own_clean.columns = ['game', 'player', 'min']"
      ],
      "metadata": {
        "id": "8LEC7XP1bys0"
      },
      "execution_count": 163,
      "outputs": []
    },
    {
      "cell_type": "code",
      "source": [
        "import pandas as pd"
      ],
      "metadata": {
        "id": "ps99coUEb8Mv"
      },
      "execution_count": 164,
      "outputs": []
    },
    {
      "cell_type": "code",
      "source": [
        "ManCity23_players_summary_own_clean = pd.concat([ManCity23_players_summary_own_clean,\n",
        "                                                 ManCity23_players_summary_own['Performance'][['Sh', 'Touches', 'Tkl', 'Int', 'Blocks']],\n",
        "                                                 ManCity23_players_summary_own['Passes'][['Cmp', 'Att', 'PrgP']],\n",
        "                                                 ManCity23_players_summary_own['Carries'][['Carries', 'PrgC']],\n",
        "                                                 ManCity23_players_summary_own['Take-Ons'][['Att', 'Succ']]],\n",
        "                                                axis=1)\n",
        "ManCity23_players_summary_own_clean.reset_index(drop=True, inplace=True)\n",
        "ManCity23_players_summary_own_clean.columns = ['game', 'player', 'min', 'Sh', 'Touches', 'Tkl', 'Int', 'Blocks', 'PassCmp', 'PassAtt', 'PrgP', 'Carries', 'PrgC', 'TOAtt', 'TOSucc']"
      ],
      "metadata": {
        "id": "6Pm2JpcKcqGW"
      },
      "execution_count": 165,
      "outputs": []
    },
    {
      "cell_type": "code",
      "source": [
        "new_cols = {}\n",
        "for col in ManCity23_players_summary_own_clean.columns[3:]:\n",
        "  # print(col)\n",
        "  new_cols[col] =ManCity23_players_summary_own_clean[col] / ManCity23_players_summary_own_clean['min']"
      ],
      "metadata": {
        "colab": {
          "base_uri": "https://localhost:8080/"
        },
        "id": "rvreIF8hf1yN",
        "outputId": "b5094cb9-7e07-4ba2-b0a2-7edfb9377018"
      },
      "execution_count": 166,
      "outputs": [
        {
          "output_type": "stream",
          "name": "stdout",
          "text": [
            "Sh\n",
            "Touches\n",
            "Tkl\n",
            "Int\n",
            "Blocks\n",
            "PassCmp\n",
            "PassAtt\n",
            "PrgP\n",
            "Carries\n",
            "PrgC\n",
            "TOAtt\n",
            "TOSucc\n"
          ]
        }
      ]
    },
    {
      "cell_type": "code",
      "source": [
        "ManCity23_players_summary_own_clean.iloc[:, 3:] = pd.DataFrame(new_cols).iloc[:,:]"
      ],
      "metadata": {
        "id": "-bBIDixlf1vT"
      },
      "execution_count": 169,
      "outputs": []
    },
    {
      "cell_type": "code",
      "source": [
        "ManCity23_players_summary_own_clean = ManCity23_players_summary_own_clean[ManCity23_players_summary_own_clean['min']>=70]"
      ],
      "metadata": {
        "id": "bD5nhIWaiuAb"
      },
      "execution_count": 171,
      "outputs": []
    },
    {
      "cell_type": "code",
      "source": [
        "ManCity23_players_summary_own_clean.to_csv('ManCity23_players_summary_own_clean.csv')"
      ],
      "metadata": {
        "id": "Mh4bPH43cxyq"
      },
      "execution_count": 172,
      "outputs": []
    },
    {
      "cell_type": "code",
      "source": [
        "from sklearn.preprocessing import MinMaxScaler"
      ],
      "metadata": {
        "id": "981Azb1ubU7B"
      },
      "execution_count": 173,
      "outputs": []
    },
    {
      "cell_type": "code",
      "source": [
        "scaled = {}\n",
        "\n",
        "for game in ManCity23_players_summary_own_clean['game'].unique():\n",
        "  print(game)\n",
        "  game_df = ManCity23_players_summary_own_clean[ManCity23_players_summary_own_clean['game']==game]\n",
        "  scaler = MinMaxScaler()\n",
        "  game_df.iloc[:, 3:] = scaler.fit_transform(game_df.iloc[:, 3:])\n",
        "  scaled[game] = game_df\n",
        "\n",
        "scaled_df = pd.concat(scaled)"
      ],
      "metadata": {
        "colab": {
          "base_uri": "https://localhost:8080/"
        },
        "id": "_X5HIR5mbU4P",
        "outputId": "a2b371e3-7780-413f-ac1c-ea7b603b346a"
      },
      "execution_count": 180,
      "outputs": [
        {
          "output_type": "stream",
          "name": "stdout",
          "text": [
            "2023-08-11 Burnley-Manchester City\n",
            "2023-08-19 Manchester City-Newcastle Utd\n",
            "2023-08-27 Sheffield Utd-Manchester City\n",
            "2023-09-02 Manchester City-Fulham\n",
            "2023-09-16 West Ham-Manchester City\n",
            "2023-09-23 Manchester City-Nott'ham Forest\n",
            "2023-09-30 Wolves-Manchester City\n",
            "2023-10-08 Arsenal-Manchester City\n",
            "2023-10-21 Manchester City-Brighton\n",
            "2023-10-29 Manchester Utd-Manchester City\n",
            "2023-11-04 Manchester City-Bournemouth\n",
            "2023-11-12 Chelsea-Manchester City\n",
            "2023-11-25 Manchester City-Liverpool\n",
            "2023-12-03 Manchester City-Tottenham\n",
            "2023-12-06 Aston Villa-Manchester City\n",
            "2023-12-10 Luton Town-Manchester City\n",
            "2023-12-16 Manchester City-Crystal Palace\n",
            "2023-12-27 Everton-Manchester City\n",
            "2023-12-30 Manchester City-Sheffield Utd\n",
            "2024-01-13 Newcastle Utd-Manchester City\n",
            "2024-01-31 Manchester City-Burnley\n",
            "2024-02-05 Brentford-Manchester City\n",
            "2024-02-10 Manchester City-Everton\n",
            "2024-02-17 Manchester City-Chelsea\n",
            "2024-02-20 Manchester City-Brentford\n",
            "2024-02-24 Bournemouth-Manchester City\n",
            "2024-03-03 Manchester City-Manchester Utd\n",
            "2024-03-10 Liverpool-Manchester City\n",
            "2024-03-31 Manchester City-Arsenal\n",
            "2024-04-03 Manchester City-Aston Villa\n",
            "2024-04-06 Crystal Palace-Manchester City\n",
            "2024-04-13 Manchester City-Luton Town\n",
            "2024-04-25 Brighton-Manchester City\n",
            "2024-04-28 Nott'ham Forest-Manchester City\n",
            "2024-05-04 Manchester City-Wolves\n",
            "2024-05-11 Fulham-Manchester City\n",
            "2024-05-14 Tottenham-Manchester City\n",
            "2024-05-19 Manchester City-West Ham\n"
          ]
        }
      ]
    },
    {
      "cell_type": "code",
      "source": [
        "scaled_df.reset_index(drop=True, inplace=True)"
      ],
      "metadata": {
        "id": "9FQ7Vw4zbU1q"
      },
      "execution_count": 182,
      "outputs": []
    },
    {
      "cell_type": "code",
      "source": [
        "scaled_df.drop(['game', 'min'], axis=1, inplace=True)"
      ],
      "metadata": {
        "id": "rSLRDpMHbUzC"
      },
      "execution_count": 185,
      "outputs": []
    },
    {
      "cell_type": "code",
      "source": [
        "scaled_df.set_index('player', inplace=True)"
      ],
      "metadata": {
        "id": "fg5egGrMjtIi"
      },
      "execution_count": 187,
      "outputs": []
    },
    {
      "cell_type": "code",
      "source": [
        "from sklearn.cluster import KMeans\n",
        "elbow = {}\n",
        "for k in range(1, 20):\n",
        "  kmeans = KMeans(n_clusters=k, random_state=93)\n",
        "  kmeans.fit(scaled_df)\n",
        "  elbow[k] = kmeans.inertia_"
      ],
      "metadata": {
        "id": "4delMPBkjtFL"
      },
      "execution_count": 192,
      "outputs": []
    },
    {
      "cell_type": "code",
      "source": [
        "import matplotlib.pyplot as plt\n",
        "plt.plot(list(elbow.keys()), list(elbow.values()))\n",
        "plt.show()"
      ],
      "metadata": {
        "colab": {
          "base_uri": "https://localhost:8080/",
          "height": 430
        },
        "id": "BXD78RhIjtCl",
        "outputId": "7c823a07-57a5-4638-dbf3-8a814449f70a"
      },
      "execution_count": 193,
      "outputs": [
        {
          "output_type": "display_data",
          "data": {
            "text/plain": [
              "<Figure size 640x480 with 1 Axes>"
            ],
            "image/png": "[encoded data removed]"
          },
          "metadata": {}
        }
      ]
    },
    {
      "cell_type": "code",
      "source": [
        "from sklearn.decomposition import PCA\n",
        "pca = PCA(n_components=2)\n",
        "pca_data = pca.fit_transform(scaled_df)\n",
        "plt.scatter(x=pca_data[:,0], y=pca_data[:,1])\n",
        "plt.show()"
      ],
      "metadata": {
        "colab": {
          "base_uri": "https://localhost:8080/",
          "height": 430
        },
        "id": "w8IlxJGlkWFt",
        "outputId": "e816033b-fa7a-4f61-f1b3-08b0986d0cdf"
      },
      "execution_count": 203,
      "outputs": [
        {
          "output_type": "display_data",
          "data": {
            "text/plain": [
              "<Figure size 640x480 with 1 Axes>"
            ],
            "image/png": "[encoded data removed]"
          },
          "metadata": {}
        }
      ]
    },
    {
      "cell_type": "code",
      "source": [
        "import seaborn as sns"
      ],
      "metadata": {
        "id": "V7d1vRRGlXTL"
      },
      "execution_count": 208,
      "outputs": []
    },
    {
      "cell_type": "code",
      "source": [
        "scaled_df['pca_0'] = pca_data[:,0]\n",
        "scaled_df['pca_1'] = pca_data[:,1]\n",
        "sns.heatmap(scaled_df.corr(), cmap='coolwarm', vmin=-1)\n",
        "plt.show()"
      ],
      "metadata": {
        "colab": {
          "base_uri": "https://localhost:8080/",
          "height": 484
        },
        "id": "BiHQ2QV6kWAJ",
        "outputId": "af2e53b2-b467-4e43-aa5b-012f8b4e6bd8"
      },
      "execution_count": 214,
      "outputs": [
        {
          "output_type": "display_data",
          "data": {
            "text/plain": [
              "<Figure size 640x480 with 2 Axes>"
            ],
            "image/png": "[encoded data removed]"
          },
          "metadata": {}
        }
      ]
    },
    {
      "cell_type": "code",
      "source": [
        "k_means = KMeans(n_clusters=4, random_state=93)\n",
        "k_means.fit(scaled_df.iloc[:, :-2])\n",
        "scaled_df['cluster'] = k_means.predict(scaled_df.iloc[:, :-2])"
      ],
      "metadata": {
        "id": "DfJm8_5jjtAN"
      },
      "execution_count": 229,
      "outputs": []
    },
    {
      "cell_type": "code",
      "source": [
        "scaled_df[scaled_df['cluster']==0].reset_index().value_counts('player')"
      ],
      "metadata": {
        "colab": {
          "base_uri": "https://localhost:8080/",
          "height": 460
        },
        "id": "7ZwiICFSmWg1",
        "outputId": "4e947b67-479c-45a1-9f9a-a819cee0da56"
      },
      "execution_count": 233,
      "outputs": [
        {
          "output_type": "execute_result",
          "data": {
            "text/plain": [
              "player\n",
              "Rodri              32\n",
              "Rúben Dias         18\n",
              "Manuel Akanji      13\n",
              "Kyle Walker        10\n",
              "Joško Gvardiol      9\n",
              "Bernardo Silva      6\n",
              "Nathan Aké          6\n",
              "Mateo Kovačić       5\n",
              "John Stones         2\n",
              "Phil Foden          2\n",
              "Kevin De Bruyne     1\n",
              "Name: count, dtype: int64"
            ],
            "text/html": [
              "<div>\n",
              "<style scoped>\n",
              "    .dataframe tbody tr th:only-of-type {\n",
              "        vertical-align: middle;\n",
              "    }\n",
              "\n",
              "    .dataframe tbody tr th {\n",
              "        vertical-align: top;\n",
              "    }\n",
              "\n",
              "    .dataframe thead th {\n",
              "        text-align: right;\n",
              "    }\n",
              "</style>\n",
              "<table border=\"1\" class=\"dataframe\">\n",
              "  <thead>\n",
              "    <tr style=\"text-align: right;\">\n",
              "      <th></th>\n",
              "      <th>count</th>\n",
              "    </tr>\n",
              "    <tr>\n",
              "      <th>player</th>\n",
              "      <th></th>\n",
              "    </tr>\n",
              "  </thead>\n",
              "  <tbody>\n",
              "    <tr>\n",
              "      <th>Rodri</th>\n",
              "      <td>32</td>\n",
              "    </tr>\n",
              "    <tr>\n",
              "      <th>Rúben Dias</th>\n",
              "      <td>18</td>\n",
              "    </tr>\n",
              "    <tr>\n",
              "      <th>Manuel Akanji</th>\n",
              "      <td>13</td>\n",
              "    </tr>\n",
              "    <tr>\n",
              "      <th>Kyle Walker</th>\n",
              "      <td>10</td>\n",
              "    </tr>\n",
              "    <tr>\n",
              "      <th>Joško Gvardiol</th>\n",
              "      <td>9</td>\n",
              "    </tr>\n",
              "    <tr>\n",
              "      <th>Bernardo Silva</th>\n",
              "      <td>6</td>\n",
              "    </tr>\n",
              "    <tr>\n",
              "      <th>Nathan Aké</th>\n",
              "      <td>6</td>\n",
              "    </tr>\n",
              "    <tr>\n",
              "      <th>Mateo Kovačić</th>\n",
              "      <td>5</td>\n",
              "    </tr>\n",
              "    <tr>\n",
              "      <th>John Stones</th>\n",
              "      <td>2</td>\n",
              "    </tr>\n",
              "    <tr>\n",
              "      <th>Phil Foden</th>\n",
              "      <td>2</td>\n",
              "    </tr>\n",
              "    <tr>\n",
              "      <th>Kevin De Bruyne</th>\n",
              "      <td>1</td>\n",
              "    </tr>\n",
              "  </tbody>\n",
              "</table>\n",
              "</div><br><label><b>dtype:</b> int64</label>"
            ]
          },
          "metadata": {},
          "execution_count": 233
        }
      ]
    },
    {
      "cell_type": "code",
      "source": [],
      "metadata": {
        "id": "UB_6cBDemWdN"
      },
      "execution_count": null,
      "outputs": []
    },
    {
      "cell_type": "code",
      "source": [],
      "metadata": {
        "id": "TJkPp9tlmWa4"
      },
      "execution_count": null,
      "outputs": []
    },
    {
      "cell_type": "code",
      "source": [],
      "metadata": {
        "id": "kYoyt3VcmWYp"
      },
      "execution_count": null,
      "outputs": []
    },
    {
      "cell_type": "code",
      "source": [],
      "metadata": {
        "id": "Jg7Avv92mWWU"
      },
      "execution_count": null,
      "outputs": []
    }
  ]
}